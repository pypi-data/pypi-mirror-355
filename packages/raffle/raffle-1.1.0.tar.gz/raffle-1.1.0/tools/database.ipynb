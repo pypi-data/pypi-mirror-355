{
 "cells": [
  {
   "cell_type": "code",
   "execution_count": null,
   "metadata": {},
   "outputs": [],
   "source": [
    "#Imports MPRester\n",
    "# from mp_api.client import MPRester\n",
    "from ase import Atoms\n",
    "from ase.io import write, read\n",
    "from pymatgen.io.ase import AseAtomsAdaptor\n",
    "from pymatgen.ext.matproj import MPRester"
   ]
  },
  {
   "cell_type": "code",
   "execution_count": null,
   "metadata": {},
   "outputs": [],
   "source": [
    "# Personal api key for accessing materials project api\n",
    "# This is unique to each user\n",
    "# api_key = \"\""
   ]
  },
  {
   "cell_type": "code",
   "execution_count": null,
   "metadata": {},
   "outputs": [],
   "source": [
    "# Get the ID of materials from the materials project\n",
    "mpr = MPRester() # MPRester(api_key)\n",
    "materials = []\n",
    "\n",
    "materials.append(mpr.materials.summary.search(chemsys=\"C\", \n",
    "                            fields=[\"material_id\",\"structure\", \"energy_per_atom\", \"nsites\"]))\n",
    "materials.append(mpr.materials.summary.search(chemsys=\"Mg\", \n",
    "                            fields=[\"material_id\",\"structure\", \"energy_per_atom\", \"nsites\"]))\n",
    "materials.append(mpr.materials.summary.search(chemsys=\"O\", \n",
    "                            fields=[\"material_id\",\"structure\", \"energy_per_atom\", \"nsites\"]))\n",
    "materials.append(mpr.materials.summary.search(chemsys=\"C-Mg\", \n",
    "                            fields=[\"material_id\",\"structure\", \"energy_per_atom\", \"nsites\"]))\n",
    "materials.append(mpr.materials.summary.search(chemsys=\"C-O\", \n",
    "                            fields=[\"material_id\",\"structure\", \"energy_per_atom\", \"nsites\"]))\n",
    "materials.append(mpr.materials.summary.search(chemsys=\"Mg-O\", \n",
    "                            fields=[\"material_id\",\"structure\", \"energy_per_atom\", \"nsites\"]))"
   ]
  },
  {
   "cell_type": "code",
   "execution_count": null,
   "metadata": {},
   "outputs": [],
   "source": [
    "# Get the structures, energies, and number of sites for each material from the materials project\n",
    "structures = []\n",
    "energies = []\n",
    "nsites = []\n",
    "for material_set in materials:\n",
    "    for material in material_set:\n",
    "        material_id = material.material_id\n",
    "        structures.append(mpr.get_structure_by_material_id(material_id))\n",
    "        energies.append(material.energy_per_atom)\n",
    "        nsites.append(material.nsites)"
   ]
  },
  {
   "cell_type": "code",
   "execution_count": null,
   "metadata": {},
   "outputs": [],
   "source": [
    "# Convert the structures to atoms and write them to a single extended xyz file\n",
    "all_atoms = []\n",
    "for structure, energy, nsite in zip(structures, energies, nsites):\n",
    "    atom = AseAtomsAdaptor.get_atoms(structure)\n",
    "    atom.info['free_energy'] = energy * nsite\n",
    "    atom.info['energy'] = energy * nsite\n",
    "    all_atoms.append(atom)\n",
    "write(\"database.xyz\", all_atoms, format='extxyz')"
   ]
  }
 ],
 "metadata": {
  "kernelspec": {
   "display_name": "py3.11",
   "language": "python",
   "name": "python3"
  },
  "language_info": {
   "codemirror_mode": {
    "name": "ipython",
    "version": 3
   },
   "file_extension": ".py",
   "mimetype": "text/x-python",
   "name": "python",
   "nbconvert_exporter": "python",
   "pygments_lexer": "ipython3",
   "version": "3.11.8"
  }
 },
 "nbformat": 4,
 "nbformat_minor": 2
}
