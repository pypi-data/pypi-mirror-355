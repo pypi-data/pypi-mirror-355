{
 "cells": [
  {
   "cell_type": "code",
   "execution_count": null,
   "id": "2ec6fb4b",
   "metadata": {},
   "outputs": [],
   "source": [
    "import matplotlib.pyplot as plt\n",
    "%matplotlib inline\n",
    "\n",
    "from matplotlib.ticker import (MultipleLocator, AutoMinorLocator)\n",
    "## Set up the plotting environment\n",
    "# matplotlib.rcParams.update(matplotlib.rcParamsDefault)\n",
    "plt.rc('text', usetex=True)\n",
    "plt.rc('font', family='cmr10', size=12)\n",
    "plt.rcParams[\"axes.formatter.use_mathtext\"] = True"
   ]
  },
  {
   "cell_type": "code",
   "execution_count": null,
   "id": "775c730a",
   "metadata": {},
   "outputs": [],
   "source": [
    "system = 'ScS2-Li'\n",
    "filename = system+'_formations_comparison.txt'"
   ]
  },
  {
   "cell_type": "code",
   "execution_count": null,
   "id": "29be7a85",
   "metadata": {},
   "outputs": [],
   "source": [
    "# read data from file\n",
    "# format is:\n",
    "# # LABEL1 LABEL2 LABEL3\n",
    "# 0.0 0.1 0.2\n",
    "import pandas as pd\n",
    "# first line is a comment with labels\n",
    "data = pd.read_csv(filename, delim_whitespace=True, comment='#', skiprows=0, header=None)\n",
    "# first row is the labels\n",
    "labels = 'PBE', 'MACE-MPA-0', 'CHGNet'\n",
    "data.columns = labels\n",
    "# plot the data"
   ]
  },
  {
   "cell_type": "code",
   "execution_count": null,
   "id": "d0b5ab0f",
   "metadata": {},
   "outputs": [],
   "source": [
    "# view all rows in notebook\n",
    "pd.set_option('display.max_rows', 10)\n",
    "data"
   ]
  },
  {
   "cell_type": "code",
   "execution_count": null,
   "id": "4fae776b",
   "metadata": {},
   "outputs": [],
   "source": [
    "plt.figure(figsize=(6, 6))\n",
    "# add x=y line\n",
    "plt.scatter(data[labels[0]], data[labels[1]], s=100, edgecolor='black', facecolor=[150/255, 150/255, 225/255], alpha=0.8, linewidth=1, label=labels[1])#, markersize=10)\n",
    "plt.scatter(data[labels[0]], data[labels[2]], s=100, edgecolor='black', facecolor=[0, 100/255, 0], alpha=0.8, linewidth=1, label=labels[2])\n",
    "plt.plot([-1, 10], [-1, 10], color='black', linestyle='--', linewidth=1, label='$E_\\mathrm{PBE} = E_\\mathrm{MLIP}$')\n",
    "plt.xlabel('PBE formation energy (eV/atom)', fontsize=20)\n",
    "plt.ylabel('MLIP formation energy (eV/atom)', fontsize=20)\n",
    "\n",
    "# have the ticks point intwards and on both sides\n",
    "plt.tick_params(axis='both', which='major', direction='in', length=10, width=1)\n",
    "plt.tick_params(axis='both', which='minor', direction='in', length=5, width=1)\n",
    "plt.tick_params(axis='x', which='both', bottom=True, top=True)\n",
    "plt.tick_params(axis='y', which='both', left=True, right=True)\n",
    "# increase fontsize of tick labels\n",
    "plt.tick_params(axis='both', which='major', labelsize=16)\n",
    "\n",
    "# limits\n",
    "if system == 'C':\n",
    "    plt.xlim(-0.4, 7.0)\n",
    "    plt.ylim(-0.4, 7.0)\n",
    "    plt.gca().xaxis.set_major_locator(MultipleLocator(2))\n",
    "    plt.gca().yaxis.set_major_locator(MultipleLocator(2))\n",
    "    plt.gca().xaxis.set_minor_locator(AutoMinorLocator(2))\n",
    "    plt.gca().yaxis.set_minor_locator(AutoMinorLocator(2))\n",
    "elif system == 'Al':\n",
    "    plt.xlim(-0.2, 4.0)\n",
    "    plt.ylim(-0.2, 4.0)\n",
    "    plt.gca().xaxis.set_major_locator(MultipleLocator(2))\n",
    "    plt.gca().yaxis.set_major_locator(MultipleLocator(2))\n",
    "    plt.gca().xaxis.set_minor_locator(AutoMinorLocator(2))\n",
    "    plt.gca().yaxis.set_minor_locator(AutoMinorLocator(2))\n",
    "elif system == 'MoS2':\n",
    "    plt.xlim(-0.2, 1.2)\n",
    "    plt.ylim(-0.2, 1.2)\n",
    "    plt.gca().xaxis.set_major_locator(MultipleLocator(0.5))\n",
    "    plt.gca().yaxis.set_major_locator(MultipleLocator(0.5))\n",
    "    plt.gca().xaxis.set_minor_locator(AutoMinorLocator(2))\n",
    "    plt.gca().yaxis.set_minor_locator(AutoMinorLocator(2))\n",
    "elif system == 'ScS2-Li':\n",
    "    plt.xlim(-0.2, 8)\n",
    "    plt.ylim(-0.2, 8)\n",
    "    plt.gca().xaxis.set_major_locator(MultipleLocator(2))\n",
    "    plt.gca().yaxis.set_major_locator(MultipleLocator(2))\n",
    "    plt.gca().xaxis.set_minor_locator(AutoMinorLocator(2))\n",
    "    plt.gca().yaxis.set_minor_locator(AutoMinorLocator(2))\n",
    "elif system == 'Si-Ge':\n",
    "    plt.xlim(-0.2, 0.6)\n",
    "    plt.ylim(-0.2, 0.6)\n",
    "    plt.gca().xaxis.set_major_locator(MultipleLocator(0.2))\n",
    "    plt.gca().yaxis.set_major_locator(MultipleLocator(0.2))\n",
    "    plt.gca().xaxis.set_minor_locator(AutoMinorLocator(2))\n",
    "    plt.gca().yaxis.set_minor_locator(AutoMinorLocator(2))\n",
    "\n",
    "# increase legend size and make background opaque\n",
    "#plt.legend(fontsize=16, loc='upper left', framealpha=1.0, edgecolor='black', facecolor='white')\n",
    "# handles, labels = plt.get_legend_handles_labels()\n",
    "# get the handles and labels in reverse order\n",
    "legend_handles, legend_labels = plt.gca().get_legend_handles_labels()\n",
    "plt.legend(legend_handles[::-1], legend_labels[::-1], facecolor='white', framealpha=1.0, edgecolor='black', fancybox=False, loc='upper left', fontsize=16, handletextpad=0.1)\n",
    "# plt.grid()\n",
    "plt.tight_layout()\n",
    "# save the figure\n",
    "plt.savefig(system+'_comparison.pdf', bbox_inches='tight', pad_inches=0, facecolor=plt.gca().get_facecolor(), edgecolor='none')"
   ]
  },
  {
   "cell_type": "code",
   "execution_count": null,
   "id": "baf07c2a",
   "metadata": {},
   "outputs": [],
   "source": []
  }
 ],
 "metadata": {
  "kernelspec": {
   "display_name": "raffle_env",
   "language": "python",
   "name": "python3"
  },
  "language_info": {
   "codemirror_mode": {
    "name": "ipython",
    "version": 3
   },
   "file_extension": ".py",
   "mimetype": "text/x-python",
   "name": "python",
   "nbconvert_exporter": "python",
   "pygments_lexer": "ipython3",
   "version": "3.12.2"
  }
 },
 "nbformat": 4,
 "nbformat_minor": 5
}
