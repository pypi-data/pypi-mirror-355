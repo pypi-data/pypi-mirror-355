{
 "cells": [
  {
   "cell_type": "code",
   "execution_count": null,
   "metadata": {},
   "outputs": [],
   "source": [
    "import numpy as np\n",
    "from copy import deepcopy\n",
    "from ase import Atoms\n",
    "from ase.io import read\n",
    "from ase.build import bulk\n",
    "from raffle.generator import raffle_generator\n",
    "from chgnet.model import CHGNetCalculator"
   ]
  },
  {
   "cell_type": "code",
   "execution_count": null,
   "metadata": {},
   "outputs": [],
   "source": [
    "calc = CHGNetCalculator()"
   ]
  },
  {
   "cell_type": "code",
   "execution_count": null,
   "metadata": {},
   "outputs": [],
   "source": [
    "diamond = bulk('C', 'diamond', a=3.567)\n",
    "diamond.calc = calc\n",
    "\n",
    "graphite = Atoms(\n",
    "  'C4',\n",
    "  cell = [\n",
    "    [0.0, 4.25464061444508, 0.0], \n",
    "    [2.45656488, 0.0, 0.0], \n",
    "    [0.0, -1.379069630931066, -3.5028300786042923]\n",
    "  ],\n",
    "  positions = [\n",
    "    [ 0.00000000e+00, -6.69928992e-01, -3.50250418e+00],\n",
    "    [ 0.00000000e+00,  3.54549998e+00, -3.25903311e-04],\n",
    "    [ 1.22828244e+00,  1.45739132e+00, -3.50250418e+00],\n",
    "    [ 1.22828244e+00,  1.41817967e+00, -3.25903311e-04]\n",
    "  ],\n",
    "  pbc = True,\n",
    "  calculator = calc\n",
    ")"
   ]
  },
  {
   "cell_type": "code",
   "execution_count": null,
   "metadata": {},
   "outputs": [],
   "source": [
    "print(\"Diamond energy per atom: \", diamond.get_potential_energy() / len(diamond))\n",
    "print(\"Graphite energy per atom: \", graphite.get_potential_energy() / len(graphite))\n",
    "print(\"Difference in energies per atom: \", graphite.get_potential_energy()/ len(graphite) - diamond.get_potential_energy() / len(diamond))"
   ]
  },
  {
   "cell_type": "code",
   "execution_count": null,
   "metadata": {},
   "outputs": [],
   "source": [
    "generator = raffle_generator()\n",
    "generator.distributions.set_element_energies({'C': 0.0})\n",
    "generator.distributions.set_kBT(0.4)\n",
    "generator.distributions.set_width([0.025, np.pi/200.0, np.pi/200.0])"
   ]
  },
  {
   "cell_type": "code",
   "execution_count": null,
   "metadata": {},
   "outputs": [],
   "source": [
    "diamond_generator = raffle_generator()\n",
    "diamond_generator.distributions.set_element_energies({'C': 0.0})\n",
    "diamond_generator.distributions.set_kBT(0.4)\n",
    "diamond_generator.distributions.set_width([0.025, np.pi/200.0, np.pi/200.0])"
   ]
  },
  {
   "cell_type": "code",
   "execution_count": null,
   "metadata": {},
   "outputs": [],
   "source": [
    "graphite_generator = raffle_generator()\n",
    "graphite_generator.distributions.set_element_energies({'C': 0.0})\n",
    "graphite_generator.distributions.set_kBT(0.4)\n",
    "graphite_generator.distributions.set_width([0.025, np.pi/200.0, np.pi/200.0])"
   ]
  },
  {
   "cell_type": "code",
   "execution_count": null,
   "metadata": {},
   "outputs": [],
   "source": [
    "diamond_generator.distributions.create([diamond])\n",
    "graphite_generator.distributions.create([graphite])\n",
    "generator.distributions.create([diamond, graphite])"
   ]
  },
  {
   "cell_type": "code",
   "execution_count": null,
   "metadata": {},
   "outputs": [],
   "source": [
    "diamond_generator.distributions.write_gdfs(file='diamond_gdfs.dat')\n",
    "graphite_generator.distributions.write_gdfs(file='graphite_gdfs.dat')\n",
    "generator.distributions.write_gdfs(file='combined_gdfs.dat')"
   ]
  },
  {
   "cell_type": "code",
   "execution_count": null,
   "metadata": {},
   "outputs": [],
   "source": []
  }
 ],
 "metadata": {
  "kernelspec": {
   "display_name": "raffle_env",
   "language": "python",
   "name": "python3"
  },
  "language_info": {
   "codemirror_mode": {
    "name": "ipython",
    "version": 3
   },
   "file_extension": ".py",
   "mimetype": "text/x-python",
   "name": "python",
   "nbconvert_exporter": "python",
   "pygments_lexer": "ipython3",
   "version": "3.12.8"
  }
 },
 "nbformat": 4,
 "nbformat_minor": 2
}
