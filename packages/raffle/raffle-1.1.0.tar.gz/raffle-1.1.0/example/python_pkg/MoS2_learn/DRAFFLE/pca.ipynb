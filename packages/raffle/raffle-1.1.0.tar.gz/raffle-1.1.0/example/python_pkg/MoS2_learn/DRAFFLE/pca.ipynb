{
 "cells": [
  {
   "cell_type": "code",
   "execution_count": null,
   "metadata": {},
   "outputs": [],
   "source": [
    "import matplotlib.pyplot as plt\n",
    "%matplotlib inline\n",
    "\n",
    "# matplotlib.use(\"Agg\")\n",
    "\n",
    "from ase.io import read\n",
    "from agox.databases import Database\n",
    "from agox.environments import Environment\n",
    "from agox.utils.graph_sorting import Analysis\n",
    "\n",
    "import numpy as np\n",
    "from sklearn.decomposition import PCA\n",
    "from matplotlib.ticker import (MultipleLocator, AutoMinorLocator)"
   ]
  },
  {
   "cell_type": "code",
   "execution_count": null,
   "metadata": {},
   "outputs": [],
   "source": [
    "## Set up the plotting environment\n",
    "# matplotlib.rcParams.update(matplotlib.rcParamsDefault)\n",
    "plt.rc('text', usetex=True)\n",
    "plt.rc('font', family='cmr10', size=12)\n",
    "plt.rcParams[\"axes.formatter.use_mathtext\"] = True"
   ]
  },
  {
   "cell_type": "code",
   "execution_count": null,
   "metadata": {},
   "outputs": [],
   "source": [
    "## Set the plotting parameters\n",
    "seed = 0\n",
    "identifier = \"\"\n",
    "output_directory_prefix = \"DOutput\"\n",
    "# min_energy = -"
   ]
  },
  {
   "cell_type": "code",
   "execution_count": null,
   "metadata": {},
   "outputs": [],
   "source": [
    "## Set the descriptors\n",
    "from agox.models.descriptors.fingerprint import Fingerprint\n",
    "# from agox.models.descriptors import Voronoi\n",
    "\n",
    "template = read(output_directory_prefix+identifier+\"/unrlxd_structures_seed0.traj\")\n",
    "# diamond = bulk(\"C\", \"diamond\", a=3.567)  # Lattice constant for diamond cubic carbon\n",
    "confinement_cell = template.cell.copy()\n",
    "confinement_corner = np.array([0, 0, 0])\n",
    "environment = Environment(\n",
    "    template=template,\n",
    "    symbols=\"\",\n",
    "    confinement_cell=confinement_cell,\n",
    "    confinement_corner=confinement_corner,\n",
    "    box_constraint_pbc=[True, True, True],  # Confinement is periodic in all directions.\n",
    ")\n",
    "descriptor = Fingerprint(environment=environment)\n",
    "# graph_descriptor = Voronoi(\n",
    "#     covalent_bond_scale_factor=1.3, n_points=8, angle_from_central_atom=20, environment=None\n",
    "# )\n"
   ]
  },
  {
   "cell_type": "code",
   "execution_count": null,
   "metadata": {},
   "outputs": [],
   "source": [
    "## Set the calculators\n",
    "from dftd4.ase import DFTD4\n",
    "from chgnet.model import CHGNetCalculator\n",
    "calc = CHGNetCalculator()\n",
    "# from ase.calculators.mixing import SumCalculator\n",
    "# calc = SumCalculator( [ DFTD4(method='PBE'), CHGNetCalculator() ] )\n",
    "# from mace.calculators import mace_mp\n",
    "# calc = mace_mp(model=\"medium\", dispersion=True)"
   ]
  },
  {
   "cell_type": "code",
   "execution_count": null,
   "metadata": {},
   "outputs": [],
   "source": [
    "## Load the unrelaxed structures\n",
    "unrlxd_structures = read(output_directory_prefix+identifier+\"/unrlxd_structures_seed\"+str(seed)+\".traj\", index=\":\")"
   ]
  },
  {
   "cell_type": "code",
   "execution_count": null,
   "metadata": {},
   "outputs": [],
   "source": [
    "## Load the relaxed structures\n",
    "rlxd_structures = read(output_directory_prefix+identifier+\"/rlxd_structures_seed\"+str(seed)+\".traj\", index=\":\")"
   ]
  },
  {
   "cell_type": "code",
   "execution_count": null,
   "metadata": {},
   "outputs": [],
   "source": [
    "## Get MoS2 H-phase and T-phase and attach calculator and calculate energy\n",
    "H_phase = read(\"../MoS2_H-phase.poscar\")\n",
    "H_phase.set_cell(rlxd_structures[0].get_cell())\n",
    "H_phase.calc = calc\n",
    "T_phase = read(\"../MoS2_T-phase.poscar\")\n",
    "T_phase.set_cell(rlxd_structures[0].get_cell())\n",
    "T_phase.calc = calc\n",
    "energies_per_atom = [H_phase.get_potential_energy() / len(H_phase), T_phase.get_potential_energy() / len(T_phase)]\n",
    "min_energy = np.min(energies_per_atom)\n",
    "print(\"H/T-phase min energy: \", min_energy)"
   ]
  },
  {
   "cell_type": "code",
   "execution_count": null,
   "metadata": {},
   "outputs": [],
   "source": [
    "## Calculate energies per atom for each unrelaxed structure\n",
    "energies_per_atom = [structure.get_potential_energy() / len(structure) for structure in unrlxd_structures]\n",
    "unrlxd_delta_en_per_atom = np.array(energies_per_atom) - min_energy\n",
    "print(\"Unrelaxed min energy: \", np.min(energies_per_atom))"
   ]
  },
  {
   "cell_type": "code",
   "execution_count": null,
   "metadata": {},
   "outputs": [],
   "source": [
    "## Calculate energies per atom for each relaxed structure\n",
    "energies_per_atom = [structure.get_potential_energy() / len(structure) for structure in rlxd_structures]\n",
    "rlxd_delta_en_per_atom = np.array(energies_per_atom) - min_energy\n",
    "print(\"Relaxed min energy: \", np.min(energies_per_atom))"
   ]
  },
  {
   "cell_type": "code",
   "execution_count": null,
   "metadata": {},
   "outputs": [],
   "source": [
    "print(\"H-phase cell:\", read(\"../MoS2_H-phase.poscar\").get_cell())\n",
    "print(\"T-phase cell:\", read(\"../MoS2_T-phase.poscar\").get_cell())\n",
    "print(\"Unrelaxed cell:\", unrlxd_structures[0].get_cell())\n",
    "print(\"Relaxed cell:\", rlxd_structures[0].get_cell())"
   ]
  },
  {
   "cell_type": "code",
   "execution_count": null,
   "metadata": {},
   "outputs": [],
   "source": [
    "if abs( np.min(energies_per_atom) - min_energy ) > 5e-2:\n",
    "  print(\"Minimum energy per atom is not zero. Check the energy calculation.\")"
   ]
  },
  {
   "cell_type": "code",
   "execution_count": null,
   "metadata": {},
   "outputs": [],
   "source": [
    "# print the min, max, mean, and std of the relaxed energies\n",
    "print(\"Relaxed energies per atom: min = {:.2f}, max = {:.2f}, mean = {:.2f}, std = {:.2f}\".format(\n",
    "    np.min(rlxd_delta_en_per_atom), np.max(rlxd_delta_en_per_atom), \n",
    "    np.mean(rlxd_delta_en_per_atom), np.std(rlxd_delta_en_per_atom)))\n",
    "# plot in latex table format\n",
    "print(\"MoS$_2$ search & {:.2f} & {:.2f} & {:.2f} & {:.2f} \\\\\\\\\".format(\n",
    "    np.min(rlxd_delta_en_per_atom), np.max(rlxd_delta_en_per_atom), \n",
    "    np.mean(rlxd_delta_en_per_atom), np.std(rlxd_delta_en_per_atom)))"
   ]
  },
  {
   "cell_type": "code",
   "execution_count": null,
   "metadata": {},
   "outputs": [],
   "source": [
    "## Set up the PCA\n",
    "pca = PCA(n_components=2)"
   ]
  },
  {
   "cell_type": "code",
   "execution_count": null,
   "metadata": {},
   "outputs": [],
   "source": [
    "## Fit the PCA model to the unrelaxed or relaxed structures\n",
    "rlxd_string = \"rlxd\""
   ]
  },
  {
   "cell_type": "code",
   "execution_count": null,
   "metadata": {},
   "outputs": [],
   "source": [
    "## Save pca model\n",
    "import pickle\n",
    "if False:\n",
    "  pca.fit(np.squeeze([arr for arr in descriptor.get_features(rlxd_structures + [H_phase, T_phase])]))\n",
    "  with open(\"pca_model\"+identifier+\"_all_rlxd_\"+str(seed)+\".pkl\", \"wb\") as f:\n",
    "#   pca.fit(np.squeeze([arr for arr in descriptor.get_features(rlxd_structures + [H_phase] + [T_phase])]))\n",
    "#   with open(\"pca_model\"+identifier+\"_all_rlxd_\"+str(seed)+\".pkl\", \"wb\") as f:\n",
    "    pickle.dump(pca, f)\n",
    "\n",
    "## Load pca model\n",
    "with open(\"pca_model_all_\"+rlxd_string+\"_0.pkl\", \"rb\") as f:\n",
    "  pca = pickle.load(f)"
   ]
  },
  {
   "cell_type": "code",
   "execution_count": null,
   "metadata": {},
   "outputs": [],
   "source": [
    "## Transform the unrelaxed and relaxed structures to the reduced space\n",
    "unrlxd_X_reduced = pca.transform(np.squeeze([arr for arr in descriptor.get_features(unrlxd_structures)]))\n",
    "rlxd_X_reduced = pca.transform(np.squeeze([arr for arr in descriptor.get_features(rlxd_structures)])) # + [H_phase] + [T_phase])]))\n",
    "H_phase_X_reduced = pca.transform(descriptor.get_features(H_phase))\n",
    "T_phase_X_reduced = pca.transform(descriptor.get_features(T_phase))"
   ]
  },
  {
   "cell_type": "code",
   "execution_count": null,
   "metadata": {},
   "outputs": [],
   "source": [
    "## Get the index of the structure with the minimum energy\n",
    "min_energy_index = np.argmin(rlxd_delta_en_per_atom)\n",
    "print(min_energy_index)"
   ]
  },
  {
   "cell_type": "code",
   "execution_count": null,
   "metadata": {},
   "outputs": [],
   "source": [
    "## Plot the PCA\n",
    "fig, axes = plt.subplots(nrows=1, ncols=2, figsize=(8, 6))\n",
    "\n",
    "plt.subplots_adjust(wspace=0.05, hspace=0)\n",
    "\n",
    "## Get the maximum energy for the colourbar\n",
    "max_en = min(3, max(np.max(unrlxd_delta_en_per_atom), np.max(rlxd_delta_en_per_atom)))\n",
    "\n",
    "## Plot the PCA\n",
    "axes[0].scatter(unrlxd_X_reduced[:, 0], unrlxd_X_reduced[:, 1], c=unrlxd_delta_en_per_atom, cmap=\"viridis\", vmin = 0, vmax = max_en)\n",
    "axes[1].scatter(rlxd_X_reduced[:, 0], rlxd_X_reduced[:, 1], c=rlxd_delta_en_per_atom, cmap=\"viridis\", vmin = 0, vmax = max_en)\n",
    "\n",
    "## Add the minimum energy structures to the plot\n",
    "for ax in axes:\n",
    "    ax.scatter(T_phase_X_reduced[0,0], T_phase_X_reduced[0,1], s=200, edgecolor=[1.0, 0.5, 0.5, 0.8], facecolor='none', linewidth=2, label='T-phase')\n",
    "    ax.scatter(H_phase_X_reduced[0,0], H_phase_X_reduced[0,1], s=200, edgecolor='red', facecolor='none', linewidth=2, label='H-phase')\n",
    "    if ax == axes[1]:\n",
    "        ax.legend(fontsize=10)\n",
    "        handles, labels = ax.get_legend_handles_labels()\n",
    "        ax.legend(handles[::-1], labels[::-1], facecolor='white', framealpha=1.0, edgecolor='black', fancybox=False, loc='upper right', fontsize=20, handletextpad=0.1)\n",
    "\n",
    "## Add labels\n",
    "fig.text(0.5, 0.0, 'Principal component 1', ha='center', fontsize=20)\n",
    "axes[0].set_ylabel('Principal component 2', fontsize=20)\n",
    "axes[0].set_title('Unrelaxed', fontsize=20)\n",
    "axes[1].set_title('Relaxed', fontsize=20)\n",
    "if rlxd_string == \"rlxd\":\n",
    "    xlims = [-25, 15]\n",
    "    ylims = [-6, 20]\n",
    "else:\n",
    "    xlims = [-10, 39]\n",
    "    ylims = [-3, 30]\n",
    "\n",
    "for ax in axes:\n",
    "    # ax.set_xticks(np.arange(xlims[0], xlims[1]+1, 5), minor=True)\n",
    "    ax.tick_params(axis='both', direction='in', length=6, labelsize=20)\n",
    "    # ax.yaxis.set_major_locator(MultipleLocator(3))\n",
    "    ax.yaxis.set_minor_locator(AutoMinorLocator(2))\n",
    "    ax.xaxis.set_minor_locator(AutoMinorLocator(2))\n",
    "    ax.tick_params(axis='both', which='minor', length=3, direction='in')\n",
    "    ax.set_xlim(xlims)\n",
    "    ax.set_ylim(ylims)\n",
    "\n",
    "## Unify tick labels\n",
    "xticks = axes[0].get_xticks()\n",
    "xticks = xticks[(xticks >= xlims[0]) & (xticks <= xlims[1])]\n",
    "xticklabels = [ text for text in axes[0].get_xticklabels() if float(text.get_position()[0]) >= xlims[0] and float(text.get_position()[0]) <= xlims[1] ]\n",
    "axes[0].set_xticks(xticks)\n",
    "axes[1].set_xticks(xticks)\n",
    "axes[1].set_xticklabels(xticklabels)\n",
    "axes[1].set_yticklabels([])\n",
    "axes[0].tick_params(axis='x', labelbottom=True, top=True)\n",
    "axes[1].tick_params(axis='x', labelbottom=True, top=True)\n",
    "axes[0].tick_params(axis='y', labelbottom=True, right=True)\n",
    "axes[1].tick_params(axis='y', labelbottom=True, right=True)\n",
    "\n",
    "## Make axes[0] and axes[1] the same width\n",
    "axes[0].set_box_aspect(1.7)\n",
    "axes[1].set_box_aspect(1.7)\n",
    "\n",
    "## Add colorbar next to the axes\n",
    "cbar = fig.colorbar(axes[1].collections[0], ax=axes, orientation='vertical', fraction=0.085, pad=0.02)\n",
    "cbar.ax.tick_params(labelsize=20)\n",
    "cbar.ax.yaxis.set_major_locator(MultipleLocator(1))\n",
    "cbar.ax.yaxis.set_minor_locator(AutoMinorLocator(2))\n",
    "cbar.set_label('Formation energy (eV/atom)', fontsize=20)\n",
    "\n",
    "## Save the figure\n",
    "plt.savefig('MoS2_RAFFLE'+identifier+'_pca_'+rlxd_string+'_fit_seed'+str(seed)+'.pdf', bbox_inches='tight', pad_inches=0, facecolor=fig.get_facecolor(), edgecolor='none')"
   ]
  },
  {
   "cell_type": "code",
   "execution_count": null,
   "metadata": {},
   "outputs": [],
   "source": [
    "from raffle.generator import raffle_generator\n",
    "\n",
    "generator = raffle_generator()\n",
    "generator.distributions.read_gdfs( output_directory_prefix+identifier+\"/gdfs_seed\"+str(seed)+\".txt\" )\n",
    "descriptor = generator.get_descriptor()\n",
    "\n",
    "# Create a figure with 3 subplots side by side\n",
    "fig, axes = plt.subplots(1, 3, figsize=(18, 5))\n",
    "\n",
    "# Plot for each n-body descriptor (2-body, 3-body, 4-body)\n",
    "colours = [ 'black', 'red', 'blue' ]\n",
    "labels_2body = [ 'Mo-Mo', 'Mo-S', 'S-S' ]\n",
    "labels_3body = [ 'Mo', 'S' ]\n",
    "for j in range(3):\n",
    "    # Calculate x-axis values\n",
    "    x = np.arange(generator.distributions.cutoff_min[j],\n",
    "                generator.distributions.cutoff_max[j] + generator.distributions.width[j],\n",
    "                generator.distributions.width[j])\n",
    "\n",
    "    if j == 0:\n",
    "        labels = labels_2body\n",
    "    else:\n",
    "        labels = labels_3body\n",
    "    # Plot on the respective subplot\n",
    "    for idx in range(len(descriptor[j])):\n",
    "        axes[j].plot(x, descriptor[j][idx,:],\n",
    "                     color=colours[idx],\n",
    "                    label=labels[idx],\n",
    "        )\n",
    "\n",
    "    # Set labels and title for each subplot\n",
    "    # axes[j].set_ylabel('Descriptor value')\n",
    "    # axes[j].set_title(f'{j+2}-body descriptor')\n",
    "\n",
    "# set the legend font size\n",
    "for ax in axes:\n",
    "    for label in (ax.get_xticklabels() + ax.get_yticklabels()):\n",
    "        label.set_fontsize(16)\n",
    "    ax.legend(fontsize=16, loc='upper right', framealpha=0.5, edgecolor='black', facecolor='white', handletextpad=0.1)\n",
    "\n",
    "axes[0].set_ylabel('Distribution function (arb. units)', fontsize=20)\n",
    "axes[0].set_xlabel('Bond length (Å)', fontsize=20)\n",
    "axes[1].set_xlabel('3-body angle (radians)', fontsize=20)\n",
    "axes[2].set_xlabel('4-body angle (radians)', fontsize=20)\n",
    "axes[0].set_xlim(0, 6)\n",
    "axes[1].set_xlim(0, np.pi)\n",
    "axes[2].set_xlim(0, np.pi)\n",
    "\n",
    "axes[0].set_ylim(0, None)\n",
    "axes[1].set_ylim(0, 1.0)\n",
    "axes[2].set_ylim(0, 1.0)\n",
    "\n",
    "# reduce number of ticks to five at most\n",
    "axes[0].xaxis.set_major_locator(plt.MaxNLocator(3))\n",
    "axes[0].yaxis.set_major_locator(plt.MaxNLocator(3))\n",
    "\n",
    "# set x ticks to 0, 1, 2, 3\n",
    "axes[1].set_xticks([0, 1, 2, 3])\n",
    "axes[2].set_xticks([0, 1, 2, 3])\n",
    "# axes[1].set_yticks([0, 0.1, 0.2])\n",
    "# axes[2].set_yticks([0, 0.05, 0.1])\n",
    "\n",
    "# have the ticks point intwards and on both sides\n",
    "for ax in axes:\n",
    "    ax.tick_params(axis='both', which='major', direction='in', length=10, width=1)\n",
    "    ax.tick_params(axis='both', which='minor', direction='in', length=5, width=1)\n",
    "    ax.tick_params(axis='x', which='both', bottom=True, top=True)\n",
    "    ax.tick_params(axis='y', which='both', left=True, right=True)\n",
    "\n",
    "axes[1].yaxis.set_major_locator(MultipleLocator(0.5))\n",
    "axes[2].yaxis.set_major_locator(MultipleLocator(0.5))\n",
    "# add minor ticks to all axes\n",
    "for ax in axes:\n",
    "    ax.xaxis.set_minor_locator(AutoMinorLocator(2))\n",
    "    ax.yaxis.set_minor_locator(AutoMinorLocator(2))\n",
    "    \n",
    "\n",
    "\n",
    "# axes[0].set_xlabel('Distance (Å)')\n",
    "# axes[1].set_xlabel('3-body angle (radians)')\n",
    "# axes[2].set_xlabel('Improper dihedral angle (radians)')\n",
    "# plt.tight_layout()\n",
    "# plt.show()\n",
    "\n",
    "# get figures closer together\n",
    "plt.subplots_adjust(wspace=0.1, hspace=0)\n",
    "# remove labels for y axis for the second and third plots\n",
    "\n",
    "plt.savefig('MoS2_RAFFLE'+identifier+'_gen_descriptor_rlxd_seed'+str(seed)+'.pdf', bbox_inches='tight', pad_inches=0, facecolor=fig.get_facecolor(), edgecolor='none')\n"
   ]
  },
  {
   "cell_type": "code",
   "execution_count": null,
   "metadata": {},
   "outputs": [],
   "source": []
  }
 ],
 "metadata": {
  "kernelspec": {
   "display_name": "raffle_env",
   "language": "python",
   "name": "python3"
  },
  "language_info": {
   "codemirror_mode": {
    "name": "ipython",
    "version": 3
   },
   "file_extension": ".py",
   "mimetype": "text/x-python",
   "name": "python",
   "nbconvert_exporter": "python",
   "pygments_lexer": "ipython3",
   "version": "3.12.2"
  }
 },
 "nbformat": 4,
 "nbformat_minor": 2
}
