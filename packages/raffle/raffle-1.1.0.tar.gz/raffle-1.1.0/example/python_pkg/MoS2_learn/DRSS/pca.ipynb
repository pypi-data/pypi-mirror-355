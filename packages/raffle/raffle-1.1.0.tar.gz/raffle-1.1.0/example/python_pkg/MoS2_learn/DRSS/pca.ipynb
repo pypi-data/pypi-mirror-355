{
 "cells": [
  {
   "cell_type": "code",
   "execution_count": null,
   "metadata": {},
   "outputs": [],
   "source": [
    "import matplotlib.pyplot as plt\n",
    "%matplotlib inline\n",
    "\n",
    "# matplotlib.use(\"Agg\")\n",
    "\n",
    "from ase.io import read\n",
    "from agox.databases import Database\n",
    "from agox.environments import Environment\n",
    "from agox.utils.graph_sorting import Analysis\n",
    "\n",
    "import numpy as np\n",
    "from sklearn.decomposition import PCA\n",
    "from matplotlib.ticker import (MultipleLocator, AutoMinorLocator)"
   ]
  },
  {
   "cell_type": "code",
   "execution_count": null,
   "metadata": {},
   "outputs": [],
   "source": [
    "## Set up the plotting environment\n",
    "# matplotlib.rcParams.update(matplotlib.rcParamsDefault)\n",
    "plt.rc('text', usetex=True)\n",
    "plt.rc('font', family='cmr10', size=12)\n",
    "plt.rcParams[\"axes.formatter.use_mathtext\"] = True"
   ]
  },
  {
   "cell_type": "code",
   "execution_count": null,
   "metadata": {},
   "outputs": [],
   "source": [
    "## Set the plotting parameters\n",
    "seed = 0\n",
    "identifier = \"\"\n",
    "output_directory_prefix = \"DOutput\"\n",
    "# min_energy = -"
   ]
  },
  {
   "cell_type": "code",
   "execution_count": null,
   "metadata": {},
   "outputs": [],
   "source": [
    "## Set the descriptors\n",
    "from agox.models.descriptors.fingerprint import Fingerprint\n",
    "# from agox.models.descriptors import Voronoi\n",
    "\n",
    "template = read(output_directory_prefix+identifier+\"/unrlxd_structures_seed0.traj\")\n",
    "# diamond = bulk(\"C\", \"diamond\", a=3.567)  # Lattice constant for diamond cubic carbon\n",
    "confinement_cell = template.cell.copy()\n",
    "confinement_corner = np.array([0, 0, 0])\n",
    "environment = Environment(\n",
    "    template=template,\n",
    "    symbols=\"\",\n",
    "    confinement_cell=confinement_cell,\n",
    "    confinement_corner=confinement_corner,\n",
    "    box_constraint_pbc=[True, True, True],  # Confinement is periodic in all directions.\n",
    ")\n",
    "descriptor = Fingerprint(environment=environment)\n",
    "# graph_descriptor = Voronoi(\n",
    "#     covalent_bond_scale_factor=1.3, n_points=8, angle_from_central_atom=20, environment=None\n",
    "# )\n"
   ]
  },
  {
   "cell_type": "code",
   "execution_count": null,
   "metadata": {},
   "outputs": [],
   "source": [
    "## Set the calculators\n",
    "from chgnet.model import CHGNetCalculator\n",
    "from ase.calculators.singlepoint import SinglePointCalculator\n",
    "calc = CHGNetCalculator()"
   ]
  },
  {
   "cell_type": "code",
   "execution_count": null,
   "metadata": {},
   "outputs": [],
   "source": [
    "## Load the unrelaxed structures\n",
    "unrlxd_structures = read(output_directory_prefix+identifier+\"/unrlxd_structures_seed\"+str(seed)+\".traj\", index=\":\")\n",
    "for structure in unrlxd_structures:\n",
    "  structure.calc = calc"
   ]
  },
  {
   "cell_type": "code",
   "execution_count": null,
   "metadata": {},
   "outputs": [],
   "source": [
    "## Load the relaxed structures\n",
    "rlxd_structures = read(output_directory_prefix+identifier+\"/rlxd_structures_seed\"+str(seed)+\".traj\", index=\":\")\n",
    "for structure in rlxd_structures:\n",
    "  structure.calc = calc"
   ]
  },
  {
   "cell_type": "code",
   "execution_count": null,
   "metadata": {},
   "outputs": [],
   "source": [
    "## Get MoS2 H-phase and T-phase and attach calculator and calculate energy\n",
    "H_phase = read(\"../MoS2_H-phase.poscar\")\n",
    "H_phase.set_cell(rlxd_structures[0].get_cell())\n",
    "H_phase.calc = calc\n",
    "T_phase = read(\"../MoS2_T-phase.poscar\")\n",
    "T_phase.set_cell(rlxd_structures[0].get_cell())\n",
    "T_phase.calc = calc\n",
    "energies_per_atom = [H_phase.get_potential_energy() / len(H_phase), T_phase.get_potential_energy() / len(T_phase)]\n",
    "min_energy = np.min(energies_per_atom)\n",
    "print(\"H/T-phase min energy: \", min_energy)"
   ]
  },
  {
   "cell_type": "code",
   "execution_count": null,
   "metadata": {},
   "outputs": [],
   "source": [
    "# ## Read energies from energies_unrlxd_seed0.txt and add to the respective structures using a SinglePointCalculator\n",
    "# ## The file has the form \"index energy\"\n",
    "# ## This is done because there seem to be issues with storing the energy in the ASE trajectory file for some setups\n",
    "# filename = \"DOutput\"+identifier+\"/energies_unrlxd_seed\"+str(seed)+\".txt\"\n",
    "# with open(filename) as f:\n",
    "#     for line in f:\n",
    "#         index, energy = line.split()\n",
    "#         index = int(index)\n",
    "#         energy = float(energy)\n",
    "#         unrlxd_structures[index].calc = SinglePointCalculator(unrlxd_structures[index], energy=energy * len(unrlxd_structures[index]))\n",
    "\n",
    "\n",
    "# filename = \"DOutput\"+identifier+\"/energies_rlxd_seed\"+str(seed)+\".txt\"\n",
    "# with open(filename) as f:\n",
    "#     for line in f:\n",
    "#         index, energy = line.split()\n",
    "#         index = int(index)\n",
    "#         energy = float(energy)\n",
    "#         rlxd_structures[index].calc = SinglePointCalculator(rlxd_structures[index], energy=energy * len(rlxd_structures[index]))"
   ]
  },
  {
   "cell_type": "code",
   "execution_count": null,
   "metadata": {},
   "outputs": [],
   "source": [
    "## Calculate energies per atom for each unrelaxed structure\n",
    "energies_per_atom = [structure.get_potential_energy() / len(structure) for structure in unrlxd_structures]\n",
    "unrlxd_delta_en_per_atom = np.array(energies_per_atom) - min_energy\n",
    "print(\"Unrelaxed min energy: \", np.min(energies_per_atom))"
   ]
  },
  {
   "cell_type": "code",
   "execution_count": null,
   "metadata": {},
   "outputs": [],
   "source": [
    "## Calculate energies per atom for each relaxed structure\n",
    "energies_per_atom = [structure.get_potential_energy() / len(structure) for structure in rlxd_structures]\n",
    "rlxd_delta_en_per_atom = np.array(energies_per_atom) - min_energy\n",
    "print(\"Relaxed min energy: \", np.min(energies_per_atom))"
   ]
  },
  {
   "cell_type": "code",
   "execution_count": null,
   "metadata": {},
   "outputs": [],
   "source": [
    "print(\"H-phase cell:\", read(\"../MoS2_H-phase.poscar\").get_cell())\n",
    "print(\"T-phase cell:\", read(\"../MoS2_T-phase.poscar\").get_cell())\n",
    "print(\"Unrelaxed cell:\", unrlxd_structures[0].get_cell())\n",
    "print(\"Relaxed cell:\", rlxd_structures[0].get_cell())"
   ]
  },
  {
   "cell_type": "code",
   "execution_count": null,
   "metadata": {},
   "outputs": [],
   "source": [
    "if abs( np.min(energies_per_atom) - min_energy ) > 5e-2:\n",
    "  print(\"Minimum energy per atom is not zero. Check the energy calculation.\")"
   ]
  },
  {
   "cell_type": "code",
   "execution_count": null,
   "metadata": {},
   "outputs": [],
   "source": [
    "## Set up the PCA\n",
    "pca = PCA(n_components=2)"
   ]
  },
  {
   "cell_type": "code",
   "execution_count": null,
   "metadata": {},
   "outputs": [],
   "source": [
    "## Fit the PCA model to the unrelaxed or relaxed structures\n",
    "rlxd_string = \"rlxd\""
   ]
  },
  {
   "cell_type": "code",
   "execution_count": null,
   "metadata": {},
   "outputs": [],
   "source": [
    "## Save pca model\n",
    "import pickle\n",
    "if False:\n",
    "  # pca.fit(np.squeeze([arr for arr in descriptor.get_features(unrlxd_structures + [H_phase, T_phase])]))\n",
    "  # with open(\"pca_model\"+identifier+\"_all_unrlxd_\"+str(seed)+\".pkl\", \"wb\") as f:\n",
    "  pca.fit(np.squeeze([arr for arr in descriptor.get_features(unrlxd_structures + [H_phase] + [T_phase])]))\n",
    "  with open(\"pca_model\"+identifier+\"_all_unrlxd_\"+str(seed)+\".pkl\", \"wb\") as f:\n",
    "    pickle.dump(pca, f)\n",
    "\n",
    "## Load pca model\n",
    "with open(\"../DRAFFLE/pca_model_all_\"+rlxd_string+\"_0.pkl\", \"rb\") as f:\n",
    "  pca = pickle.load(f)"
   ]
  },
  {
   "cell_type": "code",
   "execution_count": null,
   "metadata": {},
   "outputs": [],
   "source": [
    "## Transform the unrelaxed and relaxed structures to the reduced space\n",
    "unrlxd_X_reduced = pca.transform(np.squeeze([arr for arr in descriptor.get_features(unrlxd_structures)]))\n",
    "rlxd_X_reduced = pca.transform(np.squeeze([arr for arr in descriptor.get_features(rlxd_structures)])) # + [H_phase] + [T_phase])]))\n",
    "H_phase_X_reduced = pca.transform(descriptor.get_features(H_phase))\n",
    "T_phase_X_reduced = pca.transform(descriptor.get_features(T_phase))"
   ]
  },
  {
   "cell_type": "code",
   "execution_count": null,
   "metadata": {},
   "outputs": [],
   "source": [
    "## Get the index of the structure with the minimum energy\n",
    "min_energy_index = np.argmin(rlxd_delta_en_per_atom)\n",
    "print(min_energy_index)"
   ]
  },
  {
   "cell_type": "code",
   "execution_count": null,
   "metadata": {},
   "outputs": [],
   "source": [
    "## Plot the PCA\n",
    "fig, axes = plt.subplots(nrows=1, ncols=2, figsize=(8, 6))\n",
    "\n",
    "plt.subplots_adjust(wspace=0.05, hspace=0)\n",
    "\n",
    "## Get the maximum energy for the colourbar\n",
    "max_en = min(3.5, max(np.max(unrlxd_delta_en_per_atom), np.max(rlxd_delta_en_per_atom)))\n",
    "\n",
    "## Plot the PCA\n",
    "axes[0].scatter(unrlxd_X_reduced[:, 0], unrlxd_X_reduced[:, 1], c=unrlxd_delta_en_per_atom, cmap=\"viridis\", vmin = 0, vmax = max_en)\n",
    "axes[1].scatter(rlxd_X_reduced[:, 0], rlxd_X_reduced[:, 1], c=rlxd_delta_en_per_atom, cmap=\"viridis\", vmin = 0, vmax = max_en)\n",
    "\n",
    "## Add the minimum energy structures to the plot\n",
    "for ax in axes:\n",
    "    ax.scatter(T_phase_X_reduced[0,0], T_phase_X_reduced[0,1], s=200, edgecolor=[1.0, 0.5, 0.5, 0.8], facecolor='none', linewidth=2, label='T-phase')\n",
    "    ax.scatter(H_phase_X_reduced[0,0], H_phase_X_reduced[0,1], s=200, edgecolor='red', facecolor='none', linewidth=2, label='H-phase')\n",
    "    if ax == axes[1]:\n",
    "        handles, labels = ax.get_legend_handles_labels()\n",
    "        ax.legend(handles[::-1], labels[::-1], facecolor='white', framealpha=1.0, edgecolor='black', fancybox=False, loc='upper right', fontsize=20, handletextpad=0.1)\n",
    "\n",
    "## Add labels\n",
    "fig.text(0.5, 0.0, 'Principal component 1', ha='center', fontsize=20)\n",
    "axes[0].set_ylabel('Principal component 2', fontsize=20)\n",
    "axes[0].set_title('Unrelaxed', fontsize=20)\n",
    "axes[1].set_title('Relaxed', fontsize=20)\n",
    "if rlxd_string == \"rlxd\":\n",
    "    xlims = [-25, 15]\n",
    "    ylims = [-6, 20]\n",
    "else:\n",
    "    xlims = [-10, 39]\n",
    "    ylims = [-3, 30]\n",
    "\n",
    "for ax in axes:\n",
    "    # ax.set_xticks(np.arange(xlims[0], xlims[1]+1, 5), minor=True)\n",
    "    ax.tick_params(axis='both', direction='in', length=6, labelsize=20)\n",
    "    ax.yaxis.set_major_locator(MultipleLocator(5))\n",
    "    ax.yaxis.set_minor_locator(AutoMinorLocator(2))\n",
    "    ax.xaxis.set_minor_locator(AutoMinorLocator(2))\n",
    "    ax.tick_params(axis='both', which='minor', length=3, direction='in')\n",
    "    ax.set_xlim(xlims)\n",
    "    ax.set_ylim(ylims)\n",
    "\n",
    "## Unify tick labels\n",
    "xticks = axes[0].get_xticks()\n",
    "xticks = xticks[(xticks >= xlims[0]) & (xticks <= xlims[1])]\n",
    "xticklabels = [ text for text in axes[0].get_xticklabels() if float(text.get_position()[0]) >= xlims[0] and float(text.get_position()[0]) <= xlims[1] ]\n",
    "axes[0].set_xticks(xticks)\n",
    "axes[1].set_xticks(xticks)\n",
    "axes[1].set_xticklabels(xticklabels)\n",
    "axes[1].set_yticklabels([])\n",
    "axes[0].tick_params(axis='x', labelbottom=True, top=True)\n",
    "axes[1].tick_params(axis='x', labelbottom=True, top=True)\n",
    "axes[0].tick_params(axis='y', labelbottom=True, right=True)\n",
    "axes[1].tick_params(axis='y', labelbottom=True, right=True)\n",
    "\n",
    "## Make axes[0] and axes[1] the same width\n",
    "axes[0].set_box_aspect(1.7)\n",
    "axes[1].set_box_aspect(1.7)\n",
    "\n",
    "## Add colorbar next to the axes\n",
    "cbar = fig.colorbar(axes[1].collections[0], ax=axes, orientation='vertical', fraction=0.085, pad=0.02)\n",
    "cbar.ax.tick_params(labelsize=20)\n",
    "cbar.ax.yaxis.set_major_locator(MultipleLocator(1))\n",
    "cbar.ax.yaxis.set_minor_locator(AutoMinorLocator(2))\n",
    "cbar.set_label('Formation energy (eV/atom)', fontsize=20)\n",
    "\n",
    "## Save the figure\n",
    "plt.savefig('MoS2_RSS'+identifier+'_pca_'+rlxd_string+'_fit_seed'+str(seed)+'.pdf', bbox_inches='tight', pad_inches=0, facecolor=fig.get_facecolor(), edgecolor='none')"
   ]
  },
  {
   "cell_type": "code",
   "execution_count": null,
   "metadata": {},
   "outputs": [],
   "source": [
    "# get the relaxed structure nearest to the t-phase structure pca\n",
    "# get the closest structure to the expected T-phase and tetrahedral structure\n",
    "def get_closest_structure(X_reduced, expected_reduced, energy_per_atom):\n",
    "    distances = np.linalg.norm(X_reduced - expected_reduced, axis=1)\n",
    "    closest_indices = np.where(distances == np.min(distances))\n",
    "    closest_index = closest_indices[0][np.argmin(energy_per_atom[closest_indices])]\n",
    "    return closest_index\n",
    "\n",
    "# Get the closest relaxed structure to the T-phase structure\n",
    "closest_T_phase_index = get_closest_structure(rlxd_X_reduced, T_phase_X_reduced[0], rlxd_delta_en_per_atom)\n",
    "print(\"Closest relaxed structure to T-phase:\", closest_T_phase_index)"
   ]
  },
  {
   "cell_type": "code",
   "execution_count": null,
   "metadata": {},
   "outputs": [],
   "source": [
    "from ase.visualize import view\n",
    "# Visualize the closest relaxed structure to the T-phase structure\n",
    "view([rlxd_structures[closest_T_phase_index], T_phase])"
   ]
  }
 ],
 "metadata": {
  "kernelspec": {
   "display_name": "Python 3",
   "language": "python",
   "name": "python3"
  },
  "language_info": {
   "codemirror_mode": {
    "name": "ipython",
    "version": 3
   },
   "file_extension": ".py",
   "mimetype": "text/x-python",
   "name": "python",
   "nbconvert_exporter": "python",
   "pygments_lexer": "ipython3",
   "version": "3.12.2"
  }
 },
 "nbformat": 4,
 "nbformat_minor": 2
}
