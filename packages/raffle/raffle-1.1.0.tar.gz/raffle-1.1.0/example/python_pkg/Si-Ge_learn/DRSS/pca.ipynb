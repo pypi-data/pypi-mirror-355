{
 "cells": [
  {
   "cell_type": "code",
   "execution_count": null,
   "metadata": {},
   "outputs": [],
   "source": [
    "import matplotlib.pyplot as plt\n",
    "%matplotlib inline\n",
    "\n",
    "# matplotlib.use(\"Agg\")\n",
    "\n",
    "from ase.io import read\n",
    "from ase.optimize import FIRE\n",
    "\n",
    "import numpy as np\n",
    "from matplotlib.ticker import (MultipleLocator, AutoMinorLocator)"
   ]
  },
  {
   "cell_type": "code",
   "execution_count": null,
   "metadata": {},
   "outputs": [],
   "source": [
    "## Set up the plotting environment\n",
    "# matplotlib.rcParams.update(matplotlib.rcParamsDefault)\n",
    "plt.rc('text', usetex=True)\n",
    "plt.rc('font', family='cmr10', size=12)\n",
    "plt.rcParams[\"axes.formatter.use_mathtext\"] = True"
   ]
  },
  {
   "cell_type": "code",
   "execution_count": null,
   "metadata": {},
   "outputs": [],
   "source": [
    "## Set the plotting parameters\n",
    "seed = \"0-9\"\n",
    "identifier = \"\"\n",
    "output_directory_prefix = \"DOutput\""
   ]
  },
  {
   "cell_type": "code",
   "execution_count": null,
   "metadata": {},
   "outputs": [],
   "source": [
    "# Set the calculators\n",
    "from mace.calculators import mace_mp\n",
    "calc = mace_mp(model=\"../../mace-mpa-0-medium.model\")"
   ]
  },
  {
   "cell_type": "code",
   "execution_count": null,
   "metadata": {},
   "outputs": [],
   "source": [
    "SiGe_abrupt = read(\"../SiGe_abrupt_interface_rescaled.vasp\")\n",
    "SiGe_abrupt.calc = calc\n",
    "optimizer = FIRE(SiGe_abrupt)\n",
    "optimizer.run(fmax=0.05, steps=100)"
   ]
  },
  {
   "cell_type": "code",
   "execution_count": null,
   "metadata": {},
   "outputs": [],
   "source": [
    "abrupt_energy = SiGe_abrupt.get_potential_energy()"
   ]
  },
  {
   "cell_type": "code",
   "execution_count": null,
   "metadata": {},
   "outputs": [],
   "source": [
    "## Get abrupt interface area\n",
    "area = np.linalg.norm(np.cross(SiGe_abrupt.get_cell()[0], SiGe_abrupt.get_cell()[1]))\n",
    "print(\"Interface area: \", area)"
   ]
  },
  {
   "cell_type": "code",
   "execution_count": null,
   "metadata": {},
   "outputs": [],
   "source": [
    "# get the RSS and RAFFLE relaxed structures and energies from the AGOX runs\n",
    "rss_rlxd_structures = read(\"DOutput/rlxd_structures_seed0-9.traj\", index=\":\")\n",
    "rss_delta_en_per_area = [ ( structure.get_potential_energy() - abrupt_energy ) / (2*area) for structure in rss_rlxd_structures]\n",
    "\n",
    "raffle_rlxd_structures = read(\"../DRAFFLE/DOutput/rlxd_structures_seed0-9.traj\", index=\":\")\n",
    "raffle_delta_en_per_area = [ ( structure.get_potential_energy() - abrupt_energy ) / (2*area) for structure in raffle_rlxd_structures]"
   ]
  },
  {
   "cell_type": "code",
   "execution_count": null,
   "metadata": {},
   "outputs": [],
   "source": [
    "import numpy as np\n",
    "import pandas as pd\n",
    "\n",
    "# Ensure they are flat lists\n",
    "rss_list = np.ravel(rss_delta_en_per_area).tolist()\n",
    "raffle_list = np.ravel(raffle_delta_en_per_area).tolist()\n",
    "\n",
    "# # renormalise so that area under the curve is 1\n",
    "# rss_list = rss_list / np.trapz(rss_list)\n",
    "# raffle_list = raffle_list / np.trapz(raffle_list)\n",
    "\n",
    "# Combine and build DataFrame\n",
    "df = pd.DataFrame({\n",
    "    'Energy per atom': rss_list + raffle_list,\n",
    "    'Source': ['RSS'] * len(rss_list) + ['RAFFLE'] * len(raffle_list)\n",
    "})\n"
   ]
  },
  {
   "cell_type": "code",
   "execution_count": null,
   "metadata": {},
   "outputs": [],
   "source": [
    "import matplotlib.pyplot as plt\n",
    "import seaborn as sns\n",
    "import pandas as pd\n",
    "\n",
    "# Assume df is already defined with 'Energy per atom' and 'Source' columns\n",
    "fig, (ax_kde, ax_rug_rss, ax_rug_raffle) = plt.subplots(\n",
    "    3, 1, figsize=(6, 6), sharex=True, height_ratios=[6, 1, 1],\n",
    "    gridspec_kw={\"hspace\": 0.01}\n",
    ")\n",
    "\n",
    "# KDE plot\n",
    "for source, colour in zip(['RSS', 'RAFFLE'], ['royalblue', 'forestgreen']):\n",
    "    subset = df[df['Source'] == source]\n",
    "    if subset['Energy per atom'].std() > 0:\n",
    "        sns.kdeplot(\n",
    "            data=subset,\n",
    "            x='Energy per atom',\n",
    "            fill=True,\n",
    "            alpha=0.3,\n",
    "            linewidth=2,\n",
    "            color=colour,\n",
    "            ax=ax_kde,\n",
    "            label=source,\n",
    "            warn_singular=False,\n",
    "            common_norm=False,\n",
    "            # bw_method=1.0,  # Use 'density' to normalise the area under the curve\n",
    "            bw_adjust=0.4,  # Adjust bandwidth for smoother curves\n",
    "        )\n",
    "\n",
    "\n",
    "# Rug plot\n",
    "for source, colour, ax, in zip(['RSS', 'RAFFLE'], ['royalblue', 'forestgreen'], [ax_rug_rss, ax_rug_raffle]):\n",
    "    xvals = df[df['Source'] == source]['Energy per atom']\n",
    "    ax.plot(\n",
    "        xvals, [0]*len(xvals),  # Y is categorical\n",
    "        marker='|', linestyle='None',\n",
    "        markersize=12, markeredgewidth=2,\n",
    "        color=colour, alpha=0.4\n",
    "    )\n",
    "    # Y-axis of rug plot as labels\n",
    "    # ax.set_yticks(['RSS', 'RAFFLE'])\n",
    "    # ax.set_yticklabels(['original', 'modified'], fontsize=20)\n",
    "    ax.tick_params(axis='x', which='major', direction='in', length=6, width=1, labelsize=16)\n",
    "    ax.tick_params(axis='y', which='major', length=0)\n",
    "    ax.set_ylim(-1, 1)\n",
    "    # move x-axis to y=0\n",
    "    ax.spines['bottom'].set_position(('data', 0))\n",
    "    # make x-axis thicker\n",
    "    ax.spines['bottom'].set_linewidth(1.25)\n",
    "    # make ticks on the x-axis thicker and have them above and below the axis\n",
    "    ax.tick_params(axis='x', which='major', direction='inout', length=10, width=1.25)\n",
    "    # remove borders\n",
    "    ax.spines['top'].set_visible(False)\n",
    "    ax.spines['left'].set_visible(False)\n",
    "    ax.spines['right'].set_visible(False)\n",
    "    # remove y-axis ticks\n",
    "    ax.yaxis.set_ticks([])\n",
    "    # set y-axis label\n",
    "    ax.set_ylabel(source, fontsize=16, rotation=0, labelpad=20, ha='right', va='center')\n",
    "\n",
    "ax.set_xlim(-0.025, 0.075)\n",
    "\n",
    "# Remove KDE x-axis label and set density label\n",
    "ax_kde.set_xlabel('')\n",
    "ax_kde.set_ylabel('Density', fontsize=20)\n",
    "ax_kde.legend(title='', fontsize=16)\n",
    "ax_kde.tick_params(axis='both', which='minor', direction='in', length=4, width=1, labelsize=16)\n",
    "ax_kde.tick_params(axis='both', which='major', direction='in', length=8, width=1, labelsize=16)\n",
    "ax_kde.xaxis.set_minor_locator(AutoMinorLocator(2))\n",
    "ax_kde.yaxis.set_minor_locator(AutoMinorLocator(2))\n",
    "ax_kde.yaxis.set_major_locator(MultipleLocator(20))\n",
    "\n",
    "# X-axis label at bottom only\n",
    "ax_rug_raffle.set_xlabel('Formation energy (eV/Å$^2$)', fontsize=20)\n",
    "for ax in [ax_rug_rss, ax_rug_raffle]:\n",
    "    ax.tick_params(axis='both', which='minor', direction='inout', length=8, width=1.5, labelsize=16)\n",
    "    ax.tick_params(axis='both', which='major', direction='inout', length=16, width=1.5, labelsize=16)\n",
    "\n",
    "    # reduce spacing yaxis and yaxis label\n",
    "    ax.yaxis.set_label_coords(-0.02, 0.5)  # Adjust y-axis label position\n",
    "\n",
    "\n",
    "# add quartile lines to the KDE plot\n",
    "for source, colour in zip(['RSS', 'RAFFLE'], ['royalblue', 'forestgreen']):\n",
    "    subset = df[df['Source'] == source]\n",
    "    q1 = subset['Energy per atom'].quantile(0.25)\n",
    "    q2 = subset['Energy per atom'].quantile(0.5)\n",
    "    q3 = subset['Energy per atom'].quantile(0.75)\n",
    "    \n",
    "    ax_kde.axvline(q1, color=colour, linestyle='--', linewidth=1.7, label=f'{source} Q1', dashes=(10, 3))\n",
    "    ax_kde.axvline(q2, color=colour, linestyle='-.', linewidth=1.7, label=f'{source} Q2')\n",
    "    ax_kde.axvline(q3, color=colour, linestyle=':',  linewidth=1.7, label=f'{source} Q3')\n",
    "    # plot these only to the height of the rug at that point\n",
    "\n",
    "plt.tight_layout()\n",
    "# Save the figure\n",
    "plt.savefig('Si-Ge'+identifier+'_kde_rug_rlxd_seed'+str(seed)+'.pdf', bbox_inches='tight', pad_inches=0, facecolor=fig.get_facecolor(), edgecolor='none')\n",
    "\n",
    "plt.show()\n"
   ]
  },
  {
   "cell_type": "code",
   "execution_count": null,
   "metadata": {},
   "outputs": [],
   "source": []
  }
 ],
 "metadata": {
  "kernelspec": {
   "display_name": "raffle_env",
   "language": "python",
   "name": "python3"
  },
  "language_info": {
   "codemirror_mode": {
    "name": "ipython",
    "version": 3
   },
   "file_extension": ".py",
   "mimetype": "text/x-python",
   "name": "python",
   "nbconvert_exporter": "python",
   "pygments_lexer": "ipython3",
   "version": "3.12.8"
  }
 },
 "nbformat": 4,
 "nbformat_minor": 2
}
