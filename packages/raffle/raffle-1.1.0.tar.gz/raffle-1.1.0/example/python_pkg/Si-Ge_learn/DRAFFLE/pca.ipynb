{
 "cells": [
  {
   "cell_type": "code",
   "execution_count": null,
   "metadata": {},
   "outputs": [],
   "source": [
    "import matplotlib.pyplot as plt\n",
    "%matplotlib inline\n",
    "\n",
    "# matplotlib.use(\"Agg\")\n",
    "\n",
    "from ase import build\n",
    "from ase.optimize import FIRE\n",
    "from ase.io import read\n",
    "from agox.databases import Database\n",
    "from agox.environments import Environment\n",
    "from agox.utils.graph_sorting import Analysis\n",
    "\n",
    "import numpy as np\n",
    "from sklearn.decomposition import PCA\n",
    "from matplotlib.ticker import (MultipleLocator, AutoMinorLocator)"
   ]
  },
  {
   "cell_type": "code",
   "execution_count": null,
   "metadata": {},
   "outputs": [],
   "source": [
    "## Set up the plotting environment\n",
    "# matplotlib.rcParams.update(matplotlib.rcParamsDefault)\n",
    "plt.rc('text', usetex=True)\n",
    "plt.rc('font', family='cmr10', size=12)\n",
    "plt.rcParams[\"axes.formatter.use_mathtext\"] = True"
   ]
  },
  {
   "cell_type": "code",
   "execution_count": null,
   "metadata": {},
   "outputs": [],
   "source": [
    "## Set the plotting parameters\n",
    "seed = 2\n",
    "identifier = \"\"\n",
    "output_directory_prefix = \"DOutput\"\n",
    "# min_energy = -3.6635127# -3.7717605425"
   ]
  },
  {
   "cell_type": "code",
   "execution_count": null,
   "metadata": {},
   "outputs": [],
   "source": [
    "## Set the descriptors\n",
    "from agox.models.descriptors import SOAP, Voronoi\n",
    "local_descriptor = local_descriptor = SOAP.from_species([\"Si\", \"Ge\"], r_cut=5.0)\n",
    "\n",
    "graph_descriptor = Voronoi(\n",
    "    covalent_bond_scale_factor=1.3, n_points=8, angle_from_central_atom=20, environment=None\n",
    ")"
   ]
  },
  {
   "cell_type": "code",
   "execution_count": null,
   "metadata": {},
   "outputs": [],
   "source": [
    "# Set the calculators\n",
    "from chgnet.model import CHGNetCalculator\n",
    "# from mace.calculators import mace_mp\n",
    "from ase.calculators.singlepoint import SinglePointCalculator\n",
    "calc = CHGNetCalculator()\n",
    "# calc = mace_mp(model=\"../../mace-mpa-0-medium.model\")"
   ]
  },
  {
   "cell_type": "code",
   "execution_count": null,
   "metadata": {},
   "outputs": [],
   "source": [
    "## Load the unrelaxed structures\n",
    "unrlxd_structures = read(output_directory_prefix+identifier+\"/unrlxd_structures_seed\"+str(seed)+\".traj\", index=\":\")\n",
    "# for structure in unrlxd_structures1:\n",
    "#   structure.calc = calc\n"
   ]
  },
  {
   "cell_type": "code",
   "execution_count": null,
   "metadata": {},
   "outputs": [],
   "source": [
    "## Load the relaxed structures\n",
    "rlxd_structures = read(output_directory_prefix+identifier+\"/rlxd_structures_seed\"+str(seed)+\".traj\", index=\":\")\n",
    "# for structure in rlxd_structures:\n",
    "#   structure.calc = calc"
   ]
  },
  {
   "cell_type": "code",
   "execution_count": null,
   "metadata": {},
   "outputs": [],
   "source": [
    "# ## Read energies from energies_unrlxd_seed0.txt and add to the respective structures using a SinglePointCalculator\n",
    "# ## The file has the form \"index energy\"\n",
    "# ## This is done because there seem to be issues with storing the energy in the ASE trajectory file for some setups\n",
    "# filename = \"DOutput\"+identifier+\"/energies_unrlxd_seed\"+str(seed)+\".txt\"\n",
    "# with open(filename) as f:\n",
    "#     for line in f:\n",
    "#         index, energy = line.split()\n",
    "#         index = int(index)\n",
    "#         energy = float(energy)\n",
    "#         unrlxd_structures[index].calc = SinglePointCalculator(unrlxd_structures[index], energy=energy * len(unrlxd_structures[index]))\n",
    "\n",
    "\n",
    "# filename = \"DOutput\"+identifier+\"/energies_rlxd_seed\"+str(seed)+\".txt\"\n",
    "# with open(filename) as f:\n",
    "#     for line in f:\n",
    "#         index, energy = line.split()\n",
    "#         index = int(index)\n",
    "#         energy = float(energy)\n",
    "#         rlxd_structures[index].calc = SinglePointCalculator(rlxd_structures[index], energy=energy * len(rlxd_structures[index]))\n"
   ]
  },
  {
   "cell_type": "code",
   "execution_count": null,
   "metadata": {},
   "outputs": [],
   "source": [
    "## Get bulk reference energies\n",
    "Si_bulk = build.bulk(\"Si\", crystalstructure=\"diamond\", a=5.43)\n",
    "Si_bulk.calc = calc\n",
    "Si_reference_energy = Si_bulk.get_potential_energy() / len(Si_bulk)\n",
    "Si_cubic = build.make_supercell(Si_bulk, [[-1, 1, 1], [1, -1, 1], [1, 1, -1]])\n",
    "\n",
    "Ge_bulk = build.bulk(\"Ge\", crystalstructure=\"diamond\", a=5.65)\n",
    "Ge_bulk.calc = calc\n",
    "Ge_reference_energy = Ge_bulk.get_potential_energy() / len(Ge_bulk)\n",
    "Ge_cubic = build.make_supercell(Ge_bulk, [[-1, 1, 1], [1, -1, 1], [1, 1, -1]])\n"
   ]
  },
  {
   "cell_type": "code",
   "execution_count": null,
   "metadata": {},
   "outputs": [],
   "source": [
    "## Get slab energetics\n",
    "Si_slab_vac = read(\"../Si_slab.vasp\")\n",
    "Ge_slab_vac = read(\"../Ge_slab.vasp\")\n",
    "Si_slab_vac.calc = calc\n",
    "Ge_slab_vac.calc = calc\n",
    "optimizer = FIRE(Si_slab_vac)\n",
    "optimizer.run(fmax=0.05, steps=100)\n",
    "optimizer = FIRE(Ge_slab_vac)\n",
    "optimizer.run(fmax=0.05, steps=100)"
   ]
  },
  {
   "cell_type": "code",
   "execution_count": null,
   "metadata": {},
   "outputs": [],
   "source": [
    "## Get abrupt interface energetics\n",
    "SiGe_abrupt = read(\"../SiGe_abrupt_interface.vasp\")\n",
    "SiGe_abrupt.calc = calc\n",
    "SiGe_abrupt.set_cell(rlxd_structures[0].get_cell(), scale_atoms=True)\n",
    "optimizer = FIRE(SiGe_abrupt)\n",
    "optimizer.run(fmax=0.05, steps=100)"
   ]
  },
  {
   "cell_type": "code",
   "execution_count": null,
   "metadata": {},
   "outputs": [],
   "source": [
    "## Get abrupt interface area\n",
    "area = np.linalg.norm(np.cross(SiGe_abrupt.get_cell()[0], SiGe_abrupt.get_cell()[1]))\n",
    "print(\"Interface area: \", area)"
   ]
  },
  {
   "cell_type": "code",
   "execution_count": null,
   "metadata": {},
   "outputs": [],
   "source": [
    "## Function to get the interface formation energy\n",
    "def get_interface_energy(struc, Si_slab, Ge_slab, extra=False):\n",
    "    energy = struc.get_potential_energy()\n",
    "    cell = struc.get_cell()\n",
    "    area = np.linalg.norm(np.cross(cell[0], cell[1]))\n",
    "    Si_energy = Si_slab.get_potential_energy()\n",
    "    Ge_energy = Ge_slab.get_potential_energy()\n",
    "    ## need to subtract remaining silicon and germanium energies also\n",
    "    if extra:\n",
    "        return (energy - Si_energy - Ge_energy - 16*(Si_reference_energy + Ge_reference_energy)) / (2.0 * area)\n",
    "    else:\n",
    "        return (energy - Si_energy - Ge_energy) / (2.0 * area)"
   ]
  },
  {
   "cell_type": "code",
   "execution_count": null,
   "metadata": {},
   "outputs": [],
   "source": [
    "# print(\"abrupt match 2 layers energy: \", get_interface_energy(abrupt, Si_slab, Ge_slab))\n",
    "# print(\"abrupt match 3 layers energy: \", get_interface_energy(abrupt_3, Si_slab_3, Ge_slab_3))"
   ]
  },
  {
   "cell_type": "code",
   "execution_count": null,
   "metadata": {},
   "outputs": [],
   "source": [
    "abrupt_en_per_area = get_interface_energy(SiGe_abrupt, Si_slab_vac, Ge_slab_vac, False)\n",
    "print(\"Abrupt min energy: \", abrupt_en_per_area)"
   ]
  },
  {
   "cell_type": "code",
   "execution_count": null,
   "metadata": {},
   "outputs": [],
   "source": [
    "## Calculate energies per atom for each unrelaxed structure\n",
    "unrlxd_en_per_area = [get_interface_energy(structure, Si_slab_vac, Ge_slab_vac, False) for structure in unrlxd_structures]\n",
    "print(\"Unrelaxed min energy: \", np.min(unrlxd_en_per_area))"
   ]
  },
  {
   "cell_type": "code",
   "execution_count": null,
   "metadata": {},
   "outputs": [],
   "source": [
    "## Calculate energies per atom for each relaxed structure\n",
    "rlxd_en_per_area = [get_interface_energy(structure, Si_slab_vac, Ge_slab_vac, False) for structure in rlxd_structures]\n",
    "print(\"Relaxed min energy: \", np.min(rlxd_en_per_area))"
   ]
  },
  {
   "cell_type": "code",
   "execution_count": null,
   "metadata": {},
   "outputs": [],
   "source": [
    "# print the min, max, mean, and std of the relaxed energies\n",
    "print(\"Relaxed energies per atom: min = {:.2f}, max = {:.2f}, mean = {:.2f}, std = {:.2f}\".format(\n",
    "    np.min(rlxd_en_per_area), np.max(rlxd_en_per_area), \n",
    "    np.mean(rlxd_en_per_area), np.std(rlxd_en_per_area)))\n",
    "# plot in latex table format\n",
    "print(\"Si|Ge search & {:.2f} & {:.2f} & {:.2f} & {:.2f} \\\\\\\\\".format(\n",
    "    np.min(rlxd_en_per_area), np.max(rlxd_en_per_area), \n",
    "    np.mean(rlxd_en_per_area), np.std(rlxd_en_per_area)))"
   ]
  },
  {
   "cell_type": "code",
   "execution_count": null,
   "metadata": {},
   "outputs": [],
   "source": [
    "## Set up the PCA\n",
    "pca = PCA(n_components=2)"
   ]
  },
  {
   "cell_type": "code",
   "execution_count": null,
   "metadata": {},
   "outputs": [],
   "source": [
    "## Get the 'super atom' descriptors for the unrelaxed structures\n",
    "unrlxd_super_atoms = []\n",
    "for structure in unrlxd_structures:\n",
    "  unrlxd_super_atoms.append( np.mean(local_descriptor.get_features(structure), axis=0) )"
   ]
  },
  {
   "cell_type": "code",
   "execution_count": null,
   "metadata": {},
   "outputs": [],
   "source": [
    "## Get the 'super atom' descriptors for the relaxed structures\n",
    "rlxd_super_atoms = []\n",
    "for structure in rlxd_structures:\n",
    "  rlxd_super_atoms.append( np.mean(local_descriptor.get_features(structure), axis=0) )"
   ]
  },
  {
   "cell_type": "code",
   "execution_count": null,
   "metadata": {},
   "outputs": [],
   "source": [
    "## Fit the PCA model to the unrelaxed or relaxed structures\n",
    "rlxd_string = \"rlxd\""
   ]
  },
  {
   "cell_type": "code",
   "execution_count": null,
   "metadata": {},
   "outputs": [],
   "source": [
    "## Save pca model\n",
    "import pickle\n",
    "if False:\n",
    "  pca.fit(np.squeeze([arr for arr in rlxd_super_atoms]))\n",
    "  with open(\"pca_model_all_rlxd_\"+str(seed)+\".pkl\", \"wb\") as f:\n",
    "    pickle.dump(pca, f)\n",
    "\n",
    "## Load pca model\n",
    "with open(\"pca_model_all_\"+rlxd_string+\"_2.pkl\", \"rb\") as f:\n",
    "  pca = pickle.load(f)"
   ]
  },
  {
   "cell_type": "code",
   "execution_count": null,
   "metadata": {},
   "outputs": [],
   "source": [
    "abrupt_super_atom = []\n",
    "abrupt_super_atom.append(np.mean(local_descriptor.get_features(SiGe_abrupt), axis=0))\n",
    "abrupt_super_atom.append(np.mean(local_descriptor.get_features(SiGe_abrupt), axis=0))"
   ]
  },
  {
   "cell_type": "code",
   "execution_count": null,
   "metadata": {},
   "outputs": [],
   "source": [
    "## Transform the unrelaxed and relaxed structures to the reduced space\n",
    "unrlxd_X_reduced = pca.transform(np.squeeze([arr for arr in unrlxd_super_atoms]))\n",
    "rlxd_X_reduced = pca.transform(np.squeeze([arr for arr in rlxd_super_atoms]))\n",
    "abrupt_X_reduced = pca.transform(np.squeeze([arr for arr in abrupt_super_atom]))"
   ]
  },
  {
   "cell_type": "code",
   "execution_count": null,
   "metadata": {},
   "outputs": [],
   "source": [
    "## Get the index of the structure with the minimum energy\n",
    "min_energy_index = np.argmin(rlxd_en_per_area)\n",
    "print(min_energy_index)"
   ]
  },
  {
   "cell_type": "code",
   "execution_count": null,
   "metadata": {},
   "outputs": [],
   "source": [
    "## Plot the PCA\n",
    "fig, axes = plt.subplots(nrows=1, ncols=2, figsize=(8, 6))\n",
    "\n",
    "plt.subplots_adjust(wspace=0.05, hspace=0)\n",
    "\n",
    "## Get the maximum energy for the colourbar\n",
    "scaled_unrlxd_ens = [ ( x - abrupt_en_per_area ) * 1000 for x in unrlxd_en_per_area]\n",
    "scaled_rlxd_ens = [ ( x - abrupt_en_per_area ) * 1000 for x in rlxd_en_per_area]\n",
    "scaled_abrupt_en = abrupt_en_per_area * 1000\n",
    "min_en = min(0.0, min(np.min(scaled_unrlxd_ens), np.min(scaled_rlxd_ens)))\n",
    "max_en = min(max(np.max(scaled_unrlxd_ens), np.max(scaled_rlxd_ens)), 0.05 * 1000 + min_en)\n",
    "\n",
    "## Plot the PCA\n",
    "axes[0].scatter(unrlxd_X_reduced[:, 0], unrlxd_X_reduced[:, 1], c=scaled_unrlxd_ens, cmap=\"viridis\", vmin = min_en, vmax = max_en)\n",
    "axes[1].scatter(rlxd_X_reduced[:, 0], rlxd_X_reduced[:, 1], c=scaled_rlxd_ens, cmap=\"viridis\", vmin = min_en, vmax = max_en)\n",
    "axes[1].scatter(rlxd_X_reduced[min_energy_index, 0], rlxd_X_reduced[min_energy_index, 1], s=200, edgecolor=[1.0, 0.5, 0.5, 0.8], facecolor='none', linewidth=2, label=\"Intermixed\")\n",
    "\n",
    "## Add the minimum energy structures to the plot\n",
    "for ax in axes:\n",
    "    ax.scatter(abrupt_X_reduced[0, 0], abrupt_X_reduced[0, 1], s=200, edgecolor='red', facecolor='none', linewidth=2, label=\"Abrupt\")\n",
    "    # ax.scatter(abrupt_X_reduced[0, 0], abrupt_X_reduced[0, 1], c=scaled_abrupt_en, cmap=\"viridis\", vmin = min_en, vmax = max_en)\n",
    "    if ax == axes[1]:\n",
    "        handles, labels = ax.get_legend_handles_labels()\n",
    "        ax.legend(handles[::-1], labels[::-1], facecolor='white', framealpha=1.0, edgecolor='black', fancybox=False, bbox_to_anchor=(1.0, 1.0), fontsize=20, handletextpad=0.2, borderpad=0.3, handlelength=1)\n",
    "  \n",
    "## Add labels\n",
    "fig.text(0.5, 0.0, 'Principal component 1', ha='center', fontsize=20)\n",
    "axes[0].set_ylabel('Principal component 2', fontsize=20)\n",
    "axes[0].set_title('Unrelaxed', fontsize=20)\n",
    "axes[1].set_title('Relaxed', fontsize=20)\n",
    "if rlxd_string == \"rlxd\":\n",
    "    xlims = [-4, 4]\n",
    "    ylims = [-1, 3.5]\n",
    "else:\n",
    "    xlims = [-42, 55]\n",
    "    ylims = [-12, 30]\n",
    "\n",
    "for ax in axes:\n",
    "    ax.tick_params(axis='both', direction='in', length=6, labelsize=20)\n",
    "    ax.yaxis.set_major_locator(MultipleLocator(1))\n",
    "    ax.yaxis.set_minor_locator(AutoMinorLocator(2))\n",
    "    ax.xaxis.set_minor_locator(AutoMinorLocator(2))\n",
    "    ax.tick_params(axis='both', which='minor', length=3, direction='in')\n",
    "    ax.set_xlim(xlims)\n",
    "    ax.set_ylim(ylims)\n",
    "\n",
    "## Unify tick labels\n",
    "xticks = axes[0].get_xticks()\n",
    "xticks = xticks[(xticks >= xlims[0]) & (xticks <= xlims[1])]\n",
    "\n",
    "axes[1].set_xticks(xticks)\n",
    "axes[1].set_yticklabels([])\n",
    "axes[0].tick_params(axis='x', labelbottom=True, top=True)\n",
    "axes[1].tick_params(axis='x', labelbottom=True, top=True)\n",
    "axes[0].tick_params(axis='y', labelbottom=True, right=True)\n",
    "axes[1].tick_params(axis='y', labelbottom=True, right=True)\n",
    "\n",
    "## Make axes[0] and axes[1] the same width\n",
    "axes[0].set_box_aspect(1.7)\n",
    "axes[1].set_box_aspect(1.7)\n",
    "\n",
    "## Add colorbar next to the axes\n",
    "cbar = fig.colorbar(axes[1].collections[0], ax=axes, orientation='vertical', fraction=0.085, pad=0.02)\n",
    "cbar.ax.tick_params(labelsize=20)\n",
    "# cbar.ax.yaxis.set_major_locator(plt.FixedLocator([-61, -59, -57, -55, -53, -51]))\n",
    "cbar.ax.yaxis.set_minor_locator(AutoMinorLocator(2))\n",
    "cbar.set_label('Formation energy (meV/Å$^2$)', fontsize=20)\n",
    "\n",
    "## Save the figure\n",
    "plt.savefig('Si-Ge_RAFFLE'+identifier+'_pca_'+rlxd_string+'_fit_seed'+str(seed)+'.pdf', bbox_inches='tight', pad_inches=0, facecolor=fig.get_facecolor(), edgecolor='none')"
   ]
  },
  {
   "cell_type": "code",
   "execution_count": null,
   "metadata": {},
   "outputs": [],
   "source": [
    "from ase.io import read, write\n",
    "import numpy as np\n",
    "\n",
    "atoms_mace = read(\"DResponse/rlxd_structures_seed2.traj\", index=\":\")\n",
    "atoms_chgnet = read(\"DResponse_CHGNet/rlxd_structures_seed0.traj\", index=\":\")\n"
   ]
  },
  {
   "cell_type": "code",
   "execution_count": null,
   "metadata": {},
   "outputs": [],
   "source": [
    "energies = [atoms_mace[i].get_potential_energy() for i in range(len(atoms_mace))]\n",
    "sorted_indices = np.argsort(energies)\n",
    "lowest_energy_structures = [atoms_mace[i] for i in sorted_indices[:2]]\n",
    "# write the structures to a file\n",
    "write(\"mace_1.vasp\", lowest_energy_structures[0], sort=True, direct=True)\n",
    "write(\"mace_2.vasp\", lowest_energy_structures[1], sort=True, direct=True)"
   ]
  },
  {
   "cell_type": "code",
   "execution_count": null,
   "metadata": {},
   "outputs": [],
   "source": [
    "energies = [atoms_chgnet[i].get_potential_energy() for i in range(len(atoms_chgnet))]\n",
    "sorted_indices = np.argsort(energies)\n",
    "lowest_energy_structures = [atoms_chgnet[i] for i in sorted_indices[:2]]\n",
    "# write the structures to a file\n",
    "write(\"chgnet_1.vasp\", lowest_energy_structures[0], sort=True, direct=True)\n",
    "write(\"chgnet_2.vasp\", lowest_energy_structures[1], sort=True, direct=True)"
   ]
  },
  {
   "cell_type": "code",
   "execution_count": null,
   "metadata": {},
   "outputs": [],
   "source": [
    "SiGe_abrupt = read(\"../SiGe_abrupt_interface.vasp\")\n",
    "SiGe_abrupt.set_cell(atoms_mace[0].get_cell(), scale_atoms=True)\n",
    "write(\"SiGe_abrupt_interface_rescaled.vasp\", SiGe_abrupt, sort=True, direct=True)"
   ]
  },
  {
   "cell_type": "code",
   "execution_count": null,
   "metadata": {},
   "outputs": [],
   "source": [
    "from raffle.generator import raffle_generator\n",
    "\n",
    "generator = raffle_generator()\n",
    "generator.distributions.read_gdfs( output_directory_prefix+identifier+\"/gdfs_seed\"+str(seed)+\".txt\" )\n",
    "descriptor = generator.get_descriptor()\n",
    "\n",
    "# Create a figure with 3 subplots side by side\n",
    "fig, axes = plt.subplots(1, 3, figsize=(18, 5))\n",
    "\n",
    "# Plot for each n-body descriptor (2-body, 3-body, 4-body)\n",
    "colours = [ 'black', 'red', 'blue' ]\n",
    "labels_2body = [ 'Si-Si', 'Si-Ge', 'Ge-Ge' ]\n",
    "labels_3body = [ 'Si', 'Ge' ]\n",
    "for j in range(3):\n",
    "    # Calculate x-axis values\n",
    "    x = np.arange(generator.distributions.cutoff_min[j],\n",
    "                generator.distributions.cutoff_max[j] + generator.distributions.width[j],\n",
    "                generator.distributions.width[j])\n",
    "\n",
    "    if j == 0:\n",
    "        labels = labels_2body\n",
    "    else:\n",
    "        labels = labels_3body\n",
    "    # Plot on the respective subplot\n",
    "    for idx in range(len(descriptor[j])):\n",
    "        axes[j].plot(x, descriptor[j][idx,:],\n",
    "                     color=colours[idx],\n",
    "                    label=labels[idx],\n",
    "        )\n",
    "\n",
    "    # Set labels and title for each subplot\n",
    "    # axes[j].set_ylabel('Descriptor value')\n",
    "    # axes[j].set_title(f'{j+2}-body descriptor')\n",
    "\n",
    "# set the legend font size\n",
    "for ax in axes:\n",
    "    for label in (ax.get_xticklabels() + ax.get_yticklabels()):\n",
    "        label.set_fontsize(16)\n",
    "    ax.legend(fontsize=16, loc='upper right', framealpha=0.5, edgecolor='black', facecolor='white', handletextpad=0.1)\n",
    "\n",
    "axes[0].set_ylabel('Distribution function (arb. units)', fontsize=20)\n",
    "axes[0].set_xlabel('Bond length (Å)', fontsize=20)\n",
    "axes[1].set_xlabel('3-body angle (radians)', fontsize=20)\n",
    "axes[2].set_xlabel('4-body angle (radians)', fontsize=20)\n",
    "axes[0].set_xlim(0, 6)\n",
    "axes[1].set_xlim(0, np.pi)\n",
    "axes[2].set_xlim(0, np.pi)\n",
    "\n",
    "axes[0].set_ylim(0, None)\n",
    "axes[1].set_ylim(0, 1.0)\n",
    "axes[2].set_ylim(0, 1.0)\n",
    "\n",
    "# reduce number of ticks to five at most\n",
    "axes[0].xaxis.set_major_locator(plt.MaxNLocator(3))\n",
    "axes[0].yaxis.set_major_locator(plt.MaxNLocator(3))\n",
    "\n",
    "# set x ticks to 0, 1, 2, 3\n",
    "axes[1].set_xticks([0, 1, 2, 3])\n",
    "axes[2].set_xticks([0, 1, 2, 3])\n",
    "# axes[1].set_yticks([0, 0.1, 0.2])\n",
    "# axes[2].set_yticks([0, 0.05, 0.1])\n",
    "\n",
    "# have the ticks point intwards and on both sides\n",
    "for ax in axes:\n",
    "    ax.tick_params(axis='both', which='major', direction='in', length=10, width=1)\n",
    "    ax.tick_params(axis='both', which='minor', direction='in', length=5, width=1)\n",
    "    ax.tick_params(axis='x', which='both', bottom=True, top=True)\n",
    "    ax.tick_params(axis='y', which='both', left=True, right=True)\n",
    "\n",
    "axes[1].yaxis.set_major_locator(MultipleLocator(0.5))\n",
    "axes[2].yaxis.set_major_locator(MultipleLocator(0.5))\n",
    "# add minor ticks to all axes\n",
    "for ax in axes:\n",
    "    ax.xaxis.set_minor_locator(AutoMinorLocator(2))\n",
    "    ax.yaxis.set_minor_locator(AutoMinorLocator(2))\n",
    "    \n",
    "\n",
    "\n",
    "# axes[0].set_xlabel('Distance (Å)')\n",
    "# axes[1].set_xlabel('3-body angle (radians)')\n",
    "# axes[2].set_xlabel('Improper dihedral angle (radians)')\n",
    "# plt.tight_layout()\n",
    "# plt.show()\n",
    "\n",
    "# get figures closer together\n",
    "plt.subplots_adjust(wspace=0.1, hspace=0)\n",
    "# remove labels for y axis for the second and third plots\n",
    "\n",
    "plt.savefig('Si-Ge_RAFFLE'+identifier+'_gen_descriptor_rlxd_seed'+str(seed)+'.pdf', bbox_inches='tight', pad_inches=0, facecolor=fig.get_facecolor(), edgecolor='none')\n"
   ]
  },
  {
   "cell_type": "code",
   "execution_count": null,
   "metadata": {},
   "outputs": [],
   "source": []
  }
 ],
 "metadata": {
  "kernelspec": {
   "display_name": "raffle_env",
   "language": "python",
   "name": "python3"
  },
  "language_info": {
   "codemirror_mode": {
    "name": "ipython",
    "version": 3
   },
   "file_extension": ".py",
   "mimetype": "text/x-python",
   "name": "python",
   "nbconvert_exporter": "python",
   "pygments_lexer": "ipython3",
   "version": "3.12.2"
  }
 },
 "nbformat": 4,
 "nbformat_minor": 2
}
