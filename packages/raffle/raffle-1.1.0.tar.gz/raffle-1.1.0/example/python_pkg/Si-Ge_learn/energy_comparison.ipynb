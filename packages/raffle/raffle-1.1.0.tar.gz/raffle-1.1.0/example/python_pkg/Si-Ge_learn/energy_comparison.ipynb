{
 "cells": [
  {
   "cell_type": "code",
   "execution_count": null,
   "metadata": {},
   "outputs": [],
   "source": [
    "from ase.io import read\n",
    "from ase.optimize import FIRE\n",
    "\n",
    "import numpy as np"
   ]
  },
  {
   "cell_type": "code",
   "execution_count": 86,
   "metadata": {},
   "outputs": [],
   "source": [
    "structures = read(\"../../../data/Si-Ge_interfaces_vasp.xyz\", index=\":\")"
   ]
  },
  {
   "cell_type": "code",
   "execution_count": 87,
   "metadata": {},
   "outputs": [],
   "source": [
    "dft_energies = [structure.get_potential_energy() for structure in structures]"
   ]
  },
  {
   "cell_type": "code",
   "execution_count": 88,
   "metadata": {},
   "outputs": [],
   "source": [
    "# get lowest energy structure with just Si atoms\n",
    "Si_slab_idx = -1\n",
    "Si_slab_energy = float('inf')\n",
    "Ge_slab_idx = -1\n",
    "Ge_slab_energy = float('inf')\n",
    "for idx, structure in enumerate(structures):\n",
    "    if structure.get_chemical_formula(empirical=True) == \"Si\":\n",
    "        if structure.get_potential_energy() < Si_slab_energy:\n",
    "            Si_slab_energy = structure.get_potential_energy()\n",
    "            Si_slab_idx = idx\n",
    "    elif structure.get_chemical_formula(empirical=True) == \"Ge\":\n",
    "        if structure.get_potential_energy() < Ge_slab_energy:\n",
    "            Ge_slab_energy = structure.get_potential_energy()\n",
    "            Ge_slab_idx = idx\n",
    "        break"
   ]
  },
  {
   "cell_type": "code",
   "execution_count": 89,
   "metadata": {},
   "outputs": [
    {
     "name": "stdout",
     "output_type": "stream",
     "text": [
      "DFT Si slab energy:  -401.9679047\n",
      "DFT Ge slab energy:  -334.78120143\n"
     ]
    }
   ],
   "source": [
    "dft_si_slab_energy = dft_energies[Si_slab_idx]\n",
    "dft_ge_slab_energy = dft_energies[Ge_slab_idx]\n",
    "print(\"DFT Si slab energy: \", dft_si_slab_energy)\n",
    "print(\"DFT Ge slab energy: \", dft_ge_slab_energy)"
   ]
  },
  {
   "cell_type": "code",
   "execution_count": 90,
   "metadata": {},
   "outputs": [
    {
     "name": "stdout",
     "output_type": "stream",
     "text": [
      "Using float32 for MACECalculator, which is faster but less accurate. Recommended for MD. Use float64 for geometry optimization.\n",
      "Default dtype float32 does not match model dtype float64, converting models to float32.\n",
      "CHGNet v0.3.0 initialized with 412,525 parameters\n"
     ]
    },
    {
     "name": "stderr",
     "output_type": "stream",
     "text": [
      "/opt/homebrew/Caskroom/miniconda/base/envs/raffle_env/lib/python3.12/site-packages/mace/calculators/mace.py:139: FutureWarning: You are using `torch.load` with `weights_only=False` (the current default value), which uses the default pickle module implicitly. It is possible to construct malicious pickle data which will execute arbitrary code during unpickling (See https://github.com/pytorch/pytorch/blob/main/SECURITY.md#untrusted-models for more details). In a future release, the default value for `weights_only` will be flipped to `True`. This limits the functions that could be executed during unpickling. Arbitrary objects will no longer be allowed to be loaded via this mode unless they are explicitly allowlisted by the user via `torch.serialization.add_safe_globals`. We recommend you start setting `weights_only=True` for any use case where you don't have full control of the loaded file. Please open an issue on GitHub for any issues related to this experimental feature.\n",
      "  torch.load(f=model_path, map_location=device)\n"
     ]
    },
    {
     "name": "stdout",
     "output_type": "stream",
     "text": [
      "CHGNet will run on mps\n"
     ]
    }
   ],
   "source": [
    "from mace.calculators import mace_mp\n",
    "from chgnet.model import CHGNetCalculator\n",
    "mace = mace_mp(model=\"../../mace-mpa-0-medium.model\")\n",
    "chgnet = CHGNetCalculator()"
   ]
  },
  {
   "cell_type": "code",
   "execution_count": 91,
   "metadata": {},
   "outputs": [
    {
     "name": "stdout",
     "output_type": "stream",
     "text": [
      "      Step     Time          Energy          fmax\n",
      "FIRE:    0 09:43:52     -404.319336        0.299351\n",
      "FIRE:    1 09:43:52     -404.342407        0.275887\n",
      "FIRE:    2 09:43:52     -404.378265        0.231842\n",
      "FIRE:    3 09:43:52     -404.412537        0.172303\n",
      "FIRE:    4 09:43:53     -404.434326        0.104353\n",
      "FIRE:    5 09:43:53     -404.442444        0.133328\n",
      "FIRE:    6 09:43:53     -404.444550        0.172123\n",
      "FIRE:    7 09:43:54     -404.446014        0.166903\n",
      "FIRE:    8 09:43:54     -404.448517        0.156692\n",
      "FIRE:    9 09:43:54     -404.451935        0.141862\n",
      "FIRE:   10 09:43:54     -404.455872        0.123110\n",
      "FIRE:   11 09:43:55     -404.459595        0.101140\n",
      "FIRE:   12 09:43:55     -404.462616        0.076973\n",
      "FIRE:   13 09:43:55     -404.465088        0.051805\n",
      "FIRE:   14 09:43:55     -404.466736        0.037868\n",
      "MACE Si slab energy:  -404.46673583984375\n",
      "      Step     Time          Energy          fmax\n",
      "FIRE:    0 09:43:56     -346.881958        0.666953\n",
      "FIRE:    1 09:43:56     -346.957520        0.634437\n",
      "FIRE:    2 09:43:56     -347.092957        0.572620\n",
      "FIRE:    3 09:43:56     -347.262268        0.487324\n",
      "FIRE:    4 09:43:56     -347.436462        0.385976\n",
      "FIRE:    5 09:43:57     -347.591003        0.276925\n",
      "FIRE:    6 09:43:57     -347.711609        0.213071\n",
      "FIRE:    7 09:43:57     -347.796143        0.225150\n",
      "FIRE:    8 09:43:57     -347.859131        0.209055\n",
      "FIRE:    9 09:43:58     -347.912292        0.221024\n",
      "FIRE:   10 09:43:58     -347.974304        0.227089\n",
      "FIRE:   11 09:43:58     -348.062744        0.211163\n",
      "FIRE:   12 09:43:58     -348.180664        0.205918\n",
      "FIRE:   13 09:43:59     -348.289307        0.142315\n",
      "FIRE:   14 09:43:59     -348.345886        0.030841\n",
      "MACE Ge slab energy:  -348.34588623046875\n"
     ]
    }
   ],
   "source": [
    "Si_slab = structures[Si_slab_idx].copy()\n",
    "Si_slab.calc = mace\n",
    "optimizer = FIRE(Si_slab)\n",
    "optimizer.run(fmax=0.05, steps=100)\n",
    "mace_si_slab_energy = Si_slab.get_potential_energy()\n",
    "print(\"MACE Si slab energy: \", mace_si_slab_energy)\n",
    "Ge_slab = structures[Ge_slab_idx].copy()\n",
    "Ge_slab.calc = mace\n",
    "optimizer = FIRE(Ge_slab)\n",
    "optimizer.run(fmax=0.05, steps=100)\n",
    "mace_ge_slab_energy = Ge_slab.get_potential_energy()\n",
    "print(\"MACE Ge slab energy: \", mace_ge_slab_energy)"
   ]
  },
  {
   "cell_type": "code",
   "execution_count": 92,
   "metadata": {},
   "outputs": [
    {
     "name": "stdout",
     "output_type": "stream",
     "text": [
      "      Step     Time          Energy          fmax\n",
      "FIRE:    0 09:43:59     -409.784050        0.140569\n",
      "FIRE:    1 09:43:59     -409.792557        0.106247\n",
      "FIRE:    2 09:43:59     -409.803467        0.068860\n",
      "FIRE:    3 09:43:59     -409.810371        0.028382\n",
      "CHGNet Si slab energy:  -409.8103713989258\n",
      "      Step     Time          Energy          fmax\n",
      "FIRE:    0 09:43:59     -345.926094        0.255277\n",
      "FIRE:    1 09:43:59     -345.937805        0.245573\n",
      "FIRE:    2 09:44:00     -345.959969        0.230151\n",
      "FIRE:    3 09:44:00     -345.990181        0.200199\n",
      "FIRE:    4 09:44:00     -346.024323        0.149002\n",
      "FIRE:    5 09:44:00     -346.059952        0.150131\n",
      "FIRE:    6 09:44:00     -346.098709        0.165833\n",
      "FIRE:    7 09:44:00     -346.141357        0.170950\n",
      "FIRE:    8 09:44:00     -346.193161        0.155809\n",
      "FIRE:    9 09:44:00     -346.253433        0.119266\n",
      "FIRE:   10 09:44:00     -346.319084        0.101086\n",
      "FIRE:   11 09:44:00     -346.387405        0.098362\n",
      "FIRE:   12 09:44:00     -346.457977        0.077959\n",
      "FIRE:   13 09:44:00     -346.520882        0.059487\n",
      "FIRE:   14 09:44:00     -346.565819        0.042928\n",
      "CHGNet Ge slab energy:  -346.5658187866211\n"
     ]
    }
   ],
   "source": [
    "Si_slab = structures[Si_slab_idx].copy()\n",
    "Si_slab.calc = chgnet\n",
    "optimizer = FIRE(Si_slab)\n",
    "optimizer.run(fmax=0.05, steps=100)\n",
    "chgnet_si_slab_energy = Si_slab.get_potential_energy()\n",
    "print(\"CHGNet Si slab energy: \", chgnet_si_slab_energy)\n",
    "Ge_slab = structures[Ge_slab_idx].copy()\n",
    "Ge_slab.calc = chgnet\n",
    "optimizer = FIRE(Ge_slab)\n",
    "optimizer.run(fmax=0.05, steps=100)\n",
    "chgnet_ge_slab_energy = Ge_slab.get_potential_energy()\n",
    "print(\"CHGNet Ge slab energy: \", chgnet_ge_slab_energy)"
   ]
  },
  {
   "cell_type": "code",
   "execution_count": 93,
   "metadata": {},
   "outputs": [],
   "source": [
    "for structure in structures:\n",
    "    structure.calc = mace\n",
    "mace_energies = [structure.get_potential_energy() for structure in structures]\n",
    "for structure in structures:\n",
    "    structure.calc = chgnet\n",
    "chgnet_energies = [structure.get_potential_energy() for structure in structures]"
   ]
  },
  {
   "cell_type": "code",
   "execution_count": 94,
   "metadata": {},
   "outputs": [],
   "source": [
    "def get_energy_indices(dft_energies, energies):\n",
    "    indices = []\n",
    "    for value in energies:\n",
    "        diff = np.array(dft_energies) - value\n",
    "        if np.min(np.abs(diff)) > 0.01:\n",
    "            print(\"Warning: no close match found for value\", value)\n",
    "        else:\n",
    "            indices.append(np.argmin(np.abs(diff)))\n",
    "\n",
    "    return indices"
   ]
  },
  {
   "cell_type": "code",
   "execution_count": 95,
   "metadata": {},
   "outputs": [
    {
     "name": "stdout",
     "output_type": "stream",
     "text": [
      "Aligned indices:  [4, 47, 27]\n"
     ]
    }
   ],
   "source": [
    "# get index of the DFT energy closest the value \n",
    "aligned_idx = [] # scf, rlx_isif2, rlx_isif3\n",
    "energies = [ -776.38185986, -777.8058117, -790.5713552 ]\n",
    "aligned_idx = get_energy_indices(dft_energies, energies)\n",
    "print(\"Aligned indices: \", aligned_idx)"
   ]
  },
  {
   "cell_type": "code",
   "execution_count": 96,
   "metadata": {},
   "outputs": [],
   "source": [
    "energies = [ -776.0978782, -777.5722837, -790.5711185 ]\n",
    "shift_0_idx = get_energy_indices(dft_energies, energies)\n",
    "\n",
    "energies = [ -751.1947494 ]\n",
    "shift_1_idx = get_energy_indices(dft_energies, energies)\n",
    "\n",
    "energies = [ -765.9984379 ]\n",
    "shift_2_idx = get_energy_indices(dft_energies, energies)\n",
    "\n",
    "energies = [ -770.698164 ]\n",
    "shift_3_idx = get_energy_indices(dft_energies, energies)\n",
    "\n",
    "energies = [ -735.7029938 ]\n",
    "shift_4_idx = get_energy_indices(dft_energies, energies)\n",
    "\n",
    "shift_idx_list = [shift_0_idx, shift_1_idx, shift_2_idx, shift_3_idx, shift_4_idx]"
   ]
  },
  {
   "cell_type": "code",
   "execution_count": 97,
   "metadata": {},
   "outputs": [],
   "source": [
    "energies = [ -777.6458466, -777.6890089, -790.4285479 ]\n",
    "mace_0_idx = get_energy_indices(dft_energies, energies)\n",
    "\n",
    "energies = [ -777.5096264 ]\n",
    "mace_1_idx = get_energy_indices(dft_energies, energies)\n",
    "\n",
    "energies = [ -763.614517 ]\n",
    "chgnet_0_idx = get_energy_indices(dft_energies, energies)\n",
    "\n",
    "energies = [ -765.4603228 ]\n",
    "chgnet_1_idx = get_energy_indices(dft_energies, energies)\n",
    "\n",
    "mace_idx_list = [mace_0_idx, mace_1_idx]\n",
    "chgnet_idx_list = [chgnet_0_idx, chgnet_1_idx]"
   ]
  },
  {
   "cell_type": "code",
   "execution_count": null,
   "metadata": {},
   "outputs": [],
   "source": []
  },
  {
   "cell_type": "code",
   "execution_count": null,
   "metadata": {},
   "outputs": [
    {
     "name": "stdout",
     "output_type": "stream",
     "text": [
      "DFT energy per area:  -0.16140655563602477 MACE energy per area:  -0.14771244415923873 CHGNet energy per area:  -0.0465756599837699\n",
      "-0.1614 & -0.1477 & -0.0466 \\\\\n",
      "-161.41 & -147.71 & -46.58 \\\\\n",
      "DFT energy per area:  -0.1672137047401783 MACE energy per area:  -0.15257074052581093 CHGNet energy per area:  -0.05500353889485115\n",
      "-0.1672 & -0.1526 & -0.0550 \\\\\n",
      "-167.21 & -152.57 & -55.00 \\\\\n",
      "DFT energy per area:  -0.213384620196825 MACE energy per area:  -0.18744368449228238 CHGNet energy per area:  -0.10065716105369826\n",
      "-0.2134 & -0.1874 & -0.1007 \\\\\n",
      "-213.38 & -187.44 & -100.66 \\\\\n"
     ]
    }
   ],
   "source": [
    "for idx in aligned_idx:\n",
    "    area = np.linalg.norm(np.cross(structures[idx].get_cell()[0], structures[idx].get_cell()[1]))\n",
    "    dft_energy_per_area = (dft_energies[idx] - dft_si_slab_energy - dft_ge_slab_energy) / (2 * area)\n",
    "    mace_energy_per_area = (mace_energies[idx] - mace_si_slab_energy - mace_ge_slab_energy) / (2 * area)\n",
    "    chgnet_energy_per_area = (chgnet_energies[idx] - chgnet_si_slab_energy - chgnet_ge_slab_energy) / (2 * area)\n",
    "    print(\"DFT energy per area: \", dft_energy_per_area, \"MACE energy per area: \", mace_energy_per_area, \"CHGNet energy per area: \", chgnet_energy_per_area)\n",
    "    # print in latex table format\n",
    "    print(f\"{dft_energy_per_area:.4f} & {mace_energy_per_area:.4f} & {chgnet_energy_per_area:.4f} \\\\\\\\\")"
   ]
  },
  {
   "cell_type": "code",
   "execution_count": 99,
   "metadata": {},
   "outputs": [
    {
     "name": "stdout",
     "output_type": "stream",
     "text": [
      "DFT energy per area:  -0.1602587213187105 MACE energy per area:  -0.14410824650170034 CHGNet energy per area:  -0.05307298505956199\n",
      "-0.1603 & -0.1441 & -0.0531 \\\\\n",
      "DFT energy per area:  -0.16626309743556564 MACE energy per area:  -0.1517461923755899 CHGNet energy per area:  -0.05428793202495401\n",
      "-0.1663 & -0.1517 & -0.0543 \\\\\n",
      "DFT energy per area:  -0.21341003188800628 MACE energy per area:  -0.18746548327294843 CHGNet energy per area:  -0.10067483207841572\n",
      "-0.2134 & -0.1875 & -0.1007 \\\\\n",
      "DFT energy per area:  -0.058825553238277366 MACE energy per area:  -0.04659927532120463 CHGNet energy per area:  -0.004421661206529005\n",
      "-0.0588 & -0.0466 & -0.0044 \\\\\n",
      "DFT energy per area:  -0.11911521801249442 MACE energy per area:  -0.10244209087936111 CHGNet energy per area:  -0.0347089529228182\n",
      "-0.1191 & -0.1024 & -0.0347 \\\\\n",
      "DFT energy per area:  -0.13825540956519236 MACE energy per area:  -0.12096596156316312 CHGNet energy per area:  -0.04362125697943555\n",
      "-0.1383 & -0.1210 & -0.0436 \\\\\n",
      "DFT energy per area:  0.00426972711744333 MACE energy per area:  0.011429574735909888 CHGNet energy per area:  0.03139099801323866\n",
      "0.0043 & 0.0114 & 0.0314 \\\\\n"
     ]
    }
   ],
   "source": [
    "for idx_list in shift_idx_list:\n",
    "    for idx in idx_list:\n",
    "        area = np.linalg.norm(np.cross(structures[idx].get_cell()[0], structures[idx].get_cell()[1]))\n",
    "        dft_energy_per_area = (dft_energies[idx] - dft_si_slab_energy - dft_ge_slab_energy) / (2 * area)\n",
    "        mace_energy_per_area = (mace_energies[idx] - mace_si_slab_energy - mace_ge_slab_energy) / (2 * area)\n",
    "        chgnet_energy_per_area = (chgnet_energies[idx] - chgnet_si_slab_energy - chgnet_ge_slab_energy) / (2 * area)\n",
    "        print(\"DFT energy per area: \", dft_energy_per_area, \"MACE energy per area: \", mace_energy_per_area, \"CHGNet energy per area: \", chgnet_energy_per_area)\n",
    "        # print in latex table format\n",
    "        print(f\"{dft_energy_per_area:.4f} & {mace_energy_per_area:.4f} & {chgnet_energy_per_area:.4f} \\\\\\\\\")"
   ]
  },
  {
   "cell_type": "code",
   "execution_count": 100,
   "metadata": {},
   "outputs": [
    {
     "name": "stdout",
     "output_type": "stream",
     "text": [
      "MACE structures:\n",
      "DFT energy per area:  -0.16655906180772645 MACE energy per area:  -0.15302241492706253 CHGNet energy per area:  -0.05796695301478559\n",
      "-0.1666 & -0.1530 & -0.0580 \\\\\n",
      "DFT energy per area:  -0.16673835048363417 MACE energy per area:  -0.15287624841746653 CHGNet energy per area:  -0.058235732842167716\n",
      "-0.1667 & -0.1529 & -0.0582 \\\\\n",
      "DFT energy per area:  -0.2128369895247581 MACE energy per area:  -0.18749090325323242 CHGNet energy per area:  -0.10293862829774943\n",
      "-0.2128 & -0.1875 & -0.1029 \\\\\n",
      "MACE structures:\n",
      "DFT energy per area:  -0.1660033138104249 MACE energy per area:  -0.15258664980576694 CHGNet energy per area:  -0.057503657381691095\n",
      "-0.1660 & -0.1526 & -0.0575 \\\\\n",
      "CHGNet structures:\n",
      "DFT energy per area:  -0.10941020376065742 MACE energy per area:  -0.08863109586402676 CHGNet energy per area:  -0.0628602995591474\n",
      "-0.1094 & -0.0886 & -0.0629 \\\\\n",
      "CHGNet structures:\n",
      "DFT energy per area:  -0.11692632599218512 MACE energy per area:  -0.09668044578009104 CHGNet energy per area:  -0.06285812446227684\n",
      "-0.1169 & -0.0967 & -0.0629 \\\\\n"
     ]
    }
   ],
   "source": [
    "for idx_list in mace_idx_list:\n",
    "    print(\"MACE structures:\")\n",
    "    for idx in idx_list:\n",
    "        area = np.linalg.norm(np.cross(structures[idx].get_cell()[0], structures[idx].get_cell()[1]))\n",
    "        dft_energy_per_area = (dft_energies[idx] - dft_si_slab_energy - dft_ge_slab_energy) / (2 * area)\n",
    "        mace_energy_per_area = (mace_energies[idx] - mace_si_slab_energy - mace_ge_slab_energy) / (2 * area)\n",
    "        chgnet_energy_per_area = (chgnet_energies[idx] - chgnet_si_slab_energy - chgnet_ge_slab_energy) / (2 * area)\n",
    "        print(\"DFT energy per area: \", dft_energy_per_area, \"MACE energy per area: \", mace_energy_per_area, \"CHGNet energy per area: \", chgnet_energy_per_area)\n",
    "        # print in latex table format\n",
    "        print(f\"{dft_energy_per_area:.4f} & {mace_energy_per_area:.4f} & {chgnet_energy_per_area:.4f} \\\\\\\\\")\n",
    "for idx_list in chgnet_idx_list:\n",
    "    print(\"CHGNet structures:\")\n",
    "    for idx in idx_list:\n",
    "        area = np.linalg.norm(np.cross(structures[idx].get_cell()[0], structures[idx].get_cell()[1]))\n",
    "        dft_energy_per_area = (dft_energies[idx] - dft_si_slab_energy - dft_ge_slab_energy) / (2 * area)\n",
    "        mace_energy_per_area = (mace_energies[idx] - mace_si_slab_energy - mace_ge_slab_energy) / (2 * area)\n",
    "        chgnet_energy_per_area = (chgnet_energies[idx] - chgnet_si_slab_energy - chgnet_ge_slab_energy) / (2 * area)\n",
    "        print(\"DFT energy per area: \", dft_energy_per_area, \"MACE energy per area: \", mace_energy_per_area, \"CHGNet energy per area: \", chgnet_energy_per_area)\n",
    "        # print in latex table format\n",
    "        print(f\"{dft_energy_per_area:.4f} & {mace_energy_per_area:.4f} & {chgnet_energy_per_area:.4f} \\\\\\\\\")"
   ]
  },
  {
   "cell_type": "code",
   "execution_count": 102,
   "metadata": {},
   "outputs": [
    {
     "name": "stdout",
     "output_type": "stream",
     "text": [
      "-161.41 & -147.71 & -46.58 \\\\\n",
      "-167.21 & -152.57 & -55.00 \\\\\n",
      "-213.38 & -187.44 & -100.66 \\\\\n",
      "-160.26 & -144.11 & -53.07 \\\\\n",
      "-166.26 & -151.75 & -54.29 \\\\\n",
      "-213.41 & -187.47 & -100.67 \\\\\n",
      "-58.83 & -46.60 & -4.42 \\\\\n",
      "-119.12 & -102.44 & -34.71 \\\\\n",
      "-138.26 & -120.97 & -43.62 \\\\\n",
      "4.27 & 11.43 & 31.39 \\\\\n",
      "-166.56 & -153.02 & -57.97 \\\\\n",
      "-166.74 & -152.88 & -58.24 \\\\\n",
      "-212.84 & -187.49 & -102.94 \\\\\n",
      "-166.00 & -152.59 & -57.50 \\\\\n",
      "-109.41 & -88.63 & -62.86 \\\\\n",
      "-116.93 & -96.68 & -62.86 \\\\\n"
     ]
    }
   ],
   "source": [
    "for idx in aligned_idx:\n",
    "    area = np.linalg.norm(np.cross(structures[idx].get_cell()[0], structures[idx].get_cell()[1]))\n",
    "    dft_energy_per_area = (dft_energies[idx] - dft_si_slab_energy - dft_ge_slab_energy) / (2 * area)\n",
    "    mace_energy_per_area = (mace_energies[idx] - mace_si_slab_energy - mace_ge_slab_energy) / (2 * area)\n",
    "    chgnet_energy_per_area = (chgnet_energies[idx] - chgnet_si_slab_energy - chgnet_ge_slab_energy) / (2 * area)\n",
    "    # print as meV per Angstrom^2\n",
    "    print(f\"{dft_energy_per_area * 1000:.2f} & {mace_energy_per_area * 1000:.2f} & {chgnet_energy_per_area * 1000:.2f} \\\\\\\\\")\n",
    "for idx_list in shift_idx_list:\n",
    "    for idx in idx_list:\n",
    "        area = np.linalg.norm(np.cross(structures[idx].get_cell()[0], structures[idx].get_cell()[1]))\n",
    "        dft_energy_per_area = (dft_energies[idx] - dft_si_slab_energy - dft_ge_slab_energy) / (2 * area)\n",
    "        mace_energy_per_area = (mace_energies[idx] - mace_si_slab_energy - mace_ge_slab_energy) / (2 * area)\n",
    "        chgnet_energy_per_area = (chgnet_energies[idx] - chgnet_si_slab_energy - chgnet_ge_slab_energy) / (2 * area)\n",
    "        # print as meV per Angstrom^2\n",
    "        print(f\"{dft_energy_per_area * 1000:.2f} & {mace_energy_per_area * 1000:.2f} & {chgnet_energy_per_area * 1000:.2f} \\\\\\\\\")\n",
    "for idx_list in mace_idx_list:\n",
    "    for idx in idx_list:\n",
    "        area = np.linalg.norm(np.cross(structures[idx].get_cell()[0], structures[idx].get_cell()[1]))\n",
    "        dft_energy_per_area = (dft_energies[idx] - dft_si_slab_energy - dft_ge_slab_energy) / (2 * area)\n",
    "        mace_energy_per_area = (mace_energies[idx] - mace_si_slab_energy - mace_ge_slab_energy) / (2 * area)\n",
    "        chgnet_energy_per_area = (chgnet_energies[idx] - chgnet_si_slab_energy - chgnet_ge_slab_energy) / (2 * area)\n",
    "        # print as meV per Angstrom^2\n",
    "        print(f\"{dft_energy_per_area * 1000:.2f} & {mace_energy_per_area * 1000:.2f} & {chgnet_energy_per_area * 1000:.2f} \\\\\\\\\")\n",
    "for idx_list in chgnet_idx_list:\n",
    "    for idx in idx_list:\n",
    "        area = np.linalg.norm(np.cross(structures[idx].get_cell()[0], structures[idx].get_cell()[1]))\n",
    "        dft_energy_per_area = (dft_energies[idx] - dft_si_slab_energy - dft_ge_slab_energy) / (2 * area)\n",
    "        mace_energy_per_area = (mace_energies[idx] - mace_si_slab_energy - mace_ge_slab_energy) / (2 * area)\n",
    "        chgnet_energy_per_area = (chgnet_energies[idx] - chgnet_si_slab_energy - chgnet_ge_slab_energy) / (2 * area)\n",
    "        # print as meV per Angstrom^2\n",
    "        print(f\"{dft_energy_per_area * 1000:.2f} & {mace_energy_per_area * 1000:.2f} & {chgnet_energy_per_area * 1000:.2f} \\\\\\\\\")"
   ]
  },
  {
   "cell_type": "code",
   "execution_count": 104,
   "metadata": {},
   "outputs": [
    {
     "data": {
      "text/plain": [
       "<Popen: returncode: None args: ['/opt/homebrew/Caskroom/miniconda/base/envs/...>"
      ]
     },
     "execution_count": 104,
     "metadata": {},
     "output_type": "execute_result"
    }
   ],
   "source": [
    "from ase.visualize import view\n",
    "view(SiGe_abrupt)"
   ]
  },
  {
   "cell_type": "code",
   "execution_count": null,
   "metadata": {},
   "outputs": [],
   "source": []
  }
 ],
 "metadata": {
  "kernelspec": {
   "display_name": "raffle_env",
   "language": "python",
   "name": "python3"
  },
  "language_info": {
   "codemirror_mode": {
    "name": "ipython",
    "version": 3
   },
   "file_extension": ".py",
   "mimetype": "text/x-python",
   "name": "python",
   "nbconvert_exporter": "python",
   "pygments_lexer": "ipython3",
   "version": "3.12.8"
  }
 },
 "nbformat": 4,
 "nbformat_minor": 2
}
