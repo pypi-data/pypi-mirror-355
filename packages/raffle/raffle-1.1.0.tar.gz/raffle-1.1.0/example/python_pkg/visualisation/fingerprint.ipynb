{
 "cells": [
  {
   "cell_type": "code",
   "execution_count": null,
   "id": "2010c09a",
   "metadata": {},
   "outputs": [],
   "source": [
    "# Iterative RAFFLE structure search\n",
    "from ase.io import read\n",
    "from raffle.generator import raffle_generator\n",
    "from mace.calculators import mace_mp\n",
    "import matplotlib.pyplot as plt\n",
    "import numpy as np\n",
    "from matplotlib.ticker import AutoMinorLocator"
   ]
  },
  {
   "cell_type": "code",
   "execution_count": null,
   "id": "c1a88ff4",
   "metadata": {},
   "outputs": [],
   "source": [
    "# Set the font family and size to use for Matplotlib figures\n",
    "plt.rc('text', usetex=True)\n",
    "plt.rc('font', family='Computer Modern')\n",
    "plt.rcParams.update({\n",
    "    \"figure.facecolor\":  (1.0, 1.0, 1.0, 1.0),  # red   with alpha = 30%\n",
    "    \"axes.facecolor\":    (1.0, 1.0, 1.0, 1.0),  # green with alpha = 50%\n",
    "    \"savefig.facecolor\": (1.0, 1.0, 1.0, 0.0),  # blue  with alpha = 20%\n",
    "})"
   ]
  },
  {
   "cell_type": "code",
   "execution_count": null,
   "id": "ac87b758",
   "metadata": {},
   "outputs": [],
   "source": [
    "generator = raffle_generator()\n",
    "calc = mace_mp(model=\"medium\", dispersion=False, default_dtype=\"float32\", device='cpu')"
   ]
  },
  {
   "cell_type": "code",
   "execution_count": null,
   "id": "b9c4c302",
   "metadata": {},
   "outputs": [],
   "source": [
    "aa_stack = read(\"POSCAR_AA_stack\")\n",
    "ab_stack = read(\"POSCAR_AB_stack\")\n",
    "abc_stack = read(\"POSCAR_ABC_stack\")\n",
    "aabbcc_stack = read(\"POSCAR_AABBCC_stack\")\n",
    "aba_stack = read(\"POSCAR_ABA_stack\")\n",
    "abab_stack = read(\"POSCAR_ABAB_stack\")\n",
    "lonsdaleite = read(\"POSCAR_lonsdaleite\")\n",
    "diamond = read(\"POSCAR_diamond\")\n",
    "\n",
    "# 0 = mp-568806\n",
    "# 1 = mp-169 = 0.001 OR mp-3347313 = 0.000\n",
    "# 2 = mp-2516584 = 0.002\n",
    "# 3 = mp-606949 = 0.006\n",
    "# 4 = mp-569416 = 0.002\n",
    "# 5 = mp-47 = 0.139\n",
    "# 6 = mp-66 = 0.112"
   ]
  },
  {
   "cell_type": "code",
   "execution_count": null,
   "id": "5a5d183b",
   "metadata": {},
   "outputs": [],
   "source": [
    "aa_stack.calc = calc\n",
    "ab_stack.calc = calc\n",
    "abc_stack.calc = calc\n",
    "aabbcc_stack.calc = calc\n",
    "aba_stack.calc = calc\n",
    "abab_stack.calc = calc\n",
    "lonsdaleite.calc = calc\n",
    "diamond.calc = calc"
   ]
  },
  {
   "cell_type": "code",
   "execution_count": null,
   "id": "40882bbe",
   "metadata": {},
   "outputs": [],
   "source": [
    "# # change aa_stack to same height as ab_stack\n",
    "# # this is to confirm that the differences in descriptor are not a result of different interlayer distances\n",
    "# ab_height = ab_stack.get_cell()[2, 2]\n",
    "# cell = aa_stack.get_cell()\n",
    "# aa_height = cell[2, 2]\n",
    "# cell[2, 2] = ab_height\n",
    "# aa_stack.set_cell(cell, scale_atoms=True)\n",
    "# aa_stack.calc = calc"
   ]
  },
  {
   "cell_type": "code",
   "execution_count": null,
   "id": "2677f485",
   "metadata": {},
   "outputs": [],
   "source": [
    "aa_descriptor = generator.distributions.generate_fingerprint(aa_stack)\n",
    "ab_descriptor = generator.distributions.generate_fingerprint(ab_stack)\n",
    "abc_descriptor = generator.distributions.generate_fingerprint(abc_stack)\n",
    "aba_descriptor = generator.distributions.generate_fingerprint(aba_stack)\n",
    "abab_descriptor = generator.distributions.generate_fingerprint(abab_stack)\n",
    "aabbcc_descriptor = generator.distributions.generate_fingerprint(aabbcc_stack)\n",
    "lonsdaleite_descriptor = generator.distributions.generate_fingerprint(lonsdaleite)\n",
    "diamond_descriptor = generator.distributions.generate_fingerprint(diamond)"
   ]
  },
  {
   "cell_type": "code",
   "execution_count": null,
   "id": "7bf54a55",
   "metadata": {},
   "outputs": [],
   "source": [
    "# Create a figure with 3 subplots side by side\n",
    "fig, axes = plt.subplots(1, 3, figsize=(18, 5))\n",
    "\n",
    "# Plot for each n-body function (2-body, 3-body, 4-body)\n",
    "for j in range(3):\n",
    "    # Calculate x-axis values\n",
    "    x = np.arange(generator.distributions.cutoff_min[j],\n",
    "                generator.distributions.cutoff_max[j] + generator.distributions.width[j],\n",
    "                generator.distributions.width[j])\n",
    "\n",
    "    # Plot on the respective subplot\n",
    "    axes[j].plot(x, aa_descriptor[j], label='AA stack')\n",
    "    axes[j].plot(x, ab_descriptor[j], label='AB stack')\n",
    "    axes[j].plot(x, abc_descriptor[j], label='ABC stack')\n",
    "    # axes[j].plot(x, aabbcc_descriptor[j], label='AABBCC stack')\n",
    "    # axes[j].plot(x, aba_descriptor[j], label='ABA stack')\n",
    "    # axes[j].plot(x, abab_descriptor[j], label='ABAB stack')\n",
    "    # axes[j].plot(x, lonsdaleite_descriptor[j], label='Lonsdaleite')\n",
    "    # axes[j].plot(x, diamond_descriptor[j], label='Diamond')\n",
    "\n",
    "    # change line colours to be more distinct\n",
    "    axes[j].lines[0].set_color('black')\n",
    "    axes[j].lines[1].set_color('red')\n",
    "    axes[j].lines[2].set_color('dodgerblue')\n",
    "    # axes[j].set_title(f'{j+2}-body fingerprint')\n",
    "    axes[j].legend()\n",
    "\n",
    "axes[0].set_ylabel('Distribution function (arb. units)', fontsize=20)\n",
    "axes[0].set_xlabel('Bond length (Å)', fontsize=20)\n",
    "axes[1].set_xlabel('3-body angle (radians)', fontsize=20)\n",
    "axes[2].set_xlabel('4-body angle (radians)', fontsize=20)\n",
    "axes[0].set_xlim(0, 6)\n",
    "axes[1].set_xlim(0, np.pi)\n",
    "axes[2].set_xlim(0, np.pi)\n",
    "\n",
    "axes[0].set_ylim(0, None)\n",
    "axes[1].set_ylim(0, 0.2)\n",
    "axes[2].set_ylim(0, 0.1)\n",
    "\n",
    "# set the legend font size\n",
    "for ax in axes:\n",
    "    for label in (ax.get_xticklabels() + ax.get_yticklabels()):\n",
    "        label.set_fontsize(16)\n",
    "    ax.legend(fontsize=16)\n",
    "\n",
    "# reduce number of ticks to five at most\n",
    "axes[0].xaxis.set_major_locator(plt.MaxNLocator(3))\n",
    "axes[0].yaxis.set_major_locator(plt.MaxNLocator(3))\n",
    "\n",
    "# set x ticks to 0, 1, 2, 3\n",
    "axes[1].set_xticks([0, 1, 2, 3])\n",
    "axes[2].set_xticks([0, 1, 2, 3])\n",
    "axes[1].set_yticks([0, 0.1, 0.2])\n",
    "axes[2].set_yticks([0, 0.05, 0.1])\n",
    "\n",
    "# have the ticks point intwards and on both sides\n",
    "for ax in axes:\n",
    "    ax.tick_params(axis='both', which='major', direction='in', length=10, width=1)\n",
    "    ax.tick_params(axis='both', which='minor', direction='in', length=5, width=1)\n",
    "    ax.tick_params(axis='x', which='major', length=10, bottom=True, top=True)\n",
    "    ax.tick_params(axis='y', which='major', length=10, left=True, right=True)\n",
    "\n",
    "# add minor ticks to all axes\n",
    "for ax in axes:\n",
    "    ax.xaxis.set_minor_locator(AutoMinorLocator(2))\n",
    "    ax.yaxis.set_minor_locator(AutoMinorLocator(2))\n",
    "\n",
    "plt.tight_layout()\n",
    "plt.show()\n",
    "\n",
    "# save as a pdf\n",
    "fig.savefig(\"fingerprints.pdf\", bbox_inches='tight', dpi=300)\n"
   ]
  },
  {
   "cell_type": "code",
   "execution_count": null,
   "id": "7a215eb5",
   "metadata": {},
   "outputs": [],
   "source": []
  }
 ],
 "metadata": {
  "kernelspec": {
   "display_name": "raffle_env",
   "language": "python",
   "name": "python3"
  },
  "language_info": {
   "codemirror_mode": {
    "name": "ipython",
    "version": 3
   },
   "file_extension": ".py",
   "mimetype": "text/x-python",
   "name": "python",
   "nbconvert_exporter": "python",
   "pygments_lexer": "ipython3",
   "version": "3.12.8"
  }
 },
 "nbformat": 4,
 "nbformat_minor": 5
}
