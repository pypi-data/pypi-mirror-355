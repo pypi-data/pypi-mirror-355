{
 "cells": [
  {
   "cell_type": "code",
   "execution_count": null,
   "id": "3d6c2910",
   "metadata": {},
   "outputs": [],
   "source": [
    "import matplotlib.pyplot as plt\n",
    "%matplotlib inline\n",
    "\n",
    "# matplotlib.use(\"Agg\")\n",
    "\n",
    "from ase.io import read\n",
    "from ase.build import bulk\n",
    "from raffle.generator import raffle_generator\n",
    "from mace.calculators import mace_mp\n",
    "# from agox.utils.replica_exchange.priors import get_prior\n",
    "\n",
    "import numpy as np"
   ]
  },
  {
   "cell_type": "code",
   "execution_count": null,
   "id": "9a20f9b1",
   "metadata": {},
   "outputs": [],
   "source": [
    "## Set up the plotting environment\n",
    "# matplotlib.rcParams.update(matplotlib.rcParamsDefault)\n",
    "plt.rc('text', usetex=True)\n",
    "plt.rc('font', family='cmr10', size=12)\n",
    "plt.rcParams[\"axes.formatter.use_mathtext\"] = True"
   ]
  },
  {
   "cell_type": "code",
   "execution_count": null,
   "id": "1638df4b",
   "metadata": {},
   "outputs": [],
   "source": [
    "calc_params = { 'model':  '../mace-mpa-0-medium.model' }\n",
    "calc = mace_mp(**calc_params)"
   ]
  },
  {
   "cell_type": "code",
   "execution_count": null,
   "id": "ebd5a544",
   "metadata": {},
   "outputs": [],
   "source": [
    "Si_bulk = bulk(\"Si\", crystalstructure=\"diamond\", a=5.43)\n",
    "Si_bulk.calc = calc\n",
    "Si_reference_energy = Si_bulk.get_potential_energy() / len(Si_bulk)\n",
    "Ge_bulk = bulk(\"Ge\", crystalstructure=\"diamond\", a=5.65)\n",
    "Ge_bulk.calc = calc\n",
    "Ge_reference_energy = Ge_bulk.get_potential_energy() / len(Ge_bulk)\n",
    "\n",
    "element_energies = {'Si': Si_reference_energy, 'Ge': Ge_reference_energy}"
   ]
  },
  {
   "cell_type": "code",
   "execution_count": null,
   "id": "ad709154",
   "metadata": {},
   "outputs": [],
   "source": [
    "host = read(\"host.traj\")\n",
    "host.calc = calc\n",
    "structures = read(\"converted_db.traj\", index=\":\")"
   ]
  },
  {
   "cell_type": "code",
   "execution_count": null,
   "id": "f4ec10e6",
   "metadata": {},
   "outputs": [],
   "source": [
    "generator = raffle_generator(\n",
    "    history_len = 10,\n",
    "    host = host,\n",
    "    element_energies = element_energies,\n",
    "    kBT = 0.2\n",
    ")"
   ]
  },
  {
   "cell_type": "code",
   "execution_count": null,
   "id": "dfeb8c6e",
   "metadata": {},
   "outputs": [],
   "source": [
    "generator.distributions.create([Si_bulk, Ge_bulk])"
   ]
  },
  {
   "cell_type": "code",
   "execution_count": null,
   "id": "aba0683d",
   "metadata": {},
   "outputs": [],
   "source": [
    "for i, structure in enumerate(structures):\n",
    "    print(structures[:i+1])"
   ]
  },
  {
   "cell_type": "code",
   "execution_count": null,
   "id": "9851ddd0",
   "metadata": {},
   "outputs": [],
   "source": [
    "convergence = []\n",
    "for i, structure in enumerate(structures):\n",
    "    generator.distributions.update(structure)\n",
    "    convergence.append( generator.distributions.history_deltas[0])\n"
   ]
  },
  {
   "cell_type": "code",
   "execution_count": null,
   "id": "670b7b74",
   "metadata": {},
   "outputs": [],
   "source": [
    "from matplotlib.scale import ScaleBase\n",
    "from matplotlib.transforms import Transform\n",
    "import numpy as np\n",
    "\n",
    "class CubeRootScale(ScaleBase):\n",
    "    name = 'cuberoot'\n",
    "\n",
    "    def get_transform(self):\n",
    "        return self.CubeRootTransform()\n",
    "\n",
    "    def set_default_locators_and_formatters(self, axis):\n",
    "        axis.set_major_locator(plt.MaxNLocator(integer=True))\n",
    "        axis.set_major_formatter(plt.FuncFormatter(lambda y, _: f\"{y**3:.2f}\"))\n",
    "\n",
    "    class CubeRootTransform(Transform):\n",
    "        input_dims = output_dims = 1\n",
    "\n",
    "        def transform_non_affine(self, a):\n",
    "            a = np.asarray(a)\n",
    "            return np.cbrt(a)\n",
    "\n",
    "        def inverted(self):\n",
    "            return CubeRootScale.InvertedCubeRootTransform()\n",
    "\n",
    "    class InvertedCubeRootTransform(Transform):\n",
    "        input_dims = output_dims = 1\n",
    "\n",
    "        def transform_non_affine(self, a):\n",
    "            a = np.asarray(a)\n",
    "            return a #**3\n",
    "\n",
    "        def inverted(self):\n",
    "            return CubeRootScale.CubeRootTransform()\n",
    "\n",
    "# Register the custom scale\n",
    "import matplotlib.scale as mscale\n",
    "mscale.register_scale(CubeRootScale)\n"
   ]
  },
  {
   "cell_type": "code",
   "execution_count": null,
   "id": "3c61dc3e",
   "metadata": {},
   "outputs": [],
   "source": [
    "# plot convergence log plot as a function of the number of structures\n",
    "# ax = plt.figure(figsize=(8, 6))\n",
    "%matplotlib widget\n",
    "fig = plt.figure(figsize=(8, 6))\n",
    "ax = fig.add_subplot(1, 1, 1)\n",
    "power = 1.0 #/ 3.0\n",
    "plt.plot(np.arange(len(convergence)), [ x**power for x in convergence], color=\"black\", linestyle=\"-\", marker='o', markersize=3, linewidth=0.5, label='Convergence')\n",
    "# change colour of line to black\n",
    "\n",
    "# add a window averaged line\n",
    "window_size = 10\n",
    "averaged = np.convolve([ x**power for x in convergence], np.ones(window_size)/window_size, mode='valid')\n",
    "plt.plot(np.arange(window_size-1, len(convergence)), averaged, color='red', label='Window Averaged')\n",
    "plt.legend()\n",
    "\n",
    "# add a cumulative average line\n",
    "cumulative_average = np.cumsum([ x**power for x in convergence]) / np.arange(1, len(convergence)+1)\n",
    "plt.plot(np.arange(len(convergence)), cumulative_average, color='blue', label='Cumulative Average')\n",
    "plt.legend()\n",
    "\n",
    "ax.set_xlabel('Number of Structures', fontsize=20)\n",
    "ax.set_ylabel('Convergence Metric', fontsize=20)\n",
    "# plt.title('Convergence of the Raffle Generator')\n",
    "plt.show()\n",
    "\n",
    "# set x and y limits\n",
    "ax.set_xlim(0, len(convergence)+1)\n",
    "ax.set_ylim(0, 1)\n",
    "\n",
    "# add y=0 line\n",
    "ax.axhline(0, color='black', linestyle='--', linewidth=1.0)\n",
    "\n",
    "\n",
    "\n",
    "ax.set_yscale('cuberoot')\n",
    "# # Desired original y-values (before cube root)\n",
    "# --- Custom ticks in original (linear) space ---\n",
    "major_linear = [0.0, 0.01, 0.1, 1.0]\n",
    "\n",
    "minor_linear = []\n",
    "for major in major_linear:\n",
    "    minor_linear.extend([ major * 0.1 * i  for i in range(1, 10)])\n",
    "\n",
    "# Convert to cube root space\n",
    "major_cuberoot = [x**power for x in major_linear]\n",
    "minor_cuberoot = [x**power for x in minor_linear]\n",
    "\n",
    "# Set major and minor ticks\n",
    "ax.set_yticks(major_cuberoot)\n",
    "ax.set_yticklabels([f\"{x:.2f}\" for x in major_linear])\n",
    "ax.set_yticks(minor_cuberoot, minor=True)\n",
    "\n",
    "\n",
    "# change x ticks\n",
    "ax.xaxis.set_major_locator(plt.MultipleLocator(50))\n",
    "ax.xaxis.set_minor_locator(plt.MultipleLocator(25))\n",
    "\n",
    "# have the ticks point intwards and on both sides\n",
    "ax.tick_params(axis='both', which='major', direction='in', length=10, width=1)\n",
    "ax.tick_params(axis='both', which='minor', direction='in', length=5, width=1)\n",
    "ax.tick_params(axis='x', which='both', bottom=True, top=True)\n",
    "ax.tick_params(axis='y', which='both', left=True, right=True)\n",
    "\n",
    "# set the legend font size\n",
    "for label in (ax.get_xticklabels() + ax.get_yticklabels()):\n",
    "    label.set_fontsize(16)\n",
    "ax.legend(fontsize=16)\n",
    "\n",
    "plt.savefig('convergence.pdf', bbox_inches='tight', pad_inches=0, facecolor=fig.get_facecolor(), edgecolor='none')"
   ]
  },
  {
   "cell_type": "code",
   "execution_count": null,
   "id": "4230354a",
   "metadata": {},
   "outputs": [],
   "source": []
  }
 ],
 "metadata": {
  "kernelspec": {
   "display_name": "raffle_env",
   "language": "python",
   "name": "python3"
  },
  "language_info": {
   "codemirror_mode": {
    "name": "ipython",
    "version": 3
   },
   "file_extension": ".py",
   "mimetype": "text/x-python",
   "name": "python",
   "nbconvert_exporter": "python",
   "pygments_lexer": "ipython3",
   "version": "3.12.8"
  }
 },
 "nbformat": 4,
 "nbformat_minor": 5
}
