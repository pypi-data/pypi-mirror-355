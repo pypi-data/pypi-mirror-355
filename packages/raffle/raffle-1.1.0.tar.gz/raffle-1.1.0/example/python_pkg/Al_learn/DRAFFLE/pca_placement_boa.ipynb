{
 "cells": [
  {
   "cell_type": "code",
   "execution_count": null,
   "metadata": {},
   "outputs": [],
   "source": [
    "import matplotlib.pyplot as plt\n",
    "%matplotlib inline\n",
    "\n",
    "# matplotlib.use(\"Agg\")\n",
    "\n",
    "from ase.visualize import view\n",
    "\n",
    "from ase.io import read\n",
    "from agox.databases import Database\n",
    "from agox.environments import Environment\n",
    "from agox.utils.graph_sorting import Analysis\n",
    "\n",
    "import glob\n",
    "import numpy as np\n",
    "from sklearn.decomposition import PCA\n",
    "from matplotlib.ticker import (MultipleLocator, AutoMinorLocator)"
   ]
  },
  {
   "cell_type": "code",
   "execution_count": null,
   "metadata": {},
   "outputs": [],
   "source": [
    "## Set up the plotting environment\n",
    "# matplotlib.rcParams.update(matplotlib.rcParamsDefault)\n",
    "plt.rc('text', usetex=True)\n",
    "plt.rc('font', family='cmr10', size=12)\n",
    "plt.rcParams[\"axes.formatter.use_mathtext\"] = True"
   ]
  },
  {
   "cell_type": "code",
   "execution_count": null,
   "metadata": {},
   "outputs": [],
   "source": [
    "## Set the plotting parameters\n",
    "seed = 0\n",
    "identifier = \"\"\n",
    "prefix = \"\"\n",
    "output_directory_prefix = \"DOutput/\"\n",
    "method = \"\" #\"2\""
   ]
  },
  {
   "cell_type": "code",
   "execution_count": null,
   "metadata": {},
   "outputs": [],
   "source": [
    "## Set the descriptors\n",
    "from agox.models.descriptors import SOAP\n",
    "local_descriptor = local_descriptor = SOAP.from_species([\"Al\"], r_cut=5.0)"
   ]
  },
  {
   "cell_type": "code",
   "execution_count": null,
   "metadata": {},
   "outputs": [],
   "source": [
    "## Set the calculators\n",
    "from chgnet.model import CHGNetCalculator\n",
    "from ase.calculators.singlepoint import SinglePointCalculator\n",
    "calc = CHGNetCalculator()"
   ]
  },
  {
   "cell_type": "code",
   "execution_count": null,
   "metadata": {},
   "outputs": [],
   "source": [
    "## Load known structures\n",
    "poscar_files = glob.glob(\"../known_phases/*.vasp\")\n",
    "known_phases = []\n",
    "opacity_list = []\n",
    "known_phase_labels = []\n",
    "for poscar_file in poscar_files:\n",
    "  phase = read(poscar_file)\n",
    "  opacity = None\n",
    "  if \"mp-134.vasp\" in poscar_file:\n",
    "    print(\"FCC\")\n",
    "    cell = phase.get_cell()\n",
    "    cell = [ vec * 4.02 / np.linalg.norm(vec) for vec in cell]\n",
    "    phase.set_cell(cell, scale_atoms=True)\n",
    "    opacity = 1.0\n",
    "    label = \"FCC (mp-134)\"\n",
    "  elif \"mp-2647008.vasp\" in poscar_file:\n",
    "    print(\"HCP\")\n",
    "    cell = phase.get_cell()\n",
    "    cell = [ vec * 3.56 / np.linalg.norm(vec) for vec in cell]\n",
    "    phase.set_cell(cell, scale_atoms=True)\n",
    "    opacity = 0.6\n",
    "    label = \"HCP (mp-2647008)\"\n",
    "  elif \"mp-998860.vasp\" in poscar_file:\n",
    "    print(\"BCC\")\n",
    "    cell = phase.get_cell()\n",
    "    cell = [ vec * 3.10 / np.linalg.norm(vec) for vec in cell]\n",
    "    phase.set_cell(cell, scale_atoms=True)\n",
    "    opacity = 0.4\n",
    "    label = \"BCC (mp-998860)\"\n",
    "  elif \"mp-1183144.vasp\" in poscar_file:\n",
    "    print(\"$\\\\alpha$\")\n",
    "    cell = phase.get_cell()\n",
    "    # cell[0] = [ vec * 4.94 / np.linalg.norm(vec) for vec in cell]\n",
    "    # cell[1] = [ vec * 4.94 / np.linalg.norm(vec) for vec in cell]\n",
    "    cell[2] = cell[2] * 9.88 / np.linalg.norm(cell[2])\n",
    "    phase.set_cell(cell, scale_atoms=True)\n",
    "    opacity = 0.7\n",
    "    label = \"$\\\\alpha$ (mp-1183144)\"\n",
    "  else:\n",
    "    print(\"Skipping \", poscar_file)\n",
    "    continue\n",
    "  opacity_list.append(opacity)\n",
    "  known_phase_labels.append(label)\n",
    "  phase.calc = calc\n",
    "  known_phases.append(phase)"
   ]
  },
  {
   "cell_type": "code",
   "execution_count": null,
   "metadata": {},
   "outputs": [],
   "source": [
    "## Load the unrelaxed structures\n",
    "unrlxd_structures = read(prefix+output_directory_prefix+method+\"/unrlxd_structures_seed\"+str(seed)+\".traj\", index=\":\")\n",
    "# for structure in unrlxd_structures:\n",
    "#   structure.calc = calc\n",
    "  "
   ]
  },
  {
   "cell_type": "code",
   "execution_count": null,
   "metadata": {},
   "outputs": [],
   "source": [
    "## Load the relaxed structures\n",
    "rlxd_structures = read(prefix+output_directory_prefix+method+\"/rlxd_structures_seed\"+str(seed)+\".traj\", index=\":\")\n",
    "# for structure in rlxd_structures:\n",
    "#   structure.calc = calc"
   ]
  },
  {
   "cell_type": "code",
   "execution_count": null,
   "metadata": {},
   "outputs": [],
   "source": [
    "## Get the minimum energy\n",
    "min_energy = np.min([structure.get_potential_energy()/len(structure) for structure in rlxd_structures])"
   ]
  },
  {
   "cell_type": "code",
   "execution_count": null,
   "metadata": {},
   "outputs": [],
   "source": [
    "## Calculate energies per atom for each unrelaxed structure\n",
    "energies_per_atom = [structure.get_potential_energy() / len(structure) for structure in unrlxd_structures]\n",
    "unrlxd_delta_en_per_atom = np.array(energies_per_atom) - min_energy\n",
    "print(\"Unrelaxed min energy: \", np.min(energies_per_atom))"
   ]
  },
  {
   "cell_type": "code",
   "execution_count": null,
   "metadata": {},
   "outputs": [],
   "source": [
    "## Calculate energies per atom for each relaxed structure\n",
    "energies_per_atom = [structure.get_potential_energy() / len(structure) for structure in rlxd_structures]\n",
    "rlxd_delta_en_per_atom = np.array(energies_per_atom) - min_energy\n",
    "print(\"Relaxed min energy: \", np.min(energies_per_atom))"
   ]
  },
  {
   "cell_type": "code",
   "execution_count": null,
   "metadata": {},
   "outputs": [],
   "source": [
    "## Set up the PCA\n",
    "pca = PCA(n_components=2)"
   ]
  },
  {
   "cell_type": "code",
   "execution_count": null,
   "metadata": {},
   "outputs": [],
   "source": [
    "## Get the 'super atom' descriptors for the unrelaxed structures\n",
    "unrlxd_super_atoms = []\n",
    "for structure in unrlxd_structures:\n",
    "  unrlxd_super_atoms.append( np.mean(local_descriptor.get_features(structure), axis=0) )"
   ]
  },
  {
   "cell_type": "code",
   "execution_count": null,
   "metadata": {},
   "outputs": [],
   "source": [
    "## Get the 'super atom' descriptors for the relaxed structures\n",
    "rlxd_super_atoms = []\n",
    "for structure in rlxd_structures:\n",
    "  rlxd_super_atoms.append( np.mean(local_descriptor.get_features(structure), axis=0) )"
   ]
  },
  {
   "cell_type": "code",
   "execution_count": null,
   "metadata": {},
   "outputs": [],
   "source": [
    "## Get the 'super atom' descriptors for the known structures\n",
    "known_super_atoms = []\n",
    "for structure in known_phases:\n",
    "  known_super_atoms.append( np.mean(local_descriptor.get_features(structure), axis=0) )"
   ]
  },
  {
   "cell_type": "code",
   "execution_count": null,
   "metadata": {},
   "outputs": [],
   "source": [
    "## Fit the PCA model to the unrelaxed or relaxed structures\n",
    "rlxd_string = \"rlxd\""
   ]
  },
  {
   "cell_type": "code",
   "execution_count": null,
   "metadata": {},
   "outputs": [],
   "source": [
    "## Save pca model\n",
    "import pickle\n",
    "if False:\n",
    "  pca.fit(np.squeeze([arr for arr in rlxd_super_atoms]))\n",
    "  with open(\"pca_model_all_rlxd_r_\"+str(seed)+\".pkl\", \"wb\") as f:\n",
    "    pickle.dump(pca, f)\n",
    "\n",
    "## Load pca model\n",
    "with open(\"pca_model_all_\"+rlxd_string+\"_0.pkl\", \"rb\") as f:\n",
    "  pca = pickle.load(f)"
   ]
  },
  {
   "cell_type": "code",
   "execution_count": null,
   "metadata": {},
   "outputs": [],
   "source": [
    "## Transform the unrelaxed and relaxed structures to the reduced space\n",
    "unrlxd_X_reduced = pca.transform(np.squeeze([arr for arr in unrlxd_super_atoms]))\n",
    "rlxd_X_reduced = pca.transform(np.squeeze([arr for arr in rlxd_super_atoms]))\n",
    "known_X_reduced = pca.transform(np.squeeze([arr for arr in known_super_atoms]))"
   ]
  },
  {
   "cell_type": "code",
   "execution_count": null,
   "metadata": {},
   "outputs": [],
   "source": [
    "## Get the index of the structure with the minimum energy\n",
    "min_energy_index = np.argmin(rlxd_delta_en_per_atom)\n",
    "print(min_energy_index)\n"
   ]
  },
  {
   "cell_type": "code",
   "execution_count": null,
   "metadata": {},
   "outputs": [],
   "source": [
    "tol_x = 3  # Adjust as needed\n",
    "tol_y = 0.2\n",
    "clusters = []         # will store the current \"center\" of each cluster (basin)\n",
    "cluster_indices = []  # list of lists: each sublist stores indices belonging to that cluster\n",
    "\n",
    "for i, pt in enumerate(rlxd_X_reduced):\n",
    "    assigned = False\n",
    "    for j, center in enumerate(clusters):\n",
    "        if all( abs(pt - center) < [tol_x, tol_y] ):\n",
    "            # Add index to this cluster and update the cluster center (mean of points)\n",
    "            cluster_indices[j].append(i)\n",
    "            clusters[j] = np.mean(rlxd_X_reduced[cluster_indices[j]], axis=0)\n",
    "            assigned = True\n",
    "            break\n",
    "    if not assigned:\n",
    "        # Start a new cluster\n",
    "        clusters.append(pt.copy())\n",
    "        cluster_indices.append([i])\n",
    "\n",
    "print(len(cluster_indices))\n",
    "for i in range(len(cluster_indices)):\n",
    "    print(cluster_indices[i])\n"
   ]
  },
  {
   "cell_type": "code",
   "execution_count": null,
   "metadata": {},
   "outputs": [],
   "source": [
    "from matplotlib import cm\n",
    "\n",
    "n_clusters = len(clusters)\n",
    "colors = cm.tab20(np.linspace(0, 1, n_clusters))\n",
    "for idx, indices in enumerate(cluster_indices):\n",
    "    # plt.scatter(unrlxd_X_reduced[indices, 0],unrlxd_X_reduced[indices, 1], color=colors[idx])\n",
    "    plt.scatter(rlxd_X_reduced[indices, 0],rlxd_X_reduced[indices, 1], color=colors[idx])\n",
    "    # plot average point of each cluster\n",
    "    plt.scatter(clusters[idx][0], clusters[idx][1], color=colors[idx], marker='x', s=100, linewidths=2, label=f'Cluster {idx}')\n",
    "plt.legend()"
   ]
  },
  {
   "cell_type": "code",
   "execution_count": null,
   "metadata": {},
   "outputs": [],
   "source": [
    "## Plot the PCA\n",
    "fig, axes = plt.subplots(nrows=1, ncols=2, figsize=(8, 6))\n",
    "\n",
    "plt.subplots_adjust(wspace=0.05, hspace=0)\n",
    "\n",
    "## Get the maximum energy for the colourbar\n",
    "#max_en = min(3.0, max(np.max(unrlxd_delta_en_per_atom), np.max(rlxd_delta_en_per_atom)))\n",
    "\n",
    "## Plot the PCA\n",
    "colorlist = [\n",
    "    (0.4, 0.4, 0.8, 1.0),\n",
    "    (0.4, 0.8, 0.4, 1.0),\n",
    "    (1.0, 0.0, 0.0, 1.0),\n",
    "    (1.0, 0.6, 0.6, 1.0),\n",
    "\n",
    "    (1.0, 0.6, 0.6, 0.2),\n",
    "    (1.0, 0.6, 0.6, 0.2),\n",
    "    (1.0, 0.6, 0.6, 0.2),\n",
    "    (1.0, 0.6, 0.6, 0.2),\n",
    "    (1.0, 0.6, 0.6, 0.2),\n",
    "    (1.0, 0.6, 0.6, 0.2),\n",
    "    (1.0, 0.6, 0.6, 0.2),\n",
    "    (1.0, 0.6, 0.6, 0.2),\n",
    "    (1.0, 0.6, 0.6, 0.2),\n",
    "    (1.0, 0.6, 0.6, 0.2),\n",
    "    (1.0, 0.6, 0.6, 0.2),\n",
    "    (1.0, 0.6, 0.6, 0.2),\n",
    "    (1.0, 0.6, 0.6, 0.2),\n",
    "    ]\n",
    "i = -1\n",
    "for idx, indices in reversed(list(enumerate(cluster_indices))):\n",
    "     if idx in [ 0, 2, 9, 11]: # [tol_x = 3, tol_y = 0.2]\n",
    "        i += 1\n",
    "        print(idx, indices, i)\n",
    "        #plt.scatter(unrlxd_X_reduced[indices, 0],unrlxd_X_reduced[indices, 1], color=colors[idx])\n",
    "        axes[0].scatter(unrlxd_X_reduced[indices, 0], unrlxd_X_reduced[indices, 1], color=colorlist[i])\n",
    "        axes[1].scatter(rlxd_X_reduced[indices, 0], rlxd_X_reduced[indices, 1], color=colorlist[i])\n",
    "\n",
    "#axes[0].scatter(unrlxd_X_reduced[:, 0], unrlxd_X_reduced[:, 1], c=unrlxd_delta_en_per_atom, cmap=\"viridis\", vmin = 0, vmax = max_en)\n",
    "#axes[1].scatter(rlxd_X_reduced[:, 0], rlxd_X_reduced[:, 1], c=rlxd_delta_en_per_atom, cmap=\"viridis\", vmin = 0, vmax = max_en)\n",
    "\n",
    "\n",
    "# Sort pairs of opacity and X_reduced by opacity value (highest to lowest)\n",
    "sorted_pairs = sorted(zip(opacity_list, known_X_reduced, known_phase_labels), key=lambda x: x[0], reverse=False)\n",
    "## Add the minimum energy structures to the plot\n",
    "for ax in axes:\n",
    "    for i, X in enumerate(sorted_pairs):\n",
    "        ax.scatter(X[1][0], X[1][1], s=200, edgecolor=[1.0, 1.0-X[0], 1.0-X[0], X[0]], facecolor='none', linewidth=2, label=X[2])\n",
    "    if ax == axes[1]:\n",
    "        handles, labels = ax.get_legend_handles_labels()\n",
    "        ax.legend(handles[::-1], labels[::-1], facecolor='white', framealpha=1.0, edgecolor='black', fancybox=False, bbox_to_anchor=(1.041, 1.0), fontsize=20, handletextpad=0.2, borderpad=0.3, handlelength=1)\n",
    "  \n",
    "\n",
    "\n",
    "## Add labels\n",
    "fig.text(0.5, 0.0, 'Principal component 1', ha='center', fontsize=20)\n",
    "axes[0].set_ylabel('Principal component 2', fontsize=20)\n",
    "axes[0].set_title('Unrelaxed', fontsize=20)\n",
    "axes[1].set_title('Relaxed', fontsize=20)\n",
    "if rlxd_string == \"rlxd\":\n",
    "  xlims = [-30, 65]\n",
    "  ylims = [-5, 20]\n",
    "else:\n",
    "  xlims = [-42, 55]\n",
    "  ylims = [-12, 30]\n",
    "\n",
    "for ax in axes:\n",
    "    ax.tick_params(axis='both', direction='in', length=6, labelsize=20)\n",
    "    # ax.yaxis.set_major_locator(MultipleLocator(3))\n",
    "    ax.yaxis.set_minor_locator(AutoMinorLocator(2))\n",
    "    ax.xaxis.set_minor_locator(AutoMinorLocator(2))\n",
    "    ax.tick_params(axis='both', which='minor', length=3, direction='in')\n",
    "    ax.set_xlim(xlims)\n",
    "    ax.set_ylim(ylims)\n",
    "\n",
    "## Unify tick labels\n",
    "xticks = axes[0].get_xticks()\n",
    "xticks = xticks[(xticks >= xlims[0]) & (xticks <= xlims[1])]\n",
    "\n",
    "axes[1].set_xticks(xticks)\n",
    "axes[1].set_yticklabels([])\n",
    "axes[0].tick_params(axis='x', labelbottom=True, top=True)\n",
    "axes[1].tick_params(axis='x', labelbottom=True, top=True)\n",
    "axes[0].tick_params(axis='y', labelbottom=True, right=True)\n",
    "axes[1].tick_params(axis='y', labelbottom=True, right=True)\n",
    "\n",
    "## Make axes[0] and axes[1] the same width\n",
    "axes[0].set_box_aspect(1.7)\n",
    "axes[1].set_box_aspect(1.7)\n",
    "\n",
    "## Add colorbar next to the axes\n",
    "#cbar = fig.colorbar(axes[1].collections[0], ax=axes, orientation='vertical', fraction=0.085, pad=0.02)\n",
    "#cbar.set_label('Formation energy (eV/atom)', fontsize=15)\n",
    "\n",
    "## Save the figure\n",
    "plt.savefig('Al_RAFFLE_pca_'+rlxd_string+'_fit_seed'+str(seed)+'_boa_custom.pdf', bbox_inches='tight', pad_inches=0, facecolor=fig.get_facecolor(), edgecolor='none')\n"
   ]
  },
  {
   "cell_type": "code",
   "execution_count": null,
   "metadata": {},
   "outputs": [],
   "source": [
    "## Identify the line of structures in the lower right corner\n",
    "for i in range(len(rlxd_X_reduced)):\n",
    "  if rlxd_X_reduced[i, 0] > 40 and rlxd_X_reduced[i, 0] < 45 and rlxd_X_reduced[i, 1] > -5 and rlxd_X_reduced[i, 1] < 0:\n",
    "    print(i)"
   ]
  }
 ],
 "metadata": {
  "kernelspec": {
   "display_name": "raffle_env",
   "language": "python",
   "name": "python3"
  },
  "language_info": {
   "codemirror_mode": {
    "name": "ipython",
    "version": 3
   },
   "file_extension": ".py",
   "mimetype": "text/x-python",
   "name": "python",
   "nbconvert_exporter": "python",
   "pygments_lexer": "ipython3",
   "version": "3.12.2"
  }
 },
 "nbformat": 4,
 "nbformat_minor": 2
}
