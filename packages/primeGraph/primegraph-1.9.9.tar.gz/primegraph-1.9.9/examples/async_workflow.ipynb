{
 "cells": [
  {
   "cell_type": "code",
   "execution_count": 9,
   "metadata": {},
   "outputs": [],
   "source": [
    "from primeGraph import Graph, START, END\n",
    "from primeGraph.models import GraphState\n",
    "from primeGraph.buffer import History, LastValue\n",
    "from pydantic import BaseModel\n",
    "from openai import AsyncOpenAI\n",
    "import instructor\n",
    "from IPython.display import Image\n",
    "from typing import Tuple\n",
    "\n",
    "from dotenv import load_dotenv\n",
    "\n",
    "# assumes you have a local .env file with OPENAI_API_KEY set\n",
    "load_dotenv()\n",
    "\n",
    "# loading openai client\n",
    "client = instructor.from_openai(AsyncOpenAI())\n"
   ]
  },
  {
   "cell_type": "markdown",
   "metadata": {},
   "source": [
    "# Async workflow\n"
   ]
  },
  {
   "cell_type": "code",
   "execution_count": 21,
   "metadata": {},
   "outputs": [
    {
     "data": {
      "image/png": "[encoded data removed]",
      "text/plain": [
       "<IPython.core.display.Image object>"
      ]
     },
     "execution_count": 21,
     "metadata": {},
     "output_type": "execute_result"
    }
   ],
   "source": [
    "class Character(GraphState):\n",
    "    character_name: LastValue[str]\n",
    "    character_items: History[Tuple[str,str]]\n",
    "    character_summary: LastValue[str]\n",
    "    \n",
    "class CharacterName(BaseModel):\n",
    "    character_name: str\n",
    "\n",
    "class CharacterSummary(BaseModel):\n",
    "    character_summary: str\n",
    "\n",
    "class CharacterItem(BaseModel):\n",
    "    item_name: str\n",
    "    item_description: str\n",
    "\n",
    "\n",
    "character_state = Character(character_name=\"\", character_items=[], character_summary=\"\")\n",
    "character_graph = Graph(state=character_state, verbose=False)\n",
    "\n",
    "@character_graph.node()\n",
    "async def pick_character_name(state):\n",
    "    res = await client.chat.completions.create(\n",
    "        model=\"gpt-4o-mini\",\n",
    "        messages=[{\"role\": \"user\", \"content\": \"Pick me a character from Lord of the Rings\"}],\n",
    "        response_model=CharacterName,\n",
    "    )\n",
    "    return {\"character_name\": res.character_name}\n",
    "\n",
    "\n",
    "@character_graph.node()\n",
    "async def pick_character_profession(state):\n",
    "    res = await client.chat.completions.create(\n",
    "        model=\"gpt-4o-mini\",\n",
    "        messages=[{\"role\": \"user\", \"content\": \"Pick me a profession for the character\"}],\n",
    "        response_model=CharacterItem,\n",
    "    )\n",
    "    return {\"character_items\": (res.item_name, res.item_description)}\n",
    "\n",
    "@character_graph.node()\n",
    "async def pick_character_apparel(state):\n",
    "    res = await client.chat.completions.create(\n",
    "        model=\"gpt-4o-mini\",\n",
    "        messages=[{\"role\": \"user\", \"content\": \"Pick me a clothing for the character\"}],\n",
    "        response_model=CharacterItem,\n",
    "    )\n",
    "    return {\"character_items\": (res.item_name, res.item_description)}\n",
    "\n",
    "@character_graph.node()\n",
    "async def pick_character_partner(state):\n",
    "    res = await client.chat.completions.create(\n",
    "        model=\"gpt-4o-mini\",\n",
    "        messages=[{\"role\": \"user\", \"content\": \"Pick me a partner for the character\"}],\n",
    "        response_model=CharacterItem,\n",
    "    )\n",
    "    return {\"character_items\": (res.item_name, res.item_description)}\n",
    "\n",
    "@character_graph.node()\n",
    "async def create_charater_summary(state):\n",
    "    ch_items = \"\\n\".join([f\"{item[0]}: {item[1]}\" for item in state.character_items])\n",
    "    res = await client.chat.completions.create(\n",
    "        model=\"gpt-4o-mini\",\n",
    "        messages=[{\"role\": \"user\", \"content\": f\"Name: {state.character_name} \\\n",
    "        \\nItems: {ch_items}\"}],\n",
    "        response_model=CharacterSummary,\n",
    "    )\n",
    "    return {\"character_summary\": res.character_summary}\n",
    "\n",
    "character_graph.add_edge(START, \"pick_character_name\")\n",
    "character_graph.add_edge(\"pick_character_name\", \"pick_character_profession\")\n",
    "character_graph.add_edge(\"pick_character_name\", \"pick_character_apparel\")\n",
    "character_graph.add_edge(\"pick_character_name\", \"pick_character_partner\")\n",
    "character_graph.add_edge(\"pick_character_profession\", \"create_charater_summary\")\n",
    "character_graph.add_edge(\"pick_character_apparel\", \"create_charater_summary\")\n",
    "character_graph.add_edge(\"pick_character_partner\", \"create_charater_summary\")\n",
    "character_graph.add_edge(\"create_charater_summary\", END)\n",
    "\n",
    "character_graph.compile()\n",
    "Image(character_graph.visualize(transparent=True).pipe(format='png'))\n"
   ]
  },
  {
   "cell_type": "code",
   "execution_count": 17,
   "metadata": {},
   "outputs": [
    {
     "data": {
      "text/plain": [
       "'chain_cf6de100-9dc9-4688-9634-5fa7c7d69434'"
      ]
     },
     "execution_count": 17,
     "metadata": {},
     "output_type": "execute_result"
    }
   ],
   "source": [
    "await character_graph.start_async()"
   ]
  },
  {
   "cell_type": "code",
   "execution_count": 19,
   "metadata": {},
   "outputs": [
    {
     "data": {
      "text/html": [
       "<pre style=\"white-space:pre;overflow-x:auto;line-height:normal;font-family:Menlo,'DejaVu Sans Mono',consolas,'Courier New',monospace\"><span style=\"color: #800080; text-decoration-color: #800080; font-weight: bold\">Character</span><span style=\"font-weight: bold\">(</span>\n",
       "    <span style=\"color: #808000; text-decoration-color: #808000\">version</span>=<span style=\"color: #008000; text-decoration-color: #008000\">'a35efff8c805417e13d4b950e6d7281c'</span>,\n",
       "    <span style=\"color: #808000; text-decoration-color: #808000\">character_name</span>=<span style=\"color: #008000; text-decoration-color: #008000\">'Frodo Baggins'</span>,\n",
       "    <span style=\"color: #808000; text-decoration-color: #808000\">character_items</span>=<span style=\"font-weight: bold\">[</span>\n",
       "        <span style=\"font-weight: bold\">(</span>\n",
       "            <span style=\"color: #008000; text-decoration-color: #008000\">'Mysterious Stranger'</span>,\n",
       "            <span style=\"color: #008000; text-decoration-color: #008000\">\"A hooded figure who appears at unexpected moments, offering cryptic advice and insight into the </span>\n",
       "<span style=\"color: #008000; text-decoration-color: #008000\">character's quest.\"</span>\n",
       "        <span style=\"font-weight: bold\">)</span>,\n",
       "        <span style=\"font-weight: bold\">(</span>\n",
       "            <span style=\"color: #008000; text-decoration-color: #008000\">'Mystic Robe'</span>,\n",
       "            <span style=\"color: #008000; text-decoration-color: #008000\">\"A flowing robe made from shimmering fabric that glimmers with magical energy. It is adorned with </span>\n",
       "<span style=\"color: #008000; text-decoration-color: #008000\">ancient runes and has a hood that conceals the wearer's face. Perfect for wizards and sorcerers.\"</span>\n",
       "        <span style=\"font-weight: bold\">)</span>,\n",
       "        <span style=\"font-weight: bold\">(</span>\n",
       "            <span style=\"color: #008000; text-decoration-color: #008000\">'Adventurer'</span>,\n",
       "            <span style=\"color: #008000; text-decoration-color: #008000\">'A brave explorer who embarks on quests, seeks treasure, and faces challenges in the great unknown.'</span>\n",
       "        <span style=\"font-weight: bold\">)</span>\n",
       "    <span style=\"font-weight: bold\">]</span>,\n",
       "    <span style=\"color: #808000; text-decoration-color: #808000\">character_summary</span>=<span style=\"color: #008000; text-decoration-color: #008000\">'Frodo Baggins is a brave adventurer on a quest, known for exploring the unknown and seeking </span>\n",
       "<span style=\"color: #008000; text-decoration-color: #008000\">treasure. He is accompanied by a Mysterious Stranger, a hooded figure who offers cryptic advice and insight during </span>\n",
       "<span style=\"color: #008000; text-decoration-color: #008000\">his journey. Frodo wears a Mystic Robe, a magical garment adorned with ancient runes, which enhances his mystical </span>\n",
       "<span style=\"color: #008000; text-decoration-color: #008000\">abilities and conceals his identity.'</span>\n",
       "<span style=\"font-weight: bold\">)</span>\n",
       "</pre>\n"
      ],
      "text/plain": [
       "\u001b[1;35mCharacter\u001b[0m\u001b[1m(\u001b[0m\n",
       "    \u001b[33mversion\u001b[0m=\u001b[32m'a35efff8c805417e13d4b950e6d7281c'\u001b[0m,\n",
       "    \u001b[33mcharacter_name\u001b[0m=\u001b[32m'Frodo Baggins'\u001b[0m,\n",
       "    \u001b[33mcharacter_items\u001b[0m=\u001b[1m[\u001b[0m\n",
       "        \u001b[1m(\u001b[0m\n",
       "            \u001b[32m'Mysterious Stranger'\u001b[0m,\n",
       "            \u001b[32m\"A hooded figure who appears at unexpected moments, offering cryptic advice and insight into the \u001b[0m\n",
       "\u001b[32mcharacter's quest.\"\u001b[0m\n",
       "        \u001b[1m)\u001b[0m,\n",
       "        \u001b[1m(\u001b[0m\n",
       "            \u001b[32m'Mystic Robe'\u001b[0m,\n",
       "            \u001b[32m\"A flowing robe made from shimmering fabric that glimmers with magical energy. It is adorned with \u001b[0m\n",
       "\u001b[32mancient runes and has a hood that conceals the wearer's face. Perfect for wizards and sorcerers.\"\u001b[0m\n",
       "        \u001b[1m)\u001b[0m,\n",
       "        \u001b[1m(\u001b[0m\n",
       "            \u001b[32m'Adventurer'\u001b[0m,\n",
       "            \u001b[32m'A brave explorer who embarks on quests, seeks treasure, and faces challenges in the great unknown.'\u001b[0m\n",
       "        \u001b[1m)\u001b[0m\n",
       "    \u001b[1m]\u001b[0m,\n",
       "    \u001b[33mcharacter_summary\u001b[0m=\u001b[32m'Frodo Baggins is a brave adventurer on a quest, known for exploring the unknown and seeking \u001b[0m\n",
       "\u001b[32mtreasure. He is accompanied by a Mysterious Stranger, a hooded figure who offers cryptic advice and insight during \u001b[0m\n",
       "\u001b[32mhis journey. Frodo wears a Mystic Robe, a magical garment adorned with ancient runes, which enhances his mystical \u001b[0m\n",
       "\u001b[32mabilities and conceals his identity.'\u001b[0m\n",
       "\u001b[1m)\u001b[0m\n"
      ]
     },
     "metadata": {},
     "output_type": "display_data"
    }
   ],
   "source": []
  }
 ],
 "metadata": {
  "kernelspec": {
   "display_name": "primeGraph",
   "language": "python",
   "name": "python3"
  },
  "language_info": {
   "codemirror_mode": {
    "name": "ipython",
    "version": 3
   },
   "file_extension": ".py",
   "mimetype": "text/x-python",
   "name": "python",
   "nbconvert_exporter": "python",
   "pygments_lexer": "ipython3",
   "version": "3.11.11"
  }
 },
 "nbformat": 4,
 "nbformat_minor": 2
}
