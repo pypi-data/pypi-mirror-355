{
 "cells": [
  {
   "cell_type": "code",
   "id": "65961d43dc623952",
   "metadata": {
    "ExecuteTime": {
     "end_time": "2025-05-21T13:19:04.824798Z",
     "start_time": "2025-05-21T13:19:03.671156Z"
    }
   },
   "source": [
    "from line_solver import *\n",
    "\n",
    "GlobalConstants.setVerbose(VerboseLevel.STD)"
   ],
   "outputs": [],
   "execution_count": 1
  },
  {
   "metadata": {
    "ExecuteTime": {
     "end_time": "2025-05-21T13:19:05.003649Z",
     "start_time": "2025-05-21T13:19:04.920583Z"
    }
   },
   "cell_type": "code",
   "source": [
    "model = Network('model')\n",
    "\n",
    "n = 5  # number of items\n",
    "m = [2,1]  # cache capacity in the h=2 lists (not including the outside world)\n",
    "alpha = 0.8\n",
    "\n",
    "source = Source(model, 'Source')\n",
    "cacheNode = Cache(model, 'Cache', n, m, ReplacementStrategy.LRU)\n",
    "sink = Sink(model, 'Sink')\n",
    "\n",
    "jobClass = OpenClass(model, 'InitClass', 0)\n",
    "hitClass = OpenClass(model, 'HitClass', 0)\n",
    "missClass = OpenClass(model, 'MissClass', 0)\n",
    "\n",
    "source.setArrival(jobClass, Exp(1.0))\n",
    "\n",
    "pAccess = Zipf(alpha, n)  # Zipf-like item references\n",
    "\n",
    "cacheNode.setRead(jobClass, pAccess)\n",
    "cacheNode.setHitClass(jobClass, hitClass)\n",
    "cacheNode.setMissClass(jobClass, missClass)\n",
    "\n",
    "routingMatrix = model.initRoutingMatrix()\n",
    "routingMatrix.set(jobClass, jobClass, source, cacheNode, 1.0)\n",
    "routingMatrix.set(hitClass, hitClass, cacheNode, sink, 1.0)\n",
    "routingMatrix.set(missClass, missClass, cacheNode, sink, 1.0)\n",
    "\n",
    "model.link(routingMatrix)"
   ],
   "id": "a3ee78621d6e5031",
   "outputs": [],
   "execution_count": 2
  },
  {
   "metadata": {
    "ExecuteTime": {
     "end_time": "2025-05-21T13:19:06.629997Z",
     "start_time": "2025-05-21T13:19:05.011345Z"
    }
   },
   "cell_type": "code",
   "source": [
    "\n",
    "solver = np.empty(4, dtype=object)\n",
    "AvgTable = np.empty(4, dtype=object)\n",
    "#\n",
    "# solver[2] = SolverMVA(model)\n",
    "# AvgTable[2] = solver[2].getAvgNodeTable()\n",
    "\n",
    "solver[0] = SolverJMT(model, 'samples', 100000)\n",
    "AvgTable[0] = solver[0].getAvgNodeTable()\n",
    "solver[0].obj.getStruct().rtnodes.prettyPrint()\n",
    "\n",
    "#solver[0] = SolverCTMC(model, \"keep\",False, \"cutoff\", 1, \"seed\",1)\n",
    "\n",
    "#model.reset()\n",
    "#solver[1] = SolverSSA(model, \"samples\", 100000, \"verbose\", True, \"method\",\"serial\", \"seed\", 1)\n",
    "#AvgTable[1] = solver[1].getAvgNodeTable()\n",
    "\n",
    "#model.reset()\n",
    "#solver[2] = SolverMVA(model)\n",
    "#AvgTable[2] = solver[2].getAvgNodeTable()\n",
    "\n",
    "#model.reset()\n",
    "#solver[3] = SolverNC(model)\n",
    "#AvgTable[3] = solver[3].getAvgNodeTable() # runs forever?\n"
   ],
   "id": "initial_id",
   "outputs": [
    {
     "name": "stdout",
     "output_type": "stream",
     "text": [
      "JMT Model: /tmp/workspace/jsim/957272891424244943/jmodel.jsim\n",
      "     Node   JobClass  QLen  Util  RespT  ResidT    ArvR    Tput\n",
      "0  Source  InitClass   0.0   0.0    0.0     0.0  0.0000  0.9994\n",
      "4   Cache   HitClass   0.0   0.0    0.0     0.0  0.0000  0.3331\n",
      "5   Cache  MissClass   0.0   0.0    0.0     0.0  0.0000  0.3331\n",
      "6    Sink  InitClass   0.0   0.0    0.0     0.0  0.3331  0.0000\n",
      "7    Sink   HitClass   0.0   0.0    0.0     0.0  0.3331  0.0000\n",
      "8    Sink  MissClass   0.0   0.0    0.0     0.0  0.3331  0.0000\n",
      "[  0  0  0  1.0    0    0  0    0    0 \n",
      "   0  0  0    0  1.0    0  0    0    0 \n",
      "   0  0  0    0    0  1.0  0    0    0 \n",
      "   0  0  0    0  NaN  NaN  0    0    0 \n",
      "   0  0  0    0    0    0  0  1.0    0 \n",
      "   0  0  0    0    0    0  0    0  1.0 \n",
      " 1.0  0  0    0    0    0  0    0    0 \n",
      " 1.0  0  0    0    0    0  0    0    0 \n",
      " 1.0  0  0    0    0    0  0    0    0]\n",
      "\n"
     ]
    }
   ],
   "execution_count": 3
  }
 ],
 "metadata": {
  "kernelspec": {
   "display_name": "Python 3",
   "language": "python",
   "name": "python3"
  },
  "language_info": {
   "codemirror_mode": {
    "name": "ipython",
    "version": 2
   },
   "file_extension": ".py",
   "mimetype": "text/x-python",
   "name": "python",
   "nbconvert_exporter": "python",
   "pygments_lexer": "ipython2",
   "version": "2.7.6"
  }
 },
 "nbformat": 4,
 "nbformat_minor": 5
}
