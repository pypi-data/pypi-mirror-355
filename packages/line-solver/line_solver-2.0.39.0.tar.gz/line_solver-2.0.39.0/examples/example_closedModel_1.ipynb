{
 "cells": [
  {
   "cell_type": "code",
   "source": [
    "from line_solver import *\n",
    "GlobalConstants.setVerbose(VerboseLevel.STD)"
   ],
   "metadata": {
    "collapsed": false,
    "ExecuteTime": {
     "end_time": "2025-05-17T06:51:47.595552Z",
     "start_time": "2025-05-17T06:51:46.905692Z"
    }
   },
   "outputs": [],
   "execution_count": 1
  },
  {
   "cell_type": "code",
   "source": [
    "model = Network('model')\n",
    "\n",
    "node = np.empty(2, dtype=object)\n",
    "node[0] = Delay(model, 'Delay')\n",
    "node[1] = Queue(model, 'Queue1', SchedStrategy.FCFS)\n",
    "\n",
    "jobclass = ClosedClass(model, 'Class1', 10, node[0], 0)\n",
    "\n",
    "node[0].setService(jobclass, Exp.fitMean(1.0)) # mean = 1\n",
    "node[1].setService(jobclass, Exp.fitMean(1.5)) # mean = 1.5\n",
    "\n",
    "P = model.initRoutingMatrix()\n",
    "pmatrix = [[0.7,0.3],[1.0,0]]\n",
    "for i in range(len(node)):\n",
    "    for j in range(len(node)):\n",
    "        P.set(jobclass, jobclass, node[i], node[j], pmatrix[i][j])        \n",
    "model.link(P)"
   ],
   "metadata": {
    "collapsed": false,
    "ExecuteTime": {
     "end_time": "2025-05-17T06:51:47.710597Z",
     "start_time": "2025-05-17T06:51:47.690631Z"
    }
   },
   "outputs": [],
   "execution_count": 2
  },
  {
   "cell_type": "code",
   "source": [
    "solver = np.array([], dtype=object)\n",
    "solver = np.append(solver, SolverCTMC(model,'keep',True))\n",
    "solver = np.append(solver, SolverJMT(model,'seed',23000,'verbose',True,'keep',True))\n",
    "solver = np.append(solver, SolverSSA(model,'seed',23000,'verbose',False,'samples',10000))\n",
    "solver = np.append(solver, SolverFluid(model))\n",
    "solver = np.append(solver, SolverMVA(model))\n",
    "solver = np.append(solver, SolverNC(model,'exact'))\n",
    "#solver = np.append(solver, SolverMAM(model))\n",
    "#solver = np.append(solver, LINE(model))\n",
    "\n",
    "AvgTable = np.empty(len(solver), dtype=object)\n",
    "for s in range(len(solver)):\n",
    "    print(f'\\nSOLVER: {solver[s].getName()}')\n",
    "    AvgTable[s] = solver[s].getAvgTable()\n"
   ],
   "metadata": {
    "collapsed": false,
    "ExecuteTime": {
     "end_time": "2025-05-17T06:51:49.929599Z",
     "start_time": "2025-05-17T06:51:47.742416Z"
    }
   },
   "outputs": [
    {
     "name": "stdout",
     "output_type": "stream",
     "text": [
      "\n",
      "SOLVER: SolverCTMC\n",
      "  Station JobClass   QLen    Util   RespT  ResidT    ArvR    Tput\n",
      "0   Delay   Class1  2.222  2.2220   1.000  1.0000  2.2220  2.2220\n",
      "1  Queue1   Class1  7.778  0.9999  11.668  3.5004  0.6666  0.6666\n",
      "\n",
      "SOLVER: SolverJMT\n",
      "JMT Model: /tmp/workspace/jsim/17944838842438512011/jmodel.jsim\n",
      "  Station JobClass    QLen    Util    RespT  ResidT    ArvR    Tput\n",
      "0   Delay   Class1  2.1909  2.1909   1.0081  1.0081  2.2124  2.2129\n",
      "1  Queue1   Class1  7.7331  0.9998  11.5734  3.4720  0.6757  0.6802\n",
      "\n",
      "SOLVER: SolverSSA\n",
      "  Station JobClass    QLen    Util    RespT  ResidT    ArvR    Tput\n",
      "0   Delay   Class1  2.1284  2.1284   1.0000  1.0000  2.1564  2.1284\n",
      "1  Queue1   Class1  7.8716  0.9578  11.8094  3.5428  0.6385  0.6666\n",
      "\n",
      "SOLVER: SolverFluid\n",
      "  Station JobClass    QLen    Util    RespT  ResidT  ArvR    Tput\n",
      "0   Delay   Class1  2.2222  2.2222   1.0000     1.0   0.0  2.2222\n",
      "1  Queue1   Class1  7.7778  1.0000  11.6667     3.5   0.0  0.6667\n",
      "\n",
      "SOLVER: SolverMVA\n",
      "  Station JobClass    QLen    Util    RespT  ResidT    ArvR    Tput\n",
      "0   Delay   Class1  2.2178  2.2178   1.0000   1.000  2.2178  2.2178\n",
      "1  Queue1   Class1  7.7822  0.9980  11.6965   3.509  0.6653  0.6653\n",
      "\n",
      "SOLVER: SolverNC\n",
      "  Station JobClass    QLen    Util    RespT  ResidT    ArvR    Tput\n",
      "0   Delay   Class1  1.7002  0.2222   0.7652  0.7652  2.2220  2.2220\n",
      "1  Queue1   Class1  7.7780  0.9999  11.6680  3.5004  0.6666  0.6666\n"
     ]
    }
   ],
   "execution_count": 3
  }
 ],
 "metadata": {
  "kernelspec": {
   "display_name": "Python 3",
   "language": "python",
   "name": "python3"
  },
  "language_info": {
   "codemirror_mode": {
    "name": "ipython",
    "version": 3
   },
   "file_extension": ".py",
   "mimetype": "text/x-python",
   "name": "python",
   "nbconvert_exporter": "python",
   "pygments_lexer": "ipython3",
   "version": "3.6.4"
  }
 },
 "nbformat": 4,
 "nbformat_minor": 2
}
