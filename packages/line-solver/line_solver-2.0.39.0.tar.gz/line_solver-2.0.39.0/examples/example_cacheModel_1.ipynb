{
 "cells": [
  {
   "metadata": {
    "ExecuteTime": {
     "end_time": "2025-05-20T06:58:33.351501Z",
     "start_time": "2025-05-20T06:58:32.502737Z"
    }
   },
   "cell_type": "code",
   "source": [
    "from line_solver import *\n",
    "GlobalConstants.setVerbose(VerboseLevel.STD)"
   ],
   "id": "d8b89d485a6d7730",
   "outputs": [],
   "execution_count": 1
  },
  {
   "metadata": {
    "ExecuteTime": {
     "end_time": "2025-05-20T06:58:33.531365Z",
     "start_time": "2025-05-20T06:58:33.461236Z"
    }
   },
   "cell_type": "code",
   "source": [
    "\n",
    "model = Network('model')\n",
    "\n",
    "n = 5  # number of items\n",
    "m = 2 # cache capacity\n",
    "alpha = 0.8\n",
    "\n",
    "source = Source(model, 'Source')\n",
    "cacheNode = Cache(model, 'Cache', n, m, ReplacementStrategy.LRU)\n",
    "sink = Sink(model, 'Sink')\n",
    "\n",
    "jobClass = OpenClass(model, 'InitClass', 0)\n",
    "hitClass = OpenClass(model, 'HitClass', 0)\n",
    "missClass = OpenClass(model, 'MissClass', 0)\n",
    "\n",
    "source.setArrival(jobClass, Exp(2))\n",
    "\n",
    "pAccess = Zipf(alpha, n)  # Zipf-like item references\n",
    "cacheNode.setRead(jobClass, pAccess)\n",
    "\n",
    "cacheNode.setHitClass(jobClass, hitClass)\n",
    "cacheNode.setMissClass(jobClass, missClass)\n",
    "\n",
    "P = model.initRoutingMatrix()\n",
    "P.set(jobClass, jobClass, source, cacheNode, 1.0)\n",
    "P.set(hitClass, hitClass, cacheNode, sink, 1.0)\n",
    "P.set(missClass, missClass, cacheNode, sink, 1.0)\n",
    "\n",
    "model.link(P)"
   ],
   "id": "a71b02657afadf35",
   "outputs": [],
   "execution_count": 2
  },
  {
   "metadata": {
    "ExecuteTime": {
     "end_time": "2025-05-20T06:59:01.098022Z",
     "start_time": "2025-05-20T06:58:33.540259Z"
    }
   },
   "cell_type": "code",
   "source": [
    "solver = np.empty(4, dtype=object)\n",
    "AvgTable = np.empty(4, dtype=object)\n",
    "\n",
    "#solver[0] = SolverCTMC(model, \"keep\",False, \"cutoff\", 1, \"seed\",1)\n",
    "#AvgTable[0] = solver[0].getAvgNodeTable()\n",
    "\n",
    "#model.reset()\n",
    "#solver[1] = SolverSSA(model, \"samples\", 100000, \"verbose\", True, \"method\",\"serial\", \"seed\", 1)\n",
    "#AvgTable[1] = solver[1].getAvgNodeTable()\n",
    "\n",
    "model.reset()\n",
    "solver[2] = SolverMVA(model)\n",
    "AvgTable[2] = solver[2].getAvgNodeTable()\n",
    "\n",
    "model.reset()\n",
    "solver[3] = SolverNC(model)\n",
    "AvgTable[3] = solver[3].getAvgNodeTable()\n"
   ],
   "id": "bf27b3b9092d4d06",
   "outputs": [],
   "execution_count": null
  }
 ],
 "metadata": {
  "kernelspec": {
   "display_name": "Python 3",
   "language": "python",
   "name": "python3"
  },
  "language_info": {
   "codemirror_mode": {
    "name": "ipython",
    "version": 2
   },
   "file_extension": ".py",
   "mimetype": "text/x-python",
   "name": "python",
   "nbconvert_exporter": "python",
   "pygments_lexer": "ipython2",
   "version": "2.7.6"
  }
 },
 "nbformat": 4,
 "nbformat_minor": 5
}
