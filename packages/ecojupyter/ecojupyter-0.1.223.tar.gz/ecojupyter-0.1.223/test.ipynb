{
 "cells": [
  {
   "cell_type": "code",
   "execution_count": 4,
   "id": "604785a7-73de-4e4e-a592-5f9ff75f5273",
   "metadata": {},
   "outputs": [],
   "source": [
    "a = 0"
   ]
  },
  {
   "cell_type": "code",
   "execution_count": 67,
   "id": "45f5b9c2-e70e-4a62-a3cf-fd03e0b40550",
   "metadata": {},
   "outputs": [],
   "source": [
    "b = 1"
   ]
  },
  {
   "cell_type": "code",
   "execution_count": 68,
   "id": "9080c3d2-845d-430d-819d-32a5fe23a10c",
   "metadata": {},
   "outputs": [],
   "source": [
    "import os\n",
    "from datetime import UTC, datetime, timezone\n",
    "import hashlib\n",
    "\n",
    "ts = datetime.now(UTC).strftime(\"%Y%m%d%H%M%S\")\n",
    "experiment_id = f\"experiment-{hashlib.sha256(ts.encode()).hexdigest()[:8]}-{ts}\"\n",
    "os.environ[\"EXPERIMENT_ID\"] = experiment_id"
   ]
  },
  {
   "cell_type": "code",
   "execution_count": 69,
   "id": "b27bc3ad-b0ed-46ea-8af5-e3626f9f657d",
   "metadata": {},
   "outputs": [
    {
     "name": "stdout",
     "output_type": "stream",
     "text": [
      "experiment-35094bff-20250612135807\n"
     ]
    }
   ],
   "source": [
    "print(os.environ[\"EXPERIMENT_ID\"])"
   ]
  },
  {
   "cell_type": "code",
   "execution_count": null,
   "id": "4ef87880-41f5-4f79-9947-d9adaa60d3c7",
   "metadata": {},
   "outputs": [],
   "source": []
  }
 ],
 "metadata": {
  "kernelspec": {
   "display_name": "Python 3 (ipykernel)",
   "language": "python",
   "name": "python3"
  },
  "language_info": {
   "codemirror_mode": {
    "name": "ipython",
    "version": 3
   },
   "file_extension": ".py",
   "mimetype": "text/x-python",
   "name": "python",
   "nbconvert_exporter": "python",
   "pygments_lexer": "ipython3",
   "version": "3.13.5"
  }
 },
 "nbformat": 4,
 "nbformat_minor": 5
}
