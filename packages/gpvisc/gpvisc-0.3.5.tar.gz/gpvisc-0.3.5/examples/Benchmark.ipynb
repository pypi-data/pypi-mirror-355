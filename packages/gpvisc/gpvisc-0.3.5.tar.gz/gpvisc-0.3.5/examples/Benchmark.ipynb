{
 "cells": [
  {
   "cell_type": "markdown",
   "id": "b2319756",
   "metadata": {},
   "source": [
    "# First step: install glasspy\n",
    "\n",
    "Glasspy is not a requirement for gpvisc. Therefore, to run the code in this notebook, you will need to install it.\n",
    "\n",
    "Run the cell below to do so.\n",
    "\n",
    "Beware that it will probably mess up with your scikit-learn version at it requires a specific one, so the best is to either let it do it and reset it later, or create a specific Python environnement."
   ]
  },
  {
   "cell_type": "code",
   "execution_count": 1,
   "id": "3e59db89-788c-4e5e-9681-7d3022d4f98d",
   "metadata": {},
   "outputs": [
    {
     "name": "stdout",
     "output_type": "stream",
     "text": [
      "Collecting glasspy\n",
      "  Downloading glasspy-0.4.6-py3-none-any.whl.metadata (3.1 kB)\n",
      "Requirement already satisfied: pandas>=1.3 in /Users/charleslelosq/anaconda3/envs/gpytorch/lib/python3.11/site-packages (from glasspy) (2.2.2)\n",
      "Collecting lmfit>=1.0.0 (from glasspy)\n",
      "  Downloading lmfit-1.3.1-py3-none-any.whl.metadata (13 kB)\n",
      "Collecting chemparse>=0.1.0 (from glasspy)\n",
      "  Downloading chemparse-0.3.1-py3-none-any.whl.metadata (1.7 kB)\n",
      "Collecting scikit-learn==1.2.0 (from glasspy)\n",
      "  Downloading scikit_learn-1.2.0-cp311-cp311-macosx_10_9_x86_64.whl.metadata (11 kB)\n",
      "Collecting compress-pickle>=2.1.0 (from glasspy)\n",
      "  Downloading compress_pickle-2.1.0-py3-none-any.whl.metadata (3.1 kB)\n",
      "Requirement already satisfied: torch in /Users/charleslelosq/anaconda3/envs/gpytorch/lib/python3.11/site-packages (from glasspy) (2.2.2)\n",
      "Collecting lightning>=2.0.0 (from glasspy)\n",
      "  Downloading lightning-2.2.5-py3-none-any.whl.metadata (53 kB)\n",
      "\u001b[2K     \u001b[90m━━━━━━━━━━━━━━━━━━━━━━━━━━━━━━━━━━━━━━━━\u001b[0m \u001b[32m53.4/53.4 kB\u001b[0m \u001b[31m1.7 MB/s\u001b[0m eta \u001b[36m0:00:00\u001b[0m\n",
      "\u001b[?25hRequirement already satisfied: platformdirs in /Users/charleslelosq/anaconda3/envs/gpytorch/lib/python3.11/site-packages (from glasspy) (4.2.2)\n",
      "Requirement already satisfied: numpy>=1.17.3 in /Users/charleslelosq/anaconda3/envs/gpytorch/lib/python3.11/site-packages (from scikit-learn==1.2.0->glasspy) (1.26.4)\n",
      "Requirement already satisfied: scipy>=1.3.2 in /Users/charleslelosq/anaconda3/envs/gpytorch/lib/python3.11/site-packages (from scikit-learn==1.2.0->glasspy) (1.13.0)\n",
      "Requirement already satisfied: joblib>=1.1.1 in /Users/charleslelosq/anaconda3/envs/gpytorch/lib/python3.11/site-packages (from scikit-learn==1.2.0->glasspy) (1.4.2)\n",
      "Requirement already satisfied: threadpoolctl>=2.0.0 in /Users/charleslelosq/anaconda3/envs/gpytorch/lib/python3.11/site-packages (from scikit-learn==1.2.0->glasspy) (3.5.0)\n",
      "Requirement already satisfied: PyYAML<8.0,>=5.4 in /Users/charleslelosq/anaconda3/envs/gpytorch/lib/python3.11/site-packages (from lightning>=2.0.0->glasspy) (6.0.1)\n",
      "Requirement already satisfied: fsspec<2025.0,>=2022.5.0 in /Users/charleslelosq/anaconda3/envs/gpytorch/lib/python3.11/site-packages (from fsspec[http]<2025.0,>=2022.5.0->lightning>=2.0.0->glasspy) (2024.5.0)\n",
      "Collecting lightning-utilities<2.0,>=0.8.0 (from lightning>=2.0.0->glasspy)\n",
      "  Downloading lightning_utilities-0.11.2-py3-none-any.whl.metadata (4.7 kB)\n",
      "Requirement already satisfied: packaging<25.0,>=20.0 in /Users/charleslelosq/anaconda3/envs/gpytorch/lib/python3.11/site-packages (from lightning>=2.0.0->glasspy) (24.0)\n",
      "Collecting torchmetrics<3.0,>=0.7.0 (from lightning>=2.0.0->glasspy)\n",
      "  Downloading torchmetrics-1.4.0.post0-py3-none-any.whl.metadata (19 kB)\n",
      "Collecting tqdm<6.0,>=4.57.0 (from lightning>=2.0.0->glasspy)\n",
      "  Downloading tqdm-4.66.4-py3-none-any.whl.metadata (57 kB)\n",
      "\u001b[2K     \u001b[90m━━━━━━━━━━━━━━━━━━━━━━━━━━━━━━━━━━━━━━━━\u001b[0m \u001b[32m57.6/57.6 kB\u001b[0m \u001b[31m7.3 MB/s\u001b[0m eta \u001b[36m0:00:00\u001b[0m\n",
      "\u001b[?25hRequirement already satisfied: typing-extensions<6.0,>=4.4.0 in /Users/charleslelosq/anaconda3/envs/gpytorch/lib/python3.11/site-packages (from lightning>=2.0.0->glasspy) (4.11.0)\n",
      "Collecting pytorch-lightning (from lightning>=2.0.0->glasspy)\n",
      "  Downloading pytorch_lightning-2.2.5-py3-none-any.whl.metadata (21 kB)\n",
      "Collecting asteval>=0.9.28 (from lmfit>=1.0.0->glasspy)\n",
      "  Downloading asteval-0.9.33-py3-none-any.whl.metadata (2.0 kB)\n",
      "Requirement already satisfied: uncertainties>=3.1.4 in /Users/charleslelosq/anaconda3/envs/gpytorch/lib/python3.11/site-packages (from lmfit>=1.0.0->glasspy) (3.1.7)\n",
      "Collecting dill>=0.3.4 (from lmfit>=1.0.0->glasspy)\n",
      "  Downloading dill-0.3.8-py3-none-any.whl.metadata (10 kB)\n",
      "Requirement already satisfied: python-dateutil>=2.8.2 in /Users/charleslelosq/anaconda3/envs/gpytorch/lib/python3.11/site-packages (from pandas>=1.3->glasspy) (2.9.0)\n",
      "Requirement already satisfied: pytz>=2020.1 in /Users/charleslelosq/anaconda3/envs/gpytorch/lib/python3.11/site-packages (from pandas>=1.3->glasspy) (2024.1)\n",
      "Requirement already satisfied: tzdata>=2022.7 in /Users/charleslelosq/anaconda3/envs/gpytorch/lib/python3.11/site-packages (from pandas>=1.3->glasspy) (2024.1)\n",
      "Requirement already satisfied: filelock in /Users/charleslelosq/anaconda3/envs/gpytorch/lib/python3.11/site-packages (from torch->glasspy) (3.14.0)\n",
      "Requirement already satisfied: sympy in /Users/charleslelosq/anaconda3/envs/gpytorch/lib/python3.11/site-packages (from torch->glasspy) (1.12)\n",
      "Requirement already satisfied: networkx in /Users/charleslelosq/anaconda3/envs/gpytorch/lib/python3.11/site-packages (from torch->glasspy) (3.3)\n",
      "Requirement already satisfied: jinja2 in /Users/charleslelosq/anaconda3/envs/gpytorch/lib/python3.11/site-packages (from torch->glasspy) (3.1.4)\n",
      "Collecting aiohttp!=4.0.0a0,!=4.0.0a1 (from fsspec[http]<2025.0,>=2022.5.0->lightning>=2.0.0->glasspy)\n",
      "  Downloading aiohttp-3.9.5-cp311-cp311-macosx_10_9_x86_64.whl.metadata (7.5 kB)\n",
      "Requirement already satisfied: setuptools in /Users/charleslelosq/anaconda3/envs/gpytorch/lib/python3.11/site-packages (from lightning-utilities<2.0,>=0.8.0->lightning>=2.0.0->glasspy) (69.5.1)\n",
      "Requirement already satisfied: six>=1.5 in /Users/charleslelosq/anaconda3/envs/gpytorch/lib/python3.11/site-packages (from python-dateutil>=2.8.2->pandas>=1.3->glasspy) (1.16.0)\n",
      "Requirement already satisfied: future in /Users/charleslelosq/anaconda3/envs/gpytorch/lib/python3.11/site-packages (from uncertainties>=3.1.4->lmfit>=1.0.0->glasspy) (1.0.0)\n",
      "Requirement already satisfied: MarkupSafe>=2.0 in /Users/charleslelosq/anaconda3/envs/gpytorch/lib/python3.11/site-packages (from jinja2->torch->glasspy) (2.1.5)\n",
      "Requirement already satisfied: mpmath>=0.19 in /Users/charleslelosq/anaconda3/envs/gpytorch/lib/python3.11/site-packages (from sympy->torch->glasspy) (1.3.0)\n",
      "Collecting aiosignal>=1.1.2 (from aiohttp!=4.0.0a0,!=4.0.0a1->fsspec[http]<2025.0,>=2022.5.0->lightning>=2.0.0->glasspy)\n",
      "  Downloading aiosignal-1.3.1-py3-none-any.whl.metadata (4.0 kB)\n",
      "Collecting attrs>=17.3.0 (from aiohttp!=4.0.0a0,!=4.0.0a1->fsspec[http]<2025.0,>=2022.5.0->lightning>=2.0.0->glasspy)\n",
      "  Using cached attrs-23.2.0-py3-none-any.whl.metadata (9.5 kB)\n",
      "Collecting frozenlist>=1.1.1 (from aiohttp!=4.0.0a0,!=4.0.0a1->fsspec[http]<2025.0,>=2022.5.0->lightning>=2.0.0->glasspy)\n",
      "  Downloading frozenlist-1.4.1-cp311-cp311-macosx_10_9_x86_64.whl.metadata (12 kB)\n",
      "Collecting multidict<7.0,>=4.5 (from aiohttp!=4.0.0a0,!=4.0.0a1->fsspec[http]<2025.0,>=2022.5.0->lightning>=2.0.0->glasspy)\n",
      "  Downloading multidict-6.0.5-cp311-cp311-macosx_10_9_x86_64.whl.metadata (4.2 kB)\n",
      "Collecting yarl<2.0,>=1.0 (from aiohttp!=4.0.0a0,!=4.0.0a1->fsspec[http]<2025.0,>=2022.5.0->lightning>=2.0.0->glasspy)\n",
      "  Downloading yarl-1.9.4-cp311-cp311-macosx_10_9_x86_64.whl.metadata (31 kB)\n",
      "Requirement already satisfied: idna>=2.0 in /Users/charleslelosq/anaconda3/envs/gpytorch/lib/python3.11/site-packages (from yarl<2.0,>=1.0->aiohttp!=4.0.0a0,!=4.0.0a1->fsspec[http]<2025.0,>=2022.5.0->lightning>=2.0.0->glasspy) (3.7)\n",
      "Downloading glasspy-0.4.6-py3-none-any.whl (60.2 MB)\n",
      "\u001b[2K   \u001b[90m━━━━━━━━━━━━━━━━━━━━━━━━━━━━━━━━━━━━━━━━\u001b[0m \u001b[32m60.2/60.2 MB\u001b[0m \u001b[31m3.7 MB/s\u001b[0m eta \u001b[36m0:00:00\u001b[0m00:01\u001b[0m00:01\u001b[0m\n",
      "\u001b[?25hDownloading scikit_learn-1.2.0-cp311-cp311-macosx_10_9_x86_64.whl (9.0 MB)\n",
      "\u001b[2K   \u001b[90m━━━━━━━━━━━━━━━━━━━━━━━━━━━━━━━━━━━━━━━━\u001b[0m \u001b[32m9.0/9.0 MB\u001b[0m \u001b[31m5.8 MB/s\u001b[0m eta \u001b[36m0:00:00\u001b[0m00:01\u001b[0m00:01\u001b[0m\n",
      "\u001b[?25hDownloading chemparse-0.3.1-py3-none-any.whl (5.9 kB)\n",
      "Downloading compress_pickle-2.1.0-py3-none-any.whl (24 kB)\n",
      "Downloading lightning-2.2.5-py3-none-any.whl (2.0 MB)\n",
      "\u001b[2K   \u001b[90m━━━━━━━━━━━━━━━━━━━━━━━━━━━━━━━━━━━━━━━━\u001b[0m \u001b[32m2.0/2.0 MB\u001b[0m \u001b[31m6.6 MB/s\u001b[0m eta \u001b[36m0:00:00\u001b[0m00:01\u001b[0m00:01\u001b[0mm\n",
      "\u001b[?25hDownloading lmfit-1.3.1-py3-none-any.whl (105 kB)\n",
      "\u001b[2K   \u001b[90m━━━━━━━━━━━━━━━━━━━━━━━━━━━━━━━━━━━━━━━━\u001b[0m \u001b[32m105.9/105.9 kB\u001b[0m \u001b[31m2.7 MB/s\u001b[0m eta \u001b[36m0:00:00\u001b[0m\n",
      "\u001b[?25hDownloading asteval-0.9.33-py3-none-any.whl (20 kB)\n",
      "Downloading dill-0.3.8-py3-none-any.whl (116 kB)\n",
      "\u001b[2K   \u001b[90m━━━━━━━━━━━━━━━━━━━━━━━━━━━━━━━━━━━━━━━━\u001b[0m \u001b[32m116.3/116.3 kB\u001b[0m \u001b[31m2.6 MB/s\u001b[0m eta \u001b[36m0:00:00\u001b[0ma \u001b[36m0:00:01\u001b[0m\n",
      "\u001b[?25hDownloading lightning_utilities-0.11.2-py3-none-any.whl (26 kB)\n",
      "Downloading torchmetrics-1.4.0.post0-py3-none-any.whl (868 kB)\n",
      "\u001b[2K   \u001b[90m━━━━━━━━━━━━━━━━━━━━━━━━━━━━━━━━━━━━━━━━\u001b[0m \u001b[32m868.8/868.8 kB\u001b[0m \u001b[31m5.5 MB/s\u001b[0m eta \u001b[36m0:00:00\u001b[0m00:01\u001b[0m00:01\u001b[0m\n",
      "\u001b[?25hDownloading tqdm-4.66.4-py3-none-any.whl (78 kB)\n",
      "\u001b[2K   \u001b[90m━━━━━━━━━━━━━━━━━━━━━━━━━━━━━━━━━━━━━━━━\u001b[0m \u001b[32m78.3/78.3 kB\u001b[0m \u001b[31m2.2 MB/s\u001b[0m eta \u001b[36m0:00:00\u001b[0m\n",
      "\u001b[?25hDownloading pytorch_lightning-2.2.5-py3-none-any.whl (802 kB)\n",
      "\u001b[2K   \u001b[90m━━━━━━━━━━━━━━━━━━━━━━━━━━━━━━━━━━━━━━━━\u001b[0m \u001b[32m802.3/802.3 kB\u001b[0m \u001b[31m6.5 MB/s\u001b[0m eta \u001b[36m0:00:00\u001b[0m00:01\u001b[0m00:01\u001b[0m\n",
      "\u001b[?25hDownloading aiohttp-3.9.5-cp311-cp311-macosx_10_9_x86_64.whl (402 kB)\n",
      "\u001b[2K   \u001b[90m━━━━━━━━━━━━━━━━━━━━━━━━━━━━━━━━━━━━━━━━\u001b[0m \u001b[32m402.4/402.4 kB\u001b[0m \u001b[31m6.2 MB/s\u001b[0m eta \u001b[36m0:00:00\u001b[0ma \u001b[36m0:00:01\u001b[0m\n",
      "\u001b[?25hDownloading aiosignal-1.3.1-py3-none-any.whl (7.6 kB)\n",
      "Using cached attrs-23.2.0-py3-none-any.whl (60 kB)\n",
      "Downloading frozenlist-1.4.1-cp311-cp311-macosx_10_9_x86_64.whl (55 kB)\n",
      "\u001b[2K   \u001b[90m━━━━━━━━━━━━━━━━━━━━━━━━━━━━━━━━━━━━━━━━\u001b[0m \u001b[32m55.3/55.3 kB\u001b[0m \u001b[31m1.9 MB/s\u001b[0m eta \u001b[36m0:00:00\u001b[0m\n",
      "\u001b[?25hDownloading multidict-6.0.5-cp311-cp311-macosx_10_9_x86_64.whl (30 kB)\n",
      "Downloading yarl-1.9.4-cp311-cp311-macosx_10_9_x86_64.whl (83 kB)\n",
      "\u001b[2K   \u001b[90m━━━━━━━━━━━━━━━━━━━━━━━━━━━━━━━━━━━━━━━━\u001b[0m \u001b[32m83.2/83.2 kB\u001b[0m \u001b[31m2.3 MB/s\u001b[0m eta \u001b[36m0:00:00\u001b[0m00:01\u001b[0m\n",
      "\u001b[?25hInstalling collected packages: tqdm, multidict, lightning-utilities, frozenlist, dill, compress-pickle, chemparse, attrs, asteval, yarl, scikit-learn, lmfit, aiosignal, torchmetrics, aiohttp, pytorch-lightning, lightning, glasspy\n",
      "  Attempting uninstall: scikit-learn\n",
      "    Found existing installation: scikit-learn 1.5.0\n",
      "    Uninstalling scikit-learn-1.5.0:\n",
      "      Successfully uninstalled scikit-learn-1.5.0\n",
      "Successfully installed aiohttp-3.9.5 aiosignal-1.3.1 asteval-0.9.33 attrs-23.2.0 chemparse-0.3.1 compress-pickle-2.1.0 dill-0.3.8 frozenlist-1.4.1 glasspy-0.4.6 lightning-2.2.5 lightning-utilities-0.11.2 lmfit-1.3.1 multidict-6.0.5 pytorch-lightning-2.2.5 scikit-learn-1.2.0 torchmetrics-1.4.0.post0 tqdm-4.66.4 yarl-1.9.4\n",
      "Note: you may need to restart the kernel to use updated packages.\n"
     ]
    }
   ],
   "source": [
    "pip install glasspy"
   ]
  },
  {
   "cell_type": "markdown",
   "id": "99f796d4",
   "metadata": {},
   "source": [
    "# Imports\n",
    "\n",
    "We now import the necessary libraries as well as the GlassNet model, and the GP model."
   ]
  },
  {
   "cell_type": "code",
   "execution_count": 9,
   "id": "e970ec79-51e3-464f-a211-a6759c57c1f8",
   "metadata": {},
   "outputs": [],
   "source": [
    "from glasspy.predict import GlassNet\n",
    "import pandas as pd\n",
    "import gpvisc\n",
    "import numpy as np\n",
    "import torch\n",
    "import gpytorch"
   ]
  },
  {
   "cell_type": "markdown",
   "id": "a5ee0be2",
   "metadata": {},
   "source": [
    "## Load models"
   ]
  },
  {
   "cell_type": "code",
   "execution_count": 10,
   "id": "101a39b3",
   "metadata": {},
   "outputs": [],
   "source": [
    "gp_model, likelihood = gpvisc.load_gp_model()\n",
    "glassnet_model = GlassNet()"
   ]
  },
  {
   "cell_type": "markdown",
   "id": "626cca46",
   "metadata": {},
   "source": [
    "## Load LP handheld database"
   ]
  },
  {
   "cell_type": "code",
   "execution_count": 11,
   "id": "0ed71056",
   "metadata": {},
   "outputs": [],
   "source": [
    "ds = gpvisc.data_loader()"
   ]
  },
  {
   "cell_type": "markdown",
   "id": "80b44e24-d074-4f0c-8da0-c28aa8286e57",
   "metadata": {},
   "source": [
    "GlassNet uses upper case column names, while we prefer lower case oxyde names in our library to avoid any typos.\n",
    "\n",
    "We thus will map lower/upper case below for convenience.\n",
    "\n",
    "We then get the data from the low pressure database using the ds object returned by `gpvisc.data_loader()`."
   ]
  },
  {
   "cell_type": "code",
   "execution_count": 16,
   "id": "4a645368-0d48-4370-b18f-4f6a5290ff5e",
   "metadata": {},
   "outputs": [],
   "source": [
    "columns_name = {\"sio2\":\"SiO2\",\n",
    "                \"tio2\":\"TiO2\",\n",
    "                \"al2o3\":\"Al2O3\",\n",
    "                \"fe2o3\":\"Fe2O3\",\n",
    "                \"feo\":\"FeO\",\n",
    "                \"mno\":\"MnO\",\n",
    "                \"na2o\":\"Na2O\",\n",
    "                \"k2o\":\"K2O\",\n",
    "                \"mgo\":\"MgO\",\n",
    "                \"cao\":\"CaO\",\n",
    "               \"p2o5\":\"P2O5\",\n",
    "               \"h2o\":\"H2O\"}\n",
    "\n",
    "# we get compositions from the low\n",
    "compo = ds.dataset_lp.loc[:,gpvisc.list_oxides()].rename(columns=columns_name).copy()\n",
    "T = ds.dataset_lp.loc[:,\"T\"].copy()\n",
    "# set P at 0 for GP model\n",
    "P = np.zeros(len(T))"
   ]
  },
  {
   "cell_type": "markdown",
   "id": "cbf72440",
   "metadata": {},
   "source": [
    "We now make predictions using GlassNet and the GP models:"
   ]
  },
  {
   "cell_type": "code",
   "execution_count": 17,
   "id": "9e3cc2f7-3e36-4799-a7b1-26dba4ea453f",
   "metadata": {},
   "outputs": [],
   "source": [
    "# make predictions\n",
    "y_glasspy = glassnet_model.predict_log10_viscosity(T=T, composition=compo)"
   ]
  },
  {
   "cell_type": "code",
   "execution_count": 30,
   "id": "3e5d4f39",
   "metadata": {},
   "outputs": [],
   "source": [
    "X_for_GP = gpvisc.scale_for_gaussianprocess(T.values, P, compo.values/100)\n",
    "with torch.no_grad(), gpytorch.settings.fast_pred_var():\n",
    "    y_gp = likelihood(gp_model(torch.FloatTensor(X_for_GP)))\n",
    "    "
   ]
  },
  {
   "cell_type": "markdown",
   "id": "48591e4e",
   "metadata": {},
   "source": [
    "You will first notice that predictions using the GP model are MUCH faster than with GlassNet. 15 seconds in comparison to 3 minutes 45 seconds on my MacBook Pro laptop equiped with a Intel i7 processor...\n",
    "\n",
    "We now can calculate the RMSE of each model. There could be NaN values with GlassNet, so we make a RMSE robust to those."
   ]
  },
  {
   "cell_type": "code",
   "execution_count": 34,
   "id": "41cf1d71-ce08-482c-950e-05db4d7c60d5",
   "metadata": {},
   "outputs": [
    {
     "name": "stdout",
     "output_type": "stream",
     "text": [
      "GlassPy: 0.95\n",
      "GP model: 0.40\n"
     ]
    },
    {
     "name": "stderr",
     "output_type": "stream",
     "text": [
      "/var/folders/23/p99d2kmd0vlg5qrqb4vq2q840000gn/T/ipykernel_5229/2086066311.py:7: FutureWarning: Series.ravel is deprecated. The underlying array is already 1D, so ravel is not necessary.  Use `to_numpy()` for conversion to a numpy array instead.\n",
      "  rmse_glasspy = rmse_robust_to_nan(y_glasspy.ravel(),ds.dataset_lp.viscosity.values.ravel())\n"
     ]
    }
   ],
   "source": [
    "# report RMSE\n",
    "def rmse_robust_to_nan(y, y2):\n",
    "    \"\"\"rmse evaluation robust to NaN\"\"\"\n",
    "    se = np.nan_to_num((y-y2)**2) # here we convert NaN to 0 so that it has little effect on RMSE\n",
    "    return np.sqrt(np.mean(se))\n",
    "\n",
    "rmse_glasspy = rmse_robust_to_nan(y_glasspy.ravel(),ds.dataset_lp.viscosity.values.ravel())\n",
    "rmse_gpvisc = rmse_robust_to_nan(y_gp.mean.detach().numpy().ravel()*gpvisc.Y_scale(),ds.dataset_lp.viscosity.values.ravel())\n",
    "print(\"GlassPy: {:.2f}\".format(rmse_glasspy))\n",
    "print(\"GP model: {:.2f}\".format(rmse_gpvisc))\n"
   ]
  },
  {
   "cell_type": "markdown",
   "id": "377f7a7b",
   "metadata": {},
   "source": [
    "# Running the GP model on the full SCIGLASS library for the range of compositions it covers.\n",
    "\n",
    "For convenience, we outputed the SciGlass library for phospho-alumino-silicate compositions in a CSV file. We can first load it."
   ]
  },
  {
   "cell_type": "code",
   "execution_count": 38,
   "id": "91a42a70-89cf-4796-bcba-c6a190ab21e4",
   "metadata": {},
   "outputs": [],
   "source": [
    "data_sciglass = pd.read_csv(\"./additional_data/FULL_SCIGLASS.csv\")"
   ]
  },
  {
   "cell_type": "code",
   "execution_count": 39,
   "id": "cfd22411-df23-4a20-9d7b-9cf87a97578d",
   "metadata": {},
   "outputs": [],
   "source": [
    "# We get dataset usable with the GP now:\n",
    "X_sciglass = gpvisc.scale_for_gaussianprocess(data_sciglass[\"T\"].values.copy(),\n",
    "                             np.zeros((len(data_sciglass),1)),\n",
    "                             data_sciglass.loc[:,gpvisc.list_oxides()].values/100)"
   ]
  },
  {
   "cell_type": "code",
   "execution_count": 40,
   "id": "b2ddf788-6b27-4734-af39-c803d4e92962",
   "metadata": {},
   "outputs": [],
   "source": [
    "with torch.no_grad(), gpytorch.settings.fast_pred_var():\n",
    "    y_gp_2 = likelihood(gp_model(torch.FloatTensor(X_sciglass)))\n"
   ]
  },
  {
   "cell_type": "code",
   "execution_count": 44,
   "id": "84f007c9-d638-45fa-86b2-e0d417cc6736",
   "metadata": {},
   "outputs": [
    {
     "name": "stdout",
     "output_type": "stream",
     "text": [
      "GP model error on the full SciGlass dataset: 0.49\n"
     ]
    }
   ],
   "source": [
    "mse_glasspy2 = rmse_robust_to_nan(y_gp_2.mean.detach().numpy().ravel()*gpvisc.Y_scale(), data_sciglass.viscosity.values.ravel())\n",
    "print(\"GP model error on the full SciGlass dataset: {:.2f}\".format(mse_glasspy2))\n"
   ]
  },
  {
   "cell_type": "code",
   "execution_count": null,
   "id": "5e995662-02c9-41df-807b-a2de239f3d82",
   "metadata": {},
   "outputs": [],
   "source": []
  }
 ],
 "metadata": {
  "kernelspec": {
   "display_name": "Python 3 (ipykernel)",
   "language": "python",
   "name": "python3"
  },
  "language_info": {
   "codemirror_mode": {
    "name": "ipython",
    "version": 3
   },
   "file_extension": ".py",
   "mimetype": "text/x-python",
   "name": "python",
   "nbconvert_exporter": "python",
   "pygments_lexer": "ipython3",
   "version": "3.11.9"
  }
 },
 "nbformat": 4,
 "nbformat_minor": 5
}
