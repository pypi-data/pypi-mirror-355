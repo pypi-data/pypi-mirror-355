{
 "cells": [
  {
   "cell_type": "code",
   "execution_count": 1,
   "id": "cbc63250-9818-4a8a-8a1e-10989c3851a8",
   "metadata": {},
   "outputs": [
    {
     "name": "stderr",
     "output_type": "stream",
     "text": [
      "2024-07-03 14:02:21.678839: I tensorflow/core/platform/cpu_feature_guard.cc:210] This TensorFlow binary is optimized to use available CPU instructions in performance-critical operations.\n",
      "To enable the following instructions: AVX2 FMA, in other operations, rebuild TensorFlow with the appropriate compiler flags.\n"
     ]
    }
   ],
   "source": [
    "import pandas as pd\n",
    "import numpy as np\n",
    "\n",
    "import gpvisc"
   ]
  },
  {
   "cell_type": "markdown",
   "id": "42ff0ccc-ce74-497f-b0c8-478ab3f0bc58",
   "metadata": {},
   "source": [
    "## Get data from sciglass\n",
    "\n",
    "- we only take oxide melts\n",
    "- we only take compositions that sum close to 1, between 99 and 100 %\n",
    "- we drop compositions that contains other elements that those we seek\n",
    "- we save the data in a CSV file\n",
    "\n",
    "*If you don't want to run a SciGlass search, you can skip this cell and go to that below where we load the result of this database query directly.*"
   ]
  },
  {
   "cell_type": "code",
   "execution_count": 2,
   "id": "01c2b357-56a4-4cce-b54a-08ca7d953320",
   "metadata": {},
   "outputs": [
    {
     "name": "stdout",
     "output_type": "stream",
     "text": [
      "['T0', 'T1', 'T2', 'T3', 'T4', 'T5', 'T6', 'T7', 'T8', 'T9', 'T10', 'T11', 'T12', 'Viscosity773K', 'Viscosity873K', 'Viscosity973K', 'Viscosity1073K', 'Viscosity1173K', 'Viscosity1273K', 'Viscosity1373K', 'Viscosity1473K', 'Viscosity1573K', 'Viscosity1673K', 'Viscosity1773K', 'Viscosity1873K', 'Viscosity2073K', 'Viscosity2273K', 'Viscosity2473K', 'Tg', 'Tmelt', 'Tliquidus', 'TLittletons', 'TAnnealing', 'Tstrain', 'Tsoft', 'TdilatometricSoftening', 'AbbeNum', 'RefractiveIndex', 'RefractiveIndexLow', 'RefractiveIndexHigh', 'MeanDispersion', 'Permittivity', 'TangentOfLossAngle', 'TresistivityIs1MOhm.m', 'Resistivity273K', 'Resistivity373K', 'Resistivity423K', 'Resistivity573K', 'Resistivity1073K', 'Resistivity1273K', 'Resistivity1473K', 'Resistivity1673K', 'YoungModulus', 'ShearModulus', 'Microhardness', 'PoissonRatio', 'Density293K', 'Density1073K', 'Density1273K', 'Density1473K', 'Density1673K', 'ThermalConductivity', 'ThermalShockRes', 'CTEbelowTg', 'CTE328K', 'CTE373K', 'CTE433K', 'CTE483K', 'CTE623K', 'Cp293K', 'Cp473K', 'Cp673K', 'Cp1073K', 'Cp1273K', 'Cp1473K', 'Cp1673K', 'NucleationTemperature', 'NucleationRate', 'TMaxGrowthVelocity', 'MaxGrowthVelocity', 'CrystallizationPeak', 'CrystallizationOnset', 'SurfaceTensionAboveTg', 'SurfaceTension1173K', 'SurfaceTension1473K', 'SurfaceTension1573K', 'SurfaceTension1673K']\n"
     ]
    }
   ],
   "source": [
    "from glasspy.data import SciGlass\n",
    "print(SciGlass.available_properties())\n",
    "\n",
    "list_oxydes = ['SiO2','Al2O3','Na2O','K2O','MgO','CaO', 'FeO', 'TiO2', 'P2O5', 'Fe2O3', 'H2O', 'MnO']\n",
    "# SciGlass lists interpolated values in the form of \n",
    "# temperatures at viscosities from log10 Pa s = 0 to log10 Pa s = 12\n",
    "list_properties = ['T0', 'T1', 'T2', 'T3', 'T4', 'T5', 'T6', 'T7', 'T8', 'T9', 'T10', 'T11', 'T12']\n",
    "\n",
    "config_el = {\n",
    "    \"drop\": ['S', 'C', 'Pt', 'Au', 'F', 'Cl', 'N', 'Br', 'I', 'Li', \n",
    "                                          'Be', 'B', 'Sc', 'V', 'Cr', \n",
    "                                          'Co', 'Ni', 'Cu', 'Zn', 'Ga', 'Ge', 'As', 'Se', 'Rb', 'Sr', 'Y', \n",
    "                                          'Zr', 'Nb', 'Mo', 'Ru', 'Rh', 'Pd', 'Ag', 'Cd', 'In', 'Sn', 'Sb', \n",
    "                                          'Te', 'Cs', 'Ba', 'La', 'Ce', 'Pr', 'Nd', 'Sm', 'Eu', 'Gd', 'Tb', \n",
    "                                          'Dy', 'Ho', 'Er', 'Tm', 'Yb', 'Lu', 'Hf', 'Ta', 'W', 'Hg',\n",
    "                                          'Tl', 'Pb', 'Bi', 'Th', 'U','Re','Ir'],}\n",
    "config_prop = {\"keep\": list_properties} # we want only those properties\n",
    "config_comp = {\"keep\": list_oxydes, # we want only those elements\n",
    "              \"acceptable_sum_deviation\": 0.01} # the sum should be between 0.99 and 1.01\n",
    "\n",
    "source = SciGlass(\n",
    "    elements_cfg=config_el,\n",
    "    properties_cfg=config_prop,\n",
    "    compounds_cfg=config_comp,\n",
    ")\n",
    "\n",
    "df = source.data.reset_index()\n",
    "\n",
    "###\n",
    "# Generating an output dataframe\n",
    "# in the same form that our dataset.\n",
    "###\n",
    "\n",
    "# correspondance array\n",
    "corresp_visco = {\"T0\":0, \n",
    "                 \"T1\":1, \n",
    "                 \"T2\":2, \n",
    "                 \"T3\":3, \n",
    "                 \"T4\":4, \n",
    "                 \"T5\":5, \n",
    "                 \"T6\":6, \n",
    "                 \"T7\":7, \n",
    "                 \"T8\":8, \n",
    "                 \"T9\":9, \n",
    "                 \"T10\":10, \n",
    "                 \"T11\":11, \n",
    "                 \"T12\":12}\n",
    "\n",
    "# the new dataframe\n",
    "df2 = pd.DataFrame(columns=['sio2', 'tio2', 'al2o3', 'feo', 'fe2o3', \n",
    "                            'mno', 'na2o', 'k2o', 'mgo', 'cao', 'p2o5', \n",
    "                            'h2o', \"T\", \"viscosity\", \"Author\", \"Year\"])\n",
    "\n",
    "# loop\n",
    "for j in range(len(df)):\n",
    "    \n",
    "    # get the composition\n",
    "    compo = df.compounds.loc[j,:]\n",
    "    \n",
    "    # get all properties\n",
    "    prop = df.property.loc[j,:]\n",
    "    \n",
    "    # get author\n",
    "    author = df.metadata.loc[j,\"Author\"]\n",
    "    # get year\n",
    "    year = df.metadata.loc[j,\"Year\"]\n",
    "    \n",
    "    # now loop over the desired property recorded visco\n",
    "    for i in corresp_visco:\n",
    "        \n",
    "        # and only get T values that are not NaN\n",
    "        if np.isnan(prop[i]) == False:   \n",
    "            \n",
    "            # construct new row\n",
    "            new_row = [compo.SiO2, \n",
    "                       compo.TiO2, \n",
    "                       compo.Al2O3,\n",
    "                       compo.FeO,\n",
    "                       compo.Fe2O3,\n",
    "                       compo.MnO, \n",
    "                       compo.Na2O, \n",
    "                       compo.K2O,\n",
    "                       compo.MgO,\n",
    "                       compo.CaO,\n",
    "                       compo.P2O5,\n",
    "                       compo.H2O, \n",
    "                       prop[i], # T of interest is in the correspondance dict\n",
    "                       corresp_visco[i],\n",
    "                      author,\n",
    "                      year] # corresponding viscosity\n",
    "            \n",
    "            # append it to existing array\n",
    "            df2.loc[len(df2)] = new_row\n",
    "            \n",
    "# save the dataframe\n",
    "df2.to_csv(\"./data/FULL_SCIGLASS.csv\")"
   ]
  },
  {
   "cell_type": "markdown",
   "id": "872a60ab-cfdb-4371-b5ef-f6b7c9428350",
   "metadata": {},
   "source": [
    "## Reading the dataframe\n",
    "\n",
    "Now we don't need SciGlass anymore, we just load the dataframe."
   ]
  },
  {
   "cell_type": "code",
   "execution_count": 11,
   "id": "155da115-5df6-4d0d-b818-b04e6965b158",
   "metadata": {},
   "outputs": [
    {
     "data": {
      "text/plain": [
       "Index(['sio2', 'tio2', 'al2o3', 'feo', 'fe2o3', 'mno', 'na2o', 'k2o', 'mgo',\n",
       "       'cao', 'p2o5', 'h2o', 'T', 'viscosity', 'Name', 'Sciglass',\n",
       "       'Name_publi', 'ref'],\n",
       "      dtype='object')"
      ]
     },
     "execution_count": 11,
     "metadata": {},
     "output_type": "execute_result"
    }
   ],
   "source": [
    "data_glasspy = pd.read_csv(\"./additional_data/FULL_SCIGLASS.csv\")\n",
    "data_glasspy['Name'] = gpvisc.generate_token(data_glasspy) # We add the unique names\n",
    "data_glasspy=data_glasspy.drop(['Unnamed: 0','Author', 'Year'], axis=1)\n",
    "data_glasspy[\"Sciglass\"]=True\n",
    "data_glasspy[\"Name_publi\"]=\"Sciglass\"\n",
    "data_glasspy[\"ref\"]=\"Sciglass\"\n",
    "# print columns\n",
    "data_glasspy.columns"
   ]
  },
  {
   "cell_type": "markdown",
   "id": "e033a4e1-735b-48a9-87dd-bd330990ddd2",
   "metadata": {},
   "source": [
    "we load our data"
   ]
  },
  {
   "cell_type": "code",
   "execution_count": 12,
   "id": "9a2a358f-f35c-4731-9221-fe9924a67910",
   "metadata": {},
   "outputs": [],
   "source": [
    "dataset_lp = pd.read_excel(\"./additional_data/database.xlsx\", sheet_name=\"lp\")\n",
    "dataset_lp['Name'] = gpvisc.generate_token(dataset_lp) # We add the unique names\n",
    "dataset_lp[\"Sciglass\"]=False\n",
    "dataset_lp = dataset_lp.loc[:,data_glasspy.columns] # we get only the same columns as in data_glasspy"
   ]
  },
  {
   "cell_type": "markdown",
   "id": "195dccac-fb01-48f2-aeea-d771721f61a5",
   "metadata": {},
   "source": [
    "Now we will create a new dataframe in which we keep everything from dataset_lp and only add the compositions from data_glasspy that do not appear in dataset_lp (at a resolution of 0.1 mol%)"
   ]
  },
  {
   "cell_type": "code",
   "execution_count": 13,
   "id": "cb889630-9656-424e-b570-19b18bc584b7",
   "metadata": {},
   "outputs": [
    {
     "name": "stdout",
     "output_type": "stream",
     "text": [
      "Old length 15440, added data 12231, new length 27671\n"
     ]
    }
   ],
   "source": [
    "# Merge df2 with df1 with an indicator and perform a left join\n",
    "merge_df = pd.merge(data_glasspy, dataset_lp, on=['sio2','tio2','al2o3','feo','fe2o3','mno','na2o','k2o','mgo','cao','p2o5','h2o'], \n",
    "                    how='left', indicator=True)\n",
    "\n",
    "# Filter out rows in df2 that are found in df1\n",
    "unique_df2 = merge_df[merge_df['_merge'] == 'left_only'].drop(columns=['_merge'])\n",
    "\n",
    "# we clean unique_df2 and drop the details of the merge\n",
    "unique_df2['T'] = unique_df2['T_x']\n",
    "unique_df2['Name'] = unique_df2['Name_x']\n",
    "unique_df2['viscosity'] = unique_df2['viscosity_x']\n",
    "unique_df2 = unique_df2.drop(['T_x','T_y','viscosity_x','viscosity_y','Name_x','Name_y','Sciglass_x','Sciglass_y'],axis=1).copy()\n",
    "\n",
    "# Concatenate unique rows from df2 with df1\n",
    "final_df = pd.concat([dataset_lp, unique_df2]).reset_index()\n",
    "\n",
    "# add pressure, everything at 0 GPa (1 bar)\n",
    "final_df[\"P\"] = 0.0\n",
    "\n",
    "# print details\n",
    "print(\"Old length {}, added data {}, new length {}\".format(len(dataset_lp),len(unique_df2), len(final_df)))\n",
    "\n",
    "# save dataframe\n",
    "final_df.drop(\"index\",axis=1).to_csv(\"./additional_data/dataset+sciglass_lp.csv\")"
   ]
  },
  {
   "cell_type": "code",
   "execution_count": 14,
   "id": "beb0384b",
   "metadata": {},
   "outputs": [
    {
     "data": {
      "text/plain": [
       "80         S75.3T0.0A0.4F0.0M0.0N14.3K0.0Mg0.2C9.8P0.0H0.0\n",
       "85        S70.8T0.0A1.2F0.8M0.1N15.7K0.5Mg0.0C10.9P0.0H0.0\n",
       "89         S70.0T0.0A0.0F0.0M0.0N20.4K0.0Mg0.0C9.6P0.0H0.0\n",
       "91        S60.0T0.0A16.0F0.0M0.0N0.0K16.0Mg0.0C8.0P0.0H0.0\n",
       "94        S60.0T0.0A16.0F0.0M0.0N3.2K12.8Mg0.0C8.0P0.0H0.0\n",
       "                               ...                        \n",
       "55924      S35.7T1.1A9.0F0.0M3.0N0.0K0.0Mg9.1C42.1P0.0H0.0\n",
       "55925      S36.2T1.9A9.0F0.0M1.3N0.0K0.0Mg9.1C42.6P0.0H0.0\n",
       "55926    S31.7T2.9A10.8F0.6M0.3N0.0K0.0Mg13.8C40.0P0.0H0.0\n",
       "55927    S31.0T2.8A12.7F0.6M0.3N0.0K0.0Mg13.5C39.1P0.0H0.0\n",
       "55928     S67.2T0.0A2.6F0.0M0.0N14.3K0.6Mg11.3C4.0P0.0H0.0\n",
       "Name: Name, Length: 3591, dtype: object"
      ]
     },
     "execution_count": 14,
     "metadata": {},
     "output_type": "execute_result"
    }
   ],
   "source": [
    "unique_df2.loc[:,\"Name\"].drop_duplicates()"
   ]
  },
  {
   "cell_type": "code",
   "execution_count": 15,
   "id": "83d67f83",
   "metadata": {},
   "outputs": [
    {
     "data": {
      "text/plain": [
       "27671"
      ]
     },
     "execution_count": 15,
     "metadata": {},
     "output_type": "execute_result"
    }
   ],
   "source": [
    "len(final_df.loc[:,gpvisc.list_oxides()])"
   ]
  },
  {
   "cell_type": "code",
   "execution_count": 16,
   "id": "c4cba1ef-b423-41da-959b-b6965e7bc69a",
   "metadata": {},
   "outputs": [
    {
     "data": {
      "text/plain": [
       "index           False\n",
       "sio2            False\n",
       "tio2            False\n",
       "al2o3           False\n",
       "feo             False\n",
       "fe2o3           False\n",
       "mno             False\n",
       "na2o            False\n",
       "k2o             False\n",
       "mgo             False\n",
       "cao             False\n",
       "p2o5            False\n",
       "h2o             False\n",
       "T               False\n",
       "viscosity       False\n",
       "Name            False\n",
       "Sciglass        False\n",
       "Name_publi      False\n",
       "ref             False\n",
       "Name_publi_x    False\n",
       "ref_x           False\n",
       "Name_publi_y     True\n",
       "ref_y            True\n",
       "P               False\n",
       "dtype: bool"
      ]
     },
     "execution_count": 16,
     "metadata": {},
     "output_type": "execute_result"
    }
   ],
   "source": [
    "final_df.isnull().all()"
   ]
  },
  {
   "cell_type": "markdown",
   "id": "2d8a6e78-4806-4e84-9985-2c73e864a31b",
   "metadata": {},
   "source": [
    "## Loading and saving the HP data in CSV\n",
    "\n",
    "It is faster to load CSV files. So we resave our data in CSV for futur use, particularly in the loop that select random seed (see second data preparation notebook)"
   ]
  },
  {
   "cell_type": "code",
   "execution_count": 17,
   "id": "18254f5c-1820-42e9-885f-c2066e19b023",
   "metadata": {},
   "outputs": [],
   "source": [
    "dataset_hp = pd.read_excel(\"./additional_data/database.xlsx\", sheet_name=\"hp\")\n",
    "dataset_hp[\"Sciglass\"] = False\n",
    "dataset_hp.to_csv(\"./additional_data/dataset_hp.csv\")"
   ]
  },
  {
   "cell_type": "code",
   "execution_count": 18,
   "id": "c0e24a72-3657-42bf-9362-d79863cd0e33",
   "metadata": {},
   "outputs": [
    {
     "data": {
      "text/plain": [
       "sio2     100.00\n",
       "tio2      37.26\n",
       "al2o3    100.00\n",
       "feo       71.50\n",
       "fe2o3     82.89\n",
       "mno       31.53\n",
       "na2o      54.15\n",
       "k2o       50.00\n",
       "mgo       65.10\n",
       "cao       74.70\n",
       "p2o5       6.67\n",
       "h2o      100.00\n",
       "dtype: float64"
      ]
     },
     "execution_count": 18,
     "metadata": {},
     "output_type": "execute_result"
    }
   ],
   "source": [
    "dataset_lp.loc[:,gpvisc.list_oxides()].max()"
   ]
  },
  {
   "cell_type": "code",
   "execution_count": 19,
   "id": "2245c93c-b165-4fba-9048-39fdf23f406d",
   "metadata": {},
   "outputs": [
    {
     "data": {
      "text/plain": [
       "sio2     0.0\n",
       "tio2     0.0\n",
       "al2o3    0.0\n",
       "feo      0.0\n",
       "fe2o3    0.0\n",
       "mno      0.0\n",
       "na2o     0.0\n",
       "k2o      0.0\n",
       "mgo      0.0\n",
       "cao      0.0\n",
       "p2o5     0.0\n",
       "h2o      0.0\n",
       "dtype: float64"
      ]
     },
     "execution_count": 19,
     "metadata": {},
     "output_type": "execute_result"
    }
   ],
   "source": [
    "unique_df2.loc[:,gpvisc.list_oxides()].min()"
   ]
  },
  {
   "cell_type": "code",
   "execution_count": null,
   "id": "6a90a799-253d-438f-98e4-b61f88733bca",
   "metadata": {},
   "outputs": [],
   "source": []
  }
 ],
 "metadata": {
  "kernelspec": {
   "display_name": "Python 3 (ipykernel)",
   "language": "python",
   "name": "python3"
  },
  "language_info": {
   "codemirror_mode": {
    "name": "ipython",
    "version": 3
   },
   "file_extension": ".py",
   "mimetype": "text/x-python",
   "name": "python",
   "nbconvert_exporter": "python",
   "pygments_lexer": "ipython3",
   "version": "3.11.9"
  }
 },
 "nbformat": 4,
 "nbformat_minor": 5
}
