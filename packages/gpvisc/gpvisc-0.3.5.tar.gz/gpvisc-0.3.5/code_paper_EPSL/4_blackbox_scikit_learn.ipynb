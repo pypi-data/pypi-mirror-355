{
 "cells": [
  {
   "cell_type": "code",
   "execution_count": 1,
   "id": "735bc1b6-1ae9-44a0-808e-0d39d8a28008",
   "metadata": {
    "executionInfo": {
     "elapsed": 5949,
     "status": "ok",
     "timestamp": 1702933339556,
     "user": {
      "displayName": "Charles LL",
      "userId": "05619559028255365437"
     },
     "user_tz": -60
    },
    "id": "735bc1b6-1ae9-44a0-808e-0d39d8a28008"
   },
   "outputs": [],
   "source": [
    "#!/usr/bin/env python\n",
    "# coding: utf-8\n",
    "# (c) Charles Le Losq, Clément Ferraina 2023\n",
    "# see embedded licence file\n",
    "# iVisc 1.0\n",
    "\n",
    "#\n",
    "# Library Loading\n",
    "#\n",
    "import pandas as pd # manipulate dataframes\n",
    "import matplotlib.pyplot as plt # plotting\n",
    "import numpy as np\n",
    "np.random.seed = 167 # fix numpy random seed for reproducibility\n",
    "\n",
    "import time, os\n",
    "\n",
    "# local imports\n",
    "import gpvisc.utils as utils\n",
    "import gpvisc.models as models\n",
    "\n",
    "# import sklearn models\n",
    "from sklearn.neural_network import MLPRegressor\n",
    "from sklearn.neighbors import KNeighborsRegressor as KNR\n",
    "from sklearn.ensemble import RandomForestRegressor\n",
    "from sklearn.svm import SVR\n",
    "from sklearn import linear_model\n",
    "from sklearn.preprocessing import StandardScaler\n",
    "\n",
    "# import sklearn utils\n",
    "from sklearn.metrics import root_mean_squared_error, median_absolute_error, r2_score\n",
    "from sklearn.model_selection import GridSearchCV, PredefinedSplit\n",
    "\n",
    "# import joblib (save and load models)\n",
    "import joblib\n",
    "\n",
    "# import xgboost\n",
    "import xgboost as xgb\n",
    "\n",
    "#\n",
    "# Helper function for performance evaluation\n",
    "#\n",
    "\n",
    "def evaluate_model(ds, model, model_name=\"Don't forget this...\"):\n",
    "\n",
    "    y_train_valid_pred = model.predict(ds.TPX_train_valid_scaled)\n",
    "    y_test_pred = model.predict(ds.TPX_test_scaled)\n",
    "\n",
    "    mse_train = root_mean_squared_error(ds.y_train_valid, y_train_valid_pred)\n",
    "    mse_test = root_mean_squared_error(ds.y_test, y_test_pred)\n",
    "    mse_test_ourdatabase = root_mean_squared_error(ds.y_test[ds.Sciglass_test.ravel() == False], y_test_pred[ds.Sciglass_test.ravel() == False])\n",
    "\n",
    "    mae_train = median_absolute_error(ds.y_train_valid, y_train_valid_pred)\n",
    "    mae_test = median_absolute_error(ds.y_test, y_test_pred)\n",
    "    mae_test_ourdatabase = median_absolute_error(ds.y_test[ds.Sciglass_test.ravel() == False], y_test_pred[ds.Sciglass_test.ravel() == False])\n",
    "\n",
    "    r2_train = r2_score(ds.y_train_valid, y_train_valid_pred)\n",
    "    r2_test = r2_score(ds.y_test, y_test_pred)\n",
    "    r2_test_ourdatabase = r2_score(ds.y_test[ds.Sciglass_test.ravel() == False], y_test_pred[ds.Sciglass_test.ravel() == False])\n",
    "\n",
    "    #Stats data\n",
    "    print(model_name)\n",
    "    print('Root Mean Square Errors:','\\n',\n",
    "          'Train-Valid    %.2f' % mse_train,'\\n',\n",
    "          'Test     %.2f' % mse_test,'\\n',\n",
    "          'Test (our data) %.2f' % mse_test_ourdatabase,'\\n',\n",
    "          'Median Absolute Errors:','\\n',\n",
    "          'Train-Valid    %.2f' % mae_train,'\\n',\n",
    "          'Test     %.2f' % mae_test,'\\n',\n",
    "          'Test (our data) %.2f' % mae_test_ourdatabase,'\\n',\n",
    "          'Coefficient of Determination:','\\n',\n",
    "          'Train-Valid    %.3f' % r2_train,'\\n',\n",
    "          'Test     %.3f' % r2_test,\n",
    "          'Test (our data) %.3f' % r2_test_ourdatabase,'\\n'\n",
    "         )"
   ]
  },
  {
   "cell_type": "markdown",
   "id": "1ab9e2fc",
   "metadata": {},
   "source": [
    "# Data loading\n",
    "\n",
    "We use utils.data_loader to load the data for training the black box models."
   ]
  },
  {
   "cell_type": "code",
   "execution_count": 2,
   "id": "f02c009f-55ee-4389-a9ef-7691756436e5",
   "metadata": {},
   "outputs": [
    {
     "name": "stdout",
     "output_type": "stream",
     "text": [
      "Loading the viscosity datasets...\n",
      "Loaded.\n"
     ]
    }
   ],
   "source": [
    "# Data loading\n",
    "print(\"Loading the viscosity datasets...\")\n",
    "ds = utils.data_loader()\n",
    "print(\"Loaded.\")"
   ]
  },
  {
   "cell_type": "markdown",
   "id": "80cefdde-ed73-4bd4-85b5-d686e9a81d5c",
   "metadata": {},
   "source": [
    "## further data preparation\n",
    "\n",
    "We now train the algorithms on the train-valid splits for final training. For tuning of hyperparameters, see the other notebook.\n",
    "\n",
    "We thus rescale the data using the train-valid split, and transform the train-valid and test datasets using this scaler."
   ]
  },
  {
   "cell_type": "code",
   "execution_count": 3,
   "id": "2-sx0US-9IZM",
   "metadata": {
    "colab": {
     "base_uri": "https://localhost:8080/"
    },
    "executionInfo": {
     "elapsed": 6761,
     "status": "ok",
     "timestamp": 1702933371767,
     "user": {
      "displayName": "Charles LL",
      "userId": "05619559028255365437"
     },
     "user_tz": -60
    },
    "id": "2-sx0US-9IZM",
    "outputId": "aa6e8c65-9db5-40cc-9562-8c54516c8da1"
   },
   "outputs": [],
   "source": [
    "# preparing data scaling\n",
    "\n",
    "stop_col = 14 # we only use the first 14 columns as in the other models\n",
    "scaler = StandardScaler().fit(ds.TPX_train_valid[:,:stop_col])\n",
    "ds.TPX_train_valid_scaled = scaler.transform(ds.TPX_train_valid[:,:stop_col])\n",
    "ds.TPX_test_scaled = scaler.transform(ds.TPX_test[:,:stop_col])"
   ]
  },
  {
   "cell_type": "markdown",
   "id": "V3ZpHdXl23Bm",
   "metadata": {
    "id": "V3ZpHdXl23Bm"
   },
   "source": [
    "# Models with SciKit Learn\n",
    "\n",
    "With scikit learn, we will try four popular, out of the box blackbox models:\n",
    "- a linear model will be used as a baseline model;\n",
    "- a support vector machine regression model;\n",
    "- a random forest model (note that we tried XGBoost and it makes not that much differences, so we stick with scikit-learn for this example);\n",
    "- an artificial neural network model."
   ]
  },
  {
   "cell_type": "markdown",
   "id": "812e75e8",
   "metadata": {},
   "source": [
    "#### Linear model"
   ]
  },
  {
   "cell_type": "code",
   "execution_count": null,
   "id": "4b1a3920-bf70-41ed-890c-da568a1a8511",
   "metadata": {},
   "outputs": [
    {
     "name": "stdout",
     "output_type": "stream",
     "text": [
      "## Linear Regression ##\n",
      "Root Mean Square Errors: \n",
      " Train-Valid    1.58 \n",
      " Test     1.58 \n",
      " Test (our data) 1.51 \n",
      " Median Absolute Errors: \n",
      " Train-Valid    1.08 \n",
      " Test     1.09 \n",
      " Test (our data) 0.91 \n",
      " Coefficient of Determination: \n",
      " Train-Valid    0.873 \n",
      " Test     0.872 Test (our data) 0.903 \n",
      "\n"
     ]
    }
   ],
   "source": [
    "# Declaration\n",
    "clf_linreg = linear_model.LinearRegression()\n",
    "\n",
    "# Training and Saving\n",
    "clf_linreg.fit(ds.TPX_train_valid_scaled,\n",
    "               ds.y_train_valid)\n",
    "joblib.dump(clf_linreg,'./models/clf_linreg.joblib')\n",
    "\n",
    "# Evaluation\n",
    "evaluate_model(ds, clf_linreg, model_name=\"## Linear Regression ##\")"
   ]
  },
  {
   "cell_type": "code",
   "execution_count": 5,
   "id": "44719f8c-cc42-4c04-9d19-90889a50b853",
   "metadata": {},
   "outputs": [
    {
     "data": {
      "text/plain": [
       "[<matplotlib.lines.Line2D at 0x7320215eee50>]"
      ]
     },
     "execution_count": 5,
     "metadata": {},
     "output_type": "execute_result"
    },
    {
     "data": {
      "image/png": "[encoded data removed]",
      "text/plain": [
       "<Figure size 640x480 with 1 Axes>"
      ]
     },
     "metadata": {},
     "output_type": "display_data"
    }
   ],
   "source": [
    "plt.plot(ds.y_train_valid, clf_linreg.predict(ds.TPX_train_valid_scaled),\".\")"
   ]
  },
  {
   "cell_type": "markdown",
   "id": "39091681",
   "metadata": {},
   "source": [
    "#### Support Vector Machine regression\n",
    "\n",
    "Train a SVR model with the best hyperparameters selected using Bayesian optimization."
   ]
  },
  {
   "cell_type": "code",
   "execution_count": 6,
   "id": "3c8a3241",
   "metadata": {},
   "outputs": [
    {
     "name": "stderr",
     "output_type": "stream",
     "text": [
      "/home/charles/miniconda3/envs/gpvisc/lib/python3.11/site-packages/sklearn/utils/validation.py:1339: DataConversionWarning: A column-vector y was passed when a 1d array was expected. Please change the shape of y to (n_samples, ), for example using ravel().\n",
      "  y = column_or_1d(y, warn=True)\n"
     ]
    },
    {
     "name": "stdout",
     "output_type": "stream",
     "text": [
      "SVR REGRESSION\n",
      "Root Mean Square Errors: \n",
      " Train-Valid    0.46 \n",
      " Test     0.53 \n",
      " Test (our data) 0.36 \n",
      " Median Absolute Errors: \n",
      " Train-Valid    0.09 \n",
      " Test     0.15 \n",
      " Test (our data) 0.13 \n",
      " Coefficient of Determination: \n",
      " Train-Valid    0.989 \n",
      " Test     0.986 Test (our data) 0.994 \n",
      "\n"
     ]
    }
   ],
   "source": [
    "# Declaration\n",
    "clf_svr = SVR(kernel = 'rbf', \n",
    "              C=298, \n",
    "              epsilon=0.000219, \n",
    "              cache_size=1000)\n",
    "\n",
    "# Training and Saving\n",
    "clf_svr.fit(ds.TPX_train_valid_scaled, \n",
    "            ds.y_train_valid)\n",
    "joblib.dump(clf_svr,'./models/clf_svr.joblib')\n",
    "\n",
    "# Evaluation\n",
    "evaluate_model(ds, clf_svr, model_name = \"SVR REGRESSION\")"
   ]
  },
  {
   "cell_type": "markdown",
   "id": "13d0f88d",
   "metadata": {},
   "source": [
    "## Artificial neural network\n",
    "\n",
    "The architecture of the ANN was tuned by hand. The default learning rate already allows obtaining reasonable results with minimal overfitting, such that we did not search to tune it further."
   ]
  },
  {
   "cell_type": "code",
   "execution_count": 5,
   "id": "71f7d921",
   "metadata": {},
   "outputs": [
    {
     "name": "stderr",
     "output_type": "stream",
     "text": [
      "/home/charles/miniconda3/envs/gpvisc/lib/python3.11/site-packages/sklearn/neural_network/_multilayer_perceptron.py:1631: DataConversionWarning: A column-vector y was passed when a 1d array was expected. Please change the shape of y to (n_samples, ), for example using ravel().\n",
      "  y = column_or_1d(y, warn=True)\n"
     ]
    },
    {
     "name": "stdout",
     "output_type": "stream",
     "text": [
      "ANN REGRESSION\n",
      "Root Mean Square Errors: \n",
      " Train-Valid    0.38 \n",
      " Test     0.44 \n",
      " Test (our data) 0.33 \n",
      " Median Absolute Errors: \n",
      " Train-Valid    0.14 \n",
      " Test     0.17 \n",
      " Test (our data) 0.16 \n",
      " Coefficient of Determination: \n",
      " Train-Valid    0.993 \n",
      " Test     0.990 Test (our data) 0.995 \n",
      "\n"
     ]
    }
   ],
   "source": [
    "# Declaration\n",
    "clf_nn = MLPRegressor(solver='adam', \n",
    "                      alpha=1e-3, \n",
    "                      hidden_layer_sizes=(200,200),\n",
    "                      activation='relu', \n",
    "                      max_iter=20000\n",
    "                      )\n",
    "\n",
    "# Training and Saving\n",
    "clf_nn.fit(ds.TPX_train_valid_scaled, ds.y_train_valid)\n",
    "joblib.dump(clf_nn,'./models/clf_nn.joblib')\n",
    "\n",
    "# Evaluation\n",
    "evaluate_model(ds, clf_nn, model_name = \"ANN REGRESSION\")"
   ]
  },
  {
   "cell_type": "markdown",
   "id": "4e9de509",
   "metadata": {},
   "source": [
    "## Random Forest"
   ]
  },
  {
   "cell_type": "code",
   "execution_count": 8,
   "id": "bf39b52f-8702-4a83-8186-eec4cdbcea3a",
   "metadata": {},
   "outputs": [
    {
     "name": "stderr",
     "output_type": "stream",
     "text": [
      "/home/charles/miniconda3/envs/gpvisc/lib/python3.11/site-packages/sklearn/base.py:1473: DataConversionWarning: A column-vector y was passed when a 1d array was expected. Please change the shape of y to (n_samples,), for example using ravel().\n",
      "  return fit_method(estimator, *args, **kwargs)\n"
     ]
    },
    {
     "name": "stdout",
     "output_type": "stream",
     "text": [
      "Random Forest REGRESSOR\n",
      "Root Mean Square Errors: \n",
      " Train-Valid    0.19 \n",
      " Test     0.54 \n",
      " Test (our data) 0.37 \n",
      " Median Absolute Errors: \n",
      " Train-Valid    0.05 \n",
      " Test     0.14 \n",
      " Test (our data) 0.13 \n",
      " Coefficient of Determination: \n",
      " Train-Valid    0.998 \n",
      " Test     0.985 Test (our data) 0.994 \n",
      "\n"
     ]
    }
   ],
   "source": [
    "# Declaration\n",
    "clf_rf = RandomForestRegressor(\n",
    "    n_estimators = 149,\n",
    "    max_depth = 20,\n",
    "    min_samples_split = 2,\n",
    "    min_samples_leaf = 1)\n",
    "\n",
    "# Training and Saving\n",
    "clf_rf.fit(ds.TPX_train_valid_scaled, ds.y_train_valid)\n",
    "joblib.dump(clf_rf,'./models/clf_rf.joblib')\n",
    "\n",
    "# Evaluation\n",
    "evaluate_model(ds, clf_rf, model_name = \"Random Forest REGRESSOR\")"
   ]
  },
  {
   "cell_type": "markdown",
   "id": "5cf37450",
   "metadata": {},
   "source": [
    "## XGBoost regressor\n",
    "\n",
    "Hyperparameters were tuned using Optuna (see notebook 4ter)."
   ]
  },
  {
   "cell_type": "code",
   "execution_count": 9,
   "id": "f81881f6",
   "metadata": {},
   "outputs": [
    {
     "name": "stdout",
     "output_type": "stream",
     "text": [
      "XGBoost REGRESSION\n",
      "Root Mean Square Errors: \n",
      " Train-Valid    0.20 \n",
      " Test     0.47 \n",
      " Test (our data) 0.37 \n",
      " Median Absolute Errors: \n",
      " Train-Valid    0.07 \n",
      " Test     0.15 \n",
      " Test (our data) 0.14 \n",
      " Coefficient of Determination: \n",
      " Train-Valid    0.998 \n",
      " Test     0.989 Test (our data) 0.994 \n",
      "\n"
     ]
    }
   ],
   "source": [
    "# Declaration\n",
    "xgb_params = {'n_estimators': 893, \n",
    "              'max_depth': 9, \n",
    "              'eta': 0.03186217323374842, \n",
    "              'subsample': 0.9079053385183469, \n",
    "              'colsample_bytree': 0.9473360174104577}\n",
    "clf_xgb = xgb.XGBRegressor(**xgb_params)\n",
    "\n",
    "# Training and Saving\n",
    "clf_xgb.fit(ds.TPX_train_valid_scaled, \n",
    "            ds.y_train_valid,\n",
    "            verbose=False)\n",
    "joblib.dump(clf_xgb,'./models/clf_xgb.joblib')\n",
    "\n",
    "# Evaluation\n",
    "evaluate_model(ds, clf_xgb, model_name = \"XGBoost REGRESSION\")"
   ]
  },
  {
   "cell_type": "code",
   "execution_count": 10,
   "id": "3053d6fe",
   "metadata": {},
   "outputs": [
    {
     "name": "stdout",
     "output_type": "stream",
     "text": [
      "Models saved with joblib version 1.4.2\n"
     ]
    }
   ],
   "source": [
    "print(\"Models saved with joblib version {}\".format(joblib.__version__))"
   ]
  },
  {
   "cell_type": "code",
   "execution_count": null,
   "id": "7545143d",
   "metadata": {},
   "outputs": [],
   "source": []
  }
 ],
 "metadata": {
  "accelerator": "GPU",
  "colab": {
   "gpuType": "T4",
   "provenance": []
  },
  "kernelspec": {
   "display_name": "gpvisc",
   "language": "python",
   "name": "python3"
  },
  "language_info": {
   "codemirror_mode": {
    "name": "ipython",
    "version": 3
   },
   "file_extension": ".py",
   "mimetype": "text/x-python",
   "name": "python",
   "nbconvert_exporter": "python",
   "pygments_lexer": "ipython3",
   "version": "3.11.9"
  }
 },
 "nbformat": 4,
 "nbformat_minor": 5
}
