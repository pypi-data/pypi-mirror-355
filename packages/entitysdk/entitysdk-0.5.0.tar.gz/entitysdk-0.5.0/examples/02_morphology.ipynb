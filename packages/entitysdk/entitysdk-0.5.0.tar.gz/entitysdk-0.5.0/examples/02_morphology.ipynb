{
 "cells": [
  {
   "cell_type": "code",
   "execution_count": 18,
   "id": "47471adc-9c79-4262-9fc4-66f5579f14a8",
   "metadata": {},
   "outputs": [],
   "source": [
    "import io\n",
    "import os\n",
    "import tempfile\n",
    "from pathlib import Path\n",
    "\n",
    "from rich import print as rprint\n",
    "\n",
    "from entitysdk.client import Client\n",
    "from entitysdk.common import ProjectContext\n",
    "from entitysdk.models import (\n",
    "    BrainLocation,\n",
    "    BrainRegion,\n",
    "    ReconstructionMorphology,\n",
    "    Species,\n",
    "    Strain,\n",
    ")"
   ]
  },
  {
   "cell_type": "markdown",
   "id": "cacdf95f-d545-417b-b1bd-c8a5181c162f",
   "metadata": {},
   "source": [
    "### Initialize the entitycore client"
   ]
  },
  {
   "cell_type": "code",
   "execution_count": 19,
   "id": "5e4f4ff2-3d5b-4f3a-90a9-ea43d587ebce",
   "metadata": {},
   "outputs": [],
   "source": [
    "entitycore_api_url = \"http://127.0.0.1:8000\"\n",
    "project_context = ProjectContext(\n",
    "    virtual_lab_id=\"a98b7abc-fc46-4700-9e3d-37137812c730\",\n",
    "    project_id=\"0dbced5f-cc3d-488a-8c7f-cfb8ea039dc6\",\n",
    ")\n",
    "token = os.getenv(\"ACCESS_TOKEN\", \"XXX\")\n",
    "client = Client(api_url=entitycore_api_url, project_context=project_context, token_manager=token)\n",
    "\n",
    "\n",
    "# uncomment for staging\n",
    "# from obi_auth import get_token\n",
    "# token = get_token(environment=\"staging\")\n",
    "# Replace this with your vlab project url in staging\n",
    "# project_context = ProjectContext.from_vlab_url(\"https://staging.openbraininstitute.org/app/virtual-lab/lab/594fd60d-7a38-436f-939d-500feaa13bba/project/ff89ca07-6613-4922-9ab0-2637221db8b5/home\")\n",
    "# client = Client(environment=\"staging\", project_context=project_context)"
   ]
  },
  {
   "cell_type": "markdown",
   "id": "15b1762d-11df-42be-bcff-5f42b03ab2cd",
   "metadata": {},
   "source": [
    "## Search for entities"
   ]
  },
  {
   "cell_type": "code",
   "execution_count": 20,
   "id": "93d30bc5-c40c-4a5d-ad9e-9b0c4abc3ef4",
   "metadata": {},
   "outputs": [],
   "source": [
    "species = client.search_entity(entity_type=Species, query={\"name\": \"Mus musculus\"}, limit=10).one()"
   ]
  },
  {
   "cell_type": "code",
   "execution_count": 21,
   "id": "2a697b1d-2bdc-488d-8ce6-5f7547af87fe",
   "metadata": {},
   "outputs": [
    {
     "data": {
      "text/html": [
       "<pre style=\"white-space:pre;overflow-x:auto;line-height:normal;font-family:Menlo,'DejaVu Sans Mono',consolas,'Courier New',monospace\"><span style=\"color: #800080; text-decoration-color: #800080; font-weight: bold\">Species</span><span style=\"font-weight: bold\">(</span>\n",
       "    <span style=\"color: #808000; text-decoration-color: #808000\">id</span>=<span style=\"color: #800080; text-decoration-color: #800080; font-weight: bold\">UUID</span><span style=\"font-weight: bold\">(</span><span style=\"color: #008000; text-decoration-color: #008000\">'fbb190bf-593a-4a89-bd81-fcb6e4c5c133'</span><span style=\"font-weight: bold\">)</span>,\n",
       "    <span style=\"color: #808000; text-decoration-color: #808000\">update_date</span>=<span style=\"color: #800080; text-decoration-color: #800080; font-weight: bold\">datetime</span><span style=\"color: #800080; text-decoration-color: #800080; font-weight: bold\">.datetime</span><span style=\"font-weight: bold\">(</span><span style=\"color: #008080; text-decoration-color: #008080; font-weight: bold\">2025</span>, <span style=\"color: #008080; text-decoration-color: #008080; font-weight: bold\">6</span>, <span style=\"color: #008080; text-decoration-color: #008080; font-weight: bold\">11</span>, <span style=\"color: #008080; text-decoration-color: #008080; font-weight: bold\">7</span>, <span style=\"color: #008080; text-decoration-color: #008080; font-weight: bold\">12</span>, <span style=\"color: #008080; text-decoration-color: #008080; font-weight: bold\">51</span>, <span style=\"color: #008080; text-decoration-color: #008080; font-weight: bold\">883561</span>, <span style=\"color: #808000; text-decoration-color: #808000\">tzinfo</span>=<span style=\"color: #800080; text-decoration-color: #800080; font-weight: bold\">TzInfo</span><span style=\"font-weight: bold\">(</span>UTC<span style=\"font-weight: bold\">))</span>,\n",
       "    <span style=\"color: #808000; text-decoration-color: #808000\">creation_date</span>=<span style=\"color: #800080; text-decoration-color: #800080; font-weight: bold\">datetime</span><span style=\"color: #800080; text-decoration-color: #800080; font-weight: bold\">.datetime</span><span style=\"font-weight: bold\">(</span><span style=\"color: #008080; text-decoration-color: #008080; font-weight: bold\">2025</span>, <span style=\"color: #008080; text-decoration-color: #008080; font-weight: bold\">6</span>, <span style=\"color: #008080; text-decoration-color: #008080; font-weight: bold\">11</span>, <span style=\"color: #008080; text-decoration-color: #008080; font-weight: bold\">7</span>, <span style=\"color: #008080; text-decoration-color: #008080; font-weight: bold\">12</span>, <span style=\"color: #008080; text-decoration-color: #008080; font-weight: bold\">51</span>, <span style=\"color: #008080; text-decoration-color: #008080; font-weight: bold\">883561</span>, <span style=\"color: #808000; text-decoration-color: #808000\">tzinfo</span>=<span style=\"color: #800080; text-decoration-color: #800080; font-weight: bold\">TzInfo</span><span style=\"font-weight: bold\">(</span>UTC<span style=\"font-weight: bold\">))</span>,\n",
       "    <span style=\"color: #808000; text-decoration-color: #808000\">name</span>=<span style=\"color: #008000; text-decoration-color: #008000\">'Mus musculus'</span>,\n",
       "    <span style=\"color: #808000; text-decoration-color: #808000\">taxonomy_id</span>=<span style=\"color: #008000; text-decoration-color: #008000\">'NCBITaxon:10090'</span>\n",
       "<span style=\"font-weight: bold\">)</span>\n",
       "</pre>\n"
      ],
      "text/plain": [
       "\u001b[1;35mSpecies\u001b[0m\u001b[1m(\u001b[0m\n",
       "    \u001b[33mid\u001b[0m=\u001b[1;35mUUID\u001b[0m\u001b[1m(\u001b[0m\u001b[32m'fbb190bf-593a-4a89-bd81-fcb6e4c5c133'\u001b[0m\u001b[1m)\u001b[0m,\n",
       "    \u001b[33mupdate_date\u001b[0m=\u001b[1;35mdatetime\u001b[0m\u001b[1;35m.datetime\u001b[0m\u001b[1m(\u001b[0m\u001b[1;36m2025\u001b[0m, \u001b[1;36m6\u001b[0m, \u001b[1;36m11\u001b[0m, \u001b[1;36m7\u001b[0m, \u001b[1;36m12\u001b[0m, \u001b[1;36m51\u001b[0m, \u001b[1;36m883561\u001b[0m, \u001b[33mtzinfo\u001b[0m=\u001b[1;35mTzInfo\u001b[0m\u001b[1m(\u001b[0mUTC\u001b[1m)\u001b[0m\u001b[1m)\u001b[0m,\n",
       "    \u001b[33mcreation_date\u001b[0m=\u001b[1;35mdatetime\u001b[0m\u001b[1;35m.datetime\u001b[0m\u001b[1m(\u001b[0m\u001b[1;36m2025\u001b[0m, \u001b[1;36m6\u001b[0m, \u001b[1;36m11\u001b[0m, \u001b[1;36m7\u001b[0m, \u001b[1;36m12\u001b[0m, \u001b[1;36m51\u001b[0m, \u001b[1;36m883561\u001b[0m, \u001b[33mtzinfo\u001b[0m=\u001b[1;35mTzInfo\u001b[0m\u001b[1m(\u001b[0mUTC\u001b[1m)\u001b[0m\u001b[1m)\u001b[0m,\n",
       "    \u001b[33mname\u001b[0m=\u001b[32m'Mus musculus'\u001b[0m,\n",
       "    \u001b[33mtaxonomy_id\u001b[0m=\u001b[32m'NCBITaxon:10090'\u001b[0m\n",
       "\u001b[1m)\u001b[0m\n"
      ]
     },
     "metadata": {},
     "output_type": "display_data"
    }
   ],
   "source": [
    "rprint(species)"
   ]
  },
  {
   "cell_type": "code",
   "execution_count": 22,
   "id": "0ea7fd15-bf51-4039-a1fd-c580ce813ff3",
   "metadata": {},
   "outputs": [
    {
     "ename": "IteratorResultError",
     "evalue": "Iterable is empty.",
     "output_type": "error",
     "traceback": [
      "\u001b[31m---------------------------------------------------------------------------\u001b[39m",
      "\u001b[31mIteratorResultError\u001b[39m                       Traceback (most recent call last)",
      "\u001b[36mCell\u001b[39m\u001b[36m \u001b[39m\u001b[32mIn[22]\u001b[39m\u001b[32m, line 1\u001b[39m\n\u001b[32m----> \u001b[39m\u001b[32m1\u001b[39m strain = \u001b[43mclient\u001b[49m\u001b[43m.\u001b[49m\u001b[43msearch_entity\u001b[49m\u001b[43m(\u001b[49m\u001b[43mentity_type\u001b[49m\u001b[43m=\u001b[49m\u001b[43mStrain\u001b[49m\u001b[43m,\u001b[49m\u001b[43m \u001b[49m\u001b[43mquery\u001b[49m\u001b[43m=\u001b[49m\u001b[43m{\u001b[49m\u001b[33;43m\"\u001b[39;49m\u001b[33;43mname\u001b[39;49m\u001b[33;43m\"\u001b[39;49m\u001b[43m:\u001b[49m\u001b[43m \u001b[49m\u001b[33;43m\"\u001b[39;49m\u001b[33;43mCux2-CreERT2\u001b[39;49m\u001b[33;43m\"\u001b[39;49m\u001b[43m}\u001b[49m\u001b[43m)\u001b[49m\u001b[43m.\u001b[49m\u001b[43mone\u001b[49m\u001b[43m(\u001b[49m\u001b[43m)\u001b[49m\n",
      "\u001b[36mFile \u001b[39m\u001b[32m~/Projects/entitysdk/src/entitysdk/result.py:33\u001b[39m, in \u001b[36mIteratorResult.one\u001b[39m\u001b[34m(self)\u001b[39m\n\u001b[32m     31\u001b[39m \u001b[38;5;250m\u001b[39m\u001b[33;03m\"\"\"Return exactly one item from the iterable or raise an error if not exactly one item.\"\"\"\u001b[39;00m\n\u001b[32m     32\u001b[39m \u001b[38;5;28;01mif\u001b[39;00m (first_item := \u001b[38;5;28mself\u001b[39m.first()) \u001b[38;5;129;01mis\u001b[39;00m \u001b[38;5;28;01mNone\u001b[39;00m:\n\u001b[32m---> \u001b[39m\u001b[32m33\u001b[39m     \u001b[38;5;28;01mraise\u001b[39;00m IteratorResultError(\u001b[33m\"\u001b[39m\u001b[33mIterable is empty.\u001b[39m\u001b[33m\"\u001b[39m)\n\u001b[32m     34\u001b[39m \u001b[38;5;28;01mif\u001b[39;00m \u001b[38;5;28mnext\u001b[39m(\u001b[38;5;28mself\u001b[39m, \u001b[38;5;28;01mNone\u001b[39;00m) \u001b[38;5;129;01mis\u001b[39;00m \u001b[38;5;28;01mNone\u001b[39;00m:\n\u001b[32m     35\u001b[39m     \u001b[38;5;28;01mreturn\u001b[39;00m first_item\n",
      "\u001b[31mIteratorResultError\u001b[39m: Iterable is empty."
     ]
    }
   ],
   "source": [
    "strain = client.search_entity(entity_type=Strain, query={\"name\": \"Cux2-CreERT2\"}).one()"
   ]
  },
  {
   "cell_type": "code",
   "execution_count": 23,
   "id": "e5dde536-0c58-4d42-a834-1b1a0ec17e9d",
   "metadata": {},
   "outputs": [
    {
     "ename": "NameError",
     "evalue": "name 'strain' is not defined",
     "output_type": "error",
     "traceback": [
      "\u001b[31m---------------------------------------------------------------------------\u001b[39m",
      "\u001b[31mNameError\u001b[39m                                 Traceback (most recent call last)",
      "\u001b[36mCell\u001b[39m\u001b[36m \u001b[39m\u001b[32mIn[23]\u001b[39m\u001b[32m, line 1\u001b[39m\n\u001b[32m----> \u001b[39m\u001b[32m1\u001b[39m rprint(\u001b[43mstrain\u001b[49m)\n",
      "\u001b[31mNameError\u001b[39m: name 'strain' is not defined"
     ]
    }
   ],
   "source": [
    "rprint(strain)"
   ]
  },
  {
   "cell_type": "code",
   "execution_count": 24,
   "id": "5d42a174-9737-4477-830a-3dc908dea925",
   "metadata": {},
   "outputs": [],
   "source": [
    "brain_region = client.search_entity(entity_type=BrainRegion, query={\"annotation_value\": 68}).one()"
   ]
  },
  {
   "cell_type": "code",
   "execution_count": 25,
   "id": "282200cd-ad0c-4bb3-bc21-88de85289179",
   "metadata": {},
   "outputs": [
    {
     "data": {
      "text/html": [
       "<pre style=\"white-space:pre;overflow-x:auto;line-height:normal;font-family:Menlo,'DejaVu Sans Mono',consolas,'Courier New',monospace\"><span style=\"color: #800080; text-decoration-color: #800080; font-weight: bold\">BrainRegion</span><span style=\"font-weight: bold\">(</span>\n",
       "    <span style=\"color: #808000; text-decoration-color: #808000\">id</span>=<span style=\"color: #800080; text-decoration-color: #800080; font-weight: bold\">UUID</span><span style=\"font-weight: bold\">(</span><span style=\"color: #008000; text-decoration-color: #008000\">'ef1772f4-100c-4e80-a132-3c2481b377bd'</span><span style=\"font-weight: bold\">)</span>,\n",
       "    <span style=\"color: #808000; text-decoration-color: #808000\">update_date</span>=<span style=\"color: #800080; text-decoration-color: #800080; font-weight: bold\">datetime</span><span style=\"color: #800080; text-decoration-color: #800080; font-weight: bold\">.datetime</span><span style=\"font-weight: bold\">(</span><span style=\"color: #008080; text-decoration-color: #008080; font-weight: bold\">2025</span>, <span style=\"color: #008080; text-decoration-color: #008080; font-weight: bold\">6</span>, <span style=\"color: #008080; text-decoration-color: #008080; font-weight: bold\">11</span>, <span style=\"color: #008080; text-decoration-color: #008080; font-weight: bold\">7</span>, <span style=\"color: #008080; text-decoration-color: #008080; font-weight: bold\">12</span>, <span style=\"color: #008080; text-decoration-color: #008080; font-weight: bold\">37</span>, <span style=\"color: #008080; text-decoration-color: #008080; font-weight: bold\">910887</span>, <span style=\"color: #808000; text-decoration-color: #808000\">tzinfo</span>=<span style=\"color: #800080; text-decoration-color: #800080; font-weight: bold\">TzInfo</span><span style=\"font-weight: bold\">(</span>UTC<span style=\"font-weight: bold\">))</span>,\n",
       "    <span style=\"color: #808000; text-decoration-color: #808000\">creation_date</span>=<span style=\"color: #800080; text-decoration-color: #800080; font-weight: bold\">datetime</span><span style=\"color: #800080; text-decoration-color: #800080; font-weight: bold\">.datetime</span><span style=\"font-weight: bold\">(</span><span style=\"color: #008080; text-decoration-color: #008080; font-weight: bold\">2025</span>, <span style=\"color: #008080; text-decoration-color: #008080; font-weight: bold\">6</span>, <span style=\"color: #008080; text-decoration-color: #008080; font-weight: bold\">11</span>, <span style=\"color: #008080; text-decoration-color: #008080; font-weight: bold\">7</span>, <span style=\"color: #008080; text-decoration-color: #008080; font-weight: bold\">12</span>, <span style=\"color: #008080; text-decoration-color: #008080; font-weight: bold\">37</span>, <span style=\"color: #008080; text-decoration-color: #008080; font-weight: bold\">910887</span>, <span style=\"color: #808000; text-decoration-color: #808000\">tzinfo</span>=<span style=\"color: #800080; text-decoration-color: #800080; font-weight: bold\">TzInfo</span><span style=\"font-weight: bold\">(</span>UTC<span style=\"font-weight: bold\">))</span>,\n",
       "    <span style=\"color: #808000; text-decoration-color: #808000\">name</span>=<span style=\"color: #008000; text-decoration-color: #008000\">'Frontal pole, layer 1'</span>,\n",
       "    <span style=\"color: #808000; text-decoration-color: #808000\">annotation_value</span>=<span style=\"color: #008080; text-decoration-color: #008080; font-weight: bold\">68</span>,\n",
       "    <span style=\"color: #808000; text-decoration-color: #808000\">acronym</span>=<span style=\"color: #008000; text-decoration-color: #008000\">'FRP1'</span>,\n",
       "    <span style=\"color: #808000; text-decoration-color: #808000\">parent_structure_id</span>=<span style=\"color: #800080; text-decoration-color: #800080; font-weight: bold\">UUID</span><span style=\"font-weight: bold\">(</span><span style=\"color: #008000; text-decoration-color: #008000\">'ec1ca538-d956-4c07-aa9b-e4ddf0b0bed8'</span><span style=\"font-weight: bold\">)</span>,\n",
       "    <span style=\"color: #808000; text-decoration-color: #808000\">hierarchy_id</span>=<span style=\"color: #800080; text-decoration-color: #800080; font-weight: bold\">UUID</span><span style=\"font-weight: bold\">(</span><span style=\"color: #008000; text-decoration-color: #008000\">'f728b4fa-4248-4e3a-8a5d-2f346baa9455'</span><span style=\"font-weight: bold\">)</span>,\n",
       "    <span style=\"color: #808000; text-decoration-color: #808000\">color_hex_triplet</span>=<span style=\"color: #008000; text-decoration-color: #008000\">'268F45'</span>\n",
       "<span style=\"font-weight: bold\">)</span>\n",
       "</pre>\n"
      ],
      "text/plain": [
       "\u001b[1;35mBrainRegion\u001b[0m\u001b[1m(\u001b[0m\n",
       "    \u001b[33mid\u001b[0m=\u001b[1;35mUUID\u001b[0m\u001b[1m(\u001b[0m\u001b[32m'ef1772f4-100c-4e80-a132-3c2481b377bd'\u001b[0m\u001b[1m)\u001b[0m,\n",
       "    \u001b[33mupdate_date\u001b[0m=\u001b[1;35mdatetime\u001b[0m\u001b[1;35m.datetime\u001b[0m\u001b[1m(\u001b[0m\u001b[1;36m2025\u001b[0m, \u001b[1;36m6\u001b[0m, \u001b[1;36m11\u001b[0m, \u001b[1;36m7\u001b[0m, \u001b[1;36m12\u001b[0m, \u001b[1;36m37\u001b[0m, \u001b[1;36m910887\u001b[0m, \u001b[33mtzinfo\u001b[0m=\u001b[1;35mTzInfo\u001b[0m\u001b[1m(\u001b[0mUTC\u001b[1m)\u001b[0m\u001b[1m)\u001b[0m,\n",
       "    \u001b[33mcreation_date\u001b[0m=\u001b[1;35mdatetime\u001b[0m\u001b[1;35m.datetime\u001b[0m\u001b[1m(\u001b[0m\u001b[1;36m2025\u001b[0m, \u001b[1;36m6\u001b[0m, \u001b[1;36m11\u001b[0m, \u001b[1;36m7\u001b[0m, \u001b[1;36m12\u001b[0m, \u001b[1;36m37\u001b[0m, \u001b[1;36m910887\u001b[0m, \u001b[33mtzinfo\u001b[0m=\u001b[1;35mTzInfo\u001b[0m\u001b[1m(\u001b[0mUTC\u001b[1m)\u001b[0m\u001b[1m)\u001b[0m,\n",
       "    \u001b[33mname\u001b[0m=\u001b[32m'Frontal pole, layer 1'\u001b[0m,\n",
       "    \u001b[33mannotation_value\u001b[0m=\u001b[1;36m68\u001b[0m,\n",
       "    \u001b[33macronym\u001b[0m=\u001b[32m'FRP1'\u001b[0m,\n",
       "    \u001b[33mparent_structure_id\u001b[0m=\u001b[1;35mUUID\u001b[0m\u001b[1m(\u001b[0m\u001b[32m'ec1ca538-d956-4c07-aa9b-e4ddf0b0bed8'\u001b[0m\u001b[1m)\u001b[0m,\n",
       "    \u001b[33mhierarchy_id\u001b[0m=\u001b[1;35mUUID\u001b[0m\u001b[1m(\u001b[0m\u001b[32m'f728b4fa-4248-4e3a-8a5d-2f346baa9455'\u001b[0m\u001b[1m)\u001b[0m,\n",
       "    \u001b[33mcolor_hex_triplet\u001b[0m=\u001b[32m'268F45'\u001b[0m\n",
       "\u001b[1m)\u001b[0m\n"
      ]
     },
     "metadata": {},
     "output_type": "display_data"
    }
   ],
   "source": [
    "rprint(brain_region)"
   ]
  },
  {
   "cell_type": "markdown",
   "id": "a0193055-3448-4d1c-99cc-4d953727ef4e",
   "metadata": {},
   "source": [
    "### Create a morphology object"
   ]
  },
  {
   "cell_type": "code",
   "execution_count": 26,
   "id": "fdc328df-2cef-4e23-b240-2de061f0e640",
   "metadata": {},
   "outputs": [
    {
     "ename": "NameError",
     "evalue": "name 'strain' is not defined",
     "output_type": "error",
     "traceback": [
      "\u001b[31m---------------------------------------------------------------------------\u001b[39m",
      "\u001b[31mNameError\u001b[39m                                 Traceback (most recent call last)",
      "\u001b[36mCell\u001b[39m\u001b[36m \u001b[39m\u001b[32mIn[26]\u001b[39m\u001b[32m, line 10\u001b[39m\n\u001b[32m      1\u001b[39m brain_location = BrainLocation(\n\u001b[32m      2\u001b[39m     x=\u001b[32m4101.52490234375\u001b[39m,\n\u001b[32m      3\u001b[39m     y=\u001b[32m1173.8499755859375\u001b[39m,\n\u001b[32m      4\u001b[39m     z=\u001b[32m4744.60009765625\u001b[39m,\n\u001b[32m      5\u001b[39m )\n\u001b[32m      6\u001b[39m morphology = ReconstructionMorphology(\n\u001b[32m      7\u001b[39m     name=\u001b[33m\"\u001b[39m\u001b[33mmy-morph\u001b[39m\u001b[33m\"\u001b[39m,\n\u001b[32m      8\u001b[39m     description=\u001b[33m\"\u001b[39m\u001b[33mA morphology\u001b[39m\u001b[33m\"\u001b[39m,\n\u001b[32m      9\u001b[39m     species=species,\n\u001b[32m---> \u001b[39m\u001b[32m10\u001b[39m     strain=\u001b[43mstrain\u001b[49m,\n\u001b[32m     11\u001b[39m     brain_region=brain_region,\n\u001b[32m     12\u001b[39m     location=brain_location,\n\u001b[32m     13\u001b[39m     legacy_id=\u001b[38;5;28;01mNone\u001b[39;00m,\n\u001b[32m     14\u001b[39m )\n",
      "\u001b[31mNameError\u001b[39m: name 'strain' is not defined"
     ]
    }
   ],
   "source": [
    "brain_location = BrainLocation(\n",
    "    x=4101.52490234375,\n",
    "    y=1173.8499755859375,\n",
    "    z=4744.60009765625,\n",
    ")\n",
    "morphology = ReconstructionMorphology(\n",
    "    name=\"my-morph\",\n",
    "    description=\"A morphology\",\n",
    "    species=species,\n",
    "    strain=strain,\n",
    "    brain_region=brain_region,\n",
    "    location=brain_location,\n",
    "    legacy_id=None,\n",
    ")"
   ]
  },
  {
   "cell_type": "code",
   "execution_count": 27,
   "id": "2568abc1-8b72-4f35-85d3-19f6935ea232",
   "metadata": {},
   "outputs": [
    {
     "ename": "NameError",
     "evalue": "name 'morphology' is not defined",
     "output_type": "error",
     "traceback": [
      "\u001b[31m---------------------------------------------------------------------------\u001b[39m",
      "\u001b[31mNameError\u001b[39m                                 Traceback (most recent call last)",
      "\u001b[36mCell\u001b[39m\u001b[36m \u001b[39m\u001b[32mIn[27]\u001b[39m\u001b[32m, line 1\u001b[39m\n\u001b[32m----> \u001b[39m\u001b[32m1\u001b[39m rprint(\u001b[43mmorphology\u001b[49m)\n",
      "\u001b[31mNameError\u001b[39m: name 'morphology' is not defined"
     ]
    }
   ],
   "source": [
    "rprint(morphology)"
   ]
  },
  {
   "cell_type": "markdown",
   "id": "83fb7e5e-73b5-4227-aa22-90bb789b0907",
   "metadata": {},
   "source": [
    "## Register morphology"
   ]
  },
  {
   "cell_type": "code",
   "execution_count": 28,
   "id": "2e32a168",
   "metadata": {},
   "outputs": [
    {
     "ename": "NameError",
     "evalue": "name 'morphology' is not defined",
     "output_type": "error",
     "traceback": [
      "\u001b[31m---------------------------------------------------------------------------\u001b[39m",
      "\u001b[31mNameError\u001b[39m                                 Traceback (most recent call last)",
      "\u001b[36mCell\u001b[39m\u001b[36m \u001b[39m\u001b[32mIn[28]\u001b[39m\u001b[32m, line 1\u001b[39m\n\u001b[32m----> \u001b[39m\u001b[32m1\u001b[39m registered = client.register_entity(entity=\u001b[43mmorphology\u001b[49m)\n",
      "\u001b[31mNameError\u001b[39m: name 'morphology' is not defined"
     ]
    }
   ],
   "source": [
    "registered = client.register_entity(entity=morphology)"
   ]
  },
  {
   "cell_type": "markdown",
   "id": "c0d500bd",
   "metadata": {},
   "source": [
    "## Upload assets"
   ]
  },
  {
   "cell_type": "code",
   "execution_count": 29,
   "id": "51d0c5b4-6251-4ee4-99ef-b6449a4d5da8",
   "metadata": {},
   "outputs": [
    {
     "ename": "NameError",
     "evalue": "name 'registered' is not defined",
     "output_type": "error",
     "traceback": [
      "\u001b[31m---------------------------------------------------------------------------\u001b[39m",
      "\u001b[31mNameError\u001b[39m                                 Traceback (most recent call last)",
      "\u001b[36mCell\u001b[39m\u001b[36m \u001b[39m\u001b[32mIn[29]\u001b[39m\u001b[32m, line 10\u001b[39m\n\u001b[32m      6\u001b[39m file2.write_text(\u001b[33m\"\u001b[39m\u001b[33mswc\u001b[39m\u001b[33m\"\u001b[39m)\n\u001b[32m      8\u001b[39m \u001b[38;5;66;03m# use a filepath to register first asset\u001b[39;00m\n\u001b[32m      9\u001b[39m asset1 = client.upload_file(\n\u001b[32m---> \u001b[39m\u001b[32m10\u001b[39m     entity_id=\u001b[43mregistered\u001b[49m.id,\n\u001b[32m     11\u001b[39m     entity_type=ReconstructionMorphology,\n\u001b[32m     12\u001b[39m     file_path=file1,\n\u001b[32m     13\u001b[39m     file_content_type=\u001b[33m\"\u001b[39m\u001b[33mapplication/h5\u001b[39m\u001b[33m\"\u001b[39m,\n\u001b[32m     14\u001b[39m )\n\u001b[32m     15\u001b[39m rprint(asset1)\n\u001b[32m     17\u001b[39m \u001b[38;5;66;03m# use an in-memory buffer to upload second asset\u001b[39;00m\n",
      "\u001b[31mNameError\u001b[39m: name 'registered' is not defined"
     ]
    }
   ],
   "source": [
    "with tempfile.TemporaryDirectory() as tdir:\n",
    "    file1 = Path(tdir, \"morph.h5\")\n",
    "    file1.write_text(\"h5\")\n",
    "\n",
    "    file2 = Path(tdir, \"morph.swc\")\n",
    "    file2.write_text(\"swc\")\n",
    "\n",
    "    # use a filepath to register first asset\n",
    "    asset1 = client.upload_file(\n",
    "        entity_id=registered.id,\n",
    "        entity_type=ReconstructionMorphology,\n",
    "        file_path=file1,\n",
    "        file_content_type=\"application/h5\",\n",
    "    )\n",
    "    rprint(asset1)\n",
    "\n",
    "    # use an in-memory buffer to upload second asset\n",
    "    buffer = io.BytesIO(b\"morph bytes buffer\")\n",
    "\n",
    "    asset2 = client.upload_content(\n",
    "        entity_id=registered.id,\n",
    "        entity_type=ReconstructionMorphology,\n",
    "        file_content=buffer,\n",
    "        file_name=\"buffer.h5\",\n",
    "        file_content_type=\"application/swc\",\n",
    "    )\n",
    "    rprint(asset2)"
   ]
  },
  {
   "cell_type": "markdown",
   "id": "1b5e396e-bf57-436d-9b06-ce198afc15ca",
   "metadata": {},
   "source": [
    "## Retrieve it"
   ]
  },
  {
   "cell_type": "code",
   "execution_count": 12,
   "id": "3a0f9360-a805-4ccf-ad7c-95f7237d0819",
   "metadata": {},
   "outputs": [
    {
     "ename": "NameError",
     "evalue": "name 'registered' is not defined",
     "output_type": "error",
     "traceback": [
      "\u001b[31m---------------------------------------------------------------------------\u001b[39m",
      "\u001b[31mNameError\u001b[39m                                 Traceback (most recent call last)",
      "\u001b[36mCell\u001b[39m\u001b[36m \u001b[39m\u001b[32mIn[12]\u001b[39m\u001b[32m, line 3\u001b[39m\n\u001b[32m      1\u001b[39m \u001b[38;5;66;03m# with assets included (default)\u001b[39;00m\n\u001b[32m      2\u001b[39m fetched = client.get_entity(\n\u001b[32m----> \u001b[39m\u001b[32m3\u001b[39m     entity_id=\u001b[43mregistered\u001b[49m.id, entity_type=ReconstructionMorphology\n\u001b[32m      4\u001b[39m )\n",
      "\u001b[31mNameError\u001b[39m: name 'registered' is not defined"
     ]
    }
   ],
   "source": [
    "# with assets included (default)\n",
    "fetched = client.get_entity(entity_id=registered.id, entity_type=ReconstructionMorphology)"
   ]
  },
  {
   "cell_type": "code",
   "execution_count": null,
   "id": "70271bac-cc92-49a1-9bdd-aa03bac92a73",
   "metadata": {},
   "outputs": [],
   "source": [
    "rprint(fetched)"
   ]
  },
  {
   "cell_type": "code",
   "execution_count": 15,
   "id": "c979f2e6-5c6c-426e-9828-9202f8c63508",
   "metadata": {},
   "outputs": [
    {
     "ename": "NameError",
     "evalue": "name 'registered' is not defined",
     "output_type": "error",
     "traceback": [
      "\u001b[31m---------------------------------------------------------------------------\u001b[39m",
      "\u001b[31mNameError\u001b[39m                                 Traceback (most recent call last)",
      "\u001b[36mCell\u001b[39m\u001b[36m \u001b[39m\u001b[32mIn[15]\u001b[39m\u001b[32m, line 3\u001b[39m\n\u001b[32m      1\u001b[39m \u001b[38;5;66;03m# without assets\u001b[39;00m\n\u001b[32m      2\u001b[39m fetched_wout_assets = client.get_entity(\n\u001b[32m----> \u001b[39m\u001b[32m3\u001b[39m     entity_id=\u001b[43mregistered\u001b[49m.id, entity_type=ReconstructionMorphology, with_assets=\u001b[38;5;28;01mFalse\u001b[39;00m\n\u001b[32m      4\u001b[39m )\n",
      "\u001b[31mNameError\u001b[39m: name 'registered' is not defined"
     ]
    }
   ],
   "source": [
    "# without assets\n",
    "fetched_wout_assets = client.get_entity(\n",
    "    entity_id=registered.id, entity_type=ReconstructionMorphology, with_assets=False\n",
    ")"
   ]
  },
  {
   "cell_type": "code",
   "execution_count": null,
   "id": "554ed8ef-2aa9-4880-86b3-c67f987cb448",
   "metadata": {},
   "outputs": [],
   "source": [
    "rprint(fetched_wout_assets)"
   ]
  },
  {
   "cell_type": "markdown",
   "id": "b00725dc-ba90-4ddf-b3ba-dea612cd7720",
   "metadata": {},
   "source": [
    "## Download asset"
   ]
  },
  {
   "cell_type": "code",
   "execution_count": null,
   "id": "c89e91f7-a9bb-4d09-b921-4659e338225c",
   "metadata": {},
   "outputs": [],
   "source": [
    "downloaded_asset = client.download_assets(\n",
    "    fetched.assets,\n",
    "    selection={\"content_type\": \"application/swc\"},\n",
    "    output_path=\"./my-file.h5\",\n",
    ").one()\n",
    "\n",
    "content = client.download_content(\n",
    "    entity_id=fetched.id, entity_type=type(fetched), asset_id=downloaded_asset.id\n",
    ")\n",
    "\n",
    "print(content)\n",
    "print(Path(\"my-file.h5\").read_text())"
   ]
  },
  {
   "cell_type": "markdown",
   "id": "6879c149-3f59-4ee6-b878-92bdc6038de9",
   "metadata": {},
   "source": [
    "## Delete asset"
   ]
  },
  {
   "cell_type": "code",
   "execution_count": 16,
   "id": "9a211674-54d2-498f-983a-ab3f3675087d",
   "metadata": {},
   "outputs": [
    {
     "ename": "NameError",
     "evalue": "name 'fetched' is not defined",
     "output_type": "error",
     "traceback": [
      "\u001b[31m---------------------------------------------------------------------------\u001b[39m",
      "\u001b[31mNameError\u001b[39m                                 Traceback (most recent call last)",
      "\u001b[36mCell\u001b[39m\u001b[36m \u001b[39m\u001b[32mIn[16]\u001b[39m\u001b[32m, line 1\u001b[39m\n\u001b[32m----> \u001b[39m\u001b[32m1\u001b[39m \u001b[38;5;28;01mfor\u001b[39;00m asset \u001b[38;5;129;01min\u001b[39;00m \u001b[43mfetched\u001b[49m.assets:\n\u001b[32m      2\u001b[39m     \u001b[38;5;28;01mif\u001b[39;00m asset.content_type == \u001b[33m\"\u001b[39m\u001b[33mapplication/swc\u001b[39m\u001b[33m\"\u001b[39m:\n\u001b[32m      3\u001b[39m         \u001b[38;5;28mprint\u001b[39m(\u001b[33m\"\u001b[39m\u001b[33mDeleting asset \u001b[39m\u001b[33m\"\u001b[39m, asset.id)\n",
      "\u001b[31mNameError\u001b[39m: name 'fetched' is not defined"
     ]
    }
   ],
   "source": [
    "for asset in fetched.assets:\n",
    "    if asset.content_type == \"application/swc\":\n",
    "        print(\"Deleting asset \", asset.id)\n",
    "        deleted_asset = client.delete_asset(\n",
    "            entity_id=fetched.id,\n",
    "            entity_type=type(registered),\n",
    "            asset_id=asset.id,\n",
    "        )\n",
    "        break\n",
    "\n",
    "rprint(deleted_asset)\n",
    "\n",
    "fetched = client.get_entity(\n",
    "    entity_id=registered.id, entity_type=ReconstructionMorphology, token=token\n",
    ")\n",
    "rprint(fetched.assets)"
   ]
  },
  {
   "cell_type": "markdown",
   "id": "34b39d9d-2b08-4933-b3cb-3f9a9c08004b",
   "metadata": {},
   "source": [
    "## Update asset"
   ]
  },
  {
   "cell_type": "code",
   "execution_count": 17,
   "id": "69d44c3c-b07c-46d2-978f-98b1b80b5212",
   "metadata": {},
   "outputs": [
    {
     "ename": "NameError",
     "evalue": "name 'fetched' is not defined",
     "output_type": "error",
     "traceback": [
      "\u001b[31m---------------------------------------------------------------------------\u001b[39m",
      "\u001b[31mNameError\u001b[39m                                 Traceback (most recent call last)",
      "\u001b[36mCell\u001b[39m\u001b[36m \u001b[39m\u001b[32mIn[17]\u001b[39m\u001b[32m, line 7\u001b[39m\n\u001b[32m      4\u001b[39m file1.write_text(\u001b[33m\"\u001b[39m\u001b[33mupdated h5\u001b[39m\u001b[33m\"\u001b[39m)\n\u001b[32m      5\u001b[39m file1.touch()\n\u001b[32m----> \u001b[39m\u001b[32m7\u001b[39m \u001b[38;5;28;01mfor\u001b[39;00m asset \u001b[38;5;129;01min\u001b[39;00m \u001b[43mfetched\u001b[49m.assets:\n\u001b[32m      8\u001b[39m     \u001b[38;5;28;01mif\u001b[39;00m asset.content_type == \u001b[33m\"\u001b[39m\u001b[33mapplication/h5\u001b[39m\u001b[33m\"\u001b[39m:\n\u001b[32m      9\u001b[39m         updated_asset = client.update_asset_file(\n\u001b[32m     10\u001b[39m             entity_id=fetched.id,\n\u001b[32m     11\u001b[39m             entity_type=\u001b[38;5;28mtype\u001b[39m(registered),\n\u001b[32m   (...)\u001b[39m\u001b[32m     15\u001b[39m             file_content_type=asset.content_type,\n\u001b[32m     16\u001b[39m         )\n",
      "\u001b[31mNameError\u001b[39m: name 'fetched' is not defined"
     ]
    }
   ],
   "source": [
    "# update h5 asset with another file\n",
    "with tempfile.TemporaryDirectory() as tdir:\n",
    "    file1 = Path(tdir, \"updated.h5\")\n",
    "    file1.write_text(\"updated h5\")\n",
    "    file1.touch()\n",
    "\n",
    "    for asset in fetched.assets:\n",
    "        if asset.content_type == \"application/h5\":\n",
    "            updated_asset = client.update_asset_file(\n",
    "                entity_id=fetched.id,\n",
    "                entity_type=type(registered),\n",
    "                asset_id=asset.id,\n",
    "                file_name=asset1.path,\n",
    "                file_path=file1,\n",
    "                file_content_type=asset.content_type,\n",
    "            )\n",
    "            break\n",
    "\n",
    "\n",
    "# synchronize morphology with new server data\n",
    "fetched = client.get_entity(\n",
    "    entity_id=registered.id, entity_type=ReconstructionMorphology, token=token\n",
    ")\n",
    "rprint(fetched.assets)\n",
    "\n",
    "\n",
    "# download updated file and check it was successfully updated\n",
    "for asset in fetched.assets:\n",
    "    if asset.content_type == \"application/h5\":\n",
    "        client.download_file(\n",
    "            entity_id=fetched.id,\n",
    "            entity_type=type(fetched),\n",
    "            asset_id=updated_asset.id,\n",
    "            output_path=\"./my-file.h5\",\n",
    "            token=token,\n",
    "        )\n",
    "        content = client.download_content(\n",
    "            entity_id=fetched.id, entity_type=type(fetched), asset_id=asset.id, token=token\n",
    "        )\n",
    "        break\n",
    "print(content)"
   ]
  },
  {
   "cell_type": "markdown",
   "id": "f15c808c-c454-4277-9ec4-587922ac74f3",
   "metadata": {},
   "source": [
    "## Search it"
   ]
  },
  {
   "cell_type": "code",
   "execution_count": null,
   "id": "956cc4d7-9ca8-4bb4-9911-648b4ca18a49",
   "metadata": {},
   "outputs": [],
   "source": [
    "hits = client.search_entity(\n",
    "    entity_type=ReconstructionMorphology,\n",
    "    query={\"name__ilike\": \"my-morph\", \"page\": 1, \"page_size\": 2},\n",
    "    limit=None,\n",
    ").all()\n",
    "\n",
    "print(\"Number of results: \", len(hits))"
   ]
  },
  {
   "cell_type": "code",
   "execution_count": null,
   "id": "4091c7a8-75b9-49d0-8c98-378b7fb5df6d",
   "metadata": {},
   "outputs": [],
   "source": [
    "rprint(hits[0])"
   ]
  }
 ],
 "metadata": {
  "kernelspec": {
   "display_name": "Python 3 (ipykernel)",
   "language": "python",
   "name": "python3"
  },
  "language_info": {
   "codemirror_mode": {
    "name": "ipython",
    "version": 3
   },
   "file_extension": ".py",
   "mimetype": "text/x-python",
   "name": "python",
   "nbconvert_exporter": "python",
   "pygments_lexer": "ipython3",
   "version": "3.12.10"
  }
 },
 "nbformat": 4,
 "nbformat_minor": 5
}
