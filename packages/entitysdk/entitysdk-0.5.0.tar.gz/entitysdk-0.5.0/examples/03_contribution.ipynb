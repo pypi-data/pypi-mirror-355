{
 "cells": [
  {
   "cell_type": "code",
   "execution_count": null,
   "id": "143211ec-83e7-46c2-84bd-ce61f77ba1d0",
   "metadata": {},
   "outputs": [],
   "source": [
    "import os\n",
    "\n",
    "from rich import print as rprint\n",
    "\n",
    "from entitysdk.client import Client\n",
    "from entitysdk.common import ProjectContext\n",
    "from entitysdk.models import Contribution, Organization, ReconstructionMorphology, Role\n",
    "\n",
    "entitycore_api_url = \"http://127.0.0.1:8000\"\n",
    "project_context = ProjectContext(\n",
    "    virtual_lab_id=\"a98b7abc-fc46-4700-9e3d-37137812c730\",\n",
    "    project_id=\"0dbced5f-cc3d-488a-8c7f-cfb8ea039dc6\",\n",
    ")\n",
    "token = os.getenv(\"ACCESS_TOKEN\", \"XXX\")\n",
    "client = Client(api_url=entitycore_api_url, project_context=project_context, token_manager=token)\n",
    "\n",
    "\n",
    "# uncomment for staging\n",
    "# from obi_auth import get_token\n",
    "# token = get_token(environment=\"staging\")\n",
    "# Replace this with your vlab project url in staging\n",
    "# project_context = ProjectContext.from_vlab_url(\"https://staging.openbraininstitute.org/app/virtual-lab/lab/594fd60d-7a38-436f-939d-500feaa13bba/project/ff89ca07-6613-4922-9ab0-2637221db8b5/home\")\n",
    "# client = Client(environment=\"staging\", project_context=project_context)"
   ]
  },
  {
   "cell_type": "markdown",
   "id": "bebd0bea-8d87-4fe5-adcb-b897198aaba6",
   "metadata": {},
   "source": [
    "## Create a Contribution object"
   ]
  },
  {
   "cell_type": "code",
   "execution_count": null,
   "id": "fd9e9356-0570-41f0-adc3-7ca859d1437b",
   "metadata": {},
   "outputs": [],
   "source": [
    "agent = client.search_entity(entity_type=Organization, limit=1).one()"
   ]
  },
  {
   "cell_type": "code",
   "execution_count": null,
   "id": "2ef91588-bc83-493e-b90c-2298f814f15e",
   "metadata": {},
   "outputs": [],
   "source": [
    "rprint(agent)"
   ]
  },
  {
   "cell_type": "code",
   "execution_count": null,
   "id": "0458e9bc-481b-4129-a206-60c546307411",
   "metadata": {},
   "outputs": [],
   "source": [
    "role = client.search_entity(entity_type=Role, limit=1).one()"
   ]
  },
  {
   "cell_type": "code",
   "execution_count": null,
   "id": "0d493ec1-044f-46a0-8310-5e6f00347836",
   "metadata": {},
   "outputs": [],
   "source": [
    "rprint(role)"
   ]
  },
  {
   "cell_type": "code",
   "execution_count": null,
   "id": "fa2c555c-22d5-41aa-8bf3-86fd87921dc1",
   "metadata": {},
   "outputs": [],
   "source": [
    "morphology = client.search_entity(\n",
    "    entity_type=ReconstructionMorphology, limit=1, query={\"name__ilike\": \"my-morph\"}\n",
    ").first()"
   ]
  },
  {
   "cell_type": "code",
   "execution_count": null,
   "id": "efcfdee2-7679-4ae9-90d6-7e70637459ea",
   "metadata": {},
   "outputs": [],
   "source": [
    "rprint(morphology)"
   ]
  },
  {
   "cell_type": "code",
   "execution_count": null,
   "id": "d3daa96f-4acc-46ef-83b4-375d42ab611c",
   "metadata": {},
   "outputs": [],
   "source": [
    "contribution = Contribution(\n",
    "    agent=agent,\n",
    "    role=role,\n",
    "    entity=morphology,\n",
    ")"
   ]
  },
  {
   "cell_type": "code",
   "execution_count": null,
   "id": "653628d2-5ad9-44fb-be9c-8c7488d664ba",
   "metadata": {},
   "outputs": [],
   "source": [
    "rprint(contribution)"
   ]
  },
  {
   "cell_type": "markdown",
   "id": "7ba44524-7710-4643-8a13-ca9575c179e7",
   "metadata": {},
   "source": [
    "## Register it"
   ]
  },
  {
   "cell_type": "code",
   "execution_count": null,
   "id": "24076fd8-879b-49a7-af65-f0836b6703c2",
   "metadata": {},
   "outputs": [],
   "source": [
    "# Note: It will fail if registered twice\n",
    "# because there is a uniqueness constraint on (agent, morphology_id)\n",
    "registered = client.register_entity(entity=contribution)"
   ]
  },
  {
   "cell_type": "code",
   "execution_count": null,
   "id": "20859296-1d8c-43a1-ab31-8ad9284ec8eb",
   "metadata": {},
   "outputs": [],
   "source": [
    "rprint(registered)"
   ]
  },
  {
   "cell_type": "markdown",
   "id": "3c7ad61f-c2cf-467a-9624-211b0f06efbc",
   "metadata": {},
   "source": [
    "## Retrieve it"
   ]
  },
  {
   "cell_type": "code",
   "execution_count": null,
   "id": "5d904513-4534-450e-8b97-3a0f185f7f6c",
   "metadata": {},
   "outputs": [],
   "source": [
    "retrieved = client.get_entity(entity_type=Contribution, entity_id=registered.id)"
   ]
  },
  {
   "cell_type": "code",
   "execution_count": null,
   "id": "891df12c-a76a-42f4-b0e4-bbfae0ab6d72",
   "metadata": {},
   "outputs": [],
   "source": [
    "rprint(retrieved)"
   ]
  }
 ],
 "metadata": {
  "kernelspec": {
   "display_name": "Python 3 (ipykernel)",
   "language": "python",
   "name": "python3"
  },
  "language_info": {
   "codemirror_mode": {
    "name": "ipython",
    "version": 3
   },
   "file_extension": ".py",
   "mimetype": "text/x-python",
   "name": "python",
   "nbconvert_exporter": "python",
   "pygments_lexer": "ipython3",
   "version": "3.12.10"
  }
 },
 "nbformat": 4,
 "nbformat_minor": 5
}
