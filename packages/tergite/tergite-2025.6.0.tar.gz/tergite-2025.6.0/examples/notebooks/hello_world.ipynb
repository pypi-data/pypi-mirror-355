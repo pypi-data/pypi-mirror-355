{
 "cells": [
  {
   "cell_type": "markdown",
   "id": "f3fa3032",
   "metadata": {},
   "source": [
    "# Hello Tergite\n",
    "\n",
    "This is a showcase of connecting to tergite via the `tergite` and running a basic circuit."
   ]
  },
  {
   "cell_type": "markdown",
   "id": "d0b5489d",
   "metadata": {},
   "source": [
    "## Install dependencies\n",
    "\n",
    "This example depends on:\n",
    "\n",
    "- [qiskit](https://github.com/Qiskit/qiskit)\n",
    "- [tergite](https://test.pypi.org/project/tergite/)"
   ]
  },
  {
   "cell_type": "code",
   "execution_count": null,
   "id": "44c5ae30",
   "metadata": {},
   "outputs": [],
   "source": [
    "%pip install qiskit\n",
    "%pip install tergite"
   ]
  },
  {
   "cell_type": "markdown",
   "id": "f2d0a2e6",
   "metadata": {},
   "source": [
    "## Import the basic dependencies"
   ]
  },
  {
   "cell_type": "code",
   "execution_count": null,
   "id": "ea5ee959",
   "metadata": {},
   "outputs": [],
   "source": [
    "import time\n",
    "import qiskit.circuit as circuit\n",
    "import qiskit.compiler as compiler\n",
    "from tergite import Tergite, AccountInfo"
   ]
  },
  {
   "cell_type": "markdown",
   "id": "ed5a36b6",
   "metadata": {},
   "source": [
    "## Update Some Variables"
   ]
  },
  {
   "cell_type": "code",
   "execution_count": 2,
   "id": "83870a1c",
   "metadata": {},
   "outputs": [],
   "source": [
    "# the Tergite API URL e.g. \"https://api.tergite.example\"\n",
    "API_URL = \"https://api.qal9000.se\"\n",
    "# API token for connecting to tergite\n",
    "API_TOKEN = \"API-TOKEN\"\n",
    "# The name of the Quantum Computer to use from the available quantum computers\n",
    "BACKEND_NAME = \"qiskit_pulse_2q\"\n",
    "# the name of this service. For your own bookkeeping.\n",
    "SERVICE_NAME = \"local\"\n",
    "# the timeout in seconds for how long to keep checking for results\n",
    "POLL_TIMEOUT = 100"
   ]
  },
  {
   "cell_type": "markdown",
   "id": "dc816ef5",
   "metadata": {},
   "source": [
    "## Create the Qiskit Circuit"
   ]
  },
  {
   "cell_type": "code",
   "execution_count": null,
   "id": "59229850",
   "metadata": {},
   "outputs": [],
   "source": [
    "qc = circuit.QuantumCircuit(1)\n",
    "qc.x(0)\n",
    "qc.h(0)\n",
    "qc.measure_all()\n",
    "qc.draw()"
   ]
  },
  {
   "cell_type": "markdown",
   "id": "da47dc94",
   "metadata": {},
   "source": [
    "## Get the Tergite Backend"
   ]
  },
  {
   "cell_type": "code",
   "execution_count": null,
   "id": "e777662e",
   "metadata": {},
   "outputs": [],
   "source": [
    "# provider account creation can be skipped in case you already saved\n",
    "# your provider account to the `~/.qiskit/tergiterc` file.\n",
    "# See below how that is done.\n",
    "\n",
    "provider = Tergite.use_provider_account(\n",
    "    service_name=SERVICE_NAME, url=API_URL, token=API_TOKEN\n",
    ")\n",
    "# to save this account to the `~/.qiskit/tergiterc` file, add the `save=True`\n",
    "# provider = Tergite.use_provider_account(service_name=SERVICE_NAME, url=API_URL, token=API_TOKEN, save=True)\n",
    "\n",
    "# Get the tergite backend in case you skipped provider account creation\n",
    "# provider = Tergite.get_provider(service_name=SERVICE_NAME)\n",
    "backend = provider.get_backend(BACKEND_NAME)\n",
    "backend.set_options(shots=1024)\n",
    "backend"
   ]
  },
  {
   "cell_type": "markdown",
   "id": "f95f1663",
   "metadata": {},
   "source": [
    "## Compile Circuit"
   ]
  },
  {
   "cell_type": "code",
   "execution_count": null,
   "id": "0c70eb23",
   "metadata": {},
   "outputs": [],
   "source": [
    "tc = compiler.transpile(qc, backend=backend)\n",
    "tc.draw()"
   ]
  },
  {
   "cell_type": "markdown",
   "id": "49681434",
   "metadata": {},
   "source": [
    "## Run the Circuit"
   ]
  },
  {
   "cell_type": "code",
   "execution_count": null,
   "id": "03c6871b",
   "metadata": {},
   "outputs": [],
   "source": [
    "job = backend.run(tc, meas_level=2, meas_return=\"single\")"
   ]
  },
  {
   "cell_type": "markdown",
   "id": "411c4af4",
   "metadata": {},
   "source": [
    "## See the Results"
   ]
  },
  {
   "cell_type": "code",
   "execution_count": null,
   "id": "5fa591f2",
   "metadata": {},
   "outputs": [],
   "source": [
    "job.wait_for_final_state(timeout=POLL_TIMEOUT)\n",
    "result = job.result()\n",
    "result.get_counts()"
   ]
  }
 ],
 "metadata": {
  "kernelspec": {
   "display_name": ".venv",
   "language": "python",
   "name": "python3"
  },
  "language_info": {
   "codemirror_mode": {
    "name": "ipython",
    "version": 3
   },
   "file_extension": ".py",
   "mimetype": "text/x-python",
   "name": "python",
   "nbconvert_exporter": "python",
   "pygments_lexer": "ipython3",
   "version": "3.9.6"
  }
 },
 "nbformat": 4,
 "nbformat_minor": 5
}
