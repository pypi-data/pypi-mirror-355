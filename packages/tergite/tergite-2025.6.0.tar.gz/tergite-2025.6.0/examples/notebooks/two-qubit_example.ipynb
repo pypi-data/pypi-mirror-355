{
 "cells": [
  {
   "cell_type": "markdown",
   "id": "f3fa3032",
   "metadata": {},
   "source": [
    "# Running a circuit through Tergite\n",
    "\n",
    "This is a showcase of connecting to tergite via the `tergite`, running a basic two-qubit circuit, and retrieving the measurement results."
   ]
  },
  {
   "cell_type": "markdown",
   "id": "d0b5489d",
   "metadata": {},
   "source": [
    "## Install dependencies\n",
    "\n",
    "This example depends on:\n",
    "\n",
    "- [qiskit](https://github.com/Qiskit/qiskit)\n",
    "- [tergite](https://test.pypi.org/project/tergite/)\n",
    "\n",
    "To install these dependencies, run the follwing commands in your terminal\n",
    "```\n",
    "$ pip install qiskit\n",
    "$ pip install -i tergite\n",
    "```"
   ]
  },
  {
   "cell_type": "markdown",
   "id": "f2d0a2e6",
   "metadata": {},
   "source": [
    "## Import the basic dependencies"
   ]
  },
  {
   "cell_type": "code",
   "execution_count": null,
   "id": "ea5ee959",
   "metadata": {},
   "outputs": [],
   "source": [
    "import qiskit.circuit as circuit\n",
    "import qiskit.compiler as compiler\n",
    "from tergite import Tergite"
   ]
  },
  {
   "cell_type": "markdown",
   "id": "ed5a36b6",
   "metadata": {},
   "source": [
    "## Configure Session\n",
    "Before we get any further, we will take the time to define some of the parameters we will use for our tergite job."
   ]
  },
  {
   "cell_type": "code",
   "execution_count": null,
   "id": "83870a1c",
   "metadata": {},
   "outputs": [],
   "source": [
    "# the Tergite API URL e.g. \"https://api.tergite.example\"\n",
    "API_URL = \"https://api.qal9000.se\"\n",
    "# API token for connecting to tergite\n",
    "API_TOKEN = \"API-TOKEN\"\n",
    "# The name of the Quantum Computer to use from the available quantum computers\n",
    "BACKEND_NAME = \"qiskit_pulse_2q\"\n",
    "# the name of this service. For your own bookkeeping.\n",
    "SERVICE_NAME = \"local\"\n",
    "# the timeout in seconds for how long to keep checking for results\n",
    "POLL_TIMEOUT = 300"
   ]
  },
  {
   "cell_type": "markdown",
   "id": "da47dc94",
   "metadata": {},
   "source": [
    "## Get the Tergite Backend\n",
    "The backend object can now be obtained. A detailed list of the backend properties — such as the available gate set, coupling map and number of qubits — is availablde by printing the backend object. "
   ]
  },
  {
   "cell_type": "code",
   "execution_count": null,
   "id": "e777662e",
   "metadata": {},
   "outputs": [],
   "source": [
    "# provider account creation can be skipped in case you already saved\n",
    "# your provider account to the `~/.qiskit/tergiterc` file.\n",
    "# See below how that is done.\n",
    "provider = Tergite.use_provider_account(\n",
    "    service_name=SERVICE_NAME, url=API_URL, token=API_TOKEN\n",
    ")\n",
    "# to save this account to the `~/.qiskit/tergiterc` file, add the `save=True`\n",
    "# provider = Tergite.use_provider_account(service_name=SERVICE_NAME, url=API_URL, token=API_TOKEN, save=True)\n",
    "\n",
    "# Get the tergite backend in case you skipped provider account creation\n",
    "# provider = Tergite.get_provider(service_name=SERVICE_NAME)\n",
    "backend = provider.get_backend(BACKEND_NAME)\n",
    "backend.set_options(shots=1024)\n",
    "print(backend)"
   ]
  },
  {
   "cell_type": "markdown",
   "id": "dc816ef5",
   "metadata": {},
   "source": [
    "## Create the Qiskit Circuit\n",
    "To test our connection, we will implement a short test circuit. The circuit we will run produces the Bell state $|\\Psi\\rangle = |00\\rangle + |11\\rangle.$ "
   ]
  },
  {
   "cell_type": "code",
   "execution_count": null,
   "id": "ab8128f5-a6d4-4c87-8fee-354d49ca7a9c",
   "metadata": {},
   "outputs": [],
   "source": [
    "qc = circuit.QuantumCircuit(2)\n",
    "qc.h(0)\n",
    "qc.cx(0, 1)"
   ]
  },
  {
   "cell_type": "markdown",
   "id": "289510da-ae56-4962-97eb-652334937f11",
   "metadata": {},
   "source": [
    "We can visualize and verify our circuit with Qiskit's built in `draw()` method. The output format of `qc.draw()` can be changed, see https://docs.quantum.ibm.com/build/circuit-visualization. Note the two added measurements and corresponding classical bit registers `meas_0` and `meas_1`."
   ]
  },
  {
   "cell_type": "code",
   "execution_count": null,
   "id": "1de741f8-c645-420e-aea8-30769abf11af",
   "metadata": {},
   "outputs": [],
   "source": [
    "qc.draw()"
   ]
  },
  {
   "cell_type": "markdown",
   "id": "2cf466d0-6b99-4224-a9eb-c9965fece42b",
   "metadata": {},
   "source": [
    "To measure the prepared Bell state we add explicit measurements to all qubits using `qc.measure_all()`. This will perform a meaurement in the so-called computational basis, $\\langle q_n|Z|q_n\\rangle$, mapping the eigenvalues $\\{-1,1\\}$ to the classical binary values $\\{0,1\\}$. Drawing the final circuit shows the additional measurement operations and the classical bit register `meas_0` and `meas_1`."
   ]
  },
  {
   "cell_type": "code",
   "execution_count": null,
   "id": "9a5fb284-fec6-4ef3-9719-92a3493217a5",
   "metadata": {},
   "outputs": [],
   "source": [
    "qc.measure_all()\n",
    "qc.draw()"
   ]
  },
  {
   "cell_type": "markdown",
   "id": "f95f1663",
   "metadata": {},
   "source": [
    "## Compile Circuit\n",
    "In order to execute the circuit on physical hardware, the circuit needs to be compiled (or transpiled) to the target architecture. At the least, transpilation accounts for the QPU's native gate set and the qubit connectivity on the QPU. Many transpilers also offer some level of optimization, reducing the circuit size."
   ]
  },
  {
   "cell_type": "code",
   "execution_count": null,
   "id": "0c70eb23",
   "metadata": {},
   "outputs": [],
   "source": [
    "tc = compiler.transpile(qc, backend=backend)\n",
    "tc.draw()"
   ]
  },
  {
   "cell_type": "markdown",
   "id": "49681434",
   "metadata": {},
   "source": [
    "## Run the Circuit\n",
    "Once the cicruit has been compiled to the native gate set and connectivity, we use it to submit a job to the backend. "
   ]
  },
  {
   "cell_type": "code",
   "execution_count": null,
   "id": "03c6871b",
   "metadata": {},
   "outputs": [],
   "source": [
    "job = backend.run(tc, meas_level=2, meas_return=\"single\")"
   ]
  },
  {
   "cell_type": "markdown",
   "id": "411c4af4",
   "metadata": {},
   "source": [
    "## See the Results\n",
    "When the job has been submitted, we will need to wait potential queue time and time required to execute the job."
   ]
  },
  {
   "cell_type": "code",
   "execution_count": null,
   "id": "5fa591f2",
   "metadata": {},
   "outputs": [],
   "source": [
    "job.wait_for_final_state(timeout=POLL_TIMEOUT)\n",
    "result = job.result()\n",
    "result.get_counts()"
   ]
  }
 ],
 "metadata": {
  "kernelspec": {
   "display_name": "tergite-qiskit-connector",
   "language": "python",
   "name": "tergite-qiskit-connector"
  },
  "language_info": {
   "codemirror_mode": {
    "name": "ipython",
    "version": 3
   },
   "file_extension": ".py",
   "mimetype": "text/x-python",
   "name": "python",
   "nbconvert_exporter": "python",
   "pygments_lexer": "ipython3",
   "version": "3.9.19"
  }
 },
 "nbformat": 4,
 "nbformat_minor": 5
}
