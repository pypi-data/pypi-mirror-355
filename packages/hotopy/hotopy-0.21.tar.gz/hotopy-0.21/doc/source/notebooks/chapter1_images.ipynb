{
 "cells": [
  {
   "cell_type": "markdown",
   "source": [
    "# Images\n",
    "## Loading .raw stacks\n",
    "This is a gallery, that shows how to display images  \n",
    "\n",
    "### load all"
   ],
   "metadata": {}
  },
  {
   "cell_type": "code",
   "execution_count": 1,
   "source": [
    "from pathlib import Path\n",
    "\n",
    "import hotopy as htp\n",
    "import matplotlib.pyplot as plt\n",
    "import numpy as np\n",
    "from hotopy.io import read_matlab_raw\n",
    "plt.rcParams['image.cmap']='gray'"
   ],
   "outputs": [],
   "metadata": {}
  }
 ],
 "metadata": {
  "kernelspec": {
   "name": "python3",
   "display_name": "Python 3.7.9 64-bit ('venv': venv)"
  },
  "language_info": {
   "codemirror_mode": {
    "name": "ipython",
    "version": 3
   },
   "file_extension": ".py",
   "mimetype": "text/x-python",
   "name": "python",
   "nbconvert_exporter": "python",
   "pygments_lexer": "ipython3",
   "version": "3.7.9"
  },
  "interpreter": {
   "hash": "2edee611a4fbd8dd65cac5c76e400dab6634568b9d4c8e724c7498a340565e6b"
  }
 },
 "nbformat": 4,
 "nbformat_minor": 5
}