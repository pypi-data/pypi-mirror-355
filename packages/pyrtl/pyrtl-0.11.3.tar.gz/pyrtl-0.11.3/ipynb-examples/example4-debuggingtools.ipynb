{
 "cells": [
  {
   "cell_type": "markdown",
   "metadata": {},
   "source": [
    "# Example 4: Debugging"
   ]
  },
  {
   "cell_type": "markdown",
   "metadata": {},
   "source": [
    "Debugging is half the coding process in software, and in PyRTL, it's no\n",
    "different. PyRTL provides some additional challenges when it comes to\n",
    "debugging as a problem may surface long after the error was made. Fortunately,\n",
    "PyRTL comes with various features to help you find mistakes."
   ]
  },
  {
   "cell_type": "code",
   "execution_count": null,
   "metadata": {
    "collapsed": true
   },
   "outputs": [],
   "source": [
    "import random\n",
    "import io\n",
    "from pyrtl.rtllib import adders, multipliers\n",
    "import pyrtl\n",
    "pyrtl.reset_working_block()"
   ]
  },
  {
   "cell_type": "code",
   "execution_count": null,
   "metadata": {
    "collapsed": true
   },
   "outputs": [],
   "source": [
    "random.seed(93729473)  # used to make random calls deterministic for this example"
   ]
  },
  {
   "cell_type": "markdown",
   "metadata": {},
   "source": [
    "This example covers **debugging strategies** for PyRTL.  For general python debugging\n",
    "we recommend healthy use of the \"assert\" statement, and use of \"pdb\" for\n",
    "tracking down bugs.  However, PyRTL introduces some new complexities because\n",
    "the place **where  functionality is defined (when you construct and operate\n",
    "on PyRTL classes) is separate in time from where that functionality is executed\n",
    "(i.e. during simulation)**.  Thus, sometimes it hard to track down where a wire\n",
    "might have come from, or what exactly it is doing."
   ]
  },
  {
   "cell_type": "markdown",
   "metadata": {},
   "source": [
    "In this example specifically, we will be building a **circuit that adds up three values**.\n",
    "However, instead of building an add function ourselves or using the\n",
    "built-in \"+\" function in PyRTL, we will instead use the **Kogge-Stone adders\n",
    "in RtlLib**, the standard library for PyRTL."
   ]
  },
  {
   "cell_type": "code",
   "execution_count": null,
   "metadata": {
    "collapsed": true
   },
   "outputs": [],
   "source": [
    "# building three inputs\n",
    "in1, in2, in3 = (pyrtl.Input(8, \"in\" + str(x)) for x in range(1, 4))\n",
    "out = pyrtl.Output(10, \"out\")"
   ]
  },
  {
   "cell_type": "code",
   "execution_count": null,
   "metadata": {
    "collapsed": true
   },
   "outputs": [],
   "source": [
    "add1_out = adders.kogge_stone(in1, in2)\n",
    "add2_out = adders.kogge_stone(add1_out, in2)\n",
    "out <<= add2_out"
   ]
  },
  {
   "cell_type": "markdown",
   "metadata": {},
   "source": [
    "The most basic way of debugging PyRTL is to **connect a value to an output wire**\n",
    "and use the **simulation to trace the output**. A simple \"print\" statement doesn't work\n",
    "because the values in the wires are not populated during *creation* time\n",
    "\n",
    "If we want to check the result of the first addition, we can connect an output wire\n",
    "to the result wire of the first adder"
   ]
  },
  {
   "cell_type": "code",
   "execution_count": null,
   "metadata": {
    "collapsed": true
   },
   "outputs": [],
   "source": [
    "debug_out = pyrtl.Output(9, \"debug_out\")\n",
    "debug_out <<= add1_out"
   ]
  },
  {
   "cell_type": "markdown",
   "metadata": {},
   "source": [
    "Now **simulate the circuit.** Let's create some random inputs to feed our adder."
   ]
  },
  {
   "cell_type": "code",
   "execution_count": null,
   "metadata": {
    "collapsed": true
   },
   "outputs": [],
   "source": [
    "vals1 = [int(2**random.uniform(1, 8) - 2) for _ in range(20)]\n",
    "vals2 = [int(2**random.uniform(1, 8) - 2) for _ in range(20)]\n",
    "vals3 = [int(2**random.uniform(1, 8) - 2) for _ in range(20)]"
   ]
  },
  {
   "cell_type": "code",
   "execution_count": null,
   "metadata": {
    "collapsed": true
   },
   "outputs": [],
   "source": [
    "sim_trace = pyrtl.SimulationTrace()\n",
    "sim = pyrtl.Simulation(tracer=sim_trace)\n",
    "for cycle in range(len(vals1)):\n",
    "    sim.step({\n",
    "        'in1': vals1[cycle],\n",
    "        'in2': vals2[cycle],\n",
    "        'in3': vals3[cycle]})"
   ]
  },
  {
   "cell_type": "markdown",
   "metadata": {},
   "source": [
    "In order to get the result data, you do not need to print a waveform of the trace\n",
    "You always have the option to just **pull the data out of the tracer directly**"
   ]
  },
  {
   "cell_type": "code",
   "execution_count": null,
   "metadata": {
    "collapsed": true
   },
   "outputs": [],
   "source": [
    "print(\"---- Inputs and debug_out ----\")\n",
    "print(\"in1:       \", str(sim_trace.trace['in1']))\n",
    "print(\"in2:       \", str(sim_trace.trace['in2']))\n",
    "print(\"debug_out: \", str(sim_trace.trace['debug_out']))\n",
    "print('\\n')"
   ]
  },
  {
   "cell_type": "markdown",
   "metadata": {},
   "source": [
    "Below, I am using the ability to directly retrieve the trace data to\n",
    "**verify the correctness of the first adder**"
   ]
  },
  {
   "cell_type": "code",
   "execution_count": null,
   "metadata": {
    "collapsed": true
   },
   "outputs": [],
   "source": [
    "for i in range(len(vals1)):\n",
    "    assert(sim_trace.trace['debug_out'][i] == sim_trace.trace['in1'][i] + sim_trace.trace['in2'][i])"
   ]
  },
  {
   "cell_type": "markdown",
   "metadata": {},
   "source": [
    "## Probe"
   ]
  },
  {
   "cell_type": "markdown",
   "metadata": {},
   "source": [
    "Now that we have built some stuff, let's clear it so we can try again in a\n",
    "different way.  We can start by clearing all of the hardware from the current working\n",
    "block.  The **working block is a global structure that keeps track of all the\n",
    "hardware you have built thus far**.  A \"reset\" will **clear it so we can start fresh**."
   ]
  },
  {
   "cell_type": "code",
   "execution_count": null,
   "metadata": {
    "collapsed": true
   },
   "outputs": [],
   "source": [
    "pyrtl.reset_working_block()"
   ]
  },
  {
   "cell_type": "markdown",
   "metadata": {},
   "source": [
    "In this example, we will be **multiplying two numbers** using *tree_multiplier()*\n",
    "Again, create the two inputs and an output"
   ]
  },
  {
   "cell_type": "code",
   "execution_count": null,
   "metadata": {
    "collapsed": true
   },
   "outputs": [],
   "source": [
    "print(\"---- Using Probes ----\")\n",
    "in1, in2 = (pyrtl.Input(8, \"in\" + str(x)) for x in range(1, 3))\n",
    "out1, out2 = (pyrtl.Output(8, \"out\" + str(x)) for x in range(1, 3))\n",
    "\n",
    "multout = multipliers.tree_multiplier(in1, in2)\n",
    "\n",
    "#The following line will create a probe named \"std_probe for later use, like an output.\n",
    "pyrtl.probe(multout, 'std_probe')"
   ]
  },
  {
   "cell_type": "markdown",
   "metadata": {},
   "source": [
    "We could also do the same thing during assignment. The next command will\n",
    "create a probe (named 'stdout_probe') that refers to multout (returns the wire multout).\n",
    "This achieves virtually the same thing as 4 lines above, but it is done during assignment,\n",
    "so we **skip a step by probing the wire before the multiplication.**\n",
    "The probe returns multout, the original wire, and out will be assigned multout * 2"
   ]
  },
  {
   "cell_type": "code",
   "execution_count": null,
   "metadata": {
    "collapsed": true
   },
   "outputs": [],
   "source": [
    "out1 <<= pyrtl.probe(multout, 'stdout_probe') * 2"
   ]
  },
  {
   "cell_type": "markdown",
   "metadata": {},
   "source": [
    "#### Probe can also be used with other operations like this:"
   ]
  },
  {
   "cell_type": "code",
   "execution_count": null,
   "metadata": {
    "collapsed": true
   },
   "outputs": [],
   "source": [
    "pyrtl.probe(multout + 32, 'adder_probe')"
   ]
  },
  {
   "cell_type": "code",
   "execution_count": null,
   "metadata": {
    "collapsed": true
   },
   "outputs": [],
   "source": [
    "pyrtl.probe(multout[2:7], 'select_probe')"
   ]
  },
  {
   "cell_type": "code",
   "execution_count": null,
   "metadata": {
    "collapsed": true
   },
   "outputs": [],
   "source": [
    "out2 <<= pyrtl.probe(multout)[2:16]  # notice probe names are not absolutely necessary"
   ]
  },
  {
   "cell_type": "markdown",
   "metadata": {},
   "source": [
    "As one can see, probe **can be used on any wire any time**,\n",
    "such as before or during its operation, assignment, etc.\n",
    "#### Now on to the simulation...\n",
    "For variation, we'll **recreate the random inputs**:"
   ]
  },
  {
   "cell_type": "code",
   "execution_count": null,
   "metadata": {
    "collapsed": true
   },
   "outputs": [],
   "source": [
    "vals1 = [int(2**random.uniform(1, 8) - 2) for _ in range(10)]\n",
    "vals2 = [int(2**random.uniform(1, 8) - 2) for _ in range(10)]"
   ]
  },
  {
   "cell_type": "code",
   "execution_count": null,
   "metadata": {
    "collapsed": true
   },
   "outputs": [],
   "source": [
    "sim_trace = pyrtl.SimulationTrace()\n",
    "sim = pyrtl.Simulation(tracer=sim_trace)\n",
    "for cycle in range(len(vals1)):\n",
    "    sim.step({\n",
    "        'in1': vals1[cycle],\n",
    "        'in2': vals2[cycle]})"
   ]
  },
  {
   "cell_type": "markdown",
   "metadata": {},
   "source": [
    "Now we will **show the values of the inputs and probes**\n",
    "and look at that, we didn't need to make any outputs!\n",
    "(although we did, to demonstrate the power and convenience of probes)"
   ]
  },
  {
   "cell_type": "code",
   "execution_count": null,
   "metadata": {
    "collapsed": true
   },
   "outputs": [],
   "source": [
    "sim_trace.render_trace()\n",
    "sim_trace.print_trace()"
   ]
  },
  {
   "cell_type": "markdown",
   "metadata": {},
   "source": [
    "Say we wanted to have gotten **more information about\n",
    "one of those probes** above at declaration.\n",
    "We could have used *pyrtl.set_debug_mode()* before their creation, like so:"
   ]
  },
  {
   "cell_type": "code",
   "execution_count": null,
   "metadata": {
    "collapsed": true
   },
   "outputs": [],
   "source": [
    "print(\"--- Probe w/ debugging: ---\")\n",
    "pyrtl.set_debug_mode()\n",
    "pyrtl.probe(multout - 16, 'debugsubtr_probe)')\n",
    "pyrtl.set_debug_mode(debug=False)"
   ]
  },
  {
   "cell_type": "markdown",
   "metadata": {},
   "source": [
    "## WireVector Stack Trace"
   ]
  },
  {
   "cell_type": "markdown",
   "metadata": {},
   "source": [
    "Another case that might arise is that a certain wire is causing an error to occur\n",
    "in your program. WireVector Stack Traces allow you to find out more about **where a particular\n",
    "WireVector was made in your code**. With this enabled the WireVector will\n",
    "store exactly were it was created, which should help with issues where\n",
    "there is a problem with an identified wire.\n",
    "\n",
    "Like above, just add the following line before the relevant WireVector\n",
    "might be made or at the beginning of the program."
   ]
  },
  {
   "cell_type": "code",
   "execution_count": null,
   "metadata": {
    "collapsed": true
   },
   "outputs": [],
   "source": [
    "pyrtl.set_debug_mode()\n",
    "\n",
    "test_out = pyrtl.Output(9, \"test_out\")\n",
    "test_out <<= adders.kogge_stone(in1, in2)"
   ]
  },
  {
   "cell_type": "markdown",
   "metadata": {},
   "source": [
    "#### Now to retrieve information:"
   ]
  },
  {
   "cell_type": "code",
   "execution_count": null,
   "metadata": {
    "collapsed": true
   },
   "outputs": [],
   "source": [
    "wire_trace = test_out.init_call_stack"
   ]
  },
  {
   "cell_type": "markdown",
   "metadata": {},
   "source": [
    "This data is generated using the __*traceback.format_stack()*__ call from the Python\n",
    "standard library's Traceback module (look at the Python standard library docs for\n",
    "details on the function). Therefore, the **stack traces are stored as a list with the\n",
    "outermost call first**."
   ]
  },
  {
   "cell_type": "code",
   "execution_count": null,
   "metadata": {
    "collapsed": true
   },
   "outputs": [],
   "source": [
    "print(\"---- Stack Trace ----\")\n",
    "for frame in wire_trace:\n",
    "    print(frame)"
   ]
  },
  {
   "cell_type": "markdown",
   "metadata": {},
   "source": [
    "## Storage of Additional Debug Data"
   ]
  },
  {
   "cell_type": "markdown",
   "metadata": {},
   "source": [
    "__*WARNING: the debug information generated by the following two processes are\n",
    "not guaranteed to be preserved when functions (eg. pyrtl.synthesize() ) are\n",
    "done over the block.*__\n",
    "\n",
    "However, if the stack trace does not give you enough information about the\n",
    "WireVector, you can also **embed additional information into the wire** itself.\n",
    "\n",
    "Two ways of doing so is either through **manipulating the name of the\n",
    "WireVector**, or by **adding your own custom metadata** to the WireVector.\n",
    "\n",
    "So far, each input and output WireVector have been given their own names, but\n",
    "normal WireVectors can also be given names by **supplying the name argument to\n",
    "the constructor**"
   ]
  },
  {
   "cell_type": "code",
   "execution_count": null,
   "metadata": {
    "collapsed": true
   },
   "outputs": [],
   "source": [
    "dummy_wv = pyrtl.WireVector(1, name=\"blah\")"
   ]
  },
  {
   "cell_type": "markdown",
   "metadata": {},
   "source": [
    "Also, because of the flexible nature of Python, you can also add **custom\n",
    "properties to the WireVector.**"
   ]
  },
  {
   "cell_type": "code",
   "execution_count": null,
   "metadata": {
    "collapsed": true
   },
   "outputs": [],
   "source": [
    "dummy_wv.my_custom_property_name = \"John Clow is great\"\n",
    "dummy_wv.custom_value_028493 = 13"
   ]
  },
  {
   "cell_type": "code",
   "execution_count": null,
   "metadata": {
    "collapsed": true
   },
   "outputs": [],
   "source": [
    "# removing the WireVector from the block to prevent problems with the rest of\n",
    "# this example\n",
    "pyrtl.working_block().remove_wirevector(dummy_wv)"
   ]
  },
  {
   "cell_type": "markdown",
   "metadata": {},
   "source": [
    "### Trivial Graph Format"
   ]
  },
  {
   "cell_type": "markdown",
   "metadata": {},
   "source": [
    "Finally, there is a handy way to **view your hardware creations as a graph**.\n",
    "The function *output_to_trivialgraph* will render your hardware a formal that\n",
    "you can then open with the free software *\"yEd\"*\n",
    "(http://en.wikipedia.org/wiki/YEd). There are options under the\n",
    "*\"hierarchical\"* rendering to draw something that looks quite like a circuit."
   ]
  },
  {
   "cell_type": "code",
   "execution_count": null,
   "metadata": {
    "collapsed": true
   },
   "outputs": [],
   "source": [
    "pyrtl.working_block().sanity_check()\n",
    "pyrtl.passes._remove_unused_wires(pyrtl.working_block())  # so that trivial_graph() will work"
   ]
  },
  {
   "cell_type": "code",
   "execution_count": null,
   "metadata": {
    "collapsed": true
   },
   "outputs": [],
   "source": [
    "print(\"--- Trivial Graph Format  ---\")\n",
    "with io.StringIO() as tgf:\n",
    "    pyrtl.output_to_trivialgraph(tgf)\n",
    "    print(tgf.getvalue())"
   ]
  }
 ],
 "metadata": {
  "kernelspec": {
   "display_name": "Python 3",
   "language": "python",
   "name": "python3"
  },
  "language_info": {
   "codemirror_mode": {
    "name": "ipython",
    "version": 3
   },
   "file_extension": ".py",
   "mimetype": "text/x-python",
   "name": "python",
   "nbconvert_exporter": "python",
   "pygments_lexer": "ipython3",
   "version": "3.6.3"
  }
 },
 "nbformat": 4,
 "nbformat_minor": 2
}
