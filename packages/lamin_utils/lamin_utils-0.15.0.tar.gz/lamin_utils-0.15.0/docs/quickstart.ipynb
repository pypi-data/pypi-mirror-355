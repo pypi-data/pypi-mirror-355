{
 "cells": [
  {
   "cell_type": "markdown",
   "id": "7f26a335-cf1c-4e69-be3b-0c26b154606a",
   "metadata": {},
   "source": [
    "# Quickstart"
   ]
  },
  {
   "cell_type": "code",
   "execution_count": null,
   "id": "a51faaf3-ee27-43c6-b48d-13be1adb5c46",
   "metadata": {},
   "outputs": [],
   "source": [
    "from lamin_utils import logger, colors"
   ]
  },
  {
   "cell_type": "code",
   "execution_count": null,
   "id": "fa758625-efb0-4047-9a03-aa534bf6f78e",
   "metadata": {},
   "outputs": [],
   "source": [
    "logger.info(\"INFO...\")"
   ]
  },
  {
   "cell_type": "code",
   "execution_count": null,
   "id": "8bf01623-742e-425a-973d-132fc61c3d9c",
   "metadata": {},
   "outputs": [],
   "source": [
    "text = \"green\"\n",
    "print(colors.green(text))"
   ]
  }
 ],
 "metadata": {
  "kernelspec": {
   "display_name": "Python 3.9.12 ('base1')",
   "language": "python",
   "name": "python3"
  },
  "language_info": {
   "codemirror_mode": {
    "name": "ipython",
    "version": 3
   },
   "file_extension": ".py",
   "mimetype": "text/x-python",
   "name": "python",
   "nbconvert_exporter": "python",
   "pygments_lexer": "ipython3",
   "version": "3.9.12"
  },
  "vscode": {
   "interpreter": {
    "hash": "2775e555cdc2d728c54aa22130c79afb1fa4da64f22f2fc6dcc2aa346c4e0672"
   }
  }
 },
 "nbformat": 4,
 "nbformat_minor": 5
}
