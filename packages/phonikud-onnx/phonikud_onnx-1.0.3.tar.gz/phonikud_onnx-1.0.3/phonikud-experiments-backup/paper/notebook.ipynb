{
 "cells": [
  {
   "cell_type": "markdown",
   "id": "93acf06f",
   "metadata": {},
   "source": [
    "# TTS with Phonikud"
   ]
  },
  {
   "cell_type": "code",
   "execution_count": null,
   "id": "d49dcd61",
   "metadata": {},
   "outputs": [
    {
     "ename": "",
     "evalue": "",
     "output_type": "error",
     "traceback": [
      "\u001b[1;31mRunning cells with '.venv (Python 3.11.11)' requires the ipykernel package.\n",
      "\u001b[1;31mInstall 'ipykernel' into the Python environment. \n",
      "\u001b[1;31mCommand: '/Volumes/Internal/phonikud-paper/.venv/bin/python -m pip install ipykernel -U --force-reinstall'"
     ]
    }
   ],
   "source": [
    "!pip install uv\n",
    "!uv pip install --system git+https://github.com/thewh1teagle/phonikud-tts\n",
    "!wget https://huggingface.co/thewh1teagle/phonikud-onnx/resolve/main/phonikud-1.0.int8.onnx -O phonikud-1.0.int8.onnx\n",
    "!wget https://huggingface.co/thewh1teagle/phonikud-tts-checkpoints/resolve/main/model.onnx -O tts-model.onnx\n",
    "!wget https://huggingface.co/thewh1teagle/phonikud-tts-checkpoints/resolve/main/model.config.json -O tts-model.config.json"
   ]
  },
  {
   "cell_type": "code",
   "execution_count": null,
   "id": "c6a3df95",
   "metadata": {},
   "outputs": [],
   "source": [
    "from phonikud_tts import Phonikud, phonemize, Piper\n",
    "import soundfile as sf\n",
    "from IPython.display import Audio\n",
    "\n",
    "phonikud = Phonikud('phonikud-1.0.int8.onnx')\n",
    "piper = Piper('tts-model.onnx', 'tts-model.config.json')"
   ]
  },
  {
   "cell_type": "code",
   "execution_count": null,
   "id": "304f36b6",
   "metadata": {},
   "outputs": [],
   "source": [
    "# Phonemize text\n",
    "text = \"מה שבהגדרה משאיר את הכלכלה ההונגרית מאחור, אפילו ביחס למדינות כמו פולין.\"\n",
    "with_diacritics = phonikud.add_diacritics(text)\n",
    "phonemes = phonemize(with_diacritics)\n",
    "\n",
    "# Create audio\n",
    "samples, sample_rate = piper.create(phonemes, is_phonemes=True)\n",
    "sf.write('audio.wav', samples, sample_rate)\n",
    "Audio('audio.wav')"
   ]
  }
 ],
 "metadata": {
  "kernelspec": {
   "display_name": ".venv",
   "language": "python",
   "name": "python3"
  },
  "language_info": {
   "name": "python",
   "version": "3.11.11"
  }
 },
 "nbformat": 4,
 "nbformat_minor": 5
}
