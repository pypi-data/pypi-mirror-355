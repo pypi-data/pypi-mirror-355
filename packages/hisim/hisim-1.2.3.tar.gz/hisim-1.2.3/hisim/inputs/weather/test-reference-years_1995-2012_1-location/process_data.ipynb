{
 "cells": [
  {
   "cell_type": "code",
   "execution_count": 9,
   "metadata": {
    "scrolled": true
   },
   "outputs": [
    {
     "name": "stdout",
     "output_type": "stream",
     "text": [
      "Ort \t          : Aachen Innenstadt\n",
      "\n",
      "Breitengrad       : 50.76922839713459\n",
      "\n",
      "LÃ¤ngengrad\t  : 6.0983619036603\n",
      "\n",
      "Hoehenlage        : 179 Meter ueber NN\n",
      "\n",
      "Erstellung des Datensatzes im Mai 2016\n",
      "\n",
      "\n",
      "\n",
      "Art des TRY       : mittleres Jahr\n",
      "\n",
      "Bezugszeitraum    : 1995-2012\n",
      "\n",
      "Datenbasis        : Beobachtungsdaten Zeitraum 1995-2012\n",
      "\n",
      "\n",
      "\n"
     ]
    }
   ],
   "source": [
    "import os\n",
    "import shutil\n",
    "with open('data_raw/aachen_center.dat') as file:\n",
    "    lines = file.readlines()\n",
    "for line in lines[:10]:\n",
    "    print(line)\n"
   ]
  },
  {
   "cell_type": "code",
   "execution_count": 10,
   "metadata": {},
   "outputs": [
    {
     "data": {
      "text/plain": [
       "'data_processed/aachen_center.dat'"
      ]
     },
     "execution_count": 10,
     "metadata": {},
     "output_type": "execute_result"
    }
   ],
   "source": [
    "shutil.copy('data_raw/aachen_center.dat','data_processed/aachen_center.dat')"
   ]
  },
  {
   "cell_type": "code",
   "execution_count": null,
   "metadata": {},
   "outputs": [],
   "source": []
  }
 ],
 "metadata": {
  "kernelspec": {
   "display_name": "Python 3",
   "language": "python",
   "name": "python3"
  },
  "language_info": {
   "codemirror_mode": {
    "name": "ipython",
    "version": 3
   },
   "file_extension": ".py",
   "mimetype": "text/x-python",
   "name": "python",
   "nbconvert_exporter": "python",
   "pygments_lexer": "ipython3",
   "version": "3.8.3"
  }
 },
 "nbformat": 4,
 "nbformat_minor": 4
}
