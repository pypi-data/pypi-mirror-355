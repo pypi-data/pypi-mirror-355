{
 "cells": [
  {
   "cell_type": "code",
   "execution_count": 2,
   "metadata": {},
   "outputs": [],
   "source": [
    "import os\n",
    "import pandas as pd\n",
    "df = pd.read_csv(os.path.join('data_raw','episcope-tabula.csv'))\n",
    "df_selected = df[['Code_BuildingVariant','Code_Country','A_C_Ref','c_m']].copy()"
   ]
  },
  {
   "cell_type": "code",
   "execution_count": 3,
   "metadata": {},
   "outputs": [
    {
     "data": {
      "text/html": [
       "<div>\n",
       "<style scoped>\n",
       "    .dataframe tbody tr th:only-of-type {\n",
       "        vertical-align: middle;\n",
       "    }\n",
       "\n",
       "    .dataframe tbody tr th {\n",
       "        vertical-align: top;\n",
       "    }\n",
       "\n",
       "    .dataframe thead th {\n",
       "        text-align: right;\n",
       "    }\n",
       "</style>\n",
       "<table border=\"1\" class=\"dataframe\">\n",
       "  <thead>\n",
       "    <tr style=\"text-align: right;\">\n",
       "      <th></th>\n",
       "      <th>Code_BuildingVariant</th>\n",
       "      <th>Code_Country</th>\n",
       "      <th>A_C_Ref</th>\n",
       "      <th>c_m</th>\n",
       "    </tr>\n",
       "  </thead>\n",
       "  <tbody>\n",
       "    <tr>\n",
       "      <th>0</th>\n",
       "      <td>DE.N.AB.02.Gen.ReEx.001.001</td>\n",
       "      <td>DE</td>\n",
       "      <td>829.4</td>\n",
       "      <td>45</td>\n",
       "    </tr>\n",
       "    <tr>\n",
       "      <th>1</th>\n",
       "      <td>DE.N.AB.02.Gen.ReEx.001.002</td>\n",
       "      <td>DE</td>\n",
       "      <td>829.4</td>\n",
       "      <td>45</td>\n",
       "    </tr>\n",
       "    <tr>\n",
       "      <th>2</th>\n",
       "      <td>DE.N.AB.02.Gen.ReEx.001.003</td>\n",
       "      <td>DE</td>\n",
       "      <td>829.4</td>\n",
       "      <td>45</td>\n",
       "    </tr>\n",
       "    <tr>\n",
       "      <th>3</th>\n",
       "      <td>DE.N.AB.03.Gen.ReEx.001.001</td>\n",
       "      <td>DE</td>\n",
       "      <td>1484.0</td>\n",
       "      <td>45</td>\n",
       "    </tr>\n",
       "    <tr>\n",
       "      <th>4</th>\n",
       "      <td>DE.N.AB.03.Gen.ReEx.001.002</td>\n",
       "      <td>DE</td>\n",
       "      <td>1484.0</td>\n",
       "      <td>45</td>\n",
       "    </tr>\n",
       "    <tr>\n",
       "      <th>...</th>\n",
       "      <td>...</td>\n",
       "      <td>...</td>\n",
       "      <td>...</td>\n",
       "      <td>...</td>\n",
       "    </tr>\n",
       "    <tr>\n",
       "      <th>227</th>\n",
       "      <td>DE.DistrictMZLerch.F.RH2.SD.M.ReEx.001.001</td>\n",
       "      <td>DE</td>\n",
       "      <td>154.9</td>\n",
       "      <td>45</td>\n",
       "    </tr>\n",
       "    <tr>\n",
       "      <th>228</th>\n",
       "      <td>DE.DistrictMZLerch.F.RH2.SD.M.ReEx.001.002</td>\n",
       "      <td>DE</td>\n",
       "      <td>154.9</td>\n",
       "      <td>45</td>\n",
       "    </tr>\n",
       "    <tr>\n",
       "      <th>229</th>\n",
       "      <td>DE.DistrictMZLerch.F.RH2.SD.M.ReEx.001.003</td>\n",
       "      <td>DE</td>\n",
       "      <td>154.9</td>\n",
       "      <td>45</td>\n",
       "    </tr>\n",
       "    <tr>\n",
       "      <th>230</th>\n",
       "      <td>DE.DistrictMZLerch.F.RH2.SD.M.ReEx.001.004</td>\n",
       "      <td>DE</td>\n",
       "      <td>154.9</td>\n",
       "      <td>45</td>\n",
       "    </tr>\n",
       "    <tr>\n",
       "      <th>231</th>\n",
       "      <td>DE.DistrictMZLerch.F.RH2.SD.M.ReEx.001.005</td>\n",
       "      <td>DE</td>\n",
       "      <td>154.9</td>\n",
       "      <td>45</td>\n",
       "    </tr>\n",
       "  </tbody>\n",
       "</table>\n",
       "<p>232 rows × 4 columns</p>\n",
       "</div>"
      ],
      "text/plain": [
       "                           Code_BuildingVariant Code_Country  A_C_Ref  c_m\n",
       "0                   DE.N.AB.02.Gen.ReEx.001.001           DE    829.4   45\n",
       "1                   DE.N.AB.02.Gen.ReEx.001.002           DE    829.4   45\n",
       "2                   DE.N.AB.02.Gen.ReEx.001.003           DE    829.4   45\n",
       "3                   DE.N.AB.03.Gen.ReEx.001.001           DE   1484.0   45\n",
       "4                   DE.N.AB.03.Gen.ReEx.001.002           DE   1484.0   45\n",
       "..                                          ...          ...      ...  ...\n",
       "227  DE.DistrictMZLerch.F.RH2.SD.M.ReEx.001.001           DE    154.9   45\n",
       "228  DE.DistrictMZLerch.F.RH2.SD.M.ReEx.001.002           DE    154.9   45\n",
       "229  DE.DistrictMZLerch.F.RH2.SD.M.ReEx.001.003           DE    154.9   45\n",
       "230  DE.DistrictMZLerch.F.RH2.SD.M.ReEx.001.004           DE    154.9   45\n",
       "231  DE.DistrictMZLerch.F.RH2.SD.M.ReEx.001.005           DE    154.9   45\n",
       "\n",
       "[232 rows x 4 columns]"
      ]
     },
     "execution_count": 3,
     "metadata": {},
     "output_type": "execute_result"
    }
   ],
   "source": [
    "df_selected"
   ]
  },
  {
   "cell_type": "code",
   "execution_count": 4,
   "metadata": {},
   "outputs": [],
   "source": [
    "df_selected.to_csv(os.path.join('data_processed','episcope-tabula-selected.csv'))"
   ]
  },
  {
   "cell_type": "code",
   "execution_count": 6,
   "metadata": {},
   "outputs": [],
   "source": [
    "import shutil"
   ]
  },
  {
   "cell_type": "code",
   "execution_count": 7,
   "metadata": {},
   "outputs": [
    {
     "data": {
      "text/plain": [
       "'data_processed\\\\episcope-tabula.csv'"
      ]
     },
     "execution_count": 7,
     "metadata": {},
     "output_type": "execute_result"
    }
   ],
   "source": [
    "shutil.copy(os.path.join('data_raw','episcope-tabula.csv'),os.path.join('data_processed','episcope-tabula.csv'))"
   ]
  },
  {
   "cell_type": "code",
   "execution_count": null,
   "metadata": {},
   "outputs": [],
   "source": []
  }
 ],
 "metadata": {
  "kernelspec": {
   "display_name": "Python 3",
   "language": "python",
   "name": "python3"
  },
  "language_info": {
   "codemirror_mode": {
    "name": "ipython",
    "version": 3
   },
   "file_extension": ".py",
   "mimetype": "text/x-python",
   "name": "python",
   "nbconvert_exporter": "python",
   "pygments_lexer": "ipython3",
   "version": "3.8.3"
  }
 },
 "nbformat": 4,
 "nbformat_minor": 4
}
