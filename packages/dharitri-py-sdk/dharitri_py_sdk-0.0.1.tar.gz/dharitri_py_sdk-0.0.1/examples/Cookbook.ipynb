{
 "cells": [
  {
   "cell_type": "code",
   "execution_count": 3,
   "metadata": {},
   "outputs": [],
   "source": [
    "import sys\n",
    "\n",
    "sys.path.append(\"..\")  # Add the parent directory of 'examples' to the Python path"
   ]
  },
  {
   "cell_type": "markdown",
   "metadata": {},
   "source": [
    "## Addresses"
   ]
  },
  {
   "cell_type": "code",
   "execution_count": null,
   "metadata": {},
   "outputs": [],
   "source": []
  },
  {
   "cell_type": "markdown",
   "metadata": {},
   "source": [
    "Create an `Address` object from a _bech32-encoded_ string:"
   ]
  },
  {
   "cell_type": "code",
   "execution_count": 4,
   "metadata": {},
   "outputs": [
    {
     "ename": "ModuleNotFoundError",
     "evalue": "No module named 'Cryptodome'",
     "output_type": "error",
     "traceback": [
      "\u001b[0;31m---------------------------------------------------------------------------\u001b[0m",
      "\u001b[0;31mModuleNotFoundError\u001b[0m                       Traceback (most recent call last)",
      "Cell \u001b[0;32mIn[4], line 1\u001b[0m\n\u001b[0;32m----> 1\u001b[0m \u001b[38;5;28;01mfrom\u001b[39;00m\u001b[38;5;250m \u001b[39m\u001b[38;5;21;01mdharitri_py_sdk\u001b[39;00m\u001b[38;5;250m \u001b[39m\u001b[38;5;28;01mimport\u001b[39;00m Address\n\u001b[1;32m      3\u001b[0m address \u001b[38;5;241m=\u001b[39m Address\u001b[38;5;241m.\u001b[39mnew_from_bech32(\u001b[38;5;124m\"\u001b[39m\u001b[38;5;124mdrt1c7pyyq2yaq5k7atn9z6qn5qkxwlc6zwc4vg7uuxn9ssy7evfh5jq4nm79l\u001b[39m\u001b[38;5;124m\"\u001b[39m)\n\u001b[1;32m      5\u001b[0m \u001b[38;5;28mprint\u001b[39m(\u001b[38;5;124m\"\u001b[39m\u001b[38;5;124mAddress (bech32-encoded)\u001b[39m\u001b[38;5;124m\"\u001b[39m, address\u001b[38;5;241m.\u001b[39mto_bech32())\n",
      "File \u001b[0;32m~/Desktop/teja-work/my_python_works/py-team-repos/to_be_verified/level-1/drt-sdk-py/drt-py-sdk-0.12.0/examples/../dharitri_py_sdk/__init__.py:1\u001b[0m\n\u001b[0;32m----> 1\u001b[0m \u001b[38;5;28;01mfrom\u001b[39;00m\u001b[38;5;250m \u001b[39m\u001b[38;5;21;01mdharitri_py_sdk\u001b[39;00m\u001b[38;5;21;01m.\u001b[39;00m\u001b[38;5;21;01madapters\u001b[39;00m\u001b[38;5;21;01m.\u001b[39;00m\u001b[38;5;21;01mquery_runner_adapter\u001b[39;00m\u001b[38;5;250m \u001b[39m\u001b[38;5;28;01mimport\u001b[39;00m QueryRunnerAdapter\n\u001b[1;32m      2\u001b[0m \u001b[38;5;28;01mfrom\u001b[39;00m\u001b[38;5;250m \u001b[39m\u001b[38;5;21;01mdharitri_py_sdk\u001b[39;00m\u001b[38;5;21;01m.\u001b[39;00m\u001b[38;5;21;01mconverters\u001b[39;00m\u001b[38;5;21;01m.\u001b[39;00m\u001b[38;5;21;01mtransactions_converter\u001b[39;00m\u001b[38;5;250m \u001b[39m\u001b[38;5;28;01mimport\u001b[39;00m \\\n\u001b[1;32m      3\u001b[0m     TransactionsConverter\n\u001b[1;32m      4\u001b[0m \u001b[38;5;28;01mfrom\u001b[39;00m\u001b[38;5;250m \u001b[39m\u001b[38;5;21;01mdharitri_py_sdk\u001b[39;00m\u001b[38;5;21;01m.\u001b[39;00m\u001b[38;5;21;01mcore\u001b[39;00m\u001b[38;5;21;01m.\u001b[39;00m\u001b[38;5;21;01maccount\u001b[39;00m\u001b[38;5;250m \u001b[39m\u001b[38;5;28;01mimport\u001b[39;00m AccountNonceHolder\n",
      "File \u001b[0;32m~/Desktop/teja-work/my_python_works/py-team-repos/to_be_verified/level-1/drt-sdk-py/drt-py-sdk-0.12.0/examples/../dharitri_py_sdk/adapters/__init__.py:1\u001b[0m\n\u001b[0;32m----> 1\u001b[0m \u001b[38;5;28;01mfrom\u001b[39;00m\u001b[38;5;250m \u001b[39m\u001b[38;5;21;01mdharitri_py_sdk\u001b[39;00m\u001b[38;5;21;01m.\u001b[39;00m\u001b[38;5;21;01madapters\u001b[39;00m\u001b[38;5;21;01m.\u001b[39;00m\u001b[38;5;21;01mquery_runner_adapter\u001b[39;00m\u001b[38;5;250m \u001b[39m\u001b[38;5;28;01mimport\u001b[39;00m QueryRunnerAdapter\n\u001b[1;32m      3\u001b[0m __all__ \u001b[38;5;241m=\u001b[39m [\u001b[38;5;124m\"\u001b[39m\u001b[38;5;124mQueryRunnerAdapter\u001b[39m\u001b[38;5;124m\"\u001b[39m]\n",
      "File \u001b[0;32m~/Desktop/teja-work/my_python_works/py-team-repos/to_be_verified/level-1/drt-sdk-py/drt-py-sdk-0.12.0/examples/../dharitri_py_sdk/adapters/query_runner_adapter.py:3\u001b[0m\n\u001b[1;32m      1\u001b[0m \u001b[38;5;28;01mfrom\u001b[39;00m\u001b[38;5;250m \u001b[39m\u001b[38;5;21;01mtyping\u001b[39;00m\u001b[38;5;250m \u001b[39m\u001b[38;5;28;01mimport\u001b[39;00m List, Optional, Protocol, Sequence\n\u001b[0;32m----> 3\u001b[0m \u001b[38;5;28;01mfrom\u001b[39;00m\u001b[38;5;250m \u001b[39m\u001b[38;5;21;01mdharitri_py_sdk\u001b[39;00m\u001b[38;5;21;01m.\u001b[39;00m\u001b[38;5;21;01mcore\u001b[39;00m\u001b[38;5;21;01m.\u001b[39;00m\u001b[38;5;21;01maddress\u001b[39;00m\u001b[38;5;250m \u001b[39m\u001b[38;5;28;01mimport\u001b[39;00m Address\n\u001b[1;32m      4\u001b[0m \u001b[38;5;28;01mfrom\u001b[39;00m\u001b[38;5;250m \u001b[39m\u001b[38;5;21;01mdharitri_py_sdk\u001b[39;00m\u001b[38;5;21;01m.\u001b[39;00m\u001b[38;5;21;01mcore\u001b[39;00m\u001b[38;5;21;01m.\u001b[39;00m\u001b[38;5;21;01mcontract_query\u001b[39;00m\u001b[38;5;250m \u001b[39m\u001b[38;5;28;01mimport\u001b[39;00m ContractQuery\n\u001b[1;32m      5\u001b[0m \u001b[38;5;28;01mfrom\u001b[39;00m\u001b[38;5;250m \u001b[39m\u001b[38;5;21;01mdharitri_py_sdk\u001b[39;00m\u001b[38;5;21;01m.\u001b[39;00m\u001b[38;5;21;01mcore\u001b[39;00m\u001b[38;5;21;01m.\u001b[39;00m\u001b[38;5;21;01minterfaces\u001b[39;00m\u001b[38;5;250m \u001b[39m\u001b[38;5;28;01mimport\u001b[39;00m IAddress\n",
      "File \u001b[0;32m~/Desktop/teja-work/my_python_works/py-team-repos/to_be_verified/level-1/drt-sdk-py/drt-py-sdk-0.12.0/examples/../dharitri_py_sdk/core/__init__.py:2\u001b[0m\n\u001b[1;32m      1\u001b[0m \u001b[38;5;28;01mfrom\u001b[39;00m\u001b[38;5;250m \u001b[39m\u001b[38;5;21;01mdharitri_py_sdk\u001b[39;00m\u001b[38;5;21;01m.\u001b[39;00m\u001b[38;5;21;01mcore\u001b[39;00m\u001b[38;5;21;01m.\u001b[39;00m\u001b[38;5;21;01maccount\u001b[39;00m\u001b[38;5;250m \u001b[39m\u001b[38;5;28;01mimport\u001b[39;00m AccountNonceHolder\n\u001b[0;32m----> 2\u001b[0m \u001b[38;5;28;01mfrom\u001b[39;00m\u001b[38;5;250m \u001b[39m\u001b[38;5;21;01mdharitri_py_sdk\u001b[39;00m\u001b[38;5;21;01m.\u001b[39;00m\u001b[38;5;21;01mcore\u001b[39;00m\u001b[38;5;21;01m.\u001b[39;00m\u001b[38;5;21;01maddress\u001b[39;00m\u001b[38;5;250m \u001b[39m\u001b[38;5;28;01mimport\u001b[39;00m (Address, AddressComputer,\n\u001b[1;32m      3\u001b[0m                                          AddressFactory)\n\u001b[1;32m      4\u001b[0m \u001b[38;5;28;01mfrom\u001b[39;00m\u001b[38;5;250m \u001b[39m\u001b[38;5;21;01mdharitri_py_sdk\u001b[39;00m\u001b[38;5;21;01m.\u001b[39;00m\u001b[38;5;21;01mcore\u001b[39;00m\u001b[38;5;21;01m.\u001b[39;00m\u001b[38;5;21;01mcode_metadata\u001b[39;00m\u001b[38;5;250m \u001b[39m\u001b[38;5;28;01mimport\u001b[39;00m CodeMetadata\n\u001b[1;32m      5\u001b[0m \u001b[38;5;28;01mfrom\u001b[39;00m\u001b[38;5;250m \u001b[39m\u001b[38;5;21;01mdharitri_py_sdk\u001b[39;00m\u001b[38;5;21;01m.\u001b[39;00m\u001b[38;5;21;01mcore\u001b[39;00m\u001b[38;5;21;01m.\u001b[39;00m\u001b[38;5;21;01mcontract_query\u001b[39;00m\u001b[38;5;250m \u001b[39m\u001b[38;5;28;01mimport\u001b[39;00m ContractQuery\n",
      "File \u001b[0;32m~/Desktop/teja-work/my_python_works/py-team-repos/to_be_verified/level-1/drt-sdk-py/drt-py-sdk-0.12.0/examples/../dharitri_py_sdk/core/address.py:4\u001b[0m\n\u001b[1;32m      1\u001b[0m \u001b[38;5;28;01mimport\u001b[39;00m\u001b[38;5;250m \u001b[39m\u001b[38;5;21;01mlogging\u001b[39;00m\n\u001b[1;32m      2\u001b[0m \u001b[38;5;28;01mfrom\u001b[39;00m\u001b[38;5;250m \u001b[39m\u001b[38;5;21;01mtyping\u001b[39;00m\u001b[38;5;250m \u001b[39m\u001b[38;5;28;01mimport\u001b[39;00m Protocol, Tuple\n\u001b[0;32m----> 4\u001b[0m \u001b[38;5;28;01mfrom\u001b[39;00m\u001b[38;5;250m \u001b[39m\u001b[38;5;21;01mCryptodome\u001b[39;00m\u001b[38;5;21;01m.\u001b[39;00m\u001b[38;5;21;01mHash\u001b[39;00m\u001b[38;5;250m \u001b[39m\u001b[38;5;28;01mimport\u001b[39;00m keccak\n\u001b[1;32m      6\u001b[0m \u001b[38;5;28;01mfrom\u001b[39;00m\u001b[38;5;250m \u001b[39m\u001b[38;5;21;01mdharitri_py_sdk\u001b[39;00m\u001b[38;5;21;01m.\u001b[39;00m\u001b[38;5;21;01mcore\u001b[39;00m\u001b[38;5;250m \u001b[39m\u001b[38;5;28;01mimport\u001b[39;00m bech32\n\u001b[1;32m      7\u001b[0m \u001b[38;5;28;01mfrom\u001b[39;00m\u001b[38;5;250m \u001b[39m\u001b[38;5;21;01mdharitri_py_sdk\u001b[39;00m\u001b[38;5;21;01m.\u001b[39;00m\u001b[38;5;21;01mcore\u001b[39;00m\u001b[38;5;21;01m.\u001b[39;00m\u001b[38;5;21;01mconstants\u001b[39;00m\u001b[38;5;250m \u001b[39m\u001b[38;5;28;01mimport\u001b[39;00m DEFAULT_HRP, METACHAIN_ID\n",
      "\u001b[0;31mModuleNotFoundError\u001b[0m: No module named 'Cryptodome'"
     ]
    }
   ],
   "source": [
    "from dharitri_py_sdk import Address\n",
    "\n",
    "address = Address.new_from_bech32(\"drt1c7pyyq2yaq5k7atn9z6qn5qkxwlc6zwc4vg7uuxn9ssy7evfh5jq4nm79l\")\n",
    "\n",
    "print(\"Address (bech32-encoded)\", address.to_bech32())\n",
    "print(\"Public key (hex-encoded):\", address.to_hex())\n",
    "print(\"Public key (hex-encoded):\", address.get_public_key().hex())"
   ]
  },
  {
   "cell_type": "markdown",
   "metadata": {},
   "source": [
    "... or from a _hex-encoded_ string - note that you have to provide the address prefix, also known as the **HRP** (_human-readable part_ of the address):"
   ]
  },
  {
   "cell_type": "code",
   "execution_count": null,
   "metadata": {},
   "outputs": [],
   "source": [
    "address = Address.new_from_hex(\"c782420144e8296f757328b409d01633bf8d09d8ab11ee70d32c204f6589bd24\", \"drt\")"
   ]
  },
  {
   "cell_type": "markdown",
   "metadata": {},
   "source": [
    "... or from a raw public key:"
   ]
  },
  {
   "cell_type": "code",
   "execution_count": null,
   "metadata": {},
   "outputs": [],
   "source": [
    "pubkey = bytes.fromhex(\"c782420144e8296f757328b409d01633bf8d09d8ab11ee70d32c204f6589bd24\")\n",
    "address = Address(pubkey, \"drt\")"
   ]
  },
  {
   "cell_type": "markdown",
   "metadata": {},
   "source": [
    "Alternatively, you can use an `AddressFactory` (initialized with a specific **HRP**) to create addresses:"
   ]
  },
  {
   "cell_type": "code",
   "execution_count": null,
   "metadata": {},
   "outputs": [],
   "source": [
    "from dharitri_py_sdk import AddressFactory\n",
    "\n",
    "factory = AddressFactory(\"drt\")\n",
    "\n",
    "address = factory.create_from_bech32(\"drt1c7pyyq2yaq5k7atn9z6qn5qkxwlc6zwc4vg7uuxn9ssy7evfh5jq4nm79l\")\n",
    "address = factory.create_from_hex(\"c782420144e8296f757328b409d01633bf8d09d8ab11ee70d32c204f6589bd24\")\n",
    "address = factory.create_from_public_key(bytes.fromhex(\"c782420144e8296f757328b409d01633bf8d09d8ab11ee70d32c204f6589bd24\"))"
   ]
  },
  {
   "cell_type": "markdown",
   "metadata": {},
   "source": [
    "Addresses can be converted from one representation to another as follows:"
   ]
  },
  {
   "cell_type": "code",
   "execution_count": null,
   "metadata": {},
   "outputs": [],
   "source": [
    "print(address.to_bech32())\n",
    "print(address.to_hex())"
   ]
  },
  {
   "cell_type": "markdown",
   "metadata": {},
   "source": [
    "Getting the shard of an address:"
   ]
  },
  {
   "cell_type": "code",
   "execution_count": null,
   "metadata": {},
   "outputs": [],
   "source": [
    "from dharitri_py_sdk import AddressComputer\n",
    "\n",
    "address_computer = AddressComputer(number_of_shards=3)\n",
    "print(\"Shard:\", address_computer.get_shard_of_address(address))"
   ]
  },
  {
   "cell_type": "markdown",
   "metadata": {},
   "source": [
    "Checking whether an address is a smart contract:"
   ]
  },
  {
   "cell_type": "code",
   "execution_count": null,
   "metadata": {},
   "outputs": [],
   "source": [
    "address = Address.new_from_bech32(\"drt1qqqqqqqqqqqqqpgquzmh78klkqwt0p4rjys0qtp3la07gz4d396qwgcss9\")\n",
    "\n",
    "print(\"Is contract:\", address.is_smart_contract())"
   ]
  },
  {
   "cell_type": "code",
   "execution_count": null,
   "metadata": {},
   "outputs": [],
   "source": []
  },
  {
   "cell_type": "markdown",
   "metadata": {},
   "source": [
    "## REWA / DCDT transfers"
   ]
  },
  {
   "cell_type": "markdown",
   "metadata": {},
   "source": [
    "Create an REWA transfer:"
   ]
  },
  {
   "cell_type": "code",
   "execution_count": null,
   "metadata": {},
   "outputs": [],
   "source": [
    "from dharitri_py_sdk import Transaction, TransactionsConverter\n",
    "\n",
    "transaction = Transaction(\n",
    "    sender=\"drt1c7pyyq2yaq5k7atn9z6qn5qkxwlc6zwc4vg7uuxn9ssy7evfh5jq4nm79l\",\n",
    "    receiver=\"drt18h03w0y7qtqwtra3u4f0gu7e3kn2fslj83lqxny39m5c4rwaectswerhd2\",\n",
    "    gas_limit=50000,\n",
    "    chain_id=\"D\",\n",
    "    nonce=77,\n",
    "    value=1000000000000000000\n",
    ")\n",
    "\n",
    "transaction_converter = TransactionsConverter()\n",
    "print(transaction_converter.transaction_to_dictionary(transaction))"
   ]
  },
  {
   "cell_type": "markdown",
   "metadata": {},
   "source": [
    "In case you are using a **guarded** account you should also populate the `guardian` and `guardian_signature` fields after creating the transaction."
   ]
  },
  {
   "cell_type": "markdown",
   "metadata": {},
   "source": [
    "We'll see later how to [sign](#signing-objects) and [broadcast](#broadcasting-transactions) a transaction."
   ]
  },
  {
   "cell_type": "markdown",
   "metadata": {},
   "source": [
    "Create an REWA transfer, but this time with a payload (data):"
   ]
  },
  {
   "cell_type": "code",
   "execution_count": null,
   "metadata": {},
   "outputs": [],
   "source": [
    "transaction = Transaction(\n",
    "    sender=\"drt1c7pyyq2yaq5k7atn9z6qn5qkxwlc6zwc4vg7uuxn9ssy7evfh5jq4nm79l\",\n",
    "    receiver=\"drt18h03w0y7qtqwtra3u4f0gu7e3kn2fslj83lqxny39m5c4rwaectswerhd2\",\n",
    "    gas_limit=50000,\n",
    "    chain_id=\"D\",\n",
    "    nonce=77,\n",
    "    value=1000000000000000000,\n",
    "    data=b\"for the book\"\n",
    ")\n",
    "\n",
    "print(transaction_converter.transaction_to_dictionary(transaction))"
   ]
  },
  {
   "cell_type": "markdown",
   "metadata": {},
   "source": [
    "Alternatively, we can create an REWA transfer using a **transaction factory** (as we will see below, transaction factories are more commonly used). But before that, we have to create a configuration object (for any factory that we might use):"
   ]
  },
  {
   "cell_type": "code",
   "execution_count": null,
   "metadata": {},
   "outputs": [],
   "source": [
    "from dharitri_py_sdk import TransactionsFactoryConfig\n",
    "\n",
    "config = TransactionsFactoryConfig(chain_id=\"D\")"
   ]
  },
  {
   "cell_type": "markdown",
   "metadata": {},
   "source": [
    "The **transaction factory** is parametrized at instantiation, and the transaction is obtained by invoking the `create_transaction...` method:"
   ]
  },
  {
   "cell_type": "code",
   "execution_count": null,
   "metadata": {},
   "outputs": [],
   "source": [
    "from dharitri_py_sdk import TransferTransactionsFactory\n",
    "\n",
    "transfer_factory = TransferTransactionsFactory(config=config)\n",
    "alice = Address.new_from_bech32(\"drt1c7pyyq2yaq5k7atn9z6qn5qkxwlc6zwc4vg7uuxn9ssy7evfh5jq4nm79l\")\n",
    "bob = Address.new_from_bech32(\"drt18h03w0y7qtqwtra3u4f0gu7e3kn2fslj83lqxny39m5c4rwaectswerhd2\")\n",
    "\n",
    "# With \"data\" field\n",
    "transaction = transfer_factory.create_transaction_for_native_token_transfer(\n",
    "    sender=alice,\n",
    "    receiver=bob,\n",
    "    native_amount=1000000000000000000,\n",
    "    data=\"for the book\"\n",
    ")\n",
    "\n",
    "print(\"Transaction:\", transaction_converter.transaction_to_dictionary(transaction))\n",
    "print(\"Transaction data:\", transaction.data.decode())"
   ]
  },
  {
   "cell_type": "markdown",
   "metadata": {},
   "source": [
    "Create a single DCDT transfer:"
   ]
  },
  {
   "cell_type": "code",
   "execution_count": null,
   "metadata": {},
   "outputs": [],
   "source": [
    "from dharitri_py_sdk import Token, TokenTransfer\n",
    "\n",
    "token = Token(\"TEST-8b028f\")\n",
    "transfer = TokenTransfer(token, 10000)\n",
    "\n",
    "transaction = transfer_factory.create_transaction_for_dcdt_token_transfer(\n",
    "    sender=alice,\n",
    "    receiver=bob,\n",
    "    token_transfers=[transfer]\n",
    ")\n",
    "\n",
    "print(\"Transaction:\", transaction_converter.transaction_to_dictionary(transaction))\n",
    "print(\"Transaction data:\", transaction.data.decode())"
   ]
  },
  {
   "cell_type": "markdown",
   "metadata": {},
   "source": [
    "Create a single NFT transfer:\n",
    "\n",
    "Keep in mind, since we are sending a NFT, we **should** set the amount to `1`."
   ]
  },
  {
   "cell_type": "code",
   "execution_count": null,
   "metadata": {},
   "outputs": [],
   "source": [
    "token = Token(identifier=\"TEST-38f249\", nonce=1)\n",
    "transfer = TokenTransfer(token=token, amount=1)\n",
    "\n",
    "transaction = transfer_factory.create_transaction_for_dcdt_token_transfer(\n",
    "    sender=alice,\n",
    "    receiver=bob,\n",
    "    token_transfers=[transfer]\n",
    ")\n",
    "\n",
    "print(\"Transaction:\", transaction_converter.transaction_to_dictionary(transaction))\n",
    "print(\"Transaction data:\", transaction.data.decode())"
   ]
  },
  {
   "cell_type": "markdown",
   "metadata": {},
   "source": [
    "Create a single SFT transfer (almost the same as above, the only difference being that for the transfer we set the desired amount, as an integer):"
   ]
  },
  {
   "cell_type": "code",
   "execution_count": null,
   "metadata": {},
   "outputs": [],
   "source": [
    "token = Token(identifier=\"SEMI-9efd0f\", nonce=1)\n",
    "transfer = TokenTransfer(token=token, amount=5)\n",
    "\n",
    "transaction = transfer_factory.create_transaction_for_dcdt_token_transfer(\n",
    "    sender=alice,\n",
    "    receiver=bob,\n",
    "    token_transfers=[transfer]\n",
    ")\n",
    "\n",
    "print(\"Transaction:\", transaction_converter.transaction_to_dictionary(transaction))\n",
    "print(\"Transaction data:\", transaction.data.decode())"
   ]
  },
  {
   "cell_type": "markdown",
   "metadata": {},
   "source": [
    "Create a multiple DCDT / NFT transfer:"
   ]
  },
  {
   "cell_type": "code",
   "execution_count": null,
   "metadata": {},
   "outputs": [],
   "source": [
    "first_token = Token(identifier=\"TEST-38f249\", nonce=1)\n",
    "first_transfer = TokenTransfer(token=first_token, amount=1)\n",
    "\n",
    "second_token = Token(identifier=\"BAR-c80d29\")\n",
    "second_transfer = TokenTransfer(token=second_token, amount=10000000000000000000)\n",
    "\n",
    "transaction = transfer_factory.create_transaction_for_dcdt_token_transfer(\n",
    "    sender=alice,\n",
    "    receiver=bob,\n",
    "    token_transfers=[first_transfer, second_transfer]\n",
    ")\n",
    "\n",
    "print(\"Transaction:\", transaction_converter.transaction_to_dictionary(transaction))\n",
    "print(\"Transaction data:\", transaction.data.decode())"
   ]
  },
  {
   "cell_type": "markdown",
   "metadata": {},
   "source": [
    "Additionally, we also have a method that combines the above methods and is able to identify the kind of transfer that we intend to perform based on it's parameters. The method can be used as follows:\n",
    "\n",
    "For native token tranfers:"
   ]
  },
  {
   "cell_type": "code",
   "execution_count": null,
   "metadata": {},
   "outputs": [],
   "source": [
    "from dharitri_py_sdk import TransferTransactionsFactory, TransactionsFactoryConfig\n",
    "\n",
    "transfer_factory = TransferTransactionsFactory(config=TransactionsFactoryConfig(chain_id=\"D\"))\n",
    "\n",
    "alice = Address.new_from_bech32(\"drt1c7pyyq2yaq5k7atn9z6qn5qkxwlc6zwc4vg7uuxn9ssy7evfh5jq4nm79l\")\n",
    "bob = Address.new_from_bech32(\"drt18h03w0y7qtqwtra3u4f0gu7e3kn2fslj83lqxny39m5c4rwaectswerhd2\")\n",
    "\n",
    "# With \"data\" field\n",
    "transaction = transfer_factory.create_transaction_for_transfer(\n",
    "    sender=alice,\n",
    "    receiver=bob,\n",
    "    native_amount=1000000000000000000,\n",
    "    data=\"for the book\".encode()\n",
    ")\n",
    "\n",
    "print(\"Transaction:\", transaction_converter.transaction_to_dictionary(transaction))\n",
    "print(\"Transaction data:\", transaction.data.decode())"
   ]
  },
  {
   "cell_type": "markdown",
   "metadata": {},
   "source": [
    "And for DCDT transfers:"
   ]
  },
  {
   "cell_type": "code",
   "execution_count": null,
   "metadata": {},
   "outputs": [],
   "source": [
    "first_token = Token(identifier=\"TEST-38f249\", nonce=1)\n",
    "first_transfer = TokenTransfer(token=first_token, amount=1)\n",
    "\n",
    "second_token = Token(identifier=\"BAR-c80d29\")\n",
    "second_transfer = TokenTransfer(token=second_token, amount=10000000000000000000)\n",
    "\n",
    "transaction = transfer_factory.create_transaction_for_transfer(\n",
    "    sender=alice,\n",
    "    receiver=bob,\n",
    "    token_transfers=[first_transfer, second_transfer]\n",
    ")\n",
    "\n",
    "print(\"Transaction:\", transaction_converter.transaction_to_dictionary(transaction))\n",
    "print(\"Transaction data:\", transaction.data.decode())"
   ]
  },
  {
   "cell_type": "markdown",
   "metadata": {},
   "source": [
    "Alternatively, the protocol will support (in the very near future) sending both native and dcdt tokens in the same transaction. If a `native_amount` is provided together with `token_transfers`, the native token will also be included in the `MultiDCDTNFTTrasfer` built-in function call."
   ]
  },
  {
   "cell_type": "code",
   "execution_count": null,
   "metadata": {},
   "outputs": [],
   "source": [
    "first_token = Token(identifier=\"TEST-38f249\", nonce=1)\n",
    "first_transfer = TokenTransfer(token=first_token, amount=1)\n",
    "\n",
    "second_token = Token(identifier=\"BAR-c80d29\")\n",
    "second_transfer = TokenTransfer(token=second_token, amount=10000000000000000000)\n",
    "\n",
    "transaction = transfer_factory.create_transaction_for_transfer(\n",
    "    sender=alice,\n",
    "    receiver=bob,\n",
    "    native_amount=1000000000000000000,\n",
    "    token_transfers=[first_transfer, second_transfer]\n",
    ")\n",
    "\n",
    "print(\"Transaction:\", transaction_converter.transaction_to_dictionary(transaction))\n",
    "print(\"Transaction data:\", transaction.data.decode())"
   ]
  },
  {
   "cell_type": "markdown",
   "metadata": {},
   "source": [
    "### Decoding Transactions"
   ]
  },
  {
   "cell_type": "markdown",
   "metadata": {},
   "source": [
    "For example, when sending multiple DCDT and NFT tokens, the receiver field of the transaction is the same as the sender field and also the value is set to `0` because all the information is encoded in the `data` field of the transaction.\n",
    "\n",
    "For decoding the data field we have a so called `TransactionDecoder`. We fetch the transaction from the network and then use the decoder."
   ]
  },
  {
   "cell_type": "code",
   "execution_count": null,
   "metadata": {},
   "outputs": [],
   "source": [
    "from dharitri_py_sdk import ProxyNetworkProvider, TransactionDecoder\n",
    "\n",
    "proxy = ProxyNetworkProvider(\"https://devnet-api.dharitri.org\")\n",
    "transaction = proxy.get_transaction(\"3e7b39f33f37716186b6ffa8761d066f2139bff65a1075864f612ca05c05c05d\")\n",
    "\n",
    "decoder = TransactionDecoder()\n",
    "decoded_transaction = decoder.get_transaction_metadata(transaction)\n",
    "\n",
    "print(decoded_transaction.to_dict())"
   ]
  },
  {
   "cell_type": "markdown",
   "metadata": {},
   "source": [
    "## Relayed Transactions"
   ]
  },
  {
   "cell_type": "markdown",
   "metadata": {},
   "source": [
    "First, we get the newtwork configuration using the network providers."
   ]
  },
  {
   "cell_type": "code",
   "execution_count": null,
   "metadata": {},
   "outputs": [],
   "source": [
    "from dharitri_py_sdk import ProxyNetworkProvider\n",
    "\n",
    "provider = ProxyNetworkProvider(\"https://devnet-gateway.dharitri.org\")\n",
    "network_config = provider.get_network_config()"
   ]
  },
  {
   "cell_type": "markdown",
   "metadata": {},
   "source": [
    "### Relayed V1"
   ]
  },
  {
   "cell_type": "markdown",
   "metadata": {},
   "source": [
    "This is still supported, but we advise you to use Relayed V3 instead."
   ]
  },
  {
   "cell_type": "code",
   "execution_count": null,
   "metadata": {},
   "outputs": [],
   "source": [
    "from pathlib import Path\n",
    "\n",
    "from dharitri_py_sdk import (Address, RelayedTransactionsFactory, Transaction,\n",
    "                            TransactionComputer, TransactionsFactoryConfig,\n",
    "                            UserSigner)\n",
    "\n",
    "signer = UserSigner.from_pem_file(Path(\"../dharitri_py_sdk/testutils/testwallets/bob.pem\"))\n",
    "transaction_computer = TransactionComputer()\n",
    "\n",
    "inner_tx = Transaction(\n",
    "    chain_id=network_config.chain_id,\n",
    "    sender=\"drt18h03w0y7qtqwtra3u4f0gu7e3kn2fslj83lqxny39m5c4rwaectswerhd2\",\n",
    "    receiver=\"drt1qqqqqqqqqqqqqpgqqczn0ccd2gh8eqdswln7w9vzctv0dwq7d8ssxfnjku\",\n",
    "    gas_limit=60000000,\n",
    "    nonce=198,\n",
    "    data=b\"add@05\"\n",
    ")\n",
    "inner_tx.signature = signer.sign(transaction_computer.compute_bytes_for_signing(inner_tx))\n",
    "\n",
    "config = TransactionsFactoryConfig(chain_id=\"D\")\n",
    "factory = RelayedTransactionsFactory(config=config)\n",
    "relayer = Address.new_from_bech32(\"drt1c7pyyq2yaq5k7atn9z6qn5qkxwlc6zwc4vg7uuxn9ssy7evfh5jq4nm79l\")\n",
    "\n",
    "relayed_tx = factory.create_relayed_v1_transaction(\n",
    "    inner_transaction=inner_tx,\n",
    "    relayer_address=relayer\n",
    ")\n",
    "relayed_tx.nonce = 2627\n",
    "\n",
    "print(transaction_converter.transaction_to_dictionary(relayed_tx))"
   ]
  },
  {
   "cell_type": "markdown",
   "metadata": {},
   "source": [
    "### Relayed V2"
   ]
  },
  {
   "cell_type": "markdown",
   "metadata": {},
   "source": [
    "This is still supported, but we advise you to use Relayed V3 instead."
   ]
  },
  {
   "cell_type": "code",
   "execution_count": null,
   "metadata": {},
   "outputs": [],
   "source": [
    "from pathlib import Path\n",
    "\n",
    "from dharitri_py_sdk import (Address, RelayedTransactionsFactory, Transaction,\n",
    "                            TransactionComputer, TransactionsFactoryConfig,\n",
    "                            UserSigner)\n",
    "\n",
    "signer = UserSigner.from_pem_file(Path(\"../dharitri_py_sdk/testutils/testwallets/bob.pem\"))\n",
    "transaction_computer = TransactionComputer()\n",
    "\n",
    "# for the relayedV2 transactions, the gasLimit for the inner transaction should be 0\n",
    "inner_tx = Transaction(\n",
    "            chain_id=network_config.chain_id,\n",
    "            sender=\"drt18h03w0y7qtqwtra3u4f0gu7e3kn2fslj83lqxny39m5c4rwaectswerhd2\",\n",
    "            receiver=\"drt1qqqqqqqqqqqqqpgqqczn0ccd2gh8eqdswln7w9vzctv0dwq7d8ssxfnjku\",\n",
    "            gas_limit=0,\n",
    "            nonce=15,\n",
    "            data=b\"add@05\"\n",
    "        )\n",
    "inner_tx.signature = signer.sign(transaction_computer.compute_bytes_for_signing(inner_tx))\n",
    "\n",
    "config = TransactionsFactoryConfig(chain_id=\"D\")\n",
    "factory = RelayedTransactionsFactory(config=config)\n",
    "relayer = Address.new_from_bech32(\"drt1c7pyyq2yaq5k7atn9z6qn5qkxwlc6zwc4vg7uuxn9ssy7evfh5jq4nm79l\")\n",
    "\n",
    "relayed_tx = factory.create_relayed_v2_transaction(\n",
    "    inner_transaction=inner_tx,\n",
    "    inner_transaction_gas_limit=60_000_000,\n",
    "    relayer_address=relayer\n",
    ")\n",
    "relayed_tx.nonce = 37\n",
    "\n",
    "print(transaction_converter.transaction_to_dictionary(relayed_tx))"
   ]
  },
  {
   "cell_type": "markdown",
   "metadata": {},
   "source": [
    "### Relayed V3\n",
    "\n",
    "This is the latest iteration of relayed transactions and we highly recommend using this version over the previous ones as soon as it becomes available on the network."
   ]
  },
  {
   "cell_type": "code",
   "execution_count": null,
   "metadata": {},
   "outputs": [],
   "source": [
    "from pathlib import Path\n",
    "\n",
    "from dharitri_py_sdk import (Address, RelayedTransactionsFactory, Transaction,\n",
    "                            TransactionComputer, TransactionsFactoryConfig,\n",
    "                            UserSigner)\n",
    "\n",
    "bob = UserSigner.from_pem_file(Path(\"../dharitri_py_sdk/testutils/testwallets/bob.pem\"))\n",
    "relayer = Address.new_from_bech32(\"drt1c7pyyq2yaq5k7atn9z6qn5qkxwlc6zwc4vg7uuxn9ssy7evfh5jq4nm79l\")\n",
    "\n",
    "inner_tx = Transaction(\n",
    "            chain_id=network_config.chain_id,\n",
    "            sender=\"drt18h03w0y7qtqwtra3u4f0gu7e3kn2fslj83lqxny39m5c4rwaectswerhd2\",\n",
    "            receiver=\"drt1qqqqqqqqqqqqqpgqqczn0ccd2gh8eqdswln7w9vzctv0dwq7d8ssxfnjku\",\n",
    "            gas_limit=60000,\n",
    "            nonce=15,\n",
    "            data=b\"hello\",\n",
    "            relayer=relayer.to_bech32()\n",
    "        )\n",
    "transaction_computer = TransactionComputer()\n",
    "inner_tx.signature = bob.sign(transaction_computer.compute_bytes_for_signing(inner_tx))\n",
    "\n",
    "config = TransactionsFactoryConfig(chain_id=\"D\")\n",
    "factory = RelayedTransactionsFactory(config=config)\n",
    "\n",
    "relayed_tx = factory.create_relayed_v3_transaction(\n",
    "    relayer_address=relayer,\n",
    "    inner_transactions=[inner_tx]\n",
    ")\n",
    "\n",
    "print(transaction_converter.transaction_to_dictionary(relayed_tx))"
   ]
  },
  {
   "cell_type": "markdown",
   "metadata": {},
   "source": [
    "A few things worth mentioning before moving further, the `data` field of the relayer's transaction **should not** be set and the relayer should be in the same shard as the sender of the inner transaction.\n",
    "\n",
    "Don't forget, after the Relayed V3 transaction is created, the `nonce` needs to be set and the transaction should be signed before broadcasting it."
   ]
  },
  {
   "cell_type": "markdown",
   "metadata": {},
   "source": [
    "## Contract ABIs\n",
    "\n",
    "A contract's ABI describes the endpoints, data structure and events that a contract exposes. While contract interactions are possible without the ABI, they are easier to implement when the definitions are available."
   ]
  },
  {
   "cell_type": "markdown",
   "metadata": {},
   "source": [
    "### Load the ABI from a file"
   ]
  },
  {
   "cell_type": "code",
   "execution_count": null,
   "metadata": {},
   "outputs": [],
   "source": [
    "from dharitri_py_sdk.abi import Abi, AbiDefinition\n",
    "\n",
    "abi_definition = AbiDefinition.load(Path(\"./contracts/adder.abi.json\"))\n",
    "abi = Abi(abi_definition)"
   ]
  },
  {
   "cell_type": "markdown",
   "metadata": {},
   "source": [
    "Or even simpler:"
   ]
  },
  {
   "cell_type": "code",
   "execution_count": null,
   "metadata": {},
   "outputs": [],
   "source": [
    "abi = Abi.load(Path(\"./contracts/adder.abi.json\"))"
   ]
  },
  {
   "cell_type": "markdown",
   "metadata": {},
   "source": [
    "### Manually construct the ABI"
   ]
  },
  {
   "cell_type": "markdown",
   "metadata": {},
   "source": [
    "If an ABI file isn't directly available, but you do have knowledge of the contract's endpoints and types, you can manually construct the ABI. Let's see a simple example:"
   ]
  },
  {
   "cell_type": "code",
   "execution_count": null,
   "metadata": {},
   "outputs": [],
   "source": [
    "abi_definition = AbiDefinition.from_dict({\n",
    "    \"endpoints\": [{\n",
    "        \"name\": \"add\",\n",
    "        \"inputs\": [\n",
    "            {\n",
    "                \"name\": \"value\",\n",
    "                \"type\": \"BigUint\"\n",
    "            }\n",
    "        ],\n",
    "        \"outputs\": []\n",
    "    }]\n",
    "})"
   ]
  },
  {
   "cell_type": "markdown",
   "metadata": {},
   "source": [
    "An endpoint with both inputs and outputs:"
   ]
  },
  {
   "cell_type": "code",
   "execution_count": null,
   "metadata": {},
   "outputs": [],
   "source": [
    "abi_definition = AbiDefinition.from_dict({\n",
    "    \"endpoints\": [\n",
    "        {\n",
    "            \"name\": \"foo\",\n",
    "            \"inputs\": [\n",
    "                { \"type\": \"BigUint\" },\n",
    "                { \"type\": \"u32\" },\n",
    "                { \"type\": \"Address\" }\n",
    "            ],\n",
    "            \"outputs\": [\n",
    "                { \"type\": \"u32\" }\n",
    "            ]\n",
    "        },\n",
    "        {\n",
    "            \"name\": \"bar\",\n",
    "            \"inputs\": [\n",
    "                { \"type\": \"counted-variadic<utf-8 string>\" },\n",
    "                { \"type\": \"variadic<u64>\" }\n",
    "            ],\n",
    "            \"outputs\": []\n",
    "        }\n",
    "    ]\n",
    "})"
   ]
  },
  {
   "cell_type": "markdown",
   "metadata": {},
   "source": [
    "## Contract deployments"
   ]
  },
  {
   "cell_type": "markdown",
   "metadata": {},
   "source": [
    "### Load the bytecode from a file"
   ]
  },
  {
   "cell_type": "code",
   "execution_count": null,
   "metadata": {},
   "outputs": [],
   "source": [
    "from pathlib import Path\n",
    "\n",
    "bytecode = Path(\"contracts/adder.wasm\").read_bytes()"
   ]
  },
  {
   "cell_type": "markdown",
   "metadata": {},
   "source": [
    "### Perform a contract deployment\n",
    "\n",
    "First, let's create a `SmartContractTransactionsFactory`:"
   ]
  },
  {
   "cell_type": "code",
   "execution_count": null,
   "metadata": {},
   "outputs": [],
   "source": [
    "from dharitri_py_sdk import SmartContractTransactionsFactory\n",
    "\n",
    "factory = SmartContractTransactionsFactory(config)"
   ]
  },
  {
   "cell_type": "markdown",
   "metadata": {},
   "source": [
    "If the contract ABI is available, provide it to the factory:"
   ]
  },
  {
   "cell_type": "code",
   "execution_count": null,
   "metadata": {},
   "outputs": [],
   "source": [
    "abi = Abi.load(Path(\"contracts/adder.abi.json\"))\n",
    "factory = SmartContractTransactionsFactory(config, abi)"
   ]
  },
  {
   "cell_type": "markdown",
   "metadata": {},
   "source": [
    "Now, prepare the deploy transaction:"
   ]
  },
  {
   "cell_type": "code",
   "execution_count": null,
   "metadata": {},
   "outputs": [],
   "source": [
    "from dharitri_py_sdk.abi import U32Value\n",
    "\n",
    "# For deploy arguments, use typed value objects if you haven't provided an ABI to the factory:\n",
    "args = [U32Value(42)]\n",
    "# Or use simple, plain Python values and objects if you have provided an ABI to the factory:\n",
    "args = [42]\n",
    "\n",
    "deploy_transaction = factory.create_transaction_for_deploy(\n",
    "    sender=alice,\n",
    "    bytecode=bytecode,\n",
    "    arguments=args,\n",
    "    gas_limit=10000000,\n",
    "    is_upgradeable=True,\n",
    "    is_readable=True,\n",
    "    is_payable=True,\n",
    "    is_payable_by_sc=True\n",
    ")\n",
    "\n",
    "print(\"Transaction:\", transaction_converter.transaction_to_dictionary(deploy_transaction))\n",
    "print(\"Transaction data:\", deploy_transaction.data.decode())"
   ]
  },
  {
   "cell_type": "markdown",
   "metadata": {},
   "source": [
    "When creating transactions using `SmartContractTransactionsFactory`, even if the ABI is available and provided,\n",
    "you can still use _typed value_ objects as arguments for deployments and interactions.\n",
    "\n",
    "Even further, you can use a mix of _typed value_ objects and plain Python values and objects. For example:\n",
    "```\n",
    "args = [U32Value(42), \"hello\", { \"foo\": \"bar\" }, TokenIdentifierValue(\"TEST-abcdef\")];\n",
    "```"
   ]
  },
  {
   "cell_type": "markdown",
   "metadata": {},
   "source": [
    "Setting the transaction nonce, signing a transaction and broadcasting it are depicted in a later section."
   ]
  },
  {
   "cell_type": "markdown",
   "metadata": {},
   "source": [
    "### Computing the contract address"
   ]
  },
  {
   "cell_type": "markdown",
   "metadata": {},
   "source": [
    "Even before broadcasting, at the moment you know the sender address and the nonce for your deployment transaction, you can (deterministically) compute the (upcoming) address of the contract:"
   ]
  },
  {
   "cell_type": "code",
   "execution_count": null,
   "metadata": {},
   "outputs": [],
   "source": [
    "from dharitri_py_sdk import AddressComputer\n",
    "\n",
    "address_computer = AddressComputer()\n",
    "contract_address = address_computer.compute_contract_address(\n",
    "    deployer=Address.new_from_bech32(deploy_transaction.sender),\n",
    "    deployment_nonce=deploy_transaction.nonce\n",
    ")\n",
    "\n",
    "print(\"Contract address:\", contract_address.to_bech32())"
   ]
  },
  {
   "cell_type": "markdown",
   "metadata": {},
   "source": [
    "### Parsing transaction outcome"
   ]
  },
  {
   "cell_type": "markdown",
   "metadata": {},
   "source": [
    "In the end, you can parse the results using a `SmartContractTransactionsOutcomeParser`. However, since the `parse_deploy` method requires a `TransactionOutcome` object as input, we need to first convert our `TransactionOnNetwork` object to a `TransactionOutcome`, by means of a `TransactionsConverter`."
   ]
  },
  {
   "cell_type": "code",
   "execution_count": null,
   "metadata": {},
   "outputs": [],
   "source": [
    "from dharitri_py_sdk import (SmartContractTransactionsOutcomeParser,\n",
    "                            TransactionsConverter)\n",
    "\n",
    "converter = TransactionsConverter()\n",
    "parser = SmartContractTransactionsOutcomeParser()\n",
    "\n",
    "transaction_on_network = proxy.get_transaction(\"0a7da74038244790b5bd4cd614c26cd5a6be76a6fcfcfb037974cc116b2ee9c6\")\n",
    "transaction_outcome = converter.transaction_on_network_to_outcome(transaction_on_network)\n",
    "parsed_outcome = parser.parse_deploy(transaction_outcome)\n",
    "\n",
    "print(parsed_outcome)"
   ]
  },
  {
   "cell_type": "markdown",
   "metadata": {},
   "source": [
    "## Contract upgrades"
   ]
  },
  {
   "cell_type": "markdown",
   "metadata": {},
   "source": [
    "Contract upgrade transactions are similar to deployment transactions (see above), in the sense that they also require a contract bytecode. In this context, though, the contract address is already known."
   ]
  },
  {
   "cell_type": "code",
   "execution_count": null,
   "metadata": {},
   "outputs": [],
   "source": [
    "contract_address = Address.new_from_bech32(\"drt1qqqqqqqqqqqqqpgquzmh78klkqwt0p4rjys0qtp3la07gz4d396qwgcss9\")\n",
    "bytecode = Path(\"./contracts/adder.wasm\").read_bytes()\n",
    "\n",
    "upgrade_transaction = factory.create_transaction_for_upgrade(\n",
    "    sender=alice,\n",
    "    contract=contract_address,\n",
    "    bytecode=bytecode,\n",
    "    gas_limit=10000000,\n",
    "    arguments=[42],\n",
    "    is_upgradeable=True,\n",
    "    is_readable=True,\n",
    "    is_payable=True,\n",
    "    is_payable_by_sc=True\n",
    ")\n",
    "\n",
    "print(\"Transaction:\", transaction_converter.transaction_to_dictionary(upgrade_transaction))\n",
    "print(\"Transaction data:\", upgrade_transaction.data.decode())"
   ]
  },
  {
   "cell_type": "markdown",
   "metadata": {},
   "source": [
    "## Contract interactions"
   ]
  },
  {
   "cell_type": "markdown",
   "metadata": {},
   "source": [
    "The recommended way to create transactions for calling (and, for that matter, deploying and upgrading) smart contracts is through a `SmartContractTransactionsFactory`."
   ]
  },
  {
   "cell_type": "code",
   "execution_count": null,
   "metadata": {},
   "outputs": [],
   "source": [
    "from dharitri_py_sdk import SmartContractTransactionsFactory\n",
    "\n",
    "factory = SmartContractTransactionsFactory(config)"
   ]
  },
  {
   "cell_type": "markdown",
   "metadata": {},
   "source": [
    "If the contract ABI is available, provide it to the factory:"
   ]
  },
  {
   "cell_type": "code",
   "execution_count": null,
   "metadata": {},
   "outputs": [],
   "source": [
    "abi = Abi.load(Path(\"contracts/adder.abi.json\"))\n",
    "factory = SmartContractTransactionsFactory(config, abi)"
   ]
  },
  {
   "cell_type": "markdown",
   "metadata": {},
   "source": [
    "### Regular interactions"
   ]
  },
  {
   "cell_type": "markdown",
   "metadata": {},
   "source": [
    "Now, let's prepare a contract transaction, to call the `add` function of our previously deployed smart contract:"
   ]
  },
  {
   "cell_type": "code",
   "execution_count": null,
   "metadata": {},
   "outputs": [],
   "source": [
    "contract_address = Address.new_from_bech32(\"drt1qqqqqqqqqqqqqpgqws44xjx2t056nn79fn29q0rjwfrd3m43396qzdr496\")\n",
    "\n",
    "# For arguments, use typed value objects if you haven't provided an ABI to the factory:\n",
    "args = [U32Value(42)]\n",
    "# Or use simple, plain Python values and objects if you have provided an ABI to the factory:\n",
    "args = [42]\n",
    "\n",
    "transaction = factory.create_transaction_for_execute(\n",
    "    sender=alice,\n",
    "    contract=contract_address,\n",
    "    function=\"add\",\n",
    "    gas_limit=10000000,\n",
    "    arguments=args\n",
    ")\n",
    "\n",
    "print(\"Transaction:\", transaction_converter.transaction_to_dictionary(transaction))\n",
    "print(\"Transaction data:\", transaction.data.decode())"
   ]
  },
  {
   "cell_type": "markdown",
   "metadata": {},
   "source": [
    "When creating transactions using `SmartContractTransactionsFactory`, even if the ABI is available and provided,\n",
    "you can still use _typed value_ objects as arguments for deployments and interactions.\n",
    "\n",
    "Even further, you can use a mix of _typed value_ objects and plain Python values and objects. For example:\n",
    "```\n",
    "args = [U32Value(42), \"hello\", { \"foo\": \"bar\" }, TokenIdentifierValue(\"TEST-abcdef\")];\n",
    "```"
   ]
  },
  {
   "cell_type": "markdown",
   "metadata": {},
   "source": [
    "Setting the transaction nonce, signing a transaction and broadcasting it are depicted in a later section."
   ]
  },
  {
   "cell_type": "markdown",
   "metadata": {},
   "source": [
    "### Transfer & execute"
   ]
  },
  {
   "cell_type": "markdown",
   "metadata": {},
   "source": [
    "At times, you may want to send some tokens (native REWA or DCDT) along with the contract call.\n",
    "\n",
    "For transfer & execute with native REWA, prepare your transaction as follows:"
   ]
  },
  {
   "cell_type": "code",
   "execution_count": null,
   "metadata": {},
   "outputs": [],
   "source": [
    "transaction = factory.create_transaction_for_execute(\n",
    "    sender=alice,\n",
    "    contract=contract_address,\n",
    "    function=\"add\",\n",
    "    gas_limit=10000000,\n",
    "    arguments=[42],\n",
    "    native_transfer_amount=1000000000000000000\n",
    ")"
   ]
  },
  {
   "cell_type": "markdown",
   "metadata": {},
   "source": [
    "Above, we're sending 1 REWA along with the contract call.\n",
    "\n",
    "For transfer & execute with DCDT tokens, prepare your transaction as follows:"
   ]
  },
  {
   "cell_type": "code",
   "execution_count": null,
   "metadata": {},
   "outputs": [],
   "source": [
    "first_token = Token(\"TEST-38f249\", 1)\n",
    "first_transfer = TokenTransfer(first_token, 1)\n",
    "\n",
    "second_token = Token(\"BAR-c80d29\")\n",
    "second_transfer = TokenTransfer(second_token, 10000000000000000000)\n",
    "\n",
    "transfers = [first_transfer, second_transfer]\n",
    "\n",
    "transaction = factory.create_transaction_for_execute(\n",
    "    sender=alice,\n",
    "    contract=contract_address,\n",
    "    function=\"add\",\n",
    "    gas_limit=10000000,\n",
    "    arguments=[42],\n",
    "    token_transfers=transfers\n",
    ")\n",
    "\n",
    "print(\"Transaction:\", transaction_converter.transaction_to_dictionary(transaction))\n",
    "print(\"Transaction data:\", transaction.data.decode())"
   ]
  },
  {
   "cell_type": "markdown",
   "metadata": {},
   "source": [
    "### Parsing transaction outcome\n",
    "\n",
    "Documentation in this section is preliminary and subject to change."
   ]
  },
  {
   "cell_type": "markdown",
   "metadata": {},
   "source": [
    "### Decode transaction events"
   ]
  },
  {
   "cell_type": "markdown",
   "metadata": {},
   "source": [
    "You might be interested into decoding events emitted by a contract. You can do so by using the [`TransactionEventsParser`](#).\n",
    "\n",
    "Suppose we'd like to decode a `startPerformAction` event emitted by the [multisig](https://github.com/TerraDharitri/drt-rs-contracts/tree/main/contracts/multisig) contract.\n",
    "\n",
    "Let's fetch an already processed [transaction](https://devnet-explorer.dharitri.org/transactions/05d445cdd145ecb20374844dcc67f0b1e370b9aa28a47492402bc1a150c2bab4), to serve as an exmple, and convert it to a [TransactionOutcome](https://TerraDharitri.github.io/drt-py-sdk/_modules/dharitri_py_sdk/core/transactions_outcome_parsers/resources.html#TransactionOutcome)."
   ]
  },
  {
   "cell_type": "code",
   "execution_count": null,
   "metadata": {},
   "outputs": [],
   "source": [
    "from dharitri_py_sdk import ApiNetworkProvider, TransactionsConverter\n",
    "\n",
    "api = ApiNetworkProvider(\"https://testnet-api.dharitri.org\")\n",
    "converter = TransactionsConverter()\n",
    "\n",
    "transaction_on_network = api.get_transaction(\"6f006c99e45525c94629db2442d9ca27ff088ad113a09f0a3a3e24bcc164945a\")\n",
    "transaction_outcome = converter.transaction_on_network_to_outcome(transaction_on_network)"
   ]
  },
  {
   "cell_type": "markdown",
   "metadata": {},
   "source": [
    "Now, lets find and parse the event we are interested in."
   ]
  },
  {
   "cell_type": "code",
   "execution_count": null,
   "metadata": {},
   "outputs": [],
   "source": [
    "from dharitri_py_sdk import TransactionEventsParser, find_events_by_first_topic\n",
    "from dharitri_py_sdk.abi import Abi\n",
    "\n",
    "abi = Abi.load(Path(\"./contracts/multisig-full.abi.json\"))\n",
    "events_parser = TransactionEventsParser(abi)\n",
    "\n",
    "[event] = find_events_by_first_topic(transaction_outcome, \"startPerformAction\")\n",
    "parsed_event = events_parser.parse_event(event)\n",
    "\n",
    "print(parsed_event)"
   ]
  },
  {
   "cell_type": "markdown",
   "metadata": {},
   "source": [
    "## Contract queries"
   ]
  },
  {
   "cell_type": "markdown",
   "metadata": {},
   "source": [
    "In order to perform Smart Contract queries, we recommend the use of `SmartContractQueriesController`.\n",
    "\n",
    "You will notice that the `SmartContractQueriesController` requires a `QueryRunner` object at initialization. A `NetworkProvider`, slighly adapted, is used to satisfy this requirement (more details about **network providers** can be found in a later section)."
   ]
  },
  {
   "cell_type": "code",
   "execution_count": null,
   "metadata": {},
   "outputs": [],
   "source": [
    "from dharitri_py_sdk import (ProxyNetworkProvider, QueryRunnerAdapter,\n",
    "                            SmartContractQueriesController)\n",
    "\n",
    "contract = Address.new_from_bech32(\"drt1qqqqqqqqqqqqqpgqqy34h7he2ya6qcagqre7ur7cc65vt0mxrc8qwq64qt\")\n",
    "query_runner = QueryRunnerAdapter(ProxyNetworkProvider(\"https://devnet-api.dharitri.org\"))\n",
    "\n",
    "query_controller = SmartContractQueriesController(query_runner)\n"
   ]
  },
  {
   "cell_type": "markdown",
   "metadata": {},
   "source": [
    "If the contract ABI is available, provide it to the controller:"
   ]
  },
  {
   "cell_type": "code",
   "execution_count": null,
   "metadata": {},
   "outputs": [],
   "source": [
    "abi = Abi.load(Path(\"contracts/adder.abi.json\"))\n",
    "query_controller = SmartContractQueriesController(query_runner, abi)"
   ]
  },
  {
   "cell_type": "markdown",
   "metadata": {},
   "source": [
    "Query the contract as follows:"
   ]
  },
  {
   "cell_type": "code",
   "execution_count": null,
   "metadata": {},
   "outputs": [],
   "source": [
    "data_parts = query_controller.query(\n",
    "    contract=contract.to_bech32(),\n",
    "    function=\"getSum\",\n",
    "    arguments=[],\n",
    ")\n",
    "\n",
    "print(\"Return data (parsed):\", data_parts)"
   ]
  },
  {
   "cell_type": "markdown",
   "metadata": {},
   "source": [
    "For finer control, first create a contract query, then run it and parse the outcome at a later time:"
   ]
  },
  {
   "cell_type": "code",
   "execution_count": null,
   "metadata": {},
   "outputs": [],
   "source": [
    "query = query_controller.create_query(\n",
    "    contract=contract.to_bech32(),\n",
    "    function=\"getSum\",\n",
    "    arguments=[],\n",
    ")\n",
    "\n",
    "response = query_controller.run_query(query)\n",
    "data_parts = query_controller.parse_query_response(response)\n",
    "\n",
    "print(\"Return code:\", response.return_code)\n",
    "print(\"Return data (raw):\", response.return_data_parts)\n",
    "print(\"Return data (parsed):\", data_parts)"
   ]
  },
  {
   "cell_type": "markdown",
   "metadata": {},
   "source": [
    "## Creating wallets"
   ]
  },
  {
   "cell_type": "markdown",
   "metadata": {},
   "source": [
    "Mnemonic generation is based on [`trezor/python-mnemonic`](https://github.com/trezor/python-mnemonic) and can be achieved as follows:"
   ]
  },
  {
   "cell_type": "code",
   "execution_count": null,
   "metadata": {},
   "outputs": [],
   "source": [
    "from dharitri_py_sdk import Mnemonic\n",
    "\n",
    "mnemonic = Mnemonic.generate()\n",
    "words = mnemonic.get_words()\n",
    "\n",
    "print(words)"
   ]
  },
  {
   "attachments": {},
   "cell_type": "markdown",
   "metadata": {},
   "source": [
    "The mnemonic can be saved to a keystore file:"
   ]
  },
  {
   "cell_type": "code",
   "execution_count": null,
   "metadata": {},
   "outputs": [],
   "source": [
    "from pathlib import Path\n",
    "from dharitri_py_sdk import UserWallet\n",
    "\n",
    "path = Path(\"./output\")\n",
    "if not path.exists():\n",
    "    path.mkdir(parents=True, exist_ok=True)\n",
    "\n",
    "wallet = UserWallet.from_mnemonic(mnemonic.get_text(), \"password\")\n",
    "wallet.save(path / \"walletWithMnemonic.json\")"
   ]
  },
  {
   "cell_type": "markdown",
   "metadata": {},
   "source": [
    "Given a mnemonic, one can derive keypairs:"
   ]
  },
  {
   "cell_type": "code",
   "execution_count": null,
   "metadata": {},
   "outputs": [],
   "source": [
    "secret_key = mnemonic.derive_key(0)\n",
    "public_key = secret_key.generate_public_key()\n",
    "\n",
    "print(\"Secret key:\", secret_key.hex())\n",
    "print(\"Public key:\", public_key.hex())"
   ]
  },
  {
   "attachments": {},
   "cell_type": "markdown",
   "metadata": {},
   "source": [
    "A keypair can be saved as a JSON wallet:"
   ]
  },
  {
   "cell_type": "code",
   "execution_count": null,
   "metadata": {},
   "outputs": [],
   "source": [
    "path = Path(\"./output\")\n",
    "if not path.exists():\n",
    "    path.mkdir(parents=True, exist_ok=True)\n",
    "\n",
    "wallet = UserWallet.from_secret_key(secret_key, \"password\")\n",
    "wallet.save(path / \"wallet.json\", address_hrp=\"drt\")"
   ]
  },
  {
   "cell_type": "markdown",
   "metadata": {},
   "source": [
    "... or as a PEM wallet (usually not recommended):"
   ]
  },
  {
   "cell_type": "code",
   "execution_count": null,
   "metadata": {},
   "outputs": [],
   "source": [
    "from dharitri_py_sdk import Address, UserPEM\n",
    "\n",
    "path = Path(\"./output\")\n",
    "if not path.exists():\n",
    "    path.mkdir(parents=True, exist_ok=True)\n",
    "\n",
    "label = Address(public_key.buffer, \"drt\").to_bech32()\n",
    "pem = UserPEM(label=label, secret_key=secret_key)\n",
    "pem.save(path / \"wallet.pem\")"
   ]
  },
  {
   "cell_type": "markdown",
   "metadata": {},
   "source": [
    "## Loading wallets"
   ]
  },
  {
   "cell_type": "markdown",
   "metadata": {},
   "source": [
    "This is not a very common use-case - you might refer to [signing objects](#signing-objects) instead."
   ]
  },
  {
   "attachments": {},
   "cell_type": "markdown",
   "metadata": {},
   "source": [
    "Load a keystore that holds an **encrypted mnemonic** (and perform wallet derivation at the same time):"
   ]
  },
  {
   "cell_type": "code",
   "execution_count": null,
   "metadata": {},
   "outputs": [],
   "source": [
    "from dharitri_py_sdk import UserWallet\n",
    "\n",
    "secret_key = UserWallet.load_secret_key(Path(\"../dharitri_py_sdk/testutils/testwallets/withDummyMnemonic.json\"), \"password\", address_index=0)\n",
    "address = secret_key.generate_public_key().to_address(\"drt\")\n",
    "\n",
    "print(\"Secret key:\", secret_key.hex())\n",
    "print(\"Address:\", address.to_bech32())"
   ]
  },
  {
   "attachments": {},
   "cell_type": "markdown",
   "metadata": {},
   "source": [
    "Load a keystore that holds an **encrypted secret** key:"
   ]
  },
  {
   "cell_type": "code",
   "execution_count": null,
   "metadata": {},
   "outputs": [],
   "source": [
    "secret_key = UserWallet.load_secret_key(Path(\"../dharitri_py_sdk/testutils/testwallets/alice.json\"), \"password\")\n",
    "address = secret_key.generate_public_key().to_address(\"drt\")\n",
    "\n",
    "print(\"Secret key:\", secret_key.hex())\n",
    "print(\"Address:\", address.to_bech32())"
   ]
  },
  {
   "attachments": {},
   "cell_type": "markdown",
   "metadata": {},
   "source": [
    "Load the secret key from a PEM file:"
   ]
  },
  {
   "cell_type": "code",
   "execution_count": null,
   "metadata": {},
   "outputs": [],
   "source": [
    "from dharitri_py_sdk import UserPEM\n",
    "\n",
    "pem = UserPEM.from_file(Path(\"../dharitri_py_sdk/testutils/testwallets/alice.pem\"))\n",
    "\n",
    "print(\"Secret key:\", pem.secret_key.hex())\n",
    "print(\"Public key:\", pem.public_key.hex())"
   ]
  },
  {
   "cell_type": "markdown",
   "metadata": {},
   "source": [
    "## Signing objects"
   ]
  },
  {
   "cell_type": "markdown",
   "metadata": {},
   "source": [
    "Creating a `UserSigner` from a JSON wallet:"
   ]
  },
  {
   "cell_type": "code",
   "execution_count": null,
   "metadata": {},
   "outputs": [],
   "source": [
    "from dharitri_py_sdk import UserSigner\n",
    "\n",
    "signer = UserSigner.from_wallet(Path(\"../dharitri_py_sdk/testutils/testwallets/alice.json\"), \"password\")"
   ]
  },
  {
   "cell_type": "markdown",
   "metadata": {},
   "source": [
    "Creating a `UserSigner` from a PEM file:"
   ]
  },
  {
   "cell_type": "code",
   "execution_count": null,
   "metadata": {},
   "outputs": [],
   "source": [
    "signer = UserSigner.from_pem_file(Path(\"../dharitri_py_sdk/testutils/testwallets/alice.pem\"))"
   ]
  },
  {
   "cell_type": "markdown",
   "metadata": {},
   "source": [
    "Signing a transaction:"
   ]
  },
  {
   "cell_type": "code",
   "execution_count": null,
   "metadata": {},
   "outputs": [],
   "source": [
    "from dharitri_py_sdk import Transaction, TransactionComputer\n",
    "\n",
    "tx = Transaction(\n",
    "    nonce=90,\n",
    "    sender=\"drt1c7pyyq2yaq5k7atn9z6qn5qkxwlc6zwc4vg7uuxn9ssy7evfh5jq4nm79l\",\n",
    "    receiver=\"drt18h03w0y7qtqwtra3u4f0gu7e3kn2fslj83lqxny39m5c4rwaectswerhd2\",\n",
    "    value=1000000000000000000,\n",
    "    gas_limit=50000,\n",
    "    chain_id=\"D\"\n",
    ")\n",
    "\n",
    "transaction_computer = TransactionComputer()\n",
    "\n",
    "tx.signature = signer.sign(transaction_computer.compute_bytes_for_signing(tx))\n",
    "print(\"Signature:\", tx.signature.hex())"
   ]
  },
  {
   "cell_type": "markdown",
   "metadata": {},
   "source": [
    "Signing an arbitrary message:"
   ]
  },
  {
   "cell_type": "code",
   "execution_count": null,
   "metadata": {},
   "outputs": [],
   "source": [
    "from dharitri_py_sdk import Message, MessageComputer\n",
    "\n",
    "signer_address = signer.get_pubkey().to_address(hrp=\"drt\")\n",
    "message = Message(b\"hello\")\n",
    "message_computer = MessageComputer()\n",
    "\n",
    "message.signature = signer.sign(message_computer.compute_bytes_for_signing(message))\n",
    "\n",
    "print(\"Signature:\", message.signature.hex())"
   ]
  },
  {
   "cell_type": "markdown",
   "metadata": {},
   "source": [
    "## Verifying signatures"
   ]
  },
  {
   "cell_type": "markdown",
   "metadata": {},
   "source": [
    "Creating a `UserVerifier`:"
   ]
  },
  {
   "cell_type": "code",
   "execution_count": null,
   "metadata": {},
   "outputs": [],
   "source": [
    "from dharitri_py_sdk import Address, UserVerifier\n",
    "\n",
    "alice = Address.new_from_bech32(\"drt1c7pyyq2yaq5k7atn9z6qn5qkxwlc6zwc4vg7uuxn9ssy7evfh5jq4nm79l\")\n",
    "bob = Address.new_from_bech32(\"drt18h03w0y7qtqwtra3u4f0gu7e3kn2fslj83lqxny39m5c4rwaectswerhd2\")\n",
    "\n",
    "alice_verifier = UserVerifier.from_address(alice)\n",
    "bob_verifier = UserVerifier.from_address(bob)"
   ]
  },
  {
   "cell_type": "markdown",
   "metadata": {},
   "source": [
    "Verifying a signature:"
   ]
  },
  {
   "cell_type": "code",
   "execution_count": null,
   "metadata": {},
   "outputs": [],
   "source": [
    "from dharitri_py_sdk import MessageComputer, TransactionComputer\n",
    "\n",
    "transaction_computer = TransactionComputer()\n",
    "message_computer = MessageComputer()\n",
    "\n",
    "print(f\"Is signature of Alice?\", alice_verifier.verify(transaction_computer.compute_bytes_for_signing(tx), tx.signature))\n",
    "print(f\"Is signature of Alice?\", alice_verifier.verify(message_computer.compute_bytes_for_verifying(message), message.signature))\n",
    "print(f\"Is signature of Bob?\", bob_verifier.verify(transaction_computer.compute_bytes_for_signing(tx), tx.signature))\n",
    "print(f\"Is signature of Bob?\", bob_verifier.verify(message_computer.compute_bytes_for_verifying(message), message.signature))"
   ]
  },
  {
   "cell_type": "markdown",
   "metadata": {},
   "source": [
    "## Creating network providers"
   ]
  },
  {
   "cell_type": "markdown",
   "metadata": {},
   "source": [
    "It's recommended to use the `dharitri_py_sdk_network_providers` components **as a starting point**. As your application matures, switch to using your own network provider (e.g. deriving from the default ones), tailored to your requirements."
   ]
  },
  {
   "cell_type": "markdown",
   "metadata": {},
   "source": [
    "Creating an API provider:"
   ]
  },
  {
   "cell_type": "code",
   "execution_count": null,
   "metadata": {},
   "outputs": [],
   "source": [
    "from dharitri_py_sdk import ApiNetworkProvider\n",
    "\n",
    "provider = ApiNetworkProvider(\"https://devnet-api.dharitri.org\")"
   ]
  },
  {
   "cell_type": "markdown",
   "metadata": {},
   "source": [
    "Creating a Proxy provider:"
   ]
  },
  {
   "cell_type": "code",
   "execution_count": null,
   "metadata": {},
   "outputs": [],
   "source": [
    "from dharitri_py_sdk import ProxyNetworkProvider\n",
    "\n",
    "provider = ProxyNetworkProvider(\"https://devnet-gateway.dharitri.org\")"
   ]
  },
  {
   "cell_type": "markdown",
   "metadata": {},
   "source": [
    "## Fetching network parameters"
   ]
  },
  {
   "cell_type": "markdown",
   "metadata": {},
   "source": [
    "In order to fetch network parameters, do as follows:"
   ]
  },
  {
   "cell_type": "code",
   "execution_count": null,
   "metadata": {},
   "outputs": [],
   "source": [
    "config = provider.get_network_config()\n",
    "\n",
    "print(\"Chain ID:\", config.chain_id)\n",
    "print(\"Min gas price:\", config.min_gas_price)"
   ]
  },
  {
   "cell_type": "markdown",
   "metadata": {},
   "source": [
    "## Fetching account state"
   ]
  },
  {
   "cell_type": "markdown",
   "metadata": {},
   "source": [
    "The following snippet fetches (from the Network) the **nonce** and the **balance** of an account:"
   ]
  },
  {
   "cell_type": "code",
   "execution_count": null,
   "metadata": {},
   "outputs": [],
   "source": [
    "account_on_network = provider.get_account(alice)\n",
    "\n",
    "print(\"Nonce:\", account_on_network.nonce)\n",
    "print(\"Balance:\", account_on_network.balance)"
   ]
  },
  {
   "cell_type": "markdown",
   "metadata": {},
   "source": [
    "When sending a number of transactions, you usually have to first fetch the account nonce from the network (see above), then manage it locally (e.g. increment upon signing & broadcasting a transaction):"
   ]
  },
  {
   "cell_type": "code",
   "execution_count": null,
   "metadata": {},
   "outputs": [],
   "source": [
    "from dharitri_py_sdk import AccountNonceHolder\n",
    "\n",
    "nonce_holder = AccountNonceHolder(account_on_network.nonce)\n",
    "\n",
    "tx.nonce = nonce_holder.get_nonce_then_increment()\n",
    "# Then, sign & broadcast the transaction(s)."
   ]
  },
  {
   "cell_type": "markdown",
   "metadata": {},
   "source": [
    "For further reference, please see [nonce management](https://docs.dharitri.org/integrators/creating-transactions/#nonce-management)."
   ]
  },
  {
   "cell_type": "markdown",
   "metadata": {},
   "source": [
    "## Broadcasting transactions"
   ]
  },
  {
   "cell_type": "markdown",
   "metadata": {},
   "source": [
    "Broadcast a single transaction:"
   ]
  },
  {
   "cell_type": "code",
   "execution_count": null,
   "metadata": {},
   "outputs": [],
   "source": [
    "alice = Address.new_from_bech32(\"drt1c7pyyq2yaq5k7atn9z6qn5qkxwlc6zwc4vg7uuxn9ssy7evfh5jq4nm79l\")\n",
    "\n",
    "tx = Transaction(\n",
    "    sender=alice.to_bech32(),\n",
    "    receiver=alice.to_bech32(),\n",
    "    gas_limit=50000,\n",
    "    chain_id=\"D\"\n",
    ")\n",
    "\n",
    "alice_on_network = provider.get_account(alice)\n",
    "\n",
    "tx.nonce = alice_on_network.nonce\n",
    "tx.signature = signer.sign(transaction_computer.compute_bytes_for_signing(tx))\n",
    "\n",
    "hash = provider.send_transaction(tx)\n",
    "print(\"Transaction hash:\", hash)"
   ]
  },
  {
   "cell_type": "markdown",
   "metadata": {},
   "source": [
    "Broadcast multiple transactions:"
   ]
  },
  {
   "cell_type": "code",
   "execution_count": null,
   "metadata": {},
   "outputs": [],
   "source": [
    "tx_1 = Transaction(\n",
    "    sender=alice.to_bech32(),\n",
    "    receiver=alice.to_bech32(),\n",
    "    gas_limit=50000,\n",
    "    chain_id=\"D\"\n",
    ")\n",
    "\n",
    "tx_2 = Transaction(\n",
    "    sender=alice.to_bech32(),\n",
    "    receiver=alice.to_bech32(),\n",
    "    gas_limit=50000,\n",
    "    chain_id=\"D\"\n",
    ")\n",
    "\n",
    "tx_3 = Transaction(\n",
    "    sender=alice.to_bech32(),\n",
    "    receiver=alice.to_bech32(),\n",
    "    gas_limit=50000,\n",
    "    chain_id=\"D\"\n",
    ")\n",
    "\n",
    "alice_on_network = provider.get_account(alice)\n",
    "nonce_holder = AccountNonceHolder(account_on_network.nonce)\n",
    "\n",
    "tx_1.nonce = nonce_holder.get_nonce_then_increment()\n",
    "tx_2.nonce = nonce_holder.get_nonce_then_increment()\n",
    "tx_3.nonce = nonce_holder.get_nonce_then_increment()\n",
    "\n",
    "tx_1.signature = signer.sign(transaction_computer.compute_bytes_for_signing(tx_1))\n",
    "tx_2.signature = signer.sign(transaction_computer.compute_bytes_for_signing(tx_2))\n",
    "tx_3.signature = signer.sign(transaction_computer.compute_bytes_for_signing(tx_3))\n",
    "\n",
    "hashes = provider.send_transactions([tx_1, tx_2, tx_3])\n",
    "print(\"Transactions hashes:\", hashes)"
   ]
  },
  {
   "cell_type": "markdown",
   "metadata": {},
   "source": [
    "Now let's fetch a previously-broadcasted transaction:"
   ]
  },
  {
   "cell_type": "code",
   "execution_count": null,
   "metadata": {},
   "outputs": [],
   "source": [
    "tx_on_network = provider.get_transaction(\"9270a6879b682a7b310c659f58b641ccdd5f083e5633669817130269e5b0939b\", with_process_status=True)\n",
    "print(\"Status:\", tx_on_network.status)\n",
    "print(\"Is completed:\", tx_on_network.is_completed)"
   ]
  }
 ],
 "metadata": {
  "kernelspec": {
   "display_name": "venv",
   "language": "python",
   "name": "python3"
  },
  "language_info": {
   "codemirror_mode": {
    "name": "ipython",
    "version": 3
   },
   "file_extension": ".py",
   "mimetype": "text/x-python",
   "name": "python",
   "nbconvert_exporter": "python",
   "pygments_lexer": "ipython3",
   "version": "3.10.12"
  },
  "orig_nbformat": 4,
  "vscode": {
   "interpreter": {
    "hash": "a81f6786c16244bc0f6c6471fabecdd0e4c33960b50c66ebff3e0612ad1f5926"
   }
  }
 },
 "nbformat": 4,
 "nbformat_minor": 2
}
