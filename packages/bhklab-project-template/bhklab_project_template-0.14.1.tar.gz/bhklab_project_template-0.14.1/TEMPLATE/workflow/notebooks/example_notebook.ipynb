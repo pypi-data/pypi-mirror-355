{
 "cells": [
  {
   "cell_type": "markdown",
   "id": "442beff9",
   "metadata": {},
   "source": [
    "# Example Notebook\n",
    "\n",
    "This is just a quick example showing how to use the template."
   ]
  },
  {
   "cell_type": "code",
   "execution_count": null,
   "id": "75fde9f9",
   "metadata": {},
   "outputs": [],
   "source": [
    "import logging\n",
    "\n",
    "logging.basicConfig(\n",
    "\tlevel=logging.INFO, format='%(asctime)s - %(levelname)s - %(message)s'\n",
    ")\n",
    "\n",
    "logger = logging.getLogger(__name__)"
   ]
  },
  {
   "cell_type": "code",
   "execution_count": null,
   "id": "2d08bd5d",
   "metadata": {},
   "outputs": [],
   "source": [
    "from damply import dirs\n",
    "\n",
    "print(dirs)"
   ]
  },
  {
   "cell_type": "code",
   "execution_count": null,
   "id": "ac1f9617",
   "metadata": {},
   "outputs": [],
   "source": [
    "print(f'{dirs.RAWDATA=} has {len(list(dirs.RAWDATA.glob(\"*\")))} files')\n",
    "print(f'{dirs.PROCDATA=} has {len(list(dirs.PROCDATA.glob(\"*\")))} files')\n",
    "print(f'{dirs.SCRIPTS=} has {len(list(dirs.SCRIPTS.glob(\"*\")))} files')"
   ]
  }
 ],
 "metadata": {
  "kernelspec": {
   "display_name": "default",
   "language": "python",
   "name": "python3"
  },
  "language_info": {
   "codemirror_mode": {
    "name": "ipython",
    "version": 3
   },
   "file_extension": ".py",
   "mimetype": "text/x-python",
   "name": "python",
   "nbconvert_exporter": "python",
   "pygments_lexer": "ipython3",
   "version": "3.13.3"
  }
 },
 "nbformat": 4,
 "nbformat_minor": 5
}
