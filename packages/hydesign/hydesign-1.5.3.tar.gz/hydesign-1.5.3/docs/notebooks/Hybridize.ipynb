{
    "cells": [
        {
            "cell_type": "markdown",
            "metadata": {},
            "source": [
                "# Hybridize\n",
                "\n",
                "## Evaluating hybridizing of a single technology power plant\n"
            ]
        },
        {
            "cell_type": "markdown",
            "metadata": {},
            "source": [
                "##\n",
                "**Imports**\n",
                "\n",
                "Install hydesign if needed.\n",
                "Import basic libraries. \n",
                "Import HPP model assembly class.\n",
                "Import the examples file path."
            ]
        },
        {
            "cell_type": "code",
            "execution_count": 1,
            "metadata": {},
            "outputs": [],
            "source": [
                "# Install hydesign if needed\n",
                "import importlib\n",
                "if not importlib.util.find_spec(\"hydesign\"):\n",
                "    !pip install git+https://gitlab.windenergy.dtu.dk/TOPFARM/hydesign.git   "
            ]
        },
        {
            "cell_type": "code",
            "execution_count": 2,
            "metadata": {},
            "outputs": [],
            "source": [
                "import time\n",
                "import pandas as pd\n",
                "from hydesign.examples import examples_filepath"
            ]
        },
        {
            "cell_type": "markdown",
            "metadata": {},
            "source": [
                "## Existing PV"
            ]
        },
        {
            "cell_type": "code",
            "execution_count": 3,
            "metadata": {},
            "outputs": [],
            "source": [
                "%%capture\n",
                "from hydesign.assembly.hpp_assembly_hybridization_pv import hpp_model"
            ]
        },
        {
            "cell_type": "code",
            "execution_count": 4,
            "metadata": {},
            "outputs": [
                {
                    "data": {
                        "text/html": [
                            "<div>\n",
                            "<style scoped>\n",
                            "    .dataframe tbody tr th:only-of-type {\n",
                            "        vertical-align: middle;\n",
                            "    }\n",
                            "\n",
                            "    .dataframe tbody tr th {\n",
                            "        vertical-align: top;\n",
                            "    }\n",
                            "\n",
                            "    .dataframe thead th {\n",
                            "        text-align: right;\n",
                            "    }\n",
                            "</style>\n",
                            "<table border=\"1\" class=\"dataframe\">\n",
                            "  <thead>\n",
                            "    <tr style=\"text-align: right;\">\n",
                            "      <th></th>\n",
                            "      <th>case</th>\n",
                            "      <th>name</th>\n",
                            "      <th>longitude</th>\n",
                            "      <th>latitude</th>\n",
                            "      <th>altitude</th>\n",
                            "      <th>input_ts_fn</th>\n",
                            "      <th>sim_pars_fn</th>\n",
                            "      <th>price_fn</th>\n",
                            "      <th>price_col</th>\n",
                            "      <th>H2_demand_col</th>\n",
                            "      <th>Unnamed: 11</th>\n",
                            "      <th>input_HA_ts_fn</th>\n",
                            "      <th>price_up_ts</th>\n",
                            "      <th>price_dwn_ts</th>\n",
                            "    </tr>\n",
                            "  </thead>\n",
                            "  <tbody>\n",
                            "    <tr>\n",
                            "      <th>13</th>\n",
                            "      <td>Europe</td>\n",
                            "      <td>Denmark_hybridization_solar_Langelinie</td>\n",
                            "      <td>11.290641</td>\n",
                            "      <td>54.717469</td>\n",
                            "      <td>0.042</td>\n",
                            "      <td>Europe/GWA2/input_ts_Denmark_hybridization_sol...</td>\n",
                            "      <td>Europe/hpp_pars_Langelinie.yml</td>\n",
                            "      <td>Europe/2030-EL_PRICE.csv</td>\n",
                            "      <td>DK_E</td>\n",
                            "      <td>Europe/H2_demand.csv</td>\n",
                            "      <td>NaN</td>\n",
                            "      <td>NaN</td>\n",
                            "      <td>NaN</td>\n",
                            "      <td>NaN</td>\n",
                            "    </tr>\n",
                            "  </tbody>\n",
                            "</table>\n",
                            "</div>"
                        ],
                        "text/plain": [
                            "      case                                    name  longitude   latitude  \\\n",
                            "13  Europe  Denmark_hybridization_solar_Langelinie  11.290641  54.717469   \n",
                            "\n",
                            "    altitude                                        input_ts_fn  \\\n",
                            "13     0.042  Europe/GWA2/input_ts_Denmark_hybridization_sol...   \n",
                            "\n",
                            "                       sim_pars_fn                  price_fn price_col  \\\n",
                            "13  Europe/hpp_pars_Langelinie.yml  Europe/2030-EL_PRICE.csv      DK_E   \n",
                            "\n",
                            "           H2_demand_col  Unnamed: 11 input_HA_ts_fn price_up_ts price_dwn_ts  \n",
                            "13  Europe/H2_demand.csv          NaN            NaN         NaN          NaN  "
                        ]
                    },
                    "execution_count": 4,
                    "metadata": {},
                    "output_type": "execute_result"
                }
            ],
            "source": [
                "examples_sites = pd.read_csv(f'{examples_filepath}examples_sites.csv', index_col=0, sep=';')\n",
                "name = 'Denmark_hybridization_solar_Langelinie'\n",
                "ex_site = examples_sites.loc[examples_sites.name == name]\n",
                "ex_site"
            ]
        },
        {
            "cell_type": "markdown",
            "metadata": {},
            "source": [
                "select a site to run"
            ]
        },
        {
            "cell_type": "code",
            "execution_count": 5,
            "metadata": {},
            "outputs": [],
            "source": [
                "longitude = ex_site['longitude'].values[0]\n",
                "latitude = ex_site['latitude'].values[0]\n",
                "altitude = ex_site['altitude'].values[0]"
            ]
        },
        {
            "cell_type": "code",
            "execution_count": 6,
            "metadata": {},
            "outputs": [],
            "source": [
                "sim_pars_fn = examples_filepath+ex_site['sim_pars_fn'].values[0]\n",
                "input_ts_fn = examples_filepath+ex_site['input_ts_fn'].values[0]"
            ]
        },
        {
            "cell_type": "code",
            "execution_count": 7,
            "metadata": {},
            "outputs": [],
            "source": [
                "clearance = 50\n",
                "sp = 301\n",
                "p_rated = 2\n",
                "Nwt = 3\n",
                "wind_MW_per_km2 = 10\n",
                "b_P =  10 #MW\n",
                "b_E_h = 3 #hours\n",
                "cost_of_battery_P_fluct_in_peak_price_ratio = 0\n",
                "delta_life = 5\n",
                "\n",
                "x = [\n",
                "# Wind plant design\n",
                "clearance, sp, p_rated, Nwt, wind_MW_per_km2,\n",
                "# Energy storage & EMS price constrains\n",
                "b_P, b_E_h, cost_of_battery_P_fluct_in_peak_price_ratio,\n",
                "# Time design\n",
                "delta_life\n",
                "]"
            ]
        },
        {
            "cell_type": "markdown",
            "metadata": {},
            "source": [
                "## \n",
                "**Initializing the HPP model**\n",
                "\n",
                "Initialize the HPP model (hpp_model class) with the coordinates and the necessary input files."
            ]
        },
        {
            "cell_type": "code",
            "execution_count": 8,
            "metadata": {},
            "outputs": [
                {
                    "name": "stdout",
                    "output_type": "stream",
                    "text": [
                        "\n",
                        "Fixed parameters on the site\n",
                        "-------------------------------\n",
                        "longitude = 11.290641\n",
                        "latitude = 54.717469\n",
                        "altitude = 0.042\n"
                    ]
                },
                {
                    "ename": "AttributeError",
                    "evalue": "'hpp_model' object has no attribute 'N_life'",
                    "output_type": "error",
                    "traceback": [
                        "\u001b[1;31m---------------------------------------------------------------------------\u001b[0m",
                        "\u001b[1;31mAttributeError\u001b[0m                            Traceback (most recent call last)",
                        "Cell \u001b[1;32mIn[8], line 1\u001b[0m\n\u001b[1;32m----> 1\u001b[0m hpp \u001b[38;5;241m=\u001b[39m \u001b[43mhpp_model\u001b[49m\u001b[43m(\u001b[49m\n\u001b[0;32m      2\u001b[0m \u001b[43m    \u001b[49m\u001b[43mlatitude\u001b[49m\u001b[38;5;241;43m=\u001b[39;49m\u001b[43mlatitude\u001b[49m\u001b[43m,\u001b[49m\n\u001b[0;32m      3\u001b[0m \u001b[43m    \u001b[49m\u001b[43mlongitude\u001b[49m\u001b[38;5;241;43m=\u001b[39;49m\u001b[43mlongitude\u001b[49m\u001b[43m,\u001b[49m\n\u001b[0;32m      4\u001b[0m \u001b[43m    \u001b[49m\u001b[43maltitude\u001b[49m\u001b[38;5;241;43m=\u001b[39;49m\u001b[43maltitude\u001b[49m\u001b[43m,\u001b[49m\n\u001b[0;32m      5\u001b[0m \u001b[43m    \u001b[49m\u001b[43mnum_batteries\u001b[49m\u001b[43m \u001b[49m\u001b[38;5;241;43m=\u001b[39;49m\u001b[43m \u001b[49m\u001b[38;5;241;43m10\u001b[39;49m\u001b[43m,\u001b[49m\n\u001b[0;32m      6\u001b[0m \u001b[43m    \u001b[49m\u001b[43mwork_dir\u001b[49m\u001b[43m \u001b[49m\u001b[38;5;241;43m=\u001b[39;49m\u001b[43m \u001b[49m\u001b[38;5;124;43m'\u001b[39;49m\u001b[38;5;124;43m./\u001b[39;49m\u001b[38;5;124;43m'\u001b[39;49m\u001b[43m,\u001b[49m\n\u001b[0;32m      7\u001b[0m \u001b[43m    \u001b[49m\u001b[43msim_pars_fn\u001b[49m\u001b[43m \u001b[49m\u001b[38;5;241;43m=\u001b[39;49m\u001b[43m \u001b[49m\u001b[43msim_pars_fn\u001b[49m\u001b[43m,\u001b[49m\n\u001b[0;32m      8\u001b[0m \u001b[43m    \u001b[49m\u001b[43minput_ts_fn\u001b[49m\u001b[43m \u001b[49m\u001b[38;5;241;43m=\u001b[39;49m\u001b[43m \u001b[49m\u001b[43minput_ts_fn\u001b[49m\u001b[43m,\u001b[49m\n\u001b[0;32m      9\u001b[0m \u001b[43m)\u001b[49m\n",
                        "File \u001b[1;32mc:\\sandbox\\repo\\topfarm\\hydesign\\hydesign\\assembly\\hpp_assembly_hybridization_pv.py:50\u001b[0m, in \u001b[0;36mhpp_model.__init__\u001b[1;34m(self, sim_pars_fn, N_limit, **kwargs)\u001b[0m\n\u001b[0;32m     48\u001b[0m wind_deg \u001b[38;5;241m=\u001b[39m \u001b[38;5;28mself\u001b[39m\u001b[38;5;241m.\u001b[39mwind_deg\n\u001b[0;32m     49\u001b[0m share_WT_deg_types \u001b[38;5;241m=\u001b[39m \u001b[38;5;28mself\u001b[39m\u001b[38;5;241m.\u001b[39mshare_WT_deg_types\n\u001b[1;32m---> 50\u001b[0m N_life \u001b[38;5;241m=\u001b[39m \u001b[38;5;28;43mself\u001b[39;49m\u001b[38;5;241;43m.\u001b[39;49m\u001b[43mN_life\u001b[49m\n\u001b[0;32m     51\u001b[0m price \u001b[38;5;241m=\u001b[39m \u001b[38;5;28mself\u001b[39m\u001b[38;5;241m.\u001b[39mprice\n\u001b[0;32m     53\u001b[0m input_ts_fn \u001b[38;5;241m=\u001b[39m sim_pars[\u001b[38;5;124m'\u001b[39m\u001b[38;5;124minput_ts_fn\u001b[39m\u001b[38;5;124m'\u001b[39m]\n",
                        "\u001b[1;31mAttributeError\u001b[0m: 'hpp_model' object has no attribute 'N_life'"
                    ]
                }
            ],
            "source": [
                "hpp = hpp_model(\n",
                "    latitude=latitude,\n",
                "    longitude=longitude,\n",
                "    altitude=altitude,\n",
                "    num_batteries = 10,\n",
                "    work_dir = './',\n",
                "    sim_pars_fn = sim_pars_fn,\n",
                "    input_ts_fn = input_ts_fn,\n",
                ")\n"
            ]
        },
        {
            "cell_type": "code",
            "execution_count": null,
            "metadata": {},
            "outputs": [],
            "source": [
                "start = time.time()\n",
                "\n",
                "outs = hpp.evaluate(*x)\n",
                "\n",
                "hpp.print_design(x, outs)\n",
                "\n",
                "end = time.time()\n",
                "\n",
                "print('exec. time [min]:', (end - start)/60 )\n"
            ]
        },
        {
            "cell_type": "markdown",
            "metadata": {},
            "source": [
                "## Existing wind"
            ]
        },
        {
            "cell_type": "code",
            "execution_count": null,
            "metadata": {},
            "outputs": [],
            "source": [
                "from hydesign.assembly.hpp_assembly_hybridization_wind import hpp_model\n"
            ]
        },
        {
            "cell_type": "code",
            "execution_count": null,
            "metadata": {},
            "outputs": [],
            "source": [
                "name = 'Denmark_hybridization_wind_Norhede_Hjortmose'\n",
                "ex_site = examples_sites.loc[examples_sites.name == name]\n",
                "longitude = ex_site['longitude'].values[0]\n",
                "latitude = ex_site['latitude'].values[0]\n",
                "altitude = ex_site['altitude'].values[0]\n",
                "\n",
                "sim_pars_fn = examples_filepath+ex_site['sim_pars_fn'].values[0]\n",
                "input_ts_fn = examples_filepath+ex_site['input_ts_fn'].values[0]\n",
                "\n",
                "hpp = hpp_model(\n",
                "latitude=latitude,\n",
                "longitude=longitude,\n",
                "altitude=altitude,\n",
                "num_batteries = 10,\n",
                "work_dir = './',\n",
                "sim_pars_fn = sim_pars_fn,\n",
                "input_ts_fn = input_ts_fn,\n",
                ")\n"
            ]
        },
        {
            "cell_type": "code",
            "execution_count": null,
            "metadata": {},
            "outputs": [],
            "source": [
                "solar_MW = 100\n",
                "surface_tilt = 25\n",
                "surface_azimuth = 180\n",
                "DC_AC_ratio =  1.475\n",
                "b_P = 18 #MW\n",
                "b_E_h = 6 #hours\n",
                "cost_of_battery_P_fluct_in_peak_price_ratio = 0.319\n",
                "delta_life = 5\n",
                "\n",
                "\n",
                "x = [\n",
                "# PV plant design\n",
                "solar_MW,  surface_tilt, surface_azimuth, DC_AC_ratio,\n",
                "# Energy storage & EMS price constrains\n",
                "b_P, b_E_h, cost_of_battery_P_fluct_in_peak_price_ratio,\n",
                "# Time design\n",
                "delta_life\n",
                "]\n"
            ]
        },
        {
            "cell_type": "code",
            "execution_count": null,
            "metadata": {},
            "outputs": [],
            "source": [
                "start = time.time()\n",
                "\n",
                "outs = hpp.evaluate(*x)\n",
                "\n",
                "hpp.print_design(x, outs)\n",
                "\n",
                "end = time.time()\n",
                "\n",
                "print('exec. time [min]:', (end - start)/60 )\n"
            ]
        }
    ],
    "metadata": {
        "kernelspec": {
            "display_name": "Python 3 (ipykernel)",
            "language": "python",
            "name": "python3"
        },
        "language_info": {
            "codemirror_mode": {
                "name": "ipython",
                "version": 3
            },
            "file_extension": ".py",
            "mimetype": "text/x-python",
            "name": "python",
            "nbconvert_exporter": "python",
            "pygments_lexer": "ipython3",
            "version": "3.11.9"
        },
        "vscode": {
            "interpreter": {
                "hash": "8eb42cbc0966288d8775f994320d4f9db9b56b99081abe9d1ec0463f59924871"
            }
        }
    },
    "nbformat": 4,
    "nbformat_minor": 4
}