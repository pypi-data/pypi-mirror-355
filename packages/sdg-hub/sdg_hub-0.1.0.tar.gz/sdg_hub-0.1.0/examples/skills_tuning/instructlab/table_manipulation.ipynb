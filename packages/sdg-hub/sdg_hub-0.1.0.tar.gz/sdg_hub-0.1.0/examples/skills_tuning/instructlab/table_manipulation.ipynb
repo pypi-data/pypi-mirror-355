{
 "cells": [
  {
   "cell_type": "code",
   "execution_count": 2,
   "metadata": {},
   "outputs": [],
   "source": [
    "%load_ext autoreload\n",
    "%autoreload 2"
   ]
  },
  {
   "cell_type": "code",
   "execution_count": null,
   "metadata": {},
   "outputs": [],
   "source": [
    "# Standard\n",
    "import random\n",
    "\n",
    "# Third Party\n",
    "from datasets import Dataset\n",
    "from openai import OpenAI\n",
    "from rich import print\n",
    "from rich.console import Console\n",
    "from rich.panel import Panel\n",
    "import yaml\n",
    "\n",
    "# First Party\n",
    "from sdg_hub.flow import Flow\n",
    "from sdg_hub.pipeline import Pipeline\n",
    "from sdg_hub.sdg import SDG\n",
    "from blocks import *"
   ]
  },
  {
   "cell_type": "markdown",
   "metadata": {},
   "source": [
    "# Markdown Table Manipulation Skills\n",
    "\n",
    "Modern enterprises rely on structured data to drive decisions across operations, HR, product, and sales. But real-world data is rarely clean. Tables are often inconsistent, incomplete, or split across sources. Analysts and engineers spend countless hours fixing formatting issues, merging data, and applying business logic manually.\n",
    "\n",
    "This project teaches a language model how to understand, clean, manipulate, and reason over markdown tables—turning messy or fragmented tabular inputs into clean, analysis-ready markdown outputs that can be dropped into dashboards, reports, or downstream systems.\n",
    "\n",
    "We do this using InstructLab, by providing examples of real-world table tasks that require reasoning, formatting precision, and consistency.\n",
    "\n",
    "\n",
    "These tasks develop a model’s capabilities in:\n",
    "* Cleaning: Normalize inconsistent entries (e.g., “USA”, “U.S.”, “United States” → “US”)\n",
    "* Filtering: Apply multi-column conditions (e.g., Progress < 60% and Budget < 100k)\n",
    "* Computation: Derive new columns from formulas (e.g., Adjusted Revenue = Revenue × Multiplier)\n",
    "* Joining: Merge data from multiple markdown tables using a shared key\n",
    "* Classification: Infer labels like “Seniority” from unstructured title strings\n",
    "* Standardization: Enforce markdown formatting, column consistency, and data integrity"
   ]
  },
  {
   "cell_type": "markdown",
   "metadata": {},
   "source": [
    "## Task Examples\n",
    "\n",
    "### 1. Applying Rules Across Columns\n",
    "\n",
    "Derive new columns by applying conditional logic to existing data.  \n",
    "Examples include assigning statuses, flags, or labels based on thresholds, categories, or rule-based formulas.\n",
    "\n",
    "<details>\n",
    "<summary><strong>📄 Example</strong> — Deriving a column</summary>\n",
    "\n",
    "<br/>\n",
    "\n",
    "<table>\n",
    "  <thead>\n",
    "    <tr>\n",
    "      <th>Project</th>\n",
    "      <th>Budget (USD)</th>\n",
    "      <th>Progress (%)</th>\n",
    "    </tr>\n",
    "  </thead>\n",
    "  <tbody>\n",
    "    <tr><td>Atlas</td><td>120000</td><td>85</td></tr>\n",
    "    <tr><td>Beacon</td><td>95000</td><td>78</td></tr>\n",
    "    <tr><td>Chronos</td><td>87000</td><td>52</td></tr>\n",
    "    <tr><td>Delta</td><td>110000</td><td>45</td></tr>\n",
    "    <tr><td>Echo</td><td>78000</td><td>66</td></tr>\n",
    "  </tbody>\n",
    "</table>\n",
    "\n",
    "<br/>\n",
    "\n",
    "**🧠 Question:**  \n",
    "Add a `Status` column using the following rules:\n",
    "\n",
    "- If **Budget > 100,000** and **Progress ≥ 80** → `\"On Track\"`  \n",
    "- If **Budget < 100,000** and **Progress ≥ 60** → `\"Risk: Underfunded\"`  \n",
    "- If **Progress < 60** → `\"Behind\"`\n",
    "\n",
    "<br/>\n",
    "\n",
    "📤 **Expected Output**\n",
    "\n",
    "<table>\n",
    "  <thead>\n",
    "    <tr>\n",
    "      <th>Project</th>\n",
    "      <th>Budget (USD)</th>\n",
    "      <th>Progress (%)</th>\n",
    "      <th>Status</th>\n",
    "    </tr>\n",
    "  </thead>\n",
    "  <tbody>\n",
    "    <tr><td>Atlas</td><td>120000</td><td>85</td><td>On Track</td></tr>\n",
    "    <tr><td>Beacon</td><td>95000</td><td>78</td><td>Risk: Underfunded</td></tr>\n",
    "    <tr><td>Chronos</td><td>87000</td><td>52</td><td>Behind</td></tr>\n",
    "    <tr><td>Delta</td><td>110000</td><td>45</td><td>Behind</td></tr>\n",
    "    <tr><td>Echo</td><td>78000</td><td>66</td><td>Risk: Underfunded</td></tr>\n",
    "  </tbody>\n",
    "</table>\n",
    "\n",
    "</details>"
   ]
  },
  {
   "cell_type": "markdown",
   "metadata": {},
   "source": [
    "### 2. Cleaning and Normalizing Tabular Data\n",
    "\n",
    "Standardize inconsistent entries such as location names, department labels, or text casing to ensure consistency across rows—essential for reliable analysis or joins.\n",
    "\n",
    "<details>\n",
    "<summary><strong>📄 Example</strong> - Cleaning and Normalizing Tabular Data </summary>\n",
    "\n",
    "📥 **Input Table**\n",
    "\n",
    "<table>\n",
    "  <thead>\n",
    "    <tr>\n",
    "      <th>Employee ID</th>\n",
    "      <th>Name</th>\n",
    "      <th>Department</th>\n",
    "      <th>Country</th>\n",
    "    </tr>\n",
    "  </thead>\n",
    "  <tbody>\n",
    "    <tr><td>001</td><td>Alice Wong</td><td>sales</td><td>usa</td></tr>\n",
    "    <tr><td>002</td><td>Ben Carter</td><td>HR</td><td>United States</td></tr>\n",
    "    <tr><td>003</td><td>Carla Diaz</td><td>Sales</td><td>U.S.</td></tr>\n",
    "  </tbody>\n",
    "</table>\n",
    "\n",
    "🧠 **Instruction**\n",
    "\n",
    "Normalize 'Country' values (e.g., USA, U.S., United States → US) and standardize 'Department' to title case.\n",
    "\n",
    "📤 **Expected Output**\n",
    "\n",
    "<table>\n",
    "  <thead>\n",
    "    <tr>\n",
    "      <th>Employee ID</th>\n",
    "      <th>Name</th>\n",
    "      <th>Department</th>\n",
    "      <th>Country</th>\n",
    "    </tr>\n",
    "  </thead>\n",
    "  <tbody>\n",
    "    <tr><td>001</td><td>Alice Wong</td><td>Sales</td><td>US</td></tr>\n",
    "    <tr><td>002</td><td>Ben Carter</td><td>HR</td><td>US</td></tr>\n",
    "    <tr><td>003</td><td>Carla Diaz</td><td>Sales</td><td>US</td></tr>\n",
    "  </tbody>\n",
    "</table>\n",
    "</details>"
   ]
  },
  {
   "cell_type": "markdown",
   "metadata": {},
   "source": [
    "### 3. Inferring Categorical Labels from Text\n",
    "\n",
    "Extract or classify values (e.g., seniority, department type, status) from semi-structured strings using pattern recognition or keyword-based inference.\n",
    "\n",
    "<details>\n",
    "<summary><strong>📄 Example</strong> - Inferring Categorical Labels from Text </summary>\n",
    "\n",
    "📥 **Input Table**\n",
    "\n",
    "<table>\n",
    "  <thead>\n",
    "    <tr>\n",
    "      <th>Name</th>\n",
    "      <th>Role Title</th>\n",
    "    </tr>\n",
    "  </thead>\n",
    "  <tbody>\n",
    "    <tr><td>Nia Kapoor</td><td>Lead Software Engineer</td></tr>\n",
    "    <tr><td>Omar Ghali</td><td>UX Designer</td></tr>\n",
    "    <tr><td>Lin Zhu</td><td>Intern - AI Research</td></tr>\n",
    "  </tbody>\n",
    "</table>\n",
    "\n",
    "🧠 **Instruction**\n",
    "\n",
    "Add a 'Seniority' column based on keywords:\n",
    "- 'Lead' → Senior\n",
    "- 'Engineer', 'Designer' → Mid\n",
    "- 'Intern' → Junior\n",
    "\n",
    "📤 **Expected Output**\n",
    "\n",
    "<table>\n",
    "  <thead>\n",
    "    <tr>\n",
    "      <th>Name</th>\n",
    "      <th>Role Title</th>\n",
    "      <th>Seniority</th>\n",
    "    </tr>\n",
    "  </thead>\n",
    "  <tbody>\n",
    "    <tr><td>Nia Kapoor</td><td>Lead Software Engineer</td><td>Senior</td></tr>\n",
    "    <tr><td>Omar Ghali</td><td>UX Designer</td><td>Mid</td></tr>\n",
    "    <tr><td>Lin Zhu</td><td>Intern - AI Research</td><td>Junior</td></tr>\n",
    "  </tbody>\n",
    "</table>\n",
    "</details>"
   ]
  },
  {
   "cell_type": "markdown",
   "metadata": {},
   "source": [
    "### 4. Merging and Enriching Data Across Tables\n",
    "\n",
    "Perform relational joins using keys like ID or Region, and enhance the dataset by combining fields from multiple sources.\n",
    "\n",
    "<details>\n",
    "<summary><strong>📄 Example</strong> - Merging and Enriching Data Across Tables </summary>\n",
    "\n",
    "📥 **Input Table**\n",
    "\n",
    "<table>\n",
    "  <thead>\n",
    "    <tr>\n",
    "      <th>Rep</th>\n",
    "      <th>Region ID</th>\n",
    "      <th>Revenue</th>\n",
    "    </tr>\n",
    "  </thead>\n",
    "  <tbody>\n",
    "    <tr><td>Alice</td><td>R1</td><td>85000</td></tr>\n",
    "    <tr><td>Ben</td><td>R2</td><td>94000</td></tr>\n",
    "  </tbody>\n",
    "</table>\n",
    "\n",
    "<table>\n",
    "  <thead>\n",
    "    <tr>\n",
    "      <th>Region ID</th>\n",
    "      <th>Country</th>\n",
    "      <th>Multiplier</th>\n",
    "    </tr>\n",
    "  </thead>\n",
    "  <tbody>\n",
    "    <tr><td>R1</td><td>US</td><td>1.2</td></tr>\n",
    "    <tr><td>R2</td><td>EU</td><td>1.1</td></tr>\n",
    "  </tbody>\n",
    "</table>\n",
    "\n",
    "🧠 **Instruction**\n",
    "\n",
    "Join the two tables on 'Region ID' and compute 'Adjusted Revenue = Revenue × Multiplier'.\n",
    "\n",
    "📤 **Expected Output**\n",
    "\n",
    "<table>\n",
    "  <thead>\n",
    "    <tr>\n",
    "      <th>Rep</th>\n",
    "      <th>Region ID</th>\n",
    "      <th>Country</th>\n",
    "      <th>Revenue</th>\n",
    "      <th>Multiplier</th>\n",
    "      <th>Adjusted Revenue</th>\n",
    "    </tr>\n",
    "  </thead>\n",
    "  <tbody>\n",
    "    <tr><td>Alice</td><td>R1</td><td>US</td><td>85000</td><td>1.2</td><td>102000</td></tr>\n",
    "    <tr><td>Ben</td><td>R2</td><td>EU</td><td>94000</td><td>1.1</td><td>103400</td></tr>\n",
    "  </tbody>\n",
    "</table>\n",
    "</details>"
   ]
  },
  {
   "cell_type": "markdown",
   "metadata": {},
   "source": [
    "### 5. Retrieval and Filtering From the Table\n",
    "\n",
    "Retrieve specific rows or columns based on conditions or patterns, useful for ad-hoc queries or filtering out irrelevant data.\n",
    "\n",
    "<details>\n",
    "<summary><strong>📄 Example</strong> - Retrieval and Filtering From the Table </summary>\n",
    "\n",
    "📥 **Input Table**\n",
    "\n",
    "<table>\n",
    "  <thead>\n",
    "    <tr>\n",
    "      <th>Name</th>\n",
    "      <th>Department</th>\n",
    "      <th>Salary</th>\n",
    "    </tr>\n",
    "  </thead>\n",
    "  <tbody>\n",
    "    <tr><td>Alice Wong</td><td>HR</td><td>72000</td></tr>\n",
    "    <tr><td>Ben Carter</td><td>Sales</td><td>65000</td></tr>\n",
    "    <tr><td>David Smith</td><td>HR</td><td>80000</td></tr>\n",
    "    <tr><td>Erica Zhou</td><td>Sales</td><td>70000</td></tr>\n",
    "  </tbody>\n",
    "</table>\n",
    "\n",
    "🧠 **Instruction**\n",
    "\n",
    "Retrieve employees whose names start with 'D' or 'E', are in 'Sales' or 'HR', and have salary ≥ 70000.\n",
    "\n",
    "📤 **Expected Output**\n",
    "\n",
    "<table>\n",
    "  <thead>\n",
    "    <tr>\n",
    "      <th>Name</th>\n",
    "      <th>Department</th>\n",
    "      <th>Salary</th>\n",
    "    </tr>\n",
    "  </thead>\n",
    "  <tbody>\n",
    "    <tr><td>David Smith</td><td>HR</td><td>80000</td></tr>\n",
    "    <tr><td>Erica Zhou</td><td>Sales</td><td>70000</td></tr>\n",
    "  </tbody>\n",
    "</table>\n",
    "</details>"
   ]
  },
  {
   "cell_type": "markdown",
   "metadata": {},
   "source": [
    "## From Seed Data to Synthetic Data\n",
    "\n",
    "At the core of SDG Hub is a simple, composable workflow that transforms your seed data into rich synthetic data using LLMs. To build these workflows, you only need to understand three core concepts:\n",
    "\n",
    "- **Flows**: The blueprint for your data generation pipeline — they define how blocks are chained and executed.\n",
    "- **Blocks**: The building blocks of your pipeline — each block performs a specific task like generation, filtering, or transformation.\n",
    "- **Prompts**: The brain behind each block — written in YAML, prompts define the task, tone, structure, and constraints for the LLM.\n",
    "\n",
    "```mermaid\n",
    "flowchart LR\n",
    "    A[Flows] --> B[Blocks] --> C[Prompts]\n",
    "    C --> D[Synthetic Data!]\n",
    "```\n",
    "\n",
    "With just these three components, you can create powerful, scalable, and fully customizable synthetic data pipelines."
   ]
  },
  {
   "cell_type": "markdown",
   "metadata": {},
   "source": [
    "## 🧑‍🏫 Step 1: Set Up the Teacher Model\n",
    "\n",
    "This demo expects an openai compatible endpoint. You can use your favorite inference server like vLLM, HFInferenceServer, LlamaStack, etc. For more details on how to setup an inference server using vLLM, please refer to the [README](README.md).\n",
    "\n",
    "For this demo we will use Llama-3.3-70B-Instruct as our teacher model.\n",
    "\n",
    "#### Let's test the connection"
   ]
  },
  {
   "cell_type": "code",
   "execution_count": 4,
   "metadata": {},
   "outputs": [
    {
     "data": {
      "text/html": [
       "<pre style=\"white-space:pre;overflow-x:auto;line-height:normal;font-family:Menlo,'DejaVu Sans Mono',consolas,'Courier New',monospace\"><span style=\"color: #7fbfbf; text-decoration-color: #7fbfbf\">[15:30:43] </span><span style=\"color: #000080; text-decoration-color: #000080\">INFO    </span> HTTP Request: <span style=\"color: #808000; text-decoration-color: #808000; font-weight: bold\">GET</span> <span style=\"color: #0000ff; text-decoration-color: #0000ff; text-decoration: underline\">http://0.0.0.0:8000/v1/models</span> <span style=\"color: #008000; text-decoration-color: #008000\">\"HTTP/1.1 200 OK\"</span>               <a href=\"file:///home/lab/.conda/envs/sdg_pr/lib/python3.11/site-packages/httpx/_client.py\" target=\"_blank\"><span style=\"color: #7f7f7f; text-decoration-color: #7f7f7f\">_client.py</span></a><span style=\"color: #7f7f7f; text-decoration-color: #7f7f7f\">:</span><a href=\"file:///home/lab/.conda/envs/sdg_pr/lib/python3.11/site-packages/httpx/_client.py#1025\" target=\"_blank\"><span style=\"color: #7f7f7f; text-decoration-color: #7f7f7f\">1025</span></a>\n",
       "</pre>\n"
      ],
      "text/plain": [
       "\u001b[2;36m[15:30:43]\u001b[0m\u001b[2;36m \u001b[0m\u001b[34mINFO    \u001b[0m HTTP Request: \u001b[1;33mGET\u001b[0m \u001b[4;94mhttp://0.0.0.0:8000/v1/models\u001b[0m \u001b[32m\"HTTP/1.1 200 OK\"\u001b[0m               \u001b]8;id=532442;file:///home/lab/.conda/envs/sdg_pr/lib/python3.11/site-packages/httpx/_client.py\u001b\\\u001b[2m_client.py\u001b[0m\u001b]8;;\u001b\\\u001b[2m:\u001b[0m\u001b]8;id=507386;file:///home/lab/.conda/envs/sdg_pr/lib/python3.11/site-packages/httpx/_client.py#1025\u001b\\\u001b[2m1025\u001b[0m\u001b]8;;\u001b\\\n"
      ]
     },
     "metadata": {},
     "output_type": "display_data"
    },
    {
     "data": {
      "text/html": [
       "<pre style=\"white-space:pre;overflow-x:auto;line-height:normal;font-family:Menlo,'DejaVu Sans Mono',consolas,'Courier New',monospace\"><span style=\"color: #7fbfbf; text-decoration-color: #7fbfbf\">           </span><span style=\"color: #000080; text-decoration-color: #000080\">INFO    </span> HTTP Request: <span style=\"color: #808000; text-decoration-color: #808000; font-weight: bold\">POST</span> <span style=\"color: #0000ff; text-decoration-color: #0000ff; text-decoration: underline\">http://0.0.0.0:8000/v1/chat/completions</span> <span style=\"color: #008000; text-decoration-color: #008000\">\"HTTP/1.1 200 OK\"</span>    <a href=\"file:///home/lab/.conda/envs/sdg_pr/lib/python3.11/site-packages/httpx/_client.py\" target=\"_blank\"><span style=\"color: #7f7f7f; text-decoration-color: #7f7f7f\">_client.py</span></a><span style=\"color: #7f7f7f; text-decoration-color: #7f7f7f\">:</span><a href=\"file:///home/lab/.conda/envs/sdg_pr/lib/python3.11/site-packages/httpx/_client.py#1025\" target=\"_blank\"><span style=\"color: #7f7f7f; text-decoration-color: #7f7f7f\">1025</span></a>\n",
       "</pre>\n"
      ],
      "text/plain": [
       "\u001b[2;36m          \u001b[0m\u001b[2;36m \u001b[0m\u001b[34mINFO    \u001b[0m HTTP Request: \u001b[1;33mPOST\u001b[0m \u001b[4;94mhttp://0.0.0.0:8000/v1/chat/completions\u001b[0m \u001b[32m\"HTTP/1.1 200 OK\"\u001b[0m    \u001b]8;id=187049;file:///home/lab/.conda/envs/sdg_pr/lib/python3.11/site-packages/httpx/_client.py\u001b\\\u001b[2m_client.py\u001b[0m\u001b]8;;\u001b\\\u001b[2m:\u001b[0m\u001b]8;id=681668;file:///home/lab/.conda/envs/sdg_pr/lib/python3.11/site-packages/httpx/_client.py#1025\u001b\\\u001b[2m1025\u001b[0m\u001b]8;;\u001b\\\n"
      ]
     },
     "metadata": {},
     "output_type": "display_data"
    },
    {
     "data": {
      "text/html": [
       "<pre style=\"white-space:pre;overflow-x:auto;line-height:normal;font-family:Menlo,'DejaVu Sans Mono',consolas,'Courier New',monospace\">Connection successful! meta-llama/Llama-<span style=\"color: #008080; text-decoration-color: #008080; font-weight: bold\">3.3</span>-70B-Instruct: Hello. How can I help you today?\n",
       "</pre>\n"
      ],
      "text/plain": [
       "Connection successful! meta-llama/Llama-\u001b[1;36m3.3\u001b[0m-70B-Instruct: Hello. How can I help you today?\n"
      ]
     },
     "metadata": {},
     "output_type": "display_data"
    }
   ],
   "source": [
    "openai_api_key = \"EMPTY\" # replace with your inference server api key\n",
    "openai_api_base = \"http://0.0.0.0:8000/v1\" # replace with your inference server endpoint\n",
    "\n",
    "\n",
    "client = OpenAI(\n",
    "    api_key=openai_api_key,\n",
    "    base_url=openai_api_base,\n",
    ")\n",
    "\n",
    "models = client.models.list()\n",
    "teacher_model = models.data[0].id\n",
    "\n",
    "# Test the connection with a simple completion\n",
    "response = client.chat.completions.create(\n",
    "    model=teacher_model,\n",
    "    messages=[{\"role\": \"user\", \"content\": \"Hello!\"}],\n",
    "    temperature=0.0,\n",
    "    max_tokens=10\n",
    ")\n",
    "completion = response.choices[0].message.content\n",
    "\n",
    "print(f\"Connection successful! {teacher_model}: {completion}\")"
   ]
  },
  {
   "cell_type": "markdown",
   "metadata": {},
   "source": [
    "## ✍️ Step 2: Provide Custom Examples\n",
    "\n",
    "As outlined in the [LAB paper](https://arxiv.org/abs/2311.12850), the starting point for customizing a new skill is to provide a small set of **seed examples**. Seed examples show the model what good behavior looks like by pairing inputs with ideal outputs, allowing the model to learn patterns, structure, and formatting that generalize beyond the examples themselves.\n",
    "\n",
    "A strong seed example, regardless of domain, should:\n",
    "\n",
    "✅ Clearly define the task context and expected behavior\n",
    "\n",
    "✅ Provide a realistic, natural input that mimics what users or systems would actually produce\n",
    "\n",
    "✅ Include a high-quality output that fully satisfies the task requirements—accurate, complete, and formatted correctly\n",
    "\n",
    "✅ Minimize ambiguity: avoid examples where multiple interpretations are possible without explanation\n",
    "\n",
    "✅ Reflect diverse edge cases: cover a variety of structures, phrasings, or difficulty levels to help the model generalize"
   ]
  },
  {
   "cell_type": "markdown",
   "metadata": {},
   "source": [
    "\n",
    "These examples are specified in a YAML file—typically named `qna.yaml`.\n",
    "\n",
    "Each seed example consists of a `question` and its corresponding `answer`. The `question` is usually a table or semi-structured data followed by a natural language instruction, while the `answer` represents the expected transformed output. Together, they demonstrate the reasoning or manipulation expected of the model. These examples help bootstrap the generation pipeline by setting the tone, structure, and task constraints for further synthetic data generation.\n",
    "\n",
    "Here’s an example from the domain of **table manipulation**, where the task is to derive a new column (`Status`) based on logical rules applied to an existing table:\n",
    "\n",
    "```yaml\n",
    "created_by: Red Hat AI Innovation Team\n",
    "domain: Table Manipulation\n",
    "task_description: |\n",
    "  Perform advanced table manipulation, including cleaning, joining,\n",
    "  inferring values, and computing derived columns based on complex rules.\n",
    "seed_examples:\n",
    "  - question: |\n",
    "      | Project | Budget (USD) | Progress (%) | Phase     |\n",
    "      |---------|--------------|--------------|-----------|\n",
    "      | Mercury | 120000       | 85           | Alpha     |\n",
    "      | Venus   | 95000        | 78           | Alpha     |\n",
    "      | Earth   | 87000        | 52           | Beta      |\n",
    "      | Mars    | 110000       | 45           | Beta      |\n",
    "      | Jupiter | 78000        | 66           | Gamma     |\n",
    "\n",
    "      Question: Add a new column 'Status' using these rules:\n",
    "      - If Budget > 100k and Progress ≥ 80%, mark as \"On Track\"\n",
    "      - If Budget < 100k but Progress ≥ 60%, mark as \"Risk: Underfunded\"\n",
    "      - If Progress < 60%, mark as \"Behind\"\n",
    "    answer: |\n",
    "      | Project | Budget (USD) | Progress (%) | Phase  | Status            |\n",
    "      |---------|--------------|--------------|--------|-------------------|\n",
    "      | Mercury | 120000       | 85           | Alpha  | On Track          |\n",
    "      | Venus   | 95000        | 78           | Alpha  | Risk: Underfunded |\n",
    "      | Earth   | 87000        | 52           | Beta   | Behind            |\n",
    "      | Mars    | 110000       | 45           | Beta   | Behind            |\n",
    "      | Jupiter | 78000        | 66           | Gamma  | Risk: Underfunded |\n",
    "\n",
    "```"
   ]
  },
  {
   "cell_type": "markdown",
   "metadata": {},
   "source": [
    "This example demonstrates the reasoning logic required to augment the original table. Note that the answer preserves the original structure but adds a new computed column based on the instruction.\n",
    "\n",
    "For this demo, we’ll use a pre-populated YAML file located at: `seed_data/table_manipulation_qna.yaml`\n",
    "\n",
    "### 🔁 Convert to JSONL Format\n",
    "\n",
    "Dataflow between blocks and pipelines is handled using Hugging Face Datasets, which are based on Arrow tables. To make the seed data compatible with the generation pipeline, we need to convert the YAML file into a JSONL dataset. This conversion involves extracting the examples from the YAML file and converting them into a dataset."
   ]
  },
  {
   "cell_type": "code",
   "execution_count": 5,
   "metadata": {},
   "outputs": [
    {
     "data": {
      "text/html": [
       "<pre style=\"white-space:pre;overflow-x:auto;line-height:normal;font-family:Menlo,'DejaVu Sans Mono',consolas,'Courier New',monospace\">╭─────────────────────────────────────────────── Seed Data Example ───────────────────────────────────────────────╮\n",
       "│ <span style=\"font-weight: bold\">task_description:</span>                                                                                               │\n",
       "│                                                                                                                 │\n",
       "│ Perform advanced table manipulation, including cleaning, joining,                                               │\n",
       "│ inferring values, and computing derived columns based on complex rules.                                         │\n",
       "│                                                                                                                 │\n",
       "│                                                                                                                 │\n",
       "│ <span style=\"font-weight: bold\">seed_question:</span>                                                                                                  │\n",
       "│                                                                                                                 │\n",
       "│ | Project | Budget (USD) | Progress (%) | Phase     |                                                           │\n",
       "│ |---------|--------------|--------------|-----------|                                                           │\n",
       "│ | Mercury | 120000       | 85           | Alpha     |                                                           │\n",
       "│ | Venus   | 95000        | 78           | Alpha     |                                                           │\n",
       "│ | Earth   | 87000        | 52           | Beta      |                                                           │\n",
       "│ | Mars    | 110000       | 45           | Beta      |                                                           │\n",
       "│ | Jupiter | 78000        | 66           | Gamma     |                                                           │\n",
       "│                                                                                                                 │\n",
       "│ Question: Add a new column 'Status' using these rules:                                                          │\n",
       "│ - If Budget &gt; 100k and Progress ≥ 80%, mark as \"On Track\"                                                       │\n",
       "│ - If Budget &lt; 100k but Progress ≥ 60%, mark as \"Risk: Underfunded\"                                              │\n",
       "│ - If Progress &lt; 60%, mark as \"Behind\"                                                                           │\n",
       "│                                                                                                                 │\n",
       "│                                                                                                                 │\n",
       "│ <span style=\"font-weight: bold\">seed_response:</span>                                                                                                  │\n",
       "│                                                                                                                 │\n",
       "│ | Project | Budget (USD) | Progress (%) | Phase  | Status            |                                          │\n",
       "│ |---------|--------------|--------------|--------|-------------------|                                          │\n",
       "│ | Mercury | 120000       | 85           | Alpha  | On Track          |                                          │\n",
       "│ | Venus   | 95000        | 78           | Alpha  | Risk: Underfunded |                                          │\n",
       "│ | Earth   | 87000        | 52           | Beta   | Behind            |                                          │\n",
       "│ | Mars    | 110000       | 45           | Beta   | Behind            |                                          │\n",
       "│ | Jupiter | 78000        | 66           | Gamma  | Risk: Underfunded |                                          │\n",
       "│                                                                                                                 │\n",
       "╰─────────────────────────────────────────────────────────────────────────────────────────────────────────────────╯\n",
       "</pre>\n"
      ],
      "text/plain": [
       "╭─────────────────────────────────────────────── Seed Data Example ───────────────────────────────────────────────╮\n",
       "│ \u001b[1mtask_description:\u001b[0m                                                                                               │\n",
       "│                                                                                                                 │\n",
       "│ Perform advanced table manipulation, including cleaning, joining,                                               │\n",
       "│ inferring values, and computing derived columns based on complex rules.                                         │\n",
       "│                                                                                                                 │\n",
       "│                                                                                                                 │\n",
       "│ \u001b[1mseed_question:\u001b[0m                                                                                                  │\n",
       "│                                                                                                                 │\n",
       "│ | Project | Budget (USD) | Progress (%) | Phase     |                                                           │\n",
       "│ |---------|--------------|--------------|-----------|                                                           │\n",
       "│ | Mercury | 120000       | 85           | Alpha     |                                                           │\n",
       "│ | Venus   | 95000        | 78           | Alpha     |                                                           │\n",
       "│ | Earth   | 87000        | 52           | Beta      |                                                           │\n",
       "│ | Mars    | 110000       | 45           | Beta      |                                                           │\n",
       "│ | Jupiter | 78000        | 66           | Gamma     |                                                           │\n",
       "│                                                                                                                 │\n",
       "│ Question: Add a new column 'Status' using these rules:                                                          │\n",
       "│ - If Budget > 100k and Progress ≥ 80%, mark as \"On Track\"                                                       │\n",
       "│ - If Budget < 100k but Progress ≥ 60%, mark as \"Risk: Underfunded\"                                              │\n",
       "│ - If Progress < 60%, mark as \"Behind\"                                                                           │\n",
       "│                                                                                                                 │\n",
       "│                                                                                                                 │\n",
       "│ \u001b[1mseed_response:\u001b[0m                                                                                                  │\n",
       "│                                                                                                                 │\n",
       "│ | Project | Budget (USD) | Progress (%) | Phase  | Status            |                                          │\n",
       "│ |---------|--------------|--------------|--------|-------------------|                                          │\n",
       "│ | Mercury | 120000       | 85           | Alpha  | On Track          |                                          │\n",
       "│ | Venus   | 95000        | 78           | Alpha  | Risk: Underfunded |                                          │\n",
       "│ | Earth   | 87000        | 52           | Beta   | Behind            |                                          │\n",
       "│ | Mars    | 110000       | 45           | Beta   | Behind            |                                          │\n",
       "│ | Jupiter | 78000        | 66           | Gamma  | Risk: Underfunded |                                          │\n",
       "│                                                                                                                 │\n",
       "╰─────────────────────────────────────────────────────────────────────────────────────────────────────────────────╯\n"
      ]
     },
     "metadata": {},
     "output_type": "display_data"
    }
   ],
   "source": [
    "def convert_yaml_to_jsonl(yaml_path):\n",
    "    # Load YAML file\n",
    "    with open(yaml_path, 'r') as f:\n",
    "        yaml_data = yaml.safe_load(f)\n",
    "    \n",
    "    # Extract examples into list of dicts\n",
    "    examples = []\n",
    "    for example in yaml_data['seed_examples']:\n",
    "        examples.append({\n",
    "            'task_description': yaml_data['task_description'],\n",
    "            'seed_question': example['question'],\n",
    "            'seed_response': example['answer']\n",
    "        })\n",
    "    \n",
    "    # Convert to HF Dataset\n",
    "    dataset = Dataset.from_list(examples)\n",
    "    return dataset\n",
    "\n",
    "# Load and convert the seed data\n",
    "seed_data = convert_yaml_to_jsonl('seed_data/table_manipulation_qna.yaml')\n",
    "\n",
    "\n",
    "\n",
    "print(Panel(\n",
    "    \"\\n\\n\".join(f\"[bold]{k}:[/bold] \\n\\n{v}\" for k,v in seed_data[0].items()),\n",
    "    title=\"Seed Data Example\"\n",
    "))"
   ]
  },
  {
   "cell_type": "markdown",
   "metadata": {},
   "source": [
    "## 🚀 Step 3: Generate Synthetic Data\n",
    "\n",
    "Now that we have our seed data ready, we can use LAB’s Skill Data Generator to create **high-quality synthetic training examples** for our custom skill.\n",
    "\n",
    "This step leverages a predefined **flow configuration** that encodes how seed examples are expanded — by generating new contexts, questions, and responses, and filtering them for quality.\n",
    "\n",
    "In this demo, we'll use the `flows/generation/skills/synth_skills.yaml` pipeline to generate synthetic data.\n",
    "\n",
    "### Flows\n",
    "\n",
    "```mermaid\n",
    "flowchart LR\n",
    "     A[Seed Data] --> B[LLM Block<br/>gen_questions<br/>→ question]\n",
    "     B --> C[LLM Block<br/>eval_questions<br/>→ evaluation, score]\n",
    "     C --> D[FilterByValueBlock<br/>filter_questions<br/>score == 1.0]\n",
    "     D --> E[LLM Block<br/>gen_responses<br/>→ response]\n",
    "     E --> F[LLM Block<br/>evaluate_qa_pair<br/>→ evaluation, score]\n",
    "     F --> G[FilterByValueBlock<br/>filter_qa_pair<br/>score >= 2.0]\n",
    "     G --> H[Generated Data]\n",
    "```\n",
    "\n",
    "### Prompts \n",
    "\n",
    "Prompts in SDG Hub are defined using structured YAML files that specify how the model should behave during each stage of the generation process. These prompt configurations are designed to guide the LLM with clarity, precision, and stylistic consistency.\n",
    "\n",
    "#### Prompt Structure:\n",
    "\n",
    "* system: Defines the assistant's role or identity to help maintain consistent tone and persona.\n",
    "* introduction: Provides task-level context to the LLM, including placeholders like {{num_samples}} or {{task_description}} which are replaced dynamically at runtime.\n",
    "* principles: A list of quality and formatting guidelines the model should follow while generating responses.\n",
    "* examples: A representative input-output sample that sets the pattern and style the LLM should emulate.\n",
    "* generation: The actual prompt instruction, combining context and principles to invoke generation.\n",
    "* start_tags / end_tags: Used to extract or delimit generated outputs cleanly\n",
    "\n",
    "This format makes prompt engineering modular, readable, and reproducible, which is essential for reliable synthetic data generation workflows.\n",
    "\n",
    "#### Example Prompt:\n",
    "\n",
    "```yaml \n",
    "system: You are a highly intelligent and helpful AI Assistant specializing in generating well-crafted questions tailored to specific tasks.\n",
    "\n",
    "introduction: |\n",
    "  Your task is to generate {{num_samples}} diverse and well-structured questions for the following task:\n",
    "  \"{{task_description}}\"\n",
    "\n",
    "principles: |\n",
    "  Please follow these strict guidelines when generating each question:\n",
    "  * Each question must be directly related to the task description.\n",
    "  * Use correct grammar, spelling, and punctuation.\n",
    "  * Questions must be clear, natural-sounding, and human-like.\n",
    "  * Do **not** include answers, explanations, or commentary—only the question.\n",
    "  * Ensure **maximum diversity** in wording and perspective—no repetitive or template-based phrasing.\n",
    "  * Each question must strictly follow the **exact same format and style** as shown in the example.\n",
    "  * Do **not deviate** from the example structure in any way.\n",
    "  * Wrap each question between `[Start of Question]` and `[End of Question]` tags.\n",
    "\n",
    "examples: |\n",
    "  To guide you, here is an example of a correctly formatted question:\n",
    "\n",
    "  [Start of Question]\n",
    "  {{seed_question}}\n",
    "  [End of Question]\n",
    "\n",
    "generation: |\n",
    "  Now generate {{num_samples}} such questions.\n",
    "  Ensure that each one is:\n",
    "  - Fully relevant to the task description.\n",
    "  - Consistent with the example format.\n",
    "  - Clearly enclosed between [Start of Question] and [End of Question] tags.\n",
    "  Do not include any content outside these tags.\n",
    "\n",
    "start_tags: [\"[Start of Question]\"]\n",
    "end_tags: [\"[End of Question]\"]\n",
    "```\n",
    "\n"
   ]
  },
  {
   "cell_type": "code",
   "execution_count": 6,
   "metadata": {},
   "outputs": [],
   "source": [
    "# Load the flow\n",
    "flow = Flow(client).get_flow_from_file(\"flows/generation/skills/synth_skills.yaml\")\n",
    "\n",
    "# Initialize the synthetic data generator\n",
    "generator = SDG(\n",
    "    [Pipeline(flow)],\n",
    ")"
   ]
  },
  {
   "cell_type": "code",
   "execution_count": 7,
   "metadata": {},
   "outputs": [
    {
     "data": {
      "text/html": [
       "<pre style=\"white-space:pre;overflow-x:auto;line-height:normal;font-family:Menlo,'DejaVu Sans Mono',consolas,'Courier New',monospace\"><span style=\"color: #7fbfbf; text-decoration-color: #7fbfbf\">[15:31:16] </span><span style=\"color: #000080; text-decoration-color: #000080\">INFO    </span> HTTP Request: <span style=\"color: #808000; text-decoration-color: #808000; font-weight: bold\">POST</span> <span style=\"color: #0000ff; text-decoration-color: #0000ff; text-decoration: underline\">http://0.0.0.0:8000/v1/completions</span> <span style=\"color: #008000; text-decoration-color: #008000\">\"HTTP/1.1 200 OK\"</span>         <a href=\"file:///home/lab/.conda/envs/sdg_pr/lib/python3.11/site-packages/httpx/_client.py\" target=\"_blank\"><span style=\"color: #7f7f7f; text-decoration-color: #7f7f7f\">_client.py</span></a><span style=\"color: #7f7f7f; text-decoration-color: #7f7f7f\">:</span><a href=\"file:///home/lab/.conda/envs/sdg_pr/lib/python3.11/site-packages/httpx/_client.py#1025\" target=\"_blank\"><span style=\"color: #7f7f7f; text-decoration-color: #7f7f7f\">1025</span></a>\n",
       "</pre>\n"
      ],
      "text/plain": [
       "\u001b[2;36m[15:31:16]\u001b[0m\u001b[2;36m \u001b[0m\u001b[34mINFO    \u001b[0m HTTP Request: \u001b[1;33mPOST\u001b[0m \u001b[4;94mhttp://0.0.0.0:8000/v1/completions\u001b[0m \u001b[32m\"HTTP/1.1 200 OK\"\u001b[0m         \u001b]8;id=204851;file:///home/lab/.conda/envs/sdg_pr/lib/python3.11/site-packages/httpx/_client.py\u001b\\\u001b[2m_client.py\u001b[0m\u001b]8;;\u001b\\\u001b[2m:\u001b[0m\u001b]8;id=222266;file:///home/lab/.conda/envs/sdg_pr/lib/python3.11/site-packages/httpx/_client.py#1025\u001b\\\u001b[2m1025\u001b[0m\u001b]8;;\u001b\\\n"
      ]
     },
     "metadata": {},
     "output_type": "display_data"
    },
    {
     "data": {
      "text/html": [
       "<pre style=\"white-space:pre;overflow-x:auto;line-height:normal;font-family:Menlo,'DejaVu Sans Mono',consolas,'Courier New',monospace\"><span style=\"color: #7fbfbf; text-decoration-color: #7fbfbf\">           </span><span style=\"color: #000080; text-decoration-color: #000080\">INFO    </span> LLM server supports batched inputs: <span style=\"color: #00ff00; text-decoration-color: #00ff00; font-style: italic\">True</span>                                         <a href=\"file:///workspace/home/lab/shiv/sdg_hub_pr/src/sdg_hub/blocks/llmblock.py\" target=\"_blank\"><span style=\"color: #7f7f7f; text-decoration-color: #7f7f7f\">llmblock.py</span></a><span style=\"color: #7f7f7f; text-decoration-color: #7f7f7f\">:</span><a href=\"file:///workspace/home/lab/shiv/sdg_hub_pr/src/sdg_hub/blocks/llmblock.py#51\" target=\"_blank\"><span style=\"color: #7f7f7f; text-decoration-color: #7f7f7f\">51</span></a>\n",
       "</pre>\n"
      ],
      "text/plain": [
       "\u001b[2;36m          \u001b[0m\u001b[2;36m \u001b[0m\u001b[34mINFO    \u001b[0m LLM server supports batched inputs: \u001b[3;92mTrue\u001b[0m                                         \u001b]8;id=915181;file:///workspace/home/lab/shiv/sdg_hub_pr/src/sdg_hub/blocks/llmblock.py\u001b\\\u001b[2mllmblock.py\u001b[0m\u001b]8;;\u001b\\\u001b[2m:\u001b[0m\u001b]8;id=170202;file:///workspace/home/lab/shiv/sdg_hub_pr/src/sdg_hub/blocks/llmblock.py#51\u001b\\\u001b[2m51\u001b[0m\u001b]8;;\u001b\\\n"
      ]
     },
     "metadata": {},
     "output_type": "display_data"
    },
    {
     "data": {
      "text/html": [
       "<pre style=\"white-space:pre;overflow-x:auto;line-height:normal;font-family:Menlo,'DejaVu Sans Mono',consolas,'Courier New',monospace\"><span style=\"color: #7fbfbf; text-decoration-color: #7fbfbf\">[15:32:33] </span><span style=\"color: #000080; text-decoration-color: #000080\">INFO    </span> HTTP Request: <span style=\"color: #808000; text-decoration-color: #808000; font-weight: bold\">POST</span> <span style=\"color: #0000ff; text-decoration-color: #0000ff; text-decoration: underline\">http://0.0.0.0:8000/v1/completions</span> <span style=\"color: #008000; text-decoration-color: #008000\">\"HTTP/1.1 200 OK\"</span>         <a href=\"file:///home/lab/.conda/envs/sdg_pr/lib/python3.11/site-packages/httpx/_client.py\" target=\"_blank\"><span style=\"color: #7f7f7f; text-decoration-color: #7f7f7f\">_client.py</span></a><span style=\"color: #7f7f7f; text-decoration-color: #7f7f7f\">:</span><a href=\"file:///home/lab/.conda/envs/sdg_pr/lib/python3.11/site-packages/httpx/_client.py#1025\" target=\"_blank\"><span style=\"color: #7f7f7f; text-decoration-color: #7f7f7f\">1025</span></a>\n",
       "</pre>\n"
      ],
      "text/plain": [
       "\u001b[2;36m[15:32:33]\u001b[0m\u001b[2;36m \u001b[0m\u001b[34mINFO    \u001b[0m HTTP Request: \u001b[1;33mPOST\u001b[0m \u001b[4;94mhttp://0.0.0.0:8000/v1/completions\u001b[0m \u001b[32m\"HTTP/1.1 200 OK\"\u001b[0m         \u001b]8;id=122558;file:///home/lab/.conda/envs/sdg_pr/lib/python3.11/site-packages/httpx/_client.py\u001b\\\u001b[2m_client.py\u001b[0m\u001b]8;;\u001b\\\u001b[2m:\u001b[0m\u001b]8;id=813107;file:///home/lab/.conda/envs/sdg_pr/lib/python3.11/site-packages/httpx/_client.py#1025\u001b\\\u001b[2m1025\u001b[0m\u001b]8;;\u001b\\\n"
      ]
     },
     "metadata": {},
     "output_type": "display_data"
    },
    {
     "data": {
      "text/html": [
       "<pre style=\"white-space:pre;overflow-x:auto;line-height:normal;font-family:Menlo,'DejaVu Sans Mono',consolas,'Courier New',monospace\"><span style=\"color: #7fbfbf; text-decoration-color: #7fbfbf\">[15:32:38] </span><span style=\"color: #000080; text-decoration-color: #000080\">INFO    </span> HTTP Request: <span style=\"color: #808000; text-decoration-color: #808000; font-weight: bold\">POST</span> <span style=\"color: #0000ff; text-decoration-color: #0000ff; text-decoration: underline\">http://0.0.0.0:8000/v1/completions</span> <span style=\"color: #008000; text-decoration-color: #008000\">\"HTTP/1.1 200 OK\"</span>         <a href=\"file:///home/lab/.conda/envs/sdg_pr/lib/python3.11/site-packages/httpx/_client.py\" target=\"_blank\"><span style=\"color: #7f7f7f; text-decoration-color: #7f7f7f\">_client.py</span></a><span style=\"color: #7f7f7f; text-decoration-color: #7f7f7f\">:</span><a href=\"file:///home/lab/.conda/envs/sdg_pr/lib/python3.11/site-packages/httpx/_client.py#1025\" target=\"_blank\"><span style=\"color: #7f7f7f; text-decoration-color: #7f7f7f\">1025</span></a>\n",
       "</pre>\n"
      ],
      "text/plain": [
       "\u001b[2;36m[15:32:38]\u001b[0m\u001b[2;36m \u001b[0m\u001b[34mINFO    \u001b[0m HTTP Request: \u001b[1;33mPOST\u001b[0m \u001b[4;94mhttp://0.0.0.0:8000/v1/completions\u001b[0m \u001b[32m\"HTTP/1.1 200 OK\"\u001b[0m         \u001b]8;id=665819;file:///home/lab/.conda/envs/sdg_pr/lib/python3.11/site-packages/httpx/_client.py\u001b\\\u001b[2m_client.py\u001b[0m\u001b]8;;\u001b\\\u001b[2m:\u001b[0m\u001b]8;id=107919;file:///home/lab/.conda/envs/sdg_pr/lib/python3.11/site-packages/httpx/_client.py#1025\u001b\\\u001b[2m1025\u001b[0m\u001b]8;;\u001b\\\n"
      ]
     },
     "metadata": {},
     "output_type": "display_data"
    },
    {
     "name": "stderr",
     "output_type": "stream",
     "text": [
      "Map: 100%|██████████| 62/62 [00:00<00:00, 12466.89 examples/s]\n",
      "Filter: 100%|██████████| 62/62 [00:00<00:00, 27561.93 examples/s]\n",
      "Filter: 100%|██████████| 62/62 [00:00<00:00, 27512.36 examples/s]\n"
     ]
    },
    {
     "data": {
      "text/html": [
       "<pre style=\"white-space:pre;overflow-x:auto;line-height:normal;font-family:Menlo,'DejaVu Sans Mono',consolas,'Courier New',monospace\"><span style=\"color: #7fbfbf; text-decoration-color: #7fbfbf\">[15:32:54] </span><span style=\"color: #000080; text-decoration-color: #000080\">INFO    </span> HTTP Request: <span style=\"color: #808000; text-decoration-color: #808000; font-weight: bold\">POST</span> <span style=\"color: #0000ff; text-decoration-color: #0000ff; text-decoration: underline\">http://0.0.0.0:8000/v1/completions</span> <span style=\"color: #008000; text-decoration-color: #008000\">\"HTTP/1.1 200 OK\"</span>         <a href=\"file:///home/lab/.conda/envs/sdg_pr/lib/python3.11/site-packages/httpx/_client.py\" target=\"_blank\"><span style=\"color: #7f7f7f; text-decoration-color: #7f7f7f\">_client.py</span></a><span style=\"color: #7f7f7f; text-decoration-color: #7f7f7f\">:</span><a href=\"file:///home/lab/.conda/envs/sdg_pr/lib/python3.11/site-packages/httpx/_client.py#1025\" target=\"_blank\"><span style=\"color: #7f7f7f; text-decoration-color: #7f7f7f\">1025</span></a>\n",
       "</pre>\n"
      ],
      "text/plain": [
       "\u001b[2;36m[15:32:54]\u001b[0m\u001b[2;36m \u001b[0m\u001b[34mINFO    \u001b[0m HTTP Request: \u001b[1;33mPOST\u001b[0m \u001b[4;94mhttp://0.0.0.0:8000/v1/completions\u001b[0m \u001b[32m\"HTTP/1.1 200 OK\"\u001b[0m         \u001b]8;id=9189;file:///home/lab/.conda/envs/sdg_pr/lib/python3.11/site-packages/httpx/_client.py\u001b\\\u001b[2m_client.py\u001b[0m\u001b]8;;\u001b\\\u001b[2m:\u001b[0m\u001b]8;id=224090;file:///home/lab/.conda/envs/sdg_pr/lib/python3.11/site-packages/httpx/_client.py#1025\u001b\\\u001b[2m1025\u001b[0m\u001b]8;;\u001b\\\n"
      ]
     },
     "metadata": {},
     "output_type": "display_data"
    },
    {
     "data": {
      "text/html": [
       "<pre style=\"white-space:pre;overflow-x:auto;line-height:normal;font-family:Menlo,'DejaVu Sans Mono',consolas,'Courier New',monospace\"><span style=\"color: #7fbfbf; text-decoration-color: #7fbfbf\">[15:33:03] </span><span style=\"color: #000080; text-decoration-color: #000080\">INFO    </span> HTTP Request: <span style=\"color: #808000; text-decoration-color: #808000; font-weight: bold\">POST</span> <span style=\"color: #0000ff; text-decoration-color: #0000ff; text-decoration: underline\">http://0.0.0.0:8000/v1/completions</span> <span style=\"color: #008000; text-decoration-color: #008000\">\"HTTP/1.1 200 OK\"</span>         <a href=\"file:///home/lab/.conda/envs/sdg_pr/lib/python3.11/site-packages/httpx/_client.py\" target=\"_blank\"><span style=\"color: #7f7f7f; text-decoration-color: #7f7f7f\">_client.py</span></a><span style=\"color: #7f7f7f; text-decoration-color: #7f7f7f\">:</span><a href=\"file:///home/lab/.conda/envs/sdg_pr/lib/python3.11/site-packages/httpx/_client.py#1025\" target=\"_blank\"><span style=\"color: #7f7f7f; text-decoration-color: #7f7f7f\">1025</span></a>\n",
       "</pre>\n"
      ],
      "text/plain": [
       "\u001b[2;36m[15:33:03]\u001b[0m\u001b[2;36m \u001b[0m\u001b[34mINFO    \u001b[0m HTTP Request: \u001b[1;33mPOST\u001b[0m \u001b[4;94mhttp://0.0.0.0:8000/v1/completions\u001b[0m \u001b[32m\"HTTP/1.1 200 OK\"\u001b[0m         \u001b]8;id=728019;file:///home/lab/.conda/envs/sdg_pr/lib/python3.11/site-packages/httpx/_client.py\u001b\\\u001b[2m_client.py\u001b[0m\u001b]8;;\u001b\\\u001b[2m:\u001b[0m\u001b]8;id=256503;file:///home/lab/.conda/envs/sdg_pr/lib/python3.11/site-packages/httpx/_client.py#1025\u001b\\\u001b[2m1025\u001b[0m\u001b]8;;\u001b\\\n"
      ]
     },
     "metadata": {},
     "output_type": "display_data"
    },
    {
     "name": "stderr",
     "output_type": "stream",
     "text": [
      "Map: 100%|██████████| 62/62 [00:00<00:00, 12240.95 examples/s]\n",
      "Filter: 100%|██████████| 62/62 [00:00<00:00, 34553.13 examples/s]\n",
      "Filter: 100%|██████████| 62/62 [00:00<00:00, 26309.88 examples/s]\n"
     ]
    }
   ],
   "source": [
    "generated_data = generator.generate(seed_data)"
   ]
  },
  {
   "cell_type": "markdown",
   "metadata": {},
   "source": [
    "## 🔍 Step 4: Explore and Validate the Synthetically Generated Data\n",
    "\n",
    "Once the skill generation pipeline has been executed, the output is a set of **synthetically generated examples** — new context-question-response triples that follow the same structure as the seed data but are expanded and refined by the teacher model.\n",
    "\n",
    "Below is an example of one generated entry:"
   ]
  },
  {
   "cell_type": "code",
   "execution_count": 10,
   "metadata": {},
   "outputs": [
    {
     "data": {
      "text/html": [
       "<pre style=\"white-space:pre;overflow-x:auto;line-height:normal;font-family:Menlo,'DejaVu Sans Mono',consolas,'Courier New',monospace\">╭─────────────────────────────────────────────────────────────────────────────────────────────────────────────────╮\n",
       "│ <span style=\"color: #ffaf00; text-decoration-color: #ffaf00; font-weight: bold\">Question:</span>                                                                                                       │\n",
       "│ **Transaction History**                                                                                         │\n",
       "│ | Transaction ID | Customer ID | Transaction Date | Amount |                                                    │\n",
       "│ |----------------|-------------|------------------|--------|                                                    │\n",
       "│ | T001           | C001        | 2022-01-01       | 100.00 |                                                    │\n",
       "│ | T002           | C002        | 2022-01-15       | 200.00 |                                                    │\n",
       "│ | T003           | C003        | 2022-02-01       | 50.00  |                                                    │\n",
       "│ | T004           | C004        | 2022-03-01       | 150.00 |                                                    │\n",
       "│ | T005           | C005        | 2022-04-01       | 250.00 |                                                    │\n",
       "│                                                                                                                 │\n",
       "│ **Customer Information**                                                                                        │\n",
       "│ | Customer ID | Name         | Email                | Country      |                                            │\n",
       "│ |-------------|--------------|----------------------|--------------|                                            │\n",
       "│ | C001        | John Smith   | john.smith@example   | United Kingdom|                                           │\n",
       "│ | C002        | Emily Lee    | emily.lee@example    | USA          |                                            │\n",
       "│ | C003        | David Kim    | david.kim@example    | South Korea  |                                            │\n",
       "│ | C004        | Sophia Patel | sophia.patel@example | India        |                                            │\n",
       "│ | C006        | Michael Brown| michael.brown@example| Australia    |                                            │\n",
       "│                                                                                                                 │\n",
       "│ Infer missing customer names based on a predefined list of common names, and calculate the total transaction    │\n",
       "│ amount for each customer. Then, join the tables on Customer ID, and compute a new column for the customer's     │\n",
       "│ transaction frequency based on a predefined formula. Drop any rows with missing customer information, and       │\n",
       "│ normalize the country names by standardizing them (e.g., United Kingdom → UK).                                  │\n",
       "│                                                                                                                 │\n",
       "│ <span style=\"color: #008000; text-decoration-color: #008000; font-weight: bold\">Response:</span>                                                                                                       │\n",
       "│ | Customer ID | Name         | Email                | Country | Transaction ID | Transaction Date | Amount |    │\n",
       "│ Total Amount | Transaction Frequency |                                                                          │\n",
       "│ |-------------|--------------|----------------------|---------|----------------|------------------|--------|--- │\n",
       "│ -----------|------------------------|                                                                           │\n",
       "│ | C001        | John Smith   | john.smith@example   | UK      | T001           | 2022-01-01       | 100.00 |    │\n",
       "│ 100.00       | 1                      |                                                                         │\n",
       "│ | C002        | Emily Lee    | emily.lee@example    | US      | T002           | 2022-01-15       | 200.00 |    │\n",
       "│ 200.00       | 1                      |                                                                         │\n",
       "│ | C003        | David Kim    | david.kim@example    | South Korea | T003 | 2022-02-01       | 50.00  | 50.00    │\n",
       "│ | 1                      |                                                                                      │\n",
       "│ | C004        | Sophia Patel | sophia.patel@example | India    | T004           | 2022-03-01       | 150.00 |   │\n",
       "│ 150.00       | 1                      |                                                                         │\n",
       "╰─────────────────────────────────────────────────────────────────────────────────────────────────────────────────╯\n",
       "</pre>\n"
      ],
      "text/plain": [
       "╭─────────────────────────────────────────────────────────────────────────────────────────────────────────────────╮\n",
       "│ \u001b[1;38;5;214mQuestion:\u001b[0m                                                                                                       │\n",
       "│ **Transaction History**                                                                                         │\n",
       "│ | Transaction ID | Customer ID | Transaction Date | Amount |                                                    │\n",
       "│ |----------------|-------------|------------------|--------|                                                    │\n",
       "│ | T001           | C001        | 2022-01-01       | 100.00 |                                                    │\n",
       "│ | T002           | C002        | 2022-01-15       | 200.00 |                                                    │\n",
       "│ | T003           | C003        | 2022-02-01       | 50.00  |                                                    │\n",
       "│ | T004           | C004        | 2022-03-01       | 150.00 |                                                    │\n",
       "│ | T005           | C005        | 2022-04-01       | 250.00 |                                                    │\n",
       "│                                                                                                                 │\n",
       "│ **Customer Information**                                                                                        │\n",
       "│ | Customer ID | Name         | Email                | Country      |                                            │\n",
       "│ |-------------|--------------|----------------------|--------------|                                            │\n",
       "│ | C001        | John Smith   | john.smith@example   | United Kingdom|                                           │\n",
       "│ | C002        | Emily Lee    | emily.lee@example    | USA          |                                            │\n",
       "│ | C003        | David Kim    | david.kim@example    | South Korea  |                                            │\n",
       "│ | C004        | Sophia Patel | sophia.patel@example | India        |                                            │\n",
       "│ | C006        | Michael Brown| michael.brown@example| Australia    |                                            │\n",
       "│                                                                                                                 │\n",
       "│ Infer missing customer names based on a predefined list of common names, and calculate the total transaction    │\n",
       "│ amount for each customer. Then, join the tables on Customer ID, and compute a new column for the customer's     │\n",
       "│ transaction frequency based on a predefined formula. Drop any rows with missing customer information, and       │\n",
       "│ normalize the country names by standardizing them (e.g., United Kingdom → UK).                                  │\n",
       "│                                                                                                                 │\n",
       "│ \u001b[1;32mResponse:\u001b[0m                                                                                                       │\n",
       "│ | Customer ID | Name         | Email                | Country | Transaction ID | Transaction Date | Amount |    │\n",
       "│ Total Amount | Transaction Frequency |                                                                          │\n",
       "│ |-------------|--------------|----------------------|---------|----------------|------------------|--------|--- │\n",
       "│ -----------|------------------------|                                                                           │\n",
       "│ | C001        | John Smith   | john.smith@example   | UK      | T001           | 2022-01-01       | 100.00 |    │\n",
       "│ 100.00       | 1                      |                                                                         │\n",
       "│ | C002        | Emily Lee    | emily.lee@example    | US      | T002           | 2022-01-15       | 200.00 |    │\n",
       "│ 200.00       | 1                      |                                                                         │\n",
       "│ | C003        | David Kim    | david.kim@example    | South Korea | T003 | 2022-02-01       | 50.00  | 50.00    │\n",
       "│ | 1                      |                                                                                      │\n",
       "│ | C004        | Sophia Patel | sophia.patel@example | India    | T004           | 2022-03-01       | 150.00 |   │\n",
       "│ 150.00       | 1                      |                                                                         │\n",
       "╰─────────────────────────────────────────────────────────────────────────────────────────────────────────────────╯\n"
      ]
     },
     "metadata": {},
     "output_type": "display_data"
    },
    {
     "data": {
      "text/html": [
       "<pre style=\"white-space:pre;overflow-x:auto;line-height:normal;font-family:Menlo,'DejaVu Sans Mono',consolas,'Courier New',monospace\"><span style=\"color: #ffffff; text-decoration-color: #ffffff\">───────────────────────────────────────────────────────────────────────────────────────────────────────────────────</span>\n",
       "</pre>\n"
      ],
      "text/plain": [
       "\u001b[97m───────────────────────────────────────────────────────────────────────────────────────────────────────────────────\u001b[0m\n"
      ]
     },
     "metadata": {},
     "output_type": "display_data"
    }
   ],
   "source": [
    "import random\n",
    "from rich.panel import Panel\n",
    "from rich.console import Console\n",
    "\n",
    "console = Console()\n",
    "rand_idx = random.choice(range(len(generated_data)))\n",
    "\n",
    "# Pretty print the generated examples using rich\n",
    "example = generated_data[rand_idx]\n",
    "console.print(Panel.fit(\n",
    "    f\"[bold orange1]Question:[/bold orange1]\\n{example['question']}\\n\\n\" \n",
    "    f\"[bold green]Response:[/bold green]\\n{example['response']}\"\n",
    "))\n",
    "console.rule(style=\"bright_white\")"
   ]
  },
  {
   "cell_type": "markdown",
   "metadata": {},
   "source": [
    "## 💾 Save the generated data\n",
    "\n",
    "```python\n",
    "generated_data.to_json(\"llama_generated_table_manipulation.jsonl\", orient=\"records\", lines=True)\n",
    "```"
   ]
  },
  {
   "cell_type": "markdown",
   "metadata": {},
   "source": [
    "## 🏁 Conclusion\n",
    "\n",
    "In this notebook, we demonstrated how to teach a custom skill to a language model using the InstructLab Skill Data Generator (SDG). Starting from a small set of seed examples, we walked through the full synthetic data generation pipeline — including context creation, question generation, response synthesis, evaluation, and filtering.\n",
    "\n",
    "We explored a real-world use case: Manipulating Markdown Tables, and showed how the LAB framework can automate the generation of high-quality, instructional training data at scale.\n",
    "\n",
    "This approach is especially powerful for procedural or domain-specific tasks where labeled data is scarce but consistent task logic can be modeled. With just a few carefully curated seed examples, you can unlock scalable skill creation and push new capabilities into LLMs with minimal manual effort.\n",
    "\n",
    "You’re now ready to use these synthetic examples for Fine-tuning small models!\n",
    "\n",
    "Next steps?\n",
    "\n",
    "* Try changing the parameters of the flow to see how the generated data changes (e.g. change the num_samples or try generating with different temperature)\n",
    "* Try adapting this pipeline to your own task, domain, or format — whether it’s triaging support tickets, extracting structured data, or following domain-specific workflows. The skills are yours to create."
   ]
  }
 ],
 "metadata": {
  "kernelspec": {
   "display_name": "ilsdg",
   "language": "python",
   "name": "python3"
  },
  "language_info": {
   "codemirror_mode": {
    "name": "ipython",
    "version": 3
   },
   "file_extension": ".py",
   "mimetype": "text/x-python",
   "name": "python",
   "nbconvert_exporter": "python",
   "pygments_lexer": "ipython3",
   "version": "3.11.12"
  }
 },
 "nbformat": 4,
 "nbformat_minor": 2
}
