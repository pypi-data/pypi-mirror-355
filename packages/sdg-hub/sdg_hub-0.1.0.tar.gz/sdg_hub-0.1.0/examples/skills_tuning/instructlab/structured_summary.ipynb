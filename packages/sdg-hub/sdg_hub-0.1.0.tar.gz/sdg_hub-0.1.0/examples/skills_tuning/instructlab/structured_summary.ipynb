{
 "cells": [
  {
   "cell_type": "code",
   "execution_count": 1,
   "metadata": {},
   "outputs": [],
   "source": [
    "%load_ext autoreload\n",
    "%autoreload 2"
   ]
  },
  {
   "cell_type": "code",
   "execution_count": null,
   "metadata": {},
   "outputs": [],
   "source": [
    "# Standard\n",
    "import random\n",
    "\n",
    "# Third Party\n",
    "from datasets import Dataset\n",
    "from openai import OpenAI\n",
    "from rich import print\n",
    "from rich.console import Console\n",
    "from rich.panel import Panel\n",
    "import yaml\n",
    "\n",
    "# First Party\n",
    "from sdg_hub.flow import Flow\n",
    "from sdg_hub.pipeline import Pipeline\n",
    "from sdg_hub.sdg import SDG\n",
    "from blocks import *"
   ]
  },
  {
   "cell_type": "markdown",
   "metadata": {},
   "source": [
    "## 🧾 Use Case 3: Structured Summary from Conversations\n",
    "\n",
    "In many enterprise workflows, unstructured conversations—like meeting transcripts, support calls, or financial briefings—contain valuable insights that need to be distilled into structured formats for downstream processing.\n",
    "\n",
    "In this use case, we aim to extract **structured summaries** from raw conversational transcripts. Specifically, we want the model to extract:\n",
    "\n",
    "- A concise **summary** of the conversation\n",
    "- Relevant **keywords**\n",
    "- **Named entities** such as people, organizations, and dates\n",
    "- The **sentiment** of the discussion\n",
    "\n",
    "\n",
    "### Why is this useful?\n",
    "\n",
    "Rather than just generating freeform text, this task helps transform unstructured inputs into **machine-readable structured outputs**, making it suitable for:\n",
    "\n",
    "- Reporting dashboards  \n",
    "- Automated indexing and retrieval  \n",
    "- Analytics pipelines  \n",
    "- Compliance and auditing tools\n",
    "\n",
    "### PDF Data \n",
    "\n",
    "You can find the pdf data here: [seed_data/financial_call_transcripts](seed_data/financial_call_transcripts)"
   ]
  },
  {
   "cell_type": "markdown",
   "metadata": {},
   "source": [
    "## 🧑‍🏫 Step 1: Set Up the Teacher Model\n",
    "\n",
    "This demo expects an openai compatible endpoint. You can use your favorite inference server like vLLM, HFInferenceServer, LlamaStack, etc. For more details on how to setup an inference server using vLLM, please refer to the [README](README.md).\n",
    "\n",
    "For this demo we will use Llama-3.3-70B-Instruct as our teacher model.\n",
    "\n",
    "#### Let's test the connection"
   ]
  },
  {
   "cell_type": "code",
   "execution_count": null,
   "metadata": {},
   "outputs": [],
   "source": [
    "from openai import OpenAI\n",
    "\n",
    "openai_api_key = \"EMPTY\"  # replace with your inference server api key\n",
    "openai_api_base = (\n",
    "    \"http://0.0.0.0:8000/v1\"  # replace with your inference server endpoint\n",
    ")\n",
    "\n",
    "\n",
    "client = OpenAI(\n",
    "    api_key=openai_api_key,\n",
    "    base_url=openai_api_base,\n",
    ")\n",
    "\n",
    "models = client.models.list()\n",
    "teacher_model = models.data[0].id\n",
    "\n",
    "# Test the connection with a simple completion\n",
    "response = client.chat.completions.create(\n",
    "    model=teacher_model,\n",
    "    messages=[{\"role\": \"user\", \"content\": \"Hello!\"}],\n",
    "    temperature=0.0,\n",
    "    max_tokens=10,\n",
    ")\n",
    "completion = response.choices[0].message.content\n",
    "\n",
    "print(f\"Connection successful! {teacher_model}: {completion}\")"
   ]
  },
  {
   "cell_type": "code",
   "execution_count": 4,
   "metadata": {},
   "outputs": [
    {
     "data": {
      "text/plain": [
       "{'conversation_id': 'c47a92e006b54d014a79b447528c55a7',\n",
       " 'pdf_path': 'seed_data/financial_call_transcripts/c47a92e006b54d014a79b447528c55a7.pdf'}"
      ]
     },
     "execution_count": 4,
     "metadata": {},
     "output_type": "execute_result"
    }
   ],
   "source": [
    "from datasets import load_dataset\n",
    "\n",
    "seed_data = load_dataset(\n",
    "    \"json\", data_files=\"seed_data/financial_call_transcripts.jsonl\", split=\"train\"\n",
    ")\n",
    "\n",
    "seed_data[0]"
   ]
  },
  {
   "cell_type": "markdown",
   "metadata": {},
   "source": [
    "## Setting up the pipeline\n",
    "\n",
    "\n",
    "In this section, we walk through a pipeline designed to process financial call transcripts (in PDF format) and extract structured insights using LLM-powered blocks. This is a classic example of transforming unstructured text into structured JSON for downstream analysis.\n",
    "\n",
    "\n",
    "\n",
    "This YAML defines a flow that reads PDF transcripts, parses them into text, and then uses LLMs to extract:\n",
    "* ✅ Summary of the transcript\n",
    "* ✅ Key topics or keywords\n",
    "* ✅ Mentioned named entities (people, organizations, locations, etc.)\n",
    "* ✅ Overall sentiment of the call\n",
    "\n",
    "All of these are combined into a final structured json_output.\n",
    "\n",
    "\n",
    "```mermaid \n",
    "graph LR\n",
    "    A[PDF Transcript] --> B[parse_transcript<br/>DoclingParsePDF]\n",
    "    B --> C[conversation]\n",
    "    C --> D[add_question<br/>AddStaticValue]\n",
    "    D --> E[gen_summary<br/>LLMBlock]\n",
    "    E --> F[gen_keywords<br/>LLMBlock]\n",
    "    F --> G[gen_named_entities<br/>LLMBlock]\n",
    "    G --> H[gen_sentiment<br/>LLMBlock]\n",
    "\n",
    "    H --> I[format_json<br/>JSONFormat]\n",
    "    I --> J[json_output]\n",
    "```"
   ]
  },
  {
   "cell_type": "code",
   "execution_count": 5,
   "metadata": {},
   "outputs": [],
   "source": [
    "# Load the flow\n",
    "flow = Flow(client).get_flow_from_file(\"flows/grounded_summary_extraction.yaml\")\n",
    "\n",
    "# Initialize the synthetic data generator\n",
    "generator = SDG(\n",
    "    [Pipeline(flow)],\n",
    ")"
   ]
  },
  {
   "cell_type": "code",
   "execution_count": null,
   "metadata": {},
   "outputs": [],
   "source": [
    "seed_data = seed_data.select(range(10)) # note: this is just for demo purposes, in practice you can use the entire dataset\n",
    "generated_data = generator.generate(seed_data)"
   ]
  },
  {
   "cell_type": "code",
   "execution_count": 7,
   "metadata": {},
   "outputs": [
    {
     "data": {
      "text/html": [
       "<pre style=\"white-space:pre;overflow-x:auto;line-height:normal;font-family:Menlo,'DejaVu Sans Mono',consolas,'Courier New',monospace\">╭───────────────────────────────────────────── 📊 Extracted Summary ──────────────────────────────────────────────╮\n",
       "│ <span style=\"color: #000000; text-decoration-color: #000000; background-color: #f8f8f8\">{</span><span style=\"background-color: #f8f8f8\">                                                                                                              </span> │\n",
       "│ <span style=\"color: #bbbbbb; text-decoration-color: #bbbbbb; background-color: #f8f8f8\">  </span><span style=\"color: #008000; text-decoration-color: #008000; background-color: #f8f8f8; font-weight: bold\">\"summary\"</span><span style=\"color: #000000; text-decoration-color: #000000; background-color: #f8f8f8\">:</span><span style=\"color: #bbbbbb; text-decoration-color: #bbbbbb; background-color: #f8f8f8\"> </span><span style=\"color: #ba2121; text-decoration-color: #ba2121; background-color: #f8f8f8\">\"The company reported a 23% growth in revenue over the fourth quarter last year, driven by growth </span> │\n",
       "│ <span style=\"color: #bbbbbb; text-decoration-color: #bbbbbb; background-color: #f8f8f8\">  </span><span style=\"color: #008000; text-decoration-color: #008000; background-color: #f8f8f8; font-weight: bold\">\"keywords\"</span><span style=\"color: #000000; text-decoration-color: #000000; background-color: #f8f8f8\">:</span><span style=\"color: #bbbbbb; text-decoration-color: #bbbbbb; background-color: #f8f8f8\"> </span><span style=\"color: #000000; text-decoration-color: #000000; background-color: #f8f8f8\">[</span><span style=\"background-color: #f8f8f8\">                                                                                                </span> │\n",
       "│ <span style=\"color: #bbbbbb; text-decoration-color: #bbbbbb; background-color: #f8f8f8\">    </span><span style=\"color: #ba2121; text-decoration-color: #ba2121; background-color: #f8f8f8\">\"Sparsentan\"</span><span style=\"color: #000000; text-decoration-color: #000000; background-color: #f8f8f8\">,</span><span style=\"background-color: #f8f8f8\">                                                                                              </span> │\n",
       "│ <span style=\"color: #bbbbbb; text-decoration-color: #bbbbbb; background-color: #f8f8f8\">    </span><span style=\"color: #ba2121; text-decoration-color: #ba2121; background-color: #f8f8f8\">\"FSGS\"</span><span style=\"color: #000000; text-decoration-color: #000000; background-color: #f8f8f8\">,</span><span style=\"background-color: #f8f8f8\">                                                                                                    </span> │\n",
       "│ <span style=\"color: #bbbbbb; text-decoration-color: #bbbbbb; background-color: #f8f8f8\">    </span><span style=\"color: #ba2121; text-decoration-color: #ba2121; background-color: #f8f8f8\">\"NEPTUNE Consortium\"</span><span style=\"color: #000000; text-decoration-color: #000000; background-color: #f8f8f8\">,</span><span style=\"background-color: #f8f8f8\">                                                                                      </span> │\n",
       "│ <span style=\"color: #bbbbbb; text-decoration-color: #bbbbbb; background-color: #f8f8f8\">    </span><span style=\"color: #ba2121; text-decoration-color: #ba2121; background-color: #f8f8f8\">\"FDA\"</span><span style=\"color: #000000; text-decoration-color: #000000; background-color: #f8f8f8\">,</span><span style=\"background-color: #f8f8f8\">                                                                                                     </span> │\n",
       "│ <span style=\"color: #bbbbbb; text-decoration-color: #bbbbbb; background-color: #f8f8f8\">    </span><span style=\"color: #ba2121; text-decoration-color: #ba2121; background-color: #f8f8f8\">\"DUET trial\"</span><span style=\"color: #000000; text-decoration-color: #000000; background-color: #f8f8f8\">,</span><span style=\"background-color: #f8f8f8\">                                                                                              </span> │\n",
       "│ <span style=\"color: #bbbbbb; text-decoration-color: #bbbbbb; background-color: #f8f8f8\">    </span><span style=\"color: #ba2121; text-decoration-color: #ba2121; background-color: #f8f8f8\">\"Cholbam\"</span><span style=\"color: #000000; text-decoration-color: #000000; background-color: #f8f8f8\">,</span><span style=\"background-color: #f8f8f8\">                                                                                                 </span> │\n",
       "│ <span style=\"color: #bbbbbb; text-decoration-color: #bbbbbb; background-color: #f8f8f8\">    </span><span style=\"color: #ba2121; text-decoration-color: #ba2121; background-color: #f8f8f8\">\"bile acid synthesis disorders\"</span><span style=\"color: #000000; text-decoration-color: #000000; background-color: #f8f8f8\">,</span><span style=\"background-color: #f8f8f8\">                                                                           </span> │\n",
       "│ <span style=\"color: #bbbbbb; text-decoration-color: #bbbbbb; background-color: #f8f8f8\">    </span><span style=\"color: #ba2121; text-decoration-color: #ba2121; background-color: #f8f8f8\">\"NephCure\"</span><span style=\"color: #000000; text-decoration-color: #000000; background-color: #f8f8f8\">,</span><span style=\"background-color: #f8f8f8\">                                                                                                </span> │\n",
       "│ <span style=\"color: #bbbbbb; text-decoration-color: #bbbbbb; background-color: #f8f8f8\">    </span><span style=\"color: #ba2121; text-decoration-color: #ba2121; background-color: #f8f8f8\">\"statistical modeling\"</span><span style=\"color: #000000; text-decoration-color: #000000; background-color: #f8f8f8\">,</span><span style=\"background-color: #f8f8f8\">                                                                                    </span> │\n",
       "│ <span style=\"color: #bbbbbb; text-decoration-color: #bbbbbb; background-color: #f8f8f8\">    </span><span style=\"color: #ba2121; text-decoration-color: #ba2121; background-color: #f8f8f8\">\"patient enrollment\"</span><span style=\"color: #000000; text-decoration-color: #000000; background-color: #f8f8f8\">,</span><span style=\"background-color: #f8f8f8\">                                                                                      </span> │\n",
       "│ <span style=\"color: #bbbbbb; text-decoration-color: #bbbbbb; background-color: #f8f8f8\">    </span><span style=\"color: #ba2121; text-decoration-color: #ba2121; background-color: #f8f8f8\">\"commercial portfolio\"</span><span style=\"color: #000000; text-decoration-color: #000000; background-color: #f8f8f8\">,</span><span style=\"background-color: #f8f8f8\">                                                                                    </span> │\n",
       "│ <span style=\"color: #bbbbbb; text-decoration-color: #bbbbbb; background-color: #f8f8f8\">    </span><span style=\"color: #ba2121; text-decoration-color: #ba2121; background-color: #f8f8f8\">\"rare disease patients\"</span><span style=\"color: #000000; text-decoration-color: #000000; background-color: #f8f8f8\">,</span><span style=\"background-color: #f8f8f8\">                                                                                   </span> │\n",
       "│ <span style=\"color: #bbbbbb; text-decoration-color: #bbbbbb; background-color: #f8f8f8\">    </span><span style=\"color: #ba2121; text-decoration-color: #ba2121; background-color: #f8f8f8\">\"sales force expansion\"</span><span style=\"color: #000000; text-decoration-color: #000000; background-color: #f8f8f8\">,</span><span style=\"background-color: #f8f8f8\">                                                                                   </span> │\n",
       "│ <span style=\"color: #bbbbbb; text-decoration-color: #bbbbbb; background-color: #f8f8f8\">    </span><span style=\"color: #ba2121; text-decoration-color: #ba2121; background-color: #f8f8f8\">\"financial growth\"</span><span style=\"color: #000000; text-decoration-color: #000000; background-color: #f8f8f8\">,</span><span style=\"background-color: #f8f8f8\">                                                                                        </span> │\n",
       "│ <span style=\"color: #bbbbbb; text-decoration-color: #bbbbbb; background-color: #f8f8f8\">    </span><span style=\"color: #ba2121; text-decoration-color: #ba2121; background-color: #f8f8f8\">\"regulatory pathway\"</span><span style=\"color: #000000; text-decoration-color: #000000; background-color: #f8f8f8\">,</span><span style=\"background-color: #f8f8f8\">                                                                                      </span> │\n",
       "│ <span style=\"color: #bbbbbb; text-decoration-color: #bbbbbb; background-color: #f8f8f8\">    </span><span style=\"color: #ba2121; text-decoration-color: #ba2121; background-color: #f8f8f8\">\"Phase II meeting\"</span><span style=\"background-color: #f8f8f8\">                                                                                         </span> │\n",
       "│ <span style=\"color: #bbbbbb; text-decoration-color: #bbbbbb; background-color: #f8f8f8\">  </span><span style=\"color: #000000; text-decoration-color: #000000; background-color: #f8f8f8\">],</span><span style=\"background-color: #f8f8f8\">                                                                                                           </span> │\n",
       "│ <span style=\"color: #bbbbbb; text-decoration-color: #bbbbbb; background-color: #f8f8f8\">  </span><span style=\"color: #008000; text-decoration-color: #008000; background-color: #f8f8f8; font-weight: bold\">\"named_entities\"</span><span style=\"color: #000000; text-decoration-color: #000000; background-color: #f8f8f8\">:</span><span style=\"color: #bbbbbb; text-decoration-color: #bbbbbb; background-color: #f8f8f8\"> </span><span style=\"color: #000000; text-decoration-color: #000000; background-color: #f8f8f8\">{</span><span style=\"background-color: #f8f8f8\">                                                                                          </span> │\n",
       "│ <span style=\"color: #bbbbbb; text-decoration-color: #bbbbbb; background-color: #f8f8f8\">    </span><span style=\"color: #008000; text-decoration-color: #008000; background-color: #f8f8f8; font-weight: bold\">\"organizations\"</span><span style=\"color: #000000; text-decoration-color: #000000; background-color: #f8f8f8\">:</span><span style=\"color: #bbbbbb; text-decoration-color: #bbbbbb; background-color: #f8f8f8\"> </span><span style=\"color: #000000; text-decoration-color: #000000; background-color: #f8f8f8\">[</span><span style=\"background-color: #f8f8f8\">                                                                                         </span> │\n",
       "│ <span style=\"color: #bbbbbb; text-decoration-color: #bbbbbb; background-color: #f8f8f8\">      </span><span style=\"color: #ba2121; text-decoration-color: #ba2121; background-color: #f8f8f8\">\"NEPTUNE Consortium\"</span><span style=\"color: #000000; text-decoration-color: #000000; background-color: #f8f8f8\">,</span><span style=\"background-color: #f8f8f8\">                                                                                    </span> │\n",
       "│ <span style=\"color: #bbbbbb; text-decoration-color: #bbbbbb; background-color: #f8f8f8\">      </span><span style=\"color: #ba2121; text-decoration-color: #ba2121; background-color: #f8f8f8\">\"NephCure\"</span><span style=\"color: #000000; text-decoration-color: #000000; background-color: #f8f8f8\">,</span><span style=\"background-color: #f8f8f8\">                                                                                              </span> │\n",
       "│ <span style=\"color: #bbbbbb; text-decoration-color: #bbbbbb; background-color: #f8f8f8\">      </span><span style=\"color: #ba2121; text-decoration-color: #ba2121; background-color: #f8f8f8\">\"Food and Drug Administration\"</span><span style=\"color: #000000; text-decoration-color: #000000; background-color: #f8f8f8\">,</span><span style=\"background-color: #f8f8f8\">                                                                          </span> │\n",
       "│ <span style=\"color: #bbbbbb; text-decoration-color: #bbbbbb; background-color: #f8f8f8\">      </span><span style=\"color: #ba2121; text-decoration-color: #ba2121; background-color: #f8f8f8\">\"FDA\"</span><span style=\"background-color: #f8f8f8\">                                                                                                    </span> │\n",
       "│ <span style=\"color: #bbbbbb; text-decoration-color: #bbbbbb; background-color: #f8f8f8\">    </span><span style=\"color: #000000; text-decoration-color: #000000; background-color: #f8f8f8\">],</span><span style=\"background-color: #f8f8f8\">                                                                                                         </span> │\n",
       "│ <span style=\"color: #bbbbbb; text-decoration-color: #bbbbbb; background-color: #f8f8f8\">    </span><span style=\"color: #008000; text-decoration-color: #008000; background-color: #f8f8f8; font-weight: bold\">\"people\"</span><span style=\"color: #000000; text-decoration-color: #000000; background-color: #f8f8f8\">:</span><span style=\"color: #bbbbbb; text-decoration-color: #bbbbbb; background-color: #f8f8f8\"> </span><span style=\"color: #000000; text-decoration-color: #000000; background-color: #f8f8f8\">[</span><span style=\"background-color: #f8f8f8\">                                                                                                </span> │\n",
       "│ <span style=\"color: #bbbbbb; text-decoration-color: #bbbbbb; background-color: #f8f8f8\">      </span><span style=\"color: #ba2121; text-decoration-color: #ba2121; background-color: #f8f8f8\">\"Bill\"</span><span style=\"color: #000000; text-decoration-color: #000000; background-color: #f8f8f8\">,</span><span style=\"background-color: #f8f8f8\">                                                                                                  </span> │\n",
       "│ <span style=\"color: #bbbbbb; text-decoration-color: #bbbbbb; background-color: #f8f8f8\">      </span><span style=\"color: #ba2121; text-decoration-color: #ba2121; background-color: #f8f8f8\">\"Steve\"</span><span style=\"color: #000000; text-decoration-color: #000000; background-color: #f8f8f8\">,</span><span style=\"background-color: #f8f8f8\">                                                                                                 </span> │\n",
       "│ <span style=\"color: #bbbbbb; text-decoration-color: #bbbbbb; background-color: #f8f8f8\">      </span><span style=\"color: #ba2121; text-decoration-color: #ba2121; background-color: #f8f8f8\">\"Laura\"</span><span style=\"background-color: #f8f8f8\">                                                                                                  </span> │\n",
       "│ <span style=\"color: #bbbbbb; text-decoration-color: #bbbbbb; background-color: #f8f8f8\">    </span><span style=\"color: #000000; text-decoration-color: #000000; background-color: #f8f8f8\">],</span><span style=\"background-color: #f8f8f8\">                                                                                                         </span> │\n",
       "│ <span style=\"color: #bbbbbb; text-decoration-color: #bbbbbb; background-color: #f8f8f8\">    </span><span style=\"color: #008000; text-decoration-color: #008000; background-color: #f8f8f8; font-weight: bold\">\"locations\"</span><span style=\"color: #000000; text-decoration-color: #000000; background-color: #f8f8f8\">:</span><span style=\"color: #bbbbbb; text-decoration-color: #bbbbbb; background-color: #f8f8f8\"> </span><span style=\"color: #008000; text-decoration-color: #008000; background-color: #f8f8f8; font-weight: bold\">null</span><span style=\"color: #000000; text-decoration-color: #000000; background-color: #f8f8f8\">,</span><span style=\"background-color: #f8f8f8\">                                                                                         </span> │\n",
       "│ <span style=\"color: #bbbbbb; text-decoration-color: #bbbbbb; background-color: #f8f8f8\">    </span><span style=\"color: #008000; text-decoration-color: #008000; background-color: #f8f8f8; font-weight: bold\">\"dates\"</span><span style=\"color: #000000; text-decoration-color: #000000; background-color: #f8f8f8\">:</span><span style=\"color: #bbbbbb; text-decoration-color: #bbbbbb; background-color: #f8f8f8\"> </span><span style=\"color: #000000; text-decoration-color: #000000; background-color: #f8f8f8\">[</span><span style=\"background-color: #f8f8f8\">                                                                                                 </span> │\n",
       "│ <span style=\"color: #bbbbbb; text-decoration-color: #bbbbbb; background-color: #f8f8f8\">      </span><span style=\"color: #666666; text-decoration-color: #666666; background-color: #f8f8f8\">2016</span><span style=\"color: #000000; text-decoration-color: #000000; background-color: #f8f8f8\">,</span><span style=\"background-color: #f8f8f8\">                                                                                                    </span> │\n",
       "│ <span style=\"color: #bbbbbb; text-decoration-color: #bbbbbb; background-color: #f8f8f8\">      </span><span style=\"color: #666666; text-decoration-color: #666666; background-color: #f8f8f8\">2017</span><span style=\"color: #000000; text-decoration-color: #000000; background-color: #f8f8f8\">,</span><span style=\"background-color: #f8f8f8\">                                                                                                    </span> │\n",
       "│ <span style=\"color: #bbbbbb; text-decoration-color: #bbbbbb; background-color: #f8f8f8\">      </span><span style=\"color: #ba2121; text-decoration-color: #ba2121; background-color: #f8f8f8\">\"November\"</span><span style=\"color: #000000; text-decoration-color: #000000; background-color: #f8f8f8\">,</span><span style=\"background-color: #f8f8f8\">                                                                                              </span> │\n",
       "│ <span style=\"color: #bbbbbb; text-decoration-color: #bbbbbb; background-color: #f8f8f8\">      </span><span style=\"color: #ba2121; text-decoration-color: #ba2121; background-color: #f8f8f8\">\"January\"</span><span style=\"color: #000000; text-decoration-color: #000000; background-color: #f8f8f8\">,</span><span style=\"background-color: #f8f8f8\">                                                                                               </span> │\n",
       "│ <span style=\"color: #bbbbbb; text-decoration-color: #bbbbbb; background-color: #f8f8f8\">      </span><span style=\"color: #ba2121; text-decoration-color: #ba2121; background-color: #f8f8f8\">\"Q2\"</span><span style=\"color: #000000; text-decoration-color: #000000; background-color: #f8f8f8\">,</span><span style=\"background-color: #f8f8f8\">                                                                                                    </span> │\n",
       "│ <span style=\"color: #bbbbbb; text-decoration-color: #bbbbbb; background-color: #f8f8f8\">      </span><span style=\"color: #ba2121; text-decoration-color: #ba2121; background-color: #f8f8f8\">\"Q4\"</span><span style=\"background-color: #f8f8f8\">                                                                                                     </span> │\n",
       "│ <span style=\"color: #bbbbbb; text-decoration-color: #bbbbbb; background-color: #f8f8f8\">    </span><span style=\"color: #000000; text-decoration-color: #000000; background-color: #f8f8f8\">]</span><span style=\"background-color: #f8f8f8\">                                                                                                          </span> │\n",
       "│ <span style=\"color: #bbbbbb; text-decoration-color: #bbbbbb; background-color: #f8f8f8\">  </span><span style=\"color: #000000; text-decoration-color: #000000; background-color: #f8f8f8\">},</span><span style=\"background-color: #f8f8f8\">                                                                                                           </span> │\n",
       "│ <span style=\"color: #bbbbbb; text-decoration-color: #bbbbbb; background-color: #f8f8f8\">  </span><span style=\"color: #008000; text-decoration-color: #008000; background-color: #f8f8f8; font-weight: bold\">\"sentiment\"</span><span style=\"color: #000000; text-decoration-color: #000000; background-color: #f8f8f8\">:</span><span style=\"color: #bbbbbb; text-decoration-color: #bbbbbb; background-color: #f8f8f8\"> </span><span style=\"color: #ba2121; text-decoration-color: #ba2121; background-color: #f8f8f8\">\"Positive\"</span><span style=\"background-color: #f8f8f8\">                                                                                      </span> │\n",
       "│ <span style=\"color: #000000; text-decoration-color: #000000; background-color: #f8f8f8\">}</span><span style=\"background-color: #f8f8f8\">                                                                                                              </span> │\n",
       "╰─────────────────────────────────────────────────────────────────────────────────────────────────────────────────╯\n",
       "</pre>\n"
      ],
      "text/plain": [
       "╭───────────────────────────────────────────── 📊 Extracted Summary ──────────────────────────────────────────────╮\n",
       "│ \u001b[38;2;0;0;0;48;2;248;248;248m{\u001b[0m\u001b[48;2;248;248;248m                                                                                                              \u001b[0m │\n",
       "│ \u001b[38;2;187;187;187;48;2;248;248;248m  \u001b[0m\u001b[1;38;2;0;128;0;48;2;248;248;248m\"summary\"\u001b[0m\u001b[38;2;0;0;0;48;2;248;248;248m:\u001b[0m\u001b[38;2;187;187;187;48;2;248;248;248m \u001b[0m\u001b[38;2;186;33;33;48;2;248;248;248m\"The company reported a 23% growth in revenue over the fourth quarter last year, driven by growth \u001b[0m │\n",
       "│ \u001b[38;2;187;187;187;48;2;248;248;248m  \u001b[0m\u001b[1;38;2;0;128;0;48;2;248;248;248m\"keywords\"\u001b[0m\u001b[38;2;0;0;0;48;2;248;248;248m:\u001b[0m\u001b[38;2;187;187;187;48;2;248;248;248m \u001b[0m\u001b[38;2;0;0;0;48;2;248;248;248m[\u001b[0m\u001b[48;2;248;248;248m                                                                                                \u001b[0m │\n",
       "│ \u001b[38;2;187;187;187;48;2;248;248;248m    \u001b[0m\u001b[38;2;186;33;33;48;2;248;248;248m\"Sparsentan\"\u001b[0m\u001b[38;2;0;0;0;48;2;248;248;248m,\u001b[0m\u001b[48;2;248;248;248m                                                                                              \u001b[0m │\n",
       "│ \u001b[38;2;187;187;187;48;2;248;248;248m    \u001b[0m\u001b[38;2;186;33;33;48;2;248;248;248m\"FSGS\"\u001b[0m\u001b[38;2;0;0;0;48;2;248;248;248m,\u001b[0m\u001b[48;2;248;248;248m                                                                                                    \u001b[0m │\n",
       "│ \u001b[38;2;187;187;187;48;2;248;248;248m    \u001b[0m\u001b[38;2;186;33;33;48;2;248;248;248m\"NEPTUNE Consortium\"\u001b[0m\u001b[38;2;0;0;0;48;2;248;248;248m,\u001b[0m\u001b[48;2;248;248;248m                                                                                      \u001b[0m │\n",
       "│ \u001b[38;2;187;187;187;48;2;248;248;248m    \u001b[0m\u001b[38;2;186;33;33;48;2;248;248;248m\"FDA\"\u001b[0m\u001b[38;2;0;0;0;48;2;248;248;248m,\u001b[0m\u001b[48;2;248;248;248m                                                                                                     \u001b[0m │\n",
       "│ \u001b[38;2;187;187;187;48;2;248;248;248m    \u001b[0m\u001b[38;2;186;33;33;48;2;248;248;248m\"DUET trial\"\u001b[0m\u001b[38;2;0;0;0;48;2;248;248;248m,\u001b[0m\u001b[48;2;248;248;248m                                                                                              \u001b[0m │\n",
       "│ \u001b[38;2;187;187;187;48;2;248;248;248m    \u001b[0m\u001b[38;2;186;33;33;48;2;248;248;248m\"Cholbam\"\u001b[0m\u001b[38;2;0;0;0;48;2;248;248;248m,\u001b[0m\u001b[48;2;248;248;248m                                                                                                 \u001b[0m │\n",
       "│ \u001b[38;2;187;187;187;48;2;248;248;248m    \u001b[0m\u001b[38;2;186;33;33;48;2;248;248;248m\"bile acid synthesis disorders\"\u001b[0m\u001b[38;2;0;0;0;48;2;248;248;248m,\u001b[0m\u001b[48;2;248;248;248m                                                                           \u001b[0m │\n",
       "│ \u001b[38;2;187;187;187;48;2;248;248;248m    \u001b[0m\u001b[38;2;186;33;33;48;2;248;248;248m\"NephCure\"\u001b[0m\u001b[38;2;0;0;0;48;2;248;248;248m,\u001b[0m\u001b[48;2;248;248;248m                                                                                                \u001b[0m │\n",
       "│ \u001b[38;2;187;187;187;48;2;248;248;248m    \u001b[0m\u001b[38;2;186;33;33;48;2;248;248;248m\"statistical modeling\"\u001b[0m\u001b[38;2;0;0;0;48;2;248;248;248m,\u001b[0m\u001b[48;2;248;248;248m                                                                                    \u001b[0m │\n",
       "│ \u001b[38;2;187;187;187;48;2;248;248;248m    \u001b[0m\u001b[38;2;186;33;33;48;2;248;248;248m\"patient enrollment\"\u001b[0m\u001b[38;2;0;0;0;48;2;248;248;248m,\u001b[0m\u001b[48;2;248;248;248m                                                                                      \u001b[0m │\n",
       "│ \u001b[38;2;187;187;187;48;2;248;248;248m    \u001b[0m\u001b[38;2;186;33;33;48;2;248;248;248m\"commercial portfolio\"\u001b[0m\u001b[38;2;0;0;0;48;2;248;248;248m,\u001b[0m\u001b[48;2;248;248;248m                                                                                    \u001b[0m │\n",
       "│ \u001b[38;2;187;187;187;48;2;248;248;248m    \u001b[0m\u001b[38;2;186;33;33;48;2;248;248;248m\"rare disease patients\"\u001b[0m\u001b[38;2;0;0;0;48;2;248;248;248m,\u001b[0m\u001b[48;2;248;248;248m                                                                                   \u001b[0m │\n",
       "│ \u001b[38;2;187;187;187;48;2;248;248;248m    \u001b[0m\u001b[38;2;186;33;33;48;2;248;248;248m\"sales force expansion\"\u001b[0m\u001b[38;2;0;0;0;48;2;248;248;248m,\u001b[0m\u001b[48;2;248;248;248m                                                                                   \u001b[0m │\n",
       "│ \u001b[38;2;187;187;187;48;2;248;248;248m    \u001b[0m\u001b[38;2;186;33;33;48;2;248;248;248m\"financial growth\"\u001b[0m\u001b[38;2;0;0;0;48;2;248;248;248m,\u001b[0m\u001b[48;2;248;248;248m                                                                                        \u001b[0m │\n",
       "│ \u001b[38;2;187;187;187;48;2;248;248;248m    \u001b[0m\u001b[38;2;186;33;33;48;2;248;248;248m\"regulatory pathway\"\u001b[0m\u001b[38;2;0;0;0;48;2;248;248;248m,\u001b[0m\u001b[48;2;248;248;248m                                                                                      \u001b[0m │\n",
       "│ \u001b[38;2;187;187;187;48;2;248;248;248m    \u001b[0m\u001b[38;2;186;33;33;48;2;248;248;248m\"Phase II meeting\"\u001b[0m\u001b[48;2;248;248;248m                                                                                         \u001b[0m │\n",
       "│ \u001b[38;2;187;187;187;48;2;248;248;248m  \u001b[0m\u001b[38;2;0;0;0;48;2;248;248;248m],\u001b[0m\u001b[48;2;248;248;248m                                                                                                           \u001b[0m │\n",
       "│ \u001b[38;2;187;187;187;48;2;248;248;248m  \u001b[0m\u001b[1;38;2;0;128;0;48;2;248;248;248m\"named_entities\"\u001b[0m\u001b[38;2;0;0;0;48;2;248;248;248m:\u001b[0m\u001b[38;2;187;187;187;48;2;248;248;248m \u001b[0m\u001b[38;2;0;0;0;48;2;248;248;248m{\u001b[0m\u001b[48;2;248;248;248m                                                                                          \u001b[0m │\n",
       "│ \u001b[38;2;187;187;187;48;2;248;248;248m    \u001b[0m\u001b[1;38;2;0;128;0;48;2;248;248;248m\"organizations\"\u001b[0m\u001b[38;2;0;0;0;48;2;248;248;248m:\u001b[0m\u001b[38;2;187;187;187;48;2;248;248;248m \u001b[0m\u001b[38;2;0;0;0;48;2;248;248;248m[\u001b[0m\u001b[48;2;248;248;248m                                                                                         \u001b[0m │\n",
       "│ \u001b[38;2;187;187;187;48;2;248;248;248m      \u001b[0m\u001b[38;2;186;33;33;48;2;248;248;248m\"NEPTUNE Consortium\"\u001b[0m\u001b[38;2;0;0;0;48;2;248;248;248m,\u001b[0m\u001b[48;2;248;248;248m                                                                                    \u001b[0m │\n",
       "│ \u001b[38;2;187;187;187;48;2;248;248;248m      \u001b[0m\u001b[38;2;186;33;33;48;2;248;248;248m\"NephCure\"\u001b[0m\u001b[38;2;0;0;0;48;2;248;248;248m,\u001b[0m\u001b[48;2;248;248;248m                                                                                              \u001b[0m │\n",
       "│ \u001b[38;2;187;187;187;48;2;248;248;248m      \u001b[0m\u001b[38;2;186;33;33;48;2;248;248;248m\"Food and Drug Administration\"\u001b[0m\u001b[38;2;0;0;0;48;2;248;248;248m,\u001b[0m\u001b[48;2;248;248;248m                                                                          \u001b[0m │\n",
       "│ \u001b[38;2;187;187;187;48;2;248;248;248m      \u001b[0m\u001b[38;2;186;33;33;48;2;248;248;248m\"FDA\"\u001b[0m\u001b[48;2;248;248;248m                                                                                                    \u001b[0m │\n",
       "│ \u001b[38;2;187;187;187;48;2;248;248;248m    \u001b[0m\u001b[38;2;0;0;0;48;2;248;248;248m],\u001b[0m\u001b[48;2;248;248;248m                                                                                                         \u001b[0m │\n",
       "│ \u001b[38;2;187;187;187;48;2;248;248;248m    \u001b[0m\u001b[1;38;2;0;128;0;48;2;248;248;248m\"people\"\u001b[0m\u001b[38;2;0;0;0;48;2;248;248;248m:\u001b[0m\u001b[38;2;187;187;187;48;2;248;248;248m \u001b[0m\u001b[38;2;0;0;0;48;2;248;248;248m[\u001b[0m\u001b[48;2;248;248;248m                                                                                                \u001b[0m │\n",
       "│ \u001b[38;2;187;187;187;48;2;248;248;248m      \u001b[0m\u001b[38;2;186;33;33;48;2;248;248;248m\"Bill\"\u001b[0m\u001b[38;2;0;0;0;48;2;248;248;248m,\u001b[0m\u001b[48;2;248;248;248m                                                                                                  \u001b[0m │\n",
       "│ \u001b[38;2;187;187;187;48;2;248;248;248m      \u001b[0m\u001b[38;2;186;33;33;48;2;248;248;248m\"Steve\"\u001b[0m\u001b[38;2;0;0;0;48;2;248;248;248m,\u001b[0m\u001b[48;2;248;248;248m                                                                                                 \u001b[0m │\n",
       "│ \u001b[38;2;187;187;187;48;2;248;248;248m      \u001b[0m\u001b[38;2;186;33;33;48;2;248;248;248m\"Laura\"\u001b[0m\u001b[48;2;248;248;248m                                                                                                  \u001b[0m │\n",
       "│ \u001b[38;2;187;187;187;48;2;248;248;248m    \u001b[0m\u001b[38;2;0;0;0;48;2;248;248;248m],\u001b[0m\u001b[48;2;248;248;248m                                                                                                         \u001b[0m │\n",
       "│ \u001b[38;2;187;187;187;48;2;248;248;248m    \u001b[0m\u001b[1;38;2;0;128;0;48;2;248;248;248m\"locations\"\u001b[0m\u001b[38;2;0;0;0;48;2;248;248;248m:\u001b[0m\u001b[38;2;187;187;187;48;2;248;248;248m \u001b[0m\u001b[1;38;2;0;128;0;48;2;248;248;248mnull\u001b[0m\u001b[38;2;0;0;0;48;2;248;248;248m,\u001b[0m\u001b[48;2;248;248;248m                                                                                         \u001b[0m │\n",
       "│ \u001b[38;2;187;187;187;48;2;248;248;248m    \u001b[0m\u001b[1;38;2;0;128;0;48;2;248;248;248m\"dates\"\u001b[0m\u001b[38;2;0;0;0;48;2;248;248;248m:\u001b[0m\u001b[38;2;187;187;187;48;2;248;248;248m \u001b[0m\u001b[38;2;0;0;0;48;2;248;248;248m[\u001b[0m\u001b[48;2;248;248;248m                                                                                                 \u001b[0m │\n",
       "│ \u001b[38;2;187;187;187;48;2;248;248;248m      \u001b[0m\u001b[38;2;102;102;102;48;2;248;248;248m2016\u001b[0m\u001b[38;2;0;0;0;48;2;248;248;248m,\u001b[0m\u001b[48;2;248;248;248m                                                                                                    \u001b[0m │\n",
       "│ \u001b[38;2;187;187;187;48;2;248;248;248m      \u001b[0m\u001b[38;2;102;102;102;48;2;248;248;248m2017\u001b[0m\u001b[38;2;0;0;0;48;2;248;248;248m,\u001b[0m\u001b[48;2;248;248;248m                                                                                                    \u001b[0m │\n",
       "│ \u001b[38;2;187;187;187;48;2;248;248;248m      \u001b[0m\u001b[38;2;186;33;33;48;2;248;248;248m\"November\"\u001b[0m\u001b[38;2;0;0;0;48;2;248;248;248m,\u001b[0m\u001b[48;2;248;248;248m                                                                                              \u001b[0m │\n",
       "│ \u001b[38;2;187;187;187;48;2;248;248;248m      \u001b[0m\u001b[38;2;186;33;33;48;2;248;248;248m\"January\"\u001b[0m\u001b[38;2;0;0;0;48;2;248;248;248m,\u001b[0m\u001b[48;2;248;248;248m                                                                                               \u001b[0m │\n",
       "│ \u001b[38;2;187;187;187;48;2;248;248;248m      \u001b[0m\u001b[38;2;186;33;33;48;2;248;248;248m\"Q2\"\u001b[0m\u001b[38;2;0;0;0;48;2;248;248;248m,\u001b[0m\u001b[48;2;248;248;248m                                                                                                    \u001b[0m │\n",
       "│ \u001b[38;2;187;187;187;48;2;248;248;248m      \u001b[0m\u001b[38;2;186;33;33;48;2;248;248;248m\"Q4\"\u001b[0m\u001b[48;2;248;248;248m                                                                                                     \u001b[0m │\n",
       "│ \u001b[38;2;187;187;187;48;2;248;248;248m    \u001b[0m\u001b[38;2;0;0;0;48;2;248;248;248m]\u001b[0m\u001b[48;2;248;248;248m                                                                                                          \u001b[0m │\n",
       "│ \u001b[38;2;187;187;187;48;2;248;248;248m  \u001b[0m\u001b[38;2;0;0;0;48;2;248;248;248m},\u001b[0m\u001b[48;2;248;248;248m                                                                                                           \u001b[0m │\n",
       "│ \u001b[38;2;187;187;187;48;2;248;248;248m  \u001b[0m\u001b[1;38;2;0;128;0;48;2;248;248;248m\"sentiment\"\u001b[0m\u001b[38;2;0;0;0;48;2;248;248;248m:\u001b[0m\u001b[38;2;187;187;187;48;2;248;248;248m \u001b[0m\u001b[38;2;186;33;33;48;2;248;248;248m\"Positive\"\u001b[0m\u001b[48;2;248;248;248m                                                                                      \u001b[0m │\n",
       "│ \u001b[38;2;0;0;0;48;2;248;248;248m}\u001b[0m\u001b[48;2;248;248;248m                                                                                                              \u001b[0m │\n",
       "╰─────────────────────────────────────────────────────────────────────────────────────────────────────────────────╯\n"
      ]
     },
     "metadata": {},
     "output_type": "display_data"
    }
   ],
   "source": [
    "from rich.console import Console\n",
    "from rich.panel import Panel\n",
    "from rich.syntax import Syntax\n",
    "import random\n",
    "import json\n",
    "\n",
    "\n",
    "rand_idx = random.choice(range(len(generated_data)))\n",
    "# Your data\n",
    "data = json.loads(generated_data[rand_idx][\"json_output\"])\n",
    "\n",
    "# Convert to JSON string with indentation for pretty printing\n",
    "json_str = json.dumps(data, indent=2)\n",
    "\n",
    "# Create syntax highlighted JSON\n",
    "syntax = Syntax(json_str, \"json\", theme=\"github\", line_numbers=False)\n",
    "\n",
    "# Display it inside a panel\n",
    "console = Console()\n",
    "console.print(Panel(syntax, title=\"📊 Extracted Summary\", expand=True))"
   ]
  },
  {
   "cell_type": "markdown",
   "metadata": {},
   "source": [
    "## ✅ Conclusion\n",
    "\n",
    "In this section, we demonstrated how to construct an end-to-end pipeline that transforms unstructured PDF transcripts into structured JSON insights using modular building blocks. By parsing the document, prompting an LLM to extract specific features, and formatting the results, we’ve created a scalable workflow for financial document analysis—or any use case involving long-form text.\n",
    "\n",
    "## 📝 Homework: Extend the Pipeline\n",
    "\n",
    "Your task is to add a new block that extracts a different kind of structured insight from the conversation context.\n",
    "\n",
    "Some examples include:\n",
    "* 🧩 Risk factors mentioned in the call\n",
    "* 📊 Numerical metrics (e.g., revenue, margin, headcount)\n",
    "* 📌 Action items or decisions discussed\n",
    "\n",
    "Once you’ve done that, you’ll have taken the first step toward custom skill authoring, opening the door to richer document understanding tailored to your own domain needs. "
   ]
  }
 ],
 "metadata": {
  "kernelspec": {
   "display_name": "ilsdg",
   "language": "python",
   "name": "python3"
  },
  "language_info": {
   "codemirror_mode": {
    "name": "ipython",
    "version": 3
   },
   "file_extension": ".py",
   "mimetype": "text/x-python",
   "name": "python",
   "nbconvert_exporter": "python",
   "pygments_lexer": "ipython3",
   "version": "3.11.12"
  }
 },
 "nbformat": 4,
 "nbformat_minor": 2
}
