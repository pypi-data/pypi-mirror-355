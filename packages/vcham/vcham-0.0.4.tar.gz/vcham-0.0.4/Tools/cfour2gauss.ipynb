{
 "cells": [
  {
   "cell_type": "code",
   "execution_count": 1,
   "metadata": {},
   "outputs": [
    {
     "name": "stdout",
     "output_type": "stream",
     "text": [
      "Intel MKL WARNING: Support of Intel(R) Streaming SIMD Extensions 4.2 (Intel(R) SSE4.2) enabled only processors has been deprecated. Intel oneAPI Math Kernel Library 2025.0 will require Intel(R) Advanced Vector Extensions (Intel(R) AVX) instructions.\n",
      "Intel MKL WARNING: Support of Intel(R) Streaming SIMD Extensions 4.2 (Intel(R) SSE4.2) enabled only processors has been deprecated. Intel oneAPI Math Kernel Library 2025.0 will require Intel(R) Advanced Vector Extensions (Intel(R) AVX) instructions.\n"
     ]
    }
   ],
   "source": [
    "import numpy as np"
   ]
  },
  {
   "cell_type": "code",
   "execution_count": 2,
   "metadata": {},
   "outputs": [],
   "source": [
    "inputfile = \"../Examples/c2h2f2/cfour_c2h2f2/output\"\n",
    "# Constants\n",
    "BOHR_TO_ANG = 0.529177210903\n",
    "ANG_TO_BOHR = 1. / BOHR_TO_ANG  # 1.889725989      # conversion from Angstrom to bohr\n",
    "U_TO_AMU = 1. / 5.4857990943e-4            # conversion from g/mol to amu"
   ]
  },
  {
   "cell_type": "code",
   "execution_count": 3,
   "metadata": {},
   "outputs": [
    {
     "data": {
      "text/plain": [
       "'\\n\\nThe original program was written by Dr. A.B. Trofimov. I have modified it a bit,\\nbut its core/engine is original. Also Horst was involved in creating the program, so you can ask him\\nabout the factors.\\n\\n'"
      ]
     },
     "execution_count": 3,
     "metadata": {},
     "output_type": "execute_result"
    }
   ],
   "source": [
    "\"\"\"\n",
    "\n",
    "The original program was written by Dr. A.B. Trofimov. I have modified it a bit,\n",
    "but its core/engine is original. Also Horst was involved in creating the program, so you can ask him\n",
    "about the factors.\n",
    "\n",
    "\"\"\""
   ]
  },
  {
   "cell_type": "code",
   "execution_count": 4,
   "metadata": {},
   "outputs": [
    {
     "name": "stdout",
     "output_type": "stream",
     "text": [
      "Atoms: ['C' 'C' 'H' 'H' 'F' 'F']\n",
      "Coordinates: [[-0.          0.          2.77325262]\n",
      " [-0.          0.          0.27041081]\n",
      " [-0.          1.77252639  3.77410851]\n",
      " [-0.         -1.77252639  3.77410851]\n",
      " [-0.          2.04009276 -1.16144612]\n",
      " [ 0.         -2.04009276 -1.16144612]]\n",
      "Masses: [12.         12.          1.00782503  1.00782503 18.99840322 18.99840322]\n"
     ]
    }
   ],
   "source": [
    "def parse_coordinates_and_masses(file_path):\n",
    "    start_reading_coords = False\n",
    "    start_reading_masses = False\n",
    "    coordinates = []\n",
    "    atoms = []\n",
    "    masses = []\n",
    "\n",
    "    with open(file_path, 'r') as file:\n",
    "        for line in file:\n",
    "            if \"Coordinates (in bohr)\" in line:\n",
    "                start_reading_coords = True\n",
    "                start_reading_masses = False\n",
    "                # Skip the next two header lines\n",
    "                next(file)\n",
    "                next(file)\n",
    "                continue\n",
    "            \n",
    "            if \"masses used\" in line:\n",
    "                start_reading_masses = True\n",
    "                start_reading_coords = False\n",
    "                continue\n",
    "\n",
    "            if start_reading_coords:\n",
    "                if line.strip() == \"\" or \"-----\" in line:  # End of the coordinate section\n",
    "                    start_reading_coords = False\n",
    "                    continue\n",
    "                parts = line.split()\n",
    "                if len(parts) >= 5:\n",
    "                    atom = parts[0]\n",
    "                    x = float(parts[2])\n",
    "                    y = float(parts[3])\n",
    "                    z = float(parts[4])\n",
    "                    atoms.append(atom)\n",
    "                    coordinates.append([x, y, z])\n",
    "\n",
    "            if start_reading_masses:\n",
    "                if \"Normal Coordinate Analysis\" in line:  # End of the masses section\n",
    "                    start_reading_masses = False\n",
    "                    continue\n",
    "                parts = line.split()\n",
    "                for mass in parts:\n",
    "                    masses.append(float(mass))\n",
    "\n",
    "    coordinates_array = np.array(coordinates)\n",
    "    atoms_array = np.array(atoms)\n",
    "    masses_array = np.array(masses)\n",
    "    return atoms_array, coordinates_array, masses_array\n",
    "\n",
    "# Example usage\n",
    "file_path = 'output.txt'\n",
    "atoms_array, coordinates_array, masses_array = parse_coordinates_and_masses(inputfile)\n",
    "print(\"Atoms:\", atoms_array)\n",
    "print(\"Coordinates:\", coordinates_array)\n",
    "print(\"Masses:\", masses_array)"
   ]
  },
  {
   "cell_type": "code",
   "execution_count": 5,
   "metadata": {},
   "outputs": [
    {
     "name": "stdout",
     "output_type": "stream",
     "text": [
      "Irreducible Representations: ['B2' 'A1' 'B1' 'A2' 'B1' 'A1' 'B2' 'B2' 'A1' 'A1' 'A1' 'B2']\n",
      "Frequencies: [ 437.65  554.94  624.51  723.68  815.49  942.41  972.66 1354.07 1422.52\n",
      " 1778.08 3210.23 3316.54]\n",
      "Normal Modes: [[[-0.000e+00  3.903e-01 -0.000e+00]\n",
      "  [ 0.000e+00 -3.060e-01 -0.000e+00]\n",
      "  [-0.000e+00  2.895e-01 -3.049e-01]\n",
      "  [ 0.000e+00  2.895e-01  3.049e-01]\n",
      "  [ 0.000e+00 -1.002e-01  4.361e-01]\n",
      "  [-0.000e+00 -1.002e-01 -4.361e-01]]\n",
      "\n",
      " [[ 0.000e+00  0.000e+00  3.515e-01]\n",
      "  [ 0.000e+00 -0.000e+00  2.888e-01]\n",
      "  [ 0.000e+00 -1.000e-03  1.064e-01]\n",
      "  [-0.000e+00  1.000e-03  1.064e-01]\n",
      "  [-0.000e+00 -5.544e-01 -2.790e-01]\n",
      "  [ 0.000e+00  5.544e-01 -2.790e-01]]\n",
      "\n",
      " [[ 2.109e-01 -0.000e+00  0.000e+00]\n",
      "  [-8.923e-01 -0.000e+00  0.000e+00]\n",
      "  [ 1.566e-01  0.000e+00  0.000e+00]\n",
      "  [ 1.566e-01  0.000e+00  0.000e+00]\n",
      "  [ 2.347e-01 -0.000e+00 -0.000e+00]\n",
      "  [ 2.347e-01  0.000e+00 -0.000e+00]]\n",
      "\n",
      " [[-0.000e+00 -0.000e+00 -0.000e+00]\n",
      "  [ 0.000e+00 -0.000e+00 -0.000e+00]\n",
      "  [ 6.930e-01 -0.000e+00 -0.000e+00]\n",
      "  [-6.930e-01 -0.000e+00 -0.000e+00]\n",
      "  [-1.380e-01  0.000e+00  0.000e+00]\n",
      "  [ 1.380e-01 -0.000e+00  0.000e+00]]\n",
      "\n",
      " [[ 4.848e-01  0.000e+00 -0.000e+00]\n",
      "  [-1.057e-01 -0.000e+00 -0.000e+00]\n",
      "  [-6.139e-01 -0.000e+00  0.000e+00]\n",
      "  [-6.139e-01 -0.000e+00 -0.000e+00]\n",
      "  [-9.200e-03 -0.000e+00  0.000e+00]\n",
      "  [-9.200e-03 -0.000e+00  0.000e+00]]\n",
      "\n",
      " [[ 0.000e+00 -0.000e+00  5.375e-01]\n",
      "  [ 0.000e+00 -0.000e+00  1.781e-01]\n",
      "  [-0.000e+00 -2.310e-02  2.148e-01]\n",
      "  [-0.000e+00  2.310e-02  2.148e-01]\n",
      "  [-0.000e+00  4.261e-01 -3.339e-01]\n",
      "  [-0.000e+00 -4.261e-01 -3.339e-01]]\n",
      "\n",
      " [[-0.000e+00  4.927e-01  0.000e+00]\n",
      "  [-0.000e+00  1.168e-01  0.000e+00]\n",
      "  [ 0.000e+00 -1.499e-01  5.053e-01]\n",
      "  [ 0.000e+00 -1.499e-01 -5.053e-01]\n",
      "  [ 0.000e+00 -2.077e-01  2.256e-01]\n",
      "  [ 0.000e+00 -2.077e-01 -2.256e-01]]\n",
      "\n",
      " [[ 0.000e+00  1.845e-01 -0.000e+00]\n",
      "  [ 0.000e+00 -8.382e-01 -0.000e+00]\n",
      "  [-0.000e+00 -5.430e-02  1.729e-01]\n",
      "  [-0.000e+00 -5.430e-02 -1.729e-01]\n",
      "  [-0.000e+00  2.723e-01 -1.572e-01]\n",
      "  [-0.000e+00  2.723e-01  1.572e-01]]\n",
      "\n",
      " [[ 0.000e+00 -0.000e+00  1.838e-01]\n",
      "  [ 0.000e+00  0.000e+00  3.099e-01]\n",
      "  [-0.000e+00  3.403e-01 -5.571e-01]\n",
      "  [-0.000e+00 -3.403e-01 -5.571e-01]\n",
      "  [-0.000e+00  6.550e-02 -6.790e-02]\n",
      "  [-0.000e+00 -6.550e-02 -6.790e-02]]\n",
      "\n",
      " [[ 0.000e+00  0.000e+00  5.602e-01]\n",
      "  [-0.000e+00  0.000e+00 -7.747e-01]\n",
      "  [ 0.000e+00  1.562e-01 -4.920e-02]\n",
      "  [-0.000e+00 -1.562e-01 -4.920e-02]\n",
      "  [ 0.000e+00 -8.250e-02  9.660e-02]\n",
      "  [ 0.000e+00  8.250e-02  9.660e-02]]\n",
      "\n",
      " [[-0.000e+00  0.000e+00  2.290e-01]\n",
      "  [ 0.000e+00 -0.000e+00 -3.330e-02]\n",
      "  [-0.000e+00 -5.994e-01 -3.376e-01]\n",
      "  [ 0.000e+00  5.994e-01 -3.376e-01]\n",
      "  [-0.000e+00  2.000e-04 -0.000e+00]\n",
      "  [-0.000e+00 -2.000e-04 -0.000e+00]]\n",
      "\n",
      " [[ 0.000e+00  3.317e-01 -0.000e+00]\n",
      "  [ 0.000e+00  7.300e-03 -0.000e+00]\n",
      "  [-0.000e+00 -5.766e-01 -3.353e-01]\n",
      "  [ 0.000e+00 -5.766e-01  3.353e-01]\n",
      "  [ 0.000e+00 -1.900e-03  2.100e-03]\n",
      "  [-0.000e+00 -1.900e-03 -2.100e-03]]]\n"
     ]
    },
    {
     "data": {
      "text/plain": [
       "(12, 6, 3)"
      ]
     },
     "execution_count": 5,
     "metadata": {},
     "output_type": "execute_result"
    }
   ],
   "source": [
    "def parse_normal_coordinates(file_path, natoms, is_linear):\n",
    "    start_reading = False\n",
    "    frequencies = []\n",
    "    full_normal_modes = []\n",
    "    last_line_nmodes = []\n",
    "    irreps = []\n",
    "    num_modes = 3 * natoms - 5 if is_linear else 3 * natoms - 6\n",
    "\n",
    "    with open(file_path, 'r') as file:\n",
    "        for line in file:\n",
    "            if \"Normal Coordinates\" in line:\n",
    "                start_reading = True\n",
    "                # next(file)  # Skip the empty line following \"Normal Coordinates\"\n",
    "                continue\n",
    "            \n",
    "            if start_reading:\n",
    "                full_blocks = num_modes // 3  # The modes are distributed in 3 columns\n",
    "                last_block = None if (num_modes % 3) == 0 else (num_modes % 3)\n",
    "                for _ in range(full_blocks):\n",
    "                    irreps.extend(next(file).split())\n",
    "                    freqs = [float(f) for f in next(file).split()]\n",
    "                    frequencies.extend(freqs)\n",
    "                    next(file)  # Skip the \"VIBRATION\" line\n",
    "\n",
    "                    for _ in range(natoms):\n",
    "                        line_nmode = next(file).split()[1:]  # Skip the atom label\n",
    "                        line_nmode = [float(f) for f in line_nmode]\n",
    "                        full_normal_modes.append(line_nmode)\n",
    "                    \n",
    "                    next(file)  # Skip the blank line at the end of the block\n",
    "                full_normal_modes = np.array(full_normal_modes).reshape(full_blocks,9 * natoms) # 9 because there are 3nmodes in cartesian(xyz) per blockfull_blocks\n",
    "                full_normal_modes = np.reshape(full_normal_modes, (full_blocks, natoms * 3, 3)) # making the blocks simpler\n",
    "                \n",
    "                if last_block:\n",
    "                    irreps.extend(next(file).split())\n",
    "                    freqs = [float(f) for f in next(file).split()]\n",
    "                    frequencies.extend(freqs)\n",
    "                    next(file)  # Skip the \"VIBRATION\" line\n",
    "\n",
    "                    for _ in range(natoms):\n",
    "                        line_nmode = next(file).split()[1:]  # Skip the atom label\n",
    "                        line_nmode = [float(f) for f in line_nmode]\n",
    "                        last_line_nmodes.append(line_nmode)\n",
    "                    last_line_nmodes = np.array(last_line_nmodes).reshape(-1) # all data in a line\n",
    "                    last_line_nmodes = np.reshape(last_line_nmodes,(natoms * last_block,3)) # Same structure as before \n",
    "\n",
    "                start_reading = False\n",
    "    arr_nmodes_reshap = []\n",
    "    for block in range(full_blocks):\n",
    "        arr_full_lines = [[] for _ in range(3)]\n",
    "        for idx in range(natoms):\n",
    "            arr_full_lines[0].append(full_normal_modes[block][0+idx*3])\n",
    "            arr_full_lines[1].append(full_normal_modes[block][1+idx*3])\n",
    "            arr_full_lines[2].append(full_normal_modes[block][2+idx*3])\n",
    "        arr_full_lines = np.array(arr_full_lines)\n",
    "        arr_nmodes_reshap.extend(arr_full_lines)\n",
    "    if last_block:\n",
    "        arr_last_lines = [[] for _ in range(last_block)]\n",
    "        if last_block == 2:\n",
    "            for idx in range(natoms):\n",
    "                print(last_line_nmodes[0+idx*2])\n",
    "                arr_last_lines[0].append(last_line_nmodes[0+idx*2])\n",
    "                arr_last_lines[1].append(last_line_nmodes[1+idx*2])\n",
    "        else:\n",
    "            for idx in range(natoms):\n",
    "                arr_last_lines[0].append(last_line_nmodes[0+idx])\n",
    "        arr_nmodes_reshap.extend(arr_last_lines)\n",
    "    arr_nmodes_reshap = np.array(arr_nmodes_reshap)\n",
    "\n",
    "    frequencies_array = np.array(frequencies)\n",
    "    normal_modes_array = np.array(arr_nmodes_reshap)\n",
    "    irreps_array = np.array(irreps)\n",
    "    \n",
    "    return irreps_array, frequencies_array, normal_modes_array\n",
    "\n",
    "natoms = 6 \n",
    "is_linear = False \n",
    "\n",
    "irreps_array, frequencies_array, normal_modes_array = parse_normal_coordinates(inputfile, natoms, is_linear)\n",
    "print(\"Irreducible Representations:\", irreps_array)\n",
    "print(\"Frequencies:\", frequencies_array)\n",
    "print(\"Normal Modes:\", normal_modes_array)\n",
    "np.shape(normal_modes_array)\n"
   ]
  },
  {
   "cell_type": "code",
   "execution_count": 6,
   "metadata": {},
   "outputs": [
    {
     "data": {
      "text/plain": [
       "array([[-0.        ,  0.        ,  1.46754209],\n",
       "       [-0.        ,  0.        ,  0.14309524],\n",
       "       [-0.        ,  0.93798057,  1.99717221],\n",
       "       [-0.        , -0.93798057,  1.99717221],\n",
       "       [-0.        ,  1.0795706 , -0.61461082],\n",
       "       [ 0.        , -1.0795706 , -0.61461082]])"
      ]
     },
     "execution_count": 6,
     "metadata": {},
     "output_type": "execute_result"
    }
   ],
   "source": [
    "# Transform coordinates from Bohr to Angtrom\n",
    "ref_geom = coordinates_array * BOHR_TO_ANG \n",
    "ref_geom"
   ]
  },
  {
   "cell_type": "markdown",
   "metadata": {},
   "source": [
    "## Calculation of the reduced mass of each mode"
   ]
  },
  {
   "cell_type": "code",
   "execution_count": 7,
   "metadata": {},
   "outputs": [
    {
     "data": {
      "text/plain": [
       "array([ 2.54855714, 12.45866919,  8.03073359,  1.04707083,  1.30137166,\n",
       "        6.65826092,  1.71659702,  7.30098322,  1.16622613,  7.62858541,\n",
       "        1.05974663,  1.12100992])"
      ]
     },
     "execution_count": 7,
     "metadata": {},
     "output_type": "execute_result"
    }
   ],
   "source": [
    "\"\"\"\n",
    "205 c    Calculating reduced mass\n",
    "206 c\n",
    "207       do 40 i=1,nummod\n",
    "208          Summ=zero\n",
    "209          mm=1\n",
    "210          do 30 j=1,natoms*3\n",
    "211          xmasa=XMass(mm)\n",
    "212          Summ=Summ+zmod(j,i)*zmod(j,i)/xmasa\n",
    "213          If (mod(j,3) .eq. 0) mm=mm+1\n",
    "214    30    Continue\n",
    "215 c\n",
    "216       Redm(i)=one/Summ\n",
    "\"\"\"\n",
    "\n",
    "red_mass = []\n",
    "for mode in normal_modes_array:\n",
    "    suma = np.sum(mode**2 /masses_array[:,np.newaxis])\n",
    "    red_mass.append(1/suma)\n",
    "red_mass = np.array(red_mass)\n",
    "red_mass\n"
   ]
  },
  {
   "cell_type": "markdown",
   "metadata": {},
   "source": [
    "## CFOUR normal modes to Gaussian normal modes"
   ]
  },
  {
   "cell_type": "code",
   "execution_count": 8,
   "metadata": {},
   "outputs": [
    {
     "name": "stdout",
     "output_type": "stream",
     "text": [
      "[[-0.      0.3903 -0.    ]\n",
      " [ 0.     -0.306  -0.    ]\n",
      " [-0.      0.2895 -0.3049]\n",
      " [ 0.      0.2895  0.3049]\n",
      " [ 0.     -0.1002  0.4361]\n",
      " [-0.     -0.1002 -0.4361]]\n",
      "[[-0.          0.1798685  -0.        ]\n",
      " [ 0.         -0.14101912 -0.        ]\n",
      " [-0.          0.46036594 -0.48485518]\n",
      " [ 0.          0.46036594  0.48485518]\n",
      " [ 0.         -0.03669918  0.15972567]\n",
      " [-0.         -0.03669918 -0.15972567]]\n"
     ]
    }
   ],
   "source": [
    "\"\"\"\n",
    "220 c   l(aces) to l(Gauss)\n",
    "221 c\n",
    "222       do 50 i=1,nummod\n",
    "223          RedSq=dsqrt(Redm(i))\n",
    "224          mm=1\n",
    "225          do 50 j=1,natoms*3\n",
    "226          xmasa=XMass(mm)\n",
    "227          zmod(j,i)=zmod(j,i)*RedSq/dsqrt(xmasa)\n",
    "228          If (mod(j,3) .eq. 0) mm=mm+1\n",
    "229    50 Continue\n",
    "\n",
    "\n",
    "\"\"\"\n",
    "new_modes = np.empty_like(normal_modes_array)\n",
    "red_mass_sqrt = np.sqrt(red_mass)\n",
    "\n",
    "for idx, mode in enumerate(normal_modes_array):\n",
    "    new_modes[idx] = mode * red_mass_sqrt[idx] / np.sqrt(masses_array[:,np.newaxis])\n",
    "\n",
    "print(normal_modes_array[0])\n",
    "print(new_modes[0])\n"
   ]
  },
  {
   "cell_type": "markdown",
   "metadata": {},
   "source": [
    "## Calculation of dimensionless normal mode displacements"
   ]
  },
  {
   "cell_type": "code",
   "execution_count": 9,
   "metadata": {},
   "outputs": [],
   "source": [
    "\"\"\"\n",
    " 18       data c1 / 219480.65050000d+00 /\n",
    " 19       data c2 /      6.42297000d-02 /\n",
    " 20       data c3 /      5.48580260d-04 /\n",
    " 21       data c4 /      5.29177060d-01 /\n",
    " 22 c\n",
    " 23 c---  Compute some conversion factors\n",
    " 24 c\n",
    " 25       c1c2c3 = c1 * dsqrt (c2 * c3)\n",
    " 26       c1c3c4 = c4 * dsqrt (c1 * c3)\n",
    "\n",
    "\"\"\"\n",
    "# Defining constants\n",
    "# Hartree to cm-1\n",
    "HARTREE_TO_CM1 = 219474.63136320\n",
    "# c2 is force related\n",
    "AMU_TO_AU =  5.485799090441e-4  \n",
    "BOHR_TO_ANG = 0.529177210903\n",
    "\n",
    "c1c3c4 = BOHR_TO_ANG * np.sqrt(HARTREE_TO_CM1* AMU_TO_AU)"
   ]
  },
  {
   "cell_type": "code",
   "execution_count": 10,
   "metadata": {},
   "outputs": [
    {
     "name": "stdout",
     "output_type": "stream",
     "text": [
      "[1. 1. 1. 1. 1. 1. 1. 1. 1. 1. 1. 1.]\n",
      "[ 2.54846822 12.45869822  8.02987752  1.04559028  1.30152682  6.65874032\n",
      "  1.71670178  7.30115516  1.16616871  7.6278066   1.05980832  1.1208771 ]\n"
     ]
    }
   ],
   "source": [
    "\"\"\"\n",
    "145 c---  Check for consistency and\n",
    "146 c---  compute scaling factor\n",
    "147 c\n",
    "148       do 90 j=1,nmodes\n",
    "149 c\n",
    "150 c---     compute for each mode:\n",
    "151 c---     a) Norm\n",
    "152 c---     b) Reduced Mass\n",
    "153 c---     c) Frequency\n",
    "154 c---     d) Scaling factor to get unit \n",
    "155 c---        normal coordinate displacement\n",
    "156 c\n",
    "157          sum1 = zero\n",
    "158          sum2 = zero\n",
    "159 c\n",
    "160          do 80 i=1,natom3\n",
    "161             term = zmod (i,j)\n",
    "162             terx = term * term\n",
    "163             sum1 = sum1 + terx\n",
    "164             sum2 = sum2 + terx * amuc (i)\n",
    "165    80    continue\n",
    "166 c\n",
    "167          znorm (j) = sum1\n",
    "168          zred  (j) = sum2\n",
    "169 c        zfreq (j) = c1c2c3 * dsqrt ( force  (j) / redmas (j) )\n",
    "170          runit (j) = c1c3c4 / dsqrt ( redmas (j) * freq   (j) )\n",
    "171    90 continue\n",
    "172 c\n",
    "\n",
    "\"\"\"\n",
    "znorm = np.empty_like(red_mass)\n",
    "zred  = np.empty_like(red_mass)\n",
    "runit = np.empty_like(red_mass)\n",
    "\n",
    "for idx, mode in enumerate(new_modes):\n",
    "    mode2 = mode * mode\n",
    "    znorm[idx] = np.sum(mode2)\n",
    "    zred[idx]  = np.sum(mode2 * masses_array[:,np.newaxis])\n",
    "\n",
    "# znorm should give an array filled with ones \n",
    "# zred should give an array filled with the reduced masses\n",
    "\n",
    "print(znorm)\n",
    "print(zred)\n",
    "runit = c1c3c4 / np.sqrt(red_mass * frequencies_array)\n"
   ]
  },
  {
   "cell_type": "code",
   "execution_count": 11,
   "metadata": {},
   "outputs": [
    {
     "name": "stdout",
     "output_type": "stream",
     "text": [
      "12\n",
      "(12,)\n",
      "[0. 0. 0. 0. 0. 0. 0. 0. 0. 0. 0. 0.]\n"
     ]
    }
   ],
   "source": [
    "print(np.shape(new_modes)[0])\n",
    "print(np.shape(red_mass))\n",
    "znorm = np.zeros(new_modes.shape[0])\n",
    "print(znorm)"
   ]
  },
  {
   "cell_type": "code",
   "execution_count": 12,
   "metadata": {},
   "outputs": [
    {
     "data": {
      "text/plain": [
       "array([[[-0.00000000e+00,  3.12721477e-02, -0.00000000e+00],\n",
       "        [ 0.00000000e+00, -2.45177484e-02, -0.00000000e+00],\n",
       "        [-0.00000000e+00,  8.00397598e-02, -8.42974880e-02],\n",
       "        [ 0.00000000e+00,  8.00397598e-02,  8.42974880e-02],\n",
       "        [ 0.00000000e+00, -6.38056226e-03,  2.77700918e-02],\n",
       "        [-0.00000000e+00, -6.38056226e-03, -2.77700918e-02]],\n",
       "\n",
       "       [[ 0.00000000e+00,  0.00000000e+00,  2.50106476e-02],\n",
       "        [ 0.00000000e+00, -0.00000000e+00,  2.05492889e-02],\n",
       "        [ 0.00000000e+00, -2.45526097e-04,  2.61239767e-02],\n",
       "        [-0.00000000e+00,  2.45526097e-04,  2.61239767e-02],\n",
       "        [-0.00000000e+00, -3.13512530e-02, -1.57774163e-02],\n",
       "        [ 0.00000000e+00,  3.13512530e-02, -1.57774163e-02]],\n",
       "\n",
       "       [[ 1.41458648e-02, -0.00000000e+00,  0.00000000e+00],\n",
       "        [-5.98499535e-02, -0.00000000e+00,  0.00000000e+00],\n",
       "        [ 3.62445519e-02,  0.00000000e+00,  0.00000000e+00],\n",
       "        [ 3.62445519e-02,  0.00000000e+00,  0.00000000e+00],\n",
       "        [ 1.25111747e-02, -0.00000000e+00, -0.00000000e+00],\n",
       "        [ 1.25111747e-02,  0.00000000e+00, -0.00000000e+00]],\n",
       "\n",
       "       [[-0.00000000e+00, -0.00000000e+00, -0.00000000e+00],\n",
       "        [ 0.00000000e+00, -0.00000000e+00, -0.00000000e+00],\n",
       "        [ 1.48998064e-01, -0.00000000e+00, -0.00000000e+00],\n",
       "        [-1.48998064e-01, -0.00000000e+00, -0.00000000e+00],\n",
       "        [-6.83377219e-03,  0.00000000e+00,  0.00000000e+00],\n",
       "        [ 6.83377219e-03, -0.00000000e+00,  0.00000000e+00]],\n",
       "\n",
       "       [[ 2.84561351e-02,  0.00000000e+00, -0.00000000e+00],\n",
       "        [-6.20423573e-03, -0.00000000e+00, -0.00000000e+00],\n",
       "        [-1.24339463e-01, -0.00000000e+00,  0.00000000e+00],\n",
       "        [-1.24339463e-01, -0.00000000e+00, -0.00000000e+00],\n",
       "        [-4.29173802e-04, -0.00000000e+00,  0.00000000e+00],\n",
       "        [-4.29173802e-04, -0.00000000e+00,  0.00000000e+00]],\n",
       "\n",
       "       [[ 0.00000000e+00, -0.00000000e+00,  2.93481783e-02],\n",
       "        [ 0.00000000e+00, -0.00000000e+00,  9.72448475e-03],\n",
       "        [-0.00000000e+00, -4.35223876e-03,  4.04701682e-02],\n",
       "        [-0.00000000e+00,  4.35223876e-03,  4.04701682e-02],\n",
       "        [-0.00000000e+00,  1.84903992e-02, -1.44894257e-02],\n",
       "        [-0.00000000e+00, -1.84903992e-02, -1.44894257e-02]],\n",
       "\n",
       "       [[-0.00000000e+00,  2.64804071e-02,  0.00000000e+00],\n",
       "        [-0.00000000e+00,  6.27747422e-03,  0.00000000e+00],\n",
       "        [ 0.00000000e+00, -2.77998069e-02,  9.37107568e-02],\n",
       "        [ 0.00000000e+00, -2.77998069e-02, -9.37107568e-02],\n",
       "        [ 0.00000000e+00, -8.87177797e-03,  9.63636547e-03],\n",
       "        [ 0.00000000e+00, -8.87177797e-03, -9.63636547e-03]],\n",
       "\n",
       "       [[ 0.00000000e+00,  8.40423980e-03, -0.00000000e+00],\n",
       "        [ 0.00000000e+00, -3.81812130e-02, -0.00000000e+00],\n",
       "        [-0.00000000e+00, -8.53492966e-03,  2.71765992e-02],\n",
       "        [-0.00000000e+00, -8.53492966e-03, -2.71765992e-02],\n",
       "        [-0.00000000e+00,  9.85784032e-03, -5.69097502e-03],\n",
       "        [-0.00000000e+00,  9.85784032e-03,  5.69097502e-03]],\n",
       "\n",
       "       [[ 0.00000000e+00, -0.00000000e+00,  8.16843654e-03],\n",
       "        [ 0.00000000e+00,  0.00000000e+00,  1.37725706e-02],\n",
       "        [-0.00000000e+00,  5.21859307e-02, -8.54328005e-02],\n",
       "        [-0.00000000e+00, -5.21859307e-02, -8.54328005e-02],\n",
       "        [-0.00000000e+00,  2.31348562e-03, -2.39825456e-03],\n",
       "        [-0.00000000e+00, -2.31348562e-03, -2.39825456e-03]],\n",
       "\n",
       "       [[ 0.00000000e+00,  0.00000000e+00,  2.22684546e-02],\n",
       "        [-0.00000000e+00,  0.00000000e+00, -3.07950228e-02],\n",
       "        [ 0.00000000e+00,  2.14252578e-02, -6.74854471e-03],\n",
       "        [-0.00000000e+00, -2.14252578e-02, -6.74854471e-03],\n",
       "        [ 0.00000000e+00, -2.60635156e-03,  3.05180074e-03],\n",
       "        [ 0.00000000e+00,  2.60635156e-03,  3.05180074e-03]],\n",
       "\n",
       "       [[-0.00000000e+00,  0.00000000e+00,  6.77469942e-03],\n",
       "        [ 0.00000000e+00, -0.00000000e+00, -9.85141880e-04],\n",
       "        [-0.00000000e+00, -6.11884341e-02, -3.44631554e-02],\n",
       "        [ 0.00000000e+00,  6.11884341e-02, -3.44631554e-02],\n",
       "        [-0.00000000e+00,  4.70236804e-06, -0.00000000e+00],\n",
       "        [-0.00000000e+00, -4.70236804e-06, -0.00000000e+00]],\n",
       "\n",
       "       [[ 0.00000000e+00,  9.65440414e-03, -0.00000000e+00],\n",
       "        [ 0.00000000e+00,  2.12472566e-04, -0.00000000e+00],\n",
       "        [-0.00000000e+00, -5.79098838e-02, -3.36753105e-02],\n",
       "        [ 0.00000000e+00, -5.79098838e-02,  3.36753105e-02],\n",
       "        [ 0.00000000e+00, -4.39506879e-05,  4.85770761e-05],\n",
       "        [-0.00000000e+00, -4.39506879e-05, -4.85770761e-05]]])"
      ]
     },
     "execution_count": 12,
     "metadata": {},
     "output_type": "execute_result"
    }
   ],
   "source": [
    "\"\"\"\n",
    "238 c---  Apply scaling factor: modify normal modes\n",
    "239 c\n",
    "240       do 120 i=1,natom3\n",
    "241       do 120 j=1,nmodes\n",
    "242          zmod (i,j) = zmod (i,j) * runit (j)\n",
    "243   120 continue\n",
    "244 c\n",
    "\"\"\"\n",
    "\n",
    "displacements = new_modes * runit[:,np.newaxis, np.newaxis]\n",
    "displacements"
   ]
  },
  {
   "cell_type": "code",
   "execution_count": 13,
   "metadata": {},
   "outputs": [
    {
     "data": {
      "text/plain": [
       "\"\\n283      #('*Distorted Geometries: x,y,z-coordinates (A)*',0,2,1,0,1h-)\\n284 c\\n285       do 170 j=1,nmodes\\n286          k = 0\\n287          do 140 i=1,natoms\\n288 c\\n289             xyzpls (i,1) = xyz (i,1) + zmod (k+1,j) * factor\\n290             xyzpls (i,2) = xyz (i,2) + zmod (k+2,j) * factor\\n291             xyzpls (i,3) = xyz (i,3) + zmod (k+3,j) * factor\\n292 c\\n293             xyzmns (i,1) = xyz (i,1) - zmod (k+1,j) * factor\\n294             xyzmns (i,2) = xyz (i,2) - zmod (k+2,j) * factor\\n295             xyzmns (i,3) = xyz (i,3) - zmod (k+3,j) * factor\\n296 c\\n297             k = k + 3\\n298   140    continue\\n\\n\""
      ]
     },
     "execution_count": 13,
     "metadata": {},
     "output_type": "execute_result"
    }
   ],
   "source": [
    "\"\"\"\n",
    "283      #('*Distorted Geometries: x,y,z-coordinates (A)*',0,2,1,0,1h-)\n",
    "284 c\n",
    "285       do 170 j=1,nmodes\n",
    "286          k = 0\n",
    "287          do 140 i=1,natoms\n",
    "288 c\n",
    "289             xyzpls (i,1) = xyz (i,1) + zmod (k+1,j) * factor\n",
    "290             xyzpls (i,2) = xyz (i,2) + zmod (k+2,j) * factor\n",
    "291             xyzpls (i,3) = xyz (i,3) + zmod (k+3,j) * factor\n",
    "292 c\n",
    "293             xyzmns (i,1) = xyz (i,1) - zmod (k+1,j) * factor\n",
    "294             xyzmns (i,2) = xyz (i,2) - zmod (k+2,j) * factor\n",
    "295             xyzmns (i,3) = xyz (i,3) - zmod (k+3,j) * factor\n",
    "296 c\n",
    "297             k = k + 3\n",
    "298   140    continue\n",
    "\n",
    "\"\"\""
   ]
  },
  {
   "cell_type": "code",
   "execution_count": null,
   "metadata": {},
   "outputs": [],
   "source": []
  }
 ],
 "metadata": {
  "kernelspec": {
   "display_name": "ew",
   "language": "python",
   "name": "python3"
  },
  "language_info": {
   "codemirror_mode": {
    "name": "ipython",
    "version": 3
   },
   "file_extension": ".py",
   "mimetype": "text/x-python",
   "name": "python",
   "nbconvert_exporter": "python",
   "pygments_lexer": "ipython3",
   "version": "3.11.10"
  }
 },
 "nbformat": 4,
 "nbformat_minor": 2
}
