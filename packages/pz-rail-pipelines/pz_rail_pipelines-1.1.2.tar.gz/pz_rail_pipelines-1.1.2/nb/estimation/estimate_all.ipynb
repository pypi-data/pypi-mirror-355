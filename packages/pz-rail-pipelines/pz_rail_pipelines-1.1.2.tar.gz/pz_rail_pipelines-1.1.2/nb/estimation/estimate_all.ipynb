{
 "cells": [
  {
   "cell_type": "code",
   "execution_count": null,
   "id": "f9463120",
   "metadata": {
    "tags": []
   },
   "outputs": [],
   "source": [
    "# usual imports\n",
    "import os\n",
    "import numpy as np\n",
    "import matplotlib.pyplot as plt\n",
    "#from rail.estimation.algos.bpz_version.utils import RAIL_BPZ_DIR\n",
    "from rail.pipelines.estimation.estimate_all import EstimatePipeline\n",
    "from rail.core import common_params\n",
    "from rail.utils import catalog_utils\n",
    "import qp\n",
    "import ceci\n"
   ]
  },
  {
   "cell_type": "markdown",
   "id": "128107d5-a83e-4109-bc43-5f2dddf875e3",
   "metadata": {},
   "source": [
    "### Pick the relevant set of parameter names, etc"
   ]
  },
  {
   "cell_type": "code",
   "execution_count": null,
   "id": "2fc678ef-ed03-4377-ada4-f33aba73b816",
   "metadata": {
    "tags": []
   },
   "outputs": [],
   "source": [
    "catalog_tag = 'hsc'"
   ]
  },
  {
   "cell_type": "markdown",
   "id": "8bb9ac58-199c-4e80-890b-16f7a217557e",
   "metadata": {
    "tags": []
   },
   "source": [
    "### Setting common parameters to all the stages in the estimation"
   ]
  },
  {
   "cell_type": "code",
   "execution_count": null,
   "id": "b70c7cfa-343a-46b8-b50b-9a2b889b884a",
   "metadata": {},
   "outputs": [],
   "source": [
    "catalog_utils.apply_defaults(catalog_tag)"
   ]
  },
  {
   "cell_type": "markdown",
   "id": "19067b35-948f-476c-bed2-92e5730ed388",
   "metadata": {},
   "source": [
    "### Set up the estimate pipeline"
   ]
  },
  {
   "cell_type": "code",
   "execution_count": null,
   "id": "36ab51b1",
   "metadata": {
    "tags": []
   },
   "outputs": [],
   "source": [
    "pipe = EstimatePipeline()"
   ]
  },
  {
   "cell_type": "markdown",
   "id": "96ecd511-62b1-49cd-afdc-2515ed98c1d4",
   "metadata": {
    "tags": []
   },
   "source": [
    "### Specify the location of your data files "
   ]
  },
  {
   "cell_type": "code",
   "execution_count": null,
   "id": "9342cd8d-aecf-4d95-83c1-707022d907f0",
   "metadata": {
    "tags": []
   },
   "outputs": [],
   "source": [
    "if catalog_tag == 'hsc':\n",
    "    data_dir = '/global/cfs/cdirs/lsst/groups/PZ/HSCDATA/SPECTROSCOPY'\n",
    "elif catalog_tag == 'dc2':\n",
    "    data_dir = '/global/cfs/cdirs/lsst/groups/PZ/PhotoZDC2/run2.2i_dr6_v2/'\n",
    "elif catalog_tag == 'roman_rubin':\n",
    "    data_dir = '/sdf/data/rubin/shared/pz/data/roman_rubin_2023_v1.1.3_parquet_healpixel_maglim_25.5_truth_to_observed/10050/'\n",
    "    truth_dir = '/sdf/data/rubin/shared/pz/data/roman_rubin_2023_v1.1.3_parquet_healpixel_maglim_25.5/10050/'"
   ]
  },
  {
   "cell_type": "code",
   "execution_count": null,
   "id": "15567a43-db92-4367-a1b9-e97ca9013468",
   "metadata": {},
   "outputs": [],
   "source": [
    "if catalog_tag == 'hsc':\n",
    "    photo_input_file = os.path.join(data_dir, 'dered_223501_sz_match_pdr3_dud_NONDET.hdf5')\n",
    "    spec_input_file = photo_input_file\n",
    "elif catalog_tag == 'dc2':\n",
    "    photo_input_file = os.path.join(data_dir, \"Run2.2i_dr6_dereddened_tract_4852.hdf5\")\n",
    "    spec_input_file = os.path.join(data_dir, \"Run2.2i_dr6_dereddened_tract_4437_test_bright.hdf5\")\n",
    "elif catalog_tag == 'roman_rubin':\n",
    "    photo_input_file = os.path.join(data_dir, \"output.hdf5\")                         \n",
    "    spec_input_file = os.path.join(truth_dir, \"part-0.parquet\")\n",
    "root_dir = os.path.join('projects', catalog_tag)"
   ]
  },
  {
   "cell_type": "markdown",
   "id": "29ebaff1-cd2d-4cf1-8151-e1645566d0f1",
   "metadata": {},
   "source": [
    "### Grab the default input file name dictionary and update it as desired\n",
    "\n",
    "It already specifies the input model for each stage.  We add the data input file."
   ]
  },
  {
   "cell_type": "code",
   "execution_count": null,
   "id": "140b46c1",
   "metadata": {
    "tags": []
   },
   "outputs": [],
   "source": [
    "pipe.default_input_dict"
   ]
  },
  {
   "cell_type": "code",
   "execution_count": null,
   "id": "4a5afa9c-d8cd-4e05-88f9-0ae3533b0308",
   "metadata": {},
   "outputs": [],
   "source": [
    "input_dict = pipe.default_input_dict.copy()\n",
    "input_dict.update(\n",
    "    input=photo_input_file,\n",
    ")"
   ]
  },
  {
   "cell_type": "code",
   "execution_count": null,
   "id": "088b42d7",
   "metadata": {
    "tags": []
   },
   "outputs": [],
   "source": [
    "pipe_info = pipe.initialize(input_dict, dict(output_dir=root_dir, log_dir='.', resume=True), None)"
   ]
  },
  {
   "cell_type": "markdown",
   "id": "0a9db9ab-bafb-44b9-a32f-cab6024a5dfd",
   "metadata": {},
   "source": [
    "### Additional config update to specify the place to find the spectroscopic columns for the summarizer"
   ]
  },
  {
   "cell_type": "markdown",
   "id": "b7b1ebdf-840b-493d-8de6-89473e06d231",
   "metadata": {},
   "source": [
    "### Save the pipeline to a yaml file"
   ]
  },
  {
   "cell_type": "code",
   "execution_count": null,
   "id": "298e80fa",
   "metadata": {
    "tags": []
   },
   "outputs": [],
   "source": [
    "pipe.save('estimate_all.yml')"
   ]
  },
  {
   "cell_type": "markdown",
   "id": "746a25f0-4e0c-4ac0-8457-c3b455558ab8",
   "metadata": {},
   "source": [
    "[For NERSC users!]\n",
    "\n",
    "This won't work on jupyter.nersc.gov, for a test run, you need to \n",
    "1. Add \"name: local\" to the \"site\" section in the 'estimate_all.yml'\n",
    "2. ssh into perlmutter.nersc.gov, set up the rail environment, and run \"ceci estimate_all.yml\""
   ]
  },
  {
   "cell_type": "code",
   "execution_count": null,
   "id": "97dd95f0",
   "metadata": {},
   "outputs": [],
   "source": [
    "import ceci\n",
    "pr = ceci.Pipeline.read('estimate_all.yml')"
   ]
  },
  {
   "cell_type": "code",
   "execution_count": null,
   "id": "d8a21466",
   "metadata": {},
   "outputs": [],
   "source": [
    "pr.run()"
   ]
  },
  {
   "cell_type": "markdown",
   "id": "972b3f2c-6600-46e8-83b9-db7e255af540",
   "metadata": {},
   "source": [
    "# display $p(z)$ of the point estimators\n",
    "\n",
    "### starting with simple NN"
   ]
  },
  {
   "cell_type": "code",
   "execution_count": null,
   "id": "8189f61d-7281-48e3-bc66-334e9a7fc22b",
   "metadata": {
    "tags": []
   },
   "outputs": [],
   "source": [
    "infile = './pdf/pz/output_simplenn.hdf5'\n",
    "\n",
    "qp_ensemble_simplenn = qp.read(infile)\n"
   ]
  },
  {
   "cell_type": "code",
   "execution_count": null,
   "id": "8ac7d3bd-5f68-4d58-ae56-a77ccedae1c2",
   "metadata": {
    "tags": []
   },
   "outputs": [],
   "source": [
    "plt.figure()\n",
    "plt.hist(qp_ensemble_simplenn.ancil['zmode'], bins=40)\n",
    "plt.xlabel('z')\n",
    "plt.show()"
   ]
  },
  {
   "cell_type": "markdown",
   "id": "ffa6aa97-4b61-49e4-ace0-8015b4f2a2a8",
   "metadata": {},
   "source": [
    "### Now read the spectroscopic data"
   ]
  },
  {
   "cell_type": "code",
   "execution_count": null,
   "id": "ee6c2d78-704e-46e4-94ad-c88d0ec5ee6d",
   "metadata": {
    "tags": []
   },
   "outputs": [],
   "source": [
    "import tables_io"
   ]
  },
  {
   "cell_type": "code",
   "execution_count": null,
   "id": "c7ed9de1-e3ab-499b-ba01-f908d4af05c2",
   "metadata": {
    "tags": []
   },
   "outputs": [],
   "source": [
    "sz_data = tables_io.read(\"dered_223501_sz_match_pdr3_dud_NONDET.hdf5\")"
   ]
  },
  {
   "cell_type": "code",
   "execution_count": null,
   "id": "1afca63f-2639-46f4-b1d4-cb53cef85d38",
   "metadata": {
    "tags": []
   },
   "outputs": [],
   "source": [
    "specz = sz_data['specz_redshift']"
   ]
  },
  {
   "cell_type": "markdown",
   "id": "64d261d4-618f-45b7-94e4-0440ffe92c8d",
   "metadata": {},
   "source": [
    "Compare the mode of the photo-z PDF with the spectroscopic redshift"
   ]
  },
  {
   "cell_type": "code",
   "execution_count": null,
   "id": "0f786b9c-ca54-4237-9c1c-00312074c318",
   "metadata": {
    "tags": []
   },
   "outputs": [],
   "source": [
    "plt.figure(figsize = (6,6))\n",
    "plt.scatter(specz, qp_ensemble_simplenn.ancil['zmode'],s = 0.01)\n",
    "plt.xlabel('Spec z')\n",
    "plt.ylabel('Simple NN Mode')\n",
    "plt.xlim(0,3)\n",
    "plt.ylim(0,3)\n",
    "plt.plot([-1,10], [-1,10], '--', color = 'black', )"
   ]
  },
  {
   "cell_type": "markdown",
   "id": "7aeb0689-6c9e-4ad7-846d-df9aaf316016",
   "metadata": {},
   "source": [
    "### Do the same for the Flex-z-boost"
   ]
  },
  {
   "cell_type": "code",
   "execution_count": null,
   "id": "09576a64-d5c5-4808-bea4-89acfa56adcc",
   "metadata": {
    "tags": []
   },
   "outputs": [],
   "source": [
    "infile = './pdf/pz/output_FZBoost.hdf5'\n",
    "\n",
    "qp_ensemble_flexzboost = qp.read(infile)\n",
    "\n",
    "# print(qp_ensemble.npdf)\n",
    "# print(qp_ensemble.ancil)"
   ]
  },
  {
   "cell_type": "code",
   "execution_count": null,
   "id": "4744d723-a2c0-47bd-ba18-7a28cdd908a1",
   "metadata": {
    "tags": []
   },
   "outputs": [],
   "source": [
    "plt.figure(figsize = (6,6))\n",
    "plt.scatter(specz, qp_ensemble_flexzboost.ancil['zmode'],s = 0.01)\n",
    "plt.xlabel('Spec z')\n",
    "plt.ylabel('Flex z boost Mode')\n",
    "plt.xlim(0,3)\n",
    "plt.ylim(0,3)\n",
    "plt.plot([-1,10], [-1,10], '--', color = 'black')"
   ]
  },
  {
   "cell_type": "markdown",
   "id": "c3329440-44b4-4b23-91b0-2cc58417740a",
   "metadata": {},
   "source": [
    "## display $n(z)$"
   ]
  },
  {
   "cell_type": "code",
   "execution_count": null,
   "id": "ef1e90f5-8a2d-4c7a-9e9d-4c97806e5839",
   "metadata": {
    "tags": []
   },
   "outputs": [],
   "source": [
    "# directly reading the hdf5 files with qp\n",
    "\n",
    "qp_single_nz_som = qp.read('./single_NZ_estimate_simplesom.hdf5')\n",
    "qp_single_nz_somoclu = qp.read('./single_NZ_estimate_somoclu.hdf5')"
   ]
  },
  {
   "cell_type": "code",
   "execution_count": null,
   "id": "367feb0a-32de-44c5-8088-579c2c88e158",
   "metadata": {
    "tags": []
   },
   "outputs": [],
   "source": [
    "z_grid = np.linspace(0,6,600)\n",
    "nz_som_grid = qp_single_nz_som.pdf(z_grid)\n",
    "nz_somoclu_grid = qp_single_nz_somoclu.pdf(z_grid)\n"
   ]
  },
  {
   "cell_type": "code",
   "execution_count": null,
   "id": "efd48f6a-a49c-4f34-be6c-f3cff4383ad2",
   "metadata": {
    "tags": []
   },
   "outputs": [],
   "source": [
    "# Part of the spactroscopic samples failed and have z=-99, we should exclude them. \n",
    "specz_good = specz[specz>0.0]"
   ]
  },
  {
   "cell_type": "markdown",
   "id": "90fc1268-57ff-4856-9703-514b0fb6e19f",
   "metadata": {},
   "source": [
    "### Make a plot to compare the two summarizers and the true n(z)"
   ]
  },
  {
   "cell_type": "code",
   "execution_count": null,
   "id": "3f720e74-1107-43c9-9a23-26d053be793e",
   "metadata": {
    "tags": []
   },
   "outputs": [],
   "source": [
    "plt.figure()\n",
    "plt.plot(z_grid, nz_som_grid[0], label = 'Simple SOM')\n",
    "plt.plot(z_grid, nz_somoclu_grid[0], label = 'Somoclu')\n",
    "plt.hist(specz_good,density = True ,bins = 600,histtype = 'step', label = 'True (Spec-z)')\n",
    "plt.xlim(-0.1,3)\n",
    "plt.ylim(0,1.2)\n",
    "plt.xlabel('z')\n",
    "plt.ylabel('n(z)')\n",
    "plt.legend()"
   ]
  },
  {
   "cell_type": "code",
   "execution_count": null,
   "id": "8908f2fa-7331-485a-b390-b289ccb53b81",
   "metadata": {},
   "outputs": [],
   "source": []
  }
 ],
 "metadata": {
  "kernelspec": {
   "display_name": "Python 3 (ipykernel)",
   "language": "python",
   "name": "python3"
  },
  "language_info": {
   "codemirror_mode": {
    "name": "ipython",
    "version": 3
   },
   "file_extension": ".py",
   "mimetype": "text/x-python",
   "name": "python",
   "nbconvert_exporter": "python",
   "pygments_lexer": "ipython3",
   "version": "3.12.2"
  }
 },
 "nbformat": 4,
 "nbformat_minor": 5
}
