{
 "cells": [
  {
   "cell_type": "code",
   "execution_count": null,
   "id": "f9463120",
   "metadata": {
    "tags": []
   },
   "outputs": [],
   "source": [
    "# usual imports\n",
    "import os\n",
    "import numpy as np\n",
    "import matplotlib.pyplot as plt\n",
    "#from rail.estimation.algos.bpz_version.utils import RAIL_BPZ_DIR\n",
    "from rail.pipelines.estimation.inform_all import InformPipeline\n",
    "from rail.core import common_params\n",
    "from rail.utils import catalog_utils\n",
    "import qp\n",
    "import ceci"
   ]
  },
  {
   "cell_type": "markdown",
   "id": "916a2494-54dc-407a-a3a9-9e6d65fe8d04",
   "metadata": {},
   "source": [
    "### Pick the relevant set of parameter names, etc¶"
   ]
  },
  {
   "cell_type": "code",
   "execution_count": null,
   "id": "19fc2eec-bc66-4617-9833-aa1252fe8f5b",
   "metadata": {},
   "outputs": [],
   "source": [
    "catalog_tag = 'roman_rubin'"
   ]
  },
  {
   "cell_type": "markdown",
   "id": "bb0e9561-112f-4c9d-9bb5-65a29da03800",
   "metadata": {},
   "source": [
    "### Setting common parameters to all the stages in the estimation"
   ]
  },
  {
   "cell_type": "code",
   "execution_count": null,
   "id": "5512684f-691d-4724-804f-c2b1c2952b32",
   "metadata": {},
   "outputs": [],
   "source": [
    "catalog_utils.apply_defaults(catalog_tag)"
   ]
  },
  {
   "cell_type": "markdown",
   "id": "090457b4-392c-440d-9d73-323d7445669e",
   "metadata": {},
   "source": [
    "### Set up the estimate pipeline"
   ]
  },
  {
   "cell_type": "code",
   "execution_count": null,
   "id": "36ab51b1",
   "metadata": {
    "tags": []
   },
   "outputs": [],
   "source": [
    "pipe = InformPipeline()"
   ]
  },
  {
   "cell_type": "code",
   "execution_count": null,
   "id": "5db54bb4-8f17-4d90-b1ac-319156f2f396",
   "metadata": {},
   "outputs": [],
   "source": [
    "pipe.inform_knn.config.update(leaf_size=14)"
   ]
  },
  {
   "cell_type": "code",
   "execution_count": null,
   "id": "4b072ac6-bf56-44fe-8846-8acf2862afa2",
   "metadata": {},
   "outputs": [],
   "source": [
    "pipe.inform_knn.config"
   ]
  },
  {
   "cell_type": "markdown",
   "id": "30c24a96-01d9-4552-986b-b1bc4e8e15d7",
   "metadata": {},
   "source": [
    "### Specify input model for each stages, and the spec_input file (same as the input_file)"
   ]
  },
  {
   "cell_type": "code",
   "execution_count": null,
   "id": "430426d8-36ab-460f-a56c-0a8603bb0d32",
   "metadata": {},
   "outputs": [],
   "source": [
    "if catalog_tag == 'hsc':\n",
    "    data_dir = '/global/cfs/cdirs/lsst/groups/PZ/HSCDATA/SPECTROSCOPY'\n",
    "elif catalog_tag == 'dc2':\n",
    "    data_dir = '/global/cfs/cdirs/lsst/groups/PZ/PhotoZDC2/run2.2i_dr6_v2/'\n",
    "elif catalog_tag in ['rubin', 'roman_rubin']:\n",
    "    data_dir = '/sdf/data/rubin/shared/pz/data/training/'"
   ]
  },
  {
   "cell_type": "code",
   "execution_count": null,
   "id": "7d6dbb46-6e74-4854-b2a4-61e168ef05eb",
   "metadata": {
    "tags": []
   },
   "outputs": [],
   "source": [
    "if catalog_tag == 'hsc':\n",
    "    photo_input_file = os.path.join(data_dir,'dered_223501_sz_match_pdr3_dud_NONDET.hdf5')\n",
    "    spec_input_file = photo_input_file\n",
    "elif catalog_tag == 'dc2':\n",
    "    photo_input_file = os.path.join(data_dir,\"Run2.2i_dr6_dereddened_tract_4852.hdf5\")\n",
    "    spec_input_file = os.path.join(data_dir,\"Run2.2i_dr6_dereddened_tract_4437_test_bright.hdf5\")\n",
    "elif catalog_tag in ['rubin', 'roman_rubin']:\n",
    "    photo_input_file = os.path.join(data_dir,\"roman_rubin_2023_v1.1.3_parquet_healpixel_maglim_25.5_truth_to_observed_train-100000.parquet\")\n",
    "    spec_input_file = os.path.join(data_dir,\"roman_rubin_2023_v1.1.3_parquet_healpixel_maglim_25.5_truth_to_observed_train-100000.parquet\")\n",
    "\n",
    "output_dir = os.path.join('projects', 'catalog_tag')\n",
    "input_dict = pipe.default_input_dict.copy()\n",
    "input_dict.update(\n",
    "    input=photo_input_file,\n",
    ")"
   ]
  },
  {
   "cell_type": "code",
   "execution_count": null,
   "id": "088b42d7",
   "metadata": {},
   "outputs": [],
   "source": [
    "pipe_info = pipe.initialize(input_dict, dict(output_dir=output_dir, log_dir='.', resume=True), None)"
   ]
  },
  {
   "cell_type": "code",
   "execution_count": null,
   "id": "97ef5502-f44b-48bc-b78c-65832ca0e1f3",
   "metadata": {
    "tags": []
   },
   "outputs": [],
   "source": [
    "pipe.print_stages()"
   ]
  },
  {
   "cell_type": "code",
   "execution_count": null,
   "id": "298e80fa",
   "metadata": {},
   "outputs": [],
   "source": [
    "pipe.save('inform_all.yml')"
   ]
  },
  {
   "cell_type": "markdown",
   "id": "d6013957-1ece-47c0-a93e-b397d40f7b50",
   "metadata": {},
   "source": [
    "[For NERSC users!]\n",
    "\n",
    "This won't work on jupyter.nersc.gov, for a test run, you need to\n",
    "\n",
    "Add \"name: local\" to the \"site\" section in the 'inform_all.yml'\n",
    "ssh into perlmutter.nersc.gov, set up the rail environment, and run \"ceci estimate_all.yml\""
   ]
  },
  {
   "cell_type": "code",
   "execution_count": null,
   "id": "97dd95f0",
   "metadata": {},
   "outputs": [],
   "source": [
    "import ceci\n",
    "pr = ceci.Pipeline.read('inform_all.yml')"
   ]
  },
  {
   "cell_type": "code",
   "execution_count": null,
   "id": "d8a21466",
   "metadata": {},
   "outputs": [],
   "source": [
    "pr.run()"
   ]
  },
  {
   "cell_type": "code",
   "execution_count": null,
   "id": "e4dab658",
   "metadata": {},
   "outputs": [],
   "source": [
    "# curl -O https://portal.nersc.gov/cfs/lsst/PZ/dered_223501_sz_match_pdr3_dud_NONDET.hdf5"
   ]
  },
  {
   "cell_type": "code",
   "execution_count": null,
   "id": "8f65a4fb",
   "metadata": {
    "tags": []
   },
   "outputs": [],
   "source": [
    "# OMP_NUM_THREADS=1   python3 -m ceci rail.estimation.algos.flexzboost.FlexZBoostInformer   --input=dered_223501_sz_match_pdr3_dud_NONDET.hdf5   --name=inform_fzboost   --config=tmp_inform_all_config.yml   --model=./model/estimator/model_FZBoost.hdf5\n",
    "\n",
    "\n",
    "\n"
   ]
  }
 ],
 "metadata": {
  "kernelspec": {
   "display_name": "Python 3 (ipykernel)",
   "language": "python",
   "name": "python3"
  },
  "language_info": {
   "codemirror_mode": {
    "name": "ipython",
    "version": 3
   },
   "file_extension": ".py",
   "mimetype": "text/x-python",
   "name": "python",
   "nbconvert_exporter": "python",
   "pygments_lexer": "ipython3",
   "version": "3.12.2"
  }
 },
 "nbformat": 4,
 "nbformat_minor": 5
}
