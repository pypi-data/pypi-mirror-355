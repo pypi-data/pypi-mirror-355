{
 "cells": [
  {
   "cell_type": "markdown",
   "id": "banner-migration",
   "metadata": {},
   "source": [
    "###  Imports"
   ]
  },
  {
   "cell_type": "code",
   "execution_count": null,
   "id": "227aa23e",
   "metadata": {},
   "outputs": [],
   "source": [
    "import os\n",
    "import ceci\n",
    "from rail.utils.path_utils import RAILDIR\n",
    "from rail.pipelines.examples.goldenspike.goldenspike import GoldenspikePipeline"
   ]
  },
  {
   "cell_type": "code",
   "execution_count": null,
   "id": "b972d07a",
   "metadata": {},
   "outputs": [],
   "source": [
    "pipe = GoldenspikePipeline()"
   ]
  },
  {
   "cell_type": "code",
   "execution_count": null,
   "id": "23efbbb5",
   "metadata": {},
   "outputs": [],
   "source": [
    "from rail.utils.path_utils import RAILDIR\n",
    "flow_file = os.path.join(RAILDIR, 'rail/examples_data/goldenspike_data/data/pretrained_flow.pkl')\n",
    "pipe.initialize(dict(model=flow_file), dict(output_dir='.', log_dir='.', resume=False), None)"
   ]
  },
  {
   "cell_type": "code",
   "execution_count": null,
   "id": "67532a42",
   "metadata": {},
   "outputs": [],
   "source": [
    "pipe.print_stages()"
   ]
  },
  {
   "cell_type": "code",
   "execution_count": null,
   "id": "db522f3f",
   "metadata": {},
   "outputs": [],
   "source": [
    "pipe.save('tmp_goldenspike.yml')"
   ]
  },
  {
   "cell_type": "code",
   "execution_count": null,
   "id": "israeli-workshop",
   "metadata": {},
   "outputs": [],
   "source": [
    "import ceci\n",
    "pr = ceci.Pipeline.read('tmp_goldenspike.yml')"
   ]
  },
  {
   "cell_type": "code",
   "execution_count": null,
   "id": "danish-homeless",
   "metadata": {},
   "outputs": [],
   "source": [
    "pr.run()"
   ]
  },
  {
   "cell_type": "markdown",
   "id": "informational-performer",
   "metadata": {},
   "source": [
    "# Clean up:\n",
    "\n",
    "Finally, you'll notice that we've written a large number of temporary files in the course of running this demo, to delete these and clean up the directory just run the `cleanup.sh` script in this directory to delete the data files."
   ]
  },
  {
   "cell_type": "code",
   "execution_count": null,
   "id": "racial-stocks",
   "metadata": {},
   "outputs": [],
   "source": []
  }
 ],
 "metadata": {
  "kernelspec": {
   "display_name": "Python 3 (ipykernel)",
   "language": "python",
   "name": "python3"
  },
  "language_info": {
   "codemirror_mode": {
    "name": "ipython",
    "version": 3
   },
   "file_extension": ".py",
   "mimetype": "text/x-python",
   "name": "python",
   "nbconvert_exporter": "python",
   "pygments_lexer": "ipython3",
   "version": "3.12.2"
  }
 },
 "nbformat": 4,
 "nbformat_minor": 5
}
