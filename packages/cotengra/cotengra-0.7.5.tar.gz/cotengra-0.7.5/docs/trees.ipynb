{
 "cells": [
  {
   "cell_type": "markdown",
   "id": "43a0bfd5-762c-42c4-bf40-7c7cba1c33f4",
   "metadata": {},
   "source": [
    "# Tree Surgery\n",
    "\n",
    "The core data structure in [`cotengra`](cotengra) is the\n",
    "[`ContractionTree`](cotengra.core.ContractionTree), which as well as describing\n",
    "the tree generates all the required intermediate indices and equations etc.\n",
    "This page describes some aspects of the design and ways you can modify or\n",
    "construct trees yourself.\n",
    "\n",
    "First we just generate a small random contraction:"
   ]
  },
  {
   "cell_type": "code",
   "execution_count": 1,
   "id": "a4b0dd86-073a-499e-8a20-2c2eb9833b71",
   "metadata": {},
   "outputs": [
    {
     "name": "stdout",
     "output_type": "stream",
     "text": [
      "dn,bhl,afj,cejk,cdefglmno,gh,i,k,im,o->ba\n"
     ]
    },
    {
     "data": {
      "image/svg+xml": [
       "<?xml version=\"1.0\" encoding=\"UTF-8\"?><!DOCTYPE svg  PUBLIC '-//W3C//DTD SVG 1.1//EN'  'http://www.w3.org/Graphics/SVG/1.1/DTD/svg11.dtd'><svg width=\"293.4pt\" height=\"236.58pt\" version=\"1.1\" viewBox=\"0 0 293.4 236.58\" xmlns=\"http://www.w3.org/2000/svg\" xmlns:xlink=\"http://www.w3.org/1999/xlink\"><defs><style type=\"text/css\">*{stroke-linejoin: round; stroke-linecap: butt}</style></defs><path d=\"m0 236.58h293.4v-236.58h-293.4v236.58z\" fill=\"none\"/><path d=\"m103.32 147.54q13.062-7.0103 16.584-10.251c3.2699-3.0093 8.0711-10.917 10.761-14.556 2.6904-3.639 8.843-10.548 10.761-14.556q2.0662-4.3172 4.939-18.861\" clip-path=\"url(#05079e79543)\" fill=\"none\" stroke=\"#4ee480\" stroke-linecap=\"round\" stroke-width=\"1.585\"/><g transform=\"translate(131.03 125.99) rotate(-53.524) scale(.08 -.08)\" fill=\"#808080\"><defs><path id=\"DejaVuSansMono-64\" transform=\"scale(.015625)\" d=\"m2681 3053v1810h575v-4863h-575v441q-143-260-383-396-239-136-551-136-634 0-999 492-364 493-364 1358 0 854 366 1339 366 486 997 486 316 0 556-136 241-135 378-395zm-1690-1306q0-669 212-1010 213-340 628-340 416 0 633 343 217 344 217 1007 0 666-217 1008t-633 342q-415 0-628-341-212-340-212-1009z\"/></defs><use xlink:href=\"#DejaVuSansMono-64\"/></g><path d=\"m103.32 147.54q2.8729-14.543 4.939-18.861c1.9184-4.0084 8.0711-10.917 10.761-14.556 2.6904-3.639 7.4915-11.547 10.761-14.556q3.5218-3.2411 16.584-10.251\" clip-path=\"url(#05079e79543)\" fill=\"none\" stroke=\"#84e198\" stroke-linecap=\"round\" stroke-width=\"1.585\"/><g transform=\"translate(119.38 117.38) rotate(-53.524) scale(.08 -.08)\" fill=\"#808080\"><defs><path id=\"DejaVuSansMono-6e\" transform=\"scale(.015625)\" d=\"m3284 2169v-2169h-578v2169q0 472-166 693-165 222-518 222-403 0-621-286-217-285-217-820v-1978h-575v3500h575v-525q154 300 416 454 263 155 622 155 534 0 798-352 264-351 264-1063z\"/></defs><use xlink:href=\"#DejaVuSansMono-6e\"/></g><path d=\"m146.37 89.312 66.648-35.756\" clip-path=\"url(#05079e79543)\" fill=\"none\" stroke=\"#d5bf35\" stroke-linecap=\"round\"/><g transform=\"translate(178.62 74.536) rotate(-28.213) scale(.08 -.08)\" fill=\"#808080\"><defs><path id=\"DejaVuSansMono-6c\" transform=\"scale(.015625)\" d=\"m1997 1269q0-388 142-585 142-196 420-196h672v-488h-728q-515 0-798 331-283 332-283 938v3178h-922v450h1497v-3628z\"/></defs><use xlink:href=\"#DejaVuSansMono-6c\"/></g><path d=\"m146.37 89.312-65.131-5.4671\" clip-path=\"url(#05079e79543)\" fill=\"none\" stroke=\"#dee363\" stroke-linecap=\"round\"/><g transform=\"translate(111.22 88.598) rotate(4.7982) scale(.08 -.08)\" fill=\"#808080\"><defs><path id=\"DejaVuSansMono-66\" transform=\"scale(.015625)\" d=\"m3322 4863v-479h-653q-310 0-430-127-120-126-120-448v-309h1203v-447h-1203v-3053h-575v3053h-935v447h935v244q0 575 264 847t823 272h691z\"/></defs><use xlink:href=\"#DejaVuSansMono-66\"/></g><path d=\"m146.37 89.312q-5.927-10.996-8.6635-13.959c-2.5407-2.7508-9.2114-6.7844-12.282-9.0459-3.0705-2.2615-8.9012-7.4355-12.282-9.0459q-3.641-1.7345-15.9-4.1332\" clip-path=\"url(#05079e79543)\" fill=\"none\" stroke=\"#5db6d5\" stroke-linecap=\"round\"/><g transform=\"translate(122.16 66.674) rotate(36.373) scale(.08 -.08)\" fill=\"#808080\"><defs><path id=\"DejaVuSansMono-63\" transform=\"scale(.015625)\" d=\"m3316 178q-232-134-477-201-245-68-501-68-813 0-1271 487-458 488-458 1351 0 862 458 1349 458 488 1271 488 253 0 493-66 241-65 485-202v-603q-228 203-458 293-230 91-520 91-541 0-832-350-290-350-290-1e3 0-647 292-999 292-351 830-351 300 0 537 92 238 92 441 286v-597z\"/></defs><use xlink:href=\"#DejaVuSansMono-63\"/></g><path d=\"m146.37 89.312q-12.259-2.3987-15.9-4.1332c-3.3806-1.6104-9.2114-6.7844-12.282-9.0459s-9.7411-6.2951-12.282-9.0459q-2.7364-2.9627-8.6635-13.959\" clip-path=\"url(#05079e79543)\" fill=\"none\" stroke=\"#3ddfb7\" stroke-linecap=\"round\" stroke-width=\"1.585\"/><g transform=\"translate(114.93 76.499) rotate(36.373) scale(.08 -.08)\" fill=\"#808080\"><defs><path id=\"DejaVuSansMono-65\" transform=\"scale(.015625)\" d=\"m3475 1894v-281h-2491v-19q0-572 298-885 299-312 843-312 275 0 575 87 300 88 641 266v-572q-328-134-633-201-305-68-589-68-816 0-1276 489-459 490-459 1349 0 837 450 1337t1200 500q669 0 1055-453t386-1237zm-575 169q-12 506-239 770t-652 264q-415 0-684-275t-319-763l1894 4z\"/></defs><use xlink:href=\"#DejaVuSansMono-65\"/></g><path d=\"m146.37 89.312 58.269 11.336\" clip-path=\"url(#05079e79543)\" fill=\"none\" stroke=\"#5552d1\" stroke-linecap=\"round\"/><g transform=\"translate(172.72 96.654) rotate(11.009) scale(.08 -.08)\" fill=\"#808080\"><defs><path id=\"DejaVuSansMono-67\" transform=\"scale(.015625)\" d=\"m2681 1778q0 647-211 983t-614 336q-422 0-644-336-221-336-221-983t223-986q224-339 649-339 396 0 607 340 211 341 211 985zm575-1553q0-788-372-1194-371-406-1093-406-238 0-498 44-259 43-518 128v569q306-144 556-213t460-69q465 0 677 254 213 253 213 803v25 390q-137-293-375-437-237-144-578-144-612 0-978 490-366 491-366 1313 0 825 366 1315 366 491 978 491 338 0 572-134t381-416v454h575v-3263z\"/></defs><use xlink:href=\"#DejaVuSansMono-67\"/></g><path d=\"m146.37 89.312 12.67 68.098\" clip-path=\"url(#05079e79543)\" fill=\"none\" stroke=\"#ca30d8\" stroke-linecap=\"round\"/><g transform=\"translate(150.07 121.4) rotate(79.46) scale(.08 -.08)\" fill=\"#808080\"><defs><path id=\"DejaVuSansMono-6d\" transform=\"scale(.015625)\" d=\"m2113 3144q106 225 270 332 164 108 395 108 422 0 595-327 174-326 174-1229v-2028h-525v2003q0 741-83 920-83 180-301 180-250 0-343-192-92-192-92-908v-2003h-525v2003q0 750-89 925t-320 175q-228 0-317-192t-89-908v-2003h-522v3500h522v-300q103 188 257 286 155 98 352 98 237 0 395-109t246-331z\"/></defs><use xlink:href=\"#DejaVuSansMono-6d\"/></g><path d=\"m146.37 89.312 19.465-68.625\" clip-path=\"url(#05079e79543)\" fill=\"none\" stroke=\"#73afe3\" stroke-linecap=\"round\" stroke-width=\"1.585\"/><g transform=\"translate(157.59 57.924) rotate(-74.165) scale(.08 -.08)\" fill=\"#808080\"><defs><path id=\"DejaVuSansMono-6f\" transform=\"scale(.015625)\" d=\"m1925 3097q-437 0-662-341-225-340-225-1009 0-666 225-1008t662-342q441 0 666 342t225 1008q0 669-225 1009-225 341-666 341zm0 487q728 0 1114-472 386-471 386-1365 0-897-385-1368-384-470-1115-470-728 0-1113 470-384 471-384 1368 0 894 384 1365 385 472 1113 472z\"/></defs><use xlink:href=\"#DejaVuSansMono-6f\"/></g><path d=\"m274.63 24.104-61.617 29.452\" clip-path=\"url(#05079e79543)\" fill=\"none\" stroke=\"#b9e292\" stroke-linecap=\"round\" stroke-width=\"1.585\"/><path d=\"m213.02 53.556-8.3781 47.092\" clip-path=\"url(#05079e79543)\" fill=\"none\" stroke=\"#83dec4\" stroke-linecap=\"round\"/><g transform=\"translate(210.6 79.863) rotate(-79.912) scale(.08 -.08)\" fill=\"#808080\"><defs><path id=\"DejaVuSansMono-68\" transform=\"scale(.015625)\" d=\"m3284 2169v-2169h-578v2169q0 472-166 693-165 222-518 222-403 0-621-286-217-285-217-820v-1978h-575v4863h575v-1888q154 300 416 454 263 155 622 155 534 0 798-352 264-351 264-1063z\"/></defs><use xlink:href=\"#DejaVuSansMono-68\"/></g><path d=\"m49.387 18.211 31.849 65.634\" clip-path=\"url(#05079e79543)\" fill=\"none\" stroke=\"#7aacd4\" stroke-linecap=\"round\"/><path d=\"m81.237 83.845 16.004-30.716\" clip-path=\"url(#05079e79543)\" fill=\"none\" stroke=\"#9daae1\" stroke-linecap=\"round\" stroke-width=\"1.585\"/><g transform=\"translate(90.103 71.652) rotate(-62.48) scale(.08 -.08)\" fill=\"#808080\"><defs><path id=\"DejaVuSansMono-6a\" transform=\"scale(.015625)\" d=\"m1875-63v3116h-991v447h1566v-3563q0-609-280-938-279-330-795-330h-794v487h732q281 0 421 196 141 195 141 585zm0 4926h575v-729h-575v729z\"/></defs><use xlink:href=\"#DejaVuSansMono-6a\"/></g><path d=\"m97.241 53.128-78.473 31.378\" clip-path=\"url(#05079e79543)\" fill=\"none\" stroke=\"#c9cf89\" stroke-linecap=\"round\" stroke-width=\"1.585\"/><g transform=\"translate(56.596 71.781) rotate(-21.794) scale(.08 -.08)\" fill=\"#808080\"><defs><path id=\"DejaVuSansMono-6b\" transform=\"scale(.015625)\" d=\"m738 4863h593v-2816l1510 1453h700l-1378-1319 1593-2181h-703l-1294 1806-428-403v-1403h-593v4863z\"/></defs><use xlink:href=\"#DejaVuSansMono-6b\"/></g><path d=\"m159.04 157.41 10.073 60.959\" clip-path=\"url(#05079e79543)\" fill=\"none\" stroke=\"#7b94dc\" stroke-linecap=\"round\"/><g transform=\"translate(161.48 185.88) rotate(80.617) scale(.08 -.08)\" fill=\"#808080\"><defs><path id=\"DejaVuSansMono-69\" transform=\"scale(.015625)\" d=\"m800 3500h1472v-3053h1141v-447h-2857v447h1141v2606h-897v447zm897 1363h575v-729h-575v729z\"/></defs><use xlink:href=\"#DejaVuSansMono-69\"/></g><path d=\"m103.32 155.57c2.1295 0 4.172-0.84604 5.6777-2.3518 1.5058-1.5058 2.3518-3.5483 2.3518-5.6777 0-2.1295-0.84604-4.172-2.3518-5.6777-1.5058-1.5058-3.5483-2.3518-5.6777-2.3518-2.1295 0-4.172 0.84604-5.6777 2.3518-1.5058 1.5058-2.3518 3.5483-2.3518 5.6777 0 2.1295 0.84604 4.172 2.3518 5.6777 1.5058 1.5058 3.5483 2.3518 5.6777 2.3518z\" clip-path=\"url(#05079e79543)\" fill=\"#0072b2\" stroke=\"#004c77\"/><path d=\"m146.37 97.341c2.1295 0 4.172-0.84604 5.6777-2.3518 1.5058-1.5058 2.3518-3.5483 2.3518-5.6777 0-2.1295-0.84604-4.172-2.3518-5.6777-1.5058-1.5058-3.5483-2.3518-5.6777-2.3518s-4.172 0.84604-5.6777 2.3518c-1.5058 1.5058-2.3518 3.5483-2.3518 5.6777 0 2.1295 0.84604 4.172 2.3518 5.6777 1.5058 1.5058 3.5483 2.3518 5.6777 2.3518z\" clip-path=\"url(#05079e79543)\" fill=\"#a5cc64\" stroke=\"#6e8843\"/><path d=\"m274.63 32.134c2.1295 0 4.172-0.84604 5.6777-2.3518 1.5058-1.5058 2.3518-3.5483 2.3518-5.6777s-0.84604-4.172-2.3518-5.6777c-1.5058-1.5058-3.5483-2.3518-5.6777-2.3518-2.1295 0-4.172 0.84604-5.6777 2.3518-1.5058 1.5058-2.3518 3.5483-2.3518 5.6777s0.84604 4.172 2.3518 5.6777c1.5058 1.5058 3.5483 2.3518 5.6777 2.3518z\" clip-path=\"url(#05079e79543)\" fill=\"none\"/><path d=\"m213.02 61.586c2.1295 0 4.172-0.84604 5.6777-2.3518 1.5058-1.5058 2.3518-3.5483 2.3518-5.6777 0-2.1295-0.84604-4.172-2.3518-5.6777-1.5058-1.5058-3.5483-2.3518-5.6777-2.3518-2.1295 0-4.172 0.84604-5.6777 2.3518-1.5058 1.5058-2.3518 3.5483-2.3518 5.6777 0 2.1295 0.84604 4.172 2.3518 5.6777 1.5058 1.5058 3.5483 2.3518 5.6777 2.3518z\" clip-path=\"url(#05079e79543)\" fill=\"#64add6\" stroke=\"#43738f\"/><path d=\"m204.64 108.68c2.1295 0 4.172-0.84604 5.6777-2.3518 1.5058-1.5058 2.3518-3.5483 2.3518-5.6777s-0.84604-4.172-2.3518-5.6777c-1.5058-1.5058-3.5483-2.3518-5.6777-2.3518s-4.172 0.84604-5.6777 2.3518c-1.5058 1.5058-2.3518 3.5483-2.3518 5.6777s0.84604 4.172 2.3518 5.6777c1.5058 1.5058 3.5483 2.3518 5.6777 2.3518z\" clip-path=\"url(#05079e79543)\" fill=\"#edda7d\" stroke=\"#9e9153\"/><path d=\"m49.387 26.24c2.1295 0 4.172-0.84604 5.6777-2.3518 1.5058-1.5058 2.3518-3.5483 2.3518-5.6777 0-2.1295-0.84604-4.172-2.3518-5.6777-1.5058-1.5058-3.5483-2.3518-5.6777-2.3518s-4.172 0.84604-5.6777 2.3518c-1.5058 1.5058-2.3518 3.5483-2.3518 5.6777 0 2.1295 0.84604 4.172 2.3518 5.6777 1.5058 1.5058 3.5483 2.3518 5.6777 2.3518z\" clip-path=\"url(#05079e79543)\" fill=\"none\"/><path d=\"m81.237 91.874c2.1295 0 4.172-0.84604 5.6777-2.3518 1.5058-1.5058 2.3518-3.5483 2.3518-5.6777s-0.84604-4.172-2.3518-5.6777c-1.5058-1.5058-3.5483-2.3518-5.6777-2.3518-2.1295 0-4.172 0.84604-5.6777 2.3518-1.5058 1.5058-2.3518 3.5483-2.3518 5.6777s0.84604 4.172 2.3518 5.6777c1.5058 1.5058 3.5483 2.3518 5.6777 2.3518z\" clip-path=\"url(#05079e79543)\" fill=\"#6fb6c4\" stroke=\"#4a7982\"/><path d=\"m97.241 61.158c2.1295 0 4.172-0.84604 5.6777-2.3518 1.5058-1.5058 2.3518-3.5483 2.3518-5.6777 0-2.1295-0.84604-4.172-2.3518-5.6777-1.5058-1.5058-3.5483-2.3518-5.6777-2.3518-2.1295 0-4.172 0.84604-5.6777 2.3518-1.5058 1.5058-2.3518 3.5483-2.3518 5.6777 0 2.1295 0.84604 4.172 2.3518 5.6777 1.5058 1.5058 3.5483 2.3518 5.6777 2.3518z\" clip-path=\"url(#05079e79543)\" fill=\"#069e75\" stroke=\"#04694e\"/><path d=\"m18.768 92.536c2.1295 0 4.172-0.84604 5.6777-2.3518 1.5058-1.5058 2.3518-3.5483 2.3518-5.6777s-0.84604-4.172-2.3518-5.6777c-1.5058-1.5058-3.5483-2.3518-5.6777-2.3518-2.1295 0-4.172 0.84604-5.6777 2.3518-1.5058 1.5058-2.3518 3.5483-2.3518 5.6777s0.84604 4.172 2.3518 5.6777c1.5058 1.5058 3.5483 2.3518 5.6777 2.3518z\" clip-path=\"url(#05079e79543)\" fill=\"#da7709\" stroke=\"#924f06\"/><path d=\"m159.04 165.44c2.1295 0 4.172-0.84604 5.6777-2.3518 1.5058-1.5058 2.3518-3.5483 2.3518-5.6777 0-2.1295-0.84604-4.172-2.3518-5.6777-1.5058-1.5058-3.5483-2.3518-5.6777-2.3518-2.1295 0-4.172 0.84604-5.6777 2.3518-1.5058 1.5058-2.3518 3.5483-2.3518 5.6777 0 2.1295 0.84604 4.172 2.3518 5.6777 1.5058 1.5058 3.5483 2.3518 5.6777 2.3518z\" clip-path=\"url(#05079e79543)\" fill=\"#d29074\" stroke=\"#8c604d\"/><path d=\"m165.83 28.716c2.1295 0 4.172-0.84604 5.6777-2.3518 1.5058-1.5058 2.3518-3.5483 2.3518-5.6777 0-2.1295-0.84604-4.172-2.3518-5.6777s-3.5483-2.3518-5.6777-2.3518c-2.1295 0-4.172 0.84604-5.6777 2.3518-1.5058 1.5058-2.3518 3.5483-2.3518 5.6777 0 2.1295 0.84604 4.172 2.3518 5.6777 1.5058 1.5058 3.5483 2.3518 5.6777 2.3518z\" clip-path=\"url(#05079e79543)\" fill=\"#cc90b1\" stroke=\"#886076\"/><path d=\"m169.11 226.4c2.1295 0 4.172-0.84604 5.6777-2.3518 1.5058-1.5058 2.3518-3.5483 2.3518-5.6777 0-2.1295-0.84604-4.172-2.3518-5.6777-1.5058-1.5058-3.5483-2.3518-5.6777-2.3518-2.1295 0-4.172 0.84604-5.6777 2.3518-1.5058 1.5058-2.3518 3.5483-2.3518 5.6777 0 2.1295 0.84604 4.172 2.3518 5.6777 1.5058 1.5058 3.5483 2.3518 5.6777 2.3518z\" clip-path=\"url(#05079e79543)\" fill=\"#e6a922\" stroke=\"#997116\"/><g transform=\"translate(100.31 150.32) scale(.1 -.1)\" fill=\"#808080\"><defs><path id=\"DejaVuSansMono-30\" transform=\"scale(.015625)\" d=\"m1509 2344q0 172 120 297 121 125 290 125 175 0 300-125t125-297q0-175-124-297-123-122-301-122-175 0-293 119-117 119-117 300zm416 1906q-441 0-658-475t-217-1447q0-969 217-1444t658-475q444 0 661 475t217 1444q0 972-217 1447t-661 475zm0 500q747 0 1130-613 383-612 383-1809 0-1194-383-1807-383-612-1130-612t-1128 612q-381 613-381 1807 0 1197 381 1809 381 613 1128 613z\"/></defs><use xlink:href=\"#DejaVuSansMono-30\"/></g><g transform=\"translate(143.36 92.098) scale(.1 -.1)\" fill=\"#808080\"><defs><path id=\"DejaVuSansMono-34\" transform=\"scale(.015625)\" d=\"m2297 4091-1472-2466h1472v2466zm-103 575h731v-3041h622v-512h-622v-1113h-628v1113h-1978v596l1875 2957z\"/></defs><use xlink:href=\"#DejaVuSansMono-34\"/></g><g transform=\"translate(271.62 26.89) scale(.1 -.1)\" fill=\"#808080\"><defs><path id=\"DejaVuSansMono-62\" transform=\"scale(.015625)\" d=\"m2869 1747q0 669-213 1009-212 341-628 341-419 0-635-342-215-342-215-1008 0-663 215-1007 216-343 635-343 416 0 628 340 213 341 213 1010zm-1691 1306q138 256 380 393 242 138 561 138 631 0 993-486 363-485 363-1339 0-865-364-1358-364-492-998-492-313 0-552 136t-383 396v-441h-575v4863h575v-1810z\"/></defs><use xlink:href=\"#DejaVuSansMono-62\"/></g><g transform=\"translate(210.01 56.342) scale(.1 -.1)\" fill=\"#808080\"><defs><path id=\"DejaVuSansMono-31\" transform=\"scale(.015625)\" d=\"m844 531h981v3566l-1056-238v575l1050 232h631v-4135h969v-531h-2575v531z\"/></defs><use xlink:href=\"#DejaVuSansMono-31\"/></g><g transform=\"translate(201.63 103.43) scale(.1 -.1)\" fill=\"#808080\"><defs><path id=\"DejaVuSansMono-35\" transform=\"scale(.015625)\" d=\"m647 4666h2362v-532h-1787v-1146q134 50 270 73t274 23q725 0 1150-428t425-1159q0-738-446-1163-445-425-1217-425-372 0-680 50-307 50-551 150v641q287-156 578-233 291-76 594-76 522 0 804 275 283 275 283 781 0 500-292 778t-814 278q-253 0-494-58-240-57-459-173v2344z\"/></defs><use xlink:href=\"#DejaVuSansMono-35\"/></g><g transform=\"translate(46.377 20.997) scale(.1 -.1)\" fill=\"#808080\"><defs><path id=\"DejaVuSansMono-61\" transform=\"scale(.015625)\" d=\"m2194 1759h-191q-503 0-758-177-254-176-254-526 0-315 190-490 191-175 528-175 475 0 747 329 272 330 275 911v128h-537zm1115 238v-1997h-578v519q-184-313-464-462-279-148-679-148-535 0-854 302-318 302-318 808 0 584 392 887t1151 303h772v91q-3 419-213 608-209 189-668 189-294 0-594-85-300-84-584-246v575q319 122 611 182 292 61 567 61 434 0 742-128t499-384q118-156 168-386t50-689z\"/></defs><use xlink:href=\"#DejaVuSansMono-61\"/></g><g transform=\"translate(78.227 86.631) scale(.1 -.1)\" fill=\"#808080\"><defs><path id=\"DejaVuSansMono-32\" transform=\"scale(.015625)\" d=\"m1166 531h2143v-531h-2834v531q584 616 1021 1088 438 472 604 665 313 382 422 618t109 482q0 391-230 613-229 222-629 222-284 0-597-103-312-103-662-313v638q321 153 632 231t614 78q685 0 1102-364t417-955q0-300-139-600t-451-662q-175-203-508-563-333-359-1014-1075z\"/></defs><use xlink:href=\"#DejaVuSansMono-32\"/></g><g transform=\"translate(94.23 55.914) scale(.1 -.1)\" fill=\"#808080\"><defs><path id=\"DejaVuSansMono-33\" transform=\"scale(.015625)\" d=\"m2425 2497q459-122 703-433t244-776q0-644-433-1012-433-367-1198-367-322 0-657 60-334 59-656 172v628q319-166 628-247 310-81 616-81 519 0 797 234t278 675q0 406-278 645t-753 239h-482v519h482q434 0 678 190 244 191 244 532 0 359-227 551-227 193-645 193-278 0-575-63-297-62-622-187v581q378 100 673 150 296 50 524 50 681 0 1089-342t408-908q0-384-215-641-214-256-623-362z\"/></defs><use xlink:href=\"#DejaVuSansMono-33\"/></g><g transform=\"translate(15.758 87.292) scale(.1 -.1)\" fill=\"#808080\"><defs><path id=\"DejaVuSansMono-37\" transform=\"scale(.015625)\" d=\"m434 4666h2938v-269l-1669-4397h-659l1625 4134h-2235v532z\"/></defs><use xlink:href=\"#DejaVuSansMono-37\"/></g><g transform=\"translate(156.03 160.2) scale(.1 -.1)\" fill=\"#808080\"><defs><path id=\"DejaVuSansMono-38\" transform=\"scale(.015625)\" d=\"m1925 2216q-422 0-652-236-229-236-229-667 0-432 232-671 233-239 649-239 425 0 654 236 230 236 230 674 0 428-233 665-232 238-651 238zm-550 262q-403 103-630 384-226 282-226 679 0 556 378 882 378 327 1028 327 653 0 1031-327 378-326 378-882 0-397-227-679-226-281-629-384 469-103 717-416 249-312 249-809 0-631-403-988-403-356-1116-356-712 0-1114 355t-402 983q0 500 248 814 249 314 718 417zm-228 1003q0-375 200-572 200-196 578-196 381 0 581 196 200 197 200 572 0 382-199 582-198 200-582 200-378 0-578-202t-200-580z\"/></defs><use xlink:href=\"#DejaVuSansMono-38\"/></g><g transform=\"translate(162.82 23.473) scale(.1 -.1)\" fill=\"#808080\"><defs><path id=\"DejaVuSansMono-39\" transform=\"scale(.015625)\" d=\"m1863 2069q403 0 632 290 230 291 230 804 0 512-230 802-229 291-632 291-419 0-632-277-212-276-212-816 0-544 211-819t633-275zm-1125-1972v581q196-115 418-176t463-61q600 0 907 451 308 452 308 1330-146-313-412-480t-609-167q-675 0-1046 415-370 416-370 1179 0 753 379 1167 380 414 1074 414 813 0 1191-585 378-584 378-1837 0-1178-455-1799-455-620-1320-620-228 0-460 49-231 48-446 139z\"/></defs><use xlink:href=\"#DejaVuSansMono-39\"/></g><g transform=\"translate(166.1 221.15) scale(.1 -.1)\" fill=\"#808080\"><defs><path id=\"DejaVuSansMono-36\" transform=\"scale(.015625)\" d=\"m3097 4563v-582q-197 116-419 177t-462 61q-600 0-910-452-309-451-309-1329 150 312 415 479 266 167 610 167 675 0 1045-414 371-414 371-1173 0-756-382-1172-381-416-1072-416-812 0-1190 583t-378 1836q0 1181 454 1801 455 621 1318 621 231 0 462-49 231-48 447-138zm-1125-1972q-403 0-635-291-231-291-231-803 0-513 231-804 232-290 635-290 419 0 631 276 213 277 213 818 0 544-213 819-212 275-631 275z\"/></defs><use xlink:href=\"#DejaVuSansMono-36\"/></g><defs><clipPath id=\"05079e79543\"><rect x=\"7.2\" y=\"7.2\" width=\"279\" height=\"222.18\"/></clipPath></defs></svg>"
      ],
      "text/plain": [
       "<Figure size 500x500 with 1 Axes>"
      ]
     },
     "metadata": {
      "needs_background": "light"
     },
     "output_type": "display_data"
    },
    {
     "data": {
      "text/plain": [
       "(<Figure size 500x500 with 1 Axes>, <Axes: >)"
      ]
     },
     "execution_count": 1,
     "metadata": {},
     "output_type": "execute_result"
    }
   ],
   "source": [
    "%config InlineBackend.figure_formats = ['svg']\n",
    "import cotengra as ctg  # noqa\n",
    "\n",
    "# generate a random contraction\n",
    "inputs, output, shapes, size_dict = ctg.utils.rand_equation(\n",
    "    10, 3, n_out=2, seed=4\n",
    ")\n",
    "print(ctg.utils.inputs_output_to_eq(inputs, output))\n",
    "\n",
    "# turn into a hypergraph in order to visualize\n",
    "hg = ctg.get_hypergraph(inputs, output, size_dict)\n",
    "hg.plot()"
   ]
  },
  {
   "cell_type": "markdown",
   "id": "cffdc1f6-cbbb-4c81-b04f-8bc14698a2b5",
   "metadata": {},
   "source": [
    "## Design"
   ]
  },
  {
   "cell_type": "markdown",
   "id": "e96566e9-3cd7-4a5b-81ab-df876ff62e3a",
   "metadata": {},
   "source": [
    "We can create an empty tree with the following:"
   ]
  },
  {
   "cell_type": "code",
   "execution_count": 2,
   "id": "b7680a24-d233-4f53-a404-f9627fd99ba3",
   "metadata": {},
   "outputs": [
    {
     "data": {
      "text/plain": [
       "<ContractionTree(N=10, branches=0, complete=False)>"
      ]
     },
     "execution_count": 2,
     "metadata": {},
     "output_type": "execute_result"
    }
   ],
   "source": [
    "tree = ctg.ContractionTree(inputs, output, size_dict)\n",
    "tree"
   ]
  },
  {
   "cell_type": "markdown",
   "id": "3efc6c42-057f-4220-bbb1-8496b395438d",
   "metadata": {},
   "source": [
    "```{note}\n",
    "You can also initialize an empty tree with [`ContractionTree.from_eq`](cotengra.core.ContractionTree.from_eq) or construct a completed tree with [`ContractionTree.from_path`](cotengra.core.ContractionTree.from_path) and [`ContractionTree.from_info`](cotengra.core.ContractionTree.from_info). The [`search`](cotengra.HyperOptimizer.search) method of optimizers also directly returns a tree.\n",
    "```"
   ]
  },
  {
   "cell_type": "markdown",
   "id": "f9986d72-400b-455c-b922-ef0bba49f1b5",
   "metadata": {},
   "source": [
    "The nodes of the tree are frozen sets of integers, describing groups of inputs which form intermediate tensors. Initially only the final output tensor (tree root node), and input tensors (tree leaf nodes) are known:"
   ]
  },
  {
   "cell_type": "code",
   "execution_count": 3,
   "id": "33072c14-7eba-46d7-a95f-537b05b78270",
   "metadata": {},
   "outputs": [
    {
     "name": "stdout",
     "output_type": "stream",
     "text": [
      "frozenset({0, 1, 2, 3, 4, 5, 6, 7, 8, 9})\n"
     ]
    }
   ],
   "source": [
    "print(tree.root)"
   ]
  },
  {
   "cell_type": "code",
   "execution_count": 4,
   "id": "0da716e0-a7b9-4a14-a3ad-dc012c5e5de7",
   "metadata": {},
   "outputs": [
    {
     "name": "stdout",
     "output_type": "stream",
     "text": [
      "frozenset({0})\n",
      "frozenset({1})\n",
      "frozenset({2})\n",
      "frozenset({3})\n",
      "frozenset({4})\n",
      "frozenset({5})\n",
      "frozenset({6})\n",
      "frozenset({7})\n",
      "frozenset({8})\n",
      "frozenset({9})\n"
     ]
    }
   ],
   "source": [
    "for node in tree.gen_leaves():\n",
    "    print(node)"
   ]
  },
  {
   "cell_type": "markdown",
   "id": "9ccb6fe0-76bd-4980-b7df-56f9b4ae2088",
   "metadata": {},
   "source": [
    "In order to complete the tree we need to find $N - 1$ contractions (branches) via either merges of parentless nodes (like the leaves above) or partitions of childless nodes (like the root above). [`contract_nodes`](cotengra.core.ContractionTree.contract_nodes) is the method used to form these merges for an arbitrary set of nodes."
   ]
  },
  {
   "cell_type": "markdown",
   "id": "6b4cbf1a-7f5e-479a-baef-c3b22be1281d",
   "metadata": {},
   "source": [
    "Here we merge two leaves to form a new intermediate (agglomeratively building the tree from the bottom):"
   ]
  },
  {
   "cell_type": "code",
   "execution_count": 5,
   "id": "9323f9d6-efd9-46f3-98a9-125a4ef74a12",
   "metadata": {},
   "outputs": [
    {
     "data": {
      "text/plain": [
       "frozenset({0, 1})"
      ]
     },
     "execution_count": 5,
     "metadata": {},
     "output_type": "execute_result"
    }
   ],
   "source": [
    "parent = tree.contract_nodes([frozenset([0]), frozenset([1])])\n",
    "parent"
   ]
  },
  {
   "cell_type": "markdown",
   "id": "ad34b81a-5de3-4ae4-9a7c-ff7620fd9d00",
   "metadata": {},
   "source": [
    "Here we split the root (divisively building the tree from the top):"
   ]
  },
  {
   "cell_type": "code",
   "execution_count": 6,
   "id": "4c8cb1b5-228a-4d53-aee4-7a2cd7eee96b",
   "metadata": {},
   "outputs": [
    {
     "data": {
      "text/plain": [
       "frozenset({0, 1, 2, 3, 4, 5, 6, 7, 8, 9})"
      ]
     },
     "execution_count": 6,
     "metadata": {},
     "output_type": "execute_result"
    }
   ],
   "source": [
    "left, right = frozenset(range(0, 5)), frozenset(range(5, 10))\n",
    "\n",
    "# this should output the root\n",
    "tree.contract_nodes([left, right])"
   ]
  },
  {
   "cell_type": "markdown",
   "id": "1eac789d-c003-4490-a485-013374670410",
   "metadata": {},
   "source": [
    "Note how we can declare `left` and `right` here as intermediates even though we don't know exactly how they will be formed yet. We can already work out certain properties of such nodes for example their indices ('legs') and their size:"
   ]
  },
  {
   "cell_type": "code",
   "execution_count": 9,
   "id": "96586214-c7c8-4fc2-bdb7-f8f011a9f6b3",
   "metadata": {},
   "outputs": [
    {
     "data": {
      "text/plain": [
       "({'b': 1, 'h': 1, 'a': 1, 'k': 1, 'g': 1, 'm': 1, 'o': 1}, 432)"
      ]
     },
     "execution_count": 9,
     "metadata": {},
     "output_type": "execute_result"
    }
   ],
   "source": [
    "tree.get_legs(left), tree.get_size(left)"
   ]
  },
  {
   "cell_type": "markdown",
   "id": "b1e19a0f-f762-48c5-b4ed-83798f480b7f",
   "metadata": {},
   "source": [
    "But other information such as the flops required to form them need their children specified first."
   ]
  },
  {
   "cell_type": "code",
   "execution_count": 10,
   "id": "34474da1-e7c1-4eb0-bd6c-c4d98e068084",
   "metadata": {},
   "outputs": [
    {
     "data": {
      "text/plain": [
       "432"
      ]
     },
     "execution_count": 10,
     "metadata": {},
     "output_type": "execute_result"
    }
   ],
   "source": [
    "tree.get_flops(tree.root)"
   ]
  },
  {
   "cell_type": "code",
   "execution_count": 11,
   "id": "43382b1f-c428-40df-acb5-5c2bd6e9e69d",
   "metadata": {},
   "outputs": [
    {
     "data": {
      "text/plain": [
       "'abc,de->abcde'"
      ]
     },
     "execution_count": 11,
     "metadata": {},
     "output_type": "execute_result"
    }
   ],
   "source": [
    "tree.get_einsum_eq(parent)"
   ]
  },
  {
   "cell_type": "markdown",
   "id": "9a77d4b9-b650-45eb-93d7-4204a091dbc3",
   "metadata": {},
   "source": [
    "The core tree information is stored as a mapping of children like so:"
   ]
  },
  {
   "cell_type": "code",
   "execution_count": 12,
   "id": "fbb6a4a0-01eb-4d6b-a3de-b0ff434a12c0",
   "metadata": {},
   "outputs": [
    {
     "data": {
      "text/plain": [
       "{frozenset({0, 1}): (frozenset({1}), frozenset({0})),\n",
       " frozenset({0, 1, 2, 3, 4, 5, 6, 7, 8, 9}): (frozenset({5, 6, 7, 8, 9}),\n",
       "  frozenset({0, 1, 2, 3, 4}))}"
      ]
     },
     "execution_count": 12,
     "metadata": {},
     "output_type": "execute_result"
    }
   ],
   "source": [
    "tree.children"
   ]
  },
  {
   "cell_type": "markdown",
   "id": "a950263b-d13e-430e-91d1-3a40767be94b",
   "metadata": {},
   "source": [
    "We can compute the flops and any other local information for any nodes that are keys of this. This information is cached in `tree.info`.\n",
    "\n",
    "You can get all remaining 'incomplete' nodes by calling [`tree.get_incomplete_nodes`](cotengra.core.ContractionTree.get_incomplete_nodes). This returns a dictionary, where each key is a 'childless' node, and each value is the list of 'parentless' nodes that are within its subgraph:"
   ]
  },
  {
   "cell_type": "code",
   "execution_count": 14,
   "id": "e804ed26",
   "metadata": {},
   "outputs": [
    {
     "data": {
      "text/plain": [
       "{frozenset({0, 1, 2, 3, 4}): [frozenset({2}),\n",
       "  frozenset({3}),\n",
       "  frozenset({4}),\n",
       "  frozenset({0, 1})],\n",
       " frozenset({5, 6, 7, 8, 9}): [frozenset({5}),\n",
       "  frozenset({6}),\n",
       "  frozenset({7}),\n",
       "  frozenset({8}),\n",
       "  frozenset({9})]}"
      ]
     },
     "execution_count": 14,
     "metadata": {},
     "output_type": "execute_result"
    }
   ],
   "source": [
    "tree.get_incomplete_nodes()"
   ]
  },
  {
   "cell_type": "markdown",
   "id": "93bcc9e2-44bb-4917-b6bf-fcebab029f4a",
   "metadata": {},
   "source": [
    "Each of these 'empty subtrees' needs to be filled in in order to complete the tree.\n",
    "\n",
    "When calling `contract_nodes` we can actually specify an arbitrary collection of (uncontracted) nodes, these can be seen as the leaves of a subtree which is a mini contraction problem in its own right. Hence the function itself takes the `optimize` kwarg used to specify how to optimize this sub contraction. Here we'll make use of this to complete our tree."
   ]
  },
  {
   "cell_type": "code",
   "execution_count": 11,
   "id": "d908d0ca-5c76-47fa-9a56-f8592e298add",
   "metadata": {},
   "outputs": [
    {
     "data": {
      "text/plain": [
       "True"
      ]
     },
     "execution_count": 11,
     "metadata": {},
     "output_type": "execute_result"
    }
   ],
   "source": [
    "# fill in the subtree with `left` as root\n",
    "tree.contract_nodes([parent] + [frozenset([i]) for i in range(2, 5)])\n",
    "\n",
    "# fill in the subtree with `right` as root\n",
    "tree.contract_nodes([frozenset([i]) for i in range(5, 10)])\n",
    "\n",
    "# our tree should now be complete\n",
    "tree.is_complete()"
   ]
  },
  {
   "cell_type": "markdown",
   "id": "c1e286bd-a5c6-4806-9c9d-870e7434b255",
   "metadata": {},
   "source": [
    "We can now plot our tree, check full costs, and use it perform contractions etc:"
   ]
  },
  {
   "cell_type": "code",
   "execution_count": 12,
   "id": "401afda9-0f61-44d5-a260-d5a15fbdb801",
   "metadata": {},
   "outputs": [
    {
     "data": {
      "image/svg+xml": [
       "<?xml version=\"1.0\" encoding=\"UTF-8\"?><!DOCTYPE svg  PUBLIC '-//W3C//DTD SVG 1.1//EN'  'http://www.w3.org/Graphics/SVG/1.1/DTD/svg11.dtd'><svg width=\"340.29pt\" height=\"367.89pt\" version=\"1.1\" viewBox=\"0 0 340.29 367.89\" xmlns=\"http://www.w3.org/2000/svg\" xmlns:xlink=\"http://www.w3.org/1999/xlink\"><defs><style type=\"text/css\">*{stroke-linejoin: round; stroke-linecap: butt}</style></defs><path d=\"m0 367.89h340.29v-367.89h-340.29v367.89z\" fill=\"none\"/><path d=\"m19.595 348.06q5.7224-4.8989 7.1743-6.8678c1.3671-1.8538 3.1365-6.273 4.182-8.3639 1.0455-2.091 3.5192-6.158 4.182-8.3639q0.7039-2.3429 1.1896-9.8601\" clip-path=\"url(#835bcaaad8c)\" fill=\"none\" stroke=\"#ca30d8\" stroke-linecap=\"round\"/><g transform=\"translate(33.73 331) rotate(-63.435) scale(.06 -.06)\" fill=\"#808080\"><defs><path id=\"DejaVuSansMono-6d\" transform=\"scale(.015625)\" d=\"m2113 3144q106 225 270 332 164 108 395 108 422 0 595-327 174-326 174-1229v-2028h-525v2003q0 741-83 920-83 180-301 180-250 0-343-192-92-192-92-908v-2003h-525v2003q0 750-89 925t-320 175q-228 0-317-192t-89-908v-2003h-522v3500h522v-300q103 188 257 286 155 98 352 98 237 0 395-109t246-331z\"/></defs><use xlink:href=\"#DejaVuSansMono-6d\"/></g><path d=\"m19.595 348.06q0.4857-7.5172 1.1896-9.8601c0.66276-2.206 3.1365-6.273 4.182-8.3639 1.0455-2.091 2.8148-6.5102 4.182-8.3639q1.452-1.9689 7.1743-6.8678\" clip-path=\"url(#835bcaaad8c)\" fill=\"none\" stroke=\"#7b94dc\" stroke-linecap=\"round\"/><g transform=\"translate(23.563 336.38) rotate(-63.435) scale(.06 -.06)\" fill=\"#808080\"><defs><path id=\"DejaVuSansMono-69\" transform=\"scale(.015625)\" d=\"m800 3500h1472v-3053h1141v-447h-2857v447h1141v2606h-897v447zm897 1363h575v-729h-575v729z\"/></defs><use xlink:href=\"#DejaVuSansMono-69\"/></g><path d=\"m53.051 348.06q-3.1365-6.273-4.182-8.3639c-1.0455-2.091-3.1365-6.273-4.182-8.3639-1.0455-2.091-3.1365-6.273-4.182-8.3639q-1.0455-2.091-4.182-8.3639\" clip-path=\"url(#835bcaaad8c)\" fill=\"none\" stroke=\"#7b94dc\" stroke-linecap=\"round\"/><g transform=\"translate(42.384 330.46) rotate(63.435) scale(.06 -.06)\" fill=\"#808080\"><use xlink:href=\"#DejaVuSansMono-69\"/></g><path d=\"m36.323 314.6q4.7047-6.273 6.273-8.3639c1.5682-2.091 4.7047-6.273 6.273-8.3639 1.5682-2.091 4.7047-6.273 6.273-8.3639q1.5682-2.091 6.273-8.3639\" clip-path=\"url(#835bcaaad8c)\" fill=\"none\" stroke=\"#ca30d8\" stroke-linecap=\"round\"/><g transform=\"translate(49.123 300.32) rotate(-53.13) scale(.06 -.06)\" fill=\"#808080\"><use xlink:href=\"#DejaVuSansMono-6d\"/></g><path d=\"m86.507 314.6q-4.7047-6.273-6.273-8.3639c-1.5682-2.091-4.7047-6.273-6.273-8.3639-1.5682-2.091-4.7047-6.273-6.273-8.3639q-1.5682-2.091-6.273-8.3639\" clip-path=\"url(#835bcaaad8c)\" fill=\"none\" stroke=\"#73afe3\" stroke-linecap=\"round\" stroke-width=\"1.585\"/><g transform=\"translate(71.54 297.43) rotate(53.13) scale(.06 -.06)\" fill=\"#808080\"><defs><path id=\"DejaVuSansMono-6f\" transform=\"scale(.015625)\" d=\"m1925 3097q-437 0-662-341-225-340-225-1009 0-666 225-1008t662-342q441 0 666 342t225 1008q0 669-225 1009-225 341-666 341zm0 487q728 0 1114-472 386-471 386-1365 0-897-385-1368-384-470-1115-470-728 0-1113 470-384 471-384 1368 0 894 384 1365 385 472 1113 472z\"/></defs><use xlink:href=\"#DejaVuSansMono-6f\"/></g><path d=\"m119.96 281.14q3.1365-6.273 4.182-8.3639c1.0455-2.091 3.1365-6.273 4.182-8.3639 1.0455-2.091 3.1365-6.273 4.182-8.3639q1.0455-2.091 4.182-8.3639\" clip-path=\"url(#835bcaaad8c)\" fill=\"none\" stroke=\"#c9cf89\" stroke-linecap=\"round\" stroke-width=\"1.585\"/><g transform=\"translate(129.01 266.78) rotate(-63.435) scale(.06 -.06)\" fill=\"#808080\"><defs><path id=\"DejaVuSansMono-6b\" transform=\"scale(.015625)\" d=\"m738 4863h593v-2816l1510 1453h700l-1378-1319 1593-2181h-703l-1294 1806-428-403v-1403h-593v4863z\"/></defs><use xlink:href=\"#DejaVuSansMono-6b\"/></g><path d=\"m153.42 281.14q-0.4857-7.5172-1.1896-9.8601c-0.66276-2.206-3.1365-6.273-4.182-8.3639-1.0455-2.091-2.8148-6.5102-4.182-8.3639q-1.452-1.9689-7.1743-6.8678\" clip-path=\"url(#835bcaaad8c)\" fill=\"none\" stroke=\"#5552d1\" stroke-linecap=\"round\"/><g transform=\"translate(143.69 257.85) rotate(63.435) scale(.06 -.06)\" fill=\"#808080\"><defs><path id=\"DejaVuSansMono-67\" transform=\"scale(.015625)\" d=\"m2681 1778q0 647-211 983t-614 336q-422 0-644-336-221-336-221-983t223-986q224-339 649-339 396 0 607 340 211 341 211 985zm575-1553q0-788-372-1194-371-406-1093-406-238 0-498 44-259 43-518 128v569q306-144 556-213t460-69q465 0 677 254 213 253 213 803v25 390q-137-293-375-437-237-144-578-144-612 0-978 490-366 491-366 1313 0 825 366 1315 366 491 978 491 338 0 572-134t381-416v454h575v-3263z\"/></defs><use xlink:href=\"#DejaVuSansMono-67\"/></g><path d=\"m153.42 281.14q-5.7224-4.8989-7.1743-6.8678c-1.3671-1.8538-3.1365-6.273-4.182-8.3639-1.0455-2.091-3.5192-6.158-4.182-8.3639q-0.7039-2.3429-1.1896-9.8601\" clip-path=\"url(#835bcaaad8c)\" fill=\"none\" stroke=\"#83dec4\" stroke-linecap=\"round\"/><g transform=\"translate(141.85 269.23) rotate(63.435) scale(.06 -.06)\" fill=\"#808080\"><defs><path id=\"DejaVuSansMono-68\" transform=\"scale(.015625)\" d=\"m3284 2169v-2169h-578v2169q0 472-166 693-165 222-518 222-403 0-621-286-217-285-217-820v-1978h-575v4863h575v-1888q154 300 416 454 263 155 622 155 534 0 798-352 264-351 264-1063z\"/></defs><use xlink:href=\"#DejaVuSansMono-68\"/></g><path d=\"m61.415 281.14q9.5908-11.079 12.325-15.088c2.694-3.9489 7.0571-12.546 9.4094-16.728 2.3524-4.182 7.4336-12.375 9.4094-16.728q2.0056-4.4185 6.4935-18.368\" clip-path=\"url(#835bcaaad8c)\" fill=\"none\" stroke=\"#73afe3\" stroke-linecap=\"round\" stroke-width=\"1.585\"/><g transform=\"translate(88.426 243.36) rotate(-60.642) scale(.06 -.06)\" fill=\"#808080\"><use xlink:href=\"#DejaVuSansMono-6f\"/></g><path d=\"m61.415 281.14q4.4879-13.95 6.4935-18.368c1.9758-4.3529 7.0571-12.546 9.4094-16.728s6.7155-12.779 9.4094-16.728q2.7346-4.0085 12.325-15.088\" clip-path=\"url(#835bcaaad8c)\" fill=\"none\" stroke=\"#ca30d8\" stroke-linecap=\"round\"/><g transform=\"translate(73.185 256.81) rotate(-60.642) scale(.06 -.06)\" fill=\"#808080\"><use xlink:href=\"#DejaVuSansMono-6d\"/></g><path d=\"m136.69 247.69q-4.0498-9.4749-6.0754-12.115c-1.8816-2.4522-7.0571-6.273-9.4094-8.3639-2.3524-2.091-6.7536-6.7828-9.4094-8.3639q-2.8591-1.7021-12.743-4.6132\" clip-path=\"url(#835bcaaad8c)\" fill=\"none\" stroke=\"#5552d1\" stroke-linecap=\"round\"/><g transform=\"translate(114.07 223.05) rotate(41.634) scale(.06 -.06)\" fill=\"#808080\"><use xlink:href=\"#DejaVuSansMono-67\"/></g><path d=\"m136.69 247.69q-7.0571-6.273-9.4094-8.3639c-2.3524-2.091-7.0571-6.273-9.4094-8.3639-2.3524-2.091-7.0571-6.273-9.4094-8.3639q-2.3524-2.091-9.4094-8.3639\" clip-path=\"url(#835bcaaad8c)\" fill=\"none\" stroke=\"#83dec4\" stroke-linecap=\"round\"/><g transform=\"translate(115.41 231.01) rotate(41.634) scale(.06 -.06)\" fill=\"#808080\"><use xlink:href=\"#DejaVuSansMono-68\"/></g><path d=\"m136.69 247.69q-9.8843-2.911-12.743-4.6132c-2.6559-1.5812-7.0571-6.273-9.4094-8.3639-2.3524-2.091-7.5278-5.9118-9.4094-8.3639q-2.0256-2.6398-6.0754-12.115\" clip-path=\"url(#835bcaaad8c)\" fill=\"none\" stroke=\"#c9cf89\" stroke-linecap=\"round\" stroke-width=\"1.585\"/><g transform=\"translate(116.78 238.94) rotate(41.634) scale(.06 -.06)\" fill=\"#808080\"><use xlink:href=\"#DejaVuSansMono-6b\"/></g><path d=\"m186.87 214.23q6.9935-4.1682 8.6705-6.1197c1.4777-1.7195 3.1365-6.273 4.182-8.3639 1.0455-2.091 3.693-6.15 4.182-8.3639q0.55494-2.5126-0.30659-10.608\" clip-path=\"url(#835bcaaad8c)\" fill=\"none\" stroke=\"#d5bf35\" stroke-linecap=\"round\"/><g transform=\"translate(202.51 197.93) rotate(-63.435) scale(.06 -.06)\" fill=\"#808080\"><defs><path id=\"DejaVuSansMono-6c\" transform=\"scale(.015625)\" d=\"m1997 1269q0-388 142-585 142-196 420-196h672v-488h-728q-515 0-798 331-283 332-283 938v3178h-922v450h1497v-3628z\"/></defs><use xlink:href=\"#DejaVuSansMono-6c\"/></g><path d=\"m186.87 214.23q3.1365-6.273 4.182-8.3639c1.0455-2.091 3.1365-6.273 4.182-8.3639 1.0455-2.091 3.1365-6.273 4.182-8.3639q1.0455-2.091 4.182-8.3639\" clip-path=\"url(#835bcaaad8c)\" fill=\"none\" stroke=\"#83dec4\" stroke-linecap=\"round\"/><g transform=\"translate(195.93 199.87) rotate(-63.435) scale(.06 -.06)\" fill=\"#808080\"><use xlink:href=\"#DejaVuSansMono-68\"/></g><path d=\"m186.87 214.23q-0.86153-8.0957-0.30659-10.608c0.48898-2.2139 3.1365-6.273 4.182-8.3639 1.0455-2.091 2.7042-6.6444 4.182-8.3639q1.6771-1.9515 8.6705-6.1197\" clip-path=\"url(#835bcaaad8c)\" fill=\"none\" stroke=\"#b9e292\" stroke-linecap=\"round\" stroke-width=\"1.585\"/><g transform=\"translate(189.35 201.81) rotate(-63.435) scale(.06 -.06)\" fill=\"#808080\"><defs><path id=\"DejaVuSansMono-62\" transform=\"scale(.015625)\" d=\"m2869 1747q0 669-213 1009-212 341-628 341-419 0-635-342-215-342-215-1008 0-663 215-1007 216-343 635-343 416 0 628 340 213 341 213 1010zm-1691 1306q138 256 380 393 242 138 561 138 631 0 993-486 363-485 363-1339 0-865-364-1358-364-492-998-492-313 0-552 136t-383 396v-441h-575v4863h575v-1810z\"/></defs><use xlink:href=\"#DejaVuSansMono-62\"/></g><path d=\"m220.33 214.23q-0.4857-7.5172-1.1896-9.8601c-0.66276-2.206-3.1365-6.273-4.182-8.3639-1.0455-2.091-2.8148-6.5102-4.182-8.3639q-1.452-1.9689-7.1743-6.8678\" clip-path=\"url(#835bcaaad8c)\" fill=\"none\" stroke=\"#4ee480\" stroke-linecap=\"round\" stroke-width=\"1.585\"/><g transform=\"translate(210.56 190.96) rotate(63.435) scale(.06 -.06)\" fill=\"#808080\"><defs><path id=\"DejaVuSansMono-64\" transform=\"scale(.015625)\" d=\"m2681 3053v1810h575v-4863h-575v441q-143-260-383-396-239-136-551-136-634 0-999 492-364 493-364 1358 0 854 366 1339 366 486 997 486 316 0 556-136 241-135 378-395zm-1690-1306q0-669 212-1010 213-340 628-340 416 0 633 343 217 344 217 1007 0 666-217 1008t-633 342q-415 0-628-341-212-340-212-1009z\"/></defs><use xlink:href=\"#DejaVuSansMono-64\"/></g><path d=\"m220.33 214.23q-5.7224-4.8989-7.1744-6.8678c-1.3671-1.8538-3.1365-6.273-4.182-8.3639-1.0455-2.091-3.5192-6.158-4.182-8.3639q-0.7039-2.3429-1.1896-9.8601\" clip-path=\"url(#835bcaaad8c)\" fill=\"none\" stroke=\"#84e198\" stroke-linecap=\"round\" stroke-width=\"1.585\"/><g transform=\"translate(208.76 202.31) rotate(63.435) scale(.06 -.06)\" fill=\"#808080\"><defs><path id=\"DejaVuSansMono-6e\" transform=\"scale(.015625)\" d=\"m3284 2169v-2169h-578v2169q0 472-166 693-165 222-518 222-403 0-621-286-217-285-217-820v-1978h-575v3500h575v-525q154 300 416 454 263 155 622 155 534 0 798-352 264-351 264-1063z\"/></defs><use xlink:href=\"#DejaVuSansMono-6e\"/></g><path d=\"m203.6 180.78q10.339-1.5885 12.964-3.3456c2.0495-1.3721 4.7047-6.273 6.273-8.3639 1.5682-2.091 5.5297-6.0122 6.273-8.3639q0.95189-3.0117-0.4182-13.382\" clip-path=\"url(#835bcaaad8c)\" fill=\"none\" stroke=\"#84e198\" stroke-linecap=\"round\" stroke-width=\"1.585\"/><g transform=\"translate(226.23 167.33) rotate(-53.13) scale(.06 -.06)\" fill=\"#808080\"><use xlink:href=\"#DejaVuSansMono-6e\"/></g><path d=\"m203.6 180.78q7.5717-3.9969 9.6185-5.8548c1.9004-1.725 4.7047-6.273 6.273-8.3639 1.5682-2.091 5.1491-6.0565 6.273-8.3639q1.2104-2.4852 2.9274-10.873\" clip-path=\"url(#835bcaaad8c)\" fill=\"none\" stroke=\"#d5bf35\" stroke-linecap=\"round\"/><g transform=\"translate(221.32 166.91) rotate(-53.13) scale(.06 -.06)\" fill=\"#808080\"><use xlink:href=\"#DejaVuSansMono-6c\"/></g><path d=\"m203.6 180.78q4.7047-6.273 6.273-8.3639c1.5682-2.091 4.7047-6.273 6.273-8.3639 1.5682-2.091 4.7047-6.273 6.273-8.3639q1.5682-2.091 6.273-8.3639\" clip-path=\"url(#835bcaaad8c)\" fill=\"none\" stroke=\"#83dec4\" stroke-linecap=\"round\"/><g transform=\"translate(216.4 166.5) rotate(-53.13) scale(.06 -.06)\" fill=\"#808080\"><use xlink:href=\"#DejaVuSansMono-68\"/></g><path d=\"m203.6 180.78q1.7169-8.388 2.9274-10.873c1.1239-2.3074 4.7047-6.273 6.273-8.3639 1.5682-2.091 4.3725-6.639 6.273-8.3639q2.0468-1.8579 9.6185-5.8548\" clip-path=\"url(#835bcaaad8c)\" fill=\"none\" stroke=\"#4ee480\" stroke-linecap=\"round\" stroke-width=\"1.585\"/><g transform=\"translate(211.49 166.08) rotate(-53.13) scale(.06 -.06)\" fill=\"#808080\"><use xlink:href=\"#DejaVuSansMono-64\"/></g><path d=\"m203.6 180.78q-1.3701-10.371-0.4182-13.382c0.7433-2.3517 4.7047-6.273 6.273-8.3639 1.5682-2.091 4.2234-6.9919 6.273-8.3639q2.6247-1.7571 12.964-3.3456\" clip-path=\"url(#835bcaaad8c)\" fill=\"none\" stroke=\"#b9e292\" stroke-linecap=\"round\" stroke-width=\"1.585\"/><g transform=\"translate(206.57 165.66) rotate(-53.13) scale(.06 -.06)\" fill=\"#808080\"><use xlink:href=\"#DejaVuSansMono-62\"/></g><path d=\"m253.79 180.78q6.4244-13.389 5.7711-17.397c-0.37264-2.2859-4.7047-6.273-6.273-8.3639-1.5682-2.091-4.1828-7.3662-6.273-8.3639q-3.6643-1.7493-18.317 0.66912\" clip-path=\"url(#835bcaaad8c)\" fill=\"none\" stroke=\"#5db6d5\" stroke-linecap=\"round\"/><g transform=\"translate(247.73 150.39) rotate(53.13) scale(.06 -.06)\" fill=\"#808080\"><defs><path id=\"DejaVuSansMono-63\" transform=\"scale(.015625)\" d=\"m3316 178q-232-134-477-201-245-68-501-68-813 0-1271 487-458 488-458 1351 0 862 458 1349 458 488 1271 488 253 0 493-66 241-65 485-202v-603q-228 203-458 293-230 91-520 91-541 0-832-350-290-350-290-1e3 0-647 292-999 292-351 830-351 300 0 537 92 238 92 441 286v-597z\"/></defs><use xlink:href=\"#DejaVuSansMono-63\"/></g><path d=\"m253.79 180.78q3.5692-11.708 2.7601-15.139c-0.54972-2.3312-4.7047-6.273-6.273-8.3639-1.5682-2.091-4.189-7.1835-6.273-8.3639q-3.0674-1.7375-15.306-1.5892\" clip-path=\"url(#835bcaaad8c)\" fill=\"none\" stroke=\"#4ee480\" stroke-linecap=\"round\" stroke-width=\"1.585\"/><g transform=\"translate(245.5 153.7) rotate(53.13) scale(.06 -.06)\" fill=\"#808080\"><use xlink:href=\"#DejaVuSansMono-64\"/></g><path d=\"m253.79 180.78q0.74666-9.9821-0.25092-12.88c-0.80957-2.3521-4.7047-6.273-6.273-8.3639-1.5682-2.091-4.2416-6.9282-6.273-8.3639q-2.5031-1.7692-12.295-3.8474\" clip-path=\"url(#835bcaaad8c)\" fill=\"none\" stroke=\"#3ddfb7\" stroke-linecap=\"round\" stroke-width=\"1.585\"/><g transform=\"translate(243.27 157) rotate(53.13) scale(.06 -.06)\" fill=\"#808080\"><defs><path id=\"DejaVuSansMono-65\" transform=\"scale(.015625)\" d=\"m3475 1894v-281h-2491v-19q0-572 298-885 299-312 843-312 275 0 575 87 300 88 641 266v-572q-328-134-633-201-305-68-589-68-816 0-1276 489-459 490-459 1349 0 837 450 1337t1200 500q669 0 1055-453t386-1237zm-575 169q-12 506-239 770t-652 264q-415 0-684-275t-319-763l1894 4z\"/></defs><use xlink:href=\"#DejaVuSansMono-65\"/></g><path d=\"m253.79 180.78q-2.0208-8.1833-3.2619-10.622c-1.1678-2.2948-4.7047-6.273-6.273-8.3639-1.5682-2.091-4.3969-6.6004-6.273-8.3639q-1.9939-1.8744-9.284-6.1057\" clip-path=\"url(#835bcaaad8c)\" fill=\"none\" stroke=\"#dee363\" stroke-linecap=\"round\"/><g transform=\"translate(241.05 160.3) rotate(53.13) scale(.06 -.06)\" fill=\"#808080\"><defs><path id=\"DejaVuSansMono-66\" transform=\"scale(.015625)\" d=\"m3322 4863v-479h-653q-310 0-430-127-120-126-120-448v-309h1203v-447h-1203v-3053h-575v3053h-935v447h935v244q0 575 264 847t823 272h691z\"/></defs><use xlink:href=\"#DejaVuSansMono-66\"/></g><path d=\"m253.79 180.78q-4.7047-6.273-6.273-8.3639c-1.5682-2.091-4.7047-6.273-6.273-8.3639-1.5682-2.091-4.7047-6.273-6.273-8.3639q-1.5682-2.091-6.273-8.3639\" clip-path=\"url(#835bcaaad8c)\" fill=\"none\" stroke=\"#5552d1\" stroke-linecap=\"round\"/><g transform=\"translate(238.85 163.58) rotate(53.13) scale(.06 -.06)\" fill=\"#808080\"><use xlink:href=\"#DejaVuSansMono-67\"/></g><path d=\"m253.79 180.78q-7.2901-4.2313-9.284-6.1057c-1.876-1.7636-4.7047-6.273-6.273-8.3639-1.5682-2.091-5.1052-6.0692-6.273-8.3639q-1.2411-2.439-3.2619-10.622\" clip-path=\"url(#835bcaaad8c)\" fill=\"none\" stroke=\"#d5bf35\" stroke-linecap=\"round\"/><g transform=\"translate(236.59 166.91) rotate(53.13) scale(.06 -.06)\" fill=\"#808080\"><use xlink:href=\"#DejaVuSansMono-6c\"/></g><path d=\"m253.79 180.78q-9.7919-2.0782-12.295-3.8474c-2.0313-1.4358-4.7047-6.273-6.273-8.3639-1.5682-2.091-5.4634-6.0118-6.273-8.3639q-0.99758-2.8984-0.25092-12.88\" clip-path=\"url(#835bcaaad8c)\" fill=\"none\" stroke=\"#ca30d8\" stroke-linecap=\"round\"/><g transform=\"translate(234.37 170.21) rotate(53.13) scale(.06 -.06)\" fill=\"#808080\"><use xlink:href=\"#DejaVuSansMono-6d\"/></g><path d=\"m253.79 180.78q-12.239 0.14832-15.306-1.5892c-2.084-1.1805-4.7047-6.273-6.273-8.3639-1.5682-2.091-5.7232-6.0328-6.273-8.3639q-0.80911-3.4312 2.7601-15.139\" clip-path=\"url(#835bcaaad8c)\" fill=\"none\" stroke=\"#84e198\" stroke-linecap=\"round\" stroke-width=\"1.585\"/><g transform=\"translate(232.14 173.52) rotate(53.13) scale(.06 -.06)\" fill=\"#808080\"><use xlink:href=\"#DejaVuSansMono-6e\"/></g><path d=\"m253.79 180.78q-14.653 2.4184-18.317 0.66912c-2.0901-0.99779-4.7047-6.273-6.273-8.3639-1.5682-2.091-5.9003-6.0781-6.273-8.3639q-0.6533-4.0076 5.7711-17.397\" clip-path=\"url(#835bcaaad8c)\" fill=\"none\" stroke=\"#73afe3\" stroke-linecap=\"round\" stroke-width=\"1.585\"/><g transform=\"translate(229.91 176.82) rotate(53.13) scale(.06 -.06)\" fill=\"#808080\"><use xlink:href=\"#DejaVuSansMono-6f\"/></g><path d=\"m287.24 147.32q8.2531-3.4146 10.167-5.3716c1.5563-1.5915 3.1365-6.273 4.182-8.3639 1.0455-2.091 3.8425-6.164 4.182-8.3639q0.41744-2.7051-1.8028-11.356\" clip-path=\"url(#835bcaaad8c)\" fill=\"none\" stroke=\"#c9cf89\" stroke-linecap=\"round\" stroke-width=\"1.585\"/><g transform=\"translate(304.37 131.77) rotate(-63.435) scale(.06 -.06)\" fill=\"#808080\"><use xlink:href=\"#DejaVuSansMono-6b\"/></g><path d=\"m287.24 147.32q4.8674-5.3709 6.1769-7.3665c1.2738-1.9412 3.1365-6.273 4.182-8.3639 1.0455-2.091 3.3933-6.1802 4.182-8.3639q0.81079-2.245 2.1871-9.3614\" clip-path=\"url(#835bcaaad8c)\" fill=\"none\" stroke=\"#9daae1\" stroke-linecap=\"round\" stroke-width=\"1.585\"/><g transform=\"translate(298.98 132.56) rotate(-63.435) scale(.06 -.06)\" fill=\"#808080\"><defs><path id=\"DejaVuSansMono-6a\" transform=\"scale(.015625)\" d=\"m1875-63v3116h-991v447h1566v-3563q0-609-280-938-279-330-795-330h-794v487h732q281 0 421 196 141 195 141 585zm0 4926h575v-729h-575v729z\"/></defs><use xlink:href=\"#DejaVuSansMono-6a\"/></g><path d=\"m287.24 147.32q1.3763-7.1164 2.1871-9.3614c0.78867-2.1837 3.1365-6.273 4.182-8.3639 1.0455-2.091 2.9082-6.4228 4.182-8.3639q1.3095-1.9956 6.1769-7.3665\" clip-path=\"url(#835bcaaad8c)\" fill=\"none\" stroke=\"#3ddfb7\" stroke-linecap=\"round\" stroke-width=\"1.585\"/><g transform=\"translate(293.6 133.35) rotate(-63.435) scale(.06 -.06)\" fill=\"#808080\"><use xlink:href=\"#DejaVuSansMono-65\"/></g><path d=\"m287.24 147.32q-2.2202-8.6512-1.8028-11.356c0.33948-2.1999 3.1365-6.273 4.182-8.3639 1.0455-2.091 2.6257-6.7724 4.182-8.3639q1.9136-1.957 10.167-5.3716\" clip-path=\"url(#835bcaaad8c)\" fill=\"none\" stroke=\"#5db6d5\" stroke-linecap=\"round\"/><g transform=\"translate(288.22 134.15) rotate(-63.435) scale(.06 -.06)\" fill=\"#808080\"><use xlink:href=\"#DejaVuSansMono-63\"/></g><path d=\"m320.7 147.32q0.86153-8.0957 0.30659-10.608c-0.48898-2.2139-3.1365-6.273-4.182-8.3639-1.0455-2.091-2.7042-6.6444-4.182-8.3639q-1.6771-1.9515-8.6705-6.1197\" clip-path=\"url(#835bcaaad8c)\" fill=\"none\" stroke=\"#7aacd4\" stroke-linecap=\"round\"/><g transform=\"translate(312.43 123.3) rotate(63.435) scale(.06 -.06)\" fill=\"#808080\"><defs><path id=\"DejaVuSansMono-61\" transform=\"scale(.015625)\" d=\"m2194 1759h-191q-503 0-758-177-254-176-254-526 0-315 190-490 191-175 528-175 475 0 747 329 272 330 275 911v128h-537zm1115 238v-1997h-578v519q-184-313-464-462-279-148-679-148-535 0-854 302-318 302-318 808 0 584 392 887t1151 303h772v91q-3 419-213 608-209 189-668 189-294 0-594-85-300-84-584-246v575q319 122 611 182 292 61 567 61 434 0 742-128t499-384q118-156 168-386t50-689z\"/></defs><use xlink:href=\"#DejaVuSansMono-61\"/></g><path d=\"m320.7 147.32q-3.1365-6.273-4.182-8.3639c-1.0455-2.091-3.1365-6.273-4.182-8.3639-1.0455-2.091-3.1365-6.273-4.182-8.3639q-1.0455-2.091-4.182-8.3639\" clip-path=\"url(#835bcaaad8c)\" fill=\"none\" stroke=\"#dee363\" stroke-linecap=\"round\"/><g transform=\"translate(310.03 129.73) rotate(63.435) scale(.06 -.06)\" fill=\"#808080\"><use xlink:href=\"#DejaVuSansMono-66\"/></g><path d=\"m320.7 147.32q-6.9935-4.1682-8.6705-6.1197c-1.4777-1.7195-3.1365-6.273-4.182-8.3639-1.0455-2.091-3.693-6.15-4.182-8.3639q-0.55494-2.5126 0.30659-10.608\" clip-path=\"url(#835bcaaad8c)\" fill=\"none\" stroke=\"#9daae1\" stroke-linecap=\"round\" stroke-width=\"1.585\"/><g transform=\"translate(307.63 136.15) rotate(63.435) scale(.06 -.06)\" fill=\"#808080\"><use xlink:href=\"#DejaVuSansMono-6a\"/></g><path d=\"m228.69 147.32q17.005-6.3471 21.073-10.167c3.3369-3.1335 7.0571-12.546 9.4094-16.728 2.3524-4.182 8.4644-12.249 9.4094-16.728q1.1521-5.4602-2.2543-23.289\" clip-path=\"url(#835bcaaad8c)\" fill=\"none\" stroke=\"#73afe3\" stroke-linecap=\"round\" stroke-width=\"1.585\"/><g transform=\"translate(264.45 114.46) rotate(-60.642) scale(.06 -.06)\" fill=\"#808080\"><use xlink:href=\"#DejaVuSansMono-6f\"/></g><path d=\"m228.69 147.32q14.209-8.2004 17.741-12.042c3.1612-3.4383 7.0571-12.546 9.4094-16.728 2.3524-4.182 8.1126-12.241 9.4094-16.728q1.4488-5.0127 1.0782-21.414\" clip-path=\"url(#835bcaaad8c)\" fill=\"none\" stroke=\"#ca30d8\" stroke-linecap=\"round\"/><g transform=\"translate(259.78 114.97) rotate(-60.642) scale(.06 -.06)\" fill=\"#808080\"><use xlink:href=\"#DejaVuSansMono-6d\"/></g><path d=\"m228.69 147.32q11.38-9.9942 14.408-13.916c2.9018-3.7577 7.0571-12.546 9.4094-16.728s7.705-12.297 9.4094-16.728q1.7789-4.6248 4.4107-19.54\" clip-path=\"url(#835bcaaad8c)\" fill=\"none\" stroke=\"#83dec4\" stroke-linecap=\"round\"/><g transform=\"translate(255.1 115.49) rotate(-60.642) scale(.06 -.06)\" fill=\"#808080\"><use xlink:href=\"#DejaVuSansMono-68\"/></g><path d=\"m228.69 147.32q8.5092-11.715 11.076-15.791c2.5538-4.0551 7.0571-12.546 9.4094-16.728s7.2701-12.44 9.4094-16.728q2.1499-4.3095 7.7432-17.665\" clip-path=\"url(#835bcaaad8c)\" fill=\"none\" stroke=\"#5552d1\" stroke-linecap=\"round\"/><g transform=\"translate(250.39 115.98) rotate(-60.642) scale(.06 -.06)\" fill=\"#808080\"><use xlink:href=\"#DejaVuSansMono-67\"/></g><path d=\"m228.69 147.32q5.5933-13.356 7.7432-17.665c2.1393-4.2883 7.0571-12.546 9.4094-16.728s6.8556-12.673 9.4094-16.728q2.5665-4.0752 11.076-15.791\" clip-path=\"url(#835bcaaad8c)\" fill=\"none\" stroke=\"#dee363\" stroke-linecap=\"round\"/><g transform=\"translate(245.75 116.52) rotate(-60.642) scale(.06 -.06)\" fill=\"#808080\"><use xlink:href=\"#DejaVuSansMono-66\"/></g><path d=\"m228.69 147.32q2.6318-14.915 4.4107-19.54c1.7044-4.4312 7.0571-12.546 9.4094-16.728s6.5076-12.97 9.4094-16.728q3.0286-3.9219 14.408-13.916\" clip-path=\"url(#835bcaaad8c)\" fill=\"none\" stroke=\"#3ddfb7\" stroke-linecap=\"round\" stroke-width=\"1.585\"/><g transform=\"translate(241.07 117.03) rotate(-60.642) scale(.06 -.06)\" fill=\"#808080\"><use xlink:href=\"#DejaVuSansMono-65\"/></g><path d=\"m228.69 147.32q-0.37053-16.401 1.0782-21.414c1.2968-4.487 7.0571-12.546 9.4094-16.728s6.2482-13.29 9.4094-16.728q3.5316-3.8412 17.741-12.042\" clip-path=\"url(#835bcaaad8c)\" fill=\"none\" stroke=\"#5db6d5\" stroke-linecap=\"round\"/><g transform=\"translate(236.39 117.55) rotate(-60.642) scale(.06 -.06)\" fill=\"#808080\"><use xlink:href=\"#DejaVuSansMono-63\"/></g><path d=\"m228.69 147.32q-3.4063-17.829-2.2543-23.289c0.94504-4.4789 7.0571-12.546 9.4094-16.728s6.0725-13.594 9.4094-16.728q4.068-3.82 21.073-10.167\" clip-path=\"url(#835bcaaad8c)\" fill=\"none\" stroke=\"#b9e292\" stroke-linecap=\"round\" stroke-width=\"1.585\"/><g transform=\"translate(231.72 118.06) rotate(-60.642) scale(.06 -.06)\" fill=\"#808080\"><use xlink:href=\"#DejaVuSansMono-62\"/></g><path d=\"m303.97 113.87q-1.9591-11.533-3.8527-14.615c-1.5773-2.5672-7.0571-6.273-9.4094-8.3639-2.3524-2.091-6.675-7.0985-9.4094-8.3639q-3.2829-1.5193-14.966-2.1127\" clip-path=\"url(#835bcaaad8c)\" fill=\"none\" stroke=\"#7aacd4\" stroke-linecap=\"round\"/><g transform=\"translate(283.54 86.753) rotate(41.634) scale(.06 -.06)\" fill=\"#808080\"><use xlink:href=\"#DejaVuSansMono-61\"/></g><path d=\"m303.97 113.87q-4.5628-8.9517-6.6311-11.49c-1.9628-2.4085-7.0571-6.273-9.4094-8.3639-2.3524-2.091-6.7875-6.6971-9.4094-8.3639q-2.7628-1.7565-12.188-5.2383\" clip-path=\"url(#835bcaaad8c)\" fill=\"none\" stroke=\"#5db6d5\" stroke-linecap=\"round\"/><g transform=\"translate(283.12 91.97) rotate(41.634) scale(.06 -.06)\" fill=\"#808080\"><use xlink:href=\"#DejaVuSansMono-63\"/></g><path d=\"m303.97 113.87q-7.0571-6.273-9.4094-8.3639c-2.3524-2.091-7.0571-6.273-9.4094-8.3639-2.3524-2.091-7.0571-6.273-9.4094-8.3639q-2.3524-2.091-9.4094-8.3639\" clip-path=\"url(#835bcaaad8c)\" fill=\"none\" stroke=\"#3ddfb7\" stroke-linecap=\"round\" stroke-width=\"1.585\"/><g transform=\"translate(282.69 97.187) rotate(41.634) scale(.06 -.06)\" fill=\"#808080\"><use xlink:href=\"#DejaVuSansMono-65\"/></g><path d=\"m303.97 113.87q-9.4249-3.4818-12.188-5.2383c-2.622-1.6669-7.0571-6.273-9.4094-8.3639-2.3524-2.091-7.4466-5.9555-9.4094-8.3639q-2.0683-2.5379-6.6311-11.49\" clip-path=\"url(#835bcaaad8c)\" fill=\"none\" stroke=\"#dee363\" stroke-linecap=\"round\"/><g transform=\"translate(282.26 102.4) rotate(41.634) scale(.06 -.06)\" fill=\"#808080\"><use xlink:href=\"#DejaVuSansMono-66\"/></g><path d=\"m303.97 113.87q-11.683-0.59338-14.966-2.1127c-2.7344-1.2655-7.0571-6.273-9.4094-8.3639-2.3524-2.091-7.8321-5.7968-9.4094-8.3639q-1.8937-3.0821-3.8527-14.615\" clip-path=\"url(#835bcaaad8c)\" fill=\"none\" stroke=\"#c9cf89\" stroke-linecap=\"round\" stroke-width=\"1.585\"/><g transform=\"translate(281.84 107.62) rotate(41.634) scale(.06 -.06)\" fill=\"#808080\"><use xlink:href=\"#DejaVuSansMono-6b\"/></g><path d=\"m99.053 214.23q22.187-28.009 28.391-38.079c6.1071-9.913 15.682-31.365 20.91-41.82s16.644-30.986 20.91-41.82q4.3338-11.005 13.429-45.56\" clip-path=\"url(#835bcaaad8c)\" fill=\"none\" stroke=\"#73afe3\" stroke-linecap=\"round\" stroke-width=\"1.585\"/><g transform=\"translate(159.5 115.79) rotate(-63.435) scale(.06 -.06)\" fill=\"#808080\"><use xlink:href=\"#DejaVuSansMono-6f\"/></g><path d=\"m99.053 214.23q18.945-29.707 24.65-39.949c5.6828-10.201 15.682-31.365 20.91-41.82 5.2275-10.455 16.158-31.153 20.91-41.82q4.7703-10.71 17.169-43.69\" clip-path=\"url(#835bcaaad8c)\" fill=\"none\" stroke=\"#ca30d8\" stroke-linecap=\"round\"/><g transform=\"translate(150.53 124.37) rotate(-63.435) scale(.06 -.06)\" fill=\"#808080\"><use xlink:href=\"#DejaVuSansMono-6d\"/></g><path d=\"m99.053 214.23q15.682-31.365 20.91-41.82c5.2275-10.455 15.682-31.365 20.91-41.82 5.2275-10.455 15.682-31.365 20.91-41.82q5.2275-10.455 20.91-41.82\" clip-path=\"url(#835bcaaad8c)\" fill=\"none\" stroke=\"#c9cf89\" stroke-linecap=\"round\" stroke-width=\"1.585\"/><g transform=\"translate(141.56 132.96) rotate(-63.435) scale(.06 -.06)\" fill=\"#808080\"><use xlink:href=\"#DejaVuSansMono-6b\"/></g><path d=\"m99.053 214.23q12.399-32.98 17.169-43.69c4.7514-10.667 15.682-31.365 20.91-41.82 5.2275-10.455 15.227-31.618 20.91-41.82q5.7055-10.242 24.65-39.949\" clip-path=\"url(#835bcaaad8c)\" fill=\"none\" stroke=\"#83dec4\" stroke-linecap=\"round\"/><g transform=\"translate(132.59 141.54) rotate(-63.435) scale(.06 -.06)\" fill=\"#808080\"><use xlink:href=\"#DejaVuSansMono-68\"/></g><path d=\"m99.053 214.23q9.0951-34.555 13.429-45.56c4.2661-10.834 15.682-31.365 20.91-41.82 5.2275-10.455 14.803-31.907 20.91-41.82q6.2041-10.07 28.391-38.079\" clip-path=\"url(#835bcaaad8c)\" fill=\"none\" stroke=\"#5552d1\" stroke-linecap=\"round\"/><g transform=\"translate(123.59 150.11) rotate(-63.435) scale(.06 -.06)\" fill=\"#808080\"><use xlink:href=\"#DejaVuSansMono-67\"/></g><path d=\"m266.33 80.409q-11.545-15.653-16.561-19.236c-4.4504-3.1788-15.682-6.273-20.91-8.3639-5.2275-2.091-15.495-7.5966-20.91-8.3639q-6.1033-0.86486-25.259 2.5081\" clip-path=\"url(#835bcaaad8c)\" fill=\"none\" stroke=\"#7aacd4\" stroke-linecap=\"round\"/><g transform=\"translate(216.11 49.509) rotate(21.801) scale(.06 -.06)\" fill=\"#808080\"><use xlink:href=\"#DejaVuSansMono-61\"/></g><path d=\"m266.33 80.409q-12.993-12.554-18.011-15.612c-4.7409-2.8894-15.682-6.273-20.91-8.3639-5.2275-2.091-15.484-7.1867-20.91-8.3639q-5.7424-1.246-23.809-1.1159\" clip-path=\"url(#835bcaaad8c)\" fill=\"none\" stroke=\"#b9e292\" stroke-linecap=\"round\" stroke-width=\"1.585\"/><g transform=\"translate(218.14 54.527) rotate(21.801) scale(.06 -.06)\" fill=\"#808080\"><use xlink:href=\"#DejaVuSansMono-62\"/></g><path d=\"m266.33 80.409q-14.375-9.4284-19.46-11.988c-5.0105-2.522-15.682-6.273-20.91-8.3639-5.2275-2.091-15.542-6.7347-20.91-8.3639q-5.4476-1.6536-22.359-4.7399\" clip-path=\"url(#835bcaaad8c)\" fill=\"none\" stroke=\"#5552d1\" stroke-linecap=\"round\"/><g transform=\"translate(220.19 59.506) rotate(21.801) scale(.06 -.06)\" fill=\"#808080\"><use xlink:href=\"#DejaVuSansMono-67\"/></g><path d=\"m266.33 80.409q-15.682-6.273-20.91-8.3639c-5.2275-2.091-15.682-6.273-20.91-8.3639-5.2275-2.091-15.682-6.273-20.91-8.3639q-5.2275-2.091-20.91-8.3639\" clip-path=\"url(#835bcaaad8c)\" fill=\"none\" stroke=\"#83dec4\" stroke-linecap=\"round\"/><g transform=\"translate(222.21 64.563) rotate(21.801) scale(.06 -.06)\" fill=\"#808080\"><use xlink:href=\"#DejaVuSansMono-68\"/></g><path d=\"m266.33 80.409q-16.912-3.0864-22.359-4.7399c-5.3676-1.6293-15.682-6.273-20.91-8.3639s-15.899-5.842-20.91-8.3639q-5.0852-2.5596-19.46-11.988\" clip-path=\"url(#835bcaaad8c)\" fill=\"none\" stroke=\"#c9cf89\" stroke-linecap=\"round\" stroke-width=\"1.585\"/><g transform=\"translate(224.25 69.581) rotate(21.801) scale(.06 -.06)\" fill=\"#808080\"><use xlink:href=\"#DejaVuSansMono-6b\"/></g><path d=\"m266.33 80.409q-18.067 0.13008-23.809-1.1159c-5.4257-1.1773-15.682-6.273-20.91-8.3639-5.2275-2.091-16.169-5.4746-20.91-8.3639q-5.0176-3.058-18.011-15.612\" clip-path=\"url(#835bcaaad8c)\" fill=\"none\" stroke=\"#ca30d8\" stroke-linecap=\"round\"/><g transform=\"translate(226.29 74.599) rotate(21.801) scale(.06 -.06)\" fill=\"#808080\"><use xlink:href=\"#DejaVuSansMono-6d\"/></g><path d=\"m266.33 80.409q-19.155 3.3729-25.259 2.5081c-5.415-0.76734-15.682-6.273-20.91-8.3639-5.2275-2.091-16.459-5.1851-20.91-8.3639q-5.0161-3.5829-16.561-19.236\" clip-path=\"url(#835bcaaad8c)\" fill=\"none\" stroke=\"#73afe3\" stroke-linecap=\"round\" stroke-width=\"1.585\"/><g transform=\"translate(228.32 79.617) rotate(21.801) scale(.06 -.06)\" fill=\"#808080\"><use xlink:href=\"#DejaVuSansMono-6f\"/></g><path d=\"m182.69 46.954q-2.9274-12.505-3.3456-16.728-0.41008-4.1414 0-16.728\" clip-path=\"url(#835bcaaad8c)\" fill=\"none\" stroke=\"#b9e292\" stroke-linecap=\"round\" stroke-width=\"1.585\"/><path d=\"m182.69 46.954q2.9274-12.505 3.3456-16.728 0.41008-4.1414 0-16.728\" clip-path=\"url(#835bcaaad8c)\" fill=\"none\" stroke=\"#7aacd4\" stroke-linecap=\"round\"/><path d=\"m19.595 356.42c2.2181 0 4.3457-0.88128 5.9142-2.4497s2.4497-3.6961 2.4497-5.9142c0-2.2181-0.88128-4.3457-2.4497-5.9142s-3.6961-2.4497-5.9142-2.4497-4.3457 0.88128-5.9142 2.4497-2.4497 3.6961-2.4497 5.9142c0 2.2181 0.88128 4.3457 2.4497 5.9142s3.6961 2.4497 5.9142 2.4497z\" clip-path=\"url(#835bcaaad8c)\" fill=\"#d29074\" stroke=\"#8c604d\"/><path d=\"m53.051 356.42c2.2181 0 4.3457-0.88128 5.9142-2.4497s2.4497-3.6961 2.4497-5.9142c0-2.2181-0.88128-4.3457-2.4497-5.9142s-3.6961-2.4497-5.9142-2.4497c-2.2181 0-4.3457 0.88128-5.9142 2.4497s-2.4497 3.6961-2.4497 5.9142c0 2.2181 0.88128 4.3457 2.4497 5.9142s3.6961 2.4497 5.9142 2.4497z\" clip-path=\"url(#835bcaaad8c)\" fill=\"#e6a922\" stroke=\"#997116\"/><path d=\"m36.323 322.96c2.2181 0 4.3457-0.88128 5.9142-2.4497s2.4497-3.6961 2.4497-5.9142c0-2.2181-0.88128-4.3457-2.4497-5.9142s-3.6961-2.4497-5.9142-2.4497c-2.2181 0-4.3457 0.88128-5.9142 2.4497s-2.4497 3.6961-2.4497 5.9142c0 2.2181 0.88128 4.3457 2.4497 5.9142s3.6961 2.4497 5.9142 2.4497z\" clip-path=\"url(#835bcaaad8c)\" fill=\"#808080\" fill-opacity=\".5\" stroke=\"#555555\" stroke-opacity=\".5\"/><path d=\"m86.507 322.96c2.2181 0 4.3457-0.88128 5.9142-2.4497s2.4497-3.6961 2.4497-5.9142c0-2.2181-0.88128-4.3457-2.4497-5.9142s-3.6961-2.4497-5.9142-2.4497c-2.2181 0-4.3457 0.88128-5.9142 2.4497s-2.4497 3.6961-2.4497 5.9142c0 2.2181 0.88128 4.3457 2.4497 5.9142s3.6961 2.4497 5.9142 2.4497z\" clip-path=\"url(#835bcaaad8c)\" fill=\"#cc90b1\" stroke=\"#886076\"/><path d=\"m61.415 289.51c2.2181 0 4.3457-0.88128 5.9142-2.4497s2.4497-3.6961 2.4497-5.9142c0-2.2181-0.88128-4.3457-2.4497-5.9142s-3.6961-2.4497-5.9142-2.4497c-2.2181 0-4.3457 0.88128-5.9142 2.4497s-2.4497 3.6961-2.4497 5.9142c0 2.2181 0.88128 4.3457 2.4497 5.9142s3.6961 2.4497 5.9142 2.4497z\" clip-path=\"url(#835bcaaad8c)\" fill=\"#808080\" fill-opacity=\".5\" stroke=\"#555555\" stroke-opacity=\".5\"/><path d=\"m119.96 289.51c2.2181 0 4.3457-0.88128 5.9142-2.4497s2.4497-3.6961 2.4497-5.9142c0-2.2181-0.88128-4.3457-2.4497-5.9142s-3.6961-2.4497-5.9142-2.4497c-2.2181 0-4.3457 0.88128-5.9142 2.4497s-2.4497 3.6961-2.4497 5.9142c0 2.2181 0.88128 4.3457 2.4497 5.9142s3.6961 2.4497 5.9142 2.4497z\" clip-path=\"url(#835bcaaad8c)\" fill=\"#da7709\" stroke=\"#924f06\"/><path d=\"m153.42 289.51c2.2181 0 4.3457-0.88128 5.9142-2.4497s2.4497-3.6961 2.4497-5.9142c0-2.2181-0.88128-4.3457-2.4497-5.9142s-3.6961-2.4497-5.9142-2.4497c-2.2181 0-4.3457 0.88128-5.9142 2.4497s-2.4497 3.6961-2.4497 5.9142c0 2.2181 0.88128 4.3457 2.4497 5.9142s3.6961 2.4497 5.9142 2.4497z\" clip-path=\"url(#835bcaaad8c)\" fill=\"#edda7d\" stroke=\"#9e9153\"/><path d=\"m136.69 256.05c2.2181 0 4.3457-0.88128 5.9142-2.4497s2.4497-3.6961 2.4497-5.9142c0-2.2181-0.88128-4.3457-2.4497-5.9142s-3.6961-2.4497-5.9142-2.4497-4.3457 0.88128-5.9142 2.4497-2.4497 3.6961-2.4497 5.9142c0 2.2181 0.88128 4.3457 2.4497 5.9142s3.6961 2.4497 5.9142 2.4497z\" clip-path=\"url(#835bcaaad8c)\" fill=\"#808080\" fill-opacity=\".5\" stroke=\"#555555\" stroke-opacity=\".5\"/><path d=\"m99.053 222.6c2.2181 0 4.3457-0.88128 5.9142-2.4497s2.4497-3.6961 2.4497-5.9142c0-2.2181-0.88128-4.3457-2.4497-5.9142s-3.6961-2.4497-5.9142-2.4497c-2.2181 0-4.3457 0.88128-5.9142 2.4497s-2.4497 3.6961-2.4497 5.9142c0 2.2181 0.88128 4.3457 2.4497 5.9142s3.6961 2.4497 5.9142 2.4497z\" clip-path=\"url(#835bcaaad8c)\" fill=\"#808080\" fill-opacity=\".5\" stroke=\"#555555\" stroke-opacity=\".5\"/><path d=\"m186.87 222.6c2.2181 0 4.3457-0.88128 5.9142-2.4497s2.4497-3.6961 2.4497-5.9142c0-2.2181-0.88128-4.3457-2.4497-5.9142s-3.6961-2.4497-5.9142-2.4497c-2.2181 0-4.3457 0.88128-5.9142 2.4497s-2.4497 3.6961-2.4497 5.9142c0 2.2181 0.88128 4.3457 2.4497 5.9142s3.6961 2.4497 5.9142 2.4497z\" clip-path=\"url(#835bcaaad8c)\" fill=\"#64add6\" stroke=\"#43738f\"/><path d=\"m220.33 222.6c2.2181 0 4.3457-0.88128 5.9142-2.4497s2.4497-3.6961 2.4497-5.9142c0-2.2181-0.88128-4.3457-2.4497-5.9142s-3.6961-2.4497-5.9142-2.4497c-2.2181 0-4.3457 0.88128-5.9142 2.4497s-2.4497 3.6961-2.4497 5.9142c0 2.2181 0.88128 4.3457 2.4497 5.9142s3.6961 2.4497 5.9142 2.4497z\" clip-path=\"url(#835bcaaad8c)\" fill=\"#0072b2\" stroke=\"#004c77\"/><path d=\"m203.6 189.14c2.2181 0 4.3457-0.88128 5.9142-2.4497 1.5685-1.5685 2.4497-3.6961 2.4497-5.9142s-0.88128-4.3457-2.4497-5.9142c-1.5685-1.5685-3.6961-2.4497-5.9142-2.4497-2.2181 0-4.3457 0.88128-5.9142 2.4497-1.5685 1.5685-2.4497 3.6961-2.4497 5.9142s0.88128 4.3457 2.4497 5.9142c1.5685 1.5685 3.6961 2.4497 5.9142 2.4497z\" clip-path=\"url(#835bcaaad8c)\" fill=\"#808080\" fill-opacity=\".5\" stroke=\"#555555\" stroke-opacity=\".5\"/><path d=\"m253.79 189.14c2.2181 0 4.3457-0.88128 5.9142-2.4497s2.4497-3.6961 2.4497-5.9142-0.88128-4.3457-2.4497-5.9142-3.6961-2.4497-5.9142-2.4497c-2.2181 0-4.3457 0.88128-5.9142 2.4497s-2.4497 3.6961-2.4497 5.9142 0.88128 4.3457 2.4497 5.9142 3.6961 2.4497 5.9142 2.4497z\" clip-path=\"url(#835bcaaad8c)\" fill=\"#a5cc64\" stroke=\"#6e8843\"/><path d=\"m228.69 155.68c2.2181 0 4.3457-0.88128 5.9142-2.4497s2.4497-3.6961 2.4497-5.9142c0-2.2181-0.88128-4.3457-2.4497-5.9142s-3.6961-2.4497-5.9142-2.4497c-2.2181 0-4.3457 0.88128-5.9142 2.4497s-2.4497 3.6961-2.4497 5.9142c0 2.2181 0.88128 4.3457 2.4497 5.9142s3.6961 2.4497 5.9142 2.4497z\" clip-path=\"url(#835bcaaad8c)\" fill=\"#808080\" fill-opacity=\".5\" stroke=\"#555555\" stroke-opacity=\".5\"/><path d=\"m287.24 155.68c2.2181 0 4.3457-0.88128 5.9142-2.4497s2.4497-3.6961 2.4497-5.9142c0-2.2181-0.88128-4.3457-2.4497-5.9142s-3.6961-2.4497-5.9142-2.4497c-2.2181 0-4.3457 0.88128-5.9142 2.4497s-2.4497 3.6961-2.4497 5.9142c0 2.2181 0.88128 4.3457 2.4497 5.9142s3.6961 2.4497 5.9142 2.4497z\" clip-path=\"url(#835bcaaad8c)\" fill=\"#069e75\" stroke=\"#04694e\"/><path d=\"m320.7 155.68c2.2181 0 4.3457-0.88128 5.9142-2.4497s2.4497-3.6961 2.4497-5.9142c0-2.2181-0.88128-4.3457-2.4497-5.9142s-3.6961-2.4497-5.9142-2.4497c-2.2181 0-4.3457 0.88128-5.9142 2.4497s-2.4497 3.6961-2.4497 5.9142c0 2.2181 0.88128 4.3457 2.4497 5.9142s3.6961 2.4497 5.9142 2.4497z\" clip-path=\"url(#835bcaaad8c)\" fill=\"#6fb6c4\" stroke=\"#4a7982\"/><path d=\"m303.97 122.23c2.2181 0 4.3457-0.88128 5.9142-2.4497 1.5685-1.5685 2.4497-3.6961 2.4497-5.9142 0-2.2181-0.88128-4.3457-2.4497-5.9142s-3.6961-2.4497-5.9142-2.4497c-2.2181 0-4.3457 0.88128-5.9142 2.4497s-2.4497 3.6961-2.4497 5.9142c0 2.2181 0.88128 4.3457 2.4497 5.9142 1.5685 1.5685 3.6961 2.4497 5.9142 2.4497z\" clip-path=\"url(#835bcaaad8c)\" fill=\"#808080\" fill-opacity=\".5\" stroke=\"#555555\" stroke-opacity=\".5\"/><path d=\"m266.33 88.773c2.2181 0 4.3457-0.88128 5.9142-2.4497s2.4497-3.6961 2.4497-5.9142c0-2.2181-0.88128-4.3457-2.4497-5.9142s-3.6961-2.4497-5.9142-2.4497-4.3457 0.88128-5.9142 2.4497-2.4497 3.6961-2.4497 5.9142c0 2.2181 0.88128 4.3457 2.4497 5.9142s3.6961 2.4497 5.9142 2.4497z\" clip-path=\"url(#835bcaaad8c)\" fill=\"#808080\" fill-opacity=\".5\" stroke=\"#555555\" stroke-opacity=\".5\"/><path d=\"m182.69 55.318c2.2181 0 4.3457-0.88128 5.9142-2.4497s2.4497-3.6961 2.4497-5.9142-0.88128-4.3457-2.4497-5.9142-3.6961-2.4497-5.9142-2.4497c-2.2181 0-4.3457 0.88128-5.9142 2.4497s-2.4497 3.6961-2.4497 5.9142 0.88128 4.3457 2.4497 5.9142 3.6961 2.4497 5.9142 2.4497z\" clip-path=\"url(#835bcaaad8c)\" fill=\"#808080\" fill-opacity=\".5\" stroke=\"#555555\" stroke-opacity=\".5\"/><g transform=\"translate(17.187 350.28) scale(.08 -.08)\" fill=\"#808080\"><defs><path id=\"DejaVuSansMono-38\" transform=\"scale(.015625)\" d=\"m1925 2216q-422 0-652-236-229-236-229-667 0-432 232-671 233-239 649-239 425 0 654 236 230 236 230 674 0 428-233 665-232 238-651 238zm-550 262q-403 103-630 384-226 282-226 679 0 556 378 882 378 327 1028 327 653 0 1031-327 378-326 378-882 0-397-227-679-226-281-629-384 469-103 717-416 249-312 249-809 0-631-403-988-403-356-1116-356-712 0-1114 355t-402 983q0 500 248 814 249 314 718 417zm-228 1003q0-375 200-572 200-196 578-196 381 0 581 196 200 197 200 572 0 382-199 582-198 200-582 200-378 0-578-202t-200-580z\"/></defs><use xlink:href=\"#DejaVuSansMono-38\"/></g><g transform=\"translate(50.643 350.28) scale(.08 -.08)\" fill=\"#808080\"><defs><path id=\"DejaVuSansMono-36\" transform=\"scale(.015625)\" d=\"m3097 4563v-582q-197 116-419 177t-462 61q-600 0-910-452-309-451-309-1329 150 312 415 479 266 167 610 167 675 0 1045-414 371-414 371-1173 0-756-382-1172-381-416-1072-416-812 0-1190 583t-378 1836q0 1181 454 1801 455 621 1318 621 231 0 462-49 231-48 447-138zm-1125-1972q-403 0-635-291-231-291-231-803 0-513 231-804 232-290 635-290 419 0 631 276 213 277 213 818 0 544-213 819-212 275-631 275z\"/></defs><use xlink:href=\"#DejaVuSansMono-36\"/></g><g transform=\"translate(84.099 316.83) scale(.08 -.08)\" fill=\"#808080\"><defs><path id=\"DejaVuSansMono-39\" transform=\"scale(.015625)\" d=\"m1863 2069q403 0 632 290 230 291 230 804 0 512-230 802-229 291-632 291-419 0-632-277-212-276-212-816 0-544 211-819t633-275zm-1125-1972v581q196-115 418-176t463-61q600 0 907 451 308 452 308 1330-146-313-412-480t-609-167q-675 0-1046 415-370 416-370 1179 0 753 379 1167 380 414 1074 414 813 0 1191-585 378-584 378-1837 0-1178-455-1799-455-620-1320-620-228 0-460 49-231 48-446 139z\"/></defs><use xlink:href=\"#DejaVuSansMono-39\"/></g><g transform=\"translate(117.55 283.37) scale(.08 -.08)\" fill=\"#808080\"><defs><path id=\"DejaVuSansMono-37\" transform=\"scale(.015625)\" d=\"m434 4666h2938v-269l-1669-4397h-659l1625 4134h-2235v532z\"/></defs><use xlink:href=\"#DejaVuSansMono-37\"/></g><g transform=\"translate(151.01 283.37) scale(.08 -.08)\" fill=\"#808080\"><defs><path id=\"DejaVuSansMono-35\" transform=\"scale(.015625)\" d=\"m647 4666h2362v-532h-1787v-1146q134 50 270 73t274 23q725 0 1150-428t425-1159q0-738-446-1163-445-425-1217-425-372 0-680 50-307 50-551 150v641q287-156 578-233 291-76 594-76 522 0 804 275 283 275 283 781 0 500-292 778t-814 278q-253 0-494-58-240-57-459-173v2344z\"/></defs><use xlink:href=\"#DejaVuSansMono-35\"/></g><g transform=\"translate(184.47 216.46) scale(.08 -.08)\" fill=\"#808080\"><defs><path id=\"DejaVuSansMono-31\" transform=\"scale(.015625)\" d=\"m844 531h981v3566l-1056-238v575l1050 232h631v-4135h969v-531h-2575v531z\"/></defs><use xlink:href=\"#DejaVuSansMono-31\"/></g><g transform=\"translate(217.92 216.46) scale(.08 -.08)\" fill=\"#808080\"><defs><path id=\"DejaVuSansMono-30\" transform=\"scale(.015625)\" d=\"m1509 2344q0 172 120 297 121 125 290 125 175 0 300-125t125-297q0-175-124-297-123-122-301-122-175 0-293 119-117 119-117 300zm416 1906q-441 0-658-475t-217-1447q0-969 217-1444t658-475q444 0 661 475t217 1444q0 972-217 1447t-661 475zm0 500q747 0 1130-613 383-612 383-1809 0-1194-383-1807-383-612-1130-612t-1128 612q-381 613-381 1807 0 1197 381 1809 381 613 1128 613z\"/></defs><use xlink:href=\"#DejaVuSansMono-30\"/></g><g transform=\"translate(251.38 183.01) scale(.08 -.08)\" fill=\"#808080\"><defs><path id=\"DejaVuSansMono-34\" transform=\"scale(.015625)\" d=\"m2297 4091-1472-2466h1472v2466zm-103 575h731v-3041h622v-512h-622v-1113h-628v1113h-1978v596l1875 2957z\"/></defs><use xlink:href=\"#DejaVuSansMono-34\"/></g><g transform=\"translate(284.83 149.55) scale(.08 -.08)\" fill=\"#808080\"><defs><path id=\"DejaVuSansMono-33\" transform=\"scale(.015625)\" d=\"m2425 2497q459-122 703-433t244-776q0-644-433-1012-433-367-1198-367-322 0-657 60-334 59-656 172v628q319-166 628-247 310-81 616-81 519 0 797 234t278 675q0 406-278 645t-753 239h-482v519h482q434 0 678 190 244 191 244 532 0 359-227 551-227 193-645 193-278 0-575-63-297-62-622-187v581q378 100 673 150 296 50 524 50 681 0 1089-342t408-908q0-384-215-641-214-256-623-362z\"/></defs><use xlink:href=\"#DejaVuSansMono-33\"/></g><g transform=\"translate(318.29 149.55) scale(.08 -.08)\" fill=\"#808080\"><defs><path id=\"DejaVuSansMono-32\" transform=\"scale(.015625)\" d=\"m1166 531h2143v-531h-2834v531q584 616 1021 1088 438 472 604 665 313 382 422 618t109 482q0 391-230 613-229 222-629 222-284 0-597-103-312-103-662-313v638q321 153 632 231t614 78q685 0 1102-364t417-955q0-300-139-600t-451-662q-175-203-508-563-333-359-1014-1075z\"/></defs><use xlink:href=\"#DejaVuSansMono-32\"/></g><g transform=\"translate(177.54 11.791) scale(.06 -.06)\" fill=\"#808080\"><use xlink:href=\"#DejaVuSansMono-62\"/></g><g transform=\"translate(184.23 11.791) scale(.06 -.06)\" fill=\"#808080\"><use xlink:href=\"#DejaVuSansMono-61\"/></g><defs><clipPath id=\"835bcaaad8c\"><rect x=\"7.2\" y=\"10.06\" width=\"325.89\" height=\"350.63\"/></clipPath></defs></svg>"
      ],
      "text/plain": [
       "<Figure size 632.456x632.456 with 1 Axes>"
      ]
     },
     "metadata": {
      "needs_background": "light"
     },
     "output_type": "display_data"
    },
    {
     "data": {
      "text/plain": [
       "(<Figure size 632.456x632.456 with 1 Axes>, <Axes: >)"
      ]
     },
     "execution_count": 12,
     "metadata": {},
     "output_type": "execute_result"
    }
   ],
   "source": [
    "tree.plot_flat()"
   ]
  },
  {
   "cell_type": "code",
   "execution_count": 17,
   "id": "a5b9546b-f73b-4e4d-aac4-9e8fac5ea803",
   "metadata": {},
   "outputs": [
    {
     "data": {
      "image/svg+xml": [
       "<?xml version=\"1.0\" encoding=\"UTF-8\"?><!DOCTYPE svg  PUBLIC '-//W3C//DTD SVG 1.1//EN'  'http://www.w3.org/Graphics/SVG/1.1/DTD/svg11.dtd'><svg width=\"452.92pt\" height=\"291.6pt\" version=\"1.1\" viewBox=\"0 0 452.92 291.6\" xmlns=\"http://www.w3.org/2000/svg\" xmlns:xlink=\"http://www.w3.org/1999/xlink\"><defs><style type=\"text/css\">*{stroke-linejoin: round; stroke-linecap: butt}</style></defs><path d=\"m0 291.6h452.92v-291.6h-452.92v291.6z\" fill=\"none\"/><g fill=\"none\" stroke=\"#808080\" stroke-opacity=\".2\"><path d=\"m196.35 235.79 29.848-20.187\" clip-path=\"url(#ea7b8d03753)\" stroke-width=\"1.585\"/><path d=\"m226.19 215.6 46.216-12.397\" clip-path=\"url(#ea7b8d03753)\"/><path d=\"m226.19 215.6-45.166-1.8957\" clip-path=\"url(#ea7b8d03753)\"/><path d=\"m226.19 215.6-34.068-12.546\" clip-path=\"url(#ea7b8d03753)\"/><path d=\"m226.19 215.6 40.407 3.9308\" clip-path=\"url(#ea7b8d03753)\"/><path d=\"m226.19 215.6 8.7883 23.611\" clip-path=\"url(#ea7b8d03753)\"/><path d=\"m226.19 215.6 13.497-23.794\" clip-path=\"url(#ea7b8d03753)\" stroke-width=\"1.585\"/><path d=\"m315.14 192.99-42.732 10.213\" clip-path=\"url(#ea7b8d03753)\" stroke-width=\"1.585\"/><path d=\"m272.41 203.2-5.8094 16.328\" clip-path=\"url(#ea7b8d03753)\"/><path d=\"m158.95 190.94 22.082 22.759\" clip-path=\"url(#ea7b8d03753)\"/><path d=\"m181.03 213.7 11.098-10.65\" clip-path=\"url(#ea7b8d03753)\" stroke-width=\"1.585\"/><path d=\"m192.13 203.05-54.415 10.879\" clip-path=\"url(#ea7b8d03753)\" stroke-width=\"1.585\"/><path d=\"m234.98 239.21 6.9845 21.136\" clip-path=\"url(#ea7b8d03753)\"/></g><g fill=\"none\" stroke-opacity=\".7\"><path d=\"m238.47 173.2-3.4923 66.009\" clip-path=\"url(#ea7b8d03753)\" stroke=\"#e9f7e3\" stroke-width=\".67959\"/><path d=\"m238.47 173.2 3.4923 87.145\" clip-path=\"url(#ea7b8d03753)\" stroke=\"#f7fcf0\" stroke-width=\".59085\"/><path d=\"m238.47 173.2 0.40551-17.743\" clip-path=\"url(#ea7b8d03753)\" stroke=\"#f7fcf0\" stroke-width=\".59085\"/><path d=\"m238.88 155.46 0.81103 36.348\" clip-path=\"url(#ea7b8d03753)\" stroke=\"#f0f9e9\" stroke-width=\".64082\"/><path d=\"m238.88 155.46-14.69-35.486\" clip-path=\"url(#ea7b8d03753)\" stroke=\"#e0f3db\" stroke-width=\".73804\"/><path d=\"m202.16 137.71-64.445 76.217\" clip-path=\"url(#ea7b8d03753)\" stroke=\"#f0f9e9\" stroke-width=\".64082\"/><path d=\"m202.16 137.71 64.445 81.816\" clip-path=\"url(#ea7b8d03753)\" stroke=\"#e9f7e3\" stroke-width=\".67959\"/><path d=\"m202.16 137.71 22.034-17.743\" clip-path=\"url(#ea7b8d03753)\" stroke=\"#d1edcb\" stroke-width=\".84558\"/><path d=\"m224.19 119.97-5.2847-88.716\" clip-path=\"url(#ea7b8d03753)\" stroke=\"#86d0c0\" stroke-width=\"1.1453\"/><path d=\"m234.38 102.23 38.032 100.97\" clip-path=\"url(#ea7b8d03753)\" stroke=\"#d1edcb\" stroke-width=\".84558\"/><path d=\"m234.38 102.23-38.032 133.56\" clip-path=\"url(#ea7b8d03753)\" stroke=\"#d8f0d2\" stroke-width=\".8\"/><path d=\"m234.38 102.23-2.728-17.743\" clip-path=\"url(#ea7b8d03753)\" stroke=\"#6fc5c8\" stroke-width=\"1.215\"/><path d=\"m231.65 84.484-5.4561 131.11\" clip-path=\"url(#ea7b8d03753)\" stroke=\"#084081\" stroke-width=\"1.7655\"/><path d=\"m231.65 84.484-18.029-35.486\" clip-path=\"url(#ea7b8d03753)\" stroke=\"#1272b1\" stroke-width=\"1.5748\"/><path d=\"m186.58 66.741 5.549 136.31\" clip-path=\"url(#ea7b8d03753)\" stroke=\"#94d5bc\" stroke-width=\"1.0961\"/><path d=\"m186.58 66.741-5.549 146.96\" clip-path=\"url(#ea7b8d03753)\" stroke=\"#d1edcb\" stroke-width=\".84558\"/><path d=\"m186.58 66.741 27.044-17.743\" clip-path=\"url(#ea7b8d03753)\" stroke=\"#86d0c0\" stroke-width=\"1.1453\"/><path d=\"m213.62 48.998 5.2847-17.743\" clip-path=\"url(#ea7b8d03753)\" stroke=\"#2f90c0\" stroke-width=\"1.4546\"/></g><g fill-opacity=\".7\" stroke-opacity=\".7\"><path d=\"m238.47 174.26c0.28224 0 0.55297-0.11214 0.75254-0.31171 0.19958-0.19958 0.31171-0.4703 0.31171-0.75254s-0.11214-0.55297-0.31171-0.75254c-0.19958-0.19958-0.4703-0.31171-0.75254-0.31171-0.28224 0-0.55297 0.11214-0.75254 0.31171-0.19958 0.19958-0.31172 0.4703-0.31172 0.75254s0.11214 0.55297 0.31172 0.75254c0.19958 0.19958 0.4703 0.31171 0.75254 0.31171z\" clip-path=\"url(#ea7b8d03753)\" fill=\"#ffe793\" stroke=\"#ffe793\"/><path d=\"m234.98 240.03c0.21654 0 0.42424-0.086031 0.57735-0.23915s0.23915-0.36081 0.23915-0.57735c0-0.21654-0.086031-0.42424-0.23915-0.57735-0.15312-0.15312-0.36081-0.23915-0.57735-0.23915-0.21654 0-0.42424 0.086031-0.57735 0.23915-0.15312 0.15312-0.23915 0.36081-0.23915 0.57735 0 0.21654 0.086031 0.42424 0.23915 0.57735s0.36081 0.23915 0.57735 0.23915z\" clip-path=\"url(#ea7b8d03753)\" fill=\"#ffffcc\" stroke=\"#ffffcc\"/><path d=\"m241.97 261.16c0.21654 0 0.42424-0.086031 0.57735-0.23915s0.23915-0.36081 0.23915-0.57735c0-0.21654-0.086031-0.42424-0.23915-0.57735s-0.36081-0.23915-0.57735-0.23915c-0.21654 0-0.42424 0.086031-0.57735 0.23915-0.15312 0.15312-0.23915 0.36081-0.23915 0.57735 0 0.21654 0.086031 0.42424 0.23915 0.57735 0.15312 0.15312 0.36081 0.23915 0.57735 0.23915z\" clip-path=\"url(#ea7b8d03753)\" fill=\"#ffffcc\" stroke=\"#ffffcc\"/><path d=\"m238.88 156.57c0.29413 0 0.57626-0.11686 0.78424-0.32484 0.20798-0.20798 0.32484-0.49011 0.32484-0.78424 0-0.29413-0.11686-0.57626-0.32484-0.78424-0.20798-0.20798-0.49011-0.32484-0.78424-0.32484-0.29413 0-0.57626 0.11686-0.78424 0.32484s-0.32484 0.49011-0.32484 0.78424c0 0.29413 0.11686 0.57626 0.32484 0.78424s0.49011 0.32484 0.78424 0.32484z\" clip-path=\"url(#ea7b8d03753)\" fill=\"#fee187\" stroke=\"#fee187\"/><path d=\"m239.69 192.62c0.21654 0 0.42424-0.086031 0.57735-0.23915s0.23915-0.36081 0.23915-0.57735c0-0.21654-0.086031-0.42424-0.23915-0.57735-0.15312-0.15312-0.36081-0.23915-0.57735-0.23915-0.21654 0-0.42424 0.086031-0.57735 0.23915-0.15312 0.15312-0.23915 0.36081-0.23915 0.57735 0 0.21654 0.086031 0.42424 0.23915 0.57735s0.36081 0.23915 0.57735 0.23915z\" clip-path=\"url(#ea7b8d03753)\" fill=\"#ffffcc\" stroke=\"#ffffcc\"/><path d=\"m202.16 138.9c0.31483 0 0.61681-0.12508 0.83943-0.3477 0.22262-0.22262 0.3477-0.5246 0.3477-0.83943 0-0.31483-0.12508-0.61681-0.3477-0.83943-0.22262-0.22262-0.5246-0.3477-0.83943-0.3477-0.31483 0-0.61681 0.12508-0.83943 0.3477-0.22262 0.22262-0.3477 0.5246-0.3477 0.83943 0 0.31483 0.12508 0.61681 0.3477 0.83943 0.22262 0.22262 0.5246 0.3477 0.83943 0.3477z\" clip-path=\"url(#ea7b8d03753)\" fill=\"#fed470\" stroke=\"#fed470\"/><path d=\"m137.71 214.75c0.21654 0 0.42424-0.086031 0.57735-0.23915s0.23915-0.36081 0.23915-0.57735c0-0.21654-0.086032-0.42424-0.23915-0.57735-0.15312-0.15312-0.36081-0.23915-0.57735-0.23915-0.21654 0-0.42424 0.086031-0.57735 0.23915-0.15312 0.15312-0.23915 0.36081-0.23915 0.57735 0 0.21654 0.086031 0.42424 0.23915 0.57735s0.36081 0.23915 0.57735 0.23915z\" clip-path=\"url(#ea7b8d03753)\" fill=\"#ffffcc\" stroke=\"#ffffcc\"/><path d=\"m266.6 220.35c0.21654 0 0.42424-0.086031 0.57735-0.23915s0.23915-0.36081 0.23915-0.57735c0-0.21654-0.086032-0.42424-0.23915-0.57735s-0.36081-0.23915-0.57735-0.23915c-0.21654 0-0.42424 0.086031-0.57735 0.23915s-0.23915 0.36081-0.23915 0.57735c0 0.21654 0.086031 0.42424 0.23915 0.57735s0.36081 0.23915 0.57735 0.23915z\" clip-path=\"url(#ea7b8d03753)\" fill=\"#ffffcc\" stroke=\"#ffffcc\"/><path d=\"m224.19 121.35c0.36641 0 0.71786-0.14558 0.97696-0.40467 0.25909-0.25909 0.40467-0.61054 0.40467-0.97696 0-0.36641-0.14558-0.71786-0.40467-0.97696-0.25909-0.25909-0.61054-0.40467-0.97696-0.40467s-0.71786 0.14558-0.97696 0.40467c-0.25909 0.25909-0.40467 0.61054-0.40467 0.97696 0 0.36641 0.14558 0.71786 0.40467 0.97696 0.25909 0.25909 0.61054 0.40467 0.97696 0.40467z\" clip-path=\"url(#ea7b8d03753)\" fill=\"#fd9e43\" stroke=\"#fd9e43\"/><path d=\"m234.38 103.65c0.37739 0 0.73937-0.14994 1.0062-0.41679 0.26685-0.26685 0.41679-0.62883 0.41679-1.0062s-0.14994-0.73937-0.41679-1.0062c-0.26685-0.26685-0.62883-0.41679-1.0062-0.41679s-0.73937 0.14994-1.0062 0.41679c-0.26685 0.26685-0.41679 0.62883-0.41679 1.0062s0.14994 0.73937 0.41679 1.0062c0.26685 0.26685 0.62883 0.41679 1.0062 0.41679z\" clip-path=\"url(#ea7b8d03753)\" fill=\"#fd913e\" stroke=\"#fd913e\"/><path d=\"m272.41 204.02c0.21654 0 0.42424-0.086031 0.57735-0.23915 0.15312-0.15312 0.23915-0.36081 0.23915-0.57735 0-0.21654-0.086031-0.42424-0.23915-0.57735-0.15312-0.15312-0.36081-0.23915-0.57735-0.23915-0.21654 0-0.42424 0.086031-0.57735 0.23915s-0.23915 0.36081-0.23915 0.57735c0 0.21654 0.086031 0.42424 0.23915 0.57735 0.15312 0.15312 0.36081 0.23915 0.57735 0.23915z\" clip-path=\"url(#ea7b8d03753)\" fill=\"#ffffcc\" stroke=\"#ffffcc\"/><path d=\"m196.35 236.6c0.21654 0 0.42424-0.086031 0.57735-0.23915s0.23915-0.36081 0.23915-0.57735c0-0.21654-0.086032-0.42424-0.23915-0.57735s-0.36081-0.23915-0.57735-0.23915c-0.21654 0-0.42424 0.086031-0.57735 0.23915s-0.23915 0.36081-0.23915 0.57735c0 0.21654 0.086032 0.42424 0.23915 0.57735s0.36081 0.23915 0.57735 0.23915z\" clip-path=\"url(#ea7b8d03753)\" fill=\"#ffffcc\" stroke=\"#ffffcc\"/><path d=\"m231.65 86.345c0.49339 0 0.96664-0.19603 1.3155-0.54491s0.54491-0.82213 0.54491-1.3155c0-0.49339-0.19603-0.96664-0.54491-1.3155-0.34888-0.34888-0.82213-0.54491-1.3155-0.54491-0.49339 0-0.96664 0.19603-1.3155 0.54491-0.34888 0.34888-0.54491 0.82213-0.54491 1.3155 0 0.49339 0.19603 0.96664 0.54491 1.3155s0.82213 0.54491 1.3155 0.54491z\" clip-path=\"url(#ea7b8d03753)\" fill=\"#800026\" stroke=\"#800026\"/><path d=\"m226.19 216.41c0.21654 0 0.42424-0.086032 0.57735-0.23915s0.23915-0.36081 0.23915-0.57735c0-0.21654-0.086031-0.42424-0.23915-0.57735s-0.36081-0.23915-0.57735-0.23915c-0.21654 0-0.42424 0.086031-0.57735 0.23915s-0.23915 0.36081-0.23915 0.57735c0 0.21654 0.086031 0.42424 0.23915 0.57735s0.36081 0.23915 0.57735 0.23915z\" clip-path=\"url(#ea7b8d03753)\" fill=\"#ffffcc\" stroke=\"#ffffcc\"/><path d=\"m186.58 68.232c0.39553 0 0.77491-0.15714 1.0546-0.43682 0.27968-0.27968 0.43682-0.65906 0.43682-1.0546 0-0.39553-0.15714-0.77491-0.43682-1.0546-0.27968-0.27968-0.65906-0.43682-1.0546-0.43682-0.39553 0-0.77491 0.15714-1.0546 0.43682-0.27968 0.27968-0.43682 0.65906-0.43682 1.0546 0 0.39553 0.15714 0.77491 0.43682 1.0546 0.27968 0.27968 0.65906 0.43682 1.0546 0.43682z\" clip-path=\"url(#ea7b8d03753)\" fill=\"#fd7034\" stroke=\"#fd7034\"/><path d=\"m192.13 203.87c0.21654 0 0.42424-0.086031 0.57735-0.23915s0.23915-0.36081 0.23915-0.57735c0-0.21654-0.086032-0.42424-0.23915-0.57735s-0.36081-0.23915-0.57735-0.23915-0.42424 0.086031-0.57735 0.23915-0.23915 0.36081-0.23915 0.57735c0 0.21654 0.086032 0.42424 0.23915 0.57735s0.36081 0.23915 0.57735 0.23915z\" clip-path=\"url(#ea7b8d03753)\" fill=\"#ffffcc\" stroke=\"#ffffcc\"/><path d=\"m181.03 214.52c0.21654 0 0.42424-0.086031 0.57735-0.23915s0.23915-0.36081 0.23915-0.57735c0-0.21654-0.086031-0.42424-0.23915-0.57735-0.15312-0.15312-0.36081-0.23915-0.57735-0.23915-0.21654 0-0.42424 0.086031-0.57735 0.23915-0.15312 0.15312-0.23915 0.36081-0.23915 0.57735 0 0.21654 0.086031 0.42424 0.23915 0.57735 0.15312 0.15312 0.36081 0.23915 0.57735 0.23915z\" clip-path=\"url(#ea7b8d03753)\" fill=\"#ffffcc\" stroke=\"#ffffcc\"/><path d=\"m213.62 50.771c0.47018 0 0.92116-0.1868 1.2536-0.51927s0.51927-0.78345 0.51927-1.2536-0.1868-0.92116-0.51927-1.2536-0.78345-0.51927-1.2536-0.51927c-0.47018 0-0.92116 0.1868-1.2536 0.51927s-0.51927 0.78345-0.51927 1.2536 0.1868 0.92116 0.51927 1.2536 0.78345 0.51927 1.2536 0.51927z\" clip-path=\"url(#ea7b8d03753)\" fill=\"#b70026\" stroke=\"#b70026\"/><path d=\"m218.91 32.812c0.41293 0 0.809-0.16406 1.101-0.45604s0.45604-0.68806 0.45604-1.101c0-0.41293-0.16406-0.809-0.45604-1.101s-0.68806-0.45604-1.101-0.45604c-0.41293 0-0.809 0.16406-1.101 0.45604s-0.45604 0.68806-0.45604 1.101c0 0.41293 0.16406 0.809 0.45604 1.101s0.68806 0.45604 1.101 0.45604z\" clip-path=\"url(#ea7b8d03753)\" fill=\"#fb4b29\" stroke=\"#fb4b29\"/></g><path d=\"m34.727 234h7.2v-180h-7.2v180z\" fill=\"none\"/><image transform=\"scale(1 -1) translate(0 -180)\" x=\"34.56\" y=\"-54\" width=\"7.2\" height=\"180\" xlink:href=\"data:image/png;base64, iVBORw0KGgoAAAANSUhEUgAAAAoAAAD6CAYAAACYoNakAAABKElEQVR4nO2ZQQ7DMAgESeX/v7W3XmrcH1SDtAhhO2e0Y2DBifJ8vu9l4BnLUJwNGBdQDARCtK0T0YEWlqEXRL8gOcNm2OGegD7SFA12TyWaDxeKiyjutB8DdeywpOo2hdyPCWhG3suP+mt4OAqLoU9U9ITrgyrqN0Wd4vXj30D+RnqkH7l71gMDqaI3UAzYjKKp4sTJ0EB9rzsoHurHFslsZDP+OsPnGirqdw/vNb80y9AZyZSZIkGRCQYUp9ftHl4eOZoJ5iSjd4/8Qxyj4SEz0FiRnvEWXKTIzwjRfgv+N1BecP5JKs/ap77gdZ2R26zFkqqcQqpYl7V+ZgKbQq64kx/5cNX5Ef/xMdjsYTSZBDRW5GeUo3HgnHL0baEEfeuoQfMzitE/3jDyuVnOBisAAAAASUVORK5CYII=\"/><path d=\"m34.727 216.59h7.2\" clip-path=\"url(#2aefac916af)\" fill=\"none\" stroke=\"#808080\" stroke-linecap=\"square\" stroke-opacity=\".1\" stroke-width=\".8\"/><defs><path id=\"de17c279d2e\" d=\"m0 0h-3.5\" stroke=\"#808080\" stroke-width=\".8\"/></defs><use x=\"34.726875\" y=\"216.591624\" fill=\"#808080\" stroke=\"#808080\" stroke-width=\".8\" xlink:href=\"#de17c279d2e\"/><g transform=\"translate(21.364 220.39) scale(.1 -.1)\" fill=\"#808080\"><defs><path id=\"DejaVuSans-32\" transform=\"scale(.015625)\" d=\"m1228 531h2203v-531h-2962v531q359 372 979 998 621 627 780 809 303 340 423 576 121 236 121 464 0 372-261 606-261 235-680 235-297 0-627-103-329-103-704-313v638q381 153 712 231 332 78 607 78 725 0 1156-363 431-362 431-968 0-288-108-546-107-257-392-607-78-91-497-524-418-433-1181-1211z\"/></defs><use xlink:href=\"#DejaVuSans-32\"/></g><path d=\"m34.727 181.77h7.2\" clip-path=\"url(#2aefac916af)\" fill=\"none\" stroke=\"#808080\" stroke-linecap=\"square\" stroke-opacity=\".1\" stroke-width=\".8\"/><use x=\"34.726875\" y=\"181.774871\" fill=\"#808080\" stroke=\"#808080\" stroke-width=\".8\" xlink:href=\"#de17c279d2e\"/><g transform=\"translate(21.364 185.57) scale(.1 -.1)\" fill=\"#808080\"><defs><path id=\"DejaVuSans-34\" transform=\"scale(.015625)\" d=\"m2419 4116-1594-2491h1594v2491zm-166 550h794v-3041h666v-525h-666v-1100h-628v1100h-2106v609l1940 2957z\"/></defs><use xlink:href=\"#DejaVuSans-34\"/></g><path d=\"m34.727 146.96h7.2\" clip-path=\"url(#2aefac916af)\" fill=\"none\" stroke=\"#808080\" stroke-linecap=\"square\" stroke-opacity=\".1\" stroke-width=\".8\"/><use x=\"34.726875\" y=\"146.958118\" fill=\"#808080\" stroke=\"#808080\" stroke-width=\".8\" xlink:href=\"#de17c279d2e\"/><g transform=\"translate(21.364 150.76) scale(.1 -.1)\" fill=\"#808080\"><defs><path id=\"DejaVuSans-36\" transform=\"scale(.015625)\" d=\"m2113 2584q-425 0-674-291-248-290-248-796 0-503 248-796 249-292 674-292t673 292q248 293 248 796 0 506-248 796-248 291-673 291zm1253 1979v-575q-238 112-480 171-242 60-480 60-625 0-955-422-329-422-376-1275 184 272 462 417 279 145 613 145 703 0 1111-427 408-426 408-1160 0-719-425-1154-425-434-1131-434-810 0-1238 620-428 621-428 1799 0 1106 525 1764t1409 658q238 0 480-47t505-140z\"/></defs><use xlink:href=\"#DejaVuSans-36\"/></g><path d=\"m34.727 112.14h7.2\" clip-path=\"url(#2aefac916af)\" fill=\"none\" stroke=\"#808080\" stroke-linecap=\"square\" stroke-opacity=\".1\" stroke-width=\".8\"/><use x=\"34.726875\" y=\"112.141366\" fill=\"#808080\" stroke=\"#808080\" stroke-width=\".8\" xlink:href=\"#de17c279d2e\"/><g transform=\"translate(21.364 115.94) scale(.1 -.1)\" fill=\"#808080\"><defs><path id=\"DejaVuSans-38\" transform=\"scale(.015625)\" d=\"m2034 2216q-450 0-708-241-257-241-257-662 0-422 257-663 258-241 708-241t709 242q260 243 260 662 0 421-258 662-257 241-711 241zm-631 268q-406 100-633 378-226 279-226 679 0 559 398 884 399 325 1092 325 697 0 1094-325t397-884q0-400-227-679-226-278-629-378 456-106 710-416 255-309 255-755 0-679-414-1042-414-362-1186-362-771 0-1186 362-414 363-414 1042 0 446 256 755 257 310 713 416zm-231 997q0-362 226-565 227-203 636-203 407 0 636 203 230 203 230 565 0 363-230 566-229 203-636 203-409 0-636-203-226-203-226-566z\"/></defs><use xlink:href=\"#DejaVuSans-38\"/></g><path d=\"m34.727 77.325h7.2\" clip-path=\"url(#2aefac916af)\" fill=\"none\" stroke=\"#808080\" stroke-linecap=\"square\" stroke-opacity=\".1\" stroke-width=\".8\"/><use x=\"34.726875\" y=\"77.324613\" fill=\"#808080\" stroke=\"#808080\" stroke-width=\".8\" xlink:href=\"#de17c279d2e\"/><g transform=\"translate(15.002 81.124) scale(.1 -.1)\" fill=\"#808080\"><defs><path id=\"DejaVuSans-31\" transform=\"scale(.015625)\" d=\"m794 531h1031v3560l-1122-225v575l1116 225h631v-4135h1031v-531h-2687v531z\"/><path id=\"DejaVuSans-30\" transform=\"scale(.015625)\" d=\"m2034 4250q-487 0-733-480-245-479-245-1442 0-959 245-1439 246-480 733-480 491 0 736 480 246 480 246 1439 0 963-246 1442-245 480-736 480zm0 500q785 0 1199-621 414-620 414-1801 0-1178-414-1799-414-620-1199-620-784 0-1198 620-414 621-414 1799 0 1181 414 1801 414 621 1198 621z\"/></defs><use xlink:href=\"#DejaVuSans-31\"/><use x=\"63.623047\" xlink:href=\"#DejaVuSans-30\"/></g><defs><path id=\"4989be21c44\" d=\"m0 0h-2\" stroke=\"#808080\" stroke-width=\".6\"/></defs><use x=\"34.726875\" y=\"234\" fill=\"#808080\" stroke=\"#808080\" stroke-width=\".6\" xlink:href=\"#4989be21c44\"/><use x=\"34.726875\" y=\"225.295812\" fill=\"#808080\" stroke=\"#808080\" stroke-width=\".6\" xlink:href=\"#4989be21c44\"/><use x=\"34.726875\" y=\"207.887436\" fill=\"#808080\" stroke=\"#808080\" stroke-width=\".6\" xlink:href=\"#4989be21c44\"/><use x=\"34.726875\" y=\"199.183247\" fill=\"#808080\" stroke=\"#808080\" stroke-width=\".6\" xlink:href=\"#4989be21c44\"/><use x=\"34.726875\" y=\"190.479059\" fill=\"#808080\" stroke=\"#808080\" stroke-width=\".6\" xlink:href=\"#4989be21c44\"/><use x=\"34.726875\" y=\"173.070683\" fill=\"#808080\" stroke=\"#808080\" stroke-width=\".6\" xlink:href=\"#4989be21c44\"/><use x=\"34.726875\" y=\"164.366495\" fill=\"#808080\" stroke=\"#808080\" stroke-width=\".6\" xlink:href=\"#4989be21c44\"/><use x=\"34.726875\" y=\"155.662307\" fill=\"#808080\" stroke=\"#808080\" stroke-width=\".6\" xlink:href=\"#4989be21c44\"/><use x=\"34.726875\" y=\"138.25393\" fill=\"#808080\" stroke=\"#808080\" stroke-width=\".6\" xlink:href=\"#4989be21c44\"/><use x=\"34.726875\" y=\"129.549742\" fill=\"#808080\" stroke=\"#808080\" stroke-width=\".6\" xlink:href=\"#4989be21c44\"/><use x=\"34.726875\" y=\"120.845554\" fill=\"#808080\" stroke=\"#808080\" stroke-width=\".6\" xlink:href=\"#4989be21c44\"/><use x=\"34.726875\" y=\"103.437178\" fill=\"#808080\" stroke=\"#808080\" stroke-width=\".6\" xlink:href=\"#4989be21c44\"/><use x=\"34.726875\" y=\"94.732989\" fill=\"#808080\" stroke=\"#808080\" stroke-width=\".6\" xlink:href=\"#4989be21c44\"/><use x=\"34.726875\" y=\"86.028801\" fill=\"#808080\" stroke=\"#808080\" stroke-width=\".6\" xlink:href=\"#4989be21c44\"/><use x=\"34.726875\" y=\"68.620425\" fill=\"#808080\" stroke=\"#808080\" stroke-width=\".6\" xlink:href=\"#4989be21c44\"/><use x=\"34.726875\" y=\"59.916237\" fill=\"#808080\" stroke=\"#808080\" stroke-width=\".6\" xlink:href=\"#4989be21c44\"/><g transform=\"translate(7.2 48) scale(.12 -.12)\" fill=\"#808080\"><defs><path id=\"DejaVuSans-6c\" transform=\"scale(.015625)\" d=\"m603 4863h575v-4863h-575v4863z\"/><path id=\"DejaVuSans-6f\" transform=\"scale(.015625)\" d=\"m1959 3097q-462 0-731-361t-269-989 267-989q268-361 733-361 460 0 728 362 269 363 269 988 0 622-269 986-268 364-728 364zm0 487q750 0 1178-488 429-487 429-1349 0-859-429-1349-428-489-1178-489-753 0-1180 489-426 490-426 1349 0 862 426 1349 427 488 1180 488z\"/><path id=\"DejaVuSans-67\" transform=\"scale(.015625)\" d=\"m2906 1791q0 625-258 968-257 344-723 344-462 0-720-344-258-343-258-968 0-622 258-966t720-344q466 0 723 344 258 344 258 966zm575-1357q0-893-397-1329-396-436-1215-436-303 0-572 45t-522 139v559q253-137 500-202 247-66 503-66 566 0 847 295t281 892v285q-178-310-456-463t-666-153q-643 0-1037 490-394 491-394 1301 0 812 394 1302 394 491 1037 491 388 0 666-153t456-462v531h575v-3066z\"/><path id=\"DejaVuSans-5b\" transform=\"scale(.015625)\" d=\"m550 4863h1325v-447h-750v-4813h750v-447h-1325v5707z\"/><path id=\"DejaVuSans-53\" transform=\"scale(.015625)\" d=\"m3425 4513v-616q-359 172-678 256-319 85-616 85-515 0-795-200t-280-569q0-310 186-468 186-157 705-254l381-78q706-135 1042-474t336-907q0-679-455-1029-454-350-1332-350-331 0-705 75-373 75-773 222v650q384-215 753-325 369-109 725-109 540 0 834 212 294 213 294 607 0 343-211 537t-692 291l-385 75q-706 140-1022 440-315 300-315 835 0 619 436 975t1201 356q329 0 669-60 341-59 697-177z\"/><path id=\"DejaVuSans-49\" transform=\"scale(.015625)\" d=\"m628 4666h631v-4666h-631v4666z\"/><path id=\"DejaVuSans-5a\" transform=\"scale(.015625)\" d=\"m359 4666h3666v-482l-2950-3653h3022v-531h-3809v481l2950 3653h-2879v532z\"/><path id=\"DejaVuSans-45\" transform=\"scale(.015625)\" d=\"m628 4666h2950v-532h-2319v-1381h2222v-531h-2222v-1691h2375v-531h-3006v4666z\"/><path id=\"DejaVuSans-5d\" transform=\"scale(.015625)\" d=\"m1947 4863v-5707h-1325v447h747v4813h-747v447h1325z\"/></defs><use xlink:href=\"#DejaVuSans-6c\"/><use x=\"27.783203\" xlink:href=\"#DejaVuSans-6f\"/><use x=\"88.964844\" xlink:href=\"#DejaVuSans-67\"/><use x=\"152.441406\" xlink:href=\"#DejaVuSans-32\"/><use x=\"216.064453\" xlink:href=\"#DejaVuSans-5b\"/><use x=\"255.078125\" xlink:href=\"#DejaVuSans-53\"/><use x=\"318.554688\" xlink:href=\"#DejaVuSans-49\"/><use x=\"348.046875\" xlink:href=\"#DejaVuSans-5a\"/><use x=\"416.552734\" xlink:href=\"#DejaVuSans-45\"/><use x=\"479.736328\" xlink:href=\"#DejaVuSans-5d\"/></g><path d=\"m401.93 234h7.2v-180h-7.2v180z\" fill=\"none\"/><image transform=\"scale(1 -1) translate(0 -180)\" x=\"401.76\" y=\"-54\" width=\"7.2\" height=\"180\" xlink:href=\"data:image/png;base64, iVBORw0KGgoAAAANSUhEUgAAAAoAAAD6CAYAAACYoNakAAAA/UlEQVR4nO2W0Q3EMAxCXSn7T3Yj9eLboHqR6CEn7jcCg0nSK/OTAb4RiXAxIiYEOhkpMAtIOxl9KyzRRz1wpzOjr1k3XMS40/1YoOFZoeFO6T4KGmkKnL7bTJ/j9EnzGY2By+PhgXcpJNId+J+B3AzCLc3oYzS61kv7zECctxTsEBYpbrt+BGLX+My8wLiVmQqMNmn4A1Aknm+Xojhj4uLSq5kz8gdJLu00o2bUu+btKWFGPuNW7ZEz8sB5jhA46YOUcUEgnpECYToxMuUzMtyC9IIZtfSCGQic+sD5ZtTSzprJ++jczE59hPfoG0C+6yOBt0+6N3MO8Mhd/wBuCamaxZQfuAAAAABJRU5ErkJggg==\"/><path d=\"m401.93 234h7.2\" clip-path=\"url(#243b3ca6f48)\" fill=\"none\" stroke=\"#808080\" stroke-linecap=\"square\" stroke-opacity=\".1\" stroke-width=\".8\"/><defs><path id=\"ee241c6360d\" d=\"m0 0h3.5\" stroke=\"#808080\" stroke-width=\".8\"/></defs><use x=\"409.126875\" y=\"234\" fill=\"#808080\" stroke=\"#808080\" stroke-width=\".8\" xlink:href=\"#ee241c6360d\"/><g transform=\"translate(416.13 237.8) scale(.1 -.1)\" fill=\"#808080\"><defs><path id=\"DejaVuSans-2e\" transform=\"scale(.015625)\" d=\"m684 794h660v-794h-660v794z\"/></defs><use xlink:href=\"#DejaVuSans-30\"/><use x=\"63.623047\" xlink:href=\"#DejaVuSans-2e\"/><use x=\"95.410156\" xlink:href=\"#DejaVuSans-30\"/></g><path d=\"m401.93 212.53h7.2\" clip-path=\"url(#243b3ca6f48)\" fill=\"none\" stroke=\"#808080\" stroke-linecap=\"square\" stroke-opacity=\".1\" stroke-width=\".8\"/><use x=\"409.126875\" y=\"212.52944\" fill=\"#808080\" stroke=\"#808080\" stroke-width=\".8\" xlink:href=\"#ee241c6360d\"/><g transform=\"translate(416.13 216.33) scale(.1 -.1)\" fill=\"#808080\"><defs><path id=\"DejaVuSans-35\" transform=\"scale(.015625)\" d=\"m691 4666h2478v-532h-1900v-1143q137 47 274 70 138 23 276 23 781 0 1237-428 457-428 457-1159 0-753-469-1171-469-417-1322-417-294 0-599 50-304 50-629 150v635q281-153 581-228t634-75q541 0 856 284 316 284 316 772 0 487-316 771-315 285-856 285-253 0-505-56-251-56-513-175v2344z\"/></defs><use xlink:href=\"#DejaVuSans-30\"/><use x=\"63.623047\" xlink:href=\"#DejaVuSans-2e\"/><use x=\"95.410156\" xlink:href=\"#DejaVuSans-35\"/></g><path d=\"m401.93 191.06h7.2\" clip-path=\"url(#243b3ca6f48)\" fill=\"none\" stroke=\"#808080\" stroke-linecap=\"square\" stroke-opacity=\".1\" stroke-width=\".8\"/><use x=\"409.126875\" y=\"191.058879\" fill=\"#808080\" stroke=\"#808080\" stroke-width=\".8\" xlink:href=\"#ee241c6360d\"/><g transform=\"translate(416.13 194.86) scale(.1 -.1)\" fill=\"#808080\"><use xlink:href=\"#DejaVuSans-31\"/><use x=\"63.623047\" xlink:href=\"#DejaVuSans-2e\"/><use x=\"95.410156\" xlink:href=\"#DejaVuSans-30\"/></g><path d=\"m401.93 169.59h7.2\" clip-path=\"url(#243b3ca6f48)\" fill=\"none\" stroke=\"#808080\" stroke-linecap=\"square\" stroke-opacity=\".1\" stroke-width=\".8\"/><use x=\"409.126875\" y=\"169.588319\" fill=\"#808080\" stroke=\"#808080\" stroke-width=\".8\" xlink:href=\"#ee241c6360d\"/><g transform=\"translate(416.13 173.39) scale(.1 -.1)\" fill=\"#808080\"><use xlink:href=\"#DejaVuSans-31\"/><use x=\"63.623047\" xlink:href=\"#DejaVuSans-2e\"/><use x=\"95.410156\" xlink:href=\"#DejaVuSans-35\"/></g><path d=\"m401.93 148.12h7.2\" clip-path=\"url(#243b3ca6f48)\" fill=\"none\" stroke=\"#808080\" stroke-linecap=\"square\" stroke-opacity=\".1\" stroke-width=\".8\"/><use x=\"409.126875\" y=\"148.117758\" fill=\"#808080\" stroke=\"#808080\" stroke-width=\".8\" xlink:href=\"#ee241c6360d\"/><g transform=\"translate(416.13 151.92) scale(.1 -.1)\" fill=\"#808080\"><use xlink:href=\"#DejaVuSans-32\"/><use x=\"63.623047\" xlink:href=\"#DejaVuSans-2e\"/><use x=\"95.410156\" xlink:href=\"#DejaVuSans-30\"/></g><path d=\"m401.93 126.65h7.2\" clip-path=\"url(#243b3ca6f48)\" fill=\"none\" stroke=\"#808080\" stroke-linecap=\"square\" stroke-opacity=\".1\" stroke-width=\".8\"/><use x=\"409.126875\" y=\"126.647198\" fill=\"#808080\" stroke=\"#808080\" stroke-width=\".8\" xlink:href=\"#ee241c6360d\"/><g transform=\"translate(416.13 130.45) scale(.1 -.1)\" fill=\"#808080\"><use xlink:href=\"#DejaVuSans-32\"/><use x=\"63.623047\" xlink:href=\"#DejaVuSans-2e\"/><use x=\"95.410156\" xlink:href=\"#DejaVuSans-35\"/></g><path d=\"m401.93 105.18h7.2\" clip-path=\"url(#243b3ca6f48)\" fill=\"none\" stroke=\"#808080\" stroke-linecap=\"square\" stroke-opacity=\".1\" stroke-width=\".8\"/><use x=\"409.126875\" y=\"105.176637\" fill=\"#808080\" stroke=\"#808080\" stroke-width=\".8\" xlink:href=\"#ee241c6360d\"/><g transform=\"translate(416.13 108.98) scale(.1 -.1)\" fill=\"#808080\"><defs><path id=\"DejaVuSans-33\" transform=\"scale(.015625)\" d=\"m2597 2516q453-97 707-404 255-306 255-756 0-690-475-1069-475-378-1350-378-293 0-604 58t-642 174v609q262-153 574-231 313-78 654-78 593 0 904 234t311 681q0 413-289 645-289 233-804 233h-544v519h569q465 0 712 186t247 536q0 359-255 551-254 193-729 193-260 0-557-57-297-56-653-174v562q360 100 674 150t592 50q719 0 1137-327 419-326 419-882 0-388-222-655t-631-370z\"/></defs><use xlink:href=\"#DejaVuSans-33\"/><use x=\"63.623047\" xlink:href=\"#DejaVuSans-2e\"/><use x=\"95.410156\" xlink:href=\"#DejaVuSans-30\"/></g><path d=\"m401.93 83.706h7.2\" clip-path=\"url(#243b3ca6f48)\" fill=\"none\" stroke=\"#808080\" stroke-linecap=\"square\" stroke-opacity=\".1\" stroke-width=\".8\"/><use x=\"409.126875\" y=\"83.706077\" fill=\"#808080\" stroke=\"#808080\" stroke-width=\".8\" xlink:href=\"#ee241c6360d\"/><g transform=\"translate(416.13 87.505) scale(.1 -.1)\" fill=\"#808080\"><use xlink:href=\"#DejaVuSans-33\"/><use x=\"63.623047\" xlink:href=\"#DejaVuSans-2e\"/><use x=\"95.410156\" xlink:href=\"#DejaVuSans-35\"/></g><path d=\"m401.93 62.236h7.2\" clip-path=\"url(#243b3ca6f48)\" fill=\"none\" stroke=\"#808080\" stroke-linecap=\"square\" stroke-opacity=\".1\" stroke-width=\".8\"/><use x=\"409.126875\" y=\"62.235516\" fill=\"#808080\" stroke=\"#808080\" stroke-width=\".8\" xlink:href=\"#ee241c6360d\"/><g transform=\"translate(416.13 66.035) scale(.1 -.1)\" fill=\"#808080\"><use xlink:href=\"#DejaVuSans-34\"/><use x=\"63.623047\" xlink:href=\"#DejaVuSans-2e\"/><use x=\"95.410156\" xlink:href=\"#DejaVuSans-30\"/></g><defs><path id=\"d2e07f06aac\" d=\"m0 0h2\" stroke=\"#808080\" stroke-width=\".6\"/></defs><use x=\"409.126875\" y=\"229.705888\" fill=\"#808080\" stroke=\"#808080\" stroke-width=\".6\" xlink:href=\"#d2e07f06aac\"/><use x=\"409.126875\" y=\"225.411776\" fill=\"#808080\" stroke=\"#808080\" stroke-width=\".6\" xlink:href=\"#d2e07f06aac\"/><use x=\"409.126875\" y=\"221.117664\" fill=\"#808080\" stroke=\"#808080\" stroke-width=\".6\" xlink:href=\"#d2e07f06aac\"/><use x=\"409.126875\" y=\"216.823552\" fill=\"#808080\" stroke=\"#808080\" stroke-width=\".6\" xlink:href=\"#d2e07f06aac\"/><use x=\"409.126875\" y=\"208.235327\" fill=\"#808080\" stroke=\"#808080\" stroke-width=\".6\" xlink:href=\"#d2e07f06aac\"/><use x=\"409.126875\" y=\"203.941215\" fill=\"#808080\" stroke=\"#808080\" stroke-width=\".6\" xlink:href=\"#d2e07f06aac\"/><use x=\"409.126875\" y=\"199.647103\" fill=\"#808080\" stroke=\"#808080\" stroke-width=\".6\" xlink:href=\"#d2e07f06aac\"/><use x=\"409.126875\" y=\"195.352991\" fill=\"#808080\" stroke=\"#808080\" stroke-width=\".6\" xlink:href=\"#d2e07f06aac\"/><use x=\"409.126875\" y=\"186.764767\" fill=\"#808080\" stroke=\"#808080\" stroke-width=\".6\" xlink:href=\"#d2e07f06aac\"/><use x=\"409.126875\" y=\"182.470655\" fill=\"#808080\" stroke=\"#808080\" stroke-width=\".6\" xlink:href=\"#d2e07f06aac\"/><use x=\"409.126875\" y=\"178.176543\" fill=\"#808080\" stroke=\"#808080\" stroke-width=\".6\" xlink:href=\"#d2e07f06aac\"/><use x=\"409.126875\" y=\"173.882431\" fill=\"#808080\" stroke=\"#808080\" stroke-width=\".6\" xlink:href=\"#d2e07f06aac\"/><use x=\"409.126875\" y=\"165.294207\" fill=\"#808080\" stroke=\"#808080\" stroke-width=\".6\" xlink:href=\"#d2e07f06aac\"/><use x=\"409.126875\" y=\"161.000094\" fill=\"#808080\" stroke=\"#808080\" stroke-width=\".6\" xlink:href=\"#d2e07f06aac\"/><use x=\"409.126875\" y=\"156.705982\" fill=\"#808080\" stroke=\"#808080\" stroke-width=\".6\" xlink:href=\"#d2e07f06aac\"/><use x=\"409.126875\" y=\"152.41187\" fill=\"#808080\" stroke=\"#808080\" stroke-width=\".6\" xlink:href=\"#d2e07f06aac\"/><use x=\"409.126875\" y=\"143.823646\" fill=\"#808080\" stroke=\"#808080\" stroke-width=\".6\" xlink:href=\"#d2e07f06aac\"/><use x=\"409.126875\" y=\"139.529534\" fill=\"#808080\" stroke=\"#808080\" stroke-width=\".6\" xlink:href=\"#d2e07f06aac\"/><use x=\"409.126875\" y=\"135.235422\" fill=\"#808080\" stroke=\"#808080\" stroke-width=\".6\" xlink:href=\"#d2e07f06aac\"/><use x=\"409.126875\" y=\"130.94131\" fill=\"#808080\" stroke=\"#808080\" stroke-width=\".6\" xlink:href=\"#d2e07f06aac\"/><use x=\"409.126875\" y=\"122.353086\" fill=\"#808080\" stroke=\"#808080\" stroke-width=\".6\" xlink:href=\"#d2e07f06aac\"/><use x=\"409.126875\" y=\"118.058974\" fill=\"#808080\" stroke=\"#808080\" stroke-width=\".6\" xlink:href=\"#d2e07f06aac\"/><use x=\"409.126875\" y=\"113.764862\" fill=\"#808080\" stroke=\"#808080\" stroke-width=\".6\" xlink:href=\"#d2e07f06aac\"/><use x=\"409.126875\" y=\"109.470749\" fill=\"#808080\" stroke=\"#808080\" stroke-width=\".6\" xlink:href=\"#d2e07f06aac\"/><use x=\"409.126875\" y=\"100.882525\" fill=\"#808080\" stroke=\"#808080\" stroke-width=\".6\" xlink:href=\"#d2e07f06aac\"/><use x=\"409.126875\" y=\"96.588413\" fill=\"#808080\" stroke=\"#808080\" stroke-width=\".6\" xlink:href=\"#d2e07f06aac\"/><use x=\"409.126875\" y=\"92.294301\" fill=\"#808080\" stroke=\"#808080\" stroke-width=\".6\" xlink:href=\"#d2e07f06aac\"/><use x=\"409.126875\" y=\"88.000189\" fill=\"#808080\" stroke=\"#808080\" stroke-width=\".6\" xlink:href=\"#d2e07f06aac\"/><use x=\"409.126875\" y=\"79.411965\" fill=\"#808080\" stroke=\"#808080\" stroke-width=\".6\" xlink:href=\"#d2e07f06aac\"/><use x=\"409.126875\" y=\"75.117853\" fill=\"#808080\" stroke=\"#808080\" stroke-width=\".6\" xlink:href=\"#d2e07f06aac\"/><use x=\"409.126875\" y=\"70.823741\" fill=\"#808080\" stroke=\"#808080\" stroke-width=\".6\" xlink:href=\"#d2e07f06aac\"/><use x=\"409.126875\" y=\"66.529629\" fill=\"#808080\" stroke=\"#808080\" stroke-width=\".6\" xlink:href=\"#d2e07f06aac\"/><use x=\"409.126875\" y=\"57.941404\" fill=\"#808080\" stroke=\"#808080\" stroke-width=\".6\" xlink:href=\"#d2e07f06aac\"/><g transform=\"translate(365.34 48) scale(.12 -.12)\" fill=\"#808080\"><defs><path id=\"DejaVuSans-46\" transform=\"scale(.015625)\" d=\"m628 4666h2681v-532h-2050v-1375h1850v-531h-1850v-2228h-631v4666z\"/><path id=\"DejaVuSans-4c\" transform=\"scale(.015625)\" d=\"m628 4666h631v-4135h2272v-531h-2903v4666z\"/><path id=\"DejaVuSans-4f\" transform=\"scale(.015625)\" d=\"m2522 4238q-688 0-1093-513-404-512-404-1397 0-881 404-1394 405-512 1093-512 687 0 1089 512 402 513 402 1394 0 885-402 1397-402 513-1089 513zm0 512q981 0 1568-658 588-658 588-1764 0-1103-588-1761-587-658-1568-658-984 0-1574 656-589 657-589 1763t589 1764q590 658 1574 658z\"/><path id=\"DejaVuSans-50\" transform=\"scale(.015625)\" d=\"m1259 4147v-1753h794q441 0 681 228 241 228 241 650 0 419-241 647-240 228-681 228h-794zm-631 519h1425q785 0 1186-355 402-355 402-1039 0-691-402-1044-401-353-1186-353h-794v-1875h-631v4666z\"/></defs><use xlink:href=\"#DejaVuSans-6c\"/><use x=\"27.783203\" xlink:href=\"#DejaVuSans-6f\"/><use x=\"88.964844\" xlink:href=\"#DejaVuSans-67\"/><use x=\"152.441406\" xlink:href=\"#DejaVuSans-31\"/><use x=\"216.064453\" xlink:href=\"#DejaVuSans-30\"/><use x=\"279.6875\" xlink:href=\"#DejaVuSans-5b\"/><use x=\"318.701172\" xlink:href=\"#DejaVuSans-46\"/><use x=\"376.220703\" xlink:href=\"#DejaVuSans-4c\"/><use x=\"428.308594\" xlink:href=\"#DejaVuSans-4f\"/><use x=\"507.019531\" xlink:href=\"#DejaVuSans-50\"/><use x=\"567.322266\" xlink:href=\"#DejaVuSans-53\"/><use x=\"630.798828\" xlink:href=\"#DejaVuSans-5d\"/></g><defs><clipPath id=\"ea7b8d03753\"><rect x=\"119.08\" y=\"7.2\" width=\"214.69\" height=\"277.2\"/></clipPath><clipPath id=\"2aefac916af\"><rect x=\"34.727\" y=\"54\" width=\"7.2\" height=\"180\"/></clipPath><clipPath id=\"243b3ca6f48\"><rect x=\"401.93\" y=\"54\" width=\"7.2\" height=\"180\"/></clipPath></defs></svg>"
      ],
      "text/plain": [
       "<Figure size 500x500 with 3 Axes>"
      ]
     },
     "metadata": {
      "needs_background": "light"
     },
     "output_type": "display_data"
    },
    {
     "data": {
      "text/plain": [
       "(<Figure size 500x500 with 3 Axes>, <Axes: >)"
      ]
     },
     "execution_count": 17,
     "metadata": {},
     "output_type": "execute_result"
    }
   ],
   "source": [
    "tree.plot_tent(order=True)"
   ]
  },
  {
   "cell_type": "code",
   "execution_count": 18,
   "id": "992d941d-31f0-4e3d-afd6-6cc2d7a3d50d",
   "metadata": {},
   "outputs": [
    {
     "data": {
      "text/plain": [
       "(9.754887502163468, 21586.0)"
      ]
     },
     "execution_count": 18,
     "metadata": {},
     "output_type": "execute_result"
    }
   ],
   "source": [
    "tree.contraction_width(), tree.contraction_cost()"
   ]
  },
  {
   "cell_type": "code",
   "execution_count": 19,
   "id": "15c000dd-b2a9-4159-b76c-8633f4130bae",
   "metadata": {},
   "outputs": [
    {
     "data": {
      "text/plain": [
       "array([[ 104.78668702,  164.19133867],\n",
       "       [ 161.34287932,   69.65644265],\n",
       "       [-116.42788952,  -46.96147145]])"
      ]
     },
     "execution_count": 19,
     "metadata": {},
     "output_type": "execute_result"
    }
   ],
   "source": [
    "import numpy as np\n",
    "\n",
    "arrays = [np.random.randn(*s) for s in shapes]\n",
    "tree.contract(arrays)"
   ]
  },
  {
   "cell_type": "markdown",
   "id": "a4c0e8b7-f6a3-474b-8dfb-9f2d9c6bd792",
   "metadata": {},
   "source": [
    "We can also generate an explicit **contraction path**, which is a specific ordering of the tree (the default for exact contractions being depth first) and the format used by `opt_einsum` and accepted by `quimb` too:"
   ]
  },
  {
   "cell_type": "code",
   "execution_count": 20,
   "id": "2ca5c822-0987-4b44-bdd2-42d11c5c48cf",
   "metadata": {},
   "outputs": [
    {
     "data": {
      "text/plain": [
       "((6, 8), (7, 8), (5, 6), (5, 6), (0, 1), (2, 4), (0, 1), (1, 2), (0, 1))"
      ]
     },
     "execution_count": 20,
     "metadata": {},
     "output_type": "execute_result"
    }
   ],
   "source": [
    "path = tree.get_path()\n",
    "path"
   ]
  },
  {
   "cell_type": "markdown",
   "id": "40de3597-6770-4187-8c57-b5757986e805",
   "metadata": {},
   "source": [
    "Once we have a complete tree, either by explicitly building it or more likely as returned by an optimizer, we can also *modify* in various ways as detailed below."
   ]
  },
  {
   "cell_type": "markdown",
   "id": "b0d63433-101d-474d-a13b-e29f77ffe163",
   "metadata": {},
   "source": [
    "## Index Slicing\n",
    "\n",
    "Slicing is the technique of choosing some indices to explicitly sum over rather than include as tensor dimensions - thereby takng indexed slices of those tensors. It is also known as **variable projection** and **bond cutting**. The overall effect is to turn a single contraction into many independent, easier contractions as depicted below:\n",
    "\n",
    "<p align=\"center\"><img src=\"https://imgur.com/402ivDV.png\" alt=\"cotengra\" width=\"80%\" height=\"80%\"></p>\n",
    "\n",
    "While slicing *every* index would be equivalent to performing the naive einsum and thus exponentially slower, carefully choosing just a few *can* result in little to no overhead. What you gain is:\n",
    "\n",
    "1. **Each contraction can require drastically less memory**\n",
    "2. **Each contraction can be performed in parallel**\n",
    "\n",
    "In general, one specifies slicing in the `HyperOptimizer` loop - see [Slicing and Subtree Reconfiguration](advanced.ipynb#slicing-and-subtree-reconfiguration) - this section covers manually slicing a tree and the details."
   ]
  },
  {
   "cell_type": "code",
   "execution_count": 21,
   "id": "c50f5fff",
   "metadata": {},
   "outputs": [
    {
     "name": "stdout",
     "output_type": "stream",
     "text": [
      "sAOÆÍÐÑÒð,Üâ,eDWÀÇãçõöĈ,dmÉý,aÁĀ,BOÌÛó,fÔÙă,qÕÝáûąĆ,EKÍÞðú,yáñ÷,knoRÀÃ÷,csÙíþ,hPÊÕ×,lÐãî,S,FRý,hpyÂÞä,EØÜâñö,Hïøû,bvLÈ×þĀĂ,ÈÏå,oCQòôāĄą,biwGIà,æìòù,xMTî,gWÎÚùā,uNVYÊÏĂ,cìĈ,rTÁÃÝ,eAÉë,jtGÚüĄĆ,ÄÇéć,dv,pÄÓßÿ,Dí,zÅËåúă,juVXæ,Jïø,fqPÅÖè,HKÔõ,JSËÛë,awNÖßàéê,rxZ,lntIUÎÓä,gkzQXÂØèć,LUZÑêó,iÌüÿ,BCMç,FÆÒ,mYô->\n"
     ]
    },
    {
     "data": {
      "image/svg+xml": [
       "<?xml version=\"1.0\" encoding=\"UTF-8\"?><!DOCTYPE svg  PUBLIC '-//W3C//DTD SVG 1.1//EN'  'http://www.w3.org/Graphics/SVG/1.1/DTD/svg11.dtd'><svg width=\"293.4pt\" height=\"247.23pt\" version=\"1.1\" viewBox=\"0 0 293.4 247.23\" xmlns=\"http://www.w3.org/2000/svg\"><defs><style type=\"text/css\">*{stroke-linejoin: round; stroke-linecap: butt}</style></defs><path d=\"m0 247.23h293.4v-247.23h-293.4v247.23z\" fill=\"none\"/><path d=\"m127.42 78.174 1.6805 29.164\" clip-path=\"url(#cc11bc17cd1)\" fill=\"none\" stroke=\"#7c88e4\" stroke-linecap=\"round\"/><path d=\"m127.42 78.174 19.484-24.378\" clip-path=\"url(#cc11bc17cd1)\" fill=\"none\" stroke=\"#d27b9c\" stroke-linecap=\"round\"/><path d=\"m127.42 78.174 30.676 51.815\" clip-path=\"url(#cc11bc17cd1)\" fill=\"none\" stroke=\"#93a6e1\" stroke-linecap=\"round\"/><path d=\"m127.42 78.174q-1.5126-15.24-3.2094-19.884c-1.5754-4.312-7.2174-12.026-9.6231-16.034-2.4058-4.0086-6.559-12.616-9.6231-16.034q-3.3002-3.6818-16.037-12.185\" clip-path=\"url(#cc11bc17cd1)\" fill=\"none\" stroke=\"#d46063\" stroke-linecap=\"round\"/><path d=\"m127.42 78.174q-12.737-8.5033-16.037-12.185c-3.0641-3.4185-7.2174-12.026-9.6231-16.034s-8.0478-11.722-9.6231-16.034q-1.6967-4.6442-3.2094-19.884\" clip-path=\"url(#cc11bc17cd1)\" fill=\"none\" stroke=\"#85d75f\" stroke-linecap=\"round\"/><path d=\"m127.42 78.174q10.847 12.836 15.27 15.979c4.1064 2.9182 14.005 6.382 18.673 8.5094 4.6684 2.1273 13.777 7.325 18.673 8.5094q5.2736 1.2756 22.077 1.04\" clip-path=\"url(#cc11bc17cd1)\" fill=\"none\" stroke=\"#4d66d7\" stroke-linecap=\"round\"/><path d=\"m127.42 78.174q16.804-0.23562 22.077 1.04c4.8964 1.1844 14.005 6.382 18.673 8.5094 4.6684 2.1273 14.567 5.5912 18.673 8.5094q4.4227 3.1429 15.27 15.979\" clip-path=\"url(#cc11bc17cd1)\" fill=\"none\" stroke=\"#d8e45a\" stroke-linecap=\"round\"/><path d=\"m127.42 78.174-47.811 11.251\" clip-path=\"url(#cc11bc17cd1)\" fill=\"none\" stroke=\"#4362e5\" stroke-linecap=\"round\"/><path d=\"m127.42 78.174-29.344 70.165\" clip-path=\"url(#cc11bc17cd1)\" fill=\"none\" stroke=\"#cc374d\" stroke-linecap=\"round\"/><path d=\"m129.1 107.34 87.127 31.414\" clip-path=\"url(#cc11bc17cd1)\" fill=\"none\" stroke=\"#dd7858\" stroke-linecap=\"round\"/><path d=\"m129.1 107.34-46.946-52.257\" clip-path=\"url(#cc11bc17cd1)\" fill=\"none\" stroke=\"#5db6d5\" stroke-linecap=\"round\"/><path d=\"m129.1 107.34 2.3313-74.166\" clip-path=\"url(#cc11bc17cd1)\" fill=\"none\" stroke=\"#5ee02e\" stroke-linecap=\"round\"/><path d=\"m129.1 107.34-35.723 77.822\" clip-path=\"url(#cc11bc17cd1)\" fill=\"none\" stroke=\"#d0b35c\" stroke-linecap=\"round\"/><path d=\"m146.91 53.796-5.3043 28.989\" clip-path=\"url(#cc11bc17cd1)\" fill=\"none\" stroke=\"#3ddfb7\" stroke-linecap=\"round\"/><path d=\"m146.91 53.796-105.64 25.48\" clip-path=\"url(#cc11bc17cd1)\" fill=\"none\" stroke=\"#88dcc3\" stroke-linecap=\"round\"/><path d=\"m146.91 53.796 75.339 55.82\" clip-path=\"url(#cc11bc17cd1)\" fill=\"none\" stroke=\"#66e254\" stroke-linecap=\"round\"/><path d=\"m158.1 129.99-65.152-48.663\" clip-path=\"url(#cc11bc17cd1)\" fill=\"none\" stroke=\"#9e54e0\" stroke-linecap=\"round\"/><path d=\"m158.1 129.99-1.017 101.61\" clip-path=\"url(#cc11bc17cd1)\" fill=\"none\" stroke=\"#a57bd9\" stroke-linecap=\"round\"/><path d=\"m158.1 129.99 64.147-20.374\" clip-path=\"url(#cc11bc17cd1)\" fill=\"none\" stroke=\"#add75c\" stroke-linecap=\"round\"/><path d=\"m158.1 129.99-60.02 18.35\" clip-path=\"url(#cc11bc17cd1)\" fill=\"none\" stroke=\"#d03770\" stroke-linecap=\"round\"/><path d=\"m88.931 14.037-37.257 30.637\" clip-path=\"url(#cc11bc17cd1)\" fill=\"none\" stroke=\"#e44782\" stroke-linecap=\"round\"/><path d=\"m202.12 112.21-19.472-41.446\" clip-path=\"url(#cc11bc17cd1)\" fill=\"none\" stroke=\"#3ad6c5\" stroke-linecap=\"round\"/><path d=\"m202.12 112.21 11.908-24.045\" clip-path=\"url(#cc11bc17cd1)\" fill=\"none\" stroke=\"#df808d\" stroke-linecap=\"round\"/><path d=\"m202.12 112.21-13.749 62.109\" clip-path=\"url(#cc11bc17cd1)\" fill=\"none\" stroke=\"#754ee3\" stroke-linecap=\"round\"/><path d=\"m202.12 112.21 10.002 55.072\" clip-path=\"url(#cc11bc17cd1)\" fill=\"none\" stroke=\"#54c8d3\" stroke-linecap=\"round\"/><path d=\"m79.613 89.425 61.99-6.6407\" clip-path=\"url(#cc11bc17cd1)\" fill=\"none\" stroke=\"#30d166\" stroke-linecap=\"round\"/><path d=\"m79.613 89.425 42.771 77.382\" clip-path=\"url(#cc11bc17cd1)\" fill=\"none\" stroke=\"#d5bf35\" stroke-linecap=\"round\"/><path d=\"m79.613 89.425-52.889 6.5908\" clip-path=\"url(#cc11bc17cd1)\" fill=\"none\" stroke=\"#6fd3a2\" stroke-linecap=\"round\"/><path d=\"m98.08 148.34-4.6979 36.82\" clip-path=\"url(#cc11bc17cd1)\" fill=\"none\" stroke=\"#c99ce1\" stroke-linecap=\"round\"/><path d=\"m98.08 148.34 33.678 62.673\" clip-path=\"url(#cc11bc17cd1)\" fill=\"none\" stroke=\"#cc5a29\" stroke-linecap=\"round\"/><path d=\"m98.08 148.34-78.478-0.011066\" clip-path=\"url(#cc11bc17cd1)\" fill=\"none\" stroke=\"#ce6acd\" stroke-linecap=\"round\"/><path d=\"m98.08 148.34 24.305 18.467\" clip-path=\"url(#cc11bc17cd1)\" fill=\"none\" stroke=\"#d8ca8f\" stroke-linecap=\"round\"/><path d=\"m211.19 18.875q-9.8235 7.1071-12.325 10.118c-2.3224 2.7959-5.3518 9.7295-7.1357 12.973-1.7839 3.2432-6.0178 9.5143-7.1357 12.973q-1.204 3.7249-1.9467 15.827\" clip-path=\"url(#cc11bc17cd1)\" fill=\"none\" stroke=\"#e28b91\" stroke-linecap=\"round\"/><path d=\"m211.19 18.875q-0.74264 12.102-1.9467 15.827c-1.1179 3.4585-5.3518 9.7295-7.1357 12.973-1.7839 3.2432-4.8134 10.177-7.1357 12.973q-2.5013 3.0113-12.325 10.118\" clip-path=\"url(#cc11bc17cd1)\" fill=\"none\" stroke=\"#6778da\" stroke-linecap=\"round\"/><path d=\"m182.65 70.766-41.042 12.019\" clip-path=\"url(#cc11bc17cd1)\" fill=\"none\" stroke=\"#9832e3\" stroke-linecap=\"round\"/><path d=\"m182.65 70.766-4.983 47.099\" clip-path=\"url(#cc11bc17cd1)\" fill=\"none\" stroke=\"#87d4dd\" stroke-linecap=\"round\"/><path d=\"m182.65 70.766-34.06 69.639\" clip-path=\"url(#cc11bc17cd1)\" fill=\"none\" stroke=\"#9ee285\" stroke-linecap=\"round\"/><path d=\"m141.6 82.784-10.168-49.613\" clip-path=\"url(#cc11bc17cd1)\" fill=\"none\" stroke=\"#db45b3\" stroke-linecap=\"round\"/><path d=\"m141.6 82.784-32.12 44.065\" clip-path=\"url(#cc11bc17cd1)\" fill=\"none\" stroke=\"#64d593\" stroke-linecap=\"round\"/><path d=\"m141.6 82.784-38.338 24.924\" clip-path=\"url(#cc11bc17cd1)\" fill=\"none\" stroke=\"#dd853b\" stroke-linecap=\"round\"/><path d=\"m141.6 82.784 28.174 78.078\" clip-path=\"url(#cc11bc17cd1)\" fill=\"none\" stroke=\"#7f4cde\" stroke-linecap=\"round\"/><path d=\"m141.6 82.784-48.655-1.4584\" clip-path=\"url(#cc11bc17cd1)\" fill=\"none\" stroke=\"#d6b592\" stroke-linecap=\"round\"/><path d=\"m141.6 82.784 72.422 5.3825\" clip-path=\"url(#cc11bc17cd1)\" fill=\"none\" stroke=\"#4dd32c\" stroke-linecap=\"round\"/><path d=\"m141.6 82.784-59.445-27.703\" clip-path=\"url(#cc11bc17cd1)\" fill=\"none\" stroke=\"#84dd3e\" stroke-linecap=\"round\"/><path d=\"m109.48 126.85-21.317 13.862\" clip-path=\"url(#cc11bc17cd1)\" fill=\"none\" stroke=\"#53a8df\" stroke-linecap=\"round\"/><path d=\"m109.48 126.85-68.314-11.544\" clip-path=\"url(#cc11bc17cd1)\" fill=\"none\" stroke=\"#78dba4\" stroke-linecap=\"round\"/><path d=\"m109.48 126.85 39.102 13.556\" clip-path=\"url(#cc11bc17cd1)\" fill=\"none\" stroke=\"#5552d1\" stroke-linecap=\"round\"/><path d=\"m109.48 126.85 12.901 39.958\" clip-path=\"url(#cc11bc17cd1)\" fill=\"none\" stroke=\"#d95749\" stroke-linecap=\"round\"/><path d=\"m109.48 126.85 3.2504 67.556\" clip-path=\"url(#cc11bc17cd1)\" fill=\"none\" stroke=\"#8385d2\" stroke-linecap=\"round\"/><path d=\"m103.27 107.71 74.398 10.156\" clip-path=\"url(#cc11bc17cd1)\" fill=\"none\" stroke=\"#d14c2e\" stroke-linecap=\"round\"/><path d=\"m103.27 107.71 45.32 32.696\" clip-path=\"url(#cc11bc17cd1)\" fill=\"none\" stroke=\"#c9cf89\" stroke-linecap=\"round\"/><path d=\"m103.27 107.71 19.119 59.098\" clip-path=\"url(#cc11bc17cd1)\" fill=\"none\" stroke=\"#84e198\" stroke-linecap=\"round\"/><path d=\"m103.27 107.71-15.099 33.002\" clip-path=\"url(#cc11bc17cd1)\" fill=\"none\" stroke=\"#73afe3\" stroke-linecap=\"round\"/><path d=\"m103.27 107.71-51.59-63.035\" clip-path=\"url(#cc11bc17cd1)\" fill=\"none\" stroke=\"#d68161\" stroke-linecap=\"round\"/><path d=\"m103.27 107.71-43.326 44.669\" clip-path=\"url(#cc11bc17cd1)\" fill=\"none\" stroke=\"#ce9779\" stroke-linecap=\"round\"/><path d=\"m169.78 160.86 16.696 53.579\" clip-path=\"url(#cc11bc17cd1)\" fill=\"none\" stroke=\"#435ee1\" stroke-linecap=\"round\"/><path d=\"m169.78 160.86-38.019 50.15\" clip-path=\"url(#cc11bc17cd1)\" fill=\"none\" stroke=\"#dc6b72\" stroke-linecap=\"round\"/><path d=\"m169.78 160.86-21.192-20.458\" clip-path=\"url(#cc11bc17cd1)\" fill=\"none\" stroke=\"#747ada\" stroke-linecap=\"round\"/><path d=\"m92.948 81.326-4.7821 59.385\" clip-path=\"url(#cc11bc17cd1)\" fill=\"none\" stroke=\"#d04867\" stroke-linecap=\"round\"/><path d=\"m92.948 81.326-66.224 14.69\" clip-path=\"url(#cc11bc17cd1)\" fill=\"none\" stroke=\"#7bdd52\" stroke-linecap=\"round\"/><path d=\"m214.03 88.167 2.206 50.585\" clip-path=\"url(#cc11bc17cd1)\" fill=\"none\" stroke=\"#5275d7\" stroke-linecap=\"round\"/><path d=\"m214.03 88.167 23.022 80.887\" clip-path=\"url(#cc11bc17cd1)\" fill=\"none\" stroke=\"#a17ee2\" stroke-linecap=\"round\"/><path d=\"m82.159 55.081-40.989 60.223\" clip-path=\"url(#cc11bc17cd1)\" fill=\"none\" stroke=\"#9371d0\" stroke-linecap=\"round\"/><path d=\"m41.266 79.276-26.776 55.971\" clip-path=\"url(#cc11bc17cd1)\" fill=\"none\" stroke=\"#4ee480\" stroke-linecap=\"round\"/><path d=\"m41.266 79.276-3.7035 83.44\" clip-path=\"url(#cc11bc17cd1)\" fill=\"none\" stroke=\"#ca30d8\" stroke-linecap=\"round\"/><path d=\"m41.266 79.276 10.409-34.602\" clip-path=\"url(#cc11bc17cd1)\" fill=\"none\" stroke=\"#3aabd6\" stroke-linecap=\"round\"/><path d=\"m14.489 135.25 78.893 49.913\" clip-path=\"url(#cc11bc17cd1)\" fill=\"none\" stroke=\"#cc3f44\" stroke-linecap=\"round\"/><path d=\"m37.562 162.72 50.604-22.005\" clip-path=\"url(#cc11bc17cd1)\" fill=\"none\" stroke=\"#83e47b\" stroke-linecap=\"round\"/><path d=\"m37.562 162.72 56.298 59.022\" clip-path=\"url(#cc11bc17cd1)\" fill=\"none\" stroke=\"#e3a635\" stroke-linecap=\"round\"/><path d=\"m59.797 215.34 71.96-4.3249\" clip-path=\"url(#cc11bc17cd1)\" fill=\"none\" stroke=\"#7aacd4\" stroke-linecap=\"round\"/><path d=\"m59.797 215.34 0.14181-62.96\" clip-path=\"url(#cc11bc17cd1)\" fill=\"none\" stroke=\"#52a2e1\" stroke-linecap=\"round\"/><path d=\"m59.797 215.34 33.584-30.178\" clip-path=\"url(#cc11bc17cd1)\" fill=\"none\" stroke=\"#e175a1\" stroke-linecap=\"round\"/><path d=\"m131.76 211.01q-6.2465 2.0698-8.0337 3.2187c-1.6594 1.0667-4.3618 4.1587-5.8157 5.545s-4.6712 3.9383-5.8157 5.545q-1.2327 1.7304-3.5977 7.8713\" clip-path=\"url(#cc11bc17cd1)\" fill=\"none\" stroke=\"#44dd7f\" stroke-linecap=\"round\"/><path d=\"m131.76 211.01q-2.365 6.1408-3.5977 7.8713c-1.1445 1.6067-4.3618 4.1587-5.8157 5.545-1.4539 1.3862-4.1564 4.4783-5.8157 5.545q-1.7872 1.1488-8.0337 3.2187\" clip-path=\"url(#cc11bc17cd1)\" fill=\"none\" stroke=\"#46d240\" stroke-linecap=\"round\"/><path d=\"m131.76 211.01-37.898 10.725\" clip-path=\"url(#cc11bc17cd1)\" fill=\"none\" stroke=\"#359ace\" stroke-linecap=\"round\"/><path d=\"m131.76 211.01 54.716 3.4293\" clip-path=\"url(#cc11bc17cd1)\" fill=\"none\" stroke=\"#dd773b\" stroke-linecap=\"round\"/><path d=\"m131.76 211.01 58.392-16.855\" clip-path=\"url(#cc11bc17cd1)\" fill=\"none\" stroke=\"#9537e2\" stroke-linecap=\"round\"/><path d=\"m59.939 152.38 89.417 20.779\" clip-path=\"url(#cc11bc17cd1)\" fill=\"none\" stroke=\"#c580d8\" stroke-linecap=\"round\"/><path d=\"m59.939 152.38-33.215-56.362\" clip-path=\"url(#cc11bc17cd1)\" fill=\"none\" stroke=\"#e5b49e\" stroke-linecap=\"round\"/><path d=\"m59.939 152.38-40.338-4.0496\" clip-path=\"url(#cc11bc17cd1)\" fill=\"none\" stroke=\"#3581d4\" stroke-linecap=\"round\"/><path d=\"m93.382 185.16 57.633 33.77\" clip-path=\"url(#cc11bc17cd1)\" fill=\"none\" stroke=\"#343ed6\" stroke-linecap=\"round\"/><path d=\"m93.382 185.16 15.113 48.033\" clip-path=\"url(#cc11bc17cd1)\" fill=\"none\" stroke=\"#b9e292\" stroke-linecap=\"round\"/><path d=\"m93.382 185.16 76.812 45.472\" clip-path=\"url(#cc11bc17cd1)\" fill=\"none\" stroke=\"#8cb5d4\" stroke-linecap=\"round\"/><path d=\"m93.382 185.16 0.47848 36.578\" clip-path=\"url(#cc11bc17cd1)\" fill=\"none\" stroke=\"#d0926d\" stroke-linecap=\"round\"/><path d=\"m157.08 231.6-48.588 1.589\" clip-path=\"url(#cc11bc17cd1)\" fill=\"none\" stroke=\"#7b94dc\" stroke-linecap=\"round\"/><path d=\"m157.08 231.6-44.349-37.198\" clip-path=\"url(#cc11bc17cd1)\" fill=\"none\" stroke=\"#d360b7\" stroke-linecap=\"round\"/><path d=\"m157.08 231.6 29.39-17.162\" clip-path=\"url(#cc11bc17cd1)\" fill=\"none\" stroke=\"#71dfd0\" stroke-linecap=\"round\"/><path d=\"m222.25 109.62 55.633-22.251\" clip-path=\"url(#cc11bc17cd1)\" fill=\"none\" stroke=\"#da8f93\" stroke-linecap=\"round\"/><path d=\"m222.25 109.62-10.127 57.668\" clip-path=\"url(#cc11bc17cd1)\" fill=\"none\" stroke=\"#a236cc\" stroke-linecap=\"round\"/><path d=\"m222.25 109.62 56.664 37.958\" clip-path=\"url(#cc11bc17cd1)\" fill=\"none\" stroke=\"#455ddb\" stroke-linecap=\"round\"/><path d=\"m216.23 138.75-26.081 55.405\" clip-path=\"url(#cc11bc17cd1)\" fill=\"none\" stroke=\"#dee363\" stroke-linecap=\"round\"/><path d=\"m216.23 138.75-4.1115 28.531\" clip-path=\"url(#cc11bc17cd1)\" fill=\"none\" stroke=\"#959adb\" stroke-linecap=\"round\"/><path d=\"m190.15 194.16-40.794-21.001\" clip-path=\"url(#cc11bc17cd1)\" fill=\"none\" stroke=\"#cdaf35\" stroke-linecap=\"round\"/><path d=\"m190.15 194.16-39.135 24.772\" clip-path=\"url(#cc11bc17cd1)\" fill=\"none\" stroke=\"#aad766\" stroke-linecap=\"round\"/><path d=\"m190.15 194.16 21.97-26.874\" clip-path=\"url(#cc11bc17cd1)\" fill=\"none\" stroke=\"#7265e0\" stroke-linecap=\"round\"/><path d=\"m190.15 194.16-41.565-53.753\" clip-path=\"url(#cc11bc17cd1)\" fill=\"none\" stroke=\"#dcc594\" stroke-linecap=\"round\"/><path d=\"m212.12 167.28-41.927 63.348\" clip-path=\"url(#cc11bc17cd1)\" fill=\"none\" stroke=\"#dcc598\" stroke-linecap=\"round\"/><path d=\"m212.12 167.28-63.535-26.879\" clip-path=\"url(#cc11bc17cd1)\" fill=\"none\" stroke=\"#c4d489\" stroke-linecap=\"round\"/><path d=\"m149.36 173.16 1.6586 45.773\" clip-path=\"url(#cc11bc17cd1)\" fill=\"none\" stroke=\"#d876cc\" stroke-linecap=\"round\"/><path d=\"m149.36 173.16 28.306-55.292\" clip-path=\"url(#cc11bc17cd1)\" fill=\"none\" stroke=\"#9fb0e5\" stroke-linecap=\"round\"/><path d=\"m149.36 173.16 87.691-4.1023\" clip-path=\"url(#cc11bc17cd1)\" fill=\"none\" stroke=\"#a97cd1\" stroke-linecap=\"round\"/><path d=\"m149.36 173.16-61.19-32.446\" clip-path=\"url(#cc11bc17cd1)\" fill=\"none\" stroke=\"#deb492\" stroke-linecap=\"round\"/><path d=\"m149.36 173.16-36.622 21.249\" clip-path=\"url(#cc11bc17cd1)\" fill=\"none\" stroke=\"#d848d5\" stroke-linecap=\"round\"/><path d=\"m151.01 218.93 37.354-44.609\" clip-path=\"url(#cc11bc17cd1)\" fill=\"none\" stroke=\"#83dec4\" stroke-linecap=\"round\"/><path d=\"m151.01 218.93-57.155 2.808\" clip-path=\"url(#cc11bc17cd1)\" fill=\"none\" stroke=\"#dcda6f\" stroke-linecap=\"round\"/><path d=\"m177.66 117.86 10.706 56.456\" clip-path=\"url(#cc11bc17cd1)\" fill=\"none\" stroke=\"#5483e2\" stroke-linecap=\"round\"/><path d=\"m237.05 169.05q9.6282-0.31286 12.614-1.1838c2.7722-0.80866 7.8494-4.0276 10.466-5.3702 2.6165-1.3425 8.1923-3.5898 10.466-5.3702q2.4487-1.9175 8.3178-9.5565\" clip-path=\"url(#cc11bc17cd1)\" fill=\"none\" stroke=\"#7cd9a9\" stroke-linecap=\"round\"/><path d=\"m237.05 169.05q5.8691-7.639 8.3178-9.5565c2.2736-1.7804 7.8494-4.0276 10.466-5.3702 2.6165-1.3425 7.6937-4.5615 10.466-5.3702q2.9858-0.87096 12.614-1.1838\" clip-path=\"url(#cc11bc17cd1)\" fill=\"none\" stroke=\"#ab8be3\" stroke-linecap=\"round\"/><path d=\"m88.166 140.71 60.419-0.30574\" clip-path=\"url(#cc11bc17cd1)\" fill=\"none\" stroke=\"#c7ce83\" stroke-linecap=\"round\"/><path d=\"m88.166 140.71-46.997-25.406\" clip-path=\"url(#cc11bc17cd1)\" fill=\"none\" stroke=\"#e3ca6f\" stroke-linecap=\"round\"/><path d=\"m88.166 140.71 24.568 53.695\" clip-path=\"url(#cc11bc17cd1)\" fill=\"none\" stroke=\"#d99c83\" stroke-linecap=\"round\"/><path d=\"m112.73 194.41-4.239 38.787\" clip-path=\"url(#cc11bc17cd1)\" fill=\"none\" stroke=\"#6fde6e\" stroke-linecap=\"round\"/><path d=\"m112.73 194.41-41.153-12.675\" clip-path=\"url(#cc11bc17cd1)\" fill=\"none\" stroke=\"#9daae1\" stroke-linecap=\"round\"/><path d=\"m112.73 194.41 9.6502-27.599\" clip-path=\"url(#cc11bc17cd1)\" fill=\"none\" stroke=\"#da7690\" stroke-linecap=\"round\"/><path d=\"m188.37 174.32-1.895 40.121\" clip-path=\"url(#cc11bc17cd1)\" fill=\"none\" stroke=\"#c4d133\" stroke-linecap=\"round\"/><path d=\"m188.37 174.32-39.783-33.916\" clip-path=\"url(#cc11bc17cd1)\" fill=\"none\" stroke=\"#4a3ede\" stroke-linecap=\"round\"/><path d=\"m188.37 174.32-65.984-7.5142\" clip-path=\"url(#cc11bc17cd1)\" fill=\"none\" stroke=\"#66dc60\" stroke-linecap=\"round\"/><path d=\"m148.59 140.4-77.005 41.325\" clip-path=\"url(#cc11bc17cd1)\" fill=\"none\" stroke=\"#6bd453\" stroke-linecap=\"round\"/><path d=\"m122.38 166.81-13.889 66.386\" clip-path=\"url(#cc11bc17cd1)\" fill=\"none\" stroke=\"#d16e59\" stroke-linecap=\"round\"/><path d=\"m122.38 166.81 64.089 47.635\" clip-path=\"url(#cc11bc17cd1)\" fill=\"none\" stroke=\"#67d14f\" stroke-linecap=\"round\"/><path d=\"m93.86 221.74 76.333 8.8943\" clip-path=\"url(#cc11bc17cd1)\" fill=\"none\" stroke=\"#e03539\" stroke-linecap=\"round\"/><path d=\"m93.86 221.74q-0.62312-9.3546-1.5691-12.23c-0.87835-2.6696-4.1774-7.5014-5.5699-10.002-1.3925-2.5005-3.7629-7.8494-5.5699-10.002q-1.9462-2.3183-9.5706-7.7739\" clip-path=\"url(#cc11bc17cd1)\" fill=\"none\" stroke=\"#57d3cc\" stroke-linecap=\"round\"/><path d=\"m93.86 221.74q-7.6244-5.4556-9.5706-7.7739c-1.807-2.1525-4.1774-7.5014-5.5699-10.002-1.3925-2.5005-4.6915-7.3323-5.5699-10.002q-0.94601-2.8753-1.5691-12.23\" clip-path=\"url(#cc11bc17cd1)\" fill=\"none\" stroke=\"#e4a993\" stroke-linecap=\"round\"/><path d=\"m26.724 96.016-7.1225 52.312\" clip-path=\"url(#cc11bc17cd1)\" fill=\"none\" stroke=\"#d3826d\" stroke-linecap=\"round\"/><path d=\"m41.169 115.3 30.411 66.425\" clip-path=\"url(#cc11bc17cd1)\" fill=\"none\" stroke=\"#5cd89c\" stroke-linecap=\"round\"/><path d=\"m127.42 82.314c1.0979 0 2.151-0.4362 2.9273-1.2125 0.77634-0.77634 1.2125-1.8294 1.2125-2.9273s-0.4362-2.151-1.2125-2.9273c-0.77634-0.77634-1.8294-1.2125-2.9273-1.2125s-2.151 0.4362-2.9273 1.2125c-0.77634 0.77634-1.2125 1.8294-1.2125 2.9273s0.4362 2.151 1.2125 2.9273c0.77634 0.77634 1.8294 1.2125 2.9273 1.2125z\" clip-path=\"url(#cc11bc17cd1)\" fill=\"#0072b2\" stroke=\"#004c77\"/><path d=\"m129.1 111.48c1.0979 0 2.151-0.4362 2.9273-1.2125 0.77634-0.77634 1.2125-1.8294 1.2125-2.9273s-0.4362-2.151-1.2125-2.9273c-0.77634-0.77634-1.8294-1.2125-2.9273-1.2125-1.0979 0-2.151 0.4362-2.9273 1.2125-0.77634 0.77634-1.2125 1.8294-1.2125 2.9273s0.4362 2.151 1.2125 2.9273c0.77634 0.77634 1.8294 1.2125 2.9273 1.2125z\" clip-path=\"url(#cc11bc17cd1)\" fill=\"#66b3c1\" stroke=\"#447780\"/><path d=\"m146.91 57.936c1.0979 0 2.151-0.4362 2.9273-1.2125 0.77634-0.77634 1.2125-1.8294 1.2125-2.9273s-0.4362-2.151-1.2125-2.9273c-0.77634-0.77634-1.8294-1.2125-2.9273-1.2125-1.0979 0-2.151 0.4362-2.9273 1.2125-0.77634 0.77634-1.2125 1.8294-1.2125 2.9273s0.4362 2.151 1.2125 2.9273c0.77634 0.77634 1.8294 1.2125 2.9273 1.2125z\" clip-path=\"url(#cc11bc17cd1)\" fill=\"#eacd62\" stroke=\"#9c8841\"/><path d=\"m158.1 134.13c1.0979 0 2.151-0.4362 2.9273-1.2125 0.77634-0.77634 1.2125-1.8294 1.2125-2.9273s-0.4362-2.151-1.2125-2.9273c-0.77634-0.77634-1.8294-1.2125-2.9273-1.2125-1.0979 0-2.151 0.4362-2.9273 1.2125-0.77634 0.77634-1.2125 1.8294-1.2125 2.9273s0.4362 2.151 1.2125 2.9273c0.77634 0.77634 1.8294 1.2125 2.9273 1.2125z\" clip-path=\"url(#cc11bc17cd1)\" fill=\"#6aadd4\" stroke=\"#46748d\"/><path d=\"m88.931 18.176c1.0979 0 2.151-0.4362 2.9273-1.2125 0.77634-0.77634 1.2125-1.8294 1.2125-2.9273s-0.4362-2.151-1.2125-2.9273c-0.77634-0.77634-1.8294-1.2125-2.9273-1.2125-1.0979 0-2.151 0.4362-2.9273 1.2125-0.77634 0.77634-1.2125 1.8294-1.2125 2.9273s0.4362 2.151 1.2125 2.9273c0.77634 0.77634 1.8294 1.2125 2.9273 1.2125z\" clip-path=\"url(#cc11bc17cd1)\" fill=\"#cd7693\" stroke=\"#894f62\"/><path d=\"m202.12 116.35c1.0979 0 2.151-0.4362 2.9273-1.2125 0.77634-0.77634 1.2125-1.8294 1.2125-2.9273s-0.4362-2.151-1.2125-2.9273c-0.77634-0.77634-1.8294-1.2125-2.9273-1.2125-1.0979 0-2.151 0.4362-2.9273 1.2125-0.77634 0.77634-1.2125 1.8294-1.2125 2.9273s0.4362 2.151 1.2125 2.9273c0.77634 0.77634 1.8294 1.2125 2.9273 1.2125z\" clip-path=\"url(#cc11bc17cd1)\" fill=\"#53b2e7\" stroke=\"#37769a\"/><path d=\"m79.613 93.565c1.0979 0 2.151-0.4362 2.9273-1.2125 0.77634-0.77634 1.2125-1.8294 1.2125-2.9273s-0.4362-2.151-1.2125-2.9273c-0.77634-0.77634-1.8294-1.2125-2.9273-1.2125s-2.151 0.4362-2.9273 1.2125c-0.77634 0.77634-1.2125 1.8294-1.2125 2.9273s0.4362 2.151 1.2125 2.9273 1.8294 1.2125 2.9273 1.2125z\" clip-path=\"url(#cc11bc17cd1)\" fill=\"#50a7a6\" stroke=\"#35706f\"/><path d=\"m98.08 152.48c1.0979 0 2.151-0.4362 2.9273-1.2125 0.77634-0.77634 1.2125-1.8294 1.2125-2.9273s-0.4362-2.151-1.2125-2.9273c-0.77634-0.77634-1.8294-1.2125-2.9273-1.2125s-2.151 0.4362-2.9273 1.2125c-0.77634 0.77634-1.2125 1.8294-1.2125 2.9273s0.4362 2.151 1.2125 2.9273c0.77634 0.77634 1.8294 1.2125 2.9273 1.2125z\" clip-path=\"url(#cc11bc17cd1)\" fill=\"#d08e80\" stroke=\"#8b5e56\"/><path d=\"m211.19 23.015c1.0979 0 2.151-0.4362 2.9273-1.2125 0.77634-0.77634 1.2125-1.8294 1.2125-2.9273s-0.4362-2.151-1.2125-2.9273c-0.77634-0.77634-1.8294-1.2125-2.9273-1.2125s-2.151 0.4362-2.9273 1.2125c-0.77634 0.77634-1.2125 1.8294-1.2125 2.9273s0.4362 2.151 1.2125 2.9273c0.77634 0.77634 1.8294 1.2125 2.9273 1.2125z\" clip-path=\"url(#cc11bc17cd1)\" fill=\"#448fb8\" stroke=\"#2d5f7b\"/><path d=\"m182.65 74.906c1.0979 0 2.151-0.4362 2.9273-1.2125 0.77634-0.77634 1.2125-1.8294 1.2125-2.9273 0-1.0979-0.4362-2.151-1.2125-2.9273-0.77634-0.77634-1.8294-1.2125-2.9273-1.2125s-2.151 0.4362-2.9273 1.2125c-0.77634 0.77634-1.2125 1.8294-1.2125 2.9273 0 1.0979 0.4362 2.151 1.2125 2.9273 0.77634 0.77634 1.8294 1.2125 2.9273 1.2125z\" clip-path=\"url(#cc11bc17cd1)\" fill=\"#42a381\" stroke=\"#2c6d56\"/><path d=\"m141.6 86.924c1.0979 0 2.151-0.4362 2.9273-1.2125 0.77634-0.77634 1.2125-1.8294 1.2125-2.9273s-0.4362-2.151-1.2125-2.9273c-0.77634-0.77634-1.8294-1.2125-2.9273-1.2125s-2.151 0.4362-2.9273 1.2125c-0.77634 0.77634-1.2125 1.8294-1.2125 2.9273s0.4362 2.151 1.2125 2.9273c0.77634 0.77634 1.8294 1.2125 2.9273 1.2125z\" clip-path=\"url(#cc11bc17cd1)\" fill=\"#86aabf\" stroke=\"#59727f\"/><path d=\"m131.44 37.312c1.0979 0 2.151-0.4362 2.9273-1.2125 0.77634-0.77634 1.2125-1.8294 1.2125-2.9273s-0.4362-2.151-1.2125-2.9273-1.8294-1.2125-2.9273-1.2125-2.151 0.4362-2.9273 1.2125c-0.77634 0.77634-1.2125 1.8294-1.2125 2.9273s0.4362 2.151 1.2125 2.9273c0.77634 0.77634 1.8294 1.2125 2.9273 1.2125z\" clip-path=\"url(#cc11bc17cd1)\" fill=\"#e3c997\" stroke=\"#978665\"/><path d=\"m109.48 130.99c1.0979 0 2.151-0.4362 2.9273-1.2125 0.77634-0.77634 1.2125-1.8294 1.2125-2.9273s-0.4362-2.151-1.2125-2.9273c-0.77634-0.77634-1.8294-1.2125-2.9273-1.2125s-2.151 0.4362-2.9273 1.2125c-0.77634 0.77634-1.2125 1.8294-1.2125 2.9273s0.4362 2.151 1.2125 2.9273c0.77634 0.77634 1.8294 1.2125 2.9273 1.2125z\" clip-path=\"url(#cc11bc17cd1)\" fill=\"#efe579\" stroke=\"#a09951\"/><path d=\"m103.27 111.85c1.0979 0 2.151-0.4362 2.9273-1.2125 0.77634-0.77634 1.2125-1.8294 1.2125-2.9273s-0.4362-2.151-1.2125-2.9273c-0.77634-0.77634-1.8294-1.2125-2.9273-1.2125-1.0979 0-2.151 0.4362-2.9273 1.2125-0.77634 0.77634-1.2125 1.8294-1.2125 2.9273s0.4362 2.151 1.2125 2.9273c0.77634 0.77634 1.8294 1.2125 2.9273 1.2125z\" clip-path=\"url(#cc11bc17cd1)\" fill=\"#a0c4cf\" stroke=\"#6b838a\"/><path d=\"m169.78 165c1.0979 0 2.151-0.4362 2.9273-1.2125 0.77634-0.77634 1.2125-1.8294 1.2125-2.9273s-0.4362-2.151-1.2125-2.9273c-0.77634-0.77634-1.8294-1.2125-2.9273-1.2125s-2.151 0.4362-2.9273 1.2125c-0.77634 0.77634-1.2125 1.8294-1.2125 2.9273s0.4362 2.151 1.2125 2.9273 1.8294 1.2125 2.9273 1.2125z\" clip-path=\"url(#cc11bc17cd1)\" fill=\"#e8c157\" stroke=\"#9b813a\"/><path d=\"m92.948 85.466c1.0979 0 2.151-0.4362 2.9273-1.2125 0.77634-0.77634 1.2125-1.8294 1.2125-2.9273s-0.4362-2.151-1.2125-2.9273c-0.77634-0.77634-1.8294-1.2125-2.9273-1.2125s-2.151 0.4362-2.9273 1.2125c-0.77634 0.77634-1.2125 1.8294-1.2125 2.9273s0.4362 2.151 1.2125 2.9273c0.77634 0.77634 1.8294 1.2125 2.9273 1.2125z\" clip-path=\"url(#cc11bc17cd1)\" fill=\"#ce919a\" stroke=\"#896167\"/><path d=\"m214.03 92.307c1.0979 0 2.151-0.4362 2.9273-1.2125 0.77634-0.77634 1.2125-1.8294 1.2125-2.9273s-0.4362-2.151-1.2125-2.9273c-0.77634-0.77634-1.8294-1.2125-2.9273-1.2125s-2.151 0.4362-2.9273 1.2125c-0.77634 0.77634-1.2125 1.8294-1.2125 2.9273s0.4362 2.151 1.2125 2.9273 1.8294 1.2125 2.9273 1.2125z\" clip-path=\"url(#cc11bc17cd1)\" fill=\"#d99148\" stroke=\"#916030\"/><path d=\"m82.159 59.221c1.0979 0 2.151-0.4362 2.9273-1.2125 0.77634-0.77634 1.2125-1.8294 1.2125-2.9273s-0.4362-2.151-1.2125-2.9273c-0.77634-0.77634-1.8294-1.2125-2.9273-1.2125s-2.151 0.4362-2.9273 1.2125c-0.77634 0.77634-1.2125 1.8294-1.2125 2.9273s0.4362 2.151 1.2125 2.9273c0.77634 0.77634 1.8294 1.2125 2.9273 1.2125z\" clip-path=\"url(#cc11bc17cd1)\" fill=\"#edd86d\" stroke=\"#9e9049\"/><path d=\"m41.266 83.416c1.0979 0 2.151-0.4362 2.9273-1.2125 0.77634-0.77634 1.2125-1.8294 1.2125-2.9273 0-1.0979-0.4362-2.151-1.2125-2.9273-0.77634-0.77634-1.8294-1.2125-2.9273-1.2125s-2.151 0.4362-2.9273 1.2125c-0.77634 0.77634-1.2125 1.8294-1.2125 2.9273 0 1.0979 0.4362 2.151 1.2125 2.9273 0.77634 0.77634 1.8294 1.2125 2.9273 1.2125z\" clip-path=\"url(#cc11bc17cd1)\" fill=\"#569dc5\" stroke=\"#396984\"/><path d=\"m14.489 139.39c1.0979 0 2.151-0.4362 2.9273-1.2125 0.77634-0.77634 1.2125-1.8294 1.2125-2.9273s-0.4362-2.151-1.2125-2.9273c-0.77634-0.77634-1.8294-1.2125-2.9273-1.2125s-2.151 0.4362-2.9273 1.2125c-0.77634 0.77634-1.2125 1.8294-1.2125 2.9273s0.4362 2.151 1.2125 2.9273c0.77634 0.77634 1.8294 1.2125 2.9273 1.2125z\" clip-path=\"url(#cc11bc17cd1)\" fill=\"#e7a405\" stroke=\"#9a6d03\"/><path d=\"m37.562 166.86c1.0979 0 2.151-0.4362 2.9273-1.2125 0.77634-0.77634 1.2125-1.8294 1.2125-2.9273s-0.4362-2.151-1.2125-2.9273c-0.77634-0.77634-1.8294-1.2125-2.9273-1.2125s-2.151 0.4362-2.9273 1.2125c-0.77634 0.77634-1.2125 1.8294-1.2125 2.9273s0.4362 2.151 1.2125 2.9273c0.77634 0.77634 1.8294 1.2125 2.9273 1.2125z\" clip-path=\"url(#cc11bc17cd1)\" fill=\"#cc95b3\" stroke=\"#886378\"/><path d=\"m51.675 48.813c1.0979 0 2.151-0.4362 2.9273-1.2125 0.77634-0.77634 1.2125-1.8294 1.2125-2.9273 0-1.0979-0.4362-2.151-1.2125-2.9273-0.77634-0.77634-1.8294-1.2125-2.9273-1.2125-1.0979 0-2.151 0.4362-2.9273 1.2125-0.77634 0.77634-1.2125 1.8294-1.2125 2.9273 0 1.0979 0.4362 2.151 1.2125 2.9273 0.77634 0.77634 1.8294 1.2125 2.9273 1.2125z\" clip-path=\"url(#cc11bc17cd1)\" fill=\"#3fa28f\" stroke=\"#2a6c60\"/><path d=\"m59.797 219.48c1.0979 0 2.151-0.4362 2.9273-1.2125 0.77634-0.77634 1.2125-1.8294 1.2125-2.9273s-0.4362-2.151-1.2125-2.9273c-0.77634-0.77634-1.8294-1.2125-2.9273-1.2125s-2.151 0.4362-2.9273 1.2125c-0.77634 0.77634-1.2125 1.8294-1.2125 2.9273s0.4362 2.151 1.2125 2.9273c0.77634 0.77634 1.8294 1.2125 2.9273 1.2125z\" clip-path=\"url(#cc11bc17cd1)\" fill=\"#2891cc\" stroke=\"#1b6188\"/><path d=\"m131.76 215.15c1.0979 0 2.151-0.4362 2.9273-1.2125 0.77634-0.77634 1.2125-1.8294 1.2125-2.9273s-0.4362-2.151-1.2125-2.9273c-0.77634-0.77634-1.8294-1.2125-2.9273-1.2125-1.0979 0-2.151 0.4362-2.9273 1.2125-0.77634 0.77634-1.2125 1.8294-1.2125 2.9273s0.4362 2.151 1.2125 2.9273c0.77634 0.77634 1.8294 1.2125 2.9273 1.2125z\" clip-path=\"url(#cc11bc17cd1)\" fill=\"#d5864b\" stroke=\"#8e5932\"/><path d=\"m59.939 156.52c1.0979 0 2.151-0.4362 2.9273-1.2125 0.77634-0.77634 1.2125-1.8294 1.2125-2.9273s-0.4362-2.151-1.2125-2.9273c-0.77634-0.77634-1.8294-1.2125-2.9273-1.2125-1.0979 0-2.151 0.4362-2.9273 1.2125-0.77634 0.77634-1.2125 1.8294-1.2125 2.9273s0.4362 2.151 1.2125 2.9273c0.77634 0.77634 1.8294 1.2125 2.9273 1.2125z\" clip-path=\"url(#cc11bc17cd1)\" fill=\"#ecc625\" stroke=\"#9d8419\"/><path d=\"m93.382 189.3c1.0979 0 2.151-0.4362 2.9273-1.2125 0.77634-0.77634 1.2125-1.8294 1.2125-2.9273s-0.4362-2.151-1.2125-2.9273c-0.77634-0.77634-1.8294-1.2125-2.9273-1.2125-1.0979 0-2.151 0.4362-2.9273 1.2125-0.77634 0.77634-1.2125 1.8294-1.2125 2.9273s0.4362 2.151 1.2125 2.9273c0.77634 0.77634 1.8294 1.2125 2.9273 1.2125z\" clip-path=\"url(#cc11bc17cd1)\" fill=\"#71b57e\" stroke=\"#4b7954\"/><path d=\"m157.08 235.74c1.0979 0 2.151-0.4362 2.9273-1.2125 0.77634-0.77634 1.2125-1.8294 1.2125-2.9273s-0.4362-2.151-1.2125-2.9273c-0.77634-0.77634-1.8294-1.2125-2.9273-1.2125-1.0979 0-2.151 0.4362-2.9273 1.2125-0.77634 0.77634-1.2125 1.8294-1.2125 2.9273s0.4362 2.151 1.2125 2.9273c0.77634 0.77634 1.8294 1.2125 2.9273 1.2125z\" clip-path=\"url(#cc11bc17cd1)\" fill=\"#cfafae\" stroke=\"#8a7574\"/><path d=\"m222.25 113.76c1.0979 0 2.151-0.4362 2.9273-1.2125 0.77634-0.77634 1.2125-1.8294 1.2125-2.9273s-0.4362-2.151-1.2125-2.9273c-0.77634-0.77634-1.8294-1.2125-2.9273-1.2125-1.0979 0-2.151 0.4362-2.9273 1.2125-0.77634 0.77634-1.2125 1.8294-1.2125 2.9273s0.4362 2.151 1.2125 2.9273c0.77634 0.77634 1.8294 1.2125 2.9273 1.2125z\" clip-path=\"url(#cc11bc17cd1)\" fill=\"#d76500\" stroke=\"#8f4300\"/><path d=\"m216.23 142.89c1.0979 0 2.151-0.4362 2.9273-1.2125 0.77634-0.77634 1.2125-1.8294 1.2125-2.9273s-0.4362-2.151-1.2125-2.9273c-0.77634-0.77634-1.8294-1.2125-2.9273-1.2125s-2.151 0.4362-2.9273 1.2125c-0.77634 0.77634-1.2125 1.8294-1.2125 2.9273s0.4362 2.151 1.2125 2.9273c0.77634 0.77634 1.8294 1.2125 2.9273 1.2125z\" clip-path=\"url(#cc11bc17cd1)\" fill=\"#a6c7da\" stroke=\"#6f8591\"/><path d=\"m190.15 198.3c1.0979 0 2.151-0.4362 2.9273-1.2125 0.77634-0.77634 1.2125-1.8294 1.2125-2.9273s-0.4362-2.151-1.2125-2.9273-1.8294-1.2125-2.9273-1.2125-2.151 0.4362-2.9273 1.2125c-0.77634 0.77634-1.2125 1.8294-1.2125 2.9273s0.4362 2.151 1.2125 2.9273c0.77634 0.77634 1.8294 1.2125 2.9273 1.2125z\" clip-path=\"url(#cc11bc17cd1)\" fill=\"#dbb992\" stroke=\"#927b61\"/><path d=\"m212.12 171.42c1.0979 0 2.151-0.4362 2.9273-1.2125 0.77634-0.77634 1.2125-1.8294 1.2125-2.9273 0-1.0979-0.4362-2.151-1.2125-2.9273-0.77634-0.77634-1.8294-1.2125-2.9273-1.2125s-2.151 0.4362-2.9273 1.2125c-0.77634 0.77634-1.2125 1.8294-1.2125 2.9273 0 1.0979 0.4362 2.151 1.2125 2.9273 0.77634 0.77634 1.8294 1.2125 2.9273 1.2125z\" clip-path=\"url(#cc11bc17cd1)\" fill=\"#e1a94b\" stroke=\"#967132\"/><path d=\"m149.36 177.3c1.0979 0 2.151-0.4362 2.9273-1.2125 0.77634-0.77634 1.2125-1.8294 1.2125-2.9273s-0.4362-2.151-1.2125-2.9273c-0.77634-0.77634-1.8294-1.2125-2.9273-1.2125s-2.151 0.4362-2.9273 1.2125c-0.77634 0.77634-1.2125 1.8294-1.2125 2.9273s0.4362 2.151 1.2125 2.9273c0.77634 0.77634 1.8294 1.2125 2.9273 1.2125z\" clip-path=\"url(#cc11bc17cd1)\" fill=\"#7bbce1\" stroke=\"#527d96\"/><path d=\"m151.01 223.07c1.0979 0 2.151-0.4362 2.9273-1.2125s1.2125-1.8294 1.2125-2.9273-0.4362-2.151-1.2125-2.9273c-0.77634-0.77634-1.8294-1.2125-2.9273-1.2125s-2.151 0.4362-2.9273 1.2125c-0.77634 0.77634-1.2125 1.8294-1.2125 2.9273s0.4362 2.151 1.2125 2.9273c0.77634 0.77634 1.8294 1.2125 2.9273 1.2125z\" clip-path=\"url(#cc11bc17cd1)\" fill=\"#2faab3\" stroke=\"#1f7177\"/><path d=\"m177.66 122c1.0979 0 2.151-0.4362 2.9273-1.2125 0.77634-0.77634 1.2125-1.8294 1.2125-2.9273s-0.4362-2.151-1.2125-2.9273c-0.77634-0.77634-1.8294-1.2125-2.9273-1.2125s-2.151 0.4362-2.9273 1.2125c-0.77634 0.77634-1.2125 1.8294-1.2125 2.9273s0.4362 2.151 1.2125 2.9273c0.77634 0.77634 1.8294 1.2125 2.9273 1.2125z\" clip-path=\"url(#cc11bc17cd1)\" fill=\"#7dc0dd\" stroke=\"#538093\"/><path d=\"m237.05 173.19c1.0979 0 2.151-0.4362 2.9273-1.2125 0.77634-0.77634 1.2125-1.8294 1.2125-2.9273 0-1.0979-0.4362-2.151-1.2125-2.9273-0.77634-0.77634-1.8294-1.2125-2.9273-1.2125s-2.151 0.4362-2.9273 1.2125c-0.77634 0.77634-1.2125 1.8294-1.2125 2.9273 0 1.0979 0.4362 2.151 1.2125 2.9273 0.77634 0.77634 1.8294 1.2125 2.9273 1.2125z\" clip-path=\"url(#cc11bc17cd1)\" fill=\"#84ad96\" stroke=\"#587364\"/><path d=\"m88.166 144.85c1.0979 0 2.151-0.4362 2.9273-1.2125 0.77634-0.77634 1.2125-1.8294 1.2125-2.9273s-0.4362-2.151-1.2125-2.9273c-0.77634-0.77634-1.8294-1.2125-2.9273-1.2125s-2.151 0.4362-2.9273 1.2125c-0.77634 0.77634-1.2125 1.8294-1.2125 2.9273s0.4362 2.151 1.2125 2.9273c0.77634 0.77634 1.8294 1.2125 2.9273 1.2125z\" clip-path=\"url(#cc11bc17cd1)\" fill=\"#9cc67c\" stroke=\"#688453\"/><path d=\"m112.73 198.55c1.0979 0 2.151-0.4362 2.9273-1.2125 0.77634-0.77634 1.2125-1.8294 1.2125-2.9273s-0.4362-2.151-1.2125-2.9273c-0.77634-0.77634-1.8294-1.2125-2.9273-1.2125s-2.151 0.4362-2.9273 1.2125c-0.77634 0.77634-1.2125 1.8294-1.2125 2.9273s0.4362 2.151 1.2125 2.9273c0.77634 0.77634 1.8294 1.2125 2.9273 1.2125z\" clip-path=\"url(#cc11bc17cd1)\" fill=\"#e9d8a3\" stroke=\"#9c906d\"/><path d=\"m188.37 178.46c1.0979 0 2.151-0.4362 2.9273-1.2125 0.77634-0.77634 1.2125-1.8294 1.2125-2.9273s-0.4362-2.151-1.2125-2.9273c-0.77634-0.77634-1.8294-1.2125-2.9273-1.2125s-2.151 0.4362-2.9273 1.2125c-0.77634 0.77634-1.2125 1.8294-1.2125 2.9273s0.4362 2.151 1.2125 2.9273c0.77634 0.77634 1.8294 1.2125 2.9273 1.2125z\" clip-path=\"url(#cc11bc17cd1)\" fill=\"#049f79\" stroke=\"#036a50\"/><path d=\"m148.59 144.54c1.0979 0 2.151-0.4362 2.9273-1.2125 0.77634-0.77634 1.2125-1.8294 1.2125-2.9273s-0.4362-2.151-1.2125-2.9273c-0.77634-0.77634-1.8294-1.2125-2.9273-1.2125s-2.151 0.4362-2.9273 1.2125c-0.77634 0.77634-1.2125 1.8294-1.2125 2.9273s0.4362 2.151 1.2125 2.9273 1.8294 1.2125 2.9273 1.2125z\" clip-path=\"url(#cc11bc17cd1)\" fill=\"#d26841\" stroke=\"#8c462b\"/><path d=\"m122.38 170.95c1.0979 0 2.151-0.4362 2.9273-1.2125 0.77634-0.77634 1.2125-1.8294 1.2125-2.9273s-0.4362-2.151-1.2125-2.9273c-0.77634-0.77634-1.8294-1.2125-2.9273-1.2125s-2.151 0.4362-2.9273 1.2125c-0.77634 0.77634-1.2125 1.8294-1.2125 2.9273s0.4362 2.151 1.2125 2.9273c0.77634 0.77634 1.8294 1.2125 2.9273 1.2125z\" clip-path=\"url(#cc11bc17cd1)\" fill=\"#d38a64\" stroke=\"#8c5c43\"/><path d=\"m93.86 225.88c1.0979 0 2.151-0.4362 2.9273-1.2125 0.77634-0.77634 1.2125-1.8294 1.2125-2.9273s-0.4362-2.151-1.2125-2.9273-1.8294-1.2125-2.9273-1.2125-2.151 0.4362-2.9273 1.2125c-0.77634 0.77634-1.2125 1.8294-1.2125 2.9273s0.4362 2.151 1.2125 2.9273c0.77634 0.77634 1.8294 1.2125 2.9273 1.2125z\" clip-path=\"url(#cc11bc17cd1)\" fill=\"#eee7b1\" stroke=\"#9f9a76\"/><path d=\"m26.724 100.16c1.0979 0 2.151-0.4362 2.9273-1.2125 0.77634-0.77634 1.2125-1.8294 1.2125-2.9273s-0.4362-2.151-1.2125-2.9273c-0.77634-0.77634-1.8294-1.2125-2.9273-1.2125-1.0979 0-2.151 0.4362-2.9273 1.2125-0.77634 0.77634-1.2125 1.8294-1.2125 2.9273s0.4362 2.151 1.2125 2.9273c0.77634 0.77634 1.8294 1.2125 2.9273 1.2125z\" clip-path=\"url(#cc11bc17cd1)\" fill=\"#e2e045\" stroke=\"#97952e\"/><path d=\"m277.88 91.504c1.0979 0 2.151-0.4362 2.9273-1.2125 0.77634-0.77634 1.2125-1.8294 1.2125-2.9273 0-1.0979-0.4362-2.151-1.2125-2.9273-0.77634-0.77634-1.8294-1.2125-2.9273-1.2125s-2.151 0.4362-2.9273 1.2125c-0.77634 0.77634-1.2125 1.8294-1.2125 2.9273 0 1.0979 0.4362 2.151 1.2125 2.9273 0.77634 0.77634 1.8294 1.2125 2.9273 1.2125z\" clip-path=\"url(#cc11bc17cd1)\" fill=\"#76a49f\" stroke=\"#4e6d6a\"/><path d=\"m186.47 218.58c1.0979 0 2.151-0.4362 2.9273-1.2125s1.2125-1.8294 1.2125-2.9273-0.4362-2.151-1.2125-2.9273c-0.77634-0.77634-1.8294-1.2125-2.9273-1.2125s-2.151 0.4362-2.9273 1.2125c-0.77634 0.77634-1.2125 1.8294-1.2125 2.9273s0.4362 2.151 1.2125 2.9273c0.77634 0.77634 1.8294 1.2125 2.9273 1.2125z\" clip-path=\"url(#cc11bc17cd1)\" fill=\"#e5b44c\" stroke=\"#997833\"/><path d=\"m278.91 151.71c1.0979 0 2.151-0.4362 2.9273-1.2125 0.77634-0.77634 1.2125-1.8294 1.2125-2.9273s-0.4362-2.151-1.2125-2.9273-1.8294-1.2125-2.9273-1.2125-2.151 0.4362-2.9273 1.2125c-0.77634 0.77634-1.2125 1.8294-1.2125 2.9273s0.4362 2.151 1.2125 2.9273c0.77634 0.77634 1.8294 1.2125 2.9273 1.2125z\" clip-path=\"url(#cc11bc17cd1)\" fill=\"#dd9c4a\" stroke=\"#936831\"/><path d=\"m108.49 237.33c1.0979 0 2.151-0.4362 2.9273-1.2125 0.77634-0.77634 1.2125-1.8294 1.2125-2.9273 0-1.0979-0.4362-2.151-1.2125-2.9273-0.77634-0.77634-1.8294-1.2125-2.9273-1.2125s-2.151 0.4362-2.9273 1.2125c-0.77634 0.77634-1.2125 1.8294-1.2125 2.9273 0 1.0979 0.4362 2.151 1.2125 2.9273 0.77634 0.77634 1.8294 1.2125 2.9273 1.2125z\" clip-path=\"url(#cc11bc17cd1)\" fill=\"#c0cea4\" stroke=\"#80896e\"/><path d=\"m170.19 234.77c1.0979 0 2.151-0.4362 2.9273-1.2125 0.77634-0.77634 1.2125-1.8294 1.2125-2.9273s-0.4362-2.151-1.2125-2.9273c-0.77634-0.77634-1.8294-1.2125-2.9273-1.2125s-2.151 0.4362-2.9273 1.2125c-0.77634 0.77634-1.2125 1.8294-1.2125 2.9273s0.4362 2.151 1.2125 2.9273c0.77634 0.77634 1.8294 1.2125 2.9273 1.2125z\" clip-path=\"url(#cc11bc17cd1)\" fill=\"#6bbd5d\" stroke=\"#487e3e\"/><path d=\"m41.169 119.44c1.0979 0 2.151-0.4362 2.9273-1.2125 0.77634-0.77634 1.2125-1.8294 1.2125-2.9273s-0.4362-2.151-1.2125-2.9273c-0.77634-0.77634-1.8294-1.2125-2.9273-1.2125s-2.151 0.4362-2.9273 1.2125c-0.77634 0.77634-1.2125 1.8294-1.2125 2.9273s0.4362 2.151 1.2125 2.9273c0.77634 0.77634 1.8294 1.2125 2.9273 1.2125z\" clip-path=\"url(#cc11bc17cd1)\" fill=\"#ccd87a\" stroke=\"#889051\"/><path d=\"m71.581 185.87c1.0979 0 2.151-0.4362 2.9273-1.2125 0.77634-0.77634 1.2125-1.8294 1.2125-2.9273s-0.4362-2.151-1.2125-2.9273-1.8294-1.2125-2.9273-1.2125-2.151 0.4362-2.9273 1.2125c-0.77634 0.77634-1.2125 1.8294-1.2125 2.9273s0.4362 2.151 1.2125 2.9273c0.77634 0.77634 1.8294 1.2125 2.9273 1.2125z\" clip-path=\"url(#cc11bc17cd1)\" fill=\"#df8300\" stroke=\"#955800\"/><path d=\"m19.602 152.47c1.0979 0 2.151-0.4362 2.9273-1.2125 0.77634-0.77634 1.2125-1.8294 1.2125-2.9273s-0.4362-2.151-1.2125-2.9273c-0.77634-0.77634-1.8294-1.2125-2.9273-1.2125s-2.151 0.4362-2.9273 1.2125c-0.77634 0.77634-1.2125 1.8294-1.2125 2.9273s0.4362 2.151 1.2125 2.9273c0.77634 0.77634 1.8294 1.2125 2.9273 1.2125z\" clip-path=\"url(#cc11bc17cd1)\" fill=\"#d4ae96\" stroke=\"#8d7464\"/><defs><clipPath id=\"cc11bc17cd1\"><rect x=\"7.2\" y=\"7.2\" width=\"279\" height=\"232.83\"/></clipPath></defs></svg>"
      ],
      "text/plain": [
       "<Figure size 500x500 with 1 Axes>"
      ]
     },
     "metadata": {
      "needs_background": "light"
     },
     "output_type": "display_data"
    },
    {
     "data": {
      "text/plain": [
       "(<Figure size 500x500 with 1 Axes>, <Axes: >)"
      ]
     },
     "execution_count": 21,
     "metadata": {},
     "output_type": "execute_result"
    }
   ],
   "source": [
    "# create a reasonable large random contraction:\n",
    "inputs, output, shapes, size_dict = ctg.utils.rand_equation(\n",
    "    n=50, reg=5, seed=0, d_max=2\n",
    ")\n",
    "arrays = [np.random.uniform(size=s) for s in shapes]\n",
    "\n",
    "# visualize it:\n",
    "print(ctg.utils.inputs_output_to_eq(inputs, output))\n",
    "ctg.HyperGraph(inputs, output, size_dict).plot()"
   ]
  },
  {
   "cell_type": "code",
   "execution_count": 22,
   "id": "afbd6414",
   "metadata": {},
   "outputs": [
    {
     "data": {
      "text/plain": [
       "(572054568704.0, 27.0)"
      ]
     },
     "execution_count": 22,
     "metadata": {},
     "output_type": "execute_result"
    }
   ],
   "source": [
    "# start with a simple greedy contraction path / tree\n",
    "tree = ctg.array_contract_tree(inputs, output, size_dict, optimize=\"greedy\")\n",
    "\n",
    "# check the time and space requirements\n",
    "tree.contraction_cost(), tree.contraction_width()"
   ]
  },
  {
   "cell_type": "markdown",
   "id": "e1d007b4",
   "metadata": {},
   "source": [
    "We can call the [`slice`](cotengra.core.ContractionTree.slice) method of a tree\n",
    "to slice it."
   ]
  },
  {
   "cell_type": "code",
   "execution_count": 23,
   "id": "32431e39",
   "metadata": {},
   "outputs": [],
   "source": [
    "tree_s = tree.slice(target_size=2**20)"
   ]
  },
  {
   "cell_type": "markdown",
   "id": "41b915d8",
   "metadata": {},
   "source": [
    "```{hint}\n",
    "This method and various others can also be called inplace with a trailing underscore.\n",
    "```"
   ]
  },
  {
   "cell_type": "code",
   "execution_count": 24,
   "id": "b183dbd6",
   "metadata": {},
   "outputs": [
    {
     "data": {
      "text/plain": [
       "({'M': SliceInfo(inner=True, ind='M', size=2, project=None),\n",
       "  'Q': SliceInfo(inner=True, ind='Q', size=2, project=None),\n",
       "  'Á': SliceInfo(inner=True, ind='Á', size=2, project=None),\n",
       "  'Ã': SliceInfo(inner=True, ind='Ã', size=2, project=None),\n",
       "  'Æ': SliceInfo(inner=True, ind='Æ', size=2, project=None),\n",
       "  'á': SliceInfo(inner=True, ind='á', size=2, project=None),\n",
       "  'ç': SliceInfo(inner=True, ind='ç', size=2, project=None),\n",
       "  'ñ': SliceInfo(inner=True, ind='ñ', size=2, project=None),\n",
       "  'ÿ': SliceInfo(inner=True, ind='ÿ', size=2, project=None),\n",
       "  'ą': SliceInfo(inner=True, ind='ą', size=2, project=None)},\n",
       " 1024)"
      ]
     },
     "execution_count": 24,
     "metadata": {},
     "output_type": "execute_result"
    }
   ],
   "source": [
    "tree_s.sliced_inds, tree_s.nslices"
   ]
  },
  {
   "cell_type": "code",
   "execution_count": 25,
   "id": "3d1ada9d",
   "metadata": {},
   "outputs": [
    {
     "data": {
      "text/plain": [
       "(656181444608.0, 20.0)"
      ]
     },
     "execution_count": 25,
     "metadata": {},
     "output_type": "execute_result"
    }
   ],
   "source": [
    "# check the new time and space requirements\n",
    "tree_s.contraction_cost(), tree_s.contraction_width()"
   ]
  },
  {
   "cell_type": "markdown",
   "id": "94d68c60",
   "metadata": {},
   "source": [
    "The tree now has 6 indices sliced out, and represents 64 individual\n",
    "contractions each requiring 32x less memory. The total cost has increased\n",
    "slightly, this ***'slicing overhead'*** we can check:"
   ]
  },
  {
   "cell_type": "code",
   "execution_count": 26,
   "id": "fc709fd0",
   "metadata": {},
   "outputs": [
    {
     "data": {
      "text/plain": [
       "1.147060928286249"
      ]
     },
     "execution_count": 26,
     "metadata": {},
     "output_type": "execute_result"
    }
   ],
   "source": [
    "tree_s.contraction_cost() / tree.contraction_cost()"
   ]
  },
  {
   "cell_type": "markdown",
   "id": "43b95971-2d94-438f-93ac-00e3d513441a",
   "metadata": {},
   "source": [
    "So less than 15% more floating point operations overall, (arising from\n",
    "redundantly repeated contractions).\n",
    "\n",
    "```{note}\n",
    "Internally, the tree constructs a [`SliceFinder`](cotengra.slicer.SliceFinder)\n",
    "object and uses it to search for good indices to slice. For full control, you\n",
    "could do this yourself and then call manually call\n",
    "[`remove_ind`](cotengra.core.ContractionTree.remove_ind) on the tree.\n",
    "```\n",
    "\n",
    "Once a [ContractionTree](cotengra.core.ContractionTree) has been sliced, the\n",
    "[contract](cotengra.core.ContractionTree.contract) method can be used to\n",
    "automatically perform the sliced contraction:"
   ]
  },
  {
   "cell_type": "code",
   "execution_count": 27,
   "id": "3e874658-6956-4fe2-8e3c-1dee6d02a02f",
   "metadata": {},
   "outputs": [
    {
     "name": "stderr",
     "output_type": "stream",
     "text": [
      "100%|██████████| 1024/1024 [00:25<00:00, 40.04it/s]\n"
     ]
    },
    {
     "data": {
      "text/plain": [
       "5.725156944176958e+22"
      ]
     },
     "execution_count": 27,
     "metadata": {},
     "output_type": "execute_result"
    }
   ],
   "source": [
    "tree_s.contract(arrays, progbar=True)"
   ]
  },
  {
   "cell_type": "markdown",
   "id": "b542a047-96e7-4e2a-873b-e69f1fc14cad",
   "metadata": {},
   "source": [
    "See the [main contraction page](contraction.ipynb) for more details on\n",
    "performing the actual sliced contraction once the indices have been found."
   ]
  },
  {
   "cell_type": "markdown",
   "id": "3eff51f2-dbde-4341-866b-a224e9d03f08",
   "metadata": {},
   "source": [
    "## Subtree Reconfiguration\n",
    "\n",
    "Any subtree of a contraction tree itself describes a smaller contraction, with\n",
    "the subtree leaves being the effective inputs (generally intermediate tensors)\n",
    "and the subtree root being the effective output (also generally an\n",
    "intermediate). One advantage of cotengra keeping an explicit representation of\n",
    "the contraction tree is that such subtrees can be easily selected and\n",
    "re-optimized as illustrated in the following schematic:\n",
    "\n",
    "<p align=\"center\"><img src=\"https://imgur.com/vi60oh7.png\" alt=\"cotengra\" width=\"100%\" height=\"100%\"></p>\n",
    "\n",
    "(Note in general the subtree being optimized will be closer in size to 10\n",
    "intermediates or so.)\n",
    "\n",
    "If we do this and improve the contraction cost of a **subtree** (e.g. by using an optimal contraction path), then the contraction cost of the **whole tree** is improved. Moreover we can iterate across many or all subtrees in a `ContractionTree`, reconfiguring them and thus potentially updating the entire tree in incremental 'local' steps.\n",
    "\n",
    "The method to call for this is\n",
    "[`subtree_reconfigure`](cotengra.core.ContractionTree.subtree_reconfigure)."
   ]
  },
  {
   "cell_type": "code",
   "execution_count": 25,
   "id": "89b9db97",
   "metadata": {},
   "outputs": [
    {
     "name": "stderr",
     "output_type": "stream",
     "text": [
      "0it [00:00, ?it/s]"
     ]
    },
    {
     "name": "stderr",
     "output_type": "stream",
     "text": [
      "log2[SIZE]: 32.00 log10[FLOPs]: 12.98: : 500it [00:00, 660.40it/s]\n"
     ]
    }
   ],
   "source": [
    "# generate a tree\n",
    "inputs, output, shapes, size_dict = ctg.utils.lattice_equation(\n",
    "    [24, 30], d_max=2\n",
    ")\n",
    "tree = ctg.array_contract_tree(inputs, output, size_dict, optimize=\"greedy\")\n",
    "\n",
    "# reconfigure it (call tree.subtree_reconfigure? to see many options)\n",
    "tree_r = tree.subtree_reconfigure(progbar=True)"
   ]
  },
  {
   "cell_type": "code",
   "execution_count": 26,
   "id": "86400cbe",
   "metadata": {},
   "outputs": [
    {
     "data": {
      "text/plain": [
       "1253.3836847767188"
      ]
     },
     "execution_count": 26,
     "metadata": {},
     "output_type": "execute_result"
    }
   ],
   "source": [
    "# check the speedup\n",
    "tree.total_flops() / tree_r.total_flops()"
   ]
  },
  {
   "cell_type": "markdown",
   "id": "abb701ea",
   "metadata": {},
   "source": [
    "Since it is a local optimization it is possible to get stuck.\n",
    "[`subtree_reconfigure_forest`](cotengra.core.ContractionTree.subtree_reconfigure_forest)\n",
    "offers a basic stochastic search of multiple reconfigurations that can avoid this and also be easily parallelized:"
   ]
  },
  {
   "cell_type": "code",
   "execution_count": 27,
   "id": "1decea62",
   "metadata": {},
   "outputs": [
    {
     "name": "stderr",
     "output_type": "stream",
     "text": [
      "log2[SIZE]: 32.00 log10[FLOPs]: 12.44: 100%|██████████| 10/10 [00:05<00:00,  1.80it/s]\n"
     ]
    }
   ],
   "source": [
    "tree_f = tree.subtree_reconfigure_forest(progbar=True, num_trees=4)"
   ]
  },
  {
   "cell_type": "code",
   "execution_count": 28,
   "id": "96c20678",
   "metadata": {},
   "outputs": [
    {
     "data": {
      "text/plain": [
       "4312.69228449926"
      ]
     },
     "execution_count": 28,
     "metadata": {},
     "output_type": "execute_result"
    }
   ],
   "source": [
    "# check the speedup\n",
    "tree.total_flops() / tree_f.total_flops()"
   ]
  },
  {
   "cell_type": "markdown",
   "id": "238ef29f",
   "metadata": {},
   "source": [
    "So indeed a little better.\n",
    "\n",
    "Subtree reconfiguration is often powerful enough to allow even 'bad' initial paths (like those generated by `'greedy'` ) to become very high quality."
   ]
  },
  {
   "cell_type": "markdown",
   "id": "4385f8e0-b233-43cb-a2c1-09316889d5c7",
   "metadata": {},
   "source": [
    "## Dynamic Slicing\n",
    "\n",
    "A powerful application for reconfiguration (first implemented in ['Classical Simulation of Quantum Supremacy Circuits'](https://arxiv.org/abs/2005.06787)) is to interleave it with *slicing*. Namely:\n",
    "\n",
    "1. Choose an index to slice\n",
    "2. Reconfigure subtrees to account for the slightly different TN structure without this index\n",
    "3. Check if the tree has reached a certain size, if not return to 1.\n",
    "\n",
    "In this way, the contraction tree is slowly updated to account for potentially many indices being sliced.\n",
    "\n",
    "For example imagine we wanted to slice the ``tree_f`` from above to achieve a maximum size of `2**28` (approx suitable for 8GB of memory). We could directly slice it without changing the tree structure at all:"
   ]
  },
  {
   "cell_type": "code",
   "execution_count": 29,
   "id": "a02e567e",
   "metadata": {},
   "outputs": [
    {
     "data": {
      "text/plain": [
       "{'Τ': SliceInfo(inner=True, ind='Τ', size=2, project=None),\n",
       " 'ϟ': SliceInfo(inner=True, ind='ϟ', size=2, project=None),\n",
       " 'К': SliceInfo(inner=True, ind='К', size=2, project=None),\n",
       " 'ѕ': SliceInfo(inner=True, ind='ѕ', size=2, project=None)}"
      ]
     },
     "execution_count": 29,
     "metadata": {},
     "output_type": "execute_result"
    }
   ],
   "source": [
    "tree_s = tree_f.slice(target_size=2**28)\n",
    "tree_s.sliced_inds"
   ]
  },
  {
   "cell_type": "markdown",
   "id": "51e9b3f6",
   "metadata": {},
   "source": [
    "Or we could simultaneously interleave subtree reconfiguration:"
   ]
  },
  {
   "cell_type": "code",
   "execution_count": 30,
   "id": "0b70016e",
   "metadata": {},
   "outputs": [
    {
     "name": "stderr",
     "output_type": "stream",
     "text": [
      "log2[SIZE]: 28.00 log10[FLOPs]: 12.36: : 4it [00:04,  1.21s/it]\n"
     ]
    },
    {
     "data": {
      "text/plain": [
       "{'ì': SliceInfo(inner=True, ind='ì', size=2, project=None),\n",
       " 'ϟ': SliceInfo(inner=True, ind='ϟ', size=2, project=None),\n",
       " 'К': SliceInfo(inner=True, ind='К', size=2, project=None),\n",
       " 'ѕ': SliceInfo(inner=True, ind='ѕ', size=2, project=None)}"
      ]
     },
     "execution_count": 30,
     "metadata": {},
     "output_type": "execute_result"
    }
   ],
   "source": [
    "tree_sr = tree_f.slice_and_reconfigure(target_size=2**28, progbar=True)\n",
    "tree_sr.sliced_inds"
   ]
  },
  {
   "cell_type": "code",
   "execution_count": 31,
   "id": "f1580e24",
   "metadata": {},
   "outputs": [
    {
     "data": {
      "text/plain": [
       "1.6619162859973315"
      ]
     },
     "execution_count": 31,
     "metadata": {},
     "output_type": "execute_result"
    }
   ],
   "source": [
    "tree_s.total_flops() / tree_sr.total_flops()"
   ]
  },
  {
   "cell_type": "markdown",
   "id": "bef503d1",
   "metadata": {},
   "source": [
    "We can see it has achieved the target size with 1.5x better cost. There is also a 'forested' version of this algorithm  which again performs a stochastic search of multiple possible slicing+reconfiguring options:"
   ]
  },
  {
   "cell_type": "code",
   "execution_count": 32,
   "id": "89ef4271",
   "metadata": {},
   "outputs": [
    {
     "name": "stderr",
     "output_type": "stream",
     "text": [
      "log2[SIZE]: 28.00 log10[FLOPs]: 12.36: : 4it [00:08,  2.25s/it]\n"
     ]
    },
    {
     "data": {
      "text/plain": [
       "1.6619162861844943"
      ]
     },
     "execution_count": 32,
     "metadata": {},
     "output_type": "execute_result"
    }
   ],
   "source": [
    "tree_fsr = tree_f.slice_and_reconfigure_forest(target_size=2**28, progbar=True)\n",
    "tree_s.total_flops() / tree_fsr.total_flops()"
   ]
  },
  {
   "cell_type": "markdown",
   "id": "898c19e6",
   "metadata": {},
   "source": [
    "We can see here it has done a little better. The foresting looks roughly like the following:\n",
    "\n",
    "<p align=\"center\"><img src=\"https://imgur.com/s1iSS1u.png\" alt=\"cotengra\" width=\"100%\" height=\"100%\"></p>\n",
    "\n",
    "The subtree reconfiguration within the slicing can *itself be forested* for a doubly forested algorithm. This will give the highest quality (but also slowest) search."
   ]
  },
  {
   "cell_type": "code",
   "execution_count": 33,
   "id": "f941d6df",
   "metadata": {},
   "outputs": [
    {
     "name": "stderr",
     "output_type": "stream",
     "text": [
      "/media/johnnie/Storage2TB/Sync/dev/python/cotengra/cotengra/parallel.py:276: UserWarning: Parallel specified but no existing global dask client found... created one (with 8 workers).\n",
      "  warnings.warn(\n",
      "log2[SIZE]: 27.00 log10[FLOPs]: 11.55: : 4it [01:39, 24.76s/it]\n"
     ]
    }
   ],
   "source": [
    "tree_fsfr = tree_f.slice_and_reconfigure_forest(\n",
    "    target_size=2**28,\n",
    "    num_trees=4,\n",
    "    parallel=\"dask\",\n",
    "    reconf_opts=dict(\n",
    "        subtree_size=12,\n",
    "        forested=True,\n",
    "        parallel=\"dask\",\n",
    "        num_trees=4,\n",
    "    ),\n",
    "    progbar=True,\n",
    ")"
   ]
  },
  {
   "cell_type": "code",
   "execution_count": 34,
   "id": "aa9d385f",
   "metadata": {},
   "outputs": [
    {
     "data": {
      "text/plain": [
       "10.674935697795002"
      ]
     },
     "execution_count": 34,
     "metadata": {},
     "output_type": "execute_result"
    }
   ],
   "source": [
    "tree_s.total_flops() / tree_fsfr.total_flops()"
   ]
  },
  {
   "cell_type": "markdown",
   "id": "f0aea9b4",
   "metadata": {},
   "source": [
    "We've set the `subtree_size` here to `12` for higher quality reconfiguration, but reduced the `num_trees` in the forests (from default `8`) to `4` which will still lead to 4 x 4 = 16 trees being generated at each step. Again we see a slight improvement. This level of effort might only be required for very heavily slicing contraction trees, and in this case it might be best simply to trial many initial paths with a basic `slice_and_reconfigure`."
   ]
  }
 ],
 "metadata": {
  "kernelspec": {
   "display_name": "Python 3",
   "language": "python",
   "name": "python3"
  },
  "language_info": {
   "codemirror_mode": {
    "name": "ipython",
    "version": 3
   },
   "file_extension": ".py",
   "mimetype": "text/x-python",
   "name": "python",
   "nbconvert_exporter": "python",
   "pygments_lexer": "ipython3",
   "version": "3"
  }
 },
 "nbformat": 4,
 "nbformat_minor": 5
}
