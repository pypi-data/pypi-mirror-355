{
 "cells": [
  {
   "cell_type": "markdown",
   "metadata": {
    "id": "YYeVqsX1hNv6"
   },
   "source": [
    "<div style=\"background: linear-gradient(to right, #4b6cb7, #182848); padding: 20px; border-radius: 10px; text-align: center; box-shadow: 0 4px 6px rgba(0,0,0,0.1);\">\n",
    "    <h1 style=\"color: white; margin: 0; font-size: 2.5em; font-weight: 700;\">GAICo: GenAI Results Comparator</h1>\n",
    "    <p style=\"color: #e0e0e0; margin-top: 10px; font-style: italic; font-size: 1.2em; text-align: center;\">Example: Recipe</p>\n",
    "</div>\n",
    "<br>\n",
    "\n",
    "This notebook demonstrates an example of using the **GAICo (GenAI Results Comparator)** library on the recipe and food domain.\n",
    "\n",
    "Data is taken from https://archive.org/details/recipes-en-201706.\n",
    "\n",
    "Author: Vansh Nagpal\n",
    "\n",
    "**Scenario:**\n",
    "\n",
    "1.  **Inputs:** Responses from different models, Mixtral8x7b and Deepseek-R1:8b, corresponding to their attempt at converting a recipe to [R3](https://arxiv.org/abs/2203.17109) format. Since there is no inherent ground-truth, the notebook uses Llama3.1:8b as the ground-truth source.\n",
    "2.  **Metrics:** We'll use the BLEU, Cosine Similarity, and Levenshtein metrics from the GAICo package.\n",
    "3.  **Workflow:**\n",
    "    - Calculate the metric score for the model's response against the reference.\n",
    "    - Generate a CSV report summarizing the results.\n",
    "    - Visualize the scores with a bar plot.\n",
    "\n",
    "**Note:** Since we have a dataset and would like to use the `Experiment` abstraction module, we will create an `Experiment` instance for each data point. After collecting results from each `Experiment` instance, we will aggregate these results to perform an overall analysis of your dataset. Global plotting or CSV generation would then be done on this aggregated data.\n"
   ]
  },
  {
   "cell_type": "markdown",
   "metadata": {
    "id": "l7qMMsIshNv-"
   },
   "source": [
    "## Environment Setup & Imports\n",
    "\n",
    "The cell below adjusts `sys.path` to find the gaico module if run from examples directory.\n",
    "This block is primarily for local execution from the `examples/` folder if gaico is not installed.\n",
    "\n",
    "In Colab however, after pip install, gaico should be importable directly.\n"
   ]
  },
  {
   "cell_type": "code",
   "execution_count": 1,
   "metadata": {
    "id": "UEHL_rKnhNv_"
   },
   "outputs": [],
   "source": [
    "# To import `gaico` from the project root, we need to ensure the path is set correctly.\n",
    "# If this script is run as a standalone file, it will add the project root to the system path.\n",
    "\n",
    "import sys\n",
    "import os\n",
    "\n",
    "notebook_dir = os.getcwd()  # Get the current working directory of the notebook\n",
    "# Construct the path to the project root (one level up)\n",
    "project_root = os.path.abspath(os.path.join(notebook_dir, os.pardir))\n",
    "\n",
    "# Add project root to the system path if it's not already there\n",
    "if project_root not in sys.path:\n",
    "    sys.path.insert(0, project_root)\n",
    "    print(f\"Added project root to sys.path: {project_root}\")"
   ]
  },
  {
   "cell_type": "code",
   "execution_count": 2,
   "metadata": {
    "id": "Bj849c7vx-K9"
   },
   "outputs": [],
   "source": [
    "from pathlib import Path\n",
    "from joblib import Parallel, delayed\n",
    "\n",
    "import matplotlib.pyplot as plt\n",
    "import pandas as pd\n",
    "from gaico import Experiment\n",
    "from gaico.visualize import plot_metric_comparison"
   ]
  },
  {
   "cell_type": "markdown",
   "metadata": {
    "id": "fNrtk-DGhNwB"
   },
   "source": [
    "## Data Reading & Setup\n"
   ]
  },
  {
   "cell_type": "code",
   "execution_count": 3,
   "metadata": {
    "colab": {
     "base_uri": "https://localhost:8080/",
     "height": 310
    },
    "id": "YMBSh3unhNwB",
    "outputId": "99c25ecc-067f-429d-9658-69488f707aab"
   },
   "outputs": [
    {
     "data": {
      "application/vnd.microsoft.datawrangler.viewer.v0+json": {
       "columns": [
        {
         "name": "index",
         "rawType": "int64",
         "type": "integer"
        },
        {
         "name": "Unnamed: 0",
         "rawType": "int64",
         "type": "integer"
        },
        {
         "name": "deepseek-r1-8b",
         "rawType": "object",
         "type": "string"
        },
        {
         "name": "llama3.1v2",
         "rawType": "object",
         "type": "string"
        },
        {
         "name": "mixtral8x7b",
         "rawType": "object",
         "type": "string"
        }
       ],
       "ref": "d5a34ebe-0772-4ff3-a520-fc3ca3a56a51",
       "rows": [
        [
         "0",
         "0",
         "{\"recipe_name\":\"Quick Kale and Turmeric Smoothie\",\"macronutrients\":{\"Calories\":{\"measure\":\"471\",\"unit\":\"kcal\"},\"CarbohydrateContent\":{\"measure\":\"58\",\"unit\":\"g\"},\"FiberContent\":{\"measure\":\"14\",\"unit\":\"g\"},\"ProteinContent\":{\"measure\":\"12\",\"unit\":\"g\"},\"SaturatedFatContent\":{\"measure\":\"2\",\"unit\":\"g\"},\"SodiumContent\":{\"measure\":\"274\",\"unit\":\"mg\"},\"SugarContent\":{\"measure\":\"24\",\"unit\":\"g\"},\"FatContent\":{\"measure\":\"25\",\"unit\":\"g\"},\"UnsaturatedFatContent\":{\"measure\":\"0\",\"unit\":\"g\"}},\"food_role\":[\"Beverage\"],\"has_dairy\":true,\"has_nuts\":true,\"prep_time\":5,\"total_time\":5,\"instructions_list\":[{\"instruction\":\"Blend ice cubes, almond milk, banana, kale, flax seed meal, ginger, turmeric root, almond butter, stevia powder, cayenne pepper, and ground black pepper together in a blender until smooth.\"}],\"ingredients\":[{\"name\":\"6 ice cubes\",\"quantity\":{\"measure\":\"6\",\"unit\":\"ice cubes\"}},{\"name\":\"1 cup almond milk\",\"quantity\":{\"measure\":\"1\",\"unit\":\"cup\"}},{\"name\":\"1 banana\",\"quantity\":{\"measure\":\"1\",\"unit\":\"banana\"}},{\"name\":\"3 leaves kale, large stems discarded, leaves chopped\",\"quantity\":{\"measure\":\"3\",\"unit\":\"leaves\"}},{\"name\":\"u00bc cup flax seed meal\",\"quantity\":{\"measure\":\"2\",\"unit\":\"tbsp\"}},{\"name\":\"2 tablespoons chopped fresh ginger\",\"quantity\":{\"measure\":\"2\",\"unit\":\"tbsp\"}},{\"name\":\"2 tablespoons chopped fresh turmeric root\",\"quantity\":{\"measure\":\"2\",\"unit\":\"tbsp\"}},{\"name\":\"1 tablespoon almond butter\",\"quantity\":{\"measure\":\"1\",\"unit\":\"tbsp\"}},{\"name\":\"u00bc teaspoon stevia\",\"quantity\":{\"measure\":\"0.5\",\"unit\":\"teaspoon\"}},{\"name\":\"u00bc teaspoon cayenne pepper\",\"quantity\":{\"measure\":\"0.5\",\"unit\":\"teaspoon\"}},{\"name\":\"u215b teaspoon ground black pepper\",\"quantity\":{\"measure\":\"0.25\",\"unit\":\"teaspoon\"}}],\"output_condition\":[\"smoothie\"]}",
         "{\"recipe_name\":\"Quick Kale and Turmeric Smoothie\",\"macronutrients\":{\"Calories\":{\"measure\":\"471\",\"unit\":\"kcal\"},\"Carbohydrates\":{\"measure\":\"58\",\"unit\":\"g\"},\"Fiber\":{\"measure\":\"14\",\"unit\":\"g\"},\"Protein\":{\"measure\":\"12\",\"unit\":\"g\"},\"Fat\":{\"measure\":\"25\",\"unit\":\"g\"},\"Saturated Fat\":{\"measure\":\"2\",\"unit\":\"g\"},\"Unsaturated Fat\":{\"measure\":\"0\",\"unit\":\"g\"},\"Sugar\":{\"measure\":\"24\",\"unit\":\"g\"},\"Sodium\":{\"measure\":\"274\",\"unit\":\"mg\"}},\"food_role\":[\"Beverage\"],\"ingredients\":[{\"name\":\"Ice cubes\",\"quantity\":{\"measure\":\"6\",\"unit\":\"\"}},{\"name\":\"Almond milk\",\"quantity\":{\"measure\":\"1 cup\",\"unit\":\"\"}},{\"name\":\"Banana\",\"quantity\":{\"measure\":\"1\",\"unit\":\"\"}},{\"name\":\"Kale\",\"quantity\":{\"measure\":\"3 leaves\",\"unit\":\"\"}},{\"name\":\"Flax seed meal\",\"quantity\":{\"measure\":\"0.5 cup\",\"unit\":\"\"}},{\"name\":\"Ginger\",\"quantity\":{\"measure\":\"2 tablespoons\",\"unit\":\"chopped\"}},{\"name\":\"Turmeric root\",\"quantity\":{\"measure\":\"2 tablespoons\",\"unit\":\"chopped\"}},{\"name\":\"Almond butter\",\"quantity\":{\"measure\":\"1 tablespoon\",\"unit\":\"\"}},{\"name\":\"Stevia powder\",\"quantity\":{\"measure\":\"0.5 teaspoon\",\"unit\":\"\"}},{\"name\":\"Cayenne pepper\",\"quantity\":{\"measure\":\"0.5 teaspoon\",\"unit\":\"\"}},{\"name\":\"Ground black pepper\",\"quantity\":{\"measure\":\"1/16 teaspoon\",\"unit\":\"\"}}],\"hasDairy\":false,\"hasNuts\":true,\"hasMeat\":false,\"prep_time\":\"5 minutes\",\"cook_time\":\"0 minutes\",\"serves\":null,\"instructions\":[{\"original_text\":\"Blend ice cubes, almond milk, banana, kale, flax seed meal, ginger, turmeric root, almond butter, stevia powder, cayenne pepper, and ground black pepper together in a blender until smooth.\",\"tasks\":[{\"task_name\":\"Blend\",\"conditions\":[],\"tools\":[\"blender\"],\"failure_states\":[]}]}],\"output_condition\":[],\"modality\":{\"image\":[],\"video\":[]}}",
         "{\"recipe_name\":\"Quick Kale and Turmeric Smoothie\",\"macronutrients\":{\"Calories\":{\"measure\":471,\"unit\":\"kcal\"},\"Carbohydrates\":{\"measure\":58,\"unit\":\"g\"},\"Fiber\":{\"measure\":14,\"unit\":\"g\"},\"Protein\":{\"measure\":12,\"unit\":\"g\"},\"Saturated Fat\":{\"measure\":2,\"unit\":\"g\"},\"Sodium\":{\"measure\":274,\"unit\":\"mg\"},\"Sugar\":{\"measure\":24,\"unit\":\"g\"},\"Fat\":{\"measure\":25,\"unit\":\"g\"},\"Unsaturated Fat\":{\"measure\":0,\"unit\":\"g\"}},\"ingredients\":[{\"ingredient\":\"6 ice cubes\"},{\"ingredient\":\"1 cup almond milk\"},{\"ingredient\":\"1 banana\"},{\"ingredient\":\"3 leaves kale, large stems discarded, leaves chopped\"},{\"ingredient\":\"u00bc cup flax seed meal\"},{\"ingredient\":\"2 tablespoons chopped fresh ginger\"},{\"ingredient\":\"2 tablespoons chopped fresh turmeric root\"},{\"ingredient\":\"1 tablespoon almond butter\"},{\"ingredient\":\"u00bc teaspoon stevia powder\"},{\"ingredient\":\"u00bc teaspoon cayenne pepper\"},{\"ingredient\":\"u215b teaspoon ground black pepper\"}],\"prep_time\":5,\"total_time\":5,\"instructions\":[{\"step\":\"Blend ice cubes, almond milk, banana, kale, flax seed meal, ginger, turmeric root, almond butter, stevia powder, cayenne pepper, and ground black pepper together in a blender until smooth.\"}]}"
        ],
        [
         "1",
         "1",
         "{\"recipe_name\":\"cheesy-gordita-crunch-copycat\",\"macronutrients\":{\"Calories\":{\"measure\":456,\"unit\":\"kcal\"}},\"food_role\":[\"Main Course\"],\"ingredients\":[{\"name\":\"ground beef\",\"quantity\":{\"measure\":\"1\",\"unit\":\"lb\"},\"allergies\":{\"id\":\"\",\"category\":[\"meat\"],\"details\":\"Beef\"}}],\"hasDairy\":false,\"hasNuts\":false,\"hasMeat\":true,\"preparation_time\":\"0 minutes\",\"cook_time\":\"0 minutes\",\"serves\":1,\"instructions\":[{\"action\":\"Heat a skillet over medium-high heat.\",\"output_quality\":\"Skillet should be heated properly.\",\"background_knowledge\":{\"tools\":[\"Skillet\"],\"failures\":[]}},{\"action\":\"Add 1 tablespoon of oil to the skillet.\",\"output_quality\":\"Oil should be poured evenly in the skillet.\",\"background_knowledge\":{\"tools\":[\"Olive oil\"],\"failures\":[]}},{\"action\":\"Heat the oil until it becomes slightly shimmering.\",\"output_quality\":\"Oil should be heated to the right temperature.\",\"background_knowledge\":{\"tools\":[],\"failures\":[]}},{\"action\":\"Add the ground beef to the skillet in a single layer.\",\"output_quality\":\"Ground beef should be placed evenly in the skillet.\",\"background_knowledge\":{\"tools\":[\"Bowl\",\"Skillet\"],\"failures\":[\"Undercooked beef\",\"Overcooked beef\"]}},{\"action\":\"Cook for 4-5 minutes on each side, until browned.\",\"output_quality\":\"Beef should be evenly browned.\",\"background_knowledge\":{\"tools\":[\"Skillet\"],\"failures\":[]}},{\"action\":\"Remove the beef from the skillet and place it in a bowl.\",\"output_quality\":\"Beef should be transferred properly.\",\"background_knowledge\":{\"tools\":[\"Bowl\",\"Skillet\"],\"failures\":[]}}],\"output_condition\":[],\"modality\":{\"image\":[],\"video\":[]}}",
         "{\"recipe_name\":\"cheesy-gordita-crunch-copycat\",\"macronutrients\":{\"Calories\":{\"measure\":\"456\",\"unit\":\"kcal\"}},\"food_role\":[\"Main Course\"],\"ingredients\":[{\"name\":\"ground beef\",\"quantity\":{\"measure\":\"1\",\"unit\":\"lb\"},\"allergies\":{\"id\":\"\",\"category\":[\"meat\"],\"ref\":[\"https://www.healthline.com/nutrition/foods/pork\",\"https://www.healthline.com/health/allergies/most-uncommon-food-allergies#red-meat\"],\"details\":\"\"},\"alternative\":\"\",\"quality_characteristic\":\"\",\"image\":\"https://example.com/ground_beef_image.jpg\"}],\"hasDairy\":true,\"hasMeat\":true,\"hasNuts\":false,\"prep_time\":\"10 minutes\",\"cook_time\":\"20 minutes\",\"serves\":6,\"instructions\":[{\"original_text\":\"Heat a skillet over medium-high heat. Add olive oil and swirl to coat the pan. Add the ground beef and break apart. Once halfway cooked, stir in the taco seasoning. Remove from heat and place into a bowl.\",\"input_condition\":[\"oven_preheated\",\"have_olive_oil\",\"have_ground_beef\",\"have_chilli_powder\",\"have_cumin\",\"have_smoked_paprika\",\"have_coriander\",\"have_garlic_powder\",\"have_minced_onion\",\"have_sugar\"],\"tasks\":[{\"action_name\":\"Heat skillet\",\"output_quality\":[\"Pan should be over medium-high heat.\"],\"background_knowledge\":{\"tool\":[\"Skillet\"],\"failure\":[]}},{\"action_name\":\"Add olive oil and swirl\",\"output_quality\":[\"Coat the pan evenly.\"],\"background_knowledge\":{\"tool\":[\"Olive oil\"],\"failure\":[]}},{\"action_name\":\"Add ground beef\",\"output_quality\":[\"Break apart the beef.\"],\"background_knowledge\":{\"tool\":[],\"failure\":[\"Overcooking beef\",\"Undercooking beef\"]}},{\"action_name\":\"Stir in taco seasoning\",\"output_quality\":[\"Ensure even distribution of seasoning\"],\"background_knowledge\":{\"tool\":[],\"failure\":[\"Spices not evenly mixed\"]}},{\"action_name\":\"Remove from heat\",\"output_quality\":[\"Beef should be halfway cooked.\"],\"background_knowledge\":{\"tool\":[],\"failure\":[\"Overcooking beef\",\"Undercooking beef\"]}},{\"action_name\":\"Place into a bowl\",\"output_quality\":[],\"background_knowledge\":{\"tool\":[\"Bowl\"],\"failure\":[]}}],\"output_condition\":[\"have_cooked_beef\"],\"modality\":{\"image\":[],\"video\":\"\"}}]}",
         "{\"recipe_name\":\"Chocolate Chip Cookies\",\"macronutrients\":{\"Calories\":{\"measure\":437,\"unit\":\"kcal\"},\"Fat\":{\"measure\":21.5,\"unit\":\"g\"},\"Saturated Fat\":{\"measure\":8.5,\"unit\":\"g\"},\"Trans Fat\":{\"measure\":0,\"unit\":\"g\"},\"Cholesterol\":{\"measure\":43,\"unit\":\"mg\"},\"Carbohydrates\":{\"measure\":61,\"unit\":\"g\"},\"Fiber\":{\"measure\":2.5,\"unit\":\"g\"},\"Sugar\":{\"measure\":39,\"unit\":\"g\"},\"Protein\":{\"measure\":5.8,\"unit\":\"g\"}},\"food_role\":[\"Dessert\"],\"ingredients\":[{\"name\":\"all-purpose flour\",\"quantity\":{\"measure\":2,\"unit\":\"cups\"},\"unit\":\"\"},{\"name\":\"baking soda\",\"quantity\":{\"measure\":1,\"unit\":\"tsp\"},\"unit\":\"\"},{\"name\":\"salt\",\"quantity\":{\"measure\":0.5,\"unit\":\"tsp\"},\"unit\":\"\"},{\"name\":\"unsalted butter\",\"quantity\":{\"measure\":0.5,\"unit\":\"cup\"},\"unit\":\"softened\"},{\"name\":\"granulated sugar\",\"quantity\":{\"measure\":0.25,\"unit\":\"cup\"},\"unit\":\"\"},{\"name\":\"light brown sugar\",\"quantity\":{\"measure\":0.25,\"unit\":\"cup\"},\"unit\":\"packed\"},{\"name\":\"eggs\",\"quantity\":{\"measure\":2,\"unit\":\"\"},\"unit\":\"\"},{\"name\":\"vanilla extract\",\"quantity\":{\"measure\":1,\"unit\":\"tsp\"},\"unit\":\"\"},{\"name\":\"semisweet chocolate chips\",\"quantity\":{\"measure\":2,\"unit\":\"cups\"},\"unit\":\"\"}],\"instructions\":[{\"steps\":[{\"action_name\":\"Preheat oven to 375\\u00b0F\",\"output_quality\":\"\",\"background_knowledge\":{\"tool\":[\"Oven\"],\"failure\":[]}},{\"action_name\":\"Line a baking sheet with parchment paper\",\"output_quality\":\"\",\"background_knowledge\":{\"tool\":[\"Baking sheet\",\"Parchment paper\"],\"failure\":[]}},{\"action_name\":\"In a medium bowl, whisk together flour, baking soda, and salt\",\"output_quality\":\"\",\"background_knowledge\":{\"tool\":[\"Medium bowl\",\"Whisk\"],\"failure\":[]}},{\"action_name\":\"In a large bowl, beat butter and sugars until light and fluffy\",\"output_quality\":\"\",\"background_knowledge\":{\"tool\":[\"Large bowl\",\"Electric mixer\"],\"failure\":[]}},{\"action_name\":\"Beat in eggs, one at a time\",\"output_quality\":\"\",\"background_knowledge\":{\"tool\":[\"Large bowl\",\"Electric mixer\"],\"failure\":[]}},{\"action_name\":\"Stir in vanilla extract\",\"output_quality\":\"\",\"background_knowledge\":{\"tool\":[],\"failure\":[]}},{\"action_name\":\"Gradually add flour mixture to butter mixture, beating until just combined\",\"output_quality\":\"\",\"background_knowledge\":{\"tool\":[\"Large bowl\",\"Electric mixer\"],\"failure\":[]}},{\"action_name\":\"Stir in chocolate chips\",\"output_quality\":\"\",\"background_knowledge\":{\"tool\":[],\"failure\":[]}},{\"action_name\":\"Drop rounded tablespoons of dough onto prepared baking sheet, spacing about 2 inches apart\",\"output_quality\":\"\",\"background_knowledge\":{\"tool\":[\"Baking sheet\"],\"failure\":[]}},{\"action_name\":\"Bake for 10 to 12 minutes, until edges are golden brown\",\"output_quality\":\"\",\"background_knowledge\":{\"tool\":[\"Oven\"],\"failure\":[]}},{\"action_name\":\"Cool on baking sheet for 5 minutes, then transfer to wire rack to cool completely\",\"output_quality\":\"\",\"background_knowledge\":{\"tool\":[\"Baking sheet\",\"Wire rack\"],\"failure\":[]}}]}],\"output_condition\":\"\",\"modality\":{\"image\":[\"https://example.com/chocolate-chip-cookies1.jpg\",\"https://example.com/chocolate-chip-cookies2.jpg\"],\"video\":\"\"}}"
        ],
        [
         "2",
         "2",
         "{\"recipe_name\":\"Poached Salmon with Alfredo Sauce\",\"macronutrients\":{\"Calories\":{\"measure\":\"1120\",\"unit\":\"kcal\"},\"CarbohydrateContent\":{\"measure\":\"82\",\"unit\":\"g\"},\"CholesterolContent\":{\"measure\":\"273\",\"unit\":\"mg\"},\"FiberContent\":{\"measure\":\"5\",\"unit\":\"g\"},\"ProteinContent\":{\"measure\":\"55\",\"unit\":\"g\"},\"SaturatedFatContent\":{\"measure\":\"27\",\"unit\":\"g\"},\"SodiumContent\":{\"measure\":\"770\",\"unit\":\"mg\"},\"SugarContent\":{\"measure\":\"5\",\"unit\":\"g\"},\"fatContent\":{\"measure\":\"58\",\"unit\":\"g\"},\"unsaturatedFatContent\":{\"measure\":\"0\",\"unit\":\"g\"}},\"food_role\":[\"Main Course\"],\"ingredients\":[{\"name\":\"1 (10 ounce) package BUITONIu00ae refrigerated Alfredo Sauce, warmed\",\"quantity\":\"u00bd\",\"unit\":\"cup\",\"description\":\"water\"},{\"name\":\"u00bc cup dry white wine, or chicken broth\",\"quantity\":\"u00bc\",\"unit\":\"cup\",\"description\":\"wine or broth\"},{\"name\":\"2 (6 ounce) salmon fillets or steaks\",\"quantity\":\"2\",\"unit\":\"fillets/steaks\",\"description\":\"salmon\"},{\"name\":\"1 (9 ounce) package BUITONIu00ae refrigerated Linguine\",\"quantity\":\"1\",\"unit\":\"package\",\"description\":\"pasta\"},{\"name\":\"2 tablespoons finely grated carrot\",\"quantity\":\"2\",\"unit\":\"tablespoons\",\"description\":\"carrot\"},{\"name\":\"1 tablespoon chopped fresh parsley\",\"quantity\":\"1\",\"unit\":\"tablespoon\",\"description\":\"parsley\"},{\"name\":\"1 tablespoon fresh dill\",\"quantity\":\"1\",\"unit\":\"tablespoon\",\"description\":\"dill\"}],\"cook_time\":15,\"prep_time\":10,\"total_time\":25,\"has_dairy\":true,\"has_nuts\":false,\"has_meat\":false,\"instructions_list\":[{\"original_text\":\"BOIL water and wine in a large skillet; add salmon. Reduce heat to low; cover. Cook for 8 to 10 minutes or until thickest part of salmon flakes easily when tested with a fork.\",\"input_conditions\":[\"have_large_skillet\",\"have_water\",\"have_wine_or_chicken_broth\"],\"tasks\":[{\"action\":\"BOIL water and wine in a large skillet\",\"tools_used\":[\"large_skillet\"],\"failures\":[]},{\"action\":\"Add salmon to the boiled mixture\",\"tools_used\":[],\"failures\":[]},{\"action\":\"Reduce heat to low; cover\",\"tools_used\":[],\"failures\":[]},{\"action\":\"Cook for 8 to 10 minutes or until thickest part of salmon flakes easily when tested with a fork\",\"tools_used\":[],\"failures\":[\"undercook_salmon\",\"overcook_salmon\"]}],\"output_condition\":[\"have_cooked_salmon\"]},{\"original_text\":\"PREPARE pasta according to package directions. Toss pasta with carrot and parsley; divide among plates. Top with salmon. Spoon sauce over each serving; garnish with dill. Season with salt and ground black pepper.\",\"input_conditions\":[\"have_pasta\",\"have_alfredo_sauce\"],\"tasks\":[{\"action\":\"Prepare pasta according to package directions\",\"tools_used\":[\"pasta_pot_or_skillet\"],\"failures\":[]},{\"action\":\"Toss pasta with carrot and parsley\",\"tools_used\":[],\"failures\":[\"carrot_not_chopped\",\"parsley_not_available\"]},{\"action\":\"Divide among plates\",\"tools_used\":[],\"failures\":[]},{\"action\":\"Top with salmon\",\"tools_used\":[],\"failures\":[\"salmon_notavailable\"]},{\"action\":\"Spoon sauce over each serving; garnish with dill\",\"tools_used\":[\"spoon\",\"garnish_container\"],\"failures\":[]},{\"action\":\"Season with salt and ground black pepper\",\"tools_used\":[],\"failures\":[]}],\"output_condition\":[\"have_pasta_ready\"]}]}",
         "{\"recipe_name\":\"Poached Salmon with Alfredo Sauce\",\"macronutrients\":{\"Calories\":{\"measure\":1120,\"unit\":\"kcal\"},\"Carbohydrates\":{\"measure\":82,\"unit\":\"g\"},\"Cholesterol\":{\"measure\":273,\"unit\":\"mg\"},\"Fiber\":{\"measure\":5,\"unit\":\"g\"},\"Protein\":{\"measure\":55,\"unit\":\"g\"},\"Saturated Fat\":{\"measure\":27,\"unit\":\"g\"},\"Sodium\":{\"measure\":770,\"unit\":\"mg\"},\"Sugar\":{\"measure\":5,\"unit\":\"g\"},\"Fat\":{\"measure\":58,\"unit\":\"g\"}},\"food_role\":[\"Main Course\"],\"ingredients\":[{\"name\":\"1 (10 ounce) package BUITONI refrigerated Alfredo Sauce\",\"quantity\":{\"measure\":\"1\",\"unit\":\"\"},\"allergies\":{}},{\"name\":\"u00bd cup water\",\"quantity\":{\"measure\":0.5,\"unit\":\"cup\"},\"allergies\":{}},{\"name\":\"u00bc cup dry white wine, or chicken broth\",\"quantity\":{\"measure\":0.75,\"unit\":\"cup\"},\"allergies\":{}},{\"name\":\"2 (6 ounce) salmon fillets or steaks\",\"quantity\":{\"measure\":\"2\",\"unit\":\"\"},\"allergies\":{}},{\"name\":\"1 (9 ounce) package BUITONI refrigerated Linguine\",\"quantity\":{\"measure\":\"1\",\"unit\":\"\"},\"allergies\":{}},{\"name\":\"2 tablespoons finely grated carrot\",\"quantity\":{\"measure\":2,\"unit\":\"tbsp\"},\"allergies\":{}},{\"name\":\"1 tablespoon chopped fresh parsley\",\"quantity\":{\"measure\":1,\"unit\":\"tbsp\"},\"allergies\":{}},{\"name\":\"1 tablespoon fresh dill\",\"quantity\":{\"measure\":1,\"unit\":\"tbsp\"},\"allergies\":{}}],\"cook_time\":15,\"prep_time\":10,\"nutrients\":{\"calories\":\"1120 kcal\",\"carbohydrateContent\":\"82 g\",\"cholesterolContent\":\"273 mg\",\"fiberContent\":\"5 g\",\"proteinContent\":\"55 g\",\"saturatedFatContent\":\"27 g\",\"sodiumContent\":\"770 mg\",\"sugarContent\":\"5 g\",\"fatContent\":\"58 g\",\"unsaturatedFatContent\":\"0 g\"},\"instructions\":[{\"instruction\":\"BOIL water and wine in a large skillet; add salmon. Reduce heat to low; cover. Cook for 8 to 10 minutes or until thickest part of salmon flakes easily when tested with a fork.\",\"tasks\":[{\"task\":\"BOIL water and wine in a large skillet\",\"tools\":[\"skillet\"],\"conditions\":[\"boiled\"]},{\"task\":\"add salmon\",\"tools\":[\"skillet\"],\"conditions\":[\"salmon added\"]},{\"task\":\"Reduce heat to low; cover\",\"tools\":[\"skillet\"],\"conditions\":[\"heat reduced\",\"covered\"]},{\"task\":\"Cook for 8 to 10 minutes or until thickest part of salmon flakes easily when tested with a fork.\",\"tools\":[\"skillet\"],\"conditions\":[\"cooked\"]}]},{\"instruction\":\"PREPARE pasta according to package directions. Toss pasta with carrot and parsley; divide among plates. Top with salmon. Spoon sauce over each serving; garnish with dill. Season with salt and ground black pepper.\",\"tasks\":[{\"task\":\"PREPARE pasta according to package directions\",\"tools\":[\"package\"],\"conditions\":[\"prepared\"]},{\"task\":\"Toss pasta with carrot and parsley; divide among plates\",\"tools\":[\"plates\"],\"conditions\":[\"tossed\",\"divided\"]},{\"task\":\"Top with salmon\",\"tools\":[\"plates\",\"salmon\"],\"conditions\":[\"topped\"]},{\"task\":\"Spoon sauce over each serving\",\"tools\":[\"sauce\",\"plates\"],\"conditions\":[\"served\"]},{\"task\":\"Garnish with dill\",\"tools\":[\"dill\",\"plates\"],\"conditions\":[\"garnished\"]},{\"task\":\"Season with salt and ground black pepper\",\"tools\":[\"salt\",\"pepper\",\"plates\"],\"conditions\":[\"seasoned\"]}]}],\"output_condition\":[\"cooked\"]}",
         "{\"recipe_name\":\"Poached Salmon with Alfredo Sauce\",\"macronutrients\":{\"Calories\":{\"measure\":1120,\"unit\":\"kcal\"},\"Carbohydrates\":{\"measure\":82,\"unit\":\"g\"},\"Cholesterol\":{\"measure\":273,\"unit\":\"mg\"},\"Fiber\":{\"measure\":5,\"unit\":\"g\"},\"Protein\":{\"measure\":55,\"unit\":\"g\"},\"Saturated Fat\":{\"measure\":27,\"unit\":\"g\"},\"Sodium\":{\"measure\":770,\"unit\":\"mg\"},\"Sugar\":{\"measure\":5,\"unit\":\"g\"},\"Fat\":{\"measure\":58,\"unit\":\"g\"}},\"ingredients\":[{\"ingredient\":\"BUITONI\\u00ae refrigerated Alfredo Sauce\",\"amount\":\"1 (10 ounce) package\",\"notes\":\"warmed\"},{\"ingredient\":\"water\",\"amount\":\"u00bd cup\"},{\"ingredient\":\"dry white wine or chicken broth\",\"amount\":\"u00bc cup\"},{\"ingredient\":\"salmon fillets or steaks\",\"amount\":\"2 (6 ounce)\",\"notes\":\"\"},{\"ingredient\":\"BUITONI\\u00ae refrigerated Linguine\",\"amount\":\"1 (9 ounce) package\",\"notes\":\"\"},{\"ingredient\":\"finely grated carrot\",\"amount\":\"2 tablespoons\"},{\"ingredient\":\"chopped fresh parsley\",\"amount\":\"1 tablespoon\"},{\"ingredient\":\"fresh dill\",\"amount\":\"1 tablespoon\"}],\"cook_time\":15,\"prep_time\":10,\"instructions\":[{\"step\":1,\"instruction\":\"BOIL water and wine in a large skillet; add salmon. Reduce heat to low; cover. Cook for 8 to 10 minutes or until thickest part of salmon flakes easily when tested with a fork.\"},{\"step\":2,\"instruction\":\"PREPARE pasta according to package directions. Toss pasta with carrot and parsley; divide among plates. Top with salmon. Spoon sauce over each serving; garnish with dill. Season with salt and ground black pepper.\"}]}"
        ],
        [
         "3",
         "3",
         "{\"recipe_name\":\"Beef and Barley Soup I\",\"food_role\":[\"Main Course\"],\"ingredients\":[{\"name\":\"2 beef soup bones\",\"quantity\":{\"measure\":\"2\",\"unit\":\"beef soup bones\"}},{\"name\":\"2 tablespoons kosher salt\",\"quantity\":{\"measure\":\"2\",\"unit\":\"tablespoons\"}},{\"name\":\"5 stalks celery\",\"quantity\":{\"measure\":\"5\",\"unit\":\"stalks\"}},{\"name\":\"1 onion, quartered\",\"quantity\":{\"measure\":\"1\",\"unit\":\"onion\"}},{\"name\":\"u00bd teaspoon ground black pepper\",\"quantity\":{\"measure\":\"0.5\",\"unit\":\"teaspoon\"}},{\"name\":\"2 'bouqet garni' spice balls\",\"quantity\":{\"measure\":\"2\",\"unit\":\"'bouqet garni' spice balls\"}},{\"name\":\"u00bd pound baby carrots\",\"quantity\":{\"measure\":\"0.5\",\"unit\":\"pound\"}},{\"name\":\"u00bc cup fresh parsley\",\"quantity\":{\"measure\":\"0.25\",\"unit\":\"cup\"}},{\"name\":\"11 cloves garlic, peeled\",\"quantity\":{\"measure\":\"11\",\"unit\":\"cloves\"}},{\"name\":\"1 cup barley\",\"quantity\":{\"measure\":\"1\",\"unit\":\"cup\"}}],\"cook_time\":\"480 minutes\",\"prep_time\":\"20 minutes\",\"title\":\"Beef and Barley Soup I\",\"total_time\":\"500 minutes\",\"nutrients\":{\"calories\":\"58 kcal\",\"carbohydrateContent\":\"12 g\",\"fiberContent\":\"4 g\",\"proteinContent\":\"2 g\",\"saturatedFatContent\":\"0 g\",\"sodiumContent\":\"744 mg\",\"sugarContent\":\"1 g\",\"fatContent\":\"0 g\",\"unsaturatedFatContent\":\"0 g\"},\"instructions_list\":[{\"text\":\"Place beef bones in a large size slow cooker. Add salt, celery stalks, onion, bouquets garnis, pepper, carrots, parsley and garlic.\",\"steps\":[{\"action\":\"Place beef bones\",\"input_condition\":[],\"tools_used\":[\"slow cooker\"],\"failure_states\":[]},{\"action\":\"Add salt\",\"input_condition\":[],\"tools_used\":[\"slow cooker\"],\"failure_states\":[]},{\"action\":\"Add celery stalks\",\"input_condition\":[],\"tools_used\":[\"slow cooker\"],\"failure_states\":[]},{\"action\":\"Add onion, bouquets garnis, pepper, carrots, parsley and garlic\",\"input_condition\":[],\"tools_used\":[\"slow cooker\"],\"failure_states\":[]}]},{\"text\":\"Fill slow cooker within 2 inches of the top with hot water and cook for 6 hours, covered on high heat, stirring occasionally.\",\"steps\":[{\"action\":\"Fill slow cooker\",\"input_condition\":[\"hot water\"],\"tools_used\":[\"slow cooker\"],\"failure_states\":[]},{\"action\":\"Cook for 6 hours\",\"input_condition\":[],\"tools_used\":[\"slow cooker\"],\"failure_states\":[]},{\"action\":\"Stir occasionally\",\"input_condition\":[],\"tools_used\":[\"slow cooker\"],\"failure_states\":[]}]},{\"text\":\"Add barley and cook for 20 minutes.\",\"steps\":[{\"action\":\"Add barley\",\"input_condition\":[],\"tools_used\":[\"slow cooker\"],\"failure_states\":[]},{\"action\":\"Cook for 20 minutes\",\"input_condition\":[],\"tools_used\":[\"slow cooker\"],\"failure_states\":[]}]},{\"text\":\"Serve and enjoy.\",\"steps\":[{\"action\":\"Serve\",\"input_condition\":[],\"tools_used\":[],\"failure_states\":[]},{\"action\":\"Enjoy\",\"input_condition\":[],\"tools_used\":[],\"failure_states\":[]}]}]}",
         "{\"recipe_name\":\"Beef and Barley Soup I\",\"macronutrients\":{\"Calories\":{\"measure\":58,\"unit\":\"kcal\"},\"Carbohydrates\":{\"measure\":12,\"unit\":\"g\"},\"Fiber\":{\"measure\":4,\"unit\":\"g\"},\"Protein\":{\"measure\":2,\"unit\":\"g\"},\"Saturated Fat\":{\"measure\":0,\"unit\":\"g\"},\"Niacin Equivalent\":{\"measure\":1.8,\"unit\":\"mg\"}},\"food_role\":[],\"ingredients\":[{\"name\":\"beef soup bones\",\"quantity\":{\"measure\":2,\"unit\":\"\"},\"allergies\":{},\"alternative\":\"\",\"quality_characteristic\":\"\",\"image\":\"\"},{\"name\":\"kosher salt\",\"quantity\":{\"measure\":2,\"unit\":\"tbsp\"},\"allergies\":{},\"alternative\":\"\",\"quality_characteristic\":\"\",\"image\":\"\"},{\"name\":\"celery\",\"quantity\":{\"measure\":5,\"unit\":\"\"},\"allergies\":{},\"alternative\":\"\",\"quality_characteristic\":\"\",\"image\":\"\"},{\"name\":\"onion\",\"quantity\":{\"measure\":1,\"unit\":\"\"},\"allergies\":{},\"alternative\":\"\",\"quality_characteristic\":\"\",\"image\":\"\"},{\"name\":\"bouquets garnis\",\"quantity\":{\"measure\":2,\"unit\":\"'\"},\"allergies\":{},\"alternative\":\"\",\"quality_characteristic\":\"\",\"image\":\"\"},{\"name\":\"black pepper\",\"quantity\":{\"measure\":0.5,\"unit\":\"tsp\"},\"allergies\":{},\"alternative\":\"\",\"quality_characteristic\":\"\",\"image\":\"\"},{\"name\":\"baby carrots\",\"quantity\":{\"measure\":0.25,\"unit\":\"\"},\"allergies\":{},\"alternative\":\"\",\"quality_characteristic\":\"\",\"image\":\"\"},{\"name\":\"fresh parsley\",\"quantity\":{\"measure\":0.25,\"unit\":\"cup\"},\"allergies\":{},\"alternative\":\"\",\"quality_characteristic\":\"\",\"image\":\"\"},{\"name\":\"garlic\",\"quantity\":{\"measure\":11,\"unit\":\"\"},\"allergies\":{},\"alternative\":\"\",\"quality_characteristic\":\"\",\"image\":\"\"},{\"name\":\"barley\",\"quantity\":{\"measure\":0.25,\"unit\":\"cup\"},\"allergies\":{},\"alternative\":\"\",\"quality_characteristic\":\"\",\"image\":\"\"}],\"cook_time\":480,\"prep_time\":20,\"nutrients\":{\"calories\":\"58 kcal\",\"carbohydrateContent\":\"12 g\",\"fiberContent\":\"4 g\",\"proteinContent\":\"2 g\",\"saturatedFatContent\":\"0 g\",\"sodiumContent\":\"744 mg\",\"sugarContent\":\"1 g\",\"fatContent\":\"0 g\",\"unsaturatedFatContent\":\"0 g\"},\"instructions\":[{\"text\":\"Place beef bones in a large size slow cooker. Add salt, celery stalks, onion, bouquets garnis, pepper, carrots, parsley and garlic.\",\"tasks\":[]},{\"text\":\"Fill slow cooker within 2 inches of the top with hot water and cook for 6 hours, covered on high heat, stirring occasionally.\",\"tasks\":[]},{\"text\":\"Add barley and cook for 2 more hours stirring occasionally or until meat can easily be removed from bones.\",\"tasks\":[]},{\"text\":\"Remove and discard onion, bouquets garnis, celery, and parsley.\",\"tasks\":[]},{\"text\":\"Transfer bones to a dish and remove meat from bones, being careful not to take off cartilage or gristle.\",\"tasks\":[]},{\"text\":\"Place meat back into soup, stir, and serve.\",\"tasks\":[]}]}",
         "{\"recipe_name\":\"Beef and Barley Soup I\",\"macronutrients\":{\"Calories\":{\"measure\":\"58\",\"unit\":\"kcal\"},\"Carbohydrates\":{\"measure\":\"12\",\"unit\":\"g\"},\"Fiber\":{\"measure\":\"4\",\"unit\":\"g\"},\"Protein\":{\"measure\":\"2\",\"unit\":\"g\"},\"Saturated Fat\":{\"measure\":\"0\",\"unit\":\"g\"},\"Sodium\":{\"measure\":\"744\",\"unit\":\"mg\"},\"Sugars\":{\"measure\":\"1\",\"unit\":\"g\"},\"Fat\":{\"measure\":\"0\",\"unit\":\"g\"},\"Unsaturated Fat\":{\"measure\":\"0\",\"unit\":\"g\"}},\"cook_time\":480,\"prep_time\":20,\"total_time\":500,\"servings\":1,\"instructions\":[{\"step\":1,\"text\":\"Place beef bones in a large size slow cooker. Add salt, celery stalks, onion, bouquets garnis, pepper, carrots, parsley and garlic.\"},{\"step\":2,\"text\":\"Fill slow cooker within 2 inches of the top with hot water and cook for 6 hours, covered on high heat, stirring occasionally.\"},{\"step\":3,\"text\":\"Add barley and cook for 2 more hours stirring occasionally or until meat can easily be removed from bones.\"},{\"step\":4,\"text\":\"Remove and discard onion, bouquets garnis, celery, and parsley.\"},{\"step\":5,\"text\":\"Transfer bones to a dish and remove meat from bones, being careful not to take off cartilage or gristle. Place meat back into soup, stir, and serve.\"}],\"ingredients\":[{\"name\":\"beef soup bones\",\"quantity\":2,\"unit\":\"\"},{\"name\":\"kosher salt\",\"quantity\":2,\"unit\":\"tablespoons\"},{\"name\":\"celery stalks\",\"quantity\":5,\"unit\":\"\"},{\"name\":\"onion\",\"quantity\":1,\"unit\":\"quartered\"},{\"name\":\"ground black pepper\",\"quantity\":0.5,\"unit\":\"teaspoon\"},{\"name\":\"bouquet garni spice balls\",\"quantity\":2,\"unit\":\"\"},{\"name\":\"baby carrots\",\"quantity\":0.5,\"unit\":\"pound\"},{\"name\":\"fresh parsley\",\"quantity\":0.25,\"unit\":\"cup\"},{\"name\":\"garlic cloves\",\"quantity\":11,\"unit\":\"\"},{\"name\":\"barley\",\"quantity\":1,\"unit\":\"cup\"}]}"
        ],
        [
         "4",
         "4",
         "{\"recipe\":{\"@type\":\"Recipe\",\"title\":\"Apple Crunch Pie with Vanilla Sauce\",\"description\":\"A classic apple pie with a streusel topping and vanilla sauce.\",\"prep_time\":25,\"cook_time\":50,\"total_time\":135,\"instructions_list\":[{\"@type\":\"Instruction\",\"action\":\"Preheat oven to 400 degrees F (200 degrees C.)\"},{\"@type\":\"Instruction\",\"action\":\"In a large bowl, mix together 1/2 cup white sugar, 1/2 cup brown sugar, 2 tablespoons all-purpose flour and 1/2 teaspoon ground cinnamon.\"},{\"@type\":\"Instruction\",\"action\":\"Stir in sliced apples until coated with sugar mixture. Stir in 1 cup cinnamon chips.\"},{\"@type\":\"Instruction\",\"action\":\"Pour filling into prepared pie crust, and dot with 3 tablespoons butter.\"},{\"@type\":\"Instruction\",\"action\":\"To make streusel topping: mix together 3/4 cup all-purpose flour and 3/4 cup brown sugar in a mixing bowl. Cut in 6 tablespoons butter until mixture resembles coarse crumbs. Stir in remaining 2/3 cup cinnamon chips.\"},{\"@type\":\"Instruction\",\"action\":\"Sprinkle streusel topping over apple filling.\"},{\"@type\":\"Instruction\",\"action\":\"Bake in preheated oven for 10 minutes, then reduce heat to 350 degrees F (175 degrees C) and continue baking for until filling is bubbling and streusel is golden brown, 35 to 40 minutes more.\"},{\"@type\":\"Instruction\",\"action\":\"Allow to cool for at least 1 hour before serving.\"},{\"@type\":\"Instruction\",\"action\":\"While the pie is cooling, prepare the vanilla sauce. In the top of a double boiler over medium heat, whisk together eggs, half-and-half and 1/2 cup sugar. Cook, stirring constantly, until sauce has thickened. Remove from heat, and stir in vanilla.\"},{\"@type\":\"Instruction\",\"action\":\"Spoon sauce (warm or cooled) over slices of pie.\"}],\"ingredients_list\":[{\"@type\":\"Ingredient\",\"name\":\"1 (9 inch) unbaked pie crust\",\"quantity\":1,\"unit\":\"pie crust\"},{\"@type\":\"Ingredient\",\"name\":\"1/2 cup white sugar\",\"quantity\":0.5,\"unit\":\"cup\"},{\"@type\":\"Ingredient\",\"name\":\"1/2 cup brown sugar\",\"quantity\":0.5,\"unit\":\"cup\"},{\"@type\":\"Ingredient\",\"name\":\"2 tablespoons all-purpose flour\",\"quantity\":2,\"unit\":\"tablespoons\"},{\"@type\":\"Ingredient\",\"name\":\"1/2 teaspoon ground cinnamon\",\"quantity\":0.5,\"unit\":\"teaspoon\"},{\"@type\":\"Ingredient\",\"name\":\"5 cups Granny Smith apples\",\"quantity\":5,\"unit\":\"cups\"},{\"@type\":\"Ingredient\",\"name\":\"1 cup cinnamon chips\",\"quantity\":1,\"unit\":\"cup\"},{\"@type\":\"Ingredient\",\"name\":\"3 tablespoons unsalted butter\",\"quantity\":3,\"unit\":\"tablespoons\"},{\"@type\":\"Ingredient\",\"name\":\"6 tablespoons unsalted butter\",\"quantity\":6,\"unit\":\"tablespoons\"},{\"@type\":\"Ingredient\",\"name\":\"2/3 cup cinnamon chips\",\"quantity\":0.666,\"unit\":\"cup\"},{\"@type\":\"Ingredient\",\"name\":\"1 teaspoon pure vanilla extract\",\"quantity\":1,\"unit\":\"teaspoon\"}],\"nutrients\":{\"@type\":\"Nutrition\",\"calories\":400,\"carbohydrates\":65,\"protein\":4,\"fat\":18,\"sugar\":80,\"fiber\":5},\"_servings\":\"8\",\"prep_time_unit\":\"minute\",\"cook_time_unit\":\"minute\",\"total_time_unit\":\"minute\",\"isVegetarian\":true,\"isGlutenFree\":false,\"isDairyFree\":false}}",
         "{\"recipe_name\":\"Apple Crunch Pie with Vanilla Sauce\",\"macronutrients\":{\"Calories\":{\"measure\":\"881\",\"unit\":\"kcal\"},\"Carbohydrates\":{\"measure\":\"123g\",\"unit\":\"g\"},\"Fat\":{\"measure\":\"40g\",\"unit\":\"g\"},\"Fiber\":{\"measure\":\"3g\",\"unit\":\"g\"},\"Protein\":{\"measure\":\"10g\",\"unit\":\"g\"}},\"food_role\":[\"Dessert\"],\"ingredients\":[{\"name\":\"1 (9 inch) unbaked pie crust\",\"quantity\":{\"measure\":null,\"unit\":null},\"allergies\":{\"id\":\"\",\"category\":[],\"ref\":[],\"details\":\"\"},\"alternative\":\"\",\"quality_characteristic\":\"\",\"image\":null},{\"name\":\"u00bd cup white sugar\",\"quantity\":{\"measure\":null,\"unit\":null},\"allergies\":{\"id\":\"\",\"category\":[],\"ref\":[],\"details\":\"\"},\"alternative\":\"\",\"quality_characteristic\":\"\",\"image\":null},{\"name\":\"u00bd cup brown sugar\",\"quantity\":{\"measure\":null,\"unit\":null},\"allerges\":{\"id\":\"\",\"category\":[],\"ref\":[],\"details\":\"\"},\"alternative\":\"\",\"quality_characteristic\":\"\",\"image\":null},{\"name\":\"2 tablespoons all-purpose flour\",\"quantity\":{\"measure\":null,\"unit\":null},\"allergies\":{\"id\":\"\",\"category\":[],\"ref\":[],\"details\":\"\"},\"alternative\":\"\",\"quality_characteristic\":\"\",\"image\":null},{\"name\":\"u00bd teaspoon ground cinnamon\",\"quantity\":{\"measure\":null,\"unit\":null},\"allergies\":{\"id\":\"\",\"category\":[],\"ref\":[],\"details\":\"\"},\"alternative\":\"\",\"quality_characteristic\":\"\",\"image\":null},{\"name\":\"5 cups Granny Smith apples - peeled, cored and sliced\",\"quantity\":{\"measure\":null,\"unit\":null},\"allergies\":{\"id\":\"\",\"category\":[],\"ref\":[],\"details\":\"\"},\"alternative\":\"\",\"quality_characteristic\":\"\",\"image\":null},{\"name\":\"1 cup cinnamon chips (such as Hershey'su00ae)\",\"quantity\":{\"measure\":null,\"unit\":null},\"allergies\":{\"id\":\"\",\"category\":[],\"ref\":[],\"details\":\"\"},\"alternative\":\"\",\"quality_characteristic\":\"\",\"image\":null},{\"name\":\"3 tablespoons butter\",\"quantity\":{\"measure\":null,\"unit\":null},\"allergies\":{\"id\":\"\",\"category\":[],\"ref\":[],\"details\":\"\"},\"alternative\":\"\",\"quality_characteristic\":\"\",\"image\":null},{\"name\":\"u00be cup all-purpose flour\",\"quantity\":{\"measure\":null,\"unit\":null},\"allergies\":{\"id\":\"\",\"category\":[],\"ref\":[],\"details\":\"\"},\"alternative\":\"\",\"quality_characteristic\":\"\",\"image\":null},{\"name\":\"u00be cup brown sugar\",\"quantity\":{\"measure\":null,\"unit\":null},\"allergies\":{\"id\":\"\",\"category\":[],\"ref\":[],\"details\":\"\"},\"alternative\":\"\",\"quality_characteristic\":\"\",\"image\":null},{\"name\":\"6 tablespoons butter\",\"quantity\":{\"measure\":null,\"unit\":null},\"allergies\":{\"id\":\"\",\"category\":[],\"ref\":[],\"details\":\"\"},\"alternative\":\"\",\"quality_characteristic\":\"\",\"image\":null},{\"name\":\"u2154 cup cinnamon chips\",\"quantity\":{\"measure\":null,\"unit\":null},\"allergies\":{\"id\":\"\",\"category\":[],\"ref\":[],\"details\":\"\"},\"alternative\":\"\",\"quality_characteristic\":\"\",\"image\":null},{\"name\":\"2 eggs\",\"quantity\":{\"measure\":null,\"unit\":null},\"allergies\":{\"id\":\"\",\"category\":[],\"ref\":[],\"details\":\"\"},\"alternative\":\"\",\"quality_characteristic\":\"\",\"image\":null},{\"name\":\"1 cup half-and-half cream\",\"quantity\":{\"measure\":null,\"unit\":null},\"allergies\":{\"id\":\"\",\"category\":[],\"ref\":[],\"details\":\"\"},\"alternative\":\"\",\"quality_characteristic\":\"\",\"image\":null},{\"name\":\"u00bd cup white sugar\",\"quantity\":{\"measure\":null,\"unit\":null},\"allergies\":{\"id\":\"\",\"category\":[],\"ref\":[],\"details\":\"\"},\"alternative\":\"\",\"quality_characteristic\":\"\",\"image\":null},{\"name\":\"1 teaspoon vanilla extract\",\"quantity\":{\"measure\":null,\"unit\":null},\"allergies\":{\"id\":\"\",\"category\":[],\"ref\":[],\"details\":\"\"},\"alternative\":\"\",\"quality_characteristic\":\"\",\"image\":null}],\"cook_time\":50,\"nutrients\":{\"calories\":\"881 kcal\",\"carbohydrateContent\":\"123 g\",\"cholesterolContent\":\"94 mg\",\"fiberContent\":\"3 g\",\"proteinContent\":\"10 g\",\"saturatedFatContent\":\"22 g\",\"sodiumContent\":\"364 mg\",\"sugarContent\":\"99 g\",\"fatContent\":\"40 g\",\"unsaturatedFatContent\":\"0 g\"},\"prep_time\":25,\"title\":\"Apple Crunch Pie with Vanilla Sauce\",\"total_time\":135,\"instructions_list\":[\"Preheat oven to 400 degrees F (200 degrees C.)\",\"In a large bowl, mix together 1/2 cup white sugar, 1/2 cup brown sugar, 2 tablespoons flour and cinnamon. Stir in sliced apples until coated with sugar mixture. Stir in 1 cup cinnamon chips. Pour filling into prepared pie crust, and dot with 3 tablespoons butter.\",\"To make streusel topping: mix together 3/4 cup flour and 3/4 cup brown sugar in a mixing bowl. Cut in 6 tablespoons butter until mixture resembles coarse crumbs. Stir in remaining 2/3 cup cinnamon chips. Sprinkle streusel topping over apple filling.\",\"Bake in preheated oven for 10 minutes, then reduce heat to 350 degrees F (175 degrees C) and continue baking for until filling is bubbling and streusel is golden brown, 35 to 40 minutes more. Allow to cool for at least 1 hour before serving.\",\"While the pie is cooling, prepare the vanilla sauce. In the top of a double boiler over medium heat, whisk together eggs, half-and-half and 1/2 cup sugar. Cook, stirring constantly, until sauce has thickened. Remove from heat, and stir in vanilla. Spoon sauce (warm or cooled) over slices of pie.\"]}",
         "\"1. Set oven to 400 degrees F (200 degrees C).\\n2. In a large bowl, mix together 1/2 cup white sugar, 1/2 cup brown sugar, 2 tablespoons flour, and cinnamon. Stir in sliced apples until coated with sugar mixture. Stir in 1 cup cinnamon chips. Pour filling into prepared pie crust, and dot with 3 tablespoons butter.\\n3. To make streusel topping: mix together 3/4 cup flour and 3/4 cup brown sugar in a mixing bowl. Cut in 6 tablespoons butter until mixture resembles coarse crumbs. Stir in remaining 2/3 cup cinnamon chips. Sprinkle streusel topping over apple filling.\\n4. Bake in preheated oven for 10 minutes, then reduce heat to 350 degrees F (175 degrees C) and continue baking for until filling is bubbling and streusel is golden brown, 35 to 40 minutes more. Allow to cool for at least 1 hour before serving.\\n5. While the pie is cooling, prepare the vanilla sauce. In the top of a double boiler over medium heat, whisk together eggs, half-and-half and 1/2 cup sugar. Cook, stirring constantly, until sauce has thickened. Remove from heat, and stir in vanilla. Spoon sauce (warm or cooled) over slices of pie.\\n\\nHere are the ingredients and cook time:\\n\\nPie:\\n\\n* 1 (9 inch) unbaked pie crust\\n* 1/2 cup white sugar\\n* 1/2 cup brown sugar\\n* 2 tablespoons all-purpose flour\\n* 1/2 teaspoon ground cinnamon\\n* 5 cups Granny Smith apples - peeled, cored and sliced\\n* 1 cup cinnamon chips (such as Hershey's\\u00ae)\\n* 3 tablespoons butter\\n\\nStreusel topping:\\n\\n* 3/4 cup all-purpose flour\\n* 3/4 cup brown sugar\\n* 6 tablespoons butter\\n* 2/3 cup cinnamon chips\\n\\nVanilla sauce:\\n\\n* 2 eggs\\n* 1 cup half-and-half cream\\n* 1/2 cup white sugar\\n* 1 teaspoon vanilla extract\\n\\nCook time: 50 minutes (plus cooling and preparation of vanilla sauce)\\n\\nAnd here is the nutritional information per serving:\\n\\n* Calories: 881 kcal\\n* Carbohydrates: 123 g\\n* Cholesterol: 94 mg\\n* Fiber: 3 g\\n* Protein: 10 g\\n* Saturated fat: 22 g\\n* Sodium: 364 mg\\n* Sugar: 99 g\\n* Fat: 40 g\\n* Unsaturated fat: 0 g\""
        ]
       ],
       "shape": {
        "columns": 4,
        "rows": 5
       }
      },
      "text/html": [
       "<div>\n",
       "<style scoped>\n",
       "    .dataframe tbody tr th:only-of-type {\n",
       "        vertical-align: middle;\n",
       "    }\n",
       "\n",
       "    .dataframe tbody tr th {\n",
       "        vertical-align: top;\n",
       "    }\n",
       "\n",
       "    .dataframe thead th {\n",
       "        text-align: right;\n",
       "    }\n",
       "</style>\n",
       "<table border=\"1\" class=\"dataframe\">\n",
       "  <thead>\n",
       "    <tr style=\"text-align: right;\">\n",
       "      <th></th>\n",
       "      <th>Unnamed: 0</th>\n",
       "      <th>deepseek-r1-8b</th>\n",
       "      <th>llama3.1v2</th>\n",
       "      <th>mixtral8x7b</th>\n",
       "    </tr>\n",
       "  </thead>\n",
       "  <tbody>\n",
       "    <tr>\n",
       "      <th>0</th>\n",
       "      <td>0</td>\n",
       "      <td>{\"recipe_name\":\"Quick Kale and Turmeric Smooth...</td>\n",
       "      <td>{\"recipe_name\":\"Quick Kale and Turmeric Smooth...</td>\n",
       "      <td>{\"recipe_name\":\"Quick Kale and Turmeric Smooth...</td>\n",
       "    </tr>\n",
       "    <tr>\n",
       "      <th>1</th>\n",
       "      <td>1</td>\n",
       "      <td>{\"recipe_name\":\"cheesy-gordita-crunch-copycat\"...</td>\n",
       "      <td>{\"recipe_name\":\"cheesy-gordita-crunch-copycat\"...</td>\n",
       "      <td>{\"recipe_name\":\"Chocolate Chip Cookies\",\"macro...</td>\n",
       "    </tr>\n",
       "    <tr>\n",
       "      <th>2</th>\n",
       "      <td>2</td>\n",
       "      <td>{\"recipe_name\":\"Poached Salmon with Alfredo Sa...</td>\n",
       "      <td>{\"recipe_name\":\"Poached Salmon with Alfredo Sa...</td>\n",
       "      <td>{\"recipe_name\":\"Poached Salmon with Alfredo Sa...</td>\n",
       "    </tr>\n",
       "    <tr>\n",
       "      <th>3</th>\n",
       "      <td>3</td>\n",
       "      <td>{\"recipe_name\":\"Beef and Barley Soup I\",\"food_...</td>\n",
       "      <td>{\"recipe_name\":\"Beef and Barley Soup I\",\"macro...</td>\n",
       "      <td>{\"recipe_name\":\"Beef and Barley Soup I\",\"macro...</td>\n",
       "    </tr>\n",
       "    <tr>\n",
       "      <th>4</th>\n",
       "      <td>4</td>\n",
       "      <td>{\"recipe\":{\"@type\":\"Recipe\",\"title\":\"Apple Cru...</td>\n",
       "      <td>{\"recipe_name\":\"Apple Crunch Pie with Vanilla ...</td>\n",
       "      <td>\"1. Set oven to 400 degrees F (200 degrees C)....</td>\n",
       "    </tr>\n",
       "  </tbody>\n",
       "</table>\n",
       "</div>"
      ],
      "text/plain": [
       "   Unnamed: 0                                     deepseek-r1-8b  \\\n",
       "0           0  {\"recipe_name\":\"Quick Kale and Turmeric Smooth...   \n",
       "1           1  {\"recipe_name\":\"cheesy-gordita-crunch-copycat\"...   \n",
       "2           2  {\"recipe_name\":\"Poached Salmon with Alfredo Sa...   \n",
       "3           3  {\"recipe_name\":\"Beef and Barley Soup I\",\"food_...   \n",
       "4           4  {\"recipe\":{\"@type\":\"Recipe\",\"title\":\"Apple Cru...   \n",
       "\n",
       "                                          llama3.1v2  \\\n",
       "0  {\"recipe_name\":\"Quick Kale and Turmeric Smooth...   \n",
       "1  {\"recipe_name\":\"cheesy-gordita-crunch-copycat\"...   \n",
       "2  {\"recipe_name\":\"Poached Salmon with Alfredo Sa...   \n",
       "3  {\"recipe_name\":\"Beef and Barley Soup I\",\"macro...   \n",
       "4  {\"recipe_name\":\"Apple Crunch Pie with Vanilla ...   \n",
       "\n",
       "                                         mixtral8x7b  \n",
       "0  {\"recipe_name\":\"Quick Kale and Turmeric Smooth...  \n",
       "1  {\"recipe_name\":\"Chocolate Chip Cookies\",\"macro...  \n",
       "2  {\"recipe_name\":\"Poached Salmon with Alfredo Sa...  \n",
       "3  {\"recipe_name\":\"Beef and Barley Soup I\",\"macro...  \n",
       "4  \"1. Set oven to 400 degrees F (200 degrees C)....  "
      ]
     },
     "execution_count": 3,
     "metadata": {},
     "output_type": "execute_result"
    }
   ],
   "source": [
    "data = pd.read_csv(Path(\"data\", \"recipes\", \"r3-test-data-gaico.csv\"))\n",
    "# data = pd.read_csv('r3-test-data-gaico.csv')\n",
    "data.head()"
   ]
  },
  {
   "cell_type": "code",
   "execution_count": 4,
   "metadata": {
    "id": "JUeXEa10z_q1"
   },
   "outputs": [],
   "source": [
    "# Extracting responses for each platform\n",
    "deepseek_responses = list(data[\"deepseek-r1-8b\"])\n",
    "llama_responses = list(data[\"llama3.1v2\"])\n",
    "mixtral_responses = list(data[\"mixtral8x7b\"])\n",
    "\n",
    "# Extracting the reference responses for comparison\n",
    "reference_column = list(data[\"llama3.1v2\"])"
   ]
  },
  {
   "cell_type": "code",
   "execution_count": 5,
   "metadata": {
    "id": "feo5tJkh1wlh"
   },
   "outputs": [
    {
     "name": "stdout",
     "output_type": "stream",
     "text": [
      "Length of the dataset: 1003\n",
      "Combined length: 3009\n"
     ]
    }
   ],
   "source": [
    "# Sanity check\n",
    "assert (\n",
    "    len(reference_column)\n",
    "    == len(deepseek_responses)\n",
    "    == len(llama_responses)\n",
    "    == len(mixtral_responses)\n",
    "), \"Mismatched response counts\"\n",
    "\n",
    "print(f\"Length of the dataset: {len(reference_column)}\")\n",
    "print(f\"Combined length: {3 * len(reference_column)}\")"
   ]
  },
  {
   "cell_type": "markdown",
   "metadata": {
    "id": "-rBLO9nZhNwD"
   },
   "source": [
    "## Comparison\n",
    "\n",
    "Use the `Experiment` sub-module to easily compare all models against the reference answer.\n"
   ]
  },
  {
   "cell_type": "code",
   "execution_count": 6,
   "metadata": {
    "id": "ZZTVw0N9hNwE"
   },
   "outputs": [],
   "source": [
    "all_results = []\n",
    "\n",
    "model_refs = {  # Defining the model references for comparison\n",
    "    \"deepseek\": deepseek_responses,\n",
    "    \"llama3.1v2\": llama_responses,\n",
    "    \"mixtral8x7b\": mixtral_responses,\n",
    "}"
   ]
  },
  {
   "cell_type": "code",
   "execution_count": 7,
   "metadata": {},
   "outputs": [],
   "source": [
    "# Define a worker function that processes one item (one model's response against a reference)\n",
    "def run_experiment_for_response(\n",
    "    model_name, model_response, ref_answer, response_index, metrics_list\n",
    "):\n",
    "    exp = Experiment(llm_responses={model_name: model_response}, reference_answer=ref_answer)\n",
    "    result_df = exp.compare(metrics=metrics_list, plot=False)\n",
    "\n",
    "    # Add model name and index to the result DataFrame\n",
    "    result_df[\"Model\"] = model_name\n",
    "    result_df[\"Index\"] = response_index + 1\n",
    "    return result_df"
   ]
  },
  {
   "cell_type": "code",
   "execution_count": 8,
   "metadata": {},
   "outputs": [],
   "source": [
    "# Prepare arguments for each task\n",
    "tasks_args = []\n",
    "metrics_to_compare = [\"BLEU\", \"Cosine\", \"Levenshtein\"]  # Define the list of metrics once\n",
    "\n",
    "for model_name, responses in model_refs.items():\n",
    "    for idx in range(len(responses)):\n",
    "        tasks_args.append(\n",
    "            (model_name, responses[idx], reference_column[idx], idx, metrics_to_compare)\n",
    "        )"
   ]
  },
  {
   "cell_type": "markdown",
   "metadata": {},
   "source": [
    "Determine the number of parallel jobs. `-1` uses all available CPU cores.\n",
    "\n",
    "Adjust based on your system's resources (e.g., number of CPU cores, available memory). If tasks are memory-intensive, you might need to reduce n_jobs (e.g., 2 or 4)."
   ]
  },
  {
   "cell_type": "code",
   "execution_count": 9,
   "metadata": {},
   "outputs": [],
   "source": [
    "num_parallel_jobs = 4"
   ]
  },
  {
   "cell_type": "code",
   "execution_count": 10,
   "metadata": {},
   "outputs": [
    {
     "name": "stdout",
     "output_type": "stream",
     "text": [
      "Starting parallel comparison for 3009 items using up to 4 cores...\n"
     ]
    },
    {
     "name": "stderr",
     "output_type": "stream",
     "text": [
      "[Parallel(n_jobs=4)]: Using backend LokyBackend with 4 concurrent workers.\n",
      "[Parallel(n_jobs=4)]: Done   5 tasks      | elapsed:   13.2s\n",
      "[Parallel(n_jobs=4)]: Done  10 tasks      | elapsed:   13.2s\n",
      "[Parallel(n_jobs=4)]: Done  17 tasks      | elapsed:   13.2s\n",
      "[Parallel(n_jobs=4)]: Done  24 tasks      | elapsed:   13.3s\n",
      "[Parallel(n_jobs=4)]: Batch computation too fast (0.17350364005822608s.) Setting batch_size=2.\n",
      "[Parallel(n_jobs=4)]: Done  33 tasks      | elapsed:   13.3s\n",
      "[Parallel(n_jobs=4)]: Batch computation too fast (0.026490211486816406s.) Setting batch_size=4.\n",
      "[Parallel(n_jobs=4)]: Done  48 tasks      | elapsed:   13.3s\n",
      "[Parallel(n_jobs=4)]: Batch computation too fast (0.06675410270690918s.) Setting batch_size=8.\n",
      "[Parallel(n_jobs=4)]: Done  92 tasks      | elapsed:   13.5s\n",
      "[Parallel(n_jobs=4)]: Batch computation too fast (0.11490678787231445s.) Setting batch_size=16.\n",
      "[Parallel(n_jobs=4)]: Done 212 tasks      | elapsed:   13.9s\n",
      "[Parallel(n_jobs=4)]: Done 420 tasks      | elapsed:   14.6s\n",
      "[Parallel(n_jobs=4)]: Done 628 tasks      | elapsed:   15.0s\n",
      "[Parallel(n_jobs=4)]: Done 868 tasks      | elapsed:   15.5s\n",
      "[Parallel(n_jobs=4)]: Done 1108 tasks      | elapsed:   15.9s\n",
      "[Parallel(n_jobs=4)]: Done 1380 tasks      | elapsed:   16.5s\n",
      "[Parallel(n_jobs=4)]: Done 1652 tasks      | elapsed:   17.2s\n",
      "[Parallel(n_jobs=4)]: Done 1956 tasks      | elapsed:   17.8s\n",
      "[Parallel(n_jobs=4)]: Done 2260 tasks      | elapsed:   18.4s\n",
      "[Parallel(n_jobs=4)]: Done 2596 tasks      | elapsed:   19.2s\n",
      "[Parallel(n_jobs=4)]: Done 2917 tasks      | elapsed:   19.9s\n",
      "[Parallel(n_jobs=4)]: Done 2985 tasks      | elapsed:   20.0s\n",
      "[Parallel(n_jobs=4)]: Done 3009 out of 3009 | elapsed:   20.0s finished\n"
     ]
    }
   ],
   "source": [
    "print(\n",
    "    f\"Starting parallel comparison for {len(tasks_args)} items using up to {num_parallel_jobs if num_parallel_jobs != -1 else 'all available'} cores...\"\n",
    ")\n",
    "\n",
    "# Run the tasks in parallel\n",
    "# The `verbose` parameter controls the level of progress messages from joblib.\n",
    "# `all_results` (defined in a previous cell) will be populated with the list of DataFrames.\n",
    "all_results = Parallel(n_jobs=num_parallel_jobs, verbose=10)(\n",
    "    delayed(run_experiment_for_response)(*args) for args in tasks_args\n",
    ")"
   ]
  },
  {
   "cell_type": "code",
   "execution_count": 11,
   "metadata": {
    "colab": {
     "base_uri": "https://localhost:8080/",
     "height": 356
    },
    "id": "FRyeLr-LhNwE",
    "outputId": "c296da4d-c9f9-4189-b2d1-a9a1ce80a679"
   },
   "outputs": [
    {
     "name": "stdout",
     "output_type": "stream",
     "text": [
      "Metric comparison complete.\n",
      "       model_name  metric_name     score        Model  Index\n",
      "0        deepseek         BLEU  0.402179     deepseek      1\n",
      "1        deepseek       Cosine  0.957099     deepseek      1\n",
      "2        deepseek  Levenshtein  0.650101     deepseek      1\n",
      "3        deepseek         BLEU  0.059255     deepseek      2\n",
      "4        deepseek       Cosine  0.597844     deepseek      2\n",
      "...           ...          ...       ...          ...    ...\n",
      "9022  mixtral8x7b       Cosine  0.296836  mixtral8x7b   1002\n",
      "9023  mixtral8x7b  Levenshtein  0.471621  mixtral8x7b   1002\n",
      "9024  mixtral8x7b         BLEU  0.313421  mixtral8x7b   1003\n",
      "9025  mixtral8x7b       Cosine  0.851456  mixtral8x7b   1003\n",
      "9026  mixtral8x7b  Levenshtein  0.708453  mixtral8x7b   1003\n",
      "\n",
      "[9027 rows x 5 columns]\n"
     ]
    }
   ],
   "source": [
    "# Concatenate all results into a single DataFrame\n",
    "final_results_df = pd.concat(all_results, ignore_index=True)\n",
    "final_results_df.to_csv(Path(\"data\", \"recipes\", \"r3_comparsion.csv\"), index=False)\n",
    "\n",
    "print(\"Metric comparison complete.\")\n",
    "print(final_results_df)"
   ]
  },
  {
   "cell_type": "code",
   "execution_count": 12,
   "metadata": {
    "colab": {
     "base_uri": "https://localhost:8080/"
    },
    "id": "mebQKzwL50Bj",
    "outputId": "ac3a203e-9abc-432e-8ce6-1332648aed8c"
   },
   "outputs": [
    {
     "name": "stdout",
     "output_type": "stream",
     "text": [
      "    model_name  metric_name     score\n",
      "0     deepseek         BLEU  0.295384\n",
      "1     deepseek       Cosine  0.578688\n",
      "2     deepseek  Levenshtein  0.524184\n",
      "3   llama3.1v2         BLEU  0.991397\n",
      "4   llama3.1v2       Cosine  1.000000\n",
      "5   llama3.1v2  Levenshtein  1.000000\n",
      "6  mixtral8x7b         BLEU  0.253007\n",
      "7  mixtral8x7b       Cosine  0.611408\n",
      "8  mixtral8x7b  Levenshtein  0.553130\n"
     ]
    }
   ],
   "source": [
    "# Grouping the results by model and metric to calculate mean scores\n",
    "mean_scores = final_results_df.groupby([\"model_name\", \"metric_name\"])[\"score\"].mean().reset_index()\n",
    "mean_scores = mean_scores.sort_values(by=[\"model_name\", \"metric_name\"])\n",
    "\n",
    "print(mean_scores)"
   ]
  },
  {
   "cell_type": "markdown",
   "metadata": {
    "id": "Vcq6U3JXhNwF"
   },
   "source": [
    "## Visualization\n"
   ]
  },
  {
   "cell_type": "code",
   "execution_count": 13,
   "metadata": {
    "colab": {
     "base_uri": "https://localhost:8080/",
     "height": 1000
    },
    "id": "TfPV4oSHEZcF",
    "outputId": "aa1367ca-eaa3-43f3-e463-7ec35588bb57"
   },
   "outputs": [
    {
     "data": {
      "image/png": "[encoded data removed]",
      "text/plain": [
       "<Figure size 1000x600 with 1 Axes>"
      ]
     },
     "metadata": {},
     "output_type": "display_data"
    },
    {
     "data": {
      "image/png": "[encoded data removed]",
      "text/plain": [
       "<Figure size 1000x600 with 1 Axes>"
      ]
     },
     "metadata": {},
     "output_type": "display_data"
    },
    {
     "data": {
      "image/png": "[encoded data removed]",
      "text/plain": [
       "<Figure size 1000x600 with 1 Axes>"
      ]
     },
     "metadata": {},
     "output_type": "display_data"
    }
   ],
   "source": [
    "# Plot BLEU scores\n",
    "plot_metric_comparison(mean_scores, metric_name=\"BLEU\", title=\"BLEU Score Comparison\")\n",
    "plt.show()\n",
    "\n",
    "# Plot BLEU scores\n",
    "plot_metric_comparison(mean_scores, metric_name=\"Cosine\", title=\"Cosine Score Comparison\")\n",
    "plt.show()\n",
    "\n",
    "# Plot BLEU scores\n",
    "plot_metric_comparison(mean_scores, metric_name=\"Levenshtein\", title=\"Levenshtein Score Comparison\")\n",
    "plt.show()"
   ]
  }
 ],
 "metadata": {
  "colab": {
   "provenance": []
  },
  "kernelspec": {
   "display_name": ".venv",
   "language": "python",
   "name": "python3"
  },
  "language_info": {
   "codemirror_mode": {
    "name": "ipython",
    "version": 3
   },
   "file_extension": ".py",
   "mimetype": "text/x-python",
   "name": "python",
   "nbconvert_exporter": "python",
   "pygments_lexer": "ipython3",
   "version": "3.12.10"
  }
 },
 "nbformat": 4,
 "nbformat_minor": 0
}
