{
 "cells": [
  {
   "cell_type": "markdown",
   "id": "366eb7bc",
   "metadata": {},
   "source": [
    "### a) Normal Monologue"
   ]
  },
  {
   "cell_type": "code",
   "execution_count": 1,
   "id": "c34d1fd7",
   "metadata": {},
   "outputs": [
    {
     "name": "stdout",
     "output_type": "stream",
     "text": [
      "✓ Initial state correct\n",
      "✓ User message added correctly\n",
      "✓ Assistant message added correctly\n"
     ]
    }
   ],
   "source": [
    "from gai.asm.monologue import Monologue\n",
    "\n",
    "# Create monologue\n",
    "mono = Monologue(agent_name=\"TestBot\", dialogue_id=\"test-123\")\n",
    "\n",
    "# Test initial state\n",
    "assert mono.agent_name == \"TestBot\"\n",
    "assert mono.dialogue_id == \"test-123\"\n",
    "assert len(mono.list_messages()) == 0\n",
    "print(\"✓ Initial state correct\")\n",
    "\n",
    "# Add user message\n",
    "from types import SimpleNamespace\n",
    "mock_input = SimpleNamespace(step_no=1)\n",
    "mock_state = SimpleNamespace(state=\"GENERATE\",input=mock_input)\n",
    "mono.add_user_message(mock_state, \"Hello, how are you?\")\n",
    "messages = mono.list_messages()\n",
    "assert len(messages) == 1\n",
    "assert messages[0].body.role == \"user\"\n",
    "assert messages[0].body.content == \"Hello, how are you?\"\n",
    "print(\"✓ User message added correctly\")\n",
    "\n",
    "# Add assistant message\n",
    "mock_input = SimpleNamespace(step_no=2)\n",
    "mock_state = SimpleNamespace(state=\"GENERATE\",input=mock_input)\n",
    "mono.add_assistant_message(mock_state, \"I'm doing well, thank you!\")\n",
    "messages = mono.list_messages()\n",
    "assert len(messages) == 2\n",
    "assert messages[1].body.role == \"assistant\"\n",
    "assert messages[1].body.content == \"I'm doing well, thank you!\"\n",
    "print(\"✓ Assistant message added correctly\")"
   ]
  },
  {
   "cell_type": "markdown",
   "id": "adaa8cb4",
   "metadata": {},
   "source": [
    "### b) File Monologue"
   ]
  },
  {
   "cell_type": "code",
   "execution_count": 3,
   "id": "47da56d5",
   "metadata": {},
   "outputs": [
    {
     "name": "stdout",
     "output_type": "stream",
     "text": [
      "✓ Initial state correct\n",
      "✓ User message added correctly\n",
      "✓ Assistant message added correctly\n",
      "[\n",
      "    {\n",
      "        \"id\": \"3de97442-f6b9-4f60-a479-51227369cfe6\",\n",
      "        \"header\": {\n",
      "            \"sender\": \"User\",\n",
      "            \"recipient\": \"TestBot\",\n",
      "            \"timestamp\": 1749647181.595876,\n",
      "            \"order\": 0\n",
      "        },\n",
      "        \"body\": {\n",
      "            \"type\": \"state\",\n",
      "            \"state_name\": \"GENERATE\",\n",
      "            \"step_no\": 1,\n",
      "            \"content_type\": \"text\",\n",
      "            \"role\": \"user\",\n",
      "            \"content\": \"Hello, how are you?\"\n",
      "        }\n",
      "    },\n",
      "    {\n",
      "        \"id\": \"9caa6418-2861-414b-96af-6b52701f8e95\",\n",
      "        \"header\": {\n",
      "            \"sender\": \"TestBot\",\n",
      "            \"recipient\": \"User\",\n",
      "            \"timestamp\": 1749647181.6030672,\n",
      "            \"order\": 0\n",
      "        },\n",
      "        \"body\": {\n",
      "            \"type\": \"state\",\n",
      "            \"state_name\": \"GENERATE\",\n",
      "            \"step_no\": 2,\n",
      "            \"content_type\": \"text\",\n",
      "            \"role\": \"assistant\",\n",
      "            \"content\": \"I'm doing well, thank you!\"\n",
      "        }\n",
      "    }\n",
      "]\n"
     ]
    }
   ],
   "source": [
    "from gai.asm.monologue import FileMonologue\n",
    "\n",
    "# Create monologue\n",
    "mono = FileMonologue(agent_name=\"TestBot\", dialogue_id=\"test-123\")\n",
    "mono.reset()\n",
    "\n",
    "# Test initial state\n",
    "assert mono.agent_name == \"TestBot\"\n",
    "assert mono.dialogue_id == \"test-123\"\n",
    "assert len(mono.list_messages()) == 0\n",
    "print(\"✓ Initial state correct\")\n",
    "\n",
    "# Add user message\n",
    "from types import SimpleNamespace\n",
    "mock_input = SimpleNamespace(step_no=1)\n",
    "mock_state = SimpleNamespace(state=\"GENERATE\",input=mock_input)\n",
    "mono.add_user_message(mock_state, \"Hello, how are you?\")\n",
    "messages = mono.list_messages()\n",
    "assert len(messages) == 1\n",
    "assert messages[0].body.role == \"user\"\n",
    "assert messages[0].body.content == \"Hello, how are you?\"\n",
    "print(\"✓ User message added correctly\")\n",
    "\n",
    "# Add assistant message\n",
    "mock_input = SimpleNamespace(step_no=2)\n",
    "mock_state = SimpleNamespace(state=\"GENERATE\",input=mock_input)\n",
    "mono.add_assistant_message(mock_state, \"I'm doing well, thank you!\")\n",
    "messages = mono.list_messages()\n",
    "assert len(messages) == 2\n",
    "assert messages[1].body.role == \"assistant\"\n",
    "assert messages[1].body.content == \"I'm doing well, thank you!\"\n",
    "print(\"✓ Assistant message added correctly\")\n",
    "\n",
    "# Check saved\n",
    "file_path=f\"/tmp/TestBot.json\"\n",
    "with open(file_path,\"r\") as f:\n",
    "    s=f.read()\n",
    "    print(s)"
   ]
  },
  {
   "cell_type": "code",
   "execution_count": 5,
   "id": "b37dfe1c",
   "metadata": {},
   "outputs": [
    {
     "name": "stdout",
     "output_type": "stream",
     "text": [
      "[MessagePydantic(id='3de97442-f6b9-4f60-a479-51227369cfe6', header=MessageHeaderPydantic(sender='User', recipient='TestBot', timestamp=1749647181.595876, order=0), body=StateBodyPydantic(type='state', state_name='GENERATE', step_no=1, content_type='text', role='user', content='Hello, how are you?')), MessagePydantic(id='9caa6418-2861-414b-96af-6b52701f8e95', header=MessageHeaderPydantic(sender='TestBot', recipient='User', timestamp=1749647181.6030672, order=0), body=StateBodyPydantic(type='state', state_name='GENERATE', step_no=2, content_type='text', role='assistant', content=\"I'm doing well, thank you!\"))]\n",
      "[{'role': 'user', 'content': 'Hello, how are you?'}, {'role': 'assistant', 'content': \"I'm doing well, thank you!\"}]\n"
     ]
    }
   ],
   "source": [
    "from gai.asm.monologue import FileMonologue\n",
    "\n",
    "# Create monologue\n",
    "mono = FileMonologue(agent_name=\"TestBot\", dialogue_id=\"test-123\")\n",
    "\n",
    "print(mono.list_messages())\n",
    "\n",
    "print(mono.list_chat_messages())"
   ]
  }
 ],
 "metadata": {
  "kernelspec": {
   "display_name": ".venv",
   "language": "python",
   "name": "python3"
  },
  "language_info": {
   "codemirror_mode": {
    "name": "ipython",
    "version": 3
   },
   "file_extension": ".py",
   "mimetype": "text/x-python",
   "name": "python",
   "nbconvert_exporter": "python",
   "pygments_lexer": "ipython3",
   "version": "3.10.18"
  }
 },
 "nbformat": 4,
 "nbformat_minor": 5
}
