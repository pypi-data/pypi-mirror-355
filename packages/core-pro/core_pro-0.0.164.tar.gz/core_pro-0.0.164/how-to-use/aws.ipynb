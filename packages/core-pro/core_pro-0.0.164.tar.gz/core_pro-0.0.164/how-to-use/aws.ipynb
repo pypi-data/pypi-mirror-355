{
 "cells": [
  {
   "cell_type": "code",
   "id": "initial_id",
   "metadata": {
    "collapsed": true,
    "ExecuteTime": {
     "end_time": "2025-03-08T07:26:29.807211Z",
     "start_time": "2025-03-08T07:26:29.771204Z"
    }
   },
   "source": [
    "import polars as pl\n",
    "from pathlib import Path\n",
    "\n",
    "# sample data frame\n",
    "file_name = Path(\"./sample.parquet\")\n",
    "data = {\"a\": [1, 2], \"b\": [3, 4]}\n",
    "df = pl.DataFrame(data)\n",
    "df.write_parquet(file_name)\n",
    "df"
   ],
   "outputs": [
    {
     "data": {
      "text/plain": [
       "shape: (2, 2)\n",
       "┌─────┬─────┐\n",
       "│ a   ┆ b   │\n",
       "│ --- ┆ --- │\n",
       "│ i64 ┆ i64 │\n",
       "╞═════╪═════╡\n",
       "│ 1   ┆ 3   │\n",
       "│ 2   ┆ 4   │\n",
       "└─────┴─────┘"
      ],
      "text/html": [
       "<div><style>\n",
       ".dataframe > thead > tr,\n",
       ".dataframe > tbody > tr {\n",
       "  text-align: right;\n",
       "  white-space: pre-wrap;\n",
       "}\n",
       "</style>\n",
       "<small>shape: (2, 2)</small><table border=\"1\" class=\"dataframe\"><thead><tr><th>a</th><th>b</th></tr><tr><td>i64</td><td>i64</td></tr></thead><tbody><tr><td>1</td><td>3</td></tr><tr><td>2</td><td>4</td></tr></tbody></table></div>"
      ]
     },
     "execution_count": 4,
     "metadata": {},
     "output_type": "execute_result"
    }
   ],
   "execution_count": 4
  },
  {
   "metadata": {
    "ExecuteTime": {
     "end_time": "2025-03-08T07:09:46.815773Z",
     "start_time": "2025-03-08T07:09:46.812415Z"
    }
   },
   "cell_type": "code",
   "source": "|file_name",
   "id": "5d5d9bdac30680b8",
   "outputs": [
    {
     "data": {
      "text/plain": [
       "PosixPath('sample.parquet')"
      ]
     },
     "execution_count": 4,
     "metadata": {},
     "output_type": "execute_result"
    }
   ],
   "execution_count": 4
  },
  {
   "metadata": {
    "ExecuteTime": {
     "end_time": "2025-03-08T07:26:27.131143Z",
     "start_time": "2025-03-08T07:26:26.005860Z"
    }
   },
   "cell_type": "code",
   "source": [
    "from src.core_pro import AWS\n",
    "\n",
    "bucket_name = 'sg-vnbi-ops-kevin'\n",
    "s3 = AWS(bucket_name)\n",
    "# response = s3.upload_single_file(file=file_name, prefix=\"sample\")"
   ],
   "id": "2dc2e5a785c435e5",
   "outputs": [],
   "execution_count": 2
  },
  {
   "metadata": {
    "ExecuteTime": {
     "end_time": "2025-03-08T07:27:12.032728Z",
     "start_time": "2025-03-08T07:27:12.030413Z"
    }
   },
   "cell_type": "code",
   "source": "flink, sql = s3.convert_dataframe_flink_config(df, \"sample\", \"dev_vnbi_ops.ds_cx__item_marketplace_listening__s3_adhoc\")",
   "id": "1f8d95a1d2b3d677",
   "outputs": [],
   "execution_count": 8
  },
  {
   "metadata": {
    "ExecuteTime": {
     "end_time": "2025-03-08T07:27:17.881487Z",
     "start_time": "2025-03-08T07:27:17.879412Z"
    }
   },
   "cell_type": "code",
   "source": "print(flink)",
   "id": "f5c96539bf09292e",
   "outputs": [
    {
     "name": "stdout",
     "output_type": "stream",
     "text": [
      "\n",
      "env {\n",
      "}      \n",
      "\n",
      "source {\n",
      "    S3FileSource {\n",
      "        datasource_name = \"my_s3\"\n",
      "        path = \"s3a://sg-vnbi-ops-kevin/sample\"\n",
      "        format = \"parquet\"\n",
      "        schema = {\n",
      "a:BIGINT\n",
      ", b: BIGINT\n",
      "}\n",
      "        endpoint = \"https://s3g.data-infra.shopee.io\"\n",
      "        bucket = \"sg-vnbi-ops-kevin\"\n",
      "        # ignore-parse-errors = \"true\"\n",
      "        # skip-first-data-row = \"true\"\n",
      "        result_table_name = \"s3FileSource\"\n",
      "        access_key = \"${HADOOP_USER_NAME}\"\n",
      "        secret_key = \"${HADOOP_USER_RPCPASSWORD}\"\n",
      "        endpoint = \"https://s3g.data-infra.shopee.io\"\n",
      "        fs.s3a.change.detection.version.required = \"false\"\n",
      "      }\n",
      "}\n",
      "\n",
      "transform {\n",
      "  Sql {\n",
      "    sql = \"select * from `s3FileSource`\"\n",
      "    result_table_name = \"transformed\"\n",
      "  }\n",
      "}\n",
      "  \n",
      "sink {\n",
      "  HiveSink {\n",
      "    source_table_name = \"transformed\"\n",
      "    result_table_name = \"hive.dev_vnbi_ops.ds_cx__item_marketplace_listening__s3_adhoc\"\n",
      "    partition_by = [\"grass_date\"]\n",
      "    partition_dir_expression = \"grass_date=${grass_date}\"\n",
      "  }\n",
      "}\n",
      "        \n"
     ]
    }
   ],
   "execution_count": 10
  },
  {
   "metadata": {
    "ExecuteTime": {
     "end_time": "2025-03-08T07:27:24.170559Z",
     "start_time": "2025-03-08T07:27:24.167794Z"
    }
   },
   "cell_type": "code",
   "source": "print(sql)",
   "id": "428d35375ebe8670",
   "outputs": [
    {
     "name": "stdout",
     "output_type": "stream",
     "text": [
      "\n",
      "drop table if exists dev_vnbi_ops.ds_cx__item_marketplace_listening__s3_adhoc\n",
      ";\n",
      "\n",
      "create table if not exists table_name (\n",
      "    a bigint\n",
      "\t, b bigint\n",
      "    ,`grass_date` date\n",
      ")\n",
      "partitioned by\n",
      "    (`grass_date`) stored as PARQUET location 'ofs://oc/s3v/sg-vnbi-ops-hive/dev_vnbi_ops/ds_cx__item_marketplace_listening__s3_adhoc'\n",
      ";        \n",
      "\n",
      "        \n"
     ]
    }
   ],
   "execution_count": 11
  },
  {
   "metadata": {},
   "cell_type": "code",
   "outputs": [],
   "execution_count": null,
   "source": "",
   "id": "ddb82623dbe41094"
  }
 ],
 "metadata": {
  "kernelspec": {
   "display_name": "Python 3",
   "language": "python",
   "name": "python3"
  },
  "language_info": {
   "codemirror_mode": {
    "name": "ipython",
    "version": 2
   },
   "file_extension": ".py",
   "mimetype": "text/x-python",
   "name": "python",
   "nbconvert_exporter": "python",
   "pygments_lexer": "ipython2",
   "version": "2.7.6"
  }
 },
 "nbformat": 4,
 "nbformat_minor": 5
}
