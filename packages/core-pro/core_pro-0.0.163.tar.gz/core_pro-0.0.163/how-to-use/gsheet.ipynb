{
 "cells": [
  {
   "cell_type": "markdown",
   "id": "f1f294058b0ba776",
   "metadata": {
    "collapsed": false
   },
   "source": [
    "# 1. Get data from sheets\n",
    "\n",
    "- Examples: https://docs.google.com/spreadsheets/d/1OL2sd2vqevHPK5tB0kXnuNsLdQY4SQSGoyiNGDNQhtY/edit?gid=0#gid=0\n",
    "- Sheet Id: \"1OL2sd2vqevHPK5tB0kXnuNsLdQY4SQSGoyiNGDNQhtY\""
   ]
  },
  {
   "metadata": {
    "ExecuteTime": {
     "end_time": "2025-03-08T07:04:12.842697Z",
     "start_time": "2025-03-08T07:04:12.539173Z"
    }
   },
   "cell_type": "code",
   "source": [
    "import polars as pl\n",
    "\n",
    "# sample data frame\n",
    "data = {\"a\": [1, 2], \"b\": [3, 4]}\n",
    "df = pl.DataFrame(data)\n",
    "df"
   ],
   "id": "145fe2c7984f4a0b",
   "outputs": [
    {
     "data": {
      "text/plain": [
       "shape: (2, 2)\n",
       "┌─────┬─────┐\n",
       "│ a   ┆ b   │\n",
       "│ --- ┆ --- │\n",
       "│ i64 ┆ i64 │\n",
       "╞═════╪═════╡\n",
       "│ 1   ┆ 3   │\n",
       "│ 2   ┆ 4   │\n",
       "└─────┴─────┘"
      ],
      "text/html": [
       "<div><style>\n",
       ".dataframe > thead > tr,\n",
       ".dataframe > tbody > tr {\n",
       "  text-align: right;\n",
       "  white-space: pre-wrap;\n",
       "}\n",
       "</style>\n",
       "<small>shape: (2, 2)</small><table border=\"1\" class=\"dataframe\"><thead><tr><th>a</th><th>b</th></tr><tr><td>i64</td><td>i64</td></tr></thead><tbody><tr><td>1</td><td>3</td></tr><tr><td>2</td><td>4</td></tr></tbody></table></div>"
      ]
     },
     "execution_count": 1,
     "metadata": {},
     "output_type": "execute_result"
    }
   ],
   "execution_count": 1
  },
  {
   "cell_type": "code",
   "id": "initial_id",
   "metadata": {
    "collapsed": true,
    "ExecuteTime": {
     "end_time": "2025-03-08T07:05:26.066046Z",
     "start_time": "2025-03-08T07:05:25.235098Z"
    }
   },
   "source": [
    "from core_pro import Sheet\n",
    "\n",
    "sh = \"1OL2sd2vqevHPK5tB0kXnuNsLdQY4SQSGoyiNGDNQhtY\"\n",
    "df = Sheet(sh).google_sheet_into_df('sample', 'A:B')\n",
    "df.head()"
   ],
   "outputs": [
    {
     "data": {
      "text/plain": [
       "\u001B[38;5;40m🐶 Sheet\u001B[0m Loaded at sample!\u001B[1;92mA:B\u001B[0m\n"
      ],
      "text/html": [
       "<pre style=\"white-space:pre;overflow-x:auto;line-height:normal;font-family:Menlo,'DejaVu Sans Mono',consolas,'Courier New',monospace\"><span style=\"color: #00d700; text-decoration-color: #00d700\">🐶 Sheet</span> Loaded at sample!<span style=\"color: #00ff00; text-decoration-color: #00ff00; font-weight: bold\">A:B</span>\n",
       "</pre>\n"
      ]
     },
     "metadata": {},
     "output_type": "display_data"
    },
    {
     "data": {
      "text/plain": [
       "shape: (2, 2)\n",
       "┌─────┬─────┐\n",
       "│ a   ┆ b   │\n",
       "│ --- ┆ --- │\n",
       "│ str ┆ str │\n",
       "╞═════╪═════╡\n",
       "│ 1   ┆ 3   │\n",
       "│ 2   ┆ 4   │\n",
       "└─────┴─────┘"
      ],
      "text/html": [
       "<div><style>\n",
       ".dataframe > thead > tr,\n",
       ".dataframe > tbody > tr {\n",
       "  text-align: right;\n",
       "  white-space: pre-wrap;\n",
       "}\n",
       "</style>\n",
       "<small>shape: (2, 2)</small><table border=\"1\" class=\"dataframe\"><thead><tr><th>a</th><th>b</th></tr><tr><td>str</td><td>str</td></tr></thead><tbody><tr><td>&quot;1&quot;</td><td>&quot;3&quot;</td></tr><tr><td>&quot;2&quot;</td><td>&quot;4&quot;</td></tr></tbody></table></div>"
      ]
     },
     "execution_count": 3,
     "metadata": {},
     "output_type": "execute_result"
    }
   ],
   "execution_count": 3
  },
  {
   "cell_type": "markdown",
   "id": "43a30e72",
   "metadata": {},
   "source": [
    "# 2. Upload dataframe to google sheet"
   ]
  },
  {
   "cell_type": "code",
   "id": "4910cae1189ab877",
   "metadata": {
    "collapsed": false,
    "ExecuteTime": {
     "end_time": "2025-03-08T07:05:08.299458Z",
     "start_time": "2025-03-08T07:05:05.021352Z"
    }
   },
   "source": [
    "from core_pro.ultilities import update_df\n",
    "\n",
    "sh = \"1OL2sd2vqevHPK5tB0kXnuNsLdQY4SQSGoyiNGDNQhtY\"\n",
    "update_df(df, 'sample', sh, start='A1')"
   ],
   "outputs": [
    {
     "data": {
      "text/plain": [
       "\u001B[38;5;40m🐶 Sheet\u001B[0m Update values at: sample!\u001B[1;92mA1:B\u001B[0m\n"
      ],
      "text/html": [
       "<pre style=\"white-space:pre;overflow-x:auto;line-height:normal;font-family:Menlo,'DejaVu Sans Mono',consolas,'Courier New',monospace\"><span style=\"color: #00d700; text-decoration-color: #00d700\">🐶 Sheet</span> Update values at: sample!<span style=\"color: #00ff00; text-decoration-color: #00ff00; font-weight: bold\">A1:B</span>\n",
       "</pre>\n"
      ]
     },
     "metadata": {},
     "output_type": "display_data"
    }
   ],
   "execution_count": 2
  },
  {
   "metadata": {},
   "cell_type": "code",
   "outputs": [],
   "execution_count": null,
   "source": "",
   "id": "544aa585a5acfb3f"
  }
 ],
 "metadata": {
  "kernelspec": {
   "display_name": "Python 3",
   "language": "python",
   "name": "python3"
  },
  "language_info": {
   "codemirror_mode": {
    "name": "ipython",
    "version": 3
   },
   "file_extension": ".py",
   "mimetype": "text/x-python",
   "name": "python",
   "nbconvert_exporter": "python",
   "pygments_lexer": "ipython3",
   "version": "3.11.5"
  }
 },
 "nbformat": 4,
 "nbformat_minor": 5
}
