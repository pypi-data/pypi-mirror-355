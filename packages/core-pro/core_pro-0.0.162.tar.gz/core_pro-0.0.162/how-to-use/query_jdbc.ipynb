{
 "cells": [
  {
   "cell_type": "raw",
   "id": "fe4554f9786c95a",
   "metadata": {
    "collapsed": false
   },
   "source": [
    "# 1. Query Data"
   ]
  },
  {
   "cell_type": "markdown",
   "id": "0bef1de7",
   "metadata": {},
   "source": [
    "Query check"
   ]
  },
  {
   "cell_type": "code",
   "execution_count": 1,
   "id": "14ad0eb2f027e283",
   "metadata": {
    "ExecuteTime": {
     "end_time": "2023-09-13T09:48:00.458993200Z",
     "start_time": "2023-09-13T09:33:04.095602100Z"
    },
    "collapsed": false
   },
   "source": [
    "from core_pro import DataPipeLine\n",
    "\n",
    "\n",
    "query = \"\"\"\n",
    "    select grass_date\n",
    "    , count(distinct user_id) total_a1\n",
    "    from mp_user.dws_user_login_1d__vn_s0_live\n",
    "    where grass_date >= date'2022-01-01'\n",
    "    group by 1\n",
    "\"\"\"\n",
    "print(DataPipeLine(query).query)"
   ],
   "outputs": []
  },
  {
   "cell_type": "code",
   "execution_count": 2,
   "id": "470dbe2f",
   "metadata": {},
   "source": [
    "df = DataPipeLine(query).run_presto_to_df()"
   ],
   "outputs": []
  },
  {
   "cell_type": "markdown",
   "id": "94ccc9ff",
   "metadata": {},
   "source": [
    "# 2. Threadpool query data"
   ]
  },
  {
   "cell_type": "markdown",
   "id": "63ee7621",
   "metadata": {},
   "source": [
    "How to set multi-thread download with different dates"
   ]
  },
  {
   "cell_type": "code",
   "execution_count": 3,
   "id": "62498579",
   "metadata": {},
   "source": [
    "import polars as pl\n",
    "from datetime import date, timedelta\n",
    "from pathlib import Path\n",
    "from concurrent.futures import ThreadPoolExecutor\n",
    "\n",
    "\n",
    "\n",
    "def download(date_input):\n",
    "    \"\"\"wrapper your download code into a function\"\"\"\n",
    "    # setup file name\n",
    "    path = Path.home() / 'VSCodeProjects/how-to-use/'\n",
    "    file_name = path / f'{date_input}.parquet'\n",
    "\n",
    "    # query\n",
    "    query = f\"\"\"\n",
    "    select grass_date\n",
    "    , count(distinct user_id) total_a1\n",
    "    from mp_user.dws_user_login_1d__vn_s0_live\n",
    "    where grass_date = date'{date_input}'\n",
    "    group by 1\n",
    "    \"\"\"\n",
    "\n",
    "    # check if file exist (don't have to download file again)\n",
    "    if not file_name.exists():\n",
    "        df = DataPipeLine(query).run_presto_to_df()\n",
    "        df.write_parquet(file_name, use_pyarrow=True)"
   ],
   "outputs": []
  },
  {
   "cell_type": "code",
   "execution_count": 4,
   "id": "e5efddde3263480c",
   "metadata": {
    "collapsed": false
   },
   "source": [
    "yesterday = date.today() - timedelta(days=1)\n",
    "dates = pl.date_range(start=date(2023, 9, 8), end=yesterday, interval='2d', eager=True)\n",
    "run = list(dates)\n",
    "run"
   ],
   "outputs": []
  },
  {
   "cell_type": "code",
   "execution_count": 5,
   "id": "da9e1c59",
   "metadata": {},
   "source": [
    "max_workers = 4   # depend on your CPU\n",
    "with ThreadPoolExecutor(max_workers) as executor:\n",
    "    executor.map(download, run)"
   ],
   "outputs": []
  },
  {
   "cell_type": "code",
   "execution_count": null,
   "id": "cea7cfa7",
   "metadata": {},
   "source": [],
   "outputs": []
  }
 ],
 "metadata": {
  "kernelspec": {
   "display_name": "Python 3",
   "language": "python",
   "name": "python3"
  },
  "language_info": {
   "codemirror_mode": {
    "name": "ipython",
    "version": 3
   },
   "file_extension": ".py",
   "mimetype": "text/x-python",
   "name": "python",
   "nbconvert_exporter": "python",
   "pygments_lexer": "ipython3",
   "version": "3.11.5"
  }
 },
 "nbformat": 4,
 "nbformat_minor": 5
}
