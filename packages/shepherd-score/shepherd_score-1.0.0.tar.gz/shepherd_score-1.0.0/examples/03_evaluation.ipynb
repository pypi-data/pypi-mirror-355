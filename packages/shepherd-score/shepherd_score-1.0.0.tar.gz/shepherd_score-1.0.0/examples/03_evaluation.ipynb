{
 "cells": [
  {
   "cell_type": "markdown",
   "id": "3093ce39-84db-4b57-b0e5-6344d45cbe07",
   "metadata": {},
   "source": [
    "# Evaluation objects and pipelines"
   ]
  },
  {
   "cell_type": "code",
   "execution_count": 1,
   "id": "619f0778-2464-48f6-92ba-988ab70a92a2",
   "metadata": {},
   "outputs": [
    {
     "name": "stdout",
     "output_type": "stream",
     "text": [
      "Jupyter environment detected. Enabling Open3D WebVisualizer.\n",
      "[Open3D INFO] WebRTC GUI backend enabled.\n",
      "[Open3D INFO] WebRTCWindowSystem: HTTP handshake server disabled.\n"
     ]
    }
   ],
   "source": [
    "%load_ext autoreload\n",
    "%autoreload 2\n",
    "\n",
    "import open3d # open3d can occasionally cause issues during imports; importing it first can help alleviate that\n",
    "import numpy as np\n",
    "from rdkit import Chem\n",
    "from shepherd_score.conformer_generation import embed_conformer_from_smiles\n",
    "\n",
    "from shepherd_score.evaluations.evaluate import ConfEval, UnconditionalEvalPipeline\n",
    "from shepherd_score.evaluations.evaluate import ConsistencyEvalPipeline, ConditionalEvalPipeline"
   ]
  },
  {
   "cell_type": "markdown",
   "id": "adafaa9d-3539-41af-b9bf-49b1ade22b22",
   "metadata": {},
   "source": [
    "## Conformer evaluation base class"
   ]
  },
  {
   "cell_type": "markdown",
   "id": "32637760-1c3a-4858-b910-b9857c8379cf",
   "metadata": {},
   "source": [
    "The base class used to evaluate conformer validity and get 2D graph properties is `ConfEval`. Other evaluation classes (other than docking) inherit from `ConfEval` and the related pipelines utilize these objects. \n",
    "\n",
    "Let's run a small experiment where the MMFF94-relaxed molecule is the \"generated\" molecule -- represent it as an atomic point cloud."
   ]
  },
  {
   "cell_type": "code",
   "execution_count": 2,
   "id": "01fe312e-cbcd-41c5-9720-1b2da50855f5",
   "metadata": {},
   "outputs": [],
   "source": [
    "rdkit_mol = embed_conformer_from_smiles('c1Cc2ccc(Cl)cc2C(=O)c1c3cc(N1nnc2cc(C)c(Cl)cc2c1=O)ccc3', MMFF_optimize=True)\n",
    "\n",
    "# get the atomic numbers as an array and the positions of the atoms\n",
    "atoms = np.array([a.GetAtomicNum() for a in rdkit_mol.GetAtoms()])\n",
    "positions = rdkit_mol.GetConformer().GetPositions()"
   ]
  },
  {
   "cell_type": "code",
   "execution_count": 3,
   "id": "2ae04c94-b75a-45e2-9e1b-0bbce7fafcb2",
   "metadata": {},
   "outputs": [
    {
     "name": "stderr",
     "output_type": "stream",
     "text": [
      "[19:01:11] DEPRECATION WARNING: please use MorganGenerator\n",
      "[19:01:11] DEPRECATION WARNING: please use MorganGenerator\n"
     ]
    }
   ],
   "source": [
    "conf_eval = ConfEval(atoms, positions, solvent='water') # solvent = None if gas phase"
   ]
  },
  {
   "cell_type": "code",
   "execution_count": 4,
   "id": "8313145a-450d-4e1f-b423-8fa588869008",
   "metadata": {},
   "outputs": [
    {
     "data": {
      "text/plain": [
       "xyz_block                   46\\n\\nC -3.529 -1.43 0.988\\nC -4.785 -0.771 1....\n",
       "mol                          <rdkit.Chem.rdchem.Mol object at 0x7fcfa2efd430>\n",
       "smiles                      Cc1cc2nnn(-c3cccc(C4=CCc5ccc(Cl)cc5C4=O)c3)c(=...\n",
       "molblock                    \\n     RDKit          3D\\n\\n 46 50  0  0  0  0...\n",
       "energy                                                             -85.047853\n",
       "partial_charges             [-0.01934405, -0.08768726, 0.02357351, -0.0417...\n",
       "solvent                                                                 water\n",
       "charge                                                                      0\n",
       "xyz_block_post_opt          46\\n\\nC           -3.74553476583238       -1.5...\n",
       "mol_post_opt                 <rdkit.Chem.rdchem.Mol object at 0x7fcfa2efd820>\n",
       "smiles_post_opt             Cc1cc2nnn(-c3cccc(C4=CCc5ccc(Cl)cc5C4=O)c3)c(=...\n",
       "molblock_post_opt           \\n     RDKit          3D\\n\\n 46 50  0  0  0  0...\n",
       "energy_post_opt                                                    -85.063897\n",
       "partial_charges_post_opt    [-0.01744805, -0.08852365, 0.02560653, -0.0409...\n",
       "is_valid                                                                 True\n",
       "is_valid_post_opt                                                        True\n",
       "is_graph_consistent                                                      True\n",
       "SA_score                                                             2.746132\n",
       "QED                                                                  0.422032\n",
       "logP                                                                  5.21832\n",
       "fsp3                                                                 0.083333\n",
       "morgan_fp                   [0, 0, 0, 0, 0, 0, 0, 0, 0, 0, 0, 0, 0, 0, 0, ...\n",
       "SA_score_post_opt                                                    2.746132\n",
       "QED_post_opt                                                         0.422032\n",
       "logP_post_opt                                                         5.21832\n",
       "fsp3_post_opt                                                        0.083333\n",
       "morgan_fp_post_opt          [0, 0, 0, 0, 0, 0, 0, 0, 0, 0, 0, 0, 0, 0, 0, ...\n",
       "strain_energy                                                        0.016044\n",
       "rmsd                                                                 0.440932\n",
       "dtype: object"
      ]
     },
     "execution_count": 4,
     "metadata": {},
     "output_type": "execute_result"
    }
   ],
   "source": [
    "conf_eval.to_pandas() # show the attributes as a pandas Series"
   ]
  },
  {
   "cell_type": "markdown",
   "id": "7f19b516-bc68-443e-9654-7258ec9e0c3e",
   "metadata": {},
   "source": [
    "## Conformer evaluation pipelines\n",
    "\n",
    "Since typically multiple molecules are generated and all need to be evaluated, some pipeline classes used."
   ]
  },
  {
   "cell_type": "markdown",
   "id": "d9378504-2b09-4305-9528-3db54fc0bbd3",
   "metadata": {},
   "source": [
    "### Unconditional evaluation\n",
    "The `UnconditionalEvalPipeline` simply iterates over all the generated molecules with `ConfEval` and stores the full evaluation."
   ]
  },
  {
   "cell_type": "markdown",
   "id": "48d6e968-4898-4bd8-a1cd-2e80887c78d7",
   "metadata": {},
   "source": [
    "Let's generate a few test molecules and embed them with RDKit ETKDG. We prepare them for the necessary inputs: a list of tuples containing each the molecule's corresponding atoms' atomic numbers and positions as numpy arrays."
   ]
  },
  {
   "cell_type": "code",
   "execution_count": 5,
   "id": "f54bf0ee-75b3-4c9f-aaa7-a7992c80df57",
   "metadata": {},
   "outputs": [],
   "source": [
    "smiles_ls = ['CC', 'CCC', 'CCCC']\n",
    "test_mols = [embed_conformer_from_smiles(smi, MMFF_optimize=False) for smi in smiles_ls]\n",
    "\n",
    "generated_mols = []\n",
    "for m in test_mols:\n",
    "    generated_mols.append(\n",
    "        (np.array([a.GetAtomicNum() for a in m.GetAtoms()]), m.GetConformer().GetPositions())\n",
    "    )"
   ]
  },
  {
   "cell_type": "markdown",
   "id": "65d07b5c-9446-4df3-8dd4-222c4c65e404",
   "metadata": {},
   "source": [
    "Initialize and run the pipeline."
   ]
  },
  {
   "cell_type": "code",
   "execution_count": 6,
   "id": "85bdeafe-0e6d-45cb-bfbe-0bb845843398",
   "metadata": {},
   "outputs": [
    {
     "name": "stderr",
     "output_type": "stream",
     "text": [
      "Unconditional Eval:   0%|          | 0/3 [00:00<?, ?it/s][19:01:11] DEPRECATION WARNING: please use MorganGenerator\n",
      "[19:01:11] DEPRECATION WARNING: please use MorganGenerator\n",
      "Unconditional Eval:  33%|███▎      | 1/3 [00:00<00:00,  5.79it/s][19:01:11] DEPRECATION WARNING: please use MorganGenerator\n",
      "[19:01:11] DEPRECATION WARNING: please use MorganGenerator\n",
      "Unconditional Eval:  67%|██████▋   | 2/3 [00:00<00:00,  5.65it/s][19:01:12] DEPRECATION WARNING: please use MorganGenerator\n",
      "[19:01:12] DEPRECATION WARNING: please use MorganGenerator\n",
      "Unconditional Eval: 100%|██████████| 3/3 [00:00<00:00,  5.35it/s]\n"
     ]
    }
   ],
   "source": [
    "uncond_pipe = UnconditionalEvalPipeline(generated_mols=generated_mols, solvent='water')\n",
    "uncond_pipe.evaluate(verbose=True)"
   ]
  },
  {
   "cell_type": "code",
   "execution_count": 7,
   "id": "f7bfb0a9-79db-4ec5-a3df-63995b2afc55",
   "metadata": {},
   "outputs": [],
   "source": [
    "properties_df, global_attr = uncond_pipe.to_pandas()"
   ]
  },
  {
   "cell_type": "code",
   "execution_count": 8,
   "id": "1caba8bc-c5ea-4391-a772-4fba9f3d3f7d",
   "metadata": {},
   "outputs": [
    {
     "data": {
      "text/html": [
       "<div>\n",
       "<style scoped>\n",
       "    .dataframe tbody tr th:only-of-type {\n",
       "        vertical-align: middle;\n",
       "    }\n",
       "\n",
       "    .dataframe tbody tr th {\n",
       "        vertical-align: top;\n",
       "    }\n",
       "\n",
       "    .dataframe thead th {\n",
       "        text-align: right;\n",
       "    }\n",
       "</style>\n",
       "<table border=\"1\" class=\"dataframe\">\n",
       "  <thead>\n",
       "    <tr style=\"text-align: right;\">\n",
       "      <th></th>\n",
       "      <th>generated_mols</th>\n",
       "      <th>molblocks</th>\n",
       "      <th>molblocks_post_opt</th>\n",
       "      <th>strain_energies</th>\n",
       "      <th>rmsds</th>\n",
       "      <th>SA_scores</th>\n",
       "      <th>logPs</th>\n",
       "      <th>QEDs</th>\n",
       "      <th>fsp3s</th>\n",
       "      <th>strain_energies_post_opt</th>\n",
       "      <th>rmsds_post_opt</th>\n",
       "      <th>SA_scores_post_opt</th>\n",
       "      <th>logPs_post_opt</th>\n",
       "      <th>QEDs_post_opt</th>\n",
       "      <th>fsp3s_post_opt</th>\n",
       "    </tr>\n",
       "  </thead>\n",
       "  <tbody>\n",
       "    <tr>\n",
       "      <th>0</th>\n",
       "      <td>([6, 6, 1, 1, 1, 1, 1, 1], [[-0.76367466358819...</td>\n",
       "      <td>\\n     RDKit          3D\\n\\n  8  7  0  0  0  0...</td>\n",
       "      <td>\\n     RDKit          3D\\n\\n  8  7  0  0  0  0...</td>\n",
       "      <td>0.006719</td>\n",
       "      <td>0.001154</td>\n",
       "      <td>2.747568</td>\n",
       "      <td>1.0262</td>\n",
       "      <td>0.372786</td>\n",
       "      <td>1.0</td>\n",
       "      <td>4.661066e-310</td>\n",
       "      <td>4.661067e-310</td>\n",
       "      <td>2.747568</td>\n",
       "      <td>1.0262</td>\n",
       "      <td>0.372786</td>\n",
       "      <td>1.0</td>\n",
       "    </tr>\n",
       "    <tr>\n",
       "      <th>1</th>\n",
       "      <td>([6, 6, 6, 1, 1, 1, 1, 1, 1, 1, 1], [[-1.11574...</td>\n",
       "      <td>\\n     RDKit          3D\\n\\n 11 10  0  0  0  0...</td>\n",
       "      <td>\\n     RDKit          3D\\n\\n 11 10  0  0  0  0...</td>\n",
       "      <td>0.016948</td>\n",
       "      <td>0.014228</td>\n",
       "      <td>1.754957</td>\n",
       "      <td>1.4163</td>\n",
       "      <td>0.385471</td>\n",
       "      <td>1.0</td>\n",
       "      <td>0.000000e+00</td>\n",
       "      <td>0.000000e+00</td>\n",
       "      <td>1.754957</td>\n",
       "      <td>1.4163</td>\n",
       "      <td>0.385471</td>\n",
       "      <td>1.0</td>\n",
       "    </tr>\n",
       "    <tr>\n",
       "      <th>2</th>\n",
       "      <td>([6, 6, 6, 6, 1, 1, 1, 1, 1, 1, 1, 1, 1, 1], [...</td>\n",
       "      <td>\\n     RDKit          3D\\n\\n 14 13  0  0  0  0...</td>\n",
       "      <td>\\n     RDKit          3D\\n\\n 14 13  0  0  0  0...</td>\n",
       "      <td>0.012491</td>\n",
       "      <td>0.062795</td>\n",
       "      <td>1.605723</td>\n",
       "      <td>1.8064</td>\n",
       "      <td>0.431024</td>\n",
       "      <td>1.0</td>\n",
       "      <td>1.581010e-322</td>\n",
       "      <td>1.581010e-322</td>\n",
       "      <td>1.605723</td>\n",
       "      <td>1.8064</td>\n",
       "      <td>0.431024</td>\n",
       "      <td>1.0</td>\n",
       "    </tr>\n",
       "  </tbody>\n",
       "</table>\n",
       "</div>"
      ],
      "text/plain": [
       "                                      generated_mols  \\\n",
       "0  ([6, 6, 1, 1, 1, 1, 1, 1], [[-0.76367466358819...   \n",
       "1  ([6, 6, 6, 1, 1, 1, 1, 1, 1, 1, 1], [[-1.11574...   \n",
       "2  ([6, 6, 6, 6, 1, 1, 1, 1, 1, 1, 1, 1, 1, 1], [...   \n",
       "\n",
       "                                           molblocks  \\\n",
       "0  \\n     RDKit          3D\\n\\n  8  7  0  0  0  0...   \n",
       "1  \\n     RDKit          3D\\n\\n 11 10  0  0  0  0...   \n",
       "2  \\n     RDKit          3D\\n\\n 14 13  0  0  0  0...   \n",
       "\n",
       "                                  molblocks_post_opt  strain_energies  \\\n",
       "0  \\n     RDKit          3D\\n\\n  8  7  0  0  0  0...         0.006719   \n",
       "1  \\n     RDKit          3D\\n\\n 11 10  0  0  0  0...         0.016948   \n",
       "2  \\n     RDKit          3D\\n\\n 14 13  0  0  0  0...         0.012491   \n",
       "\n",
       "      rmsds  SA_scores   logPs      QEDs  fsp3s  strain_energies_post_opt  \\\n",
       "0  0.001154   2.747568  1.0262  0.372786    1.0             4.661066e-310   \n",
       "1  0.014228   1.754957  1.4163  0.385471    1.0              0.000000e+00   \n",
       "2  0.062795   1.605723  1.8064  0.431024    1.0             1.581010e-322   \n",
       "\n",
       "   rmsds_post_opt  SA_scores_post_opt  logPs_post_opt  QEDs_post_opt  \\\n",
       "0   4.661067e-310            2.747568          1.0262       0.372786   \n",
       "1    0.000000e+00            1.754957          1.4163       0.385471   \n",
       "2   1.581010e-322            1.605723          1.8064       0.431024   \n",
       "\n",
       "   fsp3s_post_opt  \n",
       "0             1.0  \n",
       "1             1.0  \n",
       "2             1.0  "
      ]
     },
     "execution_count": 8,
     "metadata": {},
     "output_type": "execute_result"
    }
   ],
   "source": [
    "global_attr"
   ]
  },
  {
   "cell_type": "code",
   "execution_count": 9,
   "id": "c1d5d51f-201f-471c-a09d-eb79398f3a9b",
   "metadata": {},
   "outputs": [
    {
     "data": {
      "text/plain": [
       "num_generated_mols                                                         3\n",
       "solvent                                                                water\n",
       "num_valid                                                                  3\n",
       "num_valid_post_opt                                                         3\n",
       "num_consistent_graph                                                       3\n",
       "frac_valid                                                               1.0\n",
       "frac_valid_post_opt                                                      1.0\n",
       "frac_consistent                                                          1.0\n",
       "frac_unique                                                              1.0\n",
       "frac_unique_post_opt                                                     1.0\n",
       "avg_graph_diversity                                                 0.711111\n",
       "graph_similarity_matrix    [[1.0, 0.2, 0.16666666666666666], [0.2, 1.0, 0...\n",
       "dtype: object"
      ]
     },
     "execution_count": 9,
     "metadata": {},
     "output_type": "execute_result"
    }
   ],
   "source": [
    "properties_df"
   ]
  },
  {
   "cell_type": "markdown",
   "id": "94158bc3-07df-4ac1-8bc2-2a4a40bb9556",
   "metadata": {},
   "source": [
    "### Consistency evaluation\n",
    "\n",
    "This is used to evaluate if the jointly generated interaction profiles correspond to the true interaction profile of the generated molecule. The `ConsistencyEvalPipeline` simply iterates over all the generated molecules with the `ConsistencyEval` class and stores the full evaluation. In addition to the properties calculated by `ConfEval` it also does score-based alignment so it is a slower operation."
   ]
  },
  {
   "cell_type": "code",
   "execution_count": 10,
   "id": "ae1322cf-f751-4074-8339-294a8e9ea5c8",
   "metadata": {},
   "outputs": [],
   "source": [
    "from shepherd_score.container import Molecule"
   ]
  },
  {
   "cell_type": "markdown",
   "id": "4ed6a487",
   "metadata": {},
   "source": [
    "Prepare the inputs. We pretend that the test smiles are \"generated\" molecules with their corresponding interaction profiles. `ConsistencyEvalPipeline` expects this format for the inputs."
   ]
  },
  {
   "cell_type": "code",
   "execution_count": 11,
   "id": "a90d056d-e39f-4403-8325-208b26b81652",
   "metadata": {},
   "outputs": [],
   "source": [
    "smiles_ls = ['CC', 'CCC', 'CCCC']\n",
    "test_mols = [embed_conformer_from_smiles(smi, MMFF_optimize=True) for smi in smiles_ls]\n",
    "\n",
    "generated_mols = []\n",
    "generated_surf_points = []\n",
    "generated_surf_esp = []\n",
    "generated_pharm_feats = []\n",
    "for m in test_mols:\n",
    "    generated_mols.append(\n",
    "        (np.array([a.GetAtomicNum() for a in m.GetAtoms()]), m.GetConformer().GetPositions())\n",
    "    )\n",
    "    # Generate and store each interaction profile as if they were generated.\n",
    "    # Notably, we use MMFF94 partial charges and ConsistencyEvalPipeline \n",
    "    #  will compare the ESP to xTB generated partial charges\n",
    "    molec = Molecule(m, num_surf_points=200, probe_radius=1.2, partial_charges=None, pharm_multi_vector=False)\n",
    "    generated_surf_points.append(molec.surf_pos)\n",
    "    generated_surf_esp.append(molec.surf_esp)\n",
    "    generated_pharm_feats.append(\n",
    "        (molec.pharm_types, molec.pharm_ancs, molec.pharm_vecs)\n",
    "    )"
   ]
  },
  {
   "cell_type": "markdown",
   "id": "678c3dda",
   "metadata": {},
   "source": [
    "Initialize and run the pipeline"
   ]
  },
  {
   "cell_type": "code",
   "execution_count": 12,
   "id": "c04a8d8b-582e-4b30-a984-75def543c62a",
   "metadata": {},
   "outputs": [],
   "source": [
    "consis_eval = ConsistencyEvalPipeline(\n",
    "    generated_mols = generated_mols,\n",
    "    generated_surf_points = generated_surf_points,\n",
    "    generated_surf_esp = generated_surf_esp,\n",
    "    generated_pharm_feats = generated_pharm_feats,\n",
    "    probe_radius=1.2,\n",
    "    pharm_multi_vector=False,\n",
    "    solvent=None\n",
    ")"
   ]
  },
  {
   "cell_type": "code",
   "execution_count": 13,
   "id": "1dd5dc7a-6142-4a5e-8b95-6e9ebaeee5ad",
   "metadata": {},
   "outputs": [
    {
     "name": "stderr",
     "output_type": "stream",
     "text": [
      "Consistency Eval:   0%|          | 0/3 [00:00<?, ?it/s][19:01:12] DEPRECATION WARNING: please use MorganGenerator\n",
      "[19:01:12] DEPRECATION WARNING: please use MorganGenerator\n",
      "Consistency Eval:  33%|███▎      | 1/3 [00:01<00:02,  1.30s/it][19:01:14] DEPRECATION WARNING: please use MorganGenerator\n",
      "[19:01:14] DEPRECATION WARNING: please use MorganGenerator\n",
      "Consistency Eval:  67%|██████▋   | 2/3 [00:02<00:01,  1.37s/it][19:01:15] DEPRECATION WARNING: please use MorganGenerator\n",
      "[19:01:15] DEPRECATION WARNING: please use MorganGenerator\n",
      "Consistency Eval: 100%|██████████| 3/3 [00:04<00:00,  1.40s/it]\n"
     ]
    }
   ],
   "source": [
    "consis_eval.evaluate(num_processes=4, verbose=True)"
   ]
  },
  {
   "cell_type": "markdown",
   "id": "785caf98",
   "metadata": {},
   "source": [
    "You can view the saved attributes and properties as a pandas Series for the global (whole set) attributes and a DataFrame for per-sample properties."
   ]
  },
  {
   "cell_type": "code",
   "execution_count": 14,
   "id": "67db0c2b-1821-4b80-a8bc-a02fd6bb552f",
   "metadata": {},
   "outputs": [],
   "source": [
    "properties_df_consis, global_attr_consis = consis_eval.to_pandas()"
   ]
  },
  {
   "cell_type": "code",
   "execution_count": 15,
   "id": "da060844",
   "metadata": {},
   "outputs": [
    {
     "data": {
      "text/html": [
       "<div>\n",
       "<style scoped>\n",
       "    .dataframe tbody tr th:only-of-type {\n",
       "        vertical-align: middle;\n",
       "    }\n",
       "\n",
       "    .dataframe tbody tr th {\n",
       "        vertical-align: top;\n",
       "    }\n",
       "\n",
       "    .dataframe thead th {\n",
       "        text-align: right;\n",
       "    }\n",
       "</style>\n",
       "<table border=\"1\" class=\"dataframe\">\n",
       "  <thead>\n",
       "    <tr style=\"text-align: right;\">\n",
       "      <th></th>\n",
       "      <th>generated_mols</th>\n",
       "      <th>generated_surf_points</th>\n",
       "      <th>generated_surf_esp</th>\n",
       "      <th>generated_pharm_feats</th>\n",
       "      <th>molblocks</th>\n",
       "      <th>molblocks_post_opt</th>\n",
       "      <th>strain_energies</th>\n",
       "      <th>rmsds</th>\n",
       "      <th>SA_scores</th>\n",
       "      <th>logPs</th>\n",
       "      <th>...</th>\n",
       "      <th>sims_esp_upper_bound</th>\n",
       "      <th>sims_surf_lower_bound</th>\n",
       "      <th>sims_esp_lower_bound</th>\n",
       "      <th>sims_pharm_lower_bound</th>\n",
       "      <th>sims_surf_consistent_relax</th>\n",
       "      <th>sims_esp_consistent_relax</th>\n",
       "      <th>sims_pharm_consistent_relax</th>\n",
       "      <th>sims_surf_consistent_relax_optimal</th>\n",
       "      <th>sims_esp_consistent_relax_optimal</th>\n",
       "      <th>sims_pharm_consistent_relax_optimal</th>\n",
       "    </tr>\n",
       "  </thead>\n",
       "  <tbody>\n",
       "    <tr>\n",
       "      <th>0</th>\n",
       "      <td>([6, 6, 1, 1, 1, 1, 1, 1], [[-0.75347790992488...</td>\n",
       "      <td>[[-1.1622853, -2.9194512, -0.3687372], [-1.664...</td>\n",
       "      <td>[0.0, 0.0, 0.0, 0.0, 0.0, 0.0, 0.0, 0.0, 0.0, ...</td>\n",
       "      <td>([3], [[4.124822294837571e-08, -2.122918381312...</td>\n",
       "      <td>\\n     RDKit          3D\\n\\n  8  7  0  0  0  0...</td>\n",
       "      <td>\\n     RDKit          3D\\n\\n  8  7  0  0  0  0...</td>\n",
       "      <td>0.000204</td>\n",
       "      <td>0.005329</td>\n",
       "      <td>2.747568</td>\n",
       "      <td>1.0262</td>\n",
       "      <td>...</td>\n",
       "      <td>0.970873</td>\n",
       "      <td>NaN</td>\n",
       "      <td>NaN</td>\n",
       "      <td>NaN</td>\n",
       "      <td>0.979920</td>\n",
       "      <td>0.979918</td>\n",
       "      <td>1.000000</td>\n",
       "      <td>0.980252</td>\n",
       "      <td>0.980250</td>\n",
       "      <td>0.999987</td>\n",
       "    </tr>\n",
       "    <tr>\n",
       "      <th>1</th>\n",
       "      <td>([6, 6, 6, 1, 1, 1, 1, 1, 1, 1, 1], [[-1.21663...</td>\n",
       "      <td>[[-1.9376649, -2.890272, -0.05321455], [-1.638...</td>\n",
       "      <td>[0.0, 0.0, 0.0, 0.0, 0.0, 0.0, 0.0, 0.0, 0.0, ...</td>\n",
       "      <td>([3], [[-0.010918935404662933, -0.052514005803...</td>\n",
       "      <td>\\n     RDKit          3D\\n\\n 11 10  0  0  0  0...</td>\n",
       "      <td>\\n     RDKit          3D\\n\\n 11 10  0  0  0  0...</td>\n",
       "      <td>0.000215</td>\n",
       "      <td>0.003058</td>\n",
       "      <td>1.754957</td>\n",
       "      <td>1.4163</td>\n",
       "      <td>...</td>\n",
       "      <td>0.968017</td>\n",
       "      <td>NaN</td>\n",
       "      <td>NaN</td>\n",
       "      <td>NaN</td>\n",
       "      <td>0.972534</td>\n",
       "      <td>0.972532</td>\n",
       "      <td>0.999997</td>\n",
       "      <td>0.972822</td>\n",
       "      <td>0.972821</td>\n",
       "      <td>1.000000</td>\n",
       "    </tr>\n",
       "    <tr>\n",
       "      <th>2</th>\n",
       "      <td>([6, 6, 6, 6, 1, 1, 1, 1, 1, 1, 1, 1, 1, 1], [...</td>\n",
       "      <td>[[3.4988637, -1.722003, -0.20727295], [3.85821...</td>\n",
       "      <td>[0.0, 0.0, 0.0, 0.0, 0.0, 0.0, 0.0, 0.0, 0.0, ...</td>\n",
       "      <td>([3, 3], [[1.2636719511656584, 0.4148633070650...</td>\n",
       "      <td>\\n     RDKit          3D\\n\\n 14 13  0  0  0  0...</td>\n",
       "      <td>\\n     RDKit          3D\\n\\n 14 13  0  0  0  0...</td>\n",
       "      <td>0.000294</td>\n",
       "      <td>0.003009</td>\n",
       "      <td>1.605723</td>\n",
       "      <td>1.8064</td>\n",
       "      <td>...</td>\n",
       "      <td>0.965348</td>\n",
       "      <td>NaN</td>\n",
       "      <td>NaN</td>\n",
       "      <td>NaN</td>\n",
       "      <td>0.958321</td>\n",
       "      <td>0.958319</td>\n",
       "      <td>0.999997</td>\n",
       "      <td>0.958929</td>\n",
       "      <td>0.958927</td>\n",
       "      <td>0.999996</td>\n",
       "    </tr>\n",
       "  </tbody>\n",
       "</table>\n",
       "<p>3 rows × 30 columns</p>\n",
       "</div>"
      ],
      "text/plain": [
       "                                      generated_mols  \\\n",
       "0  ([6, 6, 1, 1, 1, 1, 1, 1], [[-0.75347790992488...   \n",
       "1  ([6, 6, 6, 1, 1, 1, 1, 1, 1, 1, 1], [[-1.21663...   \n",
       "2  ([6, 6, 6, 6, 1, 1, 1, 1, 1, 1, 1, 1, 1, 1], [...   \n",
       "\n",
       "                               generated_surf_points  \\\n",
       "0  [[-1.1622853, -2.9194512, -0.3687372], [-1.664...   \n",
       "1  [[-1.9376649, -2.890272, -0.05321455], [-1.638...   \n",
       "2  [[3.4988637, -1.722003, -0.20727295], [3.85821...   \n",
       "\n",
       "                                  generated_surf_esp  \\\n",
       "0  [0.0, 0.0, 0.0, 0.0, 0.0, 0.0, 0.0, 0.0, 0.0, ...   \n",
       "1  [0.0, 0.0, 0.0, 0.0, 0.0, 0.0, 0.0, 0.0, 0.0, ...   \n",
       "2  [0.0, 0.0, 0.0, 0.0, 0.0, 0.0, 0.0, 0.0, 0.0, ...   \n",
       "\n",
       "                               generated_pharm_feats  \\\n",
       "0  ([3], [[4.124822294837571e-08, -2.122918381312...   \n",
       "1  ([3], [[-0.010918935404662933, -0.052514005803...   \n",
       "2  ([3, 3], [[1.2636719511656584, 0.4148633070650...   \n",
       "\n",
       "                                           molblocks  \\\n",
       "0  \\n     RDKit          3D\\n\\n  8  7  0  0  0  0...   \n",
       "1  \\n     RDKit          3D\\n\\n 11 10  0  0  0  0...   \n",
       "2  \\n     RDKit          3D\\n\\n 14 13  0  0  0  0...   \n",
       "\n",
       "                                  molblocks_post_opt  strain_energies  \\\n",
       "0  \\n     RDKit          3D\\n\\n  8  7  0  0  0  0...         0.000204   \n",
       "1  \\n     RDKit          3D\\n\\n 11 10  0  0  0  0...         0.000215   \n",
       "2  \\n     RDKit          3D\\n\\n 14 13  0  0  0  0...         0.000294   \n",
       "\n",
       "      rmsds  SA_scores   logPs  ...  sims_esp_upper_bound  \\\n",
       "0  0.005329   2.747568  1.0262  ...              0.970873   \n",
       "1  0.003058   1.754957  1.4163  ...              0.968017   \n",
       "2  0.003009   1.605723  1.8064  ...              0.965348   \n",
       "\n",
       "   sims_surf_lower_bound  sims_esp_lower_bound  sims_pharm_lower_bound  \\\n",
       "0                    NaN                   NaN                     NaN   \n",
       "1                    NaN                   NaN                     NaN   \n",
       "2                    NaN                   NaN                     NaN   \n",
       "\n",
       "   sims_surf_consistent_relax  sims_esp_consistent_relax  \\\n",
       "0                    0.979920                   0.979918   \n",
       "1                    0.972534                   0.972532   \n",
       "2                    0.958321                   0.958319   \n",
       "\n",
       "   sims_pharm_consistent_relax  sims_surf_consistent_relax_optimal  \\\n",
       "0                     1.000000                            0.980252   \n",
       "1                     0.999997                            0.972822   \n",
       "2                     0.999997                            0.958929   \n",
       "\n",
       "   sims_esp_consistent_relax_optimal  sims_pharm_consistent_relax_optimal  \n",
       "0                           0.980250                             0.999987  \n",
       "1                           0.972821                             1.000000  \n",
       "2                           0.958927                             0.999996  \n",
       "\n",
       "[3 rows x 30 columns]"
      ]
     },
     "execution_count": 15,
     "metadata": {},
     "output_type": "execute_result"
    }
   ],
   "source": [
    "global_attr_consis"
   ]
  },
  {
   "cell_type": "code",
   "execution_count": 16,
   "id": "280d4a73",
   "metadata": {},
   "outputs": [
    {
     "data": {
      "text/plain": [
       "num_generated_mols                                                                  3\n",
       "solvent                                                                          None\n",
       "probe_radius                                                                      1.2\n",
       "pharm_multi_vector                                                              False\n",
       "num_valid                                                                           3\n",
       "num_valid_post_opt                                                                  3\n",
       "num_consistent_graph                                                                3\n",
       "frac_valid                                                                        1.0\n",
       "frac_valid_post_opt                                                               1.0\n",
       "frac_consistent                                                                   1.0\n",
       "frac_unique                                                                       1.0\n",
       "frac_unique_post_opt                                                              1.0\n",
       "avg_graph_diversity                                                               0.0\n",
       "graph_similarity_matrix             [[0.0, 0.0, 0.0], [0.0, 0.0, 0.0], [0.0, 0.0, ...\n",
       "avg_graph_diversity_post_opt                                                      0.0\n",
       "graph_similarity_matrix_post_opt    [[0.0, 0.0, 0.0], [0.0, 0.0, 0.0], [0.0, 0.0, ...\n",
       "dtype: object"
      ]
     },
     "execution_count": 16,
     "metadata": {},
     "output_type": "execute_result"
    }
   ],
   "source": [
    "properties_df_consis"
   ]
  },
  {
   "cell_type": "markdown",
   "id": "b208183c",
   "metadata": {},
   "source": [
    "### Conditional evaluation\n",
    "\n",
    "This is used to evaluate if the generated is similar (based on `shepherd_score` 3D scoring functions) to the target/reference molecule. The `ConditionalEvalPipeline` simply iterates over all the generated molecules with the `ConditionalEval` class and stores the full evaluation. In addition to the properties calculated by `ConfEval` it also does score-based alignment so it is a slower operation."
   ]
  },
  {
   "cell_type": "code",
   "execution_count": 17,
   "id": "ef746c18",
   "metadata": {},
   "outputs": [],
   "source": [
    "rdkit_mol = embed_conformer_from_smiles('c1Cc2ccc(Cl)cc2C(=O)c1c3cc(N1nnc2cc(C)c(Cl)cc2c1=O)ccc3', MMFF_optimize=True)\n",
    "\n",
    "# Again using MMFF94 partial charges\n",
    "ref_molec = Molecule(rdkit_mol, num_surf_points=200, probe_radius=1.2, pharm_multi_vector=False)"
   ]
  },
  {
   "cell_type": "code",
   "execution_count": 18,
   "id": "c18485f9",
   "metadata": {},
   "outputs": [
    {
     "name": "stderr",
     "output_type": "stream",
     "text": [
      "[19:01:17] DEPRECATION WARNING: please use MorganGenerator\n",
      "Conditional Eval:   0%|          | 0/3 [00:00<?, ?it/s][19:01:28] DEPRECATION WARNING: please use MorganGenerator\n",
      "[19:01:28] DEPRECATION WARNING: please use MorganGenerator\n",
      "Conditional Eval:  33%|███▎      | 1/3 [00:02<00:05,  2.53s/it][19:01:30] DEPRECATION WARNING: please use MorganGenerator\n",
      "[19:01:30] DEPRECATION WARNING: please use MorganGenerator\n",
      "Conditional Eval:  67%|██████▋   | 2/3 [00:03<00:01,  1.83s/it][19:01:32] DEPRECATION WARNING: please use MorganGenerator\n",
      "[19:01:32] DEPRECATION WARNING: please use MorganGenerator\n",
      "Conditional Eval: 100%|██████████| 3/3 [00:05<00:00,  1.78s/it]\n"
     ]
    }
   ],
   "source": [
    "cond_pipe = ConditionalEvalPipeline(ref_molec, generated_mols=generated_mols,\n",
    "                                    condition='all', num_surf_points=200,\n",
    "                                    pharm_multi_vector=False, solvent=None)\n",
    "cond_pipe.evaluate(verbose=True)"
   ]
  },
  {
   "cell_type": "code",
   "execution_count": 19,
   "id": "ace1cc0e",
   "metadata": {},
   "outputs": [],
   "source": [
    "properties_df_cond, global_attr_cond = cond_pipe.to_pandas()"
   ]
  },
  {
   "cell_type": "code",
   "execution_count": 20,
   "id": "c7672375",
   "metadata": {},
   "outputs": [
    {
     "data": {
      "text/html": [
       "<div>\n",
       "<style scoped>\n",
       "    .dataframe tbody tr th:only-of-type {\n",
       "        vertical-align: middle;\n",
       "    }\n",
       "\n",
       "    .dataframe tbody tr th {\n",
       "        vertical-align: top;\n",
       "    }\n",
       "\n",
       "    .dataframe thead th {\n",
       "        text-align: right;\n",
       "    }\n",
       "</style>\n",
       "<table border=\"1\" class=\"dataframe\">\n",
       "  <thead>\n",
       "    <tr style=\"text-align: right;\">\n",
       "      <th></th>\n",
       "      <th>generated_mols</th>\n",
       "      <th>molblocks</th>\n",
       "      <th>molblocks_post_opt</th>\n",
       "      <th>strain_energies</th>\n",
       "      <th>rmsds</th>\n",
       "      <th>SA_scores</th>\n",
       "      <th>logPs</th>\n",
       "      <th>QEDs</th>\n",
       "      <th>fsp3s</th>\n",
       "      <th>SA_scores_post_opt</th>\n",
       "      <th>...</th>\n",
       "      <th>sims_surf_target_relax</th>\n",
       "      <th>sims_esp_target_relax</th>\n",
       "      <th>sims_pharm_target_relax</th>\n",
       "      <th>sims_surf_target_relax_optimal</th>\n",
       "      <th>sims_esp_target_relax_optimal</th>\n",
       "      <th>sims_pharm_target_relax_optimal</th>\n",
       "      <th>sims_surf_target_relax_esp_aligned</th>\n",
       "      <th>sims_pharm_target_relax_esp_aligned</th>\n",
       "      <th>graph_similarities</th>\n",
       "      <th>graph_similarities_post_opt</th>\n",
       "    </tr>\n",
       "  </thead>\n",
       "  <tbody>\n",
       "    <tr>\n",
       "      <th>0</th>\n",
       "      <td>([6, 6, 1, 1, 1, 1, 1, 1], [[-0.75347790992488...</td>\n",
       "      <td>\\n     RDKit          3D\\n\\n  8  7  0  0  0  0...</td>\n",
       "      <td>\\n     RDKit          3D\\n\\n  8  7  0  0  0  0...</td>\n",
       "      <td>0.000204</td>\n",
       "      <td>0.005329</td>\n",
       "      <td>2.747568</td>\n",
       "      <td>1.0262</td>\n",
       "      <td>0.372786</td>\n",
       "      <td>1.0</td>\n",
       "      <td>2.747568</td>\n",
       "      <td>...</td>\n",
       "      <td>0.136737</td>\n",
       "      <td>0.136443</td>\n",
       "      <td>0.015734</td>\n",
       "      <td>0.215801</td>\n",
       "      <td>0.212543</td>\n",
       "      <td>0.075350</td>\n",
       "      <td>0.212790</td>\n",
       "      <td>0.074503</td>\n",
       "      <td>0.011905</td>\n",
       "      <td>0.011905</td>\n",
       "    </tr>\n",
       "    <tr>\n",
       "      <th>1</th>\n",
       "      <td>([6, 6, 6, 1, 1, 1, 1, 1, 1, 1, 1], [[-1.21663...</td>\n",
       "      <td>\\n     RDKit          3D\\n\\n 11 10  0  0  0  0...</td>\n",
       "      <td>\\n     RDKit          3D\\n\\n 11 10  0  0  0  0...</td>\n",
       "      <td>0.000215</td>\n",
       "      <td>0.003058</td>\n",
       "      <td>1.754957</td>\n",
       "      <td>1.4163</td>\n",
       "      <td>0.385471</td>\n",
       "      <td>1.0</td>\n",
       "      <td>1.754957</td>\n",
       "      <td>...</td>\n",
       "      <td>0.153875</td>\n",
       "      <td>0.153496</td>\n",
       "      <td>0.012852</td>\n",
       "      <td>0.199899</td>\n",
       "      <td>0.199468</td>\n",
       "      <td>0.075338</td>\n",
       "      <td>0.199899</td>\n",
       "      <td>0.003614</td>\n",
       "      <td>0.011628</td>\n",
       "      <td>0.011628</td>\n",
       "    </tr>\n",
       "    <tr>\n",
       "      <th>2</th>\n",
       "      <td>([6, 6, 6, 6, 1, 1, 1, 1, 1, 1, 1, 1, 1, 1], [...</td>\n",
       "      <td>\\n     RDKit          3D\\n\\n 14 13  0  0  0  0...</td>\n",
       "      <td>\\n     RDKit          3D\\n\\n 14 13  0  0  0  0...</td>\n",
       "      <td>0.000294</td>\n",
       "      <td>0.003009</td>\n",
       "      <td>1.605723</td>\n",
       "      <td>1.8064</td>\n",
       "      <td>0.431024</td>\n",
       "      <td>1.0</td>\n",
       "      <td>1.605723</td>\n",
       "      <td>...</td>\n",
       "      <td>0.168214</td>\n",
       "      <td>0.167741</td>\n",
       "      <td>0.022982</td>\n",
       "      <td>0.241039</td>\n",
       "      <td>0.240074</td>\n",
       "      <td>0.077281</td>\n",
       "      <td>0.241034</td>\n",
       "      <td>0.043792</td>\n",
       "      <td>0.011494</td>\n",
       "      <td>0.011494</td>\n",
       "    </tr>\n",
       "  </tbody>\n",
       "</table>\n",
       "<p>3 rows × 26 columns</p>\n",
       "</div>"
      ],
      "text/plain": [
       "                                      generated_mols  \\\n",
       "0  ([6, 6, 1, 1, 1, 1, 1, 1], [[-0.75347790992488...   \n",
       "1  ([6, 6, 6, 1, 1, 1, 1, 1, 1, 1, 1], [[-1.21663...   \n",
       "2  ([6, 6, 6, 6, 1, 1, 1, 1, 1, 1, 1, 1, 1, 1], [...   \n",
       "\n",
       "                                           molblocks  \\\n",
       "0  \\n     RDKit          3D\\n\\n  8  7  0  0  0  0...   \n",
       "1  \\n     RDKit          3D\\n\\n 11 10  0  0  0  0...   \n",
       "2  \\n     RDKit          3D\\n\\n 14 13  0  0  0  0...   \n",
       "\n",
       "                                  molblocks_post_opt  strain_energies  \\\n",
       "0  \\n     RDKit          3D\\n\\n  8  7  0  0  0  0...         0.000204   \n",
       "1  \\n     RDKit          3D\\n\\n 11 10  0  0  0  0...         0.000215   \n",
       "2  \\n     RDKit          3D\\n\\n 14 13  0  0  0  0...         0.000294   \n",
       "\n",
       "      rmsds  SA_scores   logPs      QEDs  fsp3s  SA_scores_post_opt  ...  \\\n",
       "0  0.005329   2.747568  1.0262  0.372786    1.0            2.747568  ...   \n",
       "1  0.003058   1.754957  1.4163  0.385471    1.0            1.754957  ...   \n",
       "2  0.003009   1.605723  1.8064  0.431024    1.0            1.605723  ...   \n",
       "\n",
       "   sims_surf_target_relax  sims_esp_target_relax  sims_pharm_target_relax  \\\n",
       "0                0.136737               0.136443                 0.015734   \n",
       "1                0.153875               0.153496                 0.012852   \n",
       "2                0.168214               0.167741                 0.022982   \n",
       "\n",
       "   sims_surf_target_relax_optimal  sims_esp_target_relax_optimal  \\\n",
       "0                        0.215801                       0.212543   \n",
       "1                        0.199899                       0.199468   \n",
       "2                        0.241039                       0.240074   \n",
       "\n",
       "   sims_pharm_target_relax_optimal  sims_surf_target_relax_esp_aligned  \\\n",
       "0                         0.075350                            0.212790   \n",
       "1                         0.075338                            0.199899   \n",
       "2                         0.077281                            0.241034   \n",
       "\n",
       "   sims_pharm_target_relax_esp_aligned  graph_similarities  \\\n",
       "0                             0.074503            0.011905   \n",
       "1                             0.003614            0.011628   \n",
       "2                             0.043792            0.011494   \n",
       "\n",
       "   graph_similarities_post_opt  \n",
       "0                     0.011905  \n",
       "1                     0.011628  \n",
       "2                     0.011494  \n",
       "\n",
       "[3 rows x 26 columns]"
      ]
     },
     "execution_count": 20,
     "metadata": {},
     "output_type": "execute_result"
    }
   ],
   "source": [
    "global_attr_cond"
   ]
  },
  {
   "cell_type": "code",
   "execution_count": 21,
   "id": "a762f5b9",
   "metadata": {},
   "outputs": [
    {
     "data": {
      "text/plain": [
       "num_generated_mols                                                                3\n",
       "solvent                                                                        None\n",
       "pharm_multi_vector                                                            False\n",
       "condition                                                                       all\n",
       "num_surf_points                                                                 200\n",
       "lam                                                                             0.3\n",
       "lam_scaled                                                                62.206048\n",
       "ref_molblock                      \\n     RDKit          3D\\n\\n 46 50  0  0  0  0...\n",
       "ref_mol_SA_score                                                           2.746132\n",
       "ref_mol_QED                                                                0.422032\n",
       "ref_mol_logP                                                                6.78332\n",
       "ref_mol_fsp3                                                               0.083333\n",
       "ref_mol_morgan_fp                 [0, 0, 0, 0, 0, 0, 0, 0, 0, 0, 0, 0, 0, 0, 0, ...\n",
       "ref_surf_resampling_scores        [0.8622694437110332, 0.8518186193216917, 0.861...\n",
       "ref_surf_esp_resampling_scores    [0.8621934850524495, 0.8517586600412381, 0.861...\n",
       "sims_surf_upper_bound                                                      0.864989\n",
       "sims_esp_upper_bound                                                        0.86492\n",
       "num_valid                                                                         3\n",
       "num_valid_post_opt                                                                3\n",
       "num_consistent_graph                                                              3\n",
       "frac_valid                                                                      1.0\n",
       "frac_valid_post_opt                                                             1.0\n",
       "frac_consistent                                                                 1.0\n",
       "frac_unique                                                                     1.0\n",
       "frac_unique_post_opt                                                            1.0\n",
       "avg_graph_diversity                                                        0.988324\n",
       "dtype: object"
      ]
     },
     "execution_count": 21,
     "metadata": {},
     "output_type": "execute_result"
    }
   ],
   "source": [
    "properties_df_cond"
   ]
  },
  {
   "cell_type": "code",
   "execution_count": null,
   "id": "e6c2568f-0cf0-48ff-8d95-97090b9e237c",
   "metadata": {},
   "outputs": [],
   "source": []
  }
 ],
 "metadata": {
  "kernelspec": {
   "display_name": "Python [conda env:.conda-shp_score]",
   "language": "python",
   "name": "conda-env-.conda-shp_score-py"
  },
  "language_info": {
   "codemirror_mode": {
    "name": "ipython",
    "version": 3
   },
   "file_extension": ".py",
   "mimetype": "text/x-python",
   "name": "python",
   "nbconvert_exporter": "python",
   "pygments_lexer": "ipython3",
   "version": "3.8.13"
  }
 },
 "nbformat": 4,
 "nbformat_minor": 5
}
