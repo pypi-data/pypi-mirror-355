{
 "cells": [
  {
   "cell_type": "markdown",
   "metadata": {},
   "source": [
    "# Creating a Discussion\n",
    "\n",
    "The simplest task you can accomplish with this library is to create a small discussion between LLMs. \n",
    "\n",
    "This guide will teach you the basic setup of the library. You will understand how to setup models, user-agents and how to coordinate them in a discussion. By the end of htis guide, you will be able to run a small discussion with a moderator and save it to the disk for persistence."
   ]
  },
  {
   "cell_type": "markdown",
   "metadata": {},
   "source": [
    "## Basics"
   ]
  },
  {
   "cell_type": "markdown",
   "metadata": {},
   "source": [
    "### The Model\n",
    "\n",
    "SynDisco can theoretically support any LLM, as long as it is wrapped in a `BaseModel` wrapper. The `BaseModel` class is a very simple interface with one method. This method gives the underlying LLM input, and returns its output to the library.\n",
    "\n",
    "There already exists a `TransformersModel` class which handles models from the `transformers` python library. In 90% of your applications, this will be enough. We can load a TransformersModel using the following code:"
   ]
  },
  {
   "cell_type": "code",
   "execution_count": 1,
   "metadata": {
    "execution": {
     "iopub.execute_input": "2025-04-04T13:14:26.434159Z",
     "iopub.status.busy": "2025-04-04T13:14:26.433413Z",
     "iopub.status.idle": "2025-04-04T13:17:17.032081Z",
     "shell.execute_reply": "2025-04-04T13:17:17.031468Z"
    }
   },
   "outputs": [
    {
     "name": "stderr",
     "output_type": "stream",
     "text": [
      "/home/dimits/anaconda3/envs/syndisco-dev/lib/python3.13/site-packages/tqdm/auto.py:21: TqdmWarning: IProgress not found. Please update jupyter and ipywidgets. See https://ipywidgets.readthedocs.io/en/stable/user_install.html\n",
      "  from .autonotebook import tqdm as notebook_tqdm\n",
      "Device set to use cuda:0\n"
     ]
    }
   ],
   "source": [
    "from syndisco.model import TransformersModel\n",
    "\n",
    "llm = TransformersModel(\n",
    "    model_path=\"unsloth/Llama-3.2-3B-Instruct-bnb-4bit\",\n",
    "    name=\"test_model\",\n",
    "    max_out_tokens=100,\n",
    ")"
   ]
  },
  {
   "cell_type": "markdown",
   "metadata": {},
   "source": [
    "This will download a small LLM from huggingface. You can substitute the model_path for any similar model in [HuggingFace](https://huggingface.co/) supporting the Transformers library."
   ]
  },
  {
   "cell_type": "markdown",
   "metadata": {},
   "source": [
    "### Creating personas\n",
    "\n",
    "All `actors` can be defined by a `persona`, aka a set of attributes that define them. These attributes can be age, ethnicity, and even include special instructions on how they should behave.\n",
    "\n",
    "Creating a persona programmatically is simple:"
   ]
  },
  {
   "cell_type": "code",
   "execution_count": 2,
   "metadata": {
    "execution": {
     "iopub.execute_input": "2025-04-04T13:17:17.035421Z",
     "iopub.status.busy": "2025-04-04T13:17:17.035009Z",
     "iopub.status.idle": "2025-04-04T13:17:17.043083Z",
     "shell.execute_reply": "2025-04-04T13:17:17.042635Z"
    }
   },
   "outputs": [
    {
     "name": "stdout",
     "output_type": "stream",
     "text": [
      "{\"username\": \"Emma35\", \"age\": 38, \"sex\": \"female\", \"sexual_orientation\": \"Heterosexual\", \"demographic_group\": \"Latino\", \"current_employment\": \"Registered Nurse\", \"education_level\": \"Bachelor's\", \"special_instructions\": \"\", \"personality_characteristics\": [\"compassionate\", \"patient\", \"diligent\", \"overwhelmed\"]}\n",
      "{\"username\": \"Giannis\", \"age\": 21, \"sex\": \"male\", \"sexual_orientation\": \"Pansexual\", \"demographic_group\": \"White\", \"current_employment\": \"Game Developer\", \"education_level\": \"College\", \"special_instructions\": \"\", \"personality_characteristics\": [\"strategic\", \"meticulous\", \"nerdy\", \"hyper-focused\"]}\n"
     ]
    }
   ],
   "source": [
    "from syndisco.actors import Persona\n",
    "\n",
    "persona_data = [\n",
    "    {\n",
    "        \"username\": \"Emma35\",\n",
    "        \"age\": 38,\n",
    "        \"sex\": \"female\",\n",
    "        \"education_level\": \"Bachelor's\",\n",
    "        \"sexual_orientation\": \"Heterosexual\",\n",
    "        \"demographic_group\": \"Latino\",\n",
    "        \"current_employment\": \"Registered Nurse\",\n",
    "        \"special_instructions\": \"\",\n",
    "        \"personality_characteristics\": [\n",
    "            \"compassionate\",\n",
    "            \"patient\",\n",
    "            \"diligent\",\n",
    "            \"overwhelmed\",\n",
    "        ],\n",
    "    },\n",
    "    {\n",
    "        \"username\": \"Giannis\",\n",
    "        \"age\": 21,\n",
    "        \"sex\": \"male\",\n",
    "        \"education_level\": \"College\",\n",
    "        \"sexual_orientation\": \"Pansexual\",\n",
    "        \"demographic_group\": \"White\",\n",
    "        \"current_employment\": \"Game Developer\",\n",
    "        \"special_instructions\": \"\",\n",
    "        \"personality_characteristics\": [\n",
    "            \"strategic\",\n",
    "            \"meticulous\",\n",
    "            \"nerdy\",\n",
    "            \"hyper-focused\",\n",
    "        ],\n",
    "    },\n",
    "]\n",
    "\n",
    "personas = [Persona(**data) for data in persona_data]\n",
    "\n",
    "for persona in personas:\n",
    "    print(persona)"
   ]
  },
  {
   "cell_type": "markdown",
   "metadata": {},
   "source": [
    "Since creating a lot of distinct users is essential in running large-scale experiments, users are usually defined in JSON format. That way, you can change anything without touching your code!\n",
    "\n",
    "[Here](https://github.com/dimits-ts/synthetic_moderation_experiments/blob/master/data/discussions_input/personas/personas.json) is an applied example of how to mass-define user personas through JSON files."
   ]
  },
  {
   "cell_type": "markdown",
   "metadata": {},
   "source": [
    "### Creating the user-agents\n",
    "\n",
    "Having a `persona` and a `model` we can finally create an `actor`. The actor will personify the selected persona using the model to talk.\n",
    "\n",
    "Besides a persona and a model, the actors will also need instructions and a context. By convention, all actors share the same context, and all user-agents share the same instructions. Personalized instructions are defined in the actor's persona."
   ]
  },
  {
   "cell_type": "code",
   "execution_count": 3,
   "metadata": {
    "execution": {
     "iopub.execute_input": "2025-04-04T13:17:17.045370Z",
     "iopub.status.busy": "2025-04-04T13:17:17.045239Z",
     "iopub.status.idle": "2025-04-04T13:17:17.048755Z",
     "shell.execute_reply": "2025-04-04T13:17:17.048324Z"
    }
   },
   "outputs": [],
   "source": [
    "from syndisco.actors import Actor, ActorType\n",
    "\n",
    "\n",
    "CONTEXT = \"You are taking part in an online conversation\"\n",
    "INSTRUCTIONS = \"Act like a human would\"\n",
    "\n",
    "actors = [\n",
    "    Actor(\n",
    "        model=llm,\n",
    "        persona=p,\n",
    "        actor_type=ActorType.USER,\n",
    "        context=CONTEXT,\n",
    "        instructions=INSTRUCTIONS\n",
    "    )\n",
    "    for p in personas\n",
    "]"
   ]
  },
  {
   "cell_type": "markdown",
   "metadata": {},
   "source": [
    "### Managing turn-taking\n",
    "\n",
    "In real-life discussions, who gets to speak at each point in time is determined by complex social dynamics, which are difficult to realistically model.\n",
    "However, there are ways with which we can simulate these dynamics. \n",
    "\n",
    "SynDisco uses the `TurnManager` class to model turn taking. Two implementations are available by default: Round Robin, and Random Weighted"
   ]
  },
  {
   "cell_type": "markdown",
   "metadata": {},
   "source": [
    "- `Round Robin` is the simplest, most intuitive way to model turn-taking; everyone gets to talk once per round. Once everyone talks once, they get to talk again in the same sequence"
   ]
  },
  {
   "cell_type": "code",
   "execution_count": 4,
   "metadata": {
    "execution": {
     "iopub.execute_input": "2025-04-04T13:17:17.051022Z",
     "iopub.status.busy": "2025-04-04T13:17:17.050894Z",
     "iopub.status.idle": "2025-04-04T13:17:17.054840Z",
     "shell.execute_reply": "2025-04-04T13:17:17.054315Z"
    }
   },
   "outputs": [
    {
     "name": "stdout",
     "output_type": "stream",
     "text": [
      "John\n",
      "Mary\n",
      "Howard\n",
      "Todd\n",
      "John\n",
      "Mary\n",
      "Howard\n",
      "Todd\n",
      "John\n",
      "Mary\n"
     ]
    }
   ],
   "source": [
    "from syndisco.turn_manager import RoundRobin\n",
    "\n",
    "\n",
    "rrobin_turn_manager = RoundRobin([\"John\", \"Mary\", \"Howard\", \"Todd\"])\n",
    "\n",
    "for i in range(10):\n",
    "    print(next(rrobin_turn_manager))"
   ]
  },
  {
   "cell_type": "markdown",
   "metadata": {},
   "source": [
    "- `RandomWeighted` on the other hand throws a weighted coin on each round. If the coin flip succedes, the previous user gets to respond. If not, another user is selected at random"
   ]
  },
  {
   "cell_type": "code",
   "execution_count": 5,
   "metadata": {
    "execution": {
     "iopub.execute_input": "2025-04-04T13:17:17.057039Z",
     "iopub.status.busy": "2025-04-04T13:17:17.056846Z",
     "iopub.status.idle": "2025-04-04T13:17:17.060907Z",
     "shell.execute_reply": "2025-04-04T13:17:17.060380Z"
    }
   },
   "outputs": [
    {
     "name": "stdout",
     "output_type": "stream",
     "text": [
      "Mary\n",
      "John\n",
      "Todd\n",
      "John\n",
      "Howard\n",
      "John\n",
      "Todd\n",
      "Mary\n",
      "John\n",
      "Mary\n"
     ]
    }
   ],
   "source": [
    "from syndisco.turn_manager import RandomWeighted\n",
    "\n",
    "\n",
    "rweighted_turn_manager = RandomWeighted(\n",
    "    names=[\"John\", \"Mary\", \"Howard\", \"Todd\"], p_respond=0.5\n",
    ")\n",
    "\n",
    "for i in range(10):\n",
    "    print(next(rweighted_turn_manager))"
   ]
  },
  {
   "cell_type": "markdown",
   "metadata": {},
   "source": [
    "## Generating a discussion\n",
    "\n",
    "Let's start with the most basic task; a single discussion between two user-agents."
   ]
  },
  {
   "cell_type": "markdown",
   "metadata": {},
   "source": [
    "Since we only have two users, a RoundRobin approach where each user takes a turn sequentially is sufficient."
   ]
  },
  {
   "cell_type": "markdown",
   "metadata": {},
   "source": [
    "Now we can run a simple discussion"
   ]
  },
  {
   "cell_type": "code",
   "execution_count": 6,
   "metadata": {
    "execution": {
     "iopub.execute_input": "2025-04-04T13:17:17.063253Z",
     "iopub.status.busy": "2025-04-04T13:17:17.063053Z",
     "iopub.status.idle": "2025-04-04T13:17:44.769808Z",
     "shell.execute_reply": "2025-04-04T13:17:44.768924Z"
    }
   },
   "outputs": [
    {
     "name": "stderr",
     "output_type": "stream",
     "text": [
      " 20%|██        | 1/5 [00:01<00:05,  1.46s/it]"
     ]
    },
    {
     "name": "stdout",
     "output_type": "stream",
     "text": [
      "User Emma35 posted:\n",
      "\"Hey everyone, I just wanted to check in and see how everyone is\n",
      "doing. I've been feeling really overwhelmed with work and personal\n",
      "stuff lately. Anyone else feeling like they're just trying to keep\n",
      "their head above water?\" \n",
      "\n"
     ]
    },
    {
     "name": "stderr",
     "output_type": "stream",
     "text": [
      " 40%|████      | 2/5 [00:03<00:05,  1.91s/it]"
     ]
    },
    {
     "name": "stdout",
     "output_type": "stream",
     "text": [
      "User Giannis posted:\n",
      "\"Hey Emma, I totally feel you. As a game developer, I'm always trying\n",
      "to meet deadlines and balance work and personal life, but it's not\n",
      "always easy. I've been putting in some long hours lately trying to get\n",
      "a new project off the ground. But it's great that you're acknowledging\n",
      "your feelings and reaching out. Have you tried any stress-reducing\n",
      "techniques that work for you? I've been trying out meditation and\n",
      "taking short breaks during the day to clear my head.\" \n",
      "\n"
     ]
    },
    {
     "name": "stderr",
     "output_type": "stream",
     "text": [
      " 60%|██████    | 3/5 [00:05<00:04,  2.08s/it]"
     ]
    },
    {
     "name": "stdout",
     "output_type": "stream",
     "text": [
      "User Emma35 posted:\n",
      "\"Thank you so much for reaching out and sharing your experience,\n",
      "Giannis. I totally understand what you mean about balancing work and\n",
      "personal life. As a nurse, I'm always on my feet and dealing with\n",
      "high-stress situations, so it can be tough to unwind. I've actually\n",
      "been trying out some stress-reducing techniques too, like deep\n",
      "breathing exercises and yoga. But I have to admit, I've been\n",
      "struggling to make time for them lately. I've also been thinking about\n",
      "setting \n",
      "\n"
     ]
    },
    {
     "name": "stderr",
     "output_type": "stream",
     "text": [
      " 80%|████████  | 4/5 [00:08<00:02,  2.16s/it]"
     ]
    },
    {
     "name": "stdout",
     "output_type": "stream",
     "text": [
      "User Giannis posted:\n",
      "\"Setting boundaries is a great idea, Emma. As someone who's always\n",
      "working on multiple projects at once, I've learned the importance of\n",
      "prioritizing tasks and learning to say no to non-essential work. Maybe\n",
      "we can even collaborate on a project together and I can help you\n",
      "prioritize your tasks and make time for self-care. I've also found\n",
      "that having a dedicated workspace and minimizing distractions can\n",
      "really help with focus and reducing stress. What kind of projects have\n",
      "you been working on, Emma? Maybe \n",
      "\n"
     ]
    },
    {
     "name": "stderr",
     "output_type": "stream",
     "text": [
      "100%|██████████| 5/5 [00:10<00:00,  2.10s/it]"
     ]
    },
    {
     "name": "stdout",
     "output_type": "stream",
     "text": [
      "User Emma35 posted:\n",
      "\"Ah, that sounds like a great idea, Giannis! I'd love to collaborate\n",
      "on a project with you. As for my work, I've been juggling a heavy\n",
      "patient load at the hospital and trying to prepare for a big exam in\n",
      "my nursing program. It's been a lot to handle, but I'm determined to\n",
      "get it all done. I've been trying to prioritize my tasks and focus on\n",
      "one thing at a time, but it's hard when you have to deal with\n",
      "emergencies \n",
      "\n"
     ]
    },
    {
     "name": "stderr",
     "output_type": "stream",
     "text": [
      "\n"
     ]
    }
   ],
   "source": [
    "from syndisco.jobs import Discussion\n",
    "\n",
    "\n",
    "turn_manager = RoundRobin([actor.get_name() for actor in actors])\n",
    "conv = Discussion(next_turn_manager=turn_manager, users=actors)\n",
    "conv.begin()"
   ]
  },
  {
   "cell_type": "markdown",
   "metadata": {},
   "source": [
    "Let's add a moderator to oversee the discussion."
   ]
  },
  {
   "cell_type": "code",
   "execution_count": 7,
   "metadata": {
    "execution": {
     "iopub.execute_input": "2025-04-04T13:17:44.772648Z",
     "iopub.status.busy": "2025-04-04T13:17:44.772462Z",
     "iopub.status.idle": "2025-04-04T13:18:34.768890Z",
     "shell.execute_reply": "2025-04-04T13:18:34.768037Z"
    }
   },
   "outputs": [
    {
     "name": "stderr",
     "output_type": "stream",
     "text": [
      "  0%|          | 0/5 [00:00<?, ?it/s]"
     ]
    },
    {
     "name": "stdout",
     "output_type": "stream",
     "text": [
      "User Emma35 posted:\n",
      "\"Hey everyone, I just had the craziest shift at the hospital today. We\n",
      "were short-staffed and I had to juggle multiple patients at once. I'm\n",
      "exhausted but grateful for the opportunity to make a difference in my\n",
      "patients' lives. Has anyone else had a tough day at work?\" \n",
      "\n"
     ]
    },
    {
     "name": "stderr",
     "output_type": "stream",
     "text": [
      " 20%|██        | 1/5 [00:02<00:11,  2.88s/it]"
     ]
    },
    {
     "name": "stdout",
     "output_type": "stream",
     "text": [
      "User Moderator posted:\n",
      "\"Hi Emma35, I can imagine how challenging it must have been to work\n",
      "with limited staff. It's great that you were able to prioritize your\n",
      "patients' needs and make a positive impact despite the difficulties.\n",
      "Have you worked in a high-pressure environment like a hospital before,\n",
      "or was this a particularly tough shift for you?\" \n",
      "\n",
      "User Giannis posted:\n",
      "\"Hey Emma, I totally feel for you, I've had my share of crazy shifts\n",
      "in the gaming industry, but I've never had to deal with the high\n",
      "stakes of a hospital environment. I've worked on several high-profile\n",
      "projects, but I can imagine how tough it must be to juggle multiple\n",
      "patients at once. I'm sure it's not just about managing workload, but\n",
      "also about maintaining a calm and composed demeanor under pressure.\n",
      "I've always been meticulous about my work, and I can \n",
      "\n"
     ]
    },
    {
     "name": "stderr",
     "output_type": "stream",
     "text": [
      " 40%|████      | 2/5 [00:07<00:11,  3.82s/it]"
     ]
    },
    {
     "name": "stdout",
     "output_type": "stream",
     "text": [
      "User Moderator posted:\n",
      "User Moderator posted: \"Thank you for sharing your perspective,\n",
      "Giannis. Maintaining a calm and composed demeanor is indeed crucial in\n",
      "high-pressure environments like a hospital. It's great to hear that\n",
      "you've had experience with high-profile projects in the gaming\n",
      "industry, as it can be similar to the high-stakes environment of a\n",
      "hospital. Emma, can you tell us more about what made this particular\n",
      "shift challenging for you? Was there a specific situation that stood\n",
      "out to you, or was it more of \n",
      "\n"
     ]
    },
    {
     "name": "stderr",
     "output_type": "stream",
     "text": [
      "You seem to be using the pipelines sequentially on GPU. In order to maximize efficiency please use a dataset\n"
     ]
    },
    {
     "name": "stdout",
     "output_type": "stream",
     "text": [
      "User Moderator posted:\n",
      "User Emma35 posted: \"Thanks for asking, Giannis and Moderator. To be\n",
      "honest, it was a mix of both. We were short-staffed, and I had to\n",
      "juggle multiple patients at once, as I mentioned earlier. But what\n",
      "really made it challenging was when one of my patients had a code blue\n",
      "and we had to scramble to get him to the operating room. The whole\n",
      "team had to work together to get him stabilized, and it was a really\n",
      "intense moment. But despite \n",
      "\n"
     ]
    },
    {
     "name": "stderr",
     "output_type": "stream",
     "text": [
      " 60%|██████    | 3/5 [00:11<00:08,  4.17s/it]"
     ]
    },
    {
     "name": "stdout",
     "output_type": "stream",
     "text": [
      "User Moderator posted:\n",
      "User Emma35 posted: \"it was a really intense moment, but we were able\n",
      "to get him stabilized and he's doing much better now. It's moments\n",
      "like those that remind me of why I love my job. It's not always easy,\n",
      "but it's moments like those that make it all worth it. Thanks for\n",
      "listening, everyone. I feel like I can vent to all of you now.\"  User\n",
      "Giannis posted: \"I'm glad to hear that the patient is doing \n",
      "\n",
      "User Emma35 posted:\n",
      "\"Thank you so much, Giannis, for your kind words. It means a lot to\n",
      "me. I have to say, it was a really surreal experience, seeing all the\n",
      "staff come together to save that patient. It's moments like those that\n",
      "remind me why I chose to become a nurse in the first place - to make a\n",
      "difference in people's lives. And I think that's what makes this job\n",
      "so rewarding, despite the challenges. I feel grateful to have such a\n",
      "great team behind me \n",
      "\n"
     ]
    },
    {
     "name": "stderr",
     "output_type": "stream",
     "text": [
      " 80%|████████  | 4/5 [00:16<00:04,  4.34s/it]"
     ]
    },
    {
     "name": "stdout",
     "output_type": "stream",
     "text": [
      "User Moderator posted:\n",
      "User Moderator posted: \"Thank you, Emma, for sharing your story with\n",
      "us. It's clear that your dedication to your patients and your team is\n",
      "truly inspiring. It's great to see how the gaming industry and\n",
      "healthcare can have parallels, as you mentioned earlier. The teamwork\n",
      "and quick thinking required in both fields are remarkable. Giannis,\n",
      "your experience with high-profile projects can indeed provide valuable\n",
      "insights into managing high-pressure situations. Can you tell us more\n",
      "about what you \n",
      "\n",
      "User Giannis posted:\n",
      "User Giannis posted: \"Thanks, Moderator, for the kind words. I\n",
      "completely agree with Emma that the parallels between the gaming\n",
      "industry and healthcare are striking. As a game developer, I've had my\n",
      "fair share of high-pressure situations, but nothing compares to the\n",
      "life-or-death stakes in a hospital. However, I think that's what makes\n",
      "the experience so rewarding for both professionals.  In my experience,\n",
      "managing high-profile projects often requires similar skills to\n",
      "managing a critical care unit. You need to stay \n",
      "\n"
     ]
    },
    {
     "name": "stderr",
     "output_type": "stream",
     "text": [
      "100%|██████████| 5/5 [00:21<00:00,  4.24s/it]"
     ]
    },
    {
     "name": "stdout",
     "output_type": "stream",
     "text": [
      "User Moderator posted:\n",
      "User Giannis posted: User Giannis posted: \"I think that's why I love\n",
      "collaborating with healthcare professionals like Emma. The skills we\n",
      "develop in the gaming industry can be surprisingly transferable to the\n",
      "healthcare field. For example, in game development, we often have to\n",
      "think on our feet and make quick decisions under pressure. Similarly,\n",
      "in a hospital, you need to be able to think critically and make\n",
      "decisions rapidly to ensure the best possible outcome for your\n",
      "patients. I've had the opportunity to work \n",
      "\n"
     ]
    },
    {
     "name": "stderr",
     "output_type": "stream",
     "text": [
      "\n"
     ]
    }
   ],
   "source": [
    "MODERATOR_INSTRUCTIONS = \"You are a moderator. Oversee the discussion\"\n",
    "\n",
    "moderator_persona = Persona(\n",
    "    **{\n",
    "        \"username\": \"Moderator\",\n",
    "        \"age\": 41,\n",
    "        \"sex\": \"male\",\n",
    "        \"education_level\": \"PhD\",\n",
    "        \"sexual_orientation\": \"Pansexual\",\n",
    "        \"demographic_group\": \"White\",\n",
    "        \"current_employment\": \"Moderator\",\n",
    "        \"special_instructions\": \"\",\n",
    "        \"personality_characteristics\": [\n",
    "            \"strict\",\n",
    "            \"neutral\",\n",
    "            \"just\",\n",
    "        ],\n",
    "    }\n",
    ")\n",
    "\n",
    "moderator = Actor(\n",
    "    model=llm,\n",
    "    persona=moderator_persona,\n",
    "    actor_type=ActorType.USER,\n",
    "    context=CONTEXT,\n",
    "    instructions=MODERATOR_INSTRUCTIONS\n",
    ")\n",
    "\n",
    "# remember to update this!\n",
    "turn_manager = RoundRobin(\n",
    "    [actor.get_name() for actor in actors] + [moderator.get_name()]\n",
    ")\n",
    "conv = Discussion(\n",
    "    next_turn_manager=turn_manager,\n",
    "    users=actors + [moderator],\n",
    "    moderator=moderator,\n",
    ")\n",
    "conv.begin()"
   ]
  },
  {
   "cell_type": "markdown",
   "metadata": {},
   "source": [
    "### Saving a discussion to the disk\n",
    "\n",
    "It's best practice to save the results of each discussion after it has concluded. This way, no matter what happens to the program executing the discussions, progress will be checkpointed.\n",
    "\n",
    "The `Discussion` class provides a method for saving its logs and related metadata to a JSON file:"
   ]
  },
  {
   "cell_type": "code",
   "execution_count": 8,
   "metadata": {
    "execution": {
     "iopub.execute_input": "2025-04-04T13:18:34.771690Z",
     "iopub.status.busy": "2025-04-04T13:18:34.771521Z",
     "iopub.status.idle": "2025-04-04T13:18:34.776980Z",
     "shell.execute_reply": "2025-04-04T13:18:34.776394Z"
    }
   },
   "outputs": [
    {
     "name": "stdout",
     "output_type": "stream",
     "text": [
      "{\n",
      "  \"id\": \"93ff8ab9-dc79-4ec4-b54e-c1a8baa8a379\",\n",
      "  \"timestamp\": \"25-06-13-11-14\",\n",
      "  \"users\": [\n",
      "    \"Emma35\",\n",
      "    \"Giannis\",\n",
      "    \"Moderator\"\n",
      "  ],\n",
      "  \"moderator\": \"Moderator\",\n",
      "  \"user_prompts\": [\n",
      "    {\n",
      "      \"context\": \"You are taking part in an online conversation\",\n",
      "      \"instructions\": \"Act like a human would\",\n",
      "      \"type\": \"1\",\n",
      "      \"persona\": {\n",
      "        \"username\": \"Emma35\",\n",
      "        \"age\": 38,\n",
      "        \"sex\": \"female\",\n",
      "        \"sexual_orientation\": \"Heterosexual\",\n",
      "        \"demographic_group\": \"Latino\",\n",
      "        \"current_employment\": \"Registered Nurse\",\n",
      "        \"education_level\": \"Bachelor's\",\n",
      "        \"special_instructions\": \"\",\n",
      "        \"personality_characteristics\": [\n",
      "          \"compassionate\",\n",
      "          \"patient\",\n",
      "          \"diligent\",\n",
      "          \"overwhelmed\"\n",
      "        ]\n",
      "      }\n",
      "    },\n",
      "    {\n",
      "      \"context\": \"You are taking part in an online conversation\",\n",
      "      \"instructions\": \"Act like a human would\",\n",
      "      \"type\": \"1\",\n",
      "      \"persona\": {\n",
      "        \"username\": \"Giannis\",\n",
      "        \"age\": 21,\n",
      "        \"sex\": \"male\",\n",
      "        \"sexual_orientation\": \"Pansexual\",\n",
      "        \"demographic_group\": \"White\",\n",
      "        \"current_employment\": \"Game Developer\",\n",
      "        \"education_level\": \"College\",\n",
      "        \"special_instructions\": \"\",\n",
      "        \"personality_characteristics\": [\n",
      "          \"strategic\",\n",
      "          \"meticulous\",\n",
      "          \"nerdy\",\n",
      "          \"hyper-focused\"\n",
      "        ]\n",
      "      }\n",
      "    },\n",
      "    {\n",
      "      \"context\": \"You are taking part in an online conversation\",\n",
      "      \"instructions\": \"You are a moderator. Oversee the discussion\",\n",
      "      \"type\": \"1\",\n",
      "      \"persona\": {\n",
      "        \"username\": \"Moderator\",\n",
      "        \"age\": 41,\n",
      "        \"sex\": \"male\",\n",
      "        \"sexual_orientation\": \"Pansexual\",\n",
      "        \"demographic_group\": \"White\",\n",
      "        \"current_employment\": \"Moderator\",\n",
      "        \"education_level\": \"PhD\",\n",
      "        \"special_instructions\": \"\",\n",
      "        \"personality_characteristics\": [\n",
      "          \"strict\",\n",
      "          \"neutral\",\n",
      "          \"just\"\n",
      "        ]\n",
      "      }\n",
      "    }\n",
      "  ],\n",
      "  \"moderator_prompt\": {\n",
      "    \"context\": \"You are taking part in an online conversation\",\n",
      "    \"instructions\": \"You are a moderator. Oversee the discussion\",\n",
      "    \"type\": \"1\",\n",
      "    \"persona\": {\n",
      "      \"username\": \"Moderator\",\n",
      "      \"age\": 41,\n",
      "      \"sex\": \"male\",\n",
      "      \"sexual_orientation\": \"Pansexual\",\n",
      "      \"demographic_group\": \"White\",\n",
      "      \"current_employment\": \"Moderator\",\n",
      "      \"education_level\": \"PhD\",\n",
      "      \"special_instructions\": \"\",\n",
      "      \"personality_characteristics\": [\n",
      "        \"strict\",\n",
      "        \"neutral\",\n",
      "        \"just\"\n",
      "      ]\n",
      "    }\n",
      "  },\n",
      "  \"ctx_length\": 5,\n",
      "  \"logs\": [\n",
      "    {\n",
      "      \"name\": \"Emma35\",\n",
      "      \"text\": \"\\\"Hey everyone, I just had the craziest shift at the hospital today. We were short-staffed and I had to juggle multiple patients at once. I'm exhausted but grateful for the opportunity to make a difference in my patients' lives. Has anyone else had a tough day at work?\\\"\",\n",
      "      \"model\": \"test_model\"\n",
      "    },\n",
      "    {\n",
      "      \"name\": \"Moderator\",\n",
      "      \"text\": \"\\\"Hi Emma35, I can imagine how challenging it must have been to work with limited staff. It's great that you were able to prioritize your patients' needs and make a positive impact despite the difficulties. Have you worked in a high-pressure environment like a hospital before, or was this a particularly tough shift for you?\\\"\",\n",
      "      \"model\": \"test_model\"\n",
      "    },\n",
      "    {\n",
      "      \"name\": \"Giannis\",\n",
      "      \"text\": \"\\\"Hey Emma, I totally feel for you, I've had my share of crazy shifts in the gaming industry, but I've never had to deal with the high stakes of a hospital environment. I've worked on several high-profile projects, but I can imagine how tough it must be to juggle multiple patients at once. I'm sure it's not just about managing workload, but also about maintaining a calm and composed demeanor under pressure. I've always been meticulous about my work, and I can\",\n",
      "      \"model\": \"test_model\"\n",
      "    },\n",
      "    {\n",
      "      \"name\": \"Moderator\",\n",
      "      \"text\": \"User Moderator posted:\\n\\\"Thank you for sharing your perspective, Giannis. Maintaining a calm and composed demeanor is indeed crucial in high-pressure environments like a hospital. It's great to hear that you've had experience with high-profile projects in the gaming industry, as it can be similar to the high-stakes environment of a hospital. Emma, can you tell us more about what made this particular shift challenging for you? Was there a specific situation that stood out to you, or was it more of\",\n",
      "      \"model\": \"test_model\"\n",
      "    },\n",
      "    {\n",
      "      \"name\": \"Moderator\",\n",
      "      \"text\": \"User Emma35 posted:\\n\\\"Thanks for asking, Giannis and Moderator. To be honest, it was a mix of both. We were short-staffed, and I had to juggle multiple patients at once, as I mentioned earlier. But what really made it challenging was when one of my patients had a code blue and we had to scramble to get him to the operating room. The whole team had to work together to get him stabilized, and it was a really intense moment. But despite\",\n",
      "      \"model\": \"test_model\"\n",
      "    },\n",
      "    {\n",
      "      \"name\": \"Moderator\",\n",
      "      \"text\": \"User Emma35 posted:\\n\\\"it was a really intense moment, but we were able to get him stabilized\\nand he's doing much better now. It's moments like those that remind me\\nof why I love my job. It's not always easy, but it's moments like\\nthose that make it all worth it. Thanks for listening, everyone. I feel\\nlike I can vent to all of you now.\\\"\\n\\nUser Giannis posted:\\n\\\"I'm glad to hear that the patient is doing\",\n",
      "      \"model\": \"test_model\"\n",
      "    },\n",
      "    {\n",
      "      \"name\": \"Emma35\",\n",
      "      \"text\": \"\\\"Thank you so much, Giannis, for your kind words. It means a lot to me. I have to say, it was a really surreal experience, seeing all the staff come together to save that patient. It's moments like those that remind me why I chose to become a nurse in the first place - to make a difference in people's lives. And I think that's what makes this job so rewarding, despite the challenges. I feel grateful to have such a great team behind me\",\n",
      "      \"model\": \"test_model\"\n",
      "    },\n",
      "    {\n",
      "      \"name\": \"Moderator\",\n",
      "      \"text\": \"User Moderator posted:\\n\\\"Thank you, Emma, for sharing your story with us. It's clear that\\nyour dedication to your patients and your team is truly inspiring. It's\\ngreat to see how the gaming industry and healthcare can have parallels,\\nas you mentioned earlier. The teamwork and quick thinking required in\\nboth fields are remarkable. Giannis, your experience with high-profile\\nprojects can indeed provide valuable insights into managing high-pressure\\nsituations. Can you tell us more about what you\",\n",
      "      \"model\": \"test_model\"\n",
      "    },\n",
      "    {\n",
      "      \"name\": \"Giannis\",\n",
      "      \"text\": \"User Giannis posted: \\\"Thanks, Moderator, for the kind words. I completely agree with Emma that the parallels between the gaming industry and healthcare are striking. As a game developer, I've had my fair share of high-pressure situations, but nothing compares to the life-or-death stakes in a hospital. However, I think that's what makes the experience so rewarding for both professionals.\\n\\nIn my experience, managing high-profile projects often requires similar skills to managing a critical care unit. You need to stay\",\n",
      "      \"model\": \"test_model\"\n",
      "    },\n",
      "    {\n",
      "      \"name\": \"Moderator\",\n",
      "      \"text\": \"User Giannis posted:\\nUser Giannis posted: \\\"I think that's why I love collaborating with healthcare professionals like Emma. The skills we develop in the gaming industry can be surprisingly transferable to the healthcare field. For example, in game development, we often have to think on our feet and make quick decisions under pressure. Similarly, in a hospital, you need to be able to think critically and make decisions rapidly to ensure the best possible outcome for your patients. I've had the opportunity to work\",\n",
      "      \"model\": \"test_model\"\n",
      "    }\n",
      "  ]\n",
      "}\n"
     ]
    }
   ],
   "source": [
    "import tempfile\n",
    "import json\n",
    "\n",
    "tp = tempfile.NamedTemporaryFile(delete=True)\n",
    "\n",
    "conv.to_json_file(tp.name)\n",
    "\n",
    "# if you are running this on Windows, uncomment this line\n",
    "# tp.close()\n",
    "with open(tp.name, mode=\"rb\") as f:\n",
    "    print(json.dumps(json.load(f), indent=2))"
   ]
  },
  {
   "cell_type": "markdown",
   "metadata": {},
   "source": [
    "Congratulations, you can now run fully synthetic discussions! You may want to experiment with adding more than 2 users or testing more realistic turn taking procedures (for example, check out the `RandomWeighted` turn manager)."
   ]
  }
 ],
 "metadata": {
  "kernelspec": {
   "display_name": "syndisco-dev",
   "language": "python",
   "name": "python3"
  },
  "language_info": {
   "codemirror_mode": {
    "name": "ipython",
    "version": 3
   },
   "file_extension": ".py",
   "mimetype": "text/x-python",
   "name": "python",
   "nbconvert_exporter": "python",
   "pygments_lexer": "ipython3",
   "version": "3.13.5"
  }
 },
 "nbformat": 4,
 "nbformat_minor": 2
}
