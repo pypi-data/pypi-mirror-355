{
 "cells": [
  {
   "cell_type": "code",
   "execution_count": 1,
   "metadata": {},
   "outputs": [],
   "source": [
    "import pathlib\n",
    "\n",
    "import ee\n",
    "import geopandas as gpd\n",
    "import numpy as np\n",
    "import pandas as pd\n",
    "\n",
    "import agrigee_lite as agl\n",
    "\n",
    "np.set_printoptions(suppress=True)\n",
    "np.set_printoptions(precision=2)\n",
    "pd.set_option('display.float_format', '{:.2f}'.format)\n",
    "\n",
    "# pandas show all columns\n",
    "pd.set_option('display.max_columns', None)\n",
    "\n",
    "%load_ext autoreload\n",
    "%autoreload 2"
   ]
  },
  {
   "cell_type": "code",
   "execution_count": 2,
   "metadata": {},
   "outputs": [],
   "source": [
    "sat = agl.sat.Sentinel2()"
   ]
  },
  {
   "cell_type": "code",
   "execution_count": 3,
   "metadata": {},
   "outputs": [],
   "source": [
    "ee.Initialize(opt_url=\"https://earthengine-highvolume.googleapis.com\", project=\"ee-paulagibrim\")"
   ]
  },
  {
   "cell_type": "code",
   "execution_count": 4,
   "metadata": {},
   "outputs": [],
   "source": [
    "gdf = gpd.read_parquet(\"data/mt_crops.parquet\")\n",
    "\n",
    "gdf[\"start_date\"] = pd.to_datetime(gdf.year.apply(lambda year: f\"{year-1}-10-01\"))\n",
    "gdf[\"end_date\"] = pd.to_datetime(gdf.year.apply(lambda year: f\"{year}-10-01\"))"
   ]
  },
  {
   "cell_type": "code",
   "execution_count": 5,
   "metadata": {},
   "outputs": [],
   "source": [
    "gdf = gdf[gdf.start_date >= sat.startDate].reset_index(drop=True)"
   ]
  },
  {
   "cell_type": "code",
   "execution_count": 6,
   "metadata": {},
   "outputs": [],
   "source": [
    "gdf = gdf[gdf.ha>=6.25].reset_index(drop=True)"
   ]
  },
  {
   "cell_type": "code",
   "execution_count": 7,
   "metadata": {},
   "outputs": [
    {
     "name": "stderr",
     "output_type": "stream",
     "text": [
      "Simplifying clusters: 100%|██████████| 1/1 [00:00<00:00,  1.91it/s]\n",
      "Downloading multiple sits: 100%|██████████| 1000/1000 [02:14<00:00,  7.46it/s]\n"
     ]
    }
   ],
   "source": [
    "df = agl.get.multiple_sits(gdf.iloc[0:1000], sat)"
   ]
  },
  {
   "cell_type": "code",
   "execution_count": 12,
   "metadata": {},
   "outputs": [
    {
     "data": {
      "text/plain": [
       "indexnum              int64\n",
       "timestamp    datetime64[ns]\n",
       "blue                float16\n",
       "green               float16\n",
       "red                 float16\n",
       "re1                 float16\n",
       "re2                 float16\n",
       "re3                 float16\n",
       "nir                 float16\n",
       "re4                 float16\n",
       "swir1               float16\n",
       "swir2               float16\n",
       "dtype: object"
      ]
     },
     "execution_count": 12,
     "metadata": {},
     "output_type": "execute_result"
    }
   ],
   "source": [
    "df.dtypes"
   ]
  },
  {
   "cell_type": "code",
   "execution_count": 10,
   "metadata": {},
   "outputs": [],
   "source": [
    "from tqdm.std import tqdm"
   ]
  },
  {
   "cell_type": "code",
   "execution_count": null,
   "metadata": {},
   "outputs": [
    {
     "name": "stderr",
     "output_type": "stream",
     "text": [
      "100%|██████████| 1000/1000 [00:00<00:00, 2636.31it/s]\n"
     ]
    }
   ],
   "source": [
    "grouped = df.groupby('indexnum')\n",
    "\n",
    "max_seq_len = grouped.size().max()\n",
    "num_samples = len(grouped)\n",
    "num_bands = len(df.columns) - 2\n",
    "\n",
    "X = np.zeros((num_samples, max_seq_len, num_bands), dtype=np.float16)\n",
    "T = np.zeros((num_samples, max_seq_len), dtype='datetime64[D]')\n",
    "\n",
    "for idx, group in tqdm(grouped):\n",
    "    group_sorted = group.sort_values('timestamp')\n",
    "    seq_len = len(group_sorted)\n",
    "\n",
    "    X[idx, :seq_len, :] = group_sorted.drop(columns=['timestamp', 'indexnum']).to_numpy(dtype=np.float16)\n",
    "    T[idx, :seq_len] = group_sorted['timestamp'].to_numpy().astype('datetime64[D]')"
   ]
  },
  {
   "cell_type": "code",
   "execution_count": 24,
   "metadata": {},
   "outputs": [
    {
     "data": {
      "text/plain": [
       "array([['2019-10-04', '2019-10-19', '2019-10-24', ..., '1970-01-01',\n",
       "        '1970-01-01', '1970-01-01'],\n",
       "       ['2020-10-03', '2020-10-08', '2020-10-23', ..., '1970-01-01',\n",
       "        '1970-01-01', '1970-01-01'],\n",
       "       ['2021-10-03', '2021-10-08', '2021-10-13', ..., '1970-01-01',\n",
       "        '1970-01-01', '1970-01-01'],\n",
       "       ...,\n",
       "       ['2020-10-03', '2020-10-08', '2020-10-13', ..., '1970-01-01',\n",
       "        '1970-01-01', '1970-01-01'],\n",
       "       ['2021-10-03', '2021-10-08', '2021-10-13', ..., '1970-01-01',\n",
       "        '1970-01-01', '1970-01-01'],\n",
       "       ['2022-10-03', '2022-10-08', '2022-11-02', ..., '1970-01-01',\n",
       "        '1970-01-01', '1970-01-01']], dtype='datetime64[D]')"
      ]
     },
     "execution_count": 24,
     "metadata": {},
     "output_type": "execute_result"
    }
   ],
   "source": [
    "T"
   ]
  },
  {
   "cell_type": "code",
   "execution_count": 20,
   "metadata": {},
   "outputs": [
    {
     "data": {
      "text/plain": [
       "array(['1970-01-01', '1970-01-01', '1970-01-01', '1970-01-01',\n",
       "       '1970-01-01'], dtype='datetime64[D]')"
      ]
     },
     "execution_count": 20,
     "metadata": {},
     "output_type": "execute_result"
    }
   ],
   "source": [
    "np.zeros(5, dtype='datetime64[D]')"
   ]
  },
  {
   "cell_type": "code",
   "execution_count": null,
   "metadata": {},
   "outputs": [],
   "source": [
    "agl.__version__"
   ]
  },
  {
   "cell_type": "code",
   "execution_count": null,
   "metadata": {},
   "outputs": [],
   "source": [
    "agl.vis.multiple_sits(gdf[gdf.crop_name==\"Soybean\"].sample(10, random_state=42).reset_index(drop=True), \"ndvi\", agl.sat.Sentinel2(bands=[\"red\", \"nir\"]))"
   ]
  },
  {
   "cell_type": "code",
   "execution_count": null,
   "metadata": {},
   "outputs": [],
   "source": [
    "gdf = gdf.sample(10000, random_state=42).reset_index(drop=True)"
   ]
  },
  {
   "cell_type": "code",
   "execution_count": null,
   "metadata": {},
   "outputs": [],
   "source": [
    "agl.get.multiple_sits(gdf, sat, chunksize=1000).sort_values(\"indexnum\", kind=\"stable\")"
   ]
  },
  {
   "cell_type": "code",
   "execution_count": null,
   "metadata": {},
   "outputs": [],
   "source": [
    "agl.get.multiple_sits(gdf.sample(100).reset_index(drop=True), sat, chunksize=1000, reducers=[\"median\", \"std\"])"
   ]
  },
  {
   "cell_type": "code",
   "execution_count": null,
   "metadata": {},
   "outputs": [],
   "source": [
    "row = gdf.iloc[0]\n",
    "agl.vis.sits(row.geometry, row.start_date, row.end_date, agl.sat.Sentinel2(bands=[\"nir\", \"red\"]), \"evi2\")"
   ]
  },
  {
   "cell_type": "code",
   "execution_count": null,
   "metadata": {},
   "outputs": [],
   "source": [
    "print()"
   ]
  },
  {
   "cell_type": "code",
   "execution_count": null,
   "metadata": {},
   "outputs": [],
   "source": [
    "# gdf = gpd.read_parquet(\"data_new/BA.parquet\")\n",
    "\n",
    "# gdf.crop_class.value_counts()"
   ]
  },
  {
   "cell_type": "code",
   "execution_count": null,
   "metadata": {},
   "outputs": [],
   "source": [
    "results = gdf[filter(lambda x: x.startswith(\"s2sr\"), gdf.columns.to_list())]"
   ]
  },
  {
   "cell_type": "code",
   "execution_count": null,
   "metadata": {},
   "outputs": [],
   "source": [
    "from agrigee_lite.misc import wide_to_long_dataframe"
   ]
  },
  {
   "cell_type": "code",
   "execution_count": null,
   "metadata": {},
   "outputs": [],
   "source": [
    "gdf.crop_class.value_counts()"
   ]
  },
  {
   "cell_type": "code",
   "execution_count": null,
   "metadata": {},
   "outputs": [],
   "source": [
    "agl.vis.multiple_sits(gdf[gdf.crop_class==\"Soybean\"].sample(50, random_state=25).reset_index(drop=True), \"evi2\", sat)"
   ]
  },
  {
   "cell_type": "code",
   "execution_count": null,
   "metadata": {},
   "outputs": [],
   "source": [
    "agl.vis.multiple_sits(gdf[gdf.crop_class==\"Sugar Cane\"].sample(50, random_state=25).reset_index(drop=True), \"evi2\", sat)"
   ]
  },
  {
   "cell_type": "code",
   "execution_count": null,
   "metadata": {},
   "outputs": [],
   "source": [
    "agl.vis.multiple_sits(gdf[gdf.crop_class==\"Forest Plantation\"].sample(50, random_state=25).reset_index(drop=True), \"evi2\", sat)"
   ]
  },
  {
   "cell_type": "code",
   "execution_count": null,
   "metadata": {},
   "outputs": [],
   "source": [
    "agl.vis.multiple_sits(gdf[gdf.crop_class==\"Sugar Cane\"].sample(50, random_state=25).reset_index(drop=True), \"evi2\", sat)"
   ]
  },
  {
   "cell_type": "code",
   "execution_count": null,
   "metadata": {},
   "outputs": [],
   "source": [
    "agl.vis.multiple_sits(gdf[gdf.crop_class==\"Other Temporary Crops\"].sample(50, random_state=25).reset_index(drop=True), \"evi2\", sat)"
   ]
  },
  {
   "cell_type": "code",
   "execution_count": null,
   "metadata": {},
   "outputs": [],
   "source": [
    "agl.vis.multiple_sits(gdf[gdf.crop_class==\"Cotton\"].sample(50, random_state=25).reset_index(drop=True), \"evi2\", sat)"
   ]
  },
  {
   "cell_type": "code",
   "execution_count": null,
   "metadata": {},
   "outputs": [],
   "source": [
    "gdf.crop_class.value_counts()"
   ]
  },
  {
   "cell_type": "code",
   "execution_count": null,
   "metadata": {},
   "outputs": [],
   "source": [
    "gdf[gdf.crop_class==\"Sugar Cane\"].sample(1, random_state=42)"
   ]
  },
  {
   "cell_type": "code",
   "execution_count": null,
   "metadata": {},
   "outputs": [],
   "source": [
    "gdf[gdf.crop_class==\"Mosaic of Uses\"].sample(1, random_state=42)"
   ]
  },
  {
   "cell_type": "code",
   "execution_count": null,
   "metadata": {},
   "outputs": [],
   "source": [
    "gdf = gpd.read_parquet(\"data/mt_crops.parquet\")"
   ]
  },
  {
   "cell_type": "code",
   "execution_count": null,
   "metadata": {},
   "outputs": [],
   "source": [
    "gdf.crop_name.value_counts()"
   ]
  },
  {
   "cell_type": "code",
   "execution_count": null,
   "metadata": {},
   "outputs": [],
   "source": [
    "for input_file in pathlib.Path(\"data\").glob(\"*.parquet\"):\n",
    "    gdf = gpd.read_parquet(input_file)\n",
    "    results = agl.get.multiple_sits(gdf, sat, subsampling_max_pixels=1000, initial_concurrency=40)\n",
    "    gdf = gdf.join(results)\n",
    "    gdf.to_parquet(f\"data_new/{gdf.stem}.parquet\")"
   ]
  },
  {
   "cell_type": "code",
   "execution_count": null,
   "metadata": {},
   "outputs": [],
   "source": [
    "gdf = gpd.read_parquet(\"MG_crops.parquet\")\n",
    "\n",
    "gdf.sample(5, random_state=42)"
   ]
  },
  {
   "cell_type": "code",
   "execution_count": null,
   "metadata": {},
   "outputs": [],
   "source": [
    "gdf[\"start_date\"] = pd.to_datetime(gdf[\"start_date\"])\n",
    "gdf[\"end_date\"] = pd.to_datetime(gdf[\"end_date\"])"
   ]
  },
  {
   "cell_type": "code",
   "execution_count": null,
   "metadata": {},
   "outputs": [],
   "source": [
    "sampled_gdf = gdf.sample(250, random_state=42).reset_index(drop=True)\n",
    "\n",
    "results = agl.get.multiple_sits(sampled_gdf, agl.sat.Landsat8(bands=[\"red\"]), date_types=[\"timestamp\"], force_redownload=True)"
   ]
  },
  {
   "cell_type": "code",
   "execution_count": null,
   "metadata": {},
   "outputs": [],
   "source": [
    "sampled_gdf_w_results = sampled_gdf.join(results)"
   ]
  },
  {
   "cell_type": "code",
   "execution_count": null,
   "metadata": {},
   "outputs": [],
   "source": [
    "sampled_gdf_w_results[sampled_gdf_w_results.l8sr_observations==0].ha.max()"
   ]
  }
 ],
 "metadata": {
  "kernelspec": {
   "display_name": ".venv",
   "language": "python",
   "name": "python3"
  },
  "language_info": {
   "codemirror_mode": {
    "name": "ipython",
    "version": 3
   },
   "file_extension": ".py",
   "mimetype": "text/x-python",
   "name": "python",
   "nbconvert_exporter": "python",
   "pygments_lexer": "ipython3",
   "version": "3.11.10"
  }
 },
 "nbformat": 4,
 "nbformat_minor": 2
}
